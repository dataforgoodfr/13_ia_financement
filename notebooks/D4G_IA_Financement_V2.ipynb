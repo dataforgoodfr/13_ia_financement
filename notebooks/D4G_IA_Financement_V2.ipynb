{
  "cells": [
    {
      "cell_type": "markdown",
      "metadata": {
        "id": "_rL6OnLMSF74"
      },
      "source": [
        "# Data for good - Projet demande de financement avec IA"
      ]
    },
    {
      "cell_type": "markdown",
      "metadata": {
        "id": "JFlqvFM3d-xL"
      },
      "source": [
        "## Import des bibliothèques"
      ]
    },
    {
      "cell_type": "code",
      "execution_count": 17,
      "metadata": {
        "id": "qhXiryDLiMS4"
      },
      "outputs": [],
      "source": [
        "from langchain.document_loaders import PyPDFLoader, Docx2txtLoader\n",
        "import os\n",
        "import re\n",
        "\n",
        "from langchain_text_splitters import RecursiveCharacterTextSplitter\n",
        "\n",
        "from langchain_openai import OpenAIEmbeddings\n",
        "from langchain_core.vectorstores import InMemoryVectorStore\n",
        "from langchain import hub\n",
        "from langchain_openai import ChatOpenAI\n",
        "\n",
        "from langchain_core.documents import Document\n",
        "from typing_extensions import List, TypedDict\n",
        "from langgraph.graph import START, StateGraph\n",
        "from langchain_core.prompts import PromptTemplate"
      ]
    },
    {
      "attachments": {},
      "cell_type": "markdown",
      "metadata": {},
      "source": [
        "## Traitement de l 'AAP"
      ]
    },
    {
      "attachments": {},
      "cell_type": "markdown",
      "metadata": {},
      "source": [
        "### Chargement de l AAP"
      ]
    },
    {
      "cell_type": "code",
      "execution_count": 18,
      "metadata": {},
      "outputs": [
        {
          "name": "stdout",
          "output_type": "stream",
          "text": [
            "['1 \\n \\nNote d’intention \\nDate limite de dépôt : 3 avril 2023 \\n \\n \\n \\nIDENTITE DE LA STRUCTURE \\nNom :          \\nAdresse :  \\nTéléphone  Site internet:  \\n \\n \\nPRESENTATION DE LA STRUCTURE \\nRaison d’être / Principales activités : \\nStatut (Association loi 1901, Fondation, autre) :  \\nDate de création :  \\nBudget annuel 2022 :  \\nNombre de collaborateurs :  \\nNombre de bénévoles :  \\nNombre d’adhérents :  \\n \\nCONTACT POUR CET APPEL A PROJETS \\nNom – Prénom :   Fonction :  \\nTéléphone:  E-mail :  \\n \\n \\n \\n<projectQuestion> Quel est le nom du projet ?   </projectQuestion> \\nStructure porteuse du projet \\nLe projet', '2 \\n \\n<projectQuestion> Où a lieu le projet présenté ?  </projectQuestion> \\n \\n \\n<projectQuestion> Présentez le projet en 50 mots</projectQuestion> \\n \\n<projectQuestion>  Quels sont les Objectifs du projet et résultats attendus : </projectQuestion> \\n<projectQuestion> Quels seront les Publics bénéficiaires (profil, nombre et implication dans le projet) : \\n</projectQuestion> \\n \\n<projectQuestion> Quelles principales actions avez-vous prévues ? </projectQuestion> \\n \\n<projectQuestion> Avez-vous des partenaires engagés dans le projet ? </projectQuestion> \\n<projectQuestion> Quelle est la durée estimé de ce projet et calendrier prévisionnel ? \\n</projectQuestion> \\n \\nSUPPORT TECHNIQUE ET FINANCIER SOLLICITE AUPRES DE LA FONDATION ARTELIA \\nCompétences sollicitées : \\n \\nCoût total du projet :  \\nCo-financeurs du projet :  \\nMontant et destination de la subvention sollicitée :', '3 \\n \\n \\n \\n \\n \\n \\n \\n \\n \\n \\nLa note d’intention doit être complétée et envoyée par mail à : fondation@arteliagroup.com \\nNous vous invitons à la compléter le plus précisément possible et nous tenons à votre disposition \\npour répondre à vos questions. \\n \\nRAPPEL DES CRITERES D’ELIGIBILITE : \\n• Le projet doit avoir pour objectif d’agir en faveur d’une transition énergétique \\nsolidaire en luttant contre la précarité énergétique par l’amélioration de l’efficacité \\nénergétique et/ou en favorisant l’accès aux énergies renouvelables et durables aux \\npopulations vulnérables.  \\n• La structure qui porte ou qui parraine le projet doit être européenne.  \\n• La structure qui porte le projet doit poursuivre un but non-lucratif.  \\n• La structure qui porte le projet doit avoir au moins un an d’ancienneté.  \\n• Le démarrage du projet doit intervenir dans l’année qui suit sa sélection.']\n"
          ]
        }
      ],
      "source": [
        "def extract_content_text(file_path):\n",
        "    \"\"\"\n",
        "    Permet d'extraire le contenu d'un fichier PDF ou Word sous forme de liste.\n",
        "    \"\"\"\n",
        "    ext = os.path.splitext(file_path)[-1].lower()\n",
        "    all_pages_content = []\n",
        "    \n",
        "    if ext == \".pdf\":\n",
        "        pdf_loader = PyPDFLoader(file_path)\n",
        "        documents = pdf_loader.load()\n",
        "        all_pages_content = [page.page_content for page in documents]\n",
        "    elif ext == \".docx\":\n",
        "        docx_loader = Docx2txtLoader(file_path)\n",
        "        documents = docx_loader.load()\n",
        "        all_pages_content = [page.page_content for page in documents]\n",
        "    else:\n",
        "        raise ValueError(\"Format de fichier non pris en charge. Veuillez fournir un fichier PDF ou DOCX.\")\n",
        "    \n",
        "    return all_pages_content\n",
        "\n",
        "file_path = \"./Exemple_ESF_P01_AAP3.pdf\" \n",
        "doc_content = extract_content_text(file_path)\n",
        "print(doc_content)"
      ]
    },
    {
      "attachments": {},
      "cell_type": "markdown",
      "metadata": {},
      "source": [
        "### Identification des questions de l'AAP"
      ]
    },
    {
      "cell_type": "code",
      "execution_count": 19,
      "metadata": {},
      "outputs": [
        {
          "name": "stdout",
          "output_type": "stream",
          "text": [
            "1. Quel est le nom du projet ?\n",
            "2. Où a lieu le projet présenté ?\n",
            "3. Présentez le projet en 50 mots\n",
            "4. Quels sont les Objectifs du projet et résultats attendus :\n",
            "5. Quels seront les Publics bénéficiaires (profil, nombre et implication dans le projet) :\n",
            "6. Quelles principales actions avez-vous prévues ?\n",
            "7. Avez-vous des partenaires engagés dans le projet ?\n",
            "8. Quelle est la durée estimé de ce projet et calendrier prévisionnel ?\n"
          ]
        }
      ],
      "source": [
        "def extract_questions(pages_content):\n",
        "  \"\"\" Permet d extraire des listes les questions relatives au projet ou spécifique identifiées par les tag\"\"\"\n",
        "  all_questions = []\n",
        "  for page_content in pages_content:\n",
        "      pattern = r\"<projectQuestion>(.+?)</projectQuestion>\"\n",
        "      questions = re.findall(pattern, page_content, re.DOTALL)\n",
        "      all_questions.extend([q.strip() for q in questions])\n",
        "  return all_questions\n",
        "\n",
        "questions = extract_questions(doc_content)\n",
        "for idx, question in enumerate(questions, 1):\n",
        "    print(f\"{idx}. {question}\")"
      ]
    },
    {
      "attachments": {},
      "cell_type": "markdown",
      "metadata": {},
      "source": [
        "## Traitement du PP"
      ]
    },
    {
      "attachments": {},
      "cell_type": "markdown",
      "metadata": {},
      "source": [
        "### Chargement du PP"
      ]
    },
    {
      "cell_type": "code",
      "execution_count": 5,
      "metadata": {},
      "outputs": [],
      "source": [
        "pdf_path='./Exemple_Fiche projet fictive - scolarite.pdf'\n",
        "loader = PyPDFLoader(pdf_path)\n",
        "docs = loader.load() # nous avons cette fois un format Documents et pas un txt \n"
      ]
    },
    {
      "cell_type": "code",
      "execution_count": 6,
      "metadata": {},
      "outputs": [
        {
          "name": "stdout",
          "output_type": "stream",
          "text": [
            "FICHE PROJET – Lutte contre le décrochage scolaire à Rueil-Malmaison \n",
            "1- Nom du projet :  \n",
            "\"Réussite pour Tous : Accompagnement et Remobilisation Scolaire\" \n",
            "2- Contexte, constat enjeux et du projet : \n",
            "Le décrochage scolaire est un enjeu majeur à Rueil-Malmaison, touchant particulièrement les \n",
            "jeunes issus de milieux socio-économiques défavorisés ou en difficulté d'apprentissage. Selon \n",
            "les données de l'Éducation nationale, une proportion significative d'élèves décrochent avant \n",
            "l'obtention d'un \n"
          ]
        }
      ],
      "source": [
        "print(docs[0].page_content[:500]) # accès au txt avec .page_content"
      ]
    },
    {
      "attachments": {},
      "cell_type": "markdown",
      "metadata": {},
      "source": [
        "### Splitting du PP"
      ]
    },
    {
      "cell_type": "code",
      "execution_count": 7,
      "metadata": {},
      "outputs": [
        {
          "name": "stdout",
          "output_type": "stream",
          "text": [
            "Le document a été splitté en 5 sous documents.\n"
          ]
        }
      ],
      "source": [
        "text_splitter = RecursiveCharacterTextSplitter(\n",
        "    chunk_size=1000,  \n",
        "    chunk_overlap=200, \n",
        "    add_start_index=True,  # track index in original document\n",
        ")\n",
        "all_splits = text_splitter.split_documents(docs)\n",
        "\n",
        "print(f\"Le document a été splitté en {len(all_splits)} sous documents.\")"
      ]
    },
    {
      "attachments": {},
      "cell_type": "markdown",
      "metadata": {},
      "source": [
        "### Définition de l'embedding"
      ]
    },
    {
      "cell_type": "code",
      "execution_count": 8,
      "metadata": {},
      "outputs": [],
      "source": [
        "api_key=os.getenv(\"OPENAI_API_KEY\")"
      ]
    },
    {
      "cell_type": "code",
      "execution_count": 9,
      "metadata": {},
      "outputs": [],
      "source": [
        "embeddings = OpenAIEmbeddings(api_key=api_key)"
      ]
    },
    {
      "attachments": {},
      "cell_type": "markdown",
      "metadata": {},
      "source": [
        "### Définition du vector_store"
      ]
    },
    {
      "cell_type": "code",
      "execution_count": 10,
      "metadata": {},
      "outputs": [],
      "source": [
        "vector_store = InMemoryVectorStore(embeddings)"
      ]
    },
    {
      "attachments": {},
      "cell_type": "markdown",
      "metadata": {},
      "source": [
        "### Ajout des documents au vector_store"
      ]
    },
    {
      "cell_type": "code",
      "execution_count": 11,
      "metadata": {},
      "outputs": [
        {
          "name": "stdout",
          "output_type": "stream",
          "text": [
            "['4bce5398-c56f-4514-8506-da9e744bd894', 'f333bade-a4dd-489d-aa40-7a9762029f4b', 'fd446426-bb3c-4cca-ae5e-bb692518d13c']\n"
          ]
        }
      ],
      "source": [
        "document_ids = vector_store.add_documents(documents=all_splits)\n",
        "\n",
        "print(document_ids[:3])"
      ]
    },
    {
      "attachments": {},
      "cell_type": "markdown",
      "metadata": {},
      "source": [
        "## Mise en place du RAG"
      ]
    },
    {
      "attachments": {},
      "cell_type": "markdown",
      "metadata": {},
      "source": [
        "### Création du prompt template"
      ]
    },
    {
      "cell_type": "code",
      "execution_count": 12,
      "metadata": {},
      "outputs": [
        {
          "name": "stdout",
          "output_type": "stream",
          "text": [
            "You are an assistant for question-answering tasks. Use the following pieces of retrieved context to answer the question. If you don't know the answer, just say that you don't know. Use three sentences maximum and keep the answer concise.\n",
            "Question: (question goes here) \n",
            "Context: (context goes here) \n",
            "Answer:\n"
          ]
        }
      ],
      "source": [
        "# Prompt template disponible sur le hub\n",
        "\n",
        "prompt = hub.pull(\"rlm/rag-prompt\") \n",
        "\n",
        "example_messages = prompt.invoke(\n",
        "    {\"context\": \"(context goes here)\", \"question\": \"(question goes here)\"}\n",
        ").to_messages()\n",
        "\n",
        "assert len(example_messages) == 1\n",
        "print(example_messages[0].content)"
      ]
    },
    {
      "cell_type": "code",
      "execution_count": 22,
      "metadata": {},
      "outputs": [
        {
          "name": "stdout",
          "output_type": "stream",
          "text": [
            "Tu es chargé de projet pour une association. Ta mission est de répondre à des appels à projets. \n",
            "    Tu dois répondre à des (question de l AAP) en utilisant les documents de contexte qui te sont donnés. \n",
            "    Si tu ne connais pas la réponse, dis juste que tu ne sais pas, n'essaye pas de répondre absolument. \n",
            "    Sois clair et précis. \n",
            "\n",
            "    Context : (contexte présenté ici) \n",
            "    Question : (question de l AAP) \n",
            "    Réponse utile :\n",
            "    \n"
          ]
        }
      ],
      "source": [
        "# prompt template personnalisé\n",
        "\n",
        "template = \"\"\"Tu es chargé de projet pour une association. Ta mission est de répondre à des appels à projets. \n",
        "    Tu dois répondre à des {question} en utilisant les documents de contexte qui te sont donnés. \n",
        "    Si tu ne connais pas la réponse, dis juste que tu ne sais pas, n'essaye pas de répondre absolument. \n",
        "    Sois clair et précis. \n",
        "    \n",
        "    Context : {context} \n",
        "    Question : {question} \n",
        "    Réponse utile :\n",
        "    \"\"\"\n",
        "\n",
        "custom_rag_prompt = PromptTemplate.from_template(template)\n",
        "\n",
        "example_response = custom_rag_prompt.format(\n",
        "    context=\"(contexte présenté ici)\", \n",
        "    question=\"(question de l AAP)\"\n",
        ")\n",
        "\n",
        "print(example_response)"
      ]
    },
    {
      "attachments": {},
      "cell_type": "markdown",
      "metadata": {},
      "source": [
        "### Définition du graph et du llm utilisé"
      ]
    },
    {
      "cell_type": "code",
      "execution_count": 13,
      "metadata": {},
      "outputs": [],
      "source": [
        "llm = ChatOpenAI(model=\"gpt-4o-mini\", api_key=api_key)"
      ]
    },
    {
      "cell_type": "code",
      "execution_count": 14,
      "metadata": {},
      "outputs": [],
      "source": [
        "## State\n",
        "\n",
        "class State(TypedDict):\n",
        "    question: str\n",
        "    context: List[Document]\n",
        "    answer: str\n",
        "\n",
        "## Nodes\n",
        "\n",
        "def retrieve(state: State):\n",
        "    retrieved_docs = vector_store.similarity_search(state[\"question\"])\n",
        "    return {\"context\": retrieved_docs}\n",
        "\n",
        "\n",
        "def generate(state: State):\n",
        "    docs_content = \"\\n\\n\".join(doc.page_content for doc in state[\"context\"])\n",
        "    messages = prompt.invoke({\"question\": state[\"question\"], \"context\": docs_content})\n",
        "    response = llm.invoke(messages)\n",
        "    return {\"answer\": response.content}\n",
        "\n",
        "## Control Flow\n",
        "\n",
        "graph_builder = StateGraph(State).add_sequence([retrieve, generate])\n",
        "graph_builder.add_edge(START, \"retrieve\")\n",
        "graph = graph_builder.compile()"
      ]
    },
    {
      "cell_type": "code",
      "execution_count": 15,
      "metadata": {},
      "outputs": [
        {
          "data": {
            "image/png": "[encoded data removed]",
            "text/plain": [
              "<IPython.core.display.Image object>"
            ]
          },
          "metadata": {},
          "output_type": "display_data"
        }
      ],
      "source": [
        "from IPython.display import Image, display\n",
        "\n",
        "display(Image(graph.get_graph().draw_mermaid_png()))"
      ]
    },
    {
      "attachments": {},
      "cell_type": "markdown",
      "metadata": {},
      "source": [
        "### Essai de requête sur le graph"
      ]
    },
    {
      "cell_type": "code",
      "execution_count": 23,
      "metadata": {},
      "outputs": [
        {
          "name": "stdout",
          "output_type": "stream",
          "text": [
            "Context: [Document(id='2b66ce95-ddb9-4372-b025-33184256f29e', metadata={'producer': 'Microsoft: Print To PDF', 'creator': 'PyPDF', 'creationdate': '2025-02-16T12:35:35+01:00', 'author': '', 'moddate': '2025-02-16T12:35:35+01:00', 'title': 'Microsoft Word - Fiche projet fictive - scolarite', 'source': './Exemple_Fiche projet fictive - scolarite.pdf', 'total_pages': 2, 'page': 1, 'page_label': '2', 'start_index': 852}, page_content=\"scolaires, missions locales et entreprises pour proposer des parcours adaptés aux \\njeunes. \\n6- Bénéficiaires du projet : \\n\\uf0b7 Public cible : Jeunes de 12 à 18 ans identifiés comme étant en situation de décrochage \\nscolaire ou en risque de décrochage. \\n\\uf0b7 Bénéficiaires indirects : Familles des jeunes accompagnés, établissements scolaires \\net enseignants, entreprises et acteurs locaux bénéficiant d'une main-d'œuvre mieux \\nformée et insérée. \\nCe projet vise à redonner confiance aux jeunes en difficulté, à leur offrir un cadre structurant \\net bienveillant, et à leur permettre de trouver leur voie vers une formation ou un emploi.\"), Document(id='e25fe865-ecd7-4702-803d-fb85e16c3df8', metadata={'producer': 'Microsoft: Print To PDF', 'creator': 'PyPDF', 'creationdate': '2025-02-16T12:35:35+01:00', 'author': '', 'moddate': '2025-02-16T12:35:35+01:00', 'title': 'Microsoft Word - Fiche projet fictive - scolarite', 'source': './Exemple_Fiche projet fictive - scolarite.pdf', 'total_pages': 2, 'page': 1, 'page_label': '2', 'start_index': 0}, page_content=\"5- Descriptif des activités du projet : \\n\\uf0b7 Ateliers de remobilisation scolaire : Séances de coaching en motivation, gestion du \\nstress et méthodologie de travail. \\n\\uf0b7 scolaire personnalisé : Accompagnement dans les matières fondamentales pour \\nrenforcer les acquis et rattraper le retard. \\n\\uf0b7 Mentorat et tutorat : Mise en relation avec des mentors (étudiants, professionnels) \\npour suivre et encourager les jeunes dans leur parcours. \\n\\uf0b7 Stages et immersions professionnelles : Découverte de métiers et mise en place de \\nstages pour favoriser l'orientation et la projection vers un avenir professionnel. \\n\\uf0b7 Actions de sensibilisation et implication des familles : Réunions d'échanges, \\naccompagnement parental et sensibilisation aux enjeux du décrochage scolaire. \\n\\uf0b7 Mise en réseau avec les acteurs locaux : Travail collaboratif avec les établissements \\nscolaires, missions locales et entreprises pour proposer des parcours adaptés aux \\njeunes. \\n6- Bénéficiaires du projet :\"), Document(id='fd446426-bb3c-4cca-ae5e-bb692518d13c', metadata={'producer': 'Microsoft: Print To PDF', 'creator': 'PyPDF', 'creationdate': '2025-02-16T12:35:35+01:00', 'author': '', 'moddate': '2025-02-16T12:35:35+01:00', 'title': 'Microsoft Word - Fiche projet fictive - scolarite', 'source': './Exemple_Fiche projet fictive - scolarite.pdf', 'total_pages': 2, 'page': 0, 'page_label': '1', 'start_index': 1635}, page_content=\"projet d'avenir. \\n\\uf0b7 Impliquer les familles et les établissements scolaires pour un suivi renforcé et \\ncoordonné. \\n\\uf0b7 Développer des partenariats avec des acteurs locaux (entreprises, associations, \\nétablissements scolaires) pour faciliter l'intégration des jeunes en rupture scolaire. \\n4- Moyennes affectées au projet : \\n\\uf0b7 Ressources humaines : Une équipe pluridisciplinaire composée de professeurs \\nbénévoles, d'éducateurs spécialisés, de psychologues scolaires et de mentors issus du \\nmonde professionnel. \\n\\uf0b7 Ressources matérielles : Mise à disposition de locaux pour les ateliers et séances de \\ntutorat, outils pédagogiques et numériques, documentation pour l'orientation. \\n\\uf0b7 Moyens financiers : Subventions publiques et privées, contributions des partenaires \\nlocaux et mécènes. \\n\\uf0b7 Moyens logistiques : Organisation de transports pour les jeunes éloignés des lieux \\nd'accompagnement.\"), Document(id='4bce5398-c56f-4514-8506-da9e744bd894', metadata={'producer': 'Microsoft: Print To PDF', 'creator': 'PyPDF', 'creationdate': '2025-02-16T12:35:35+01:00', 'author': '', 'moddate': '2025-02-16T12:35:35+01:00', 'title': 'Microsoft Word - Fiche projet fictive - scolarite', 'source': './Exemple_Fiche projet fictive - scolarite.pdf', 'total_pages': 2, 'page': 0, 'page_label': '1', 'start_index': 0}, page_content='FICHE PROJET – Lutte contre le décrochage scolaire à Rueil-Malmaison \\n1- Nom du projet :  \\n\"Réussite pour Tous : Accompagnement et Remobilisation Scolaire\" \\n2- Contexte, constat enjeux et du projet : \\nLe décrochage scolaire est un enjeu majeur à Rueil-Malmaison, touchant particulièrement les \\njeunes issus de milieux socio-économiques défavorisés ou en difficulté d\\'apprentissage. Selon \\nles données de l\\'Éducation nationale, une proportion significative d\\'élèves décrochent avant \\nl\\'obtention d\\'un diplôme, compromettant leur insertion professionnelle et sociale. \\nLes causes du décrochage sont multiples : manque de motivation, difficultés familiales, \\ntroubles de l\\'apprentissage, ou encore un sentiment d\\'échec répété. Face à ce constat, il est \\nessentiel de proposer des solutions adaptées pour remobiliser ces jeunes et leur offrir des \\nperspectives d\\'avenir. \\nL\\'enjeu de ce projet est donc de prévenir et réduire le décrochage scolaire en mettant en place')]\n",
            "\n",
            "\n",
            "Answer: Le projet se déroule à Rueil-Malmaison. Il vise à lutter contre le décrochage scolaire des jeunes de 12 à 18 ans dans cette localité. Des activités variées sont mises en place en collaboration avec les établissements scolaires et les acteurs locaux.\n"
          ]
        }
      ],
      "source": [
        "result = graph.invoke({\"question\": \"Où se passe le projet?\"})\n",
        "\n",
        "print(f'Context: {result[\"context\"]}\\n\\n')\n",
        "print(f'Answer: {result[\"answer\"]}')"
      ]
    },
    {
      "cell_type": "code",
      "execution_count": 25,
      "metadata": {},
      "outputs": [
        {
          "name": "stdout",
          "output_type": "stream",
          "text": [
            "Answer: Ce projet bénéficiera principalement aux jeunes de 12 à 18 ans en situation de décrochage scolaire ou à risque de l'être. Les familles de ces jeunes, ainsi que les établissements scolaires et les entreprises locales, tireront également profit d'une main-d'œuvre mieux formée et intégrée. L'objectif est de redonner confiance aux jeunes en difficulté et de les orienter vers des formations ou un emploi.\n"
          ]
        }
      ],
      "source": [
        "result2 = graph.invoke({\"question\": \"A qui va bénéficier ce projet?\"})\n",
        "\n",
        "print(f'Answer: {result2[\"answer\"]}')"
      ]
    },
    {
      "cell_type": "code",
      "execution_count": 28,
      "metadata": {},
      "outputs": [
        {
          "name": "stdout",
          "output_type": "stream",
          "text": [
            "1. Quel est le nom du projet ?\n",
            "Answer: Le nom du projet est \"Réussite pour Tous : Accompagnement et Remobilisation Scolaire\".\n",
            "2. Où a lieu le projet présenté ?\n",
            "Answer: Le projet présenté a lieu à Rueil-Malmaison. Il vise à réduire le taux de décrochage scolaire en proposant un accompagnement aux jeunes en difficulté. Les activités incluent des ateliers de remobilisation, du mentorat, et des stages professionnels.\n",
            "3. Présentez le projet en 50 mots\n",
            "Answer: Le projet vise à prévenir le décrochage scolaire chez les jeunes de 12 à 18 ans en proposant un accompagnement personnalisé. Cela inclut des ateliers de remobilisation, du mentorat, des immersions professionnelles et l'implication des familles et des acteurs locaux. L'objectif est de renforcer la confiance en soi et d'orienter les jeunes vers la réussite éducative et professionnelle.\n",
            "4. Quels sont les Objectifs du projet et résultats attendus :\n",
            "Answer: Les objectifs du projet sont de réduire le taux de décrochage scolaire à Rueil-Malmaison en offrant un accompagnement personnalisé aux jeunes en difficulté, en renforçant leur motivation, et en impliquant les familles et les établissements scolaires. Les résultats attendus incluent la réussite éducative et l'insertion professionnelle des jeunes, ainsi que le développement de partenariats locaux pour soutenir ces initiatives. Ce projet vise à redonner confiance aux jeunes et à les orienter vers des solutions d'avenir adaptées.\n",
            "5. Quels seront les Publics bénéficiaires (profil, nombre et implication dans le projet) :\n",
            "Answer: Les publics bénéficiaires du projet incluent principalement les jeunes de 12 à 18 ans en situation de décrochage scolaire ou à risque de l'être. En plus des bénéficiaires directs, les familles des jeunes, les établissements scolaires, les enseignants, ainsi que les entreprises locales, profitent indirectement de ce projet. L'implication des familles et des acteurs locaux est également essentielle pour un suivi et un accompagnement coordonné.\n",
            "6. Quelles principales actions avez-vous prévues ?\n",
            "Answer: Les principales actions prévues incluent des ateliers de remobilisation scolaire, un accompagnement personnalisé dans les matières fondamentales, et des stages pour favoriser l'orientation professionnelle. De plus, le projet prévoit la mise en place de mentorat et de tutorat, ainsi que des actions de sensibilisation pour impliquer les familles. Enfin, un travail collaboratif avec des acteurs locaux sera réalisé pour proposer des parcours adaptés aux jeunes.\n",
            "7. Avez-vous des partenaires engagés dans le projet ?\n",
            "Answer: Oui, le projet prévoit de développer des partenariats avec des acteurs locaux tels que des entreprises, des associations et des établissements scolaires. Ces collaborations visent à faciliter l'intégration des jeunes en rupture scolaire. Les ressources financières et logistiques du projet dépendent également de ces partenaires engagés.\n",
            "8. Quelle est la durée estimé de ce projet et calendrier prévisionnel ?\n",
            "Answer: La durée estimée de ce projet n'est pas précisée dans le contexte fourni. Il vise à réduire le décrochage scolaire et à accompagner les jeunes vers la réussite éducative et l'insertion professionnelle. Les activités incluent des ateliers, du mentorat et des stages, mais sans calendrier prévisionnel mentionné.\n"
          ]
        }
      ],
      "source": [
        "for idx, question in enumerate(questions, 1):\n",
        "    print(f\"{idx}. {question}\")\n",
        "    print(f'Answer: {graph.invoke({\"question\": question})[\"answer\"]}')"
      ]
    },
    {
      "attachments": {},
      "cell_type": "markdown",
      "metadata": {},
      "source": [
        "### Compléments"
      ]
    },
    {
      "cell_type": "code",
      "execution_count": 48,
      "metadata": {},
      "outputs": [
        {
          "name": "stdout",
          "output_type": "stream",
          "text": [
            "{'retrieve': {'context': [Document(id='fbb51a4c-9873-40aa-8e06-d565e7887c70', metadata={'producer': 'Microsoft: Print To PDF', 'creator': 'PyPDF', 'creationdate': '2025-02-16T12:35:35+01:00', 'author': '', 'moddate': '2025-02-16T12:35:35+01:00', 'title': 'Microsoft Word - Fiche projet fictive - scolarite', 'source': './Exemple_Fiche projet fictive - scolarite.pdf', 'total_pages': 2, 'page': 1, 'page_label': '2', 'start_index': 852}, page_content=\"scolaires, missions locales et entreprises pour proposer des parcours adaptés aux \\njeunes. \\n6- Bénéficiaires du projet : \\n\\uf0b7 Public cible : Jeunes de 12 à 18 ans identifiés comme étant en situation de décrochage \\nscolaire ou en risque de décrochage. \\n\\uf0b7 Bénéficiaires indirects : Familles des jeunes accompagnés, établissements scolaires \\net enseignants, entreprises et acteurs locaux bénéficiant d'une main-d'œuvre mieux \\nformée et insérée. \\nCe projet vise à redonner confiance aux jeunes en difficulté, à leur offrir un cadre structurant \\net bienveillant, et à leur permettre de trouver leur voie vers une formation ou un emploi.\"), Document(id='c98d4112-3da4-4e4f-945c-f5e213d42a0f', metadata={'producer': 'Microsoft: Print To PDF', 'creator': 'PyPDF', 'creationdate': '2025-02-16T12:35:35+01:00', 'author': '', 'moddate': '2025-02-16T12:35:35+01:00', 'title': 'Microsoft Word - Fiche projet fictive - scolarite', 'source': './Exemple_Fiche projet fictive - scolarite.pdf', 'total_pages': 2, 'page': 1, 'page_label': '2', 'start_index': 0}, page_content=\"5- Descriptif des activités du projet : \\n\\uf0b7 Ateliers de remobilisation scolaire : Séances de coaching en motivation, gestion du \\nstress et méthodologie de travail. \\n\\uf0b7 scolaire personnalisé : Accompagnement dans les matières fondamentales pour \\nrenforcer les acquis et rattraper le retard. \\n\\uf0b7 Mentorat et tutorat : Mise en relation avec des mentors (étudiants, professionnels) \\npour suivre et encourager les jeunes dans leur parcours. \\n\\uf0b7 Stages et immersions professionnelles : Découverte de métiers et mise en place de \\nstages pour favoriser l'orientation et la projection vers un avenir professionnel. \\n\\uf0b7 Actions de sensibilisation et implication des familles : Réunions d'échanges, \\naccompagnement parental et sensibilisation aux enjeux du décrochage scolaire. \\n\\uf0b7 Mise en réseau avec les acteurs locaux : Travail collaboratif avec les établissements \\nscolaires, missions locales et entreprises pour proposer des parcours adaptés aux \\njeunes. \\n6- Bénéficiaires du projet :\"), Document(id='18f89504-6c8f-4bf5-b880-87982fd364cc', metadata={'producer': 'Microsoft: Print To PDF', 'creator': 'PyPDF', 'creationdate': '2025-02-16T12:35:35+01:00', 'author': '', 'moddate': '2025-02-16T12:35:35+01:00', 'title': 'Microsoft Word - Fiche projet fictive - scolarite', 'source': './Exemple_Fiche projet fictive - scolarite.pdf', 'total_pages': 2, 'page': 0, 'page_label': '1', 'start_index': 1635}, page_content=\"projet d'avenir. \\n\\uf0b7 Impliquer les familles et les établissements scolaires pour un suivi renforcé et \\ncoordonné. \\n\\uf0b7 Développer des partenariats avec des acteurs locaux (entreprises, associations, \\nétablissements scolaires) pour faciliter l'intégration des jeunes en rupture scolaire. \\n4- Moyennes affectées au projet : \\n\\uf0b7 Ressources humaines : Une équipe pluridisciplinaire composée de professeurs \\nbénévoles, d'éducateurs spécialisés, de psychologues scolaires et de mentors issus du \\nmonde professionnel. \\n\\uf0b7 Ressources matérielles : Mise à disposition de locaux pour les ateliers et séances de \\ntutorat, outils pédagogiques et numériques, documentation pour l'orientation. \\n\\uf0b7 Moyens financiers : Subventions publiques et privées, contributions des partenaires \\nlocaux et mécènes. \\n\\uf0b7 Moyens logistiques : Organisation de transports pour les jeunes éloignés des lieux \\nd'accompagnement.\"), Document(id='12a4d011-d08d-42b7-b14e-896f6ca76d84', metadata={'producer': 'Microsoft: Print To PDF', 'creator': 'PyPDF', 'creationdate': '2025-02-16T12:35:35+01:00', 'author': '', 'moddate': '2025-02-16T12:35:35+01:00', 'title': 'Microsoft Word - Fiche projet fictive - scolarite', 'source': './Exemple_Fiche projet fictive - scolarite.pdf', 'total_pages': 2, 'page': 0, 'page_label': '1', 'start_index': 0}, page_content='FICHE PROJET – Lutte contre le décrochage scolaire à Rueil-Malmaison \\n1- Nom du projet :  \\n\"Réussite pour Tous : Accompagnement et Remobilisation Scolaire\" \\n2- Contexte, constat enjeux et du projet : \\nLe décrochage scolaire est un enjeu majeur à Rueil-Malmaison, touchant particulièrement les \\njeunes issus de milieux socio-économiques défavorisés ou en difficulté d\\'apprentissage. Selon \\nles données de l\\'Éducation nationale, une proportion significative d\\'élèves décrochent avant \\nl\\'obtention d\\'un diplôme, compromettant leur insertion professionnelle et sociale. \\nLes causes du décrochage sont multiples : manque de motivation, difficultés familiales, \\ntroubles de l\\'apprentissage, ou encore un sentiment d\\'échec répété. Face à ce constat, il est \\nessentiel de proposer des solutions adaptées pour remobiliser ces jeunes et leur offrir des \\nperspectives d\\'avenir. \\nL\\'enjeu de ce projet est donc de prévenir et réduire le décrochage scolaire en mettant en place')]}}\n",
            "\n",
            "----------------\n",
            "\n",
            "{'generate': {'answer': 'The project takes place in Rueil-Malmaison. It focuses on addressing school dropout issues among local youth aged 12 to 18. The initiative involves collaboration with local schools, businesses, and community actors.'}}\n",
            "\n",
            "----------------\n",
            "\n"
          ]
        }
      ],
      "source": [
        "# Stream steps\n",
        "\n",
        "for step in graph.stream(\n",
        "    {\"question\": \"Where does the project take place?\"}, stream_mode=\"updates\"\n",
        "):\n",
        "    print(f\"{step}\\n\\n----------------\\n\")"
      ]
    },
    {
      "cell_type": "code",
      "execution_count": 49,
      "metadata": {},
      "outputs": [
        {
          "name": "stdout",
          "output_type": "stream",
          "text": [
            "|The| project| takes| place| in| R|ueil|-M|alma|ison|.| It| aims| to| address| the| issue| of| school| dropout| among| young| people| in| that| area|.| Activities| include| workshops|,| mentorship|,| and| partnerships| with| local| schools| and| businesses|.||"
          ]
        }
      ],
      "source": [
        "# Stream tokens\n",
        "\n",
        "for message, metadata in graph.stream(\n",
        "    {\"question\": \"Where does the project take place?\"}, stream_mode=\"messages\"\n",
        "):\n",
        "    print(message.content, end=\"|\")"
      ]
    }
  ],
  "metadata": {
    "accelerator": "GPU",
    "colab": {
      "gpuType": "T4",
      "provenance": []
    },
    "kernelspec": {
      "display_name": "Python 3",
      "name": "python3"
    },
    "language_info": {
      "codemirror_mode": {
        "name": "ipython",
        "version": 3
      },
      "file_extension": ".py",
      "mimetype": "text/x-python",
      "name": "python",
      "nbconvert_exporter": "python",
      "pygments_lexer": "ipython3",
      "version": "3.11.2"
    }
  },
  "nbformat": 4,
  "nbformat_minor": 0
}
