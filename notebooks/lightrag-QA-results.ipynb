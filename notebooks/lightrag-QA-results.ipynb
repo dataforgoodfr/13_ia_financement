{
 "cells": [
  {
   "cell_type": "code",
   "execution_count": 1,
   "metadata": {},
   "outputs": [
    {
     "data": {
      "text/html": [
       "<div>\n",
       "<style scoped>\n",
       "    .dataframe tbody tr th:only-of-type {\n",
       "        vertical-align: middle;\n",
       "    }\n",
       "\n",
       "    .dataframe tbody tr th {\n",
       "        vertical-align: top;\n",
       "    }\n",
       "\n",
       "    .dataframe thead th {\n",
       "        text-align: right;\n",
       "    }\n",
       "</style>\n",
       "<table border=\"1\" class=\"dataframe\">\n",
       "  <thead>\n",
       "    <tr style=\"text-align: right;\">\n",
       "      <th></th>\n",
       "      <th>enhanced_question</th>\n",
       "      <th>answer</th>\n",
       "      <th>mode</th>\n",
       "      <th>eval_score_llm</th>\n",
       "      <th>exec_time</th>\n",
       "    </tr>\n",
       "  </thead>\n",
       "  <tbody>\n",
       "    <tr>\n",
       "      <th>0</th>\n",
       "      <td>What is the description of the project?</td>\n",
       "      <td>## Project Description\\n\\nThe **Mangrove Resto...</td>\n",
       "      <td>naive</td>\n",
       "      <td>7</td>\n",
       "      <td>0.000358</td>\n",
       "    </tr>\n",
       "    <tr>\n",
       "      <th>1</th>\n",
       "      <td>What is the specific country and city where th...</td>\n",
       "      <td>## Project Location\\n\\nThe project, titled MAH...</td>\n",
       "      <td>naive</td>\n",
       "      <td>7</td>\n",
       "      <td>0.000681</td>\n",
       "    </tr>\n",
       "    <tr>\n",
       "      <th>2</th>\n",
       "      <td>Who are the target beneficiaries of the project?</td>\n",
       "      <td>### Target Beneficiaries of the Project\\n\\nThe...</td>\n",
       "      <td>naive</td>\n",
       "      <td>8</td>\n",
       "      <td>0.000632</td>\n",
       "    </tr>\n",
       "    <tr>\n",
       "      <th>3</th>\n",
       "      <td>How many people are impacted by the project?</td>\n",
       "      <td>### Impacted Beneficiaries of the Project\\n\\nT...</td>\n",
       "      <td>naive</td>\n",
       "      <td>8</td>\n",
       "      <td>0.000618</td>\n",
       "    </tr>\n",
       "    <tr>\n",
       "      <th>4</th>\n",
       "      <td>What is the context, environment, rationale, a...</td>\n",
       "      <td>### Context\\nThe project is focused on the Del...</td>\n",
       "      <td>naive</td>\n",
       "      <td>6</td>\n",
       "      <td>7.941240</td>\n",
       "    </tr>\n",
       "  </tbody>\n",
       "</table>\n",
       "</div>"
      ],
      "text/plain": [
       "                                   enhanced_question  \\\n",
       "0            What is the description of the project?   \n",
       "1  What is the specific country and city where th...   \n",
       "2   Who are the target beneficiaries of the project?   \n",
       "3       How many people are impacted by the project?   \n",
       "4  What is the context, environment, rationale, a...   \n",
       "\n",
       "                                              answer   mode  eval_score_llm  \\\n",
       "0  ## Project Description\\n\\nThe **Mangrove Resto...  naive               7   \n",
       "1  ## Project Location\\n\\nThe project, titled MAH...  naive               7   \n",
       "2  ### Target Beneficiaries of the Project\\n\\nThe...  naive               8   \n",
       "3  ### Impacted Beneficiaries of the Project\\n\\nT...  naive               8   \n",
       "4  ### Context\\nThe project is focused on the Del...  naive               6   \n",
       "\n",
       "   exec_time  \n",
       "0   0.000358  \n",
       "1   0.000681  \n",
       "2   0.000632  \n",
       "3   0.000618  \n",
       "4   7.941240  "
      ]
     },
     "execution_count": 1,
     "metadata": {},
     "output_type": "execute_result"
    }
   ],
   "source": [
    "import pandas as pd\n",
    "\n",
    "df=pd.read_csv(\"./rag-mahakam-lightrag.csv\")\n",
    "\n",
    "df.head()"
   ]
  },
  {
   "cell_type": "code",
   "execution_count": 2,
   "metadata": {},
   "outputs": [
    {
     "data": {
      "text/html": [
       "<div>\n",
       "<style scoped>\n",
       "    .dataframe tbody tr th:only-of-type {\n",
       "        vertical-align: middle;\n",
       "    }\n",
       "\n",
       "    .dataframe tbody tr th {\n",
       "        vertical-align: top;\n",
       "    }\n",
       "\n",
       "    .dataframe thead th {\n",
       "        text-align: right;\n",
       "    }\n",
       "</style>\n",
       "<table border=\"1\" class=\"dataframe\">\n",
       "  <thead>\n",
       "    <tr style=\"text-align: right;\">\n",
       "      <th></th>\n",
       "      <th>eval_score_llm</th>\n",
       "    </tr>\n",
       "    <tr>\n",
       "      <th>mode</th>\n",
       "      <th></th>\n",
       "    </tr>\n",
       "  </thead>\n",
       "  <tbody>\n",
       "    <tr>\n",
       "      <th>global</th>\n",
       "      <td>5.000000</td>\n",
       "    </tr>\n",
       "    <tr>\n",
       "      <th>hybrid</th>\n",
       "      <td>6.285714</td>\n",
       "    </tr>\n",
       "    <tr>\n",
       "      <th>local</th>\n",
       "      <td>6.857143</td>\n",
       "    </tr>\n",
       "    <tr>\n",
       "      <th>mix</th>\n",
       "      <td>6.857143</td>\n",
       "    </tr>\n",
       "    <tr>\n",
       "      <th>naive</th>\n",
       "      <td>6.857143</td>\n",
       "    </tr>\n",
       "  </tbody>\n",
       "</table>\n",
       "</div>"
      ],
      "text/plain": [
       "        eval_score_llm\n",
       "mode                  \n",
       "global        5.000000\n",
       "hybrid        6.285714\n",
       "local         6.857143\n",
       "mix           6.857143\n",
       "naive         6.857143"
      ]
     },
     "execution_count": 2,
     "metadata": {},
     "output_type": "execute_result"
    }
   ],
   "source": [
    "df.groupby(\"mode\").agg({\"eval_score_llm\": \"mean\"})"
   ]
  },
  {
   "cell_type": "code",
   "execution_count": 8,
   "metadata": {},
   "outputs": [
    {
     "name": "stdout",
     "output_type": "stream",
     "text": [
      "Mode: naive\n",
      "Eval score: 6\n",
      "Mode: local\n",
      "Eval score: 6\n",
      "Mode: global\n",
      "Eval score: 7\n",
      "Mode: hybrid\n",
      "Eval score: 7\n",
      "Mode: mix\n",
      "Eval score: 6\n"
     ]
    }
   ],
   "source": [
    "for mode in df[\"mode\"].unique():\n",
    "    row=(df[df[\"mode\"]==mode].reset_index().loc[4])\n",
    "    print(f\"Mode: {mode}\")\n",
    "    print(f\"\"\"Eval score: {row[\"eval_score_llm\"]}\"\"\")"
   ]
  }
 ],
 "metadata": {
  "kernelspec": {
   "display_name": "lightrag_env",
   "language": "python",
   "name": "python3"
  },
  "language_info": {
   "codemirror_mode": {
    "name": "ipython",
    "version": 3
   },
   "file_extension": ".py",
   "mimetype": "text/x-python",
   "name": "python",
   "nbconvert_exporter": "python",
   "pygments_lexer": "ipython3",
   "version": "3.11.11"
  }
 },
 "nbformat": 4,
 "nbformat_minor": 2
}
