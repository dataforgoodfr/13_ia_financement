{
 "cells": [
  {
   "cell_type": "markdown",
   "metadata": {},
   "source": [
    "# Notebook pour l'implémentation d'une première pipeline"
   ]
  },
  {
   "cell_type": "markdown",
   "metadata": {},
   "source": [
    "Le but de ce notebook est de faire une première pipeline qui, à partir d'un ensemble typique de documents, génère la demande de financements souhaitée."
   ]
  },
  {
   "cell_type": "markdown",
   "metadata": {},
   "source": []
  },
  {
   "cell_type": "markdown",
   "metadata": {},
   "source": [
    "## Load documents"
   ]
  },
  {
   "cell_type": "code",
   "execution_count": null,
   "metadata": {},
   "outputs": [],
   "source": [
    "# Here, load the documents in python\n",
    "# Function to read the questions inside files with .docx extension contained in a folder\n",
    "def Read_Questions_From_docx (PathFolderSource, PathForOutputsAndLogs):\n",
    "# This program reads the content of files with .docx extension contained in a folder\n",
    "# It uses python-docx 1.1.2 to manipulate Word documents : .docx only but not .doc so you need first to type \"pip install python-docx\" in your terminal\n",
    "# It identifies the questions for AI from the other information by looking for the tag \"SQAI \" at the beginning of the question\n",
    "# and for the tag \"EQAI\" at the end of the question (a question can have several paragraphs)\n",
    "# SQAI stands for Start of the Question for AI and EQAI stands for End of the Question for AI\n",
    "# The ouptput of this function is double :\n",
    "# 1°) return a dictionary containing the questions for AI : Key= \"NameOfFile - Question Number\" and Value = Text of the question\n",
    "# 2°) create in a folder a new version of each document that has been read, where below each question,\n",
    "#  is added the same Key \"NameOfFile - Question Number\"\n",
    "# After the answers are created, It will allow to insert the answers at the right place just below the corresponding question in the documents\n",
    "# The user will then be able to see and modify in each document the original question and the answer given by the AI\n",
    "# The function also logs errors in a file named \"logs-IA_for_Asso.txt\" in the folder \"PathForOutputsAndLogs\"\n",
    "\n",
    "\n",
    "    #activate logging of errors in a txt file\n",
    "    from datetime import datetime\n",
    "    import logging\n",
    "    logging.basicConfig(filename=PathForOutputsAndLogs + r'/logs-IA_for_Asso.txt')\n",
    "\n",
    "    #Create a list of path to all the files (no hidden files) contained in the folder “PathFolderSource” \n",
    "    import glob\n",
    "    FilesWithPath = []\n",
    "    for file in glob.glob(PathFolderSource +'*.*'):\n",
    "        FilesWithPath.append(file)\n",
    "\n",
    "    ItIsAQuestion = False # Tag that indicates if the current paragraph is inside a question for AI\n",
    "    QuestionNumber = 0 # Number of the question for AI\n",
    "    TheTextofTheQuestion = '' # Text of a question for AI\n",
    "    DictQuestions = {} #initialise the dictionnary of questions\n",
    "    # read content of the files, only if they are .docx (extension to other file types possible with the match - case)\n",
    "    for file in FilesWithPath:\n",
    "        TheExtension = file [-4:] \n",
    "        match TheExtension:\n",
    "            case 'docx':\n",
    "                try:\n",
    "                    f = open(file, 'rb')\n",
    "                    document = Document(f)\n",
    "                    NameOfDocument = file.split('/')[-1] # Name of the file without the path will be used in the Key of the dictionnary\n",
    "                    for docpara in document.paragraphs:\n",
    "                        if (docpara.text != ''): # we don't want to add empty paragraphs\n",
    "                            if(docpara.text[:4]=='SQAI'): # if first characters are \"SQAI\", then it is the start of a question for AI\n",
    "                                ItIsAQuestion = True\n",
    "                                TheTextofTheQuestion = docpara.text[4:]# eliminate the 4 first characters which are the TAG \"SQAI\"\n",
    "                            else:\n",
    "                                if (ItIsAQuestion): # if we are inside a question\n",
    "                                    TheTextofTheQuestion = TheTextofTheQuestion + \". \"+ docpara.text\n",
    "                            if (docpara.text[-4:]=='EQAI'): # if the end of the paragraph is EQAI, then it is the end of the question\n",
    "                                ItIsAQuestion = False\n",
    "                                TheTextofTheQuestion = TheTextofTheQuestion[:-4]# eliminate the 4 last characters which are the TAG \"EQAI\"\n",
    "                                QuestionNumber += 1\n",
    "                                QuestionUI = NameOfDocument + ' - ' + str(QuestionNumber)\n",
    "                                DictQuestions[QuestionUI] = TheTextofTheQuestion #add the question to the dictionary with a Unique ID\n",
    "                                docpara.text = docpara.text + '\\n' + QuestionUI\n",
    "                                #TO DO AFTER : manager les infos entre les questions si on doit les fournir à l'IA\n",
    "                                #TO DO AFTER : dans un dictionaire de complément d'infos\n",
    "                                #TO DO AFTER : Gérer les numérotations indentées qui sous-divisent les questions ?\n",
    "                                #TO DO AFTER : Gérer les tableaux ?\n",
    "                                #TO DO AFTER : Gérer la résistance à l'erreur = début SQAI mais manque fin EQAI ou inverse\n",
    "\n",
    "                    document.save(PathForOutputsAndLogs+ r'/' + NameOfDocument)\n",
    "                except IOError:\n",
    "                        MessageError = str(datetime.now()) + ' Error encountered when reading Word docx file ' + file\n",
    "                        logging.error(MessageError)\n",
    "                        print(MessageError)\n",
    "                finally:        \n",
    "                    f.close()\n",
    "\n",
    "            case '.doc':\n",
    "                print('Fichier DOC')# OPEN QUESTION: do we consider reading .doc files ?\n",
    "            case _:\n",
    "                print('Fichier non pris en charge')\n",
    "                #OPEN QUESTION: do we consider reading other types of files below ?\n",
    "                #'rtf', 'pdf', 'xls', 'xlsx', 'csv', 'ppt', 'pptx',\n",
    "                #'odc','odf', 'odg', 'odm', 'odp', 'ods','odt', 'odx'\n",
    "                # WE SHOULD CHECK ALL EXTENSIONS OF THE FILES CONTAINED IN THE FOLDER \n",
    "                # AND PROMPT A MESSAGE IF EXTENSION NOT MANAGED\n",
    "    print('End of the read program')\n",
    "    return DictQuestions\n",
    "\n",
    "# Function to write the answer below each question inside files with .docx extension contained in a folder\n",
    "def Write_Answers_in_docx (PathFolderSource, DictonaryOfAnswers, PathForOutputsAndLogs):\n",
    "# The main program has already submitted each question to the AI \n",
    "# and filled the \"DictonaryOfAnswers\" with the answers to the questions \n",
    "# The \"DictonaryOfAnswers\" has the same Key \"NameOfFile - Question Number\" as the \"DictonaryOfQuestions\"\n",
    "# Then the main program will call the \"Write_Answers_in_docx\" function to write the answers \n",
    "# from the he \"DictonaryOfAnswers\" into the documents themselves\n",
    "# As the read function has already placed the key of the question below the question, \n",
    "# this function will just have to find the key below the question and replace ti by the answer, back in the docx file \n",
    "# It will also remove the SQAI and EQAI tags from the questions\n",
    "\n",
    "\n",
    "     #activate logging of errors in a txt file\n",
    "    from datetime import datetime\n",
    "    import logging\n",
    "    logging.basicConfig(filename=PathForOutputsAndLogs + r'/logs-IA_for_Asso.txt')\n",
    "\n",
    "    #Create a list of path to all the files (no hidden files) contained in the folder “PathFolderSource” \n",
    "    import glob\n",
    "    FilesWithPath = []\n",
    "    for file in glob.glob(PathFolderSource +'*.*'):\n",
    "        FilesWithPath.append(file)\n",
    "    #FilesWithPath.remove(PathForOutputsAndLogs + r'/logs-IA_for_Asso.txt') # remove the log file from the list of files to be read\n",
    "    #TO DO AFTER : manage the case where the log file is not in the folder\n",
    "    for file in FilesWithPath:\n",
    "        TheExtension = file [-4:] \n",
    "        match TheExtension:\n",
    "            case 'docx':\n",
    "                try:\n",
    "                    f = open(file, 'rb')\n",
    "                    document = Document(f)\n",
    "                    NameOfDocument = file.split('/')[-1] # Name of the file without the path will be used in the Key of the dictionnary\n",
    "\n",
    "                    # for each key of the dictionary, corresponding to the document\n",
    "                    # find the key in the document and replace it by the answer\n",
    "                    # As the key was below the question, this puts the answer just below the question\n",
    "                    # if the key is not found, log an error\n",
    "\n",
    "                    # Create a subset of the dictionary corresponding to the document opened\n",
    "                    Dict_Of_Answers_of_the_Document = dict(filter(lambda item: item[0].split(' - ')[0] == NameOfDocument, DictonaryOfAnswers.items()))\n",
    "                    print(Dict_Of_Answers_of_the_Document) # The answer dictionnary for the document\n",
    "                    for docpara in document.paragraphs:\n",
    "                        for key, value in Dict_Of_Answers_of_the_Document.items():\n",
    "                            if key in docpara.text:\n",
    "                                docpara.text = docpara.text.replace(key, value)\n",
    "                                # Dict_Of_Answers_of_the_Document.pop(key) # remove the key from the dictionnary when it has been found\n",
    "\n",
    "                    # Now, we suppress the tags SQAI and EQAI from the questions\n",
    "                    for docpara in document.paragraphs:\n",
    "                        if \"SQAI\" in docpara.text:\n",
    "                            docpara.text = docpara.text.replace(\"SQAI\", \"\")\n",
    "                        if \"EQAI\" in docpara.text:\n",
    "                            docpara.text = docpara.text.replace(\"EQAI\", \"\")\n",
    "\n",
    "                    # We create a new version of the document with the answers\n",
    "                    document.save(PathForOutputsAndLogs+ r'/' + NameOfDocument[:-4] + \"_with_answers.docx\")\n",
    "                except IOError:\n",
    "                        MessageError = str(datetime.now()) + ' Error encountered when opening for writing the Word docx file ' + file\n",
    "                        logging.error(MessageError)\n",
    "                        print(MessageError)\n",
    "                finally:        \n",
    "                    f.close()\n",
    "\n",
    "    print('End of the write program')\n",
    "    return\n",
    "\n",
    "\n",
    "\n",
    "# *******************************MAIN PROGRAM*************************************\n",
    "# Settings for the path files\n",
    "Path_where_we_put_Outputs = r'/Users/jfm/Library/CloudStorage/OneDrive-Personnel/Python/Dev/Dev IA Asso/Pour les logs/' \n",
    "Folder_where_the_files_are = r'/Users/jfm/Library/CloudStorage/OneDrive-Personnel/Python/Dev/Dev IA Asso/LesFilesA Lire/'\n",
    "from docx import Document # import de python-docx\n",
    "\n",
    "# Read the questions in the files and put them into a dictionnary\n",
    "The_Dict_Of_Questions = Read_Questions_From_docx (Folder_where_the_files_are, Path_where_we_put_Outputs)\n",
    "\n",
    "# TO DO : The main programm should then call the AI to answer the questions of the dictionary \"The_Dict_Of_Questions\"\n",
    "# and put the answers into a \"dictionnary of answers\" with the same keys (key of question = key of answer)\n",
    "\n",
    "# For the moment, we create a dictionary of answers with the same keys as the dictionary of questions\n",
    "# by just taking the question as the answer we just put \"ANSWER TO: \" + the question\n",
    "\n",
    "for key, value in The_Dict_Of_Questions.items():\n",
    "        The_Dict_Of_Answers = {key:  value for key,  value in The_Dict_Of_Questions.items()}\n",
    "for key, value in The_Dict_Of_Answers.items():\n",
    "        The_Dict_Of_Answers[key] = '\\rn' + 'ANSWER TO: ' + value\n",
    "# Write the answers into the docx files just below the questions\n",
    "Write_Answers_in_docx (Path_where_we_put_Outputs, The_Dict_Of_Answers, Path_where_we_put_Outputs)\n",
    "\n",
    "#********************************END OF MAIN PROGRAM********************************\n"
   ]
  },
  {
   "cell_type": "code",
   "execution_count": null,
   "metadata": {},
   "outputs": [],
   "source": []
  },
  {
   "cell_type": "markdown",
   "metadata": {},
   "source": [
    "## (Optional in the beginning) Chunk and embedd documents"
   ]
  },
  {
   "cell_type": "markdown",
   "metadata": {},
   "source": [
    "Chunking and embedding documents is a way to implement a RAG (Retrieval Augmented Generation). \n",
    "\n",
    "To learn about this concept, you can check the following links :\n",
    "\n",
    "Here are also useful resources to implement a RAG in python using langchain :\n",
    "\n"
   ]
  },
  {
   "cell_type": "markdown",
   "metadata": {},
   "source": [
    "!! It is important to note that while RAG is a common way to provide LLMs with context, specific methods can be used for this project. For instance, maybe that all documents have an \"information about x\" section that can be directly retrieved with regex methods to provide the model with.\n",
    "\n",
    "For regex methods, you can find documentation here :\n"
   ]
  },
  {
   "cell_type": "code",
   "execution_count": null,
   "metadata": {},
   "outputs": [],
   "source": [
    "# Here split the document into chunks"
   ]
  },
  {
   "cell_type": "code",
   "execution_count": null,
   "metadata": {},
   "outputs": [],
   "source": [
    "# Here embed those chunks"
   ]
  },
  {
   "cell_type": "code",
   "execution_count": null,
   "metadata": {},
   "outputs": [],
   "source": [
    "# (Optional) Here you can store those embedded chunks into a vector store"
   ]
  },
  {
   "cell_type": "markdown",
   "metadata": {},
   "source": [
    "## call a large language model via an API (e.g. Mistral API call - use free tiers)"
   ]
  },
  {
   "cell_type": "markdown",
   "metadata": {},
   "source": [
    "Here we're gonna call a model (and pass him the context if already implemented before)"
   ]
  },
  {
   "cell_type": "markdown",
   "metadata": {
    "vscode": {
     "languageId": "plaintext"
    }
   },
   "source": [
    "Some links you can check to learn more if you don't know how it works :\n",
    "\n",
    "Langchain (one of the classic tools for this kind of task)\n"
   ]
  },
  {
   "cell_type": "markdown",
   "metadata": {},
   "source": [
    "<b>To run a model locally</b>\n",
    "\n",
    "With Ollama :\n",
    "\n",
    "With huggingface : "
   ]
  },
  {
   "cell_type": "code",
   "execution_count": null,
   "metadata": {},
   "outputs": [],
   "source": [
    "\"\"\"\n",
    "Here, first write your credentials for API call (don't push it on git !! Use environment variables)\n",
    "or load the model in the notebook kernel if you want to use a model locally\n",
    "\"\"\""
   ]
  },
  {
   "cell_type": "code",
   "execution_count": null,
   "metadata": {},
   "outputs": [],
   "source": [
    "\"\"\"\n",
    "Then, implement API calling (langchain chain + prompt engineering)\n",
    "You can divide the whole process in several sub-questions if the model can't take enough context at once,\n",
    "or if it does not perform well enough.\n",
    "\"\"\""
   ]
  },
  {
   "cell_type": "code",
   "execution_count": null,
   "metadata": {},
   "outputs": [],
   "source": []
  },
  {
   "cell_type": "markdown",
   "metadata": {},
   "source": [
    "## (Very very optional) Implement a langgraph to enhance generation performances with agentic behavior"
   ]
  },
  {
   "cell_type": "markdown",
   "metadata": {},
   "source": [
    "This step should not be necessary but once everything else is set up, you can play with it.\n",
    "\n",
    "Documentation : "
   ]
  },
  {
   "cell_type": "code",
   "execution_count": null,
   "metadata": {},
   "outputs": [],
   "source": [
    "# Langgraph implementation"
   ]
  },
  {
   "cell_type": "markdown",
   "metadata": {},
   "source": []
  }
 ],
 "metadata": {
  "language_info": {
   "name": "python"
  }
 },
 "nbformat": 4,
 "nbformat_minor": 2
}
