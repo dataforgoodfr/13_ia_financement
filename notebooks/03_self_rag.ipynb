{
  "cells": [
    {
      "cell_type": "markdown",
      "metadata": {
        "id": "bcf1sgeWWA2L"
      },
      "source": [
        "# Self-RAG\n",
        "\n",
        "Source : https://langchain-ai.github.io/langgraph/tutorials/rag/langgraph_self_rag/"
      ]
    },
    {
      "cell_type": "code",
      "execution_count": 14,
      "metadata": {
        "colab": {
          "base_uri": "https://localhost:8080/"
        },
        "id": "Q3I1tjZ4oDFX",
        "outputId": "09dd1605-7a98-48e2-81c4-b2da1a4af210"
      },
      "outputs": [],
      "source": [
        "# !pip install -q langchain openai pandas PyPDF2 chromadb tiktoken langchain-openai langchain-community pypdf rank_bm25\n",
        "# !pip install -q langgraph langsmith"
      ]
    },
    {
      "cell_type": "code",
      "execution_count": 15,
      "metadata": {
        "id": "9mVTYntNoRGN"
      },
      "outputs": [
        {
          "data": {
            "text/plain": [
              "True"
            ]
          },
          "execution_count": 15,
          "metadata": {},
          "output_type": "execute_result"
        }
      ],
      "source": [
        "import os\n",
        "\n",
        "import dotenv\n",
        "dotenv.load_dotenv(\"/home/chougar/Documents/GitHub/Formation_datascientest/DL-NLP/.env\")"
      ]
    },
    {
      "cell_type": "markdown",
      "metadata": {
        "id": "HdeA09DvV71Z"
      },
      "source": [
        "## Loas the data"
      ]
    },
    {
      "cell_type": "code",
      "execution_count": 16,
      "metadata": {},
      "outputs": [],
      "source": [
        "# libraries and models setup\n",
        "import os\n",
        "from langchain.document_loaders import PyPDFLoader\n",
        "from langchain.text_splitter import RecursiveCharacterTextSplitter\n",
        "from langchain.embeddings.openai import OpenAIEmbeddings\n",
        "from langchain.vectorstores import Chroma, FAISS\n",
        "from langchain.retrievers import SelfQueryRetriever\n",
        "from langchain.chains import RetrievalQA\n",
        "from langchain_openai import ChatOpenAI, OpenAIEmbeddings\n",
        "from langchain_ollama.llms import OllamaLLM\n",
        "from time import time as timing\n"
      ]
    },
    {
      "cell_type": "markdown",
      "metadata": {},
      "source": [
        "#### LLM & modele d'embedding à utiliser\n"
      ]
    },
    {
      "cell_type": "code",
      "execution_count": 17,
      "metadata": {},
      "outputs": [],
      "source": [
        "# model_qa_name=\"qwen2.5:3b\"\n",
        "# model_qa_name=\"mistral:latest\"\n",
        "# model_qa_name=\"deepseek-r1:8b\"\n",
        "#model_qa_name=\"hf.co/bartowski/Falcon3-7B-Instruct-GGUF:Q4_0\"\n",
        "# model_qa_alias=\"falcon3-7b-mamba\"\n",
        "# llm_qa = OllamaLLM(model=model_qa_name, temperature=0.2)\n",
        "\n",
        "model_qa_name=\"gpt-4o-mini\"\n",
        "model_qa_alias=model_qa_name\n",
        "llm_qa = ChatOpenAI(model_name=model_qa_name, temperature=0.2)\n",
        "\n",
        "\n",
        "\n",
        "# Embeddings model definition\n",
        "# model_emb_name='text-embedding-ada-002'\n",
        "model_emb_name=\"text-embedding-3-small\"\n",
        "embedding_model = OpenAIEmbeddings(model=model_emb_name)\n"
      ]
    },
    {
      "cell_type": "code",
      "execution_count": 18,
      "metadata": {},
      "outputs": [],
      "source": [
        "pdf_file_path = './data/PROJECT DOCUMENT MAHAKAM 2023-2025_balise.pdf'\n",
        "\n",
        "# Create a loader instance\n",
        "loader = PyPDFLoader(pdf_file_path)\n",
        "\n",
        "# Load the data from the PDF\n",
        "data = loader.load()"
      ]
    },
    {
      "cell_type": "markdown",
      "metadata": {},
      "source": [
        "#### Step 3: Split  PDF en fragments\n",
        "Basé sur l'expérience du notebook `rag-v2-gridSearch`, le meilleur modèle et chunk size/overlap sont `text-embedding-ada-002` et 2000 / 400\n"
      ]
    },
    {
      "cell_type": "code",
      "execution_count": 19,
      "metadata": {},
      "outputs": [],
      "source": [
        "x=2000\n",
        "text_splitter = RecursiveCharacterTextSplitter(chunk_size=x, chunk_overlap=x*0.2)\n",
        "\n",
        "split_docs = text_splitter.split_documents(data)"
      ]
    },
    {
      "cell_type": "code",
      "execution_count": 20,
      "metadata": {},
      "outputs": [],
      "source": [
        "# nettoyage\n",
        "bruits=[\"Planète Urgence | FOREST Programme\"]\n",
        "for doc in split_docs:\n",
        "    for bruit in bruits:\n",
        "        if bruit in doc.page_content:\n",
        "            doc.page_content=doc.page_content.replace(bruit, \"\")\n",
        "# del empty docs\n",
        "split_docs = [doc for doc in split_docs if len(doc.page_content)>0]"
      ]
    },
    {
      "cell_type": "markdown",
      "metadata": {},
      "source": [
        "#### Step 4: Creation d'une BDD Faiss"
      ]
    },
    {
      "cell_type": "code",
      "execution_count": 21,
      "metadata": {},
      "outputs": [
        {
          "name": "stdout",
          "output_type": "stream",
          "text": [
            "t2 :0.5328977108001709\n",
            "faiss:\n"
          ]
        },
        {
          "data": {
            "text/plain": [
              "[Document(metadata={'source': './data/PROJECT DOCUMENT MAHAKAM 2023-2025_balise.pdf', 'page': 17}, page_content='\\nAnother issue that has also had a major impact on life in Indonesia, including\\nEast Kalimantan, is the Covid 19 global pandemic that has attacked the\\nentire world since early 2020.  The  Covid 19 pandemic has had a major\\nimpact on life in Indonesia. East Kalimantan is a province outside Java Island\\nwith  the  highest  rate  of  exposure  to  Covid,  which  has  resulted  in  the\\ngovernment imposing a lockdown and restrictions on community activities.\\nAt the beginning of 2022, community activities began to return to normal,\\nbut a new variant emerged, namely Omicron, which spread very quickly.\\nFacing a pandemic situation that has not ended, of course, the project must\\ncontinue  but  still  pay  attention  to  security,  safety,  and  practice  health\\nprotocols.\\n3. Strategy & theory of change\\nThe  three  years  project  aims  to  contribute  to  restore  the  degraded  of\\nmangrove  ecosystem  in  Production  Forest  (Mahakamm  Delta)  and\\nConservation area (Adang Bay). In doing so, the project will address the key\\nproblems in those regions: \\na. Lack  of  awareness  of  local  people  on  mangrove  ecosystem,\\nbiodiversity issue and waste\\nb. Huge area of degraded mangrove forest which affect the resilience of\\nlocal  people  in  facing  climate  change,  the  habitat  of  endangered\\nspecies and local economy;\\nc. Lack of alternative sustainable livelihood in coastal area;\\nd. Poor  governance  particularly  on  mangrove  ecosystem  and  its\\nenvironmental and economy issue.   \\nTo overcome those problems, Planet Urgence and its partners will work by\\nimplementing the PU FORET strategy which rely on three components:\\n1. Restore degraded forest;\\n2. Environmental awareness;\\n3. Strengthening livelihood of local people. \\nIn addition, the involvement of local NGOs, local community and volunteer is\\nkey for the successful of the project and the sustainability the impact of the'),\n",
              " Document(metadata={'source': './data/PROJECT DOCUMENT MAHAKAM 2023-2025_balise.pdf', 'page': 55}, page_content='\\nHuman resources – Planète Urgence\\nHuman resources – Implementing partners\\nManagement actions – Planète Urgence\\n(including meetings, missions, coordination workshops, \\nmonitoring and evaluations, quality assurance, reporting, \\ncommunication, etc.)\\nManagement actions – Implementing partner \\n(including meetings, missions, coordination workshops, \\nmonitoring and evaluations, quality assurance, reporting, \\ncommunication, etc.)\\nCapacity building of project management staff (Planète Urgence \\nand implementing partners)\\nMid-term assessment (as appropriate)\\nTerminal and final assessment (as appropriate)\\nAudit(s) (as appropriate)\\n</table>'),\n",
              " Document(metadata={'source': './data/PROJECT DOCUMENT MAHAKAM 2023-2025_balise.pdf', 'page': 52}, page_content='project’s activities can be made against the business-as-usual scenario providing clarity on how the project can and\\nwill influence emissions reductions over time. \\nThe protocol developed by Planete Urgence adopts the baseline scenario and additionality tests based on the Verified\\nCarbon Standard (VCS) and Clean Development Mechanism (CDM)’s Afforestation/Reforestation methodological tools.\\nIt involves :'),\n",
              " Document(metadata={'source': './data/PROJECT DOCUMENT MAHAKAM 2023-2025_balise.pdf', 'page': 37}, page_content=\"village interests \\n\\uf0b7 Provide  equal  opportunities  between  women  and  men  for  capacity\\nbuilding activities\\n\\uf0b7 Provide  opportunities  for  women's  groups  to  earn  income  through\\nmicro and small businesses\\n\\uf0b7 Encourage women's participation to be actively involved in decision\\nmaking both at the scale of households and at the group level, for\\nexample related to tree planting project.\\nTherefore, PU and its implementing partners will coordinate closely with \\ngender working group at the provincial and district levels to gain more \\nunderstanding the gender issue, challenge and possible solution in the \\ncoastal area. We also try to create gender friendly environment in order to \\nensure the women has active participation such as identifying the right time \\nfor women to participate, separate the women and men group if it will give \\nchance for women to speak, always ask and give chance to women to speak \\nin every meeting.  \\nIn addition, this project aims to acknowledge the rights of local people in the \\nproject by implementing the Free, Prior and Informed Consent (FPIC) on the \\nproject. PU and implementing partners will provide information of the \\nproject, the risk, the negative and positive impact of the project and let them\"),\n",
              " Document(metadata={'source': './data/PROJECT DOCUMENT MAHAKAM 2023-2025_balise.pdf', 'page': 43}, page_content='\\nreach the common\\ngoals in Delta \\nMahakam.\\n2) PU and Bioma \\nhave developed \\npractical guidance \\non how to conduct \\nFPIC in \\nreforestation \\nprojects. \\npilot project.\\nRelationship with \\nlocal partners\\nPU and \\nimplementing \\npartners have \\nstrong ties with \\nthe local authority \\nsuch as Forest \\nManagement Unit \\nand Conservation \\nagencies.\\nThe informal \\ncoordination will \\nbe conducted to \\nthose authority to \\ngain technical and \\nadministrative \\nsupport from \\nthem. \\nCapacity building \\nof our local \\npartners \\nYML has really \\ngood knowledge \\nand technical skills\\nin reforestation \\nand sylvofishery.  \\n Pokja Pesisir has \\ngood \\ncommunication \\nwith key \\nstakeholders at \\nthe village and \\nregion levels \\n(BKSDA) \\n \\nYML still has a lack\\nof capacity and \\ninitiative to \\nconduct data \\nmonitoring related\\nto sylvofishery and\\nis reluctant to \\nwork with \\nuniversity.\\nPokja Pesisir in \\nother side has still \\nlacks experience \\nin reforestation \\nskills, particularly \\ndata collection. \\nPU Indonesia will \\nprovide tools to \\nYML and Pokja \\nPesisir to conduct \\ndata collection and\\nregularly \\nmonitoring the \\nimplementation.\\nHiring consultant Local consultant \\nhas better \\nunderstanding on \\nlocal social and \\nenvironmental \\ncontext\\n1) The English \\nskill, writing and \\nspeaking, of local \\nconsultant is \\nrelatively poor. 2)  \\nThe local \\nconsultant \\napparently does \\nnot have a 100 \\npercent freedom \\nClear objectives \\nand indicators are \\nneeded to guide \\nthe local \\nconsultant. \\nMoreover, a rapid \\ninternal \\nassessment is \\nneeded to \\ncomplement the'),\n",
              " Document(metadata={'source': './data/PROJECT DOCUMENT MAHAKAM 2023-2025_balise.pdf', 'page': 19}, page_content='\\n- Community members (villagers, consists of fish farmers, women group,\\nand youth)\\n- Village officials\\n- Stakeholders  from  various  institutions  (government  institutions,\\nuniversities, and non-government organizations)\\n- Public audience in general (reached by Media) \\n Other potential groups: \\n- High school and university students\\n- Environmental activists\\n5. Location\\nThe location of the project is in Paser District (Adang Bay village) and Kutai\\nKartanegara district (Delta Mahakam) East Kalimantan Province. The location\\nof project is nearby the new capital of Indonesia which is in the Penajam\\nPaser Utara (around 130-160 km)\\nFeature 4: Site intervention New Mahakam Project\\n6. Expected  results,  planned  activities  &  required\\nresources'),\n",
              " Document(metadata={'source': './data/PROJECT DOCUMENT MAHAKAM 2023-2025_balise.pdf', 'page': 52}, page_content='\\ne.Field monitoring six times in a year.\\nf. Internal evaluation at the end of project\\nIn addition, the project includes a third party evaluation during year 3 for final evaluation of the project’s activities\\nand conduction of the climate philanthropy methodology.\\nThe final evaluation will be conducted via remote evaluation and onsite visit of the project.\\nIt will include at minimum :\\n\\uf0b7 An inventory of the activities that have taken place in relation to the project plan (including planting activities,\\nincreased livelihoods and environmental awareness)\\n\\uf0b7 Review of carbon  sequestration  calculations  and monitoring  protocols,  based on the  climate  philanthropy\\nmethodology  developed  by  Planète  Urgence  (zone  boundaries,  baseline  scenario,  demonstration  of\\nadditionality, ex-ante carbon calculation, and first ex-post measures on year 3 linked with survival rate)\\n\\uf0b7 Review of project, monitoring and activity reports\\n\\uf0b7 Redaction of the audit report\\nCompletion  of  baseline  and  proof  of  additionality,  accompanied  by  EX-ANTE  calculation  of  GHG\\nemissions/sequestrations\\nAccording with Planete Urgence’s methodology on Climate Philanthropy, the project will monitor carbon sequestration\\nimpacts.\\nTo do so, Planète Urgence team will develop a baseline scenario illustrating the activities and greenhouse gas (GHG)\\nemissions that would occur in the absence of a project’s activity. Developing this baseline will be the foundation of\\nmeasuring the project’s emissions reductions or removals; it will set the benchmark by which a comparison of the\\nproject’s activities can be made against the business-as-usual scenario providing clarity on how the project can and\\nwill influence emissions reductions over time. \\nThe protocol developed by Planete Urgence adopts the baseline scenario and additionality tests based on the Verified\\nCarbon Standard (VCS) and Clean Development Mechanism (CDM)’s Afforestation/Reforestation methodological tools.'),\n",
              " Document(metadata={'source': './data/PROJECT DOCUMENT MAHAKAM 2023-2025_balise.pdf', 'page': 3}, page_content='\\nMain Sustainable Development Goals (SDGs) to which the\\nproject contributes\\n\\u202f\\u202f\\u202f\\u202f  \\n \\u202f\\u202f\\u202f\\u202f \\n \\u202f\\u202f\\u202f\\u202f \\n \\u202f\\u202f\\u202f\\u202f \\n \\xa0\\u202f\\u202f\\u202f\\u202f  \\u202f\\u202f\\u202f\\u202f\\nMain SDG targets and indicators to which the project contributes: \\n\\uf0b7 12.8. By  2030,  ensure  that  people  everywhere  have  the  relevant\\ninformation  and awareness  for  sustainable  development and lifestyles  in\\nharmony with nature.  \\n\\uf0b7 13.1. Strengthen resilience and adaptive capacity to climate-related\\nhazards and natural disasters in all countries.  \\n\\uf0b7 13.3. Improve education, awareness-raising, human, and institutional\\ncapacity on climate  change  mitigation,  adaptation,  impact reduction and\\nearly warning.  \\n\\uf0b7 14.2. Sustainably manage and protect marine and coastal ecosystems\\nto  avoid  significant  adverse  impacts,  including  by  strengthening  their\\nresilience, and take action for their restoration in order to achieve healthy\\nand productive oceans.  \\n\\uf0b7 14.  B. Provide  access  for  small-scale  artisanal  fishers  to  marine\\nresources and markets.  \\n\\uf0b7 15.5. Take urgent and significant action to reduce the degradation of\\nnatural  habitats,  halt  the  loss  of  biodiversity,  protect  and  prevent  the\\nextinction of threatened species. \\nTable 0 *\\nProject duration 3 years (March 2023 – February 2026)\\nBudget & funding\\nTotal required \\nresources (€)\\n2023-2026\\n818\\xa0341 € // 903\\xa0613 USD\\nAuthor(s) YML, POKJA, Yayasan Planete Urgensi Indonesia,\\nPlanète Urgence\\nApproval by partners Planète\\nUrgence/Yayasan\\nPlanet Urgensi\\nIndonesia\\nName: Réonaldus\\nTitle:  Indonesia  National\\nDelegate\\nYML Name: Achmad Nuriyawan \\nTitle: Director\\nPOKJA Name: Hamsuri'),\n",
              " Document(metadata={'source': './data/PROJECT DOCUMENT MAHAKAM 2023-2025_balise.pdf', 'page': 22}, page_content='community becomes dirty.\\n\\uf02d Target: 100 persons local community involved\\n\\uf02d Location:  Village  Muara  Adang  and  Pondong  Baru  in  Adang  Bay\\nlandscape\\n\\uf02d Methods: \\na. Religion approach through Conservation Lecture (Dai Konservasi)\\nand will utilize friday prayers moment and other islamic holiday \\nb. Health approach involved medical staff or public health office\\nc. Village Cleanliness Competition in celebrating Independence Day\\nor other moment\\n\\uf02d Strategy  of  implementation:  Collaborating  with  prominent  islamic\\nreligion leaders, public health offices, youth and village government\\n1  .3.2 Book publication  \\nA writing competition will be organised with the theme “Local wisdom in\\nrelation to the mangrove ecosystem and nasal monkey (proboscis monkey)\\nconservation”. The participant’s writing will be compiled to be published.\\n\\uf02d Target: the project will publish 100 copies. \\n\\uf02d Location: Organized from Samarinda by PU. \\n\\uf02d Content/Topic: Writing competition with the THEME: “Local wisdom in\\nrelation  to  the  mangrove  ecosystem  and  nasal  monkey  (proboscis\\nmonkey) conservation”.'),\n",
              " Document(metadata={'source': './data/PROJECT DOCUMENT MAHAKAM 2023-2025_balise.pdf', 'page': 39}, page_content='\\n9. Knowledge  management,  capitalization  &\\ncommunication\\nKnowledge management\\nPlanète Urgence is in the process of setting up a new tool for monitoring\\nplantations based on geolocation of trees planted throughout the project.\\nPlanète Urgence’s software (database) will be redesigned and updated to\\nmeet different needs. The first one is to conduct the monitoring of planted\\ntrees (species, size, survival rate, pictures …). The second one will help\\nprovide transparent information to donors. The third one will contribute to\\ncommunication efforts (map on website).\\nPU Indonesia and its implementing partners will arrange communication and\\nknowledge management mechanisms to ensure all parties has equal access\\nand responsible to store and to distribute the data and information gathered\\nfrom the project. All materials from the field should be submitted monthly to\\nthe communication officer of PU Indonesia during the project. PU Indonesia\\nwill ensure all publications, minutes of meeting, report, picture and video\\nrelated with the project activities store well in the PU system. The material\\nwill be grouped according to their type, date and the component of the\\nproject.  The  implementing  partners  will  have  equal  access  to  use  the\\nmaterials  that  they  have  collected  for  the  benefit  of  current  and future\\nproject in the region. Like previous projects, PU Indonesia will spread the\\nlessons learned of the project to the key stakeholders and public through\\nvarious canal such as monthly journal, offline and online media and social\\nmedia during the project.\\nCapitalization\\nIn  order  to  allow  Mahakam Delta’s  stakeholders  and  project  partners  to\\nreplicate the positive actions of the project in other villages for a wider\\naction,  Planète  Urgence  commits  to  undertake  capitalization  on  two  key\\nsubjects: (i) a relevant restoration of the mangrove ecosystem and (ii) a\\nmethodology for land use planning process.')]"
            ]
          },
          "metadata": {},
          "output_type": "display_data"
        }
      ],
      "source": [
        "\n",
        "faiss_db = FAISS.from_documents(split_docs, embedding_model,)\n",
        "\n",
        "\n",
        "retriever_faiss = faiss_db.as_retriever(\n",
        "    search_kwargs={\n",
        "        \"k\": 10, \n",
        "        \"fetch_k\": 30\n",
        "    },\n",
        "    search_type= \"mmr\"\n",
        ")\n",
        "\n",
        "\n",
        "# Test\n",
        "query = \"Context, environment, project rationale and challenges\"\n",
        "\n",
        "t=timing()\n",
        "result = retriever_faiss.invoke(query)\n",
        "print(f\"t2 :{timing()-t}\")\n",
        "print(f\"faiss:\")\n",
        "display(result)"
      ]
    },
    {
      "cell_type": "code",
      "execution_count": 22,
      "metadata": {},
      "outputs": [
        {
          "name": "stdout",
          "output_type": "stream",
          "text": [
            "time tfidf: 0.0031669139862060547\n"
          ]
        },
        {
          "data": {
            "text/plain": [
              "[Document(metadata={'source': './data/PROJECT DOCUMENT MAHAKAM 2023-2025_balise.pdf', 'page': 40}, page_content=\"\\nlocal  communities  and  the  public  stakeholders  concerned  (villages  and\\ndistricts) in order to replicate these activities with the other villages of the\\nMahakam Delta.\\nThe tree protection from palm tree leaves and net that successfully works to\\nprotect tree in previous project will be documented and spread to the key\\nrestoration actors for possible replication in their project. In addition, PU\\nIndonesia will manage and distribute the publication and knowledge from the\\nproject  to  other  parties.  Module  and  material  environmental  education\\ncampaign will be used in the scale up project or other locations.\\nTable 3. Summary of our lessons learned, and best practices developed on\\nprevious projects in the Mahakam Delta\\n<table>\\nActivities Best practices\\n(+)\\nLessons learned\\n(-)\\nChange maker in\\nthis new project \\nRaising awareness\\nin schools \\n1/Raising \\nawareness in \\nschool generally \\nget support from \\nthe schools. 2) \\nAnimal costumes \\nare very attractive\\nfor elementary \\nschools' children. \\n3) The successful \\nof YML and  Pokja \\nPesisir introduction\\nenvironmental \\neducation in \\nPrimary and \\nSecondary \\nSchools. Teachers \\nhad just realized \\nthat they live in an\\nimportant \\nmangrove \\necosystem. There \\nis a desire to learn \\nmore about the \\nmangrove \\necosystem and a \\nwant to teach in \\nschools.\\nStudents have a \\nhigh interest in \\nlearning directly in\\nNot all teachers \\nhave creativity in \\nteaching, so \\nintensive \\nassistance is \\nneeded\\n1 and 2) The \\nproject will apply \\nsimilar method \\nand approach to \\nthe schools’ \\nteachers and \\nstudents. 3) In \\naddition, in this \\npilot phase, PU will\\nelaborate the \\npossibility to \\nintegrate the \\nenvironmental \\neducation in \\nelementary school \\ncurriculum.\\nTeachers have a \\nstrategic position \\nto foster \\nenvironmental \\nawareness. \\nTeachers can act \\nas very effective \\nagents of change \\nfor increasing \\nenvironmental \\nawareness\"),\n",
              " Document(metadata={'source': './data/PROJECT DOCUMENT MAHAKAM 2023-2025_balise.pdf', 'page': 55}, page_content='\\nHuman resources – Planète Urgence\\nHuman resources – Implementing partners\\nManagement actions – Planète Urgence\\n(including meetings, missions, coordination workshops, \\nmonitoring and evaluations, quality assurance, reporting, \\ncommunication, etc.)\\nManagement actions – Implementing partner \\n(including meetings, missions, coordination workshops, \\nmonitoring and evaluations, quality assurance, reporting, \\ncommunication, etc.)\\nCapacity building of project management staff (Planète Urgence \\nand implementing partners)\\nMid-term assessment (as appropriate)\\nTerminal and final assessment (as appropriate)\\nAudit(s) (as appropriate)\\n</table>'),\n",
              " Document(metadata={'source': './data/PROJECT DOCUMENT MAHAKAM 2023-2025_balise.pdf', 'page': 20}, page_content=\"\\n\\uf0b7 GOAL  :  Contribute to restoring the degraded mangrove forest in East\\nKalimantan  (Delta  Mahakam-Delta  Mahakam  and  Adang  Bay-Adang\\nBay as home of endemic and endangered species including proboscis\\nmonkey and key ecosystem to mitigate and to adapt the impact of\\nclimate change by strengthening the governance, planting mangrove\\ntree, improving environmental awareness and developing sustainable\\nlivelihood for local community.\\n\\uf0b7 DETAILS OF PLANNED ACTIVITIES  \\nOutput  1:  The  awareness  of  stakeholders  to  conserve  Delta\\nMahakam and Adang Bay is strengthened.  \\nAwareness raising activities in schools targeting teachers and students are\\nvery  strategic  activities  to  raise  awareness  on  the  importance  of\\nenvironmental  conservation,  especially  the  mangrove  ecosystem.  East\\nKalimantan is a province with the second largest area of mangrove forest\\nafter Papua Province, but there is very little material about mangroves in\\nschool subjects. The workshop experience with elementary school teachers\\nin Muara Jawa District in 2021 showed that schools really need knowledge\\nabout the mangrove ecosystem so that they can teach knowledge to the\\nstudents as early as possible. Campaigns and hands-on learning bring fun for\\nthe teacher and students and will be memorized for a long time.\\nActivity  1.1. Conduct  workshops  in  schools  of  East  Kalimantan\\nprovince  to  raise  awareness  on  environment  and  biodiversity\\npreservation. \\nThree sub-activities will be conducted:\\n1.1.1.  -Workshop  on  Environmental  Conservation  for  Primary  School\\nTeachers\\nThe objective of this sub-activity is to increase teachers' knowledge in the\\nfield of environmental conservation, especially the mangrove ecosystem and\\nits  biodiversity.  Furthermore,  the  teacher  will  integrate  the  subject  of\\nmangrove conservation in the subject of environmental education at school.\\nBy building the capacity of teachers, the project will promote a sustainable\"),\n",
              " Document(metadata={'source': './data/PROJECT DOCUMENT MAHAKAM 2023-2025_balise.pdf', 'page': 15}, page_content=\"\\nTable 2. Types of Land Cover and Land Use in Mahakam Delta5 \\nTypes of Land Cover and Land Use\\nin Mahakam Delta Land Area (ha) Percentage\\nMangrove Forest with Middle Density 11,053 8.8\\nMangrove Forest with High Density 49,885 39.7\\nIndustry 311 0.2\\nPlantation 5,356 4.3\\nOpen Land 193 0.2\\nResidential Area 889 0.7\\nRice Field 869 0.7\\nShrubs 2,080 1.7\\nCommercial Fish Ponds 54,865 43.7\\nTotal 125,502 100.0\\nSource: Result of SPOT satellite images 6/7 (2018)\\nb) Demography\\nThe demographic issue must also be considered. Indeed, the announcement\\nin 2019 of the relocation of the political and administrative capital of Jakarta\\nto the province of East Kalimantan, between the cities of Balikpapan and\\nSamarinda, suggests strong migrations, the development of infrastructures\\nbut  also  a  growing  demand  for  aquaculture  products.  By  2024,  the\\nIndonesian Minister of Planning hopes to transfer nearly 1.5 million public\\nofficials and political representatives in East Kalimantan.\\nDelta  Mahakam Ulu village,  which  belongs  to Delta  Mahakam district,  is\\nlocated in the northern part of the Mahakam Delta. The location of Delta\\nMahakam sub-district is close to the state-owned oil company (Pertamina),\\nformerly  VICO.  Due  to  the  proximity  of  a  fairly  large  company,  the\\ncommunity's economy is quite dynamic and the area offers a variety of jobs.\\nHowever, the number of people who still carry out the traditional work of\\nfishermen and fish farmers is still quite high, especially in the coastal areas.\\nWorking as a fish farmer has become one of the choices of the community as\\nland is available for opening ponds. The conversion of mangrove forests into\\nponds has been going on for decades, but the production of fish and shrimp\\nhas decreased from time to time. Based on various studies and research,\\nplanting a number of mangroves in ponds can improve the soil and water\\nquality in the ponds so that they can provide sustainable production. The\"),\n",
              " Document(metadata={'source': './data/PROJECT DOCUMENT MAHAKAM 2023-2025_balise.pdf', 'page': 15}, page_content='land is available for opening ponds. The conversion of mangrove forests into\\nponds has been going on for decades, but the production of fish and shrimp\\nhas decreased from time to time. Based on various studies and research,\\nplanting a number of mangroves in ponds can improve the soil and water\\nquality in the ponds so that they can provide sustainable production. The\\n5 Study of identification of levels of mangrove forest damaged for rebooting planning in \\nMahakam Delta in Kutai Kartanegara district. Jurnal “Gerbang Etam” Balitbangda Kab. Kukar\\nVol. 13 No. 1 Tahun 2019'),\n",
              " Document(metadata={'source': './data/PROJECT DOCUMENT MAHAKAM 2023-2025_balise.pdf', 'page': 16}, page_content='\\nfarmer groups in Delta Mahakam Ulu ponds are beginning to realise the\\nimportance of planting mangroves in the ponds, and therefore need support\\nfrom various parties. \\nc) Other issues\\nThe table below represents a summary of estimation of potential loss and\\ngain of mangroves in six major regions by 2035. The Kalimantan Island is the\\none to analyze in order to justify Planète Urgence and partners’ information.\\nThe analysis does not yet consider the movement of new capital issue which\\nvery likely affect the mangrove forest in East Kalimantan as well. \\nTable 2 *\\nThis table highlight the multiple and complex context in which mangrove loss\\ndepends and confirms challenges faced in Mahakam Delta area. The lack of\\nresources (financial, human resources, material) of local authorities coupled\\nwith  a  lack  of  transparency,  coordination  and  communication  around\\nresponsibilities of each actors impacts the management of mangrove forests,\\nnatural resources and territorial development. \\n6 Muhammad Ilmana,b, Paul Darguscha, Peter Dartc, Onrizal - A historical analysis of the \\ndrivers of loss and degradation of Indonesia’s mangroves, 2016.'),\n",
              " Document(metadata={'source': './data/PROJECT DOCUMENT MAHAKAM 2023-2025_balise.pdf', 'page': 17}, page_content='\\nAnother issue that has also had a major impact on life in Indonesia, including\\nEast Kalimantan, is the Covid 19 global pandemic that has attacked the\\nentire world since early 2020.  The  Covid 19 pandemic has had a major\\nimpact on life in Indonesia. East Kalimantan is a province outside Java Island\\nwith  the  highest  rate  of  exposure  to  Covid,  which  has  resulted  in  the\\ngovernment imposing a lockdown and restrictions on community activities.\\nAt the beginning of 2022, community activities began to return to normal,\\nbut a new variant emerged, namely Omicron, which spread very quickly.\\nFacing a pandemic situation that has not ended, of course, the project must\\ncontinue  but  still  pay  attention  to  security,  safety,  and  practice  health\\nprotocols.\\n3. Strategy & theory of change\\nThe  three  years  project  aims  to  contribute  to  restore  the  degraded  of\\nmangrove  ecosystem  in  Production  Forest  (Mahakamm  Delta)  and\\nConservation area (Adang Bay). In doing so, the project will address the key\\nproblems in those regions: \\na. Lack  of  awareness  of  local  people  on  mangrove  ecosystem,\\nbiodiversity issue and waste\\nb. Huge area of degraded mangrove forest which affect the resilience of\\nlocal  people  in  facing  climate  change,  the  habitat  of  endangered\\nspecies and local economy;\\nc. Lack of alternative sustainable livelihood in coastal area;\\nd. Poor  governance  particularly  on  mangrove  ecosystem  and  its\\nenvironmental and economy issue.   \\nTo overcome those problems, Planet Urgence and its partners will work by\\nimplementing the PU FORET strategy which rely on three components:\\n1. Restore degraded forest;\\n2. Environmental awareness;\\n3. Strengthening livelihood of local people. \\nIn addition, the involvement of local NGOs, local community and volunteer is\\nkey for the successful of the project and the sustainability the impact of the'),\n",
              " Document(metadata={'source': './data/PROJECT DOCUMENT MAHAKAM 2023-2025_balise.pdf', 'page': 17}, page_content='To overcome those problems, Planet Urgence and its partners will work by\\nimplementing the PU FORET strategy which rely on three components:\\n1. Restore degraded forest;\\n2. Environmental awareness;\\n3. Strengthening livelihood of local people. \\nIn addition, the involvement of local NGOs, local community and volunteer is\\nkey for the successful of the project and the sustainability the impact of the\\nproject. Therefore, PU will reinforce the capacity of those local stakeholders\\nto ensure they can carry out the project activities and together achieve the\\nlong-term goal of the project. \\nDiagram of the theory of change can be seen below or in this link  Proyek\\nNEW MAHAKAM 2023-2026 -TOC - 3.xlsx'),\n",
              " Document(metadata={'source': './data/PROJECT DOCUMENT MAHAKAM 2023-2025_balise.pdf', 'page': 18}, page_content='\\nFeature 3. Theory of Change\\n4. Beneficiaries\\nNumber of direct beneficiaries of the pilot project: 3245 people with the\\nproportion of 30% women and 70% men. \\nNumber of indirect beneficiaries: 3000 people by assuming at least the\\nproject will give benefit indirectly to 1500 people per location including in\\nEast Kalimantan and Indonesia.\\nThe target groups include: \\n- School children (primary schools and secondary schools)\\n- Teachers (primary school teachers)'),\n",
              " Document(metadata={'source': './data/PROJECT DOCUMENT MAHAKAM 2023-2025_balise.pdf', 'page': 19}, page_content='\\n- Community members (villagers, consists of fish farmers, women group,\\nand youth)\\n- Village officials\\n- Stakeholders  from  various  institutions  (government  institutions,\\nuniversities, and non-government organizations)\\n- Public audience in general (reached by Media) \\n Other potential groups: \\n- High school and university students\\n- Environmental activists\\n5. Location\\nThe location of the project is in Paser District (Adang Bay village) and Kutai\\nKartanegara district (Delta Mahakam) East Kalimantan Province. The location\\nof project is nearby the new capital of Indonesia which is in the Penajam\\nPaser Utara (around 130-160 km)\\nFeature 4: Site intervention New Mahakam Project\\n6. Expected  results,  planned  activities  &  required\\nresources')]"
            ]
          },
          "metadata": {},
          "output_type": "display_data"
        }
      ],
      "source": [
        "from langchain.retrievers import BM25Retriever, TFIDFRetriever\n",
        "from sentence_transformers import CrossEncoder\n",
        "\n",
        "sparse_retriever_tfidf = TFIDFRetriever.from_documents(\n",
        "    documents=split_docs,\n",
        "    k=10,\n",
        "    tfidf_params={\"min_df\":1,\n",
        "            \"max_df\":2,\n",
        "            \"ngram_range\":(1, 2)}\n",
        "    )\n",
        "\n",
        "\n",
        "# question=\"Context, environment, project rationale and challenges\"\n",
        "# question='What are the key contextual factors, environmental conditions, project rationale, and potential challenges that may impact the success of the project, including aspects related to biodiversity, climate change impacts, socio-economic context, and health considerations?'\n",
        "question=\"Number of People Concerned\"\n",
        "t=timing()\n",
        "results=sparse_retriever_tfidf.invoke(question)\n",
        "print(f\"time tfidf:\", timing()-t)\n",
        "display(results)\n",
        "\n"
      ]
    },
    {
      "cell_type": "markdown",
      "metadata": {},
      "source": [
        "Lexical retriever (basé sur le key word matching)"
      ]
    },
    {
      "cell_type": "code",
      "execution_count": 23,
      "metadata": {},
      "outputs": [
        {
          "name": "stdout",
          "output_type": "stream",
          "text": [
            "Question: Number of People Concerned\n",
            "['Number', 'People', 'Concerned']\n"
          ]
        },
        {
          "data": {
            "text/plain": [
              "[Document(metadata={'source': './data/PROJECT DOCUMENT MAHAKAM 2023-2025_balise.pdf', 'page': 18}, page_content='\\nFeature 3. Theory of Change\\n4. Beneficiaries\\nNumber of direct beneficiaries of the pilot project: 3245 people with the\\nproportion of 30% women and 70% men. \\nNumber of indirect beneficiaries: 3000 people by assuming at least the\\nproject will give benefit indirectly to 1500 people per location including in\\nEast Kalimantan and Indonesia.\\nThe target groups include: \\n- School children (primary schools and secondary schools)\\n- Teachers (primary school teachers)'),\n",
              " Document(metadata={'source': './data/PROJECT DOCUMENT MAHAKAM 2023-2025_balise.pdf', 'page': 38}, page_content='\\ndecide to contribute on the project. By doing this, the project aims to place \\nthe local people not as object the project, but the subject of project since \\nthey also contribute to design the activities of the project. \\nMoreover, regarding the new capital, the project expects to bring the voice \\nof local people in the coastal area in shaping the future plan of Mahakam \\nDelta and Adang Bay-Adang Bay. The involvement of local people will \\ncontribute to improve the governance in the coastal region.'),\n",
              " Document(metadata={'source': './data/PROJECT DOCUMENT MAHAKAM 2023-2025_balise.pdf', 'page': 15}, page_content='land is available for opening ponds. The conversion of mangrove forests into\\nponds has been going on for decades, but the production of fish and shrimp\\nhas decreased from time to time. Based on various studies and research,\\nplanting a number of mangroves in ponds can improve the soil and water\\nquality in the ponds so that they can provide sustainable production. The\\n5 Study of identification of levels of mangrove forest damaged for rebooting planning in \\nMahakam Delta in Kutai Kartanegara district. Jurnal “Gerbang Etam” Balitbangda Kab. Kukar\\nVol. 13 No. 1 Tahun 2019'),\n",
              " Document(metadata={'source': './data/PROJECT DOCUMENT MAHAKAM 2023-2025_balise.pdf', 'page': 17}, page_content='To overcome those problems, Planet Urgence and its partners will work by\\nimplementing the PU FORET strategy which rely on three components:\\n1. Restore degraded forest;\\n2. Environmental awareness;\\n3. Strengthening livelihood of local people. \\nIn addition, the involvement of local NGOs, local community and volunteer is\\nkey for the successful of the project and the sustainability the impact of the\\nproject. Therefore, PU will reinforce the capacity of those local stakeholders\\nto ensure they can carry out the project activities and together achieve the\\nlong-term goal of the project. \\nDiagram of the theory of change can be seen below or in this link  Proyek\\nNEW MAHAKAM 2023-2026 -TOC - 3.xlsx'),\n",
              " Document(metadata={'source': './data/PROJECT DOCUMENT MAHAKAM 2023-2025_balise.pdf', 'page': 24}, page_content='\\uf02d Content/Topic:  70,000  mangrove  trees  in  Delta  Mahakam,  80,000\\nmangrove trees in Adang Bay, Paser. \\n\\uf02d Methods and media: Technical assistance by Project staffs\\n\\uf02d Strategy of implementation: Collaboration with village officials and give\\nmore responsibility to the local people.\\n2.2.2 Maintenance of the nurseries \\n8 The location in general:\\n1.  Delta Mahakam with 2 nurseries in: \\n(1) Delta Mahakam Ulu with 40,000 trees, will be planted in fish pond \\n(2) Tanjung Limau with 30,000 trees, will be planted in coastal area. \\nThe community group working in this reforestation is the same group \\n2. Adang Bay Village, 1 nursery, 80,000 trees will be planted 40,000 in fish pond, and \\n40,000 in coastal and riparian'),\n",
              " Document(metadata={'source': './data/PROJECT DOCUMENT MAHAKAM 2023-2025_balise.pdf', 'page': 26}, page_content='\\nThe  objective  is  to  increase  the  knowledge  of  the  local  community  in\\nimplementing mangrove reforestation project.\\n\\uf02d Target: 60 local communities in the 3 villages10. \\n\\uf02d Trainers/facilitator: the team of PU, YML and POKJA Pesisir.\\n\\uf02d Location: Delta Mahakam and Adang Bay, Paser. \\n\\uf02d Materials: \\na. Introduction of the mangrove ecosystems and its importance\\nb. Getting to know the type of mangrove species and its characteristic\\nc. Seed and propagule selection\\nd. Nursery preparation \\ne. Seedling the propagules in the nursery\\nf. Techniques of mangrove tree planting.\\n\\uf02d Methods and media: PowerPoint presentation, propagule/seedlings. \\n\\uf02d Strategy of implementation: coordination with the village officials and\\ncommunity leaders.\\n2.3.3 Tree planting\\nObjective: To reforest the dedicated plantation plots. \\n\\uf02d Target of tree planting\\nTable 3 *\\nLocation Number of trees\\n1st Year 2nd Year 3rd Year\\nMahakam Delta 300.000 trees\\n                  75,\\n000 \\n                 125,00\\n0 \\n                 100,\\n000 \\n-Direct method\\n                  22,\\n500 \\n                   37,50\\n0 \\n                   30,\\n000 \\n-Indirect method\\n                  52,\\n500 \\n                   87,50\\n0 \\n                   70,\\n000 \\n \\nAdang Bay 505.000 trees\\n                155,\\n000 \\n                 200,00\\n0 \\n                 150,\\n000 \\n-Direct method\\n                  50,\\n000 \\n                   60,00\\n0 \\n                   45,\\n000 \\n-Indirect method\\n                105,\\n000 \\n                 140,00\\n0 \\n                 105,\\n000 \\n10 60 people joining training, but the total number of people involved in the tree \\nplanting is expected to be 100 (in the 2 project locations)\\n(1) DELTA MAHAKAM (planting location 1 = Delta Mahakam Ulu, planting location\\n2 = Tanjung Limau)\\n(2) ADANG BAY'),\n",
              " Document(metadata={'source': './data/PROJECT DOCUMENT MAHAKAM 2023-2025_balise.pdf', 'page': 28}, page_content='mining and water transportation activity. If this condition is allowed and \\nthere is no conservation effort, the population of proboscis monkey will \\ndecrease from year to year. Planting mangrove in the degraded area could \\nbe restore the species habitat. In the end of project, we will measure the \\nimpact of planting activity to the number of biodiverisity (either increased or \\nno direct linkage)\\n\\uf02d Target: Identify and collected databese of number of group & \\npopulation Proboscis monkey (Nasalis larvatus) in each of intervention \\narea\\n\\uf02d Locations: \\n11 This will wait for futher information from the implementation of Wildsense, but in the \\nmeantime the project will develop and improve the indicators to be reported and the \\nexisting monitoring arrangements.'),\n",
              " Document(metadata={'source': './data/PROJECT DOCUMENT MAHAKAM 2023-2025_balise.pdf', 'page': 50}, page_content='\\ncommunities trained in \\nMangrove Reforestation\\nactivity\\nActivity Report \\nList of \\nparticipants\\nNumber of trainings \\nconducted\\nDocumentation \\nactivity\\nActivity Report \\nList of \\nparticipants\\n3 2022 3 3 3 9\\nNumber of local \\ncommunities participated \\nin tree monitoring\\nDocumentation \\nactivity\\nActivity Report \\nList of \\nparticipants\\nDatabase \\nplanting growth \\nmonitoring\\n0 2022 8 8 8 8\\nOutput Support the \\ndevelopment of \\nsustainable livelihood\\nNumber of communities \\nparticipated in sustainable\\naquaculture training\\nDocumentation \\nactivity\\nActivity Report \\nList of \\nparticipants\\n40 2022 40 40 40 120\\nNumber of sustainable \\nacquaculture demoplot \\nthrough silvofishery \\nscheme\\nDocumentation \\nactivity\\nActivity Report \\nList of \\nparticipants\\n1 2022 2 4 5 5\\nNumber of women groups \\ntrained and assisted in \\nDocumentation \\nactivity\\n4\\ngroups\\n2022 3 groups\\n 30\\n3\\ngroups\\n3\\ngroups\\n3\\ngroups'),\n",
              " Document(metadata={'source': './data/PROJECT DOCUMENT MAHAKAM 2023-2025_balise.pdf', 'page': 23}, page_content='\\uf02d Strategy of implementation: PU will assist, encourage and facilitate\\nimplementing partners to coordinate actively with online local media\\nwhich has big number of subscribers or viewers. \\nOutput 2: 300 ha area of degraded mangrove forest are restored by\\nplanting 800.000 of mangrove tree.\\nRehabilitation of degraded mangrove forests is the main activity of this project. The \\nMahakam Delta and the east coast of East Kalimantan are areas that are naturally \\novergrown with mangrove vegetation, but currently many have been converted for \\nsettlements, industry and aquaculture ponds. Mangrove planting in degraded areas \\nand in ponds is important because it will contribute to restoring the function of the \\nmangrove ecosystem and improving environmental quality.  \\n7 In general, a local tax will be imposed on profit-oriented billboards.'),\n",
              " Document(metadata={'source': './data/PROJECT DOCUMENT MAHAKAM 2023-2025_balise.pdf', 'page': 49}, page_content='\\nOutput 2: Rehabilitate \\ndegraded mangrove \\nforest\\nNumber of Study on land \\nsuitability for mangrove \\nreforestation\\nDocumentation \\nactivity\\nActivity Report \\nReport Document\\n1 2022 1 N/A N/A 1\\nNumber of Biodiverity \\nresearch   to discover \\nlinkage beetween habitat \\nrestoration and existing of \\nendangered species\\nDocumentation \\nactivity\\nActivity Report \\nReport Document\\n1 2021 1 N/A 1 2\\nNumber of nurseries \\nEstablished\\nDocumentation \\nactivity\\nActivity Report\\nNurseries \\ndatabase \\nmonitoring \\n3 2022 5 6 6 6\\nNumber of local \\ncommunities involved in \\nmangrove nurseries \\nDocumentation \\nactivity\\nActivity Report \\nList of \\nparticipants\\n100 2022 100 100 100 300\\nNumber of mangroves \\nplanted\\nDocumentation \\nactivity\\nActivity Report\\nDatabase \\nplanting \\nmonitoring\\nMap planting \\ndistribution\\n150.000   2022 230.000    325.00\\n0   \\n 250.0\\n00   \\n805.00\\n0   \\nNumber of local Documentation 60 2022 50 60 60 170')]"
            ]
          },
          "execution_count": 23,
          "metadata": {},
          "output_type": "execute_result"
        }
      ],
      "source": [
        "from langchain_core.prompts import ChatPromptTemplate\n",
        "from langchain_core.output_parsers import StrOutputParser\n",
        "\n",
        "\n",
        "import string\n",
        "\n",
        "def remove_punctuation(text):\n",
        "    text_no_punctuation = text.translate(str.maketrans('', '', string.punctuation))\n",
        "    words = text_no_punctuation.split()\n",
        "    return words\n",
        "\n",
        "def keyword_association_retriever(query, top_k=10, documents=split_docs, print_keywords=False):\n",
        "    query_keywords = llm_extract_keyworks.invoke({\"question\":query})\n",
        "    # print(query_keywords)\n",
        "    query_keywords = remove_punctuation(query_keywords)  # Liste des mots-clés dans la requête\n",
        "    if print_keywords:\n",
        "        print(query_keywords)\n",
        "    results = []\n",
        "\n",
        "\n",
        "    for doc in documents:\n",
        "        doc_text = doc.page_content.lower()\n",
        "        # Compter les cooccurrences des mots-clés dans le document\n",
        "        keyword_matches = sum(1 for word in query_keywords if word.lower() in doc_text)\n",
        "        # Pondérer le score par la densité des mots-clés\n",
        "        try:\n",
        "            score = keyword_matches / len(doc_text.split())\n",
        "        except Exception as e:\n",
        "            print(e)\n",
        "            score=0\n",
        "\n",
        "        results.append((doc, score))\n",
        "\n",
        "    # Trier les résultats par score\n",
        "    ranked_results = sorted(results, key=lambda x: x[1], reverse=True)\n",
        "    return [doc for doc, _ in ranked_results[:top_k]]\n",
        "\n",
        "system_prompt_exact=\"\"\"Extract the most relevant keywords from the following text to facilitate searching for important documents containing these terms. \n",
        "    Only provide the extracted keywords, without additional text or explanations.\n",
        "\"\"\"\n",
        "\n",
        "system_prompt_synonyms=\"\"\"Extract the most relevant keywords from the following text to facilitate searching for important documents.  \n",
        "\n",
        "- For each extracted keyword, also include its closest synonyms.  \n",
        "- Return all keywords and synonyms in a **single flat list**, without categorization, explanations, or additional text.  \n",
        "- Ensure the extracted terms are meaningful and relevant to the text's context.  \n",
        "\n",
        "### **Output Format:**  \n",
        "A **comma-separated** flat list of keywords and their closest synonyms.  \n",
        "\"\"\"\n",
        "\n",
        "prompt_extract_keyworks = ChatPromptTemplate.from_messages(\n",
        "    [\n",
        "        (\"system\", system_prompt_exact),\n",
        "        (\"human\", \"{question}\"),\n",
        "    ]\n",
        ")\n",
        "llm_extract_keyworks = prompt_extract_keyworks | llm_qa | StrOutputParser()\n",
        "resp=llm_extract_keyworks.invoke(question)\n",
        "remove_punctuation(resp)\n",
        "\n",
        "print(f\"Question: {question}\")\n",
        "keyword_association_retriever(query=question, top_k=10, print_keywords=True)"
      ]
    },
    {
      "cell_type": "markdown",
      "metadata": {
        "id": "1qwcW84RVz4l"
      },
      "source": [
        "## Document relevent assessement"
      ]
    },
    {
      "cell_type": "code",
      "execution_count": 24,
      "metadata": {
        "colab": {
          "base_uri": "https://localhost:8080/"
        },
        "id": "cOP-uuvWRQNQ",
        "outputId": "41dfc18c-6655-4733-c092-cd878f3bb88f"
      },
      "outputs": [
        {
          "name": "stdout",
          "output_type": "stream",
          "text": [
            "binary_score='yes'\n",
            "\n",
            "Feature 3. Theory of Change\n",
            "4. Beneficiaries\n",
            "Number of direct beneficiaries of the pilot project: 3245 people with the\n",
            "proportion of 30% women and 70% men. \n",
            "Number of indirect beneficiaries: 3000 people by assuming at least the\n",
            "project will give benefit indirectly to 1500 people per location including in\n",
            "East Kalimantan and Indonesia.\n",
            "The target groups include: \n",
            "- School children (primary schools and secondary schools)\n",
            "- Teachers (primary school teachers)\n"
          ]
        }
      ],
      "source": [
        "### Retrieval Grader\n",
        "\n",
        "\n",
        "from langchain_core.prompts import ChatPromptTemplate\n",
        "from langchain_openai import ChatOpenAI\n",
        "\n",
        "from pydantic import BaseModel, Field\n",
        "\n",
        "\n",
        "# Data model\n",
        "class GradeDocuments(BaseModel):\n",
        "    \"\"\"Binary score for relevance check on retrieved documents.\"\"\"\n",
        "\n",
        "    binary_score: str = Field(\n",
        "        description=\"Documents are relevant to the question, 'yes' or 'no'\"\n",
        "    )\n",
        "\n",
        "\n",
        "# LLM with function call\n",
        "llm = ChatOpenAI(model=\"gpt-4o-mini\", temperature=0)\n",
        "structured_llm_grader = llm.with_structured_output(GradeDocuments)\n",
        "\n",
        "# Prompt\n",
        "system = \"\"\"You are a grader assessing relevance of a retrieved document to a user question. \\n\n",
        "    It does not need to be a stringent test. The goal is to filter out erroneous retrievals. \\n\n",
        "    If the document contains keyword(s) or semantic meaning related to the user question, grade it as relevant. \\n\n",
        "    Give a binary score 'yes' or 'no' score to indicate whether the document is relevant to the question.\"\"\"\n",
        "grade_prompt = ChatPromptTemplate.from_messages(\n",
        "    [\n",
        "        (\"system\", system),\n",
        "        (\"human\", \"Retrieved document: \\n\\n {document} \\n\\n User question: {question}\"),\n",
        "    ]\n",
        ")\n",
        "\n",
        "retrieval_grader = grade_prompt | structured_llm_grader\n",
        "question = \"What is the specific country and city where the project is being implemented?\"\n",
        "docs = retriever_faiss.invoke(question)\n",
        "doc_txt = docs[3].page_content\n",
        "print(retrieval_grader.invoke({\"question\": question, \"document\": doc_txt}))\n",
        "print(doc_txt)"
      ]
    },
    {
      "cell_type": "markdown",
      "metadata": {
        "id": "9Bc8G5zdVu9i"
      },
      "source": [
        "#### Hybrid retrieval"
      ]
    },
    {
      "cell_type": "code",
      "execution_count": 25,
      "metadata": {
        "colab": {
          "base_uri": "https://localhost:8080/"
        },
        "id": "_FxqDLgqSP9s",
        "outputId": "8e0504f4-c684-4456-dc75-e54c36694ab4"
      },
      "outputs": [
        {
          "name": "stderr",
          "output_type": "stream",
          "text": [
            "Device set to use cuda:0\n"
          ]
        }
      ],
      "source": [
        "from langchain_core.runnables import chain\n",
        "\n",
        "\n",
        "dense_retriever = retriever_faiss\n",
        "sparse_retriever = sparse_retriever_tfidf\n",
        "\n",
        "from transformers import pipeline\n",
        "\n",
        "pipe_reranker = pipeline(\"question-answering\", model=\"deepset/roberta-base-squad2\", device=0)\n",
        "\n",
        "@chain\n",
        "def hybrid_retrieval(query, top_k=8, dense_retriever=dense_retriever, sparse_retriever=sparse_retriever):\n",
        "    # query = query[\"question\"]\n",
        "    dense_results = dense_retriever.get_relevant_documents(query)\n",
        "    sparse_results = sparse_retriever.get_relevant_documents(query)\n",
        "\n",
        "    # Fusionner\n",
        "    combined_results = dense_results + sparse_results + keyword_association_retriever(query)\n",
        "    \n",
        "\n",
        "    # Supprimer les doublons\n",
        "    unique_results = {doc.page_content: doc for doc in combined_results}.values()\n",
        "\n",
        "    \n",
        "    # Reranking with crossencoder\n",
        "    # reranked_results = reranker.predict([(query, doc.page_content) for doc in unique_results])\n",
        "    # sorted_results = sorted(zip(unique_results, reranked_results), key=lambda x: x[1], reverse=True)\n",
        "    print(f\"nb resultats uniques avant reranking: {len(unique_results)}\")\n",
        "    # Reranking with Q/A model\n",
        "    reranked_results=[{\"score\": pipe_reranker(query, doc.page_content)[\"score\"], \"doc\": doc} for doc in unique_results]\n",
        "    \n",
        "\n",
        "    # Filtrer sur 1ere moitiée\n",
        "    n=min(len(reranked_results), top_k)\n",
        "    sorted_results=sorted(reranked_results, key=lambda x: x[\"score\"]>0.25, reverse=True)[:n]\n",
        "    # ajout du score pour analyse\n",
        "    res=[]\n",
        "    for doc in sorted_results:\n",
        "        doc[\"doc\"].metadata[\"score\"]=doc[\"score\"]\n",
        "        res.append(doc[\"doc\"])\n",
        "    sorted_results=res    \n",
        "    \n",
        "    print(f\"nb resultats uniques après reranking: {len(sorted_results)}\")\n",
        "    \n",
        "\n",
        "\n",
        "    # return [doc for doc, _ in sorted_results[:top_k]]\n",
        "    return sorted_results"
      ]
    },
    {
      "cell_type": "code",
      "execution_count": 29,
      "metadata": {},
      "outputs": [
        {
          "name": "stdout",
          "output_type": "stream",
          "text": [
            "nb resultats uniques avant reranking: 25\n"
          ]
        },
        {
          "name": "stderr",
          "output_type": "stream",
          "text": [
            "/home/chougar/miniconda3/lib/python3.11/site-packages/transformers/pipelines/question_answering.py:391: FutureWarning: Passing a list of SQuAD examples to the pipeline is deprecated and will be removed in v5. Inputs should be passed using the `question` and `context` keyword arguments instead.\n",
            "  warnings.warn(\n"
          ]
        },
        {
          "name": "stdout",
          "output_type": "stream",
          "text": [
            "nb resultats uniques après reranking: 8\n",
            "Answer: The project is being implemented in Indonesia, specifically in the city of Samarinda and the surrounding areas of Paser District (Adang Bay village) and Kutai Kartanegara district (Delta Mahakam) in East Kalimantan Province.\n",
            "Sources:\n"
          ]
        },
        {
          "data": {
            "text/plain": [
              "{'question': 'What is the specific country and city where the project is being implemented?',\n",
              " 'context': [Document(metadata={'source': './data/PROJECT DOCUMENT MAHAKAM 2023-2025_balise.pdf', 'page': 0, 'score': 0.9597622752189636}, page_content='MANGROVE RESTORATION AND\\nLOCAL DEVELOPMENT PROJECT\\nFOREST PROGRAMME\\nProject title: MAHAKAM\\nCountry: Indonesia\\nImplementing  partners:  Yayasan\\nMangrove Lestari & Pokja Pesisir'),\n",
              "  Document(metadata={'source': './data/PROJECT DOCUMENT MAHAKAM 2023-2025_balise.pdf', 'page': 19, 'score': 0.3036922812461853}, page_content='\\n- Community members (villagers, consists of fish farmers, women group,\\nand youth)\\n- Village officials\\n- Stakeholders  from  various  institutions  (government  institutions,\\nuniversities, and non-government organizations)\\n- Public audience in general (reached by Media) \\n Other potential groups: \\n- High school and university students\\n- Environmental activists\\n5. Location\\nThe location of the project is in Paser District (Adang Bay village) and Kutai\\nKartanegara district (Delta Mahakam) East Kalimantan Province. The location\\nof project is nearby the new capital of Indonesia which is in the Penajam\\nPaser Utara (around 130-160 km)\\nFeature 4: Site intervention New Mahakam Project\\n6. Expected  results,  planned  activities  &  required\\nresources'),\n",
              "  Document(metadata={'source': './data/PROJECT DOCUMENT MAHAKAM 2023-2025_balise.pdf', 'page': 3, 'score': 0.0033014724031090736}, page_content='\\nMain Sustainable Development Goals (SDGs) to which the\\nproject contributes\\n\\u202f\\u202f\\u202f\\u202f  \\n \\u202f\\u202f\\u202f\\u202f \\n \\u202f\\u202f\\u202f\\u202f \\n \\u202f\\u202f\\u202f\\u202f \\n \\xa0\\u202f\\u202f\\u202f\\u202f  \\u202f\\u202f\\u202f\\u202f\\nMain SDG targets and indicators to which the project contributes: \\n\\uf0b7 12.8. By  2030,  ensure  that  people  everywhere  have  the  relevant\\ninformation  and awareness  for  sustainable  development and lifestyles  in\\nharmony with nature.  \\n\\uf0b7 13.1. Strengthen resilience and adaptive capacity to climate-related\\nhazards and natural disasters in all countries.  \\n\\uf0b7 13.3. Improve education, awareness-raising, human, and institutional\\ncapacity on climate  change  mitigation,  adaptation,  impact reduction and\\nearly warning.  \\n\\uf0b7 14.2. Sustainably manage and protect marine and coastal ecosystems\\nto  avoid  significant  adverse  impacts,  including  by  strengthening  their\\nresilience, and take action for their restoration in order to achieve healthy\\nand productive oceans.  \\n\\uf0b7 14.  B. Provide  access  for  small-scale  artisanal  fishers  to  marine\\nresources and markets.  \\n\\uf0b7 15.5. Take urgent and significant action to reduce the degradation of\\nnatural  habitats,  halt  the  loss  of  biodiversity,  protect  and  prevent  the\\nextinction of threatened species. \\nTable 0 *\\nProject duration 3 years (March 2023 – February 2026)\\nBudget & funding\\nTotal required \\nresources (€)\\n2023-2026\\n818\\xa0341 € // 903\\xa0613 USD\\nAuthor(s) YML, POKJA, Yayasan Planete Urgensi Indonesia,\\nPlanète Urgence\\nApproval by partners Planète\\nUrgence/Yayasan\\nPlanet Urgensi\\nIndonesia\\nName: Réonaldus\\nTitle:  Indonesia  National\\nDelegate\\nYML Name: Achmad Nuriyawan \\nTitle: Director\\nPOKJA Name: Hamsuri'),\n",
              "  Document(metadata={'source': './data/PROJECT DOCUMENT MAHAKAM 2023-2025_balise.pdf', 'page': 38, 'score': 0.0013193319318816066}, page_content='\\ndecide to contribute on the project. By doing this, the project aims to place \\nthe local people not as object the project, but the subject of project since \\nthey also contribute to design the activities of the project. \\nMoreover, regarding the new capital, the project expects to bring the voice \\nof local people in the coastal area in shaping the future plan of Mahakam \\nDelta and Adang Bay-Adang Bay. The involvement of local people will \\ncontribute to improve the governance in the coastal region.'),\n",
              "  Document(metadata={'source': './data/PROJECT DOCUMENT MAHAKAM 2023-2025_balise.pdf', 'page': 28, 'score': 0.0018241923535242677}, page_content='mining and water transportation activity. If this condition is allowed and \\nthere is no conservation effort, the population of proboscis monkey will \\ndecrease from year to year. Planting mangrove in the degraded area could \\nbe restore the species habitat. In the end of project, we will measure the \\nimpact of planting activity to the number of biodiverisity (either increased or \\nno direct linkage)\\n\\uf02d Target: Identify and collected databese of number of group & \\npopulation Proboscis monkey (Nasalis larvatus) in each of intervention \\narea\\n\\uf02d Locations: \\n11 This will wait for futher information from the implementation of Wildsense, but in the \\nmeantime the project will develop and improve the indicators to be reported and the \\nexisting monitoring arrangements.'),\n",
              "  Document(metadata={'source': './data/PROJECT DOCUMENT MAHAKAM 2023-2025_balise.pdf', 'page': 18, 'score': 0.08081609010696411}, page_content='\\nFeature 3. Theory of Change\\n4. Beneficiaries\\nNumber of direct beneficiaries of the pilot project: 3245 people with the\\nproportion of 30% women and 70% men. \\nNumber of indirect beneficiaries: 3000 people by assuming at least the\\nproject will give benefit indirectly to 1500 people per location including in\\nEast Kalimantan and Indonesia.\\nThe target groups include: \\n- School children (primary schools and secondary schools)\\n- Teachers (primary school teachers)'),\n",
              "  Document(metadata={'source': './data/PROJECT DOCUMENT MAHAKAM 2023-2025_balise.pdf', 'page': 31, 'score': 0.0011262508342042565}, page_content=\"\\n\\uf02d Location: Samarinda and Balikpapan.\\n\\uf02d Methods: offline meeting\\n\\uf02d Strategy of implementation: Collaboration  with Mahakam Delta and\\nAdang Bay authority. The government will invite the NGOs, PU will\\ndevelop ToR.\\n\\uf02d Output:  a  map  of  project  spots  of  each  actor  with  reforestation\\ninformation:  the  number  of  trees,  the  size  of  area,  supporting\\nactivities,  the  period  of  project,  the  monitoring  activities,  the  local\\ncommunity  partner  and  others.  And,  a  map  of  rehabilitation  area\\nwithout any intervention/project. \\nActivity 4.2. Conduct FPIC (Free, Prior and Informed Consent) to the\\nvillagers and village government regarding the activities, potential\\nbenefit and impact of the project.\\nFPIC (Free, Prior, and Informed Consent) clearly informs local communities\\nabout the project's expected results in order to obtain their prior agreement\\nbefore the project is implemented.\\nIt also helps to explain how the project will help the village achieve the World\\nBank FCPF/REDD+ project objectives which are government projects.\\n\\uf02d Target:  village  officials,  sub-village  representatives,  community\\nrepresentative (youth group, women, men) \\n\\uf02d Facilitator for training: Local partner and PU  \\n\\uf02d Location: Delta Mahakam Ulu and Adang Bay (Paser).  \\n\\uf02d Methods: semi-formal meeting in the village or sub village meeting \\n\\uf02d Strategy  of  implementation:  prior  communication  with  the  village\\nofficials and community representatives/figures.\\nActivity  4.3.  Conduct  Expose  with Key Stakeholders  in Mahakam\\nDelta and Adang Bay\\nThe objective of this activity is to deliver the program achievement each,\\ncollect the input for improvement for next year project from stakeholders.\\n\\uf02d Target:  Workshop  meeting  involved  key  stakeholders  (The  Nature\\nConservation  Agency,  The  Provincial  environment  and  Forestry\\nservices, Forest Management Unit)  \\n\\uf02d Methods: FGD Meeting \\n\\uf02d Location: Samarinda\"),\n",
              "  Document(metadata={'source': './data/PROJECT DOCUMENT MAHAKAM 2023-2025_balise.pdf', 'page': 55, 'score': 0.00011726265802280977}, page_content='\\nHuman resources – Planète Urgence\\nHuman resources – Implementing partners\\nManagement actions – Planète Urgence\\n(including meetings, missions, coordination workshops, \\nmonitoring and evaluations, quality assurance, reporting, \\ncommunication, etc.)\\nManagement actions – Implementing partner \\n(including meetings, missions, coordination workshops, \\nmonitoring and evaluations, quality assurance, reporting, \\ncommunication, etc.)\\nCapacity building of project management staff (Planète Urgence \\nand implementing partners)\\nMid-term assessment (as appropriate)\\nTerminal and final assessment (as appropriate)\\nAudit(s) (as appropriate)\\n</table>')]}"
            ]
          },
          "execution_count": 29,
          "metadata": {},
          "output_type": "execute_result"
        }
      ],
      "source": [
        "from langchain_core.runnables import RunnablePassthrough, RunnableParallel, RunnableLambda\n",
        "from langchain_core.prompts import ChatPromptTemplate\n",
        "from langchain_core.output_parsers import StrOutputParser\n",
        "\n",
        "# Define the retrieval step\n",
        "retrieval_step = RunnablePassthrough.assign(\n",
        "    context=lambda x: hybrid_retrieval.invoke(x[\"question\"])\n",
        ")\n",
        "\n",
        "# Define the prompt template\n",
        "rag_prompt = ChatPromptTemplate.from_template(\"\"\"\n",
        "    Answer the question based **only** on the provided context.  \n",
        "\n",
        "    - If the context contains enough information to provide a complete or partial answer, use it to formulate a detailed and factual response.  \n",
        "    - If the context lacks relevant information, respond with: \"I don't know.\"  \n",
        "\n",
        "    ### **Context:**  \n",
        "    {sources}  \n",
        "\n",
        "    ### **Question:**  \n",
        "    {question}  \n",
        "\n",
        "    ### **Answer:**  \n",
        "    Provide a clear, factual, and well-structured response based on the available context. Avoid speculation or adding external knowledge.  \n",
        "\"\"\")\n",
        "\n",
        "# Define the LLM and output parser\n",
        "\n",
        "output_parser = StrOutputParser()\n",
        "\n",
        "# Define the final pipeline\n",
        "rag_chain_with_sources = (\n",
        "    RunnableParallel({\n",
        "        \"question\": RunnablePassthrough(),  # Pass the question through\n",
        "        \"sources\": retrieval_step,         # Retrieve documents\n",
        "    })\n",
        "    | {\n",
        "        \"answer\": rag_prompt | llm_qa | output_parser,  # Generate the answer\n",
        "        \"sources\": lambda x: x[\"sources\"]           # Pass the retrieved documents\n",
        "    }\n",
        ")\n",
        "\n",
        "# Example question\n",
        "question = \"What is the specific country and city where the project is being implemented?\"\n",
        "\n",
        "# Invoke the pipeline\n",
        "generation = rag_chain_with_sources.invoke({\"question\": question})\n",
        "\n",
        "# Output the results\n",
        "print(\"Answer:\", generation[\"answer\"])\n",
        "print(\"Sources:\")\n",
        "generation[\"sources\"]"
      ]
    },
    {
      "cell_type": "markdown",
      "metadata": {
        "id": "KmkAw8k3VrLT"
      },
      "source": [
        "## Hallucination answer"
      ]
    },
    {
      "cell_type": "code",
      "execution_count": 31,
      "metadata": {
        "colab": {
          "base_uri": "https://localhost:8080/"
        },
        "id": "sUu4RMJhSP7m",
        "outputId": "b541b4e3-e6bc-45d0-da6c-27e482229e72"
      },
      "outputs": [
        {
          "data": {
            "text/plain": [
              "GradeHallucinations(binary_score='yes')"
            ]
          },
          "execution_count": 31,
          "metadata": {},
          "output_type": "execute_result"
        }
      ],
      "source": [
        "# Data model\n",
        "class GradeHallucinations(BaseModel):\n",
        "    \"\"\"Binary score for hallucination present in generation answer.\"\"\"\n",
        "\n",
        "    binary_score: str = Field(\n",
        "        description=\"Answer is grounded in the facts, 'yes' or 'no'\"\n",
        "    )\n",
        "\n",
        "\n",
        "# LLM with function call\n",
        "structured_llm_grader = llm.with_structured_output(GradeHallucinations)\n",
        "\n",
        "# Prompt\n",
        "system = \"\"\"You are a grader assessing whether an LLM generation is grounded in / supported by a set of retrieved facts. \\n\n",
        "     Give a binary score 'yes' or 'no'. 'Yes' means that the answer is grounded in / supported by the set of facts.\"\"\"\n",
        "\n",
        "hallucination_prompt = ChatPromptTemplate.from_messages(\n",
        "    [\n",
        "        (\"system\", system),\n",
        "        (\"human\", \"Set of facts: \\n\\n {documents} \\n\\n LLM generation: {generation}\"),\n",
        "    ]\n",
        ")\n",
        "\n",
        "hallucination_grader = hallucination_prompt | structured_llm_grader\n",
        "hallucination_grader.invoke({\"documents\": docs, \"generation\": generation})"
      ]
    },
    {
      "cell_type": "markdown",
      "metadata": {
        "id": "Cu_wDgRCVmMl"
      },
      "source": [
        "## Accurate answer"
      ]
    },
    {
      "cell_type": "code",
      "execution_count": 32,
      "metadata": {
        "colab": {
          "base_uri": "https://localhost:8080/"
        },
        "id": "oAlKXruGUGxG",
        "outputId": "01c221ee-d00d-40d4-ed35-7d4eb43796f7"
      },
      "outputs": [
        {
          "data": {
            "text/plain": [
              "GradeAnswer(binary_score='yes')"
            ]
          },
          "execution_count": 32,
          "metadata": {},
          "output_type": "execute_result"
        }
      ],
      "source": [
        "class GradeAnswer(BaseModel):\n",
        "    \"\"\"Binary score to assess answer addresses question.\"\"\"\n",
        "\n",
        "    binary_score: str = Field(\n",
        "        description=\"Answer addresses the question, 'yes' or 'no'\"\n",
        "    )\n",
        "\n",
        "\n",
        "# LLM with function call\n",
        "structured_llm_grader = llm.with_structured_output(GradeAnswer)\n",
        "\n",
        "# Prompt\n",
        "system = \"\"\"You are a grader assessing whether an answer addresses / resolves a question \\n\n",
        "     Give a binary score 'yes' or 'no'. Yes' means that the answer resolves the question.\"\"\"\n",
        "answer_prompt = ChatPromptTemplate.from_messages(\n",
        "    [\n",
        "        (\"system\", system),\n",
        "        (\"human\", \"User question: \\n\\n {question} \\n\\n LLM generation: {generation}\"),\n",
        "    ]\n",
        ")\n",
        "\n",
        "answer_grader = answer_prompt | structured_llm_grader\n",
        "answer_grader.invoke({\"question\": question, \"generation\": generation})"
      ]
    },
    {
      "cell_type": "markdown",
      "metadata": {
        "id": "p3wip9wcVjhH"
      },
      "source": [
        "## Reformulation of the initial query"
      ]
    },
    {
      "cell_type": "code",
      "execution_count": 33,
      "metadata": {
        "colab": {
          "base_uri": "https://localhost:8080/",
          "height": 36
        },
        "id": "K5BfH1l9SP4q",
        "outputId": "154be713-926a-449e-e45b-5f53abbc408f"
      },
      "outputs": [
        {
          "name": "stdout",
          "output_type": "stream",
          "text": [
            "Initial question:\n",
            "What is the specific country and city where the project is being implemented?\n"
          ]
        },
        {
          "data": {
            "text/plain": [
              "'Which country and city is the project being implemented in?'"
            ]
          },
          "execution_count": 33,
          "metadata": {},
          "output_type": "execute_result"
        }
      ],
      "source": [
        "system=\"\"\"\n",
        "    You are a question rewriter tasked with improving input questions to optimize them for vector store retrieval. \n",
        "    Your mission is to refine, rephrase, and enhance the provided questions to ensure they are:\n",
        "    * Clear and easy to understand.\n",
        "    * Focused.\n",
        "    * Optimized for effective retrieval by removing ambiguities.\n",
        "    * Written in an interrogative form while preserving the original intent.\n",
        "\n",
        "    #### Input Fields to Rework:\n",
        "    Example 1:\n",
        "    * Project Description: Reword questions that focus on the project’s overall scope and objectives.\n",
        "    Example 2:\n",
        "    * Country and City: Refine questions to specifically inquire about the project’s location.\n",
        "    Example 3:\n",
        "    * Target Beneficiaries: Enhance questions to clarify the population or group that benefits from the project.    \n",
        "    * Number of People Concerned: Rework questions to quantify how many people the project impacts.\n",
        "    Example 4:\n",
        "    * Context, Environment, Project Rationale, Challenges, include these topics to enhance the final output:\n",
        "            * Environmental Context\n",
        "            * Biodiversity\n",
        "            * Climate Change impacts\n",
        "            * Socio-Economic Context\n",
        "            * Economic, Demographic, Community impacts\n",
        "            * Institutional context\n",
        "            * Health context\n",
        "        Rephrase questions that ask for background information, challenges, and the reasoning behind the project.\n",
        "\n",
        "    Example 5:\n",
        "    * Project Start Date / End Date: Rework questions regarding the project’s timeline.\n",
        "    Example 6:\n",
        "    * Financial Information:\n",
        "        * Project Budget: Reword questions about the overall project budget.\n",
        "        * Total Project Cost: Rephrase inquiries about the total cost of the project.\n",
        "        * Donation Request Amount: Refine questions asking about the amount of funding requested.\n",
        "        * Provisional Project Budget: Rework questions about the detailed provisional budget for the project.\n",
        "        * Current Year Budget: Enhance questions related to the budget specific to the current year.\n",
        "\n",
        "\n",
        "    #### Response Format:\n",
        "    For each input question, rephrase it in a clear, and interrogative form, optimized for vector store retrieval. Return only the reworked question.\n",
        "\"\"\"\n",
        "\n",
        "re_write_prompt = ChatPromptTemplate.from_messages(\n",
        "    [\n",
        "        (\"system\", system),\n",
        "        (\n",
        "            \"human\",\n",
        "            \"Here is the initial question: \\n\\n {question} \\n Formulate an improved question.\",\n",
        "        ),\n",
        "    ]\n",
        ")\n",
        "\n",
        "question_rewriter = re_write_prompt | llm | StrOutputParser()\n",
        "print(f\"Initial question:\\n{question}\")\n",
        "question_rewriter.invoke({\"question\": question})"
      ]
    },
    {
      "cell_type": "markdown",
      "metadata": {
        "id": "2SVsXPsuVTRg"
      },
      "source": [
        "## Functions for langGraph"
      ]
    },
    {
      "cell_type": "code",
      "execution_count": 37,
      "metadata": {
        "id": "gUSX23cCUgJ8"
      },
      "outputs": [],
      "source": [
        "from pprint3x import pprint\n",
        "from typing import List\n",
        "\n",
        "from typing_extensions import TypedDict\n",
        "\n",
        "\n",
        "class GraphState(TypedDict):\n",
        "    \"\"\"\n",
        "    Represents the state of our graph.\n",
        "\n",
        "    Attributes:\n",
        "        question: question\n",
        "        generation: LLM generation\n",
        "        documents: list of documents\n",
        "    \"\"\"\n",
        "\n",
        "    question: str\n",
        "    generation: str\n",
        "    documents: List[str]\n",
        "\n",
        "\n",
        "\n",
        "def retrieve(state):\n",
        "    \"\"\"\n",
        "    Retrieve documents\n",
        "\n",
        "    Args:\n",
        "        state (dict): The current graph state\n",
        "\n",
        "    Returns:\n",
        "        state (dict): New key added to state, documents, that contains retrieved documents\n",
        "    \"\"\"\n",
        "    print(\"---RETRIEVE---\")\n",
        "    question = state[\"question\"]\n",
        "\n",
        "    # Retrieval\n",
        "    documents = retriever_faiss.invoke(question)\n",
        "    return {\"documents\": documents, \"question\": question}\n",
        "\n",
        "\n",
        "def generate(state):\n",
        "    \"\"\"\n",
        "    Generate answer\n",
        "\n",
        "    Args:\n",
        "        state (dict): The current graph state\n",
        "\n",
        "    Returns:\n",
        "        state (dict): New key added to state, generation, that contains LLM generation\n",
        "    \"\"\"\n",
        "    print(\"---GENERATE---\")\n",
        "    question = state[\"question\"]\n",
        "    documents = state[\"documents\"]\n",
        "\n",
        "    # RAG generation\n",
        "    generation = rag_chain_with_sources.invoke({\"context\": documents, \"question\": question})\n",
        "    return {\"documents\": documents, \"question\": question, \"generation\": generation}\n",
        "\n",
        "\n",
        "def grade_documents(state):\n",
        "    \"\"\"\n",
        "    Determines whether the retrieved documents are relevant to the question.\n",
        "\n",
        "    Args:\n",
        "        state (dict): The current graph state\n",
        "\n",
        "    Returns:\n",
        "        state (dict): Updates documents key with only filtered relevant documents\n",
        "    \"\"\"\n",
        "\n",
        "    print(\"---CHECK DOCUMENT RELEVANCE TO QUESTION---\")\n",
        "    question = state[\"question\"]\n",
        "    documents = state[\"documents\"]\n",
        "\n",
        "    # Score each doc\n",
        "    filtered_docs = []\n",
        "    for d in documents:\n",
        "        score = retrieval_grader.invoke(\n",
        "            {\"question\": question, \"document\": d.page_content}\n",
        "        )\n",
        "        grade = score.binary_score\n",
        "        if grade == \"yes\":\n",
        "            print(\"---GRADE: DOCUMENT RELEVANT---\")\n",
        "            filtered_docs.append(d)\n",
        "        else:\n",
        "            print(\"---GRADE: DOCUMENT NOT RELEVANT---\")\n",
        "            continue\n",
        "    return {\"documents\": filtered_docs, \"question\": question}\n",
        "\n",
        "\n",
        "def transform_query(state):\n",
        "    \"\"\"\n",
        "    Transform the query to produce a better question.\n",
        "\n",
        "    Args:\n",
        "        state (dict): The current graph state\n",
        "\n",
        "    Returns:\n",
        "        state (dict): Updates question key with a re-phrased question\n",
        "    \"\"\"\n",
        "\n",
        "    print(\"---TRANSFORM QUERY---\")\n",
        "    question = state[\"question\"]\n",
        "    documents = state[\"documents\"]\n",
        "\n",
        "    # Re-write question\n",
        "    better_question = question_rewriter.invoke({\"question\": question})\n",
        "    return {\"documents\": documents, \"question\": better_question}\n",
        "\n",
        "\n",
        "### Edges\n",
        "\n",
        "\n",
        "def decide_to_generate(state):\n",
        "    \"\"\"\n",
        "    Determines whether to generate an answer, or re-generate a question.\n",
        "\n",
        "    Args:\n",
        "        state (dict): The current graph state\n",
        "\n",
        "    Returns:\n",
        "        str: Binary decision for next node to call\n",
        "    \"\"\"\n",
        "\n",
        "    print(\"---ASSESS GRADED DOCUMENTS---\")\n",
        "    state[\"question\"]\n",
        "    filtered_documents = state[\"documents\"]\n",
        "\n",
        "    if not filtered_documents:\n",
        "        # All documents have been filtered check_relevance\n",
        "        # We will re-generate a new query\n",
        "        print(\n",
        "            \"---DECISION: ALL DOCUMENTS ARE NOT RELEVANT TO QUESTION, TRANSFORM QUERY---\"\n",
        "        )\n",
        "        return \"transform_query\"\n",
        "    else:\n",
        "        # We have relevant documents, so generate answer\n",
        "        print(\"---DECISION: GENERATE---\")\n",
        "        return \"generate\"\n",
        "\n",
        "\n",
        "def grade_generation_v_documents_and_question(state):\n",
        "    \"\"\"\n",
        "    Determines whether the generation is grounded in the document and answers question.\n",
        "\n",
        "    Args:\n",
        "        state (dict): The current graph state\n",
        "\n",
        "    Returns:\n",
        "        str: Decision for next node to call\n",
        "    \"\"\"\n",
        "\n",
        "    print(\"---CHECK HALLUCINATIONS---\")\n",
        "    question = state[\"question\"]\n",
        "    documents = state[\"documents\"]\n",
        "    generation = state[\"generation\"]\n",
        "\n",
        "    score = hallucination_grader.invoke(\n",
        "        {\"documents\": documents, \"generation\": generation}\n",
        "    )\n",
        "    grade = score.binary_score\n",
        "\n",
        "    # Check hallucination\n",
        "    if grade == \"yes\":\n",
        "        print(\"---DECISION: GENERATION IS GROUNDED IN DOCUMENTS---\")\n",
        "        # Check question-answering\n",
        "        print(\"---GRADE GENERATION vs QUESTION---\")\n",
        "        score = answer_grader.invoke({\"question\": question, \"generation\": generation})\n",
        "        grade = score.binary_score\n",
        "        if grade == \"yes\":\n",
        "            print(\"---DECISION: GENERATION ADDRESSES QUESTION---\")\n",
        "            return \"useful\"\n",
        "        else:\n",
        "            print(\"---DECISION: GENERATION DOES NOT ADDRESS QUESTION---\")\n",
        "            return \"not useful\"\n",
        "    else:\n",
        "        pprint(\"---DECISION: GENERATION IS NOT GROUNDED IN DOCUMENTS, RE-TRY---\")\n",
        "        return \"not supported\""
      ]
    },
    {
      "cell_type": "markdown",
      "metadata": {
        "id": "dMkD8qq2UquO"
      },
      "source": [
        "## Build the graph"
      ]
    },
    {
      "cell_type": "code",
      "execution_count": 38,
      "metadata": {
        "id": "kzfPBT4WUs4K"
      },
      "outputs": [],
      "source": [
        "from langgraph.graph import END, StateGraph, START\n",
        "\n",
        "workflow = StateGraph(GraphState)\n",
        "\n",
        "# Define the nodes\n",
        "workflow.add_node(\"retrieve\", retrieve)  # retrieve\n",
        "workflow.add_node(\"grade_documents\", grade_documents)  # grade documents\n",
        "workflow.add_node(\"generate\", generate)  # generatae\n",
        "workflow.add_node(\"transform_query\", transform_query)  # transform_query\n",
        "\n",
        "# Build graph\n",
        "workflow.add_edge(START, \"retrieve\")\n",
        "workflow.add_edge(\"retrieve\", \"grade_documents\")\n",
        "workflow.add_conditional_edges(\n",
        "    \"grade_documents\",\n",
        "    decide_to_generate,\n",
        "    {\n",
        "        \"transform_query\": \"transform_query\",\n",
        "        \"generate\": \"generate\",\n",
        "    },\n",
        ")\n",
        "workflow.add_edge(\"transform_query\", \"retrieve\")\n",
        "workflow.add_conditional_edges(\n",
        "    \"generate\",\n",
        "    grade_generation_v_documents_and_question,\n",
        "    {\n",
        "        \"not supported\": \"generate\",\n",
        "        \"useful\": END,\n",
        "        \"not useful\": \"transform_query\",\n",
        "    },\n",
        ")\n",
        "\n",
        "# Compile\n",
        "app = workflow.compile()"
      ]
    },
    {
      "cell_type": "markdown",
      "metadata": {
        "id": "x8Rb44pfVNks"
      },
      "source": [
        "## Call the workflow"
      ]
    },
    {
      "cell_type": "code",
      "execution_count": 39,
      "metadata": {
        "colab": {
          "base_uri": "https://localhost:8080/"
        },
        "id": "3gv5OefCU2B4",
        "outputId": "378a3480-e671-4c30-98a9-06b76414a5c2"
      },
      "outputs": [
        {
          "name": "stdout",
          "output_type": "stream",
          "text": [
            "---RETRIEVE---\n",
            "\"Node 'retrieve':\"\n",
            "<built-in method keys of dict object at 0x7f1c35a65d40>\n",
            "'\\n---\\n'\n",
            "---CHECK DOCUMENT RELEVANCE TO QUESTION---\n",
            "---GRADE: DOCUMENT RELEVANT---\n",
            "---GRADE: DOCUMENT NOT RELEVANT---\n",
            "---GRADE: DOCUMENT RELEVANT---\n",
            "---GRADE: DOCUMENT RELEVANT---\n",
            "---GRADE: DOCUMENT RELEVANT---\n",
            "---GRADE: DOCUMENT RELEVANT---\n",
            "---GRADE: DOCUMENT RELEVANT---\n",
            "---GRADE: DOCUMENT NOT RELEVANT---\n",
            "---GRADE: DOCUMENT RELEVANT---\n",
            "---GRADE: DOCUMENT RELEVANT---\n",
            "---ASSESS GRADED DOCUMENTS---\n",
            "---DECISION: GENERATE---\n",
            "\"Node 'grade_documents':\"\n",
            "<built-in method keys of dict object at 0x7f1c358821c0>\n",
            "'\\n---\\n'\n",
            "---GENERATE---\n",
            "nb resultats uniques avant reranking: 23\n"
          ]
        },
        {
          "name": "stderr",
          "output_type": "stream",
          "text": [
            "/home/chougar/miniconda3/lib/python3.11/site-packages/transformers/pipelines/question_answering.py:391: FutureWarning: Passing a list of SQuAD examples to the pipeline is deprecated and will be removed in v5. Inputs should be passed using the `question` and `context` keyword arguments instead.\n",
            "  warnings.warn(\n"
          ]
        },
        {
          "name": "stdout",
          "output_type": "stream",
          "text": [
            "nb resultats uniques après reranking: 8\n",
            "---CHECK HALLUCINATIONS---\n",
            "---DECISION: GENERATION IS GROUNDED IN DOCUMENTS---\n",
            "---GRADE GENERATION vs QUESTION---\n",
            "---DECISION: GENERATION ADDRESSES QUESTION---\n",
            "\"Node 'generate':\"\n",
            "<built-in method keys of dict object at 0x7f1c35907980>\n",
            "'\\n---\\n'\n",
            "{'answer': 'The project outlined in the context aims to restore the degraded '\n",
            "           'mangrove ecosystem in the Mahakam Delta and Adang Bay areas of '\n",
            "           'East Kalimantan, Indonesia. This initiative is crucial due to '\n",
            "           'several pressing challenges:\\n'\n",
            "           '\\n'\n",
            "           '1. **Impact of Covid-19**: The Covid-19 pandemic has significantly '\n",
            "           'affected life in Indonesia, particularly in East Kalimantan, which '\n",
            "           'has the highest exposure rate. The pandemic led to '\n",
            "           'government-imposed lockdowns and restrictions on community '\n",
            "           'activities, complicating project implementation. Although '\n",
            "           'activities began to normalize in early 2022, the emergence of the '\n",
            "           'Omicron variant posed additional challenges.\\n'\n",
            "           '\\n'\n",
            "           '2. **Key Problems Addressed**:\\n'\n",
            "           '   - **Lack of Awareness**: There is a significant lack of '\n",
            "           'awareness among local communities regarding the mangrove '\n",
            "           'ecosystem, biodiversity issues, and waste management.\\n'\n",
            "           '   - **Degraded Mangrove Forests**: A large area of mangrove '\n",
            "           'forest has been degraded, which negatively impacts local '\n",
            "           'resilience to climate change, the habitat of endangered species, '\n",
            "           'and the local economy.\\n'\n",
            "           '   - **Sustainable Livelihoods**: There is a lack of alternative '\n",
            "           'sustainable livelihoods for coastal communities, which exacerbates '\n",
            "           'economic challenges.\\n'\n",
            "           '   - **Poor Governance**: Governance issues related to mangrove '\n",
            "           'ecosystems and their environmental and economic implications are '\n",
            "           'prevalent.\\n'\n",
            "           '\\n'\n",
            "           '3. **Project Strategy**: The project, implemented by Planet '\n",
            "           'Urgence and its partners, will utilize the PU FORET strategy, '\n",
            "           'focusing on three main components:\\n'\n",
            "           '   - Restoring degraded forests.\\n'\n",
            "           '   - Raising environmental awareness among local communities.\\n'\n",
            "           '   - Strengthening the livelihoods of local people.\\n'\n",
            "           '\\n'\n",
            "           '4. **Community Involvement**: The success of the project hinges on '\n",
            "           'the active involvement of local NGOs, communities, and volunteers. '\n",
            "           'Additionally, the project emphasizes gender equality by providing '\n",
            "           'equal opportunities for men and women in capacity-building '\n",
            "           'activities and decision-making processes.\\n'\n",
            "           '\\n'\n",
            "           '5. **Monitoring and Evaluation**: The project includes a robust '\n",
            "           'monitoring and evaluation framework, with field monitoring '\n",
            "           'scheduled six times a year and internal evaluations at the '\n",
            "           \"project's conclusion. A third-party evaluation will also be \"\n",
            "           \"conducted to assess the project's overall impact and adherence to \"\n",
            "           'climate philanthropy methodologies.\\n'\n",
            "           '\\n'\n",
            "           'In summary, the project seeks to address critical environmental '\n",
            "           'and socio-economic challenges in East Kalimantan while navigating '\n",
            "           'the ongoing impacts of the Covid-19 pandemic.',\n",
            " 'sources': {'context': [Document(metadata={'source': './data/PROJECT DOCUMENT MAHAKAM 2023-2025_balise.pdf', 'page': 17, 'score': 0.002610060153529048}, page_content='\\nAnother issue that has also had a major impact on life in Indonesia, including\\nEast Kalimantan, is the Covid 19 global pandemic that has attacked the\\nentire world since early 2020.  The  Covid 19 pandemic has had a major\\nimpact on life in Indonesia. East Kalimantan is a province outside Java Island\\nwith  the  highest  rate  of  exposure  to  Covid,  which  has  resulted  in  the\\ngovernment imposing a lockdown and restrictions on community activities.\\nAt the beginning of 2022, community activities began to return to normal,\\nbut a new variant emerged, namely Omicron, which spread very quickly.\\nFacing a pandemic situation that has not ended, of course, the project must\\ncontinue  but  still  pay  attention  to  security,  safety,  and  practice  health\\nprotocols.\\n3. Strategy & theory of change\\nThe  three  years  project  aims  to  contribute  to  restore  the  degraded  of\\nmangrove  ecosystem  in  Production  Forest  (Mahakamm  Delta)  and\\nConservation area (Adang Bay). In doing so, the project will address the key\\nproblems in those regions: \\na. Lack  of  awareness  of  local  people  on  mangrove  ecosystem,\\nbiodiversity issue and waste\\nb. Huge area of degraded mangrove forest which affect the resilience of\\nlocal  people  in  facing  climate  change,  the  habitat  of  endangered\\nspecies and local economy;\\nc. Lack of alternative sustainable livelihood in coastal area;\\nd. Poor  governance  particularly  on  mangrove  ecosystem  and  its\\nenvironmental and economy issue.   \\nTo overcome those problems, Planet Urgence and its partners will work by\\nimplementing the PU FORET strategy which rely on three components:\\n1. Restore degraded forest;\\n2. Environmental awareness;\\n3. Strengthening livelihood of local people. \\nIn addition, the involvement of local NGOs, local community and volunteer is\\nkey for the successful of the project and the sustainability the impact of the'),\n",
            "                         Document(metadata={'source': './data/PROJECT DOCUMENT MAHAKAM 2023-2025_balise.pdf', 'page': 55, 'score': 0.0014734870055690408}, page_content='\\nHuman resources – Planète Urgence\\nHuman resources – Implementing partners\\nManagement actions – Planète Urgence\\n(including meetings, missions, coordination workshops, \\nmonitoring and evaluations, quality assurance, reporting, \\ncommunication, etc.)\\nManagement actions – Implementing partner \\n(including meetings, missions, coordination workshops, \\nmonitoring and evaluations, quality assurance, reporting, \\ncommunication, etc.)\\nCapacity building of project management staff (Planète Urgence \\nand implementing partners)\\nMid-term assessment (as appropriate)\\nTerminal and final assessment (as appropriate)\\nAudit(s) (as appropriate)\\n</table>'),\n",
            "                         Document(metadata={'source': './data/PROJECT DOCUMENT MAHAKAM 2023-2025_balise.pdf', 'page': 52, 'score': 9.825577762967441e-06}, page_content='project’s activities can be made against the business-as-usual scenario providing clarity on how the project can and\\nwill influence emissions reductions over time. \\nThe protocol developed by Planete Urgence adopts the baseline scenario and additionality tests based on the Verified\\nCarbon Standard (VCS) and Clean Development Mechanism (CDM)’s Afforestation/Reforestation methodological tools.\\nIt involves :'),\n",
            "                         Document(metadata={'source': './data/PROJECT DOCUMENT MAHAKAM 2023-2025_balise.pdf', 'page': 37, 'score': 0.0018877791007980704}, page_content=\"village interests \\n\\uf0b7 Provide  equal  opportunities  between  women  and  men  for  capacity\\nbuilding activities\\n\\uf0b7 Provide  opportunities  for  women's  groups  to  earn  income  through\\nmicro and small businesses\\n\\uf0b7 Encourage women's participation to be actively involved in decision\\nmaking both at the scale of households and at the group level, for\\nexample related to tree planting project.\\nTherefore, PU and its implementing partners will coordinate closely with \\ngender working group at the provincial and district levels to gain more \\nunderstanding the gender issue, challenge and possible solution in the \\ncoastal area. We also try to create gender friendly environment in order to \\nensure the women has active participation such as identifying the right time \\nfor women to participate, separate the women and men group if it will give \\nchance for women to speak, always ask and give chance to women to speak \\nin every meeting.  \\nIn addition, this project aims to acknowledge the rights of local people in the \\nproject by implementing the Free, Prior and Informed Consent (FPIC) on the \\nproject. PU and implementing partners will provide information of the \\nproject, the risk, the negative and positive impact of the project and let them\"),\n",
            "                         Document(metadata={'source': './data/PROJECT DOCUMENT MAHAKAM 2023-2025_balise.pdf', 'page': 43, 'score': 0.002319350140169263}, page_content='\\nreach the common\\ngoals in Delta \\nMahakam.\\n2) PU and Bioma \\nhave developed \\npractical guidance \\non how to conduct \\nFPIC in \\nreforestation \\nprojects. \\npilot project.\\nRelationship with \\nlocal partners\\nPU and \\nimplementing \\npartners have \\nstrong ties with \\nthe local authority \\nsuch as Forest \\nManagement Unit \\nand Conservation \\nagencies.\\nThe informal \\ncoordination will \\nbe conducted to \\nthose authority to \\ngain technical and \\nadministrative \\nsupport from \\nthem. \\nCapacity building \\nof our local \\npartners \\nYML has really \\ngood knowledge \\nand technical skills\\nin reforestation \\nand sylvofishery.  \\n Pokja Pesisir has \\ngood \\ncommunication \\nwith key \\nstakeholders at \\nthe village and \\nregion levels \\n(BKSDA) \\n \\nYML still has a lack\\nof capacity and \\ninitiative to \\nconduct data \\nmonitoring related\\nto sylvofishery and\\nis reluctant to \\nwork with \\nuniversity.\\nPokja Pesisir in \\nother side has still \\nlacks experience \\nin reforestation \\nskills, particularly \\ndata collection. \\nPU Indonesia will \\nprovide tools to \\nYML and Pokja \\nPesisir to conduct \\ndata collection and\\nregularly \\nmonitoring the \\nimplementation.\\nHiring consultant Local consultant \\nhas better \\nunderstanding on \\nlocal social and \\nenvironmental \\ncontext\\n1) The English \\nskill, writing and \\nspeaking, of local \\nconsultant is \\nrelatively poor. 2)  \\nThe local \\nconsultant \\napparently does \\nnot have a 100 \\npercent freedom \\nClear objectives \\nand indicators are \\nneeded to guide \\nthe local \\nconsultant. \\nMoreover, a rapid \\ninternal \\nassessment is \\nneeded to \\ncomplement the'),\n",
            "                         Document(metadata={'source': './data/PROJECT DOCUMENT MAHAKAM 2023-2025_balise.pdf', 'page': 19, 'score': 0.001502276281826198}, page_content='\\n- Community members (villagers, consists of fish farmers, women group,\\nand youth)\\n- Village officials\\n- Stakeholders  from  various  institutions  (government  institutions,\\nuniversities, and non-government organizations)\\n- Public audience in general (reached by Media) \\n Other potential groups: \\n- High school and university students\\n- Environmental activists\\n5. Location\\nThe location of the project is in Paser District (Adang Bay village) and Kutai\\nKartanegara district (Delta Mahakam) East Kalimantan Province. The location\\nof project is nearby the new capital of Indonesia which is in the Penajam\\nPaser Utara (around 130-160 km)\\nFeature 4: Site intervention New Mahakam Project\\n6. Expected  results,  planned  activities  &  required\\nresources'),\n",
            "                         Document(metadata={'source': './data/PROJECT DOCUMENT MAHAKAM 2023-2025_balise.pdf', 'page': 52, 'score': 0.0002556674007792026}, page_content='\\ne.Field monitoring six times in a year.\\nf. Internal evaluation at the end of project\\nIn addition, the project includes a third party evaluation during year 3 for final evaluation of the project’s activities\\nand conduction of the climate philanthropy methodology.\\nThe final evaluation will be conducted via remote evaluation and onsite visit of the project.\\nIt will include at minimum :\\n\\uf0b7 An inventory of the activities that have taken place in relation to the project plan (including planting activities,\\nincreased livelihoods and environmental awareness)\\n\\uf0b7 Review of carbon  sequestration  calculations  and monitoring  protocols,  based on the  climate  philanthropy\\nmethodology  developed  by  Planète  Urgence  (zone  boundaries,  baseline  scenario,  demonstration  of\\nadditionality, ex-ante carbon calculation, and first ex-post measures on year 3 linked with survival rate)\\n\\uf0b7 Review of project, monitoring and activity reports\\n\\uf0b7 Redaction of the audit report\\nCompletion  of  baseline  and  proof  of  additionality,  accompanied  by  EX-ANTE  calculation  of  GHG\\nemissions/sequestrations\\nAccording with Planete Urgence’s methodology on Climate Philanthropy, the project will monitor carbon sequestration\\nimpacts.\\nTo do so, Planète Urgence team will develop a baseline scenario illustrating the activities and greenhouse gas (GHG)\\nemissions that would occur in the absence of a project’s activity. Developing this baseline will be the foundation of\\nmeasuring the project’s emissions reductions or removals; it will set the benchmark by which a comparison of the\\nproject’s activities can be made against the business-as-usual scenario providing clarity on how the project can and\\nwill influence emissions reductions over time. \\nThe protocol developed by Planete Urgence adopts the baseline scenario and additionality tests based on the Verified\\nCarbon Standard (VCS) and Clean Development Mechanism (CDM)’s Afforestation/Reforestation methodological tools.'),\n",
            "                         Document(metadata={'source': './data/PROJECT DOCUMENT MAHAKAM 2023-2025_balise.pdf', 'page': 3, 'score': 0.0005428894073702395}, page_content='\\nMain Sustainable Development Goals (SDGs) to which the\\nproject contributes\\n\\u202f\\u202f\\u202f\\u202f  \\n \\u202f\\u202f\\u202f\\u202f \\n \\u202f\\u202f\\u202f\\u202f \\n \\u202f\\u202f\\u202f\\u202f \\n \\xa0\\u202f\\u202f\\u202f\\u202f  \\u202f\\u202f\\u202f\\u202f\\nMain SDG targets and indicators to which the project contributes: \\n\\uf0b7 12.8. By  2030,  ensure  that  people  everywhere  have  the  relevant\\ninformation  and awareness  for  sustainable  development and lifestyles  in\\nharmony with nature.  \\n\\uf0b7 13.1. Strengthen resilience and adaptive capacity to climate-related\\nhazards and natural disasters in all countries.  \\n\\uf0b7 13.3. Improve education, awareness-raising, human, and institutional\\ncapacity on climate  change  mitigation,  adaptation,  impact reduction and\\nearly warning.  \\n\\uf0b7 14.2. Sustainably manage and protect marine and coastal ecosystems\\nto  avoid  significant  adverse  impacts,  including  by  strengthening  their\\nresilience, and take action for their restoration in order to achieve healthy\\nand productive oceans.  \\n\\uf0b7 14.  B. Provide  access  for  small-scale  artisanal  fishers  to  marine\\nresources and markets.  \\n\\uf0b7 15.5. Take urgent and significant action to reduce the degradation of\\nnatural  habitats,  halt  the  loss  of  biodiversity,  protect  and  prevent  the\\nextinction of threatened species. \\nTable 0 *\\nProject duration 3 years (March 2023 – February 2026)\\nBudget & funding\\nTotal required \\nresources (€)\\n2023-2026\\n818\\xa0341 € // 903\\xa0613 USD\\nAuthor(s) YML, POKJA, Yayasan Planete Urgensi Indonesia,\\nPlanète Urgence\\nApproval by partners Planète\\nUrgence/Yayasan\\nPlanet Urgensi\\nIndonesia\\nName: Réonaldus\\nTitle:  Indonesia  National\\nDelegate\\nYML Name: Achmad Nuriyawan \\nTitle: Director\\nPOKJA Name: Hamsuri')],\n",
            "             'question': 'Context, environment, project rationale and '\n",
            "                         'challenges'}}\n"
          ]
        }
      ],
      "source": [
        "from pprint3x import pprint\n",
        "\n",
        "# Run\n",
        "# question=\"Number of people concerned\"\n",
        "question=\"Context, environment, project rationale and challenges\"\n",
        "# question=\"Project start date / end date\"\n",
        "# question=\"Country and city\"\n",
        "inputs = {\"question\": question}\n",
        "for output in app.stream(inputs):\n",
        "    for key, value in output.items():\n",
        "        # Node\n",
        "        pprint(f\"Node '{key}':\")\n",
        "        # Optional: print full state at each node\n",
        "        pprint(value.keys, indent=2, width=80, depth=None)\n",
        "    pprint(\"\\n---\\n\")\n",
        "\n",
        "# Final generation\n",
        "pprint(value[\"generation\"])"
      ]
    },
    {
      "cell_type": "code",
      "execution_count": 44,
      "metadata": {},
      "outputs": [
        {
          "name": "stdout",
          "output_type": "stream",
          "text": [
            "Graph saved as workflow_graph.png\n"
          ]
        }
      ],
      "source": [
        "from graphviz import Digraph\n",
        "\n",
        "# Create a Graphviz Digraph\n",
        "dot = Digraph(comment=\"LangGraph Workflow\")\n",
        "\n",
        "# Add nodes\n",
        "dot.node(\"START\", \"START\")\n",
        "dot.node(\"retrieve\", \"Retrieve\")\n",
        "dot.node(\"grade_documents\", \"Grade Documents\")\n",
        "dot.node(\"generate\", \"Generate\")\n",
        "dot.node(\"transform_query\", \"Transform Query\")\n",
        "dot.node(\"END\", \"END\")\n",
        "\n",
        "# Add edges\n",
        "dot.edge(\"START\", \"retrieve\")\n",
        "dot.edge(\"retrieve\", \"grade_documents\")\n",
        "dot.edge(\"grade_documents\", \"transform_query\", label=\"transform_query\")\n",
        "dot.edge(\"grade_documents\", \"generate\", label=\"generate\")\n",
        "dot.edge(\"transform_query\", \"retrieve\")\n",
        "dot.edge(\"generate\", \"generate\", label=\"not supported\")\n",
        "dot.edge(\"generate\", \"END\", label=\"useful\")\n",
        "dot.edge(\"generate\", \"transform_query\", label=\"not useful\")\n",
        "\n",
        "# Render the graph\n",
        "dot.render(\"workflow_graph\", format=\"png\", cleanup=True)\n",
        "print(\"Graph saved as workflow_graph.png\")"
      ]
    }
  ],
  "metadata": {
    "colab": {
      "provenance": []
    },
    "kernelspec": {
      "display_name": "base",
      "language": "python",
      "name": "python3"
    },
    "language_info": {
      "codemirror_mode": {
        "name": "ipython",
        "version": 3
      },
      "file_extension": ".py",
      "mimetype": "text/x-python",
      "name": "python",
      "nbconvert_exporter": "python",
      "pygments_lexer": "ipython3",
      "version": "3.11.8"
    }
  },
  "nbformat": 4,
  "nbformat_minor": 0
}
