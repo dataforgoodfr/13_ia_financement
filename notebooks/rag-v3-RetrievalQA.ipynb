{
 "cells": [
  {
   "cell_type": "markdown",
   "metadata": {
    "id": "ki9p6ppKlURf"
   },
   "source": [
    "#### RAG avec les chaine RetrievalQA et LCEL (LangChain Expression Language) de langchain\n",
    "Après avoir expérimenté une chaine de RAG basique dans les notebook v2, j'essaie dans cette v3 les chaînes:\n",
    "* RetrievalQA: fonction 'legacy' de langchain, avec un paramètre `refine`, qui permet d'amériorer une réponse initiale en itérant successivement sur les différents documents fourni par le retriever \n",
    "* LCEL: méthode plus récente et conseillée par la doc langchain, plus légère et flexible\n",
    "\n",
    "Ci-dessous une comparaison des 3 méthodes:\n",
    "### Comparison Table\n",
    "\n",
    "| Feature           | Method 1: Basic RAG Chain                  | Method 2: RetrievalQA Chain                | Method 3: LCEL RAG Chain                   |\n",
    "|-------------------|-------------------------------------------|--------------------------------------------|-------------------------------------------|\n",
    "| Structure         | Linear pipeline                           | Abstracted, built-in class                 | Programmatic, flexible pipeline           |\n",
    "| Customization     | Low                                       | Medium                                     | High                                      |\n",
    "| Ease of Use       | Easy                                      | Very easy                                  | Moderate (requires LCEL knowledge)        |\n",
    "| Output Control    | Basic (string output)                     | Can return source documents                | Flexible (customizable output)            |\n",
    "| Use Case          | Simple RAG tasks                          | Quick, out-of-the-box RAG                  | Advanced, complex RAG workflows           |\n",
    "\n",
    "### Which Method to Use?\n",
    "\n",
    "- **Method 1:** Use this for simple RAG tasks where you don’t need much customization.\n",
    "- **Method 2:** Use this for quick implementations or when you want a pre-built solution with minimal setup.\n",
    "- **Method 3:** Use this for advanced use cases where you need full control over the pipeline or want to implement complex logic.\n",
    "\n"
   ]
  },
  {
   "cell_type": "markdown",
   "metadata": {
    "id": "8DDupywdmlFw"
   },
   "source": [
    "### Librairies"
   ]
  },
  {
   "cell_type": "code",
   "execution_count": 5,
   "metadata": {
    "colab": {
     "base_uri": "https://localhost:8080/"
    },
    "executionInfo": {
     "elapsed": 52585,
     "status": "ok",
     "timestamp": 1730739178509,
     "user": {
      "displayName": "thomas boehler",
      "userId": "18209330116931111774"
     },
     "user_tz": -60
    },
    "id": "_7BgHOxXmCEi",
    "outputId": "595841f2-e6bf-4fb7-d71a-73bbf2f6c016"
   },
   "outputs": [],
   "source": [
    "# ! pip install langchain_community tiktoken langchain-openai langchainhub chromadb langchain pypdf"
   ]
  },
  {
   "cell_type": "markdown",
   "metadata": {
    "id": "XBRA3gCnmb7z"
   },
   "source": [
    "Variables d'nvironement "
   ]
  },
  {
   "cell_type": "code",
   "execution_count": 1,
   "metadata": {
    "id": "xR8_C76bma9X"
   },
   "outputs": [
    {
     "data": {
      "text/plain": [
       "True"
      ]
     },
     "execution_count": 1,
     "metadata": {},
     "output_type": "execute_result"
    }
   ],
   "source": [
    "import dotenv\n",
    "\n",
    "dotenv.load_dotenv(\"/home/chougar/Documents/GitHub/Formation_datascientest/DL-NLP/.env\")"
   ]
  },
  {
   "cell_type": "markdown",
   "metadata": {
    "id": "qjs5RwYgnABE"
   },
   "source": [
    "## Import librairies"
   ]
  },
  {
   "cell_type": "code",
   "execution_count": null,
   "metadata": {
    "id": "L0ihNcRElURk"
   },
   "outputs": [],
   "source": [
    "# libraries and models setup\n",
    "import os\n",
    "from langchain.document_loaders import PyPDFLoader\n",
    "from langchain.text_splitter import RecursiveCharacterTextSplitter\n",
    "from langchain.embeddings.openai import OpenAIEmbeddings\n",
    "from langchain.vectorstores import Chroma, FAISS\n",
    "from langchain.retrievers import SelfQueryRetriever\n",
    "from langchain.chains import RetrievalQA\n",
    "from langchain_openai import ChatOpenAI, OpenAIEmbeddings\n",
    "from langchain_ollama.llms import OllamaLLM\n",
    "from time import time as timing\n"
   ]
  },
  {
   "cell_type": "markdown",
   "metadata": {},
   "source": [
    "#### LLM & modele d'embedding à utiliser\n"
   ]
  },
  {
   "cell_type": "code",
   "execution_count": 3,
   "metadata": {},
   "outputs": [],
   "source": [
    "# model_name=\"qwen2.5:3b\"\n",
    "# model_name=\"mistral:latest\"\n",
    "# model_name=\"deepseek-r1:8b\"\n",
    "# model_qa_name=\"hf.co/bartowski/Falcon3-7B-Instruct-GGUF:Q4_0\"\n",
    "# model_qa_alias=\"falcon3-7b-mamba\"\n",
    "# llm_qa = OllamaLLM(model=model_qa_name, temperature=0.2)\n",
    "\n",
    "model_qa_name=\"gpt-4o-mini\"\n",
    "model_qa_alias=\"gpt-4-mini\"\n",
    "llm_qa = ChatOpenAI(model_name=model_qa_name, temperature=0.2)\n",
    "\n",
    "\n",
    "\n",
    "# Embeddings model definition\n",
    "# model_emb_name='text-embedding-ada-002'\n",
    "model_emb_name=\"text-embedding-3-small\"\n",
    "embedding_model = OpenAIEmbeddings(model=model_emb_name)\n"
   ]
  },
  {
   "cell_type": "markdown",
   "metadata": {},
   "source": [
    "#### Evaluateurs\n",
    "1. LLM"
   ]
  },
  {
   "cell_type": "code",
   "execution_count": 4,
   "metadata": {
    "id": "wk6hqZKalURr"
   },
   "outputs": [],
   "source": [
    "llm_evaluator = ChatOpenAI(model_name=\"gpt-4o\", temperature=0.2)"
   ]
  },
  {
   "cell_type": "markdown",
   "metadata": {},
   "source": [
    "2. Modèle spécialisé:\n",
    "https://huggingface.co/lytang/MiniCheck-Flan-T5-Large"
   ]
  },
  {
   "cell_type": "code",
   "execution_count": null,
   "metadata": {},
   "outputs": [
    {
     "name": "stderr",
     "output_type": "stream",
     "text": [
      "2025-03-06 12:44:06.728083: E external/local_xla/xla/stream_executor/cuda/cuda_fft.cc:477] Unable to register cuFFT factory: Attempting to register factory for plugin cuFFT when one has already been registered\n",
      "WARNING: All log messages before absl::InitializeLog() is called are written to STDERR\n",
      "E0000 00:00:1741261446.893823    9520 cuda_dnn.cc:8310] Unable to register cuDNN factory: Attempting to register factory for plugin cuDNN when one has already been registered\n",
      "E0000 00:00:1741261446.937340    9520 cuda_blas.cc:1418] Unable to register cuBLAS factory: Attempting to register factory for plugin cuBLAS when one has already been registered\n",
      "Evaluating:   0%|          | 0/2 [00:00<?, ?it/s]Passing a tuple of `past_key_values` is deprecated and will be removed in Transformers v4.48.0. You should pass an instance of `EncoderDecoderCache` instead, e.g. `past_key_values=EncoderDecoderCache.from_legacy_cache(past_key_values)`.\n",
      "Evaluating: 100%|██████████| 2/2 [00:13<00:00,  6.91s/it]"
     ]
    },
    {
     "name": "stdout",
     "output_type": "stream",
     "text": [
      "[1, 0]\n",
      "[0.9805923700332642, 0.007121290545910597]\n"
     ]
    },
    {
     "name": "stderr",
     "output_type": "stream",
     "text": [
      "\n"
     ]
    }
   ],
   "source": [
    "from minicheck.minicheck import MiniCheck\n",
    "import os\n",
    "os.environ[\"CUDA_VISIBLE_DEVICES\"] = \"cpu\"\n",
    "\n",
    "loaded_models={\"specialized_evaluator\": False}\n",
    "\n",
    "doc = \"A group of students gather in the school library to study for their upcoming final exams.\"\n",
    "claim_1 = \"The students are preparing for an examination.\"\n",
    "claim_2 = \"The students are on vacation.\"\n",
    "\n",
    "# model_name can be one of ['roberta-large', 'deberta-v3-large', 'flan-t5-large', 'Bespoke-MiniCheck-7B']\n",
    "specialized_evaluator = MiniCheck(model_name='flan-t5-large', cache_dir='./ckpts')\n",
    "loaded_models[\"specialized_evaluator\"]=True\n",
    "\n",
    "pred_label, raw_prob, _, _ = specialized_evaluator.score(docs=[doc, doc], claims=[claim_1, claim_2])\n",
    "# pred_label, raw_prob, _, _ = scorer.score(docs=[doc], claims=[claim_2])\n",
    "\n",
    "print(pred_label) # [1, 0]\n",
    "print(raw_prob)   # [0.9805923700332642, 0.007121307775378227]\n"
   ]
  },
  {
   "cell_type": "code",
   "execution_count": 43,
   "metadata": {},
   "outputs": [],
   "source": [
    "\n",
    "\n",
    "# def purge_vram(specialized_evaluator=specialized_evaluator):\n",
    "#     import torch\n",
    "#     torch.cuda.empty_cache()\n",
    "\n",
    "#     if loaded_models[\"specialized_evaluator\"]:\n",
    "#         del specialized_evaluator\n",
    "#         specialized_evaluator=None\n",
    "#         loaded_models[\"specialized_evaluator\"]=False\n",
    "#         print(\"specialized_evaluator deleted\")\n",
    "        \n",
    "# # purge_vram(specialized_evaluator)"
   ]
  },
  {
   "cell_type": "markdown",
   "metadata": {
    "id": "nxyjANxzlURs"
   },
   "source": [
    "#### Step 2: charger le PP"
   ]
  },
  {
   "cell_type": "code",
   "execution_count": 9,
   "metadata": {
    "id": "7qJOMDXGlURt"
   },
   "outputs": [],
   "source": [
    "pdf_file_path = './data/PROJECT DOCUMENT MAHAKAM 2023-2025_balise.pdf'\n",
    "\n",
    "# Create a loader instance\n",
    "loader = PyPDFLoader(pdf_file_path)\n",
    "\n",
    "# Load the data from the PDF\n",
    "data = loader.load()"
   ]
  },
  {
   "cell_type": "markdown",
   "metadata": {
    "id": "zBCs5_2KlURu"
   },
   "source": [
    "#### Step 3: Split  PDF en fragments\n",
    "Basé sur l'expérience du notebook `rag-v2-gridSearch`, le meilleur modèle et chunk size/overlap sont `text-embedding-ada-002` et 2000 / 400\n"
   ]
  },
  {
   "cell_type": "code",
   "execution_count": 10,
   "metadata": {
    "id": "J-DCTwi0lURu"
   },
   "outputs": [],
   "source": [
    "text_splitter = RecursiveCharacterTextSplitter(chunk_size=2000, chunk_overlap=400)\n",
    "\n",
    "docs = text_splitter.split_documents(data)"
   ]
  },
  {
   "cell_type": "code",
   "execution_count": 11,
   "metadata": {},
   "outputs": [],
   "source": [
    "# nettoyage\n",
    "bruits=[\"Planète Urgence | FOREST Programme\"]\n",
    "for doc in docs:\n",
    "    for bruit in bruits:\n",
    "        if bruit in doc.page_content:\n",
    "            doc.page_content=doc.page_content.replace(bruit, \"\")"
   ]
  },
  {
   "cell_type": "markdown",
   "metadata": {
    "id": "kRZWwTP1lURv"
   },
   "source": [
    "#### Step 4: Creation d'un BD Chroma"
   ]
  },
  {
   "cell_type": "code",
   "execution_count": null,
   "metadata": {
    "id": "WAM1zaJ_lURw"
   },
   "outputs": [],
   "source": [
    "db_path = \"./\"\n",
    "\n",
    "chroma_db = Chroma.from_documents(docs, embedding_model, persist_directory=db_path,)\n",
    "\n",
    "faiss_db = FAISS.from_documents(docs, embedding_model,)\n",
    "\n"
   ]
  },
  {
   "cell_type": "markdown",
   "metadata": {
    "id": "YSF7jLFglURw"
   },
   "source": [
    "#### Step 5: Retrait documents pertinents (phase RETRIEVAL)\n",
    "Basé sur l'expérience du notebook `rag-v2-gridSearch`, le meilleur k=12 et la meilleure méthode de recherche est `mmr`"
   ]
  },
  {
   "cell_type": "code",
   "execution_count": 19,
   "metadata": {
    "colab": {
     "base_uri": "https://localhost:8080/"
    },
    "executionInfo": {
     "elapsed": 739,
     "status": "ok",
     "timestamp": 1730739567580,
     "user": {
      "displayName": "thomas boehler",
      "userId": "18209330116931111774"
     },
     "user_tz": -60
    },
    "id": "e8tI5DdulURy",
    "outputId": "598d4f9e-f186-44d7-958d-c65a3282b7fb"
   },
   "outputs": [
    {
     "name": "stdout",
     "output_type": "stream",
     "text": [
      "t1 :0.7505199909210205\n",
      "chroma_db: [Document(metadata={'page': 5, 'source': './data/PROJECT DOCUMENT MAHAKAM 2023-2025_balise.pdf'}, page_content='(sustainable ponds and sylvo fishery models) 22\\nActivity 3.2. Train community groups particularly women group on the \\nfinancial management and product marketing. 22\\nOUTPUT 4. THE SUSTAINABLE COASTAL GOVERNANCE IN DELTA MAHAKAM AND ADANG BAY ARE \\nSTRENGTHENED 23\\nActivity 4.1. Facilitate coordination meeting among Mahakam Delta and \\nAdang Bay’s actors to synergize the program 23\\n7. PARTNERSHIPS 26\\n8. CROSS-CUTTING APPROACHES 29\\n9. KNOWLEDGE MANAGEMENT, CAPITALIZATION & COMMUNICATION 31\\n10. SUSTAINABILITY, SCALING-UP AND/OR EXIT STRATEGY 36\\n11. RESULTS FRAMEWORK 38\\n12. MONITORING & EVALUATION 42\\n13. TIMELINE 44'), Document(metadata={'page': 5, 'source': './data/PROJECT DOCUMENT MAHAKAM 2023-2025_balise.pdf'}, page_content='(sustainable ponds and sylvo fishery models) 22\\nActivity 3.2. Train community groups particularly women group on the \\nfinancial management and product marketing. 22\\nOUTPUT 4. THE SUSTAINABLE COASTAL GOVERNANCE IN DELTA MAHAKAM AND ADANG BAY ARE \\nSTRENGTHENED 23\\nActivity 4.1. Facilitate coordination meeting among Mahakam Delta and \\nAdang Bay’s actors to synergize the program 23\\n7. PARTNERSHIPS 26\\n8. CROSS-CUTTING APPROACHES 29\\n9. KNOWLEDGE MANAGEMENT, CAPITALIZATION & COMMUNICATION 31\\n10. SUSTAINABILITY, SCALING-UP AND/OR EXIT STRATEGY 36\\n11. RESULTS FRAMEWORK 38\\n12. MONITORING & EVALUATION 42\\n13. TIMELINE 44'), Document(metadata={'page': 5, 'source': './data/PROJECT DOCUMENT MAHAKAM 2023-2025_balise.pdf'}, page_content='(sustainable ponds and sylvo fishery models) 22\\nActivity 3.2. Train community groups particularly women group on the \\nfinancial management and product marketing. 22\\nOUTPUT 4. THE SUSTAINABLE COASTAL GOVERNANCE IN DELTA MAHAKAM AND ADANG BAY ARE \\nSTRENGTHENED 23\\nActivity 4.1. Facilitate coordination meeting among Mahakam Delta and \\nAdang Bay’s actors to synergize the program 23\\n7. PARTNERSHIPS 26\\n8. CROSS-CUTTING APPROACHES 29\\n9. KNOWLEDGE MANAGEMENT, CAPITALIZATION & COMMUNICATION 31\\n10. SUSTAINABILITY, SCALING-UP AND/OR EXIT STRATEGY 36\\n11. RESULTS FRAMEWORK 38\\n12. MONITORING & EVALUATION 42\\n13. TIMELINE 44'), Document(metadata={'page': 5, 'source': './data/PROJECT DOCUMENT MAHAKAM 2023-2025_balise.pdf'}, page_content='(sustainable ponds and sylvo fishery models) 22\\nActivity 3.2. Train community groups particularly women group on the \\nfinancial management and product marketing. 22\\nOUTPUT 4. THE SUSTAINABLE COASTAL GOVERNANCE IN DELTA MAHAKAM AND ADANG BAY ARE \\nSTRENGTHENED 23\\nActivity 4.1. Facilitate coordination meeting among Mahakam Delta and \\nAdang Bay’s actors to synergize the program 23\\n7. PARTNERSHIPS 26\\n8. CROSS-CUTTING APPROACHES 29\\n9. KNOWLEDGE MANAGEMENT, CAPITALIZATION & COMMUNICATION 31\\n10. SUSTAINABILITY, SCALING-UP AND/OR EXIT STRATEGY 36\\n11. RESULTS FRAMEWORK 38\\n12. MONITORING & EVALUATION 42\\n13. TIMELINE 44'), Document(metadata={'page': 22, 'source': './data/PROJECT DOCUMENT MAHAKAM 2023-2025_balise.pdf'}, page_content='community becomes dirty.\\n\\uf02d Target: 100 persons local community involved\\n\\uf02d Location:  Village  Muara  Adang  and  Pondong  Baru  in  Adang  Bay\\nlandscape\\n\\uf02d Methods: \\na. Religion approach through Conservation Lecture (Dai Konservasi)\\nand will utilize friday prayers moment and other islamic holiday \\nb. Health approach involved medical staff or public health office\\nc. Village Cleanliness Competition in celebrating Independence Day\\nor other moment\\n\\uf02d Strategy  of  implementation:  Collaborating  with  prominent  islamic\\nreligion leaders, public health offices, youth and village government\\n1  .3.2 Book publication  \\nA writing competition will be organised with the theme “Local wisdom in\\nrelation to the mangrove ecosystem and nasal monkey (proboscis monkey)\\nconservation”. The participant’s writing will be compiled to be published.\\n\\uf02d Target: the project will publish 100 copies. \\n\\uf02d Location: Organized from Samarinda by PU. \\n\\uf02d Content/Topic: Writing competition with the THEME: “Local wisdom in\\nrelation  to  the  mangrove  ecosystem  and  nasal  monkey  (proboscis\\nmonkey) conservation”.')]\n",
      "t2 :0.21935701370239258\n",
      "faiss: [Document(metadata={'source': './data/PROJECT DOCUMENT MAHAKAM 2023-2025_balise.pdf', 'page': 5}, page_content='(sustainable ponds and sylvo fishery models) 22\\nActivity 3.2. Train community groups particularly women group on the \\nfinancial management and product marketing. 22\\nOUTPUT 4. THE SUSTAINABLE COASTAL GOVERNANCE IN DELTA MAHAKAM AND ADANG BAY ARE \\nSTRENGTHENED 23\\nActivity 4.1. Facilitate coordination meeting among Mahakam Delta and \\nAdang Bay’s actors to synergize the program 23\\n7. PARTNERSHIPS 26\\n8. CROSS-CUTTING APPROACHES 29\\n9. KNOWLEDGE MANAGEMENT, CAPITALIZATION & COMMUNICATION 31\\n10. SUSTAINABILITY, SCALING-UP AND/OR EXIT STRATEGY 36\\n11. RESULTS FRAMEWORK 38\\n12. MONITORING & EVALUATION 42\\n13. TIMELINE 44'), Document(metadata={'source': './data/PROJECT DOCUMENT MAHAKAM 2023-2025_balise.pdf', 'page': 22}, page_content='community becomes dirty.\\n\\uf02d Target: 100 persons local community involved\\n\\uf02d Location:  Village  Muara  Adang  and  Pondong  Baru  in  Adang  Bay\\nlandscape\\n\\uf02d Methods: \\na. Religion approach through Conservation Lecture (Dai Konservasi)\\nand will utilize friday prayers moment and other islamic holiday \\nb. Health approach involved medical staff or public health office\\nc. Village Cleanliness Competition in celebrating Independence Day\\nor other moment\\n\\uf02d Strategy  of  implementation:  Collaborating  with  prominent  islamic\\nreligion leaders, public health offices, youth and village government\\n1  .3.2 Book publication  \\nA writing competition will be organised with the theme “Local wisdom in\\nrelation to the mangrove ecosystem and nasal monkey (proboscis monkey)\\nconservation”. The participant’s writing will be compiled to be published.\\n\\uf02d Target: the project will publish 100 copies. \\n\\uf02d Location: Organized from Samarinda by PU. \\n\\uf02d Content/Topic: Writing competition with the THEME: “Local wisdom in\\nrelation  to  the  mangrove  ecosystem  and  nasal  monkey  (proboscis\\nmonkey) conservation”.'), Document(metadata={'source': './data/PROJECT DOCUMENT MAHAKAM 2023-2025_balise.pdf', 'page': 48}, page_content='\\nList of \\nparticipants\\nMoU Document\\nNumber of local \\ncommunities reached by \\nwaste management \\ncampaign\\nDocumentation \\nactivity\\nActivity Report \\nList of \\nparticipants\\n0 2022 100\\npersons\\na. 100\\nperson\\n b. 20\\nUser\\nAccount\\nYoutube\\n100\\nperson\\ns\\na. 200\\npersons\\n b. 20\\nUser\\nYoutub\\ne\\nAccount\\nNumber of Billboard for \\nenvironmental campaign \\nDocumentation\\nPlot location in \\nthe map\\n2 2022 0 2 0 2\\nNumber of Book \\npublication on best \\npractices related to \\nmicrofinance & nurseries \\nmaintenance \\nBook Publication\\nActivity Report \\n1 2022 1 book\\n 30\\ncopies\\n1 book\\n 30\\ncopies\\n2 books\\n 60\\nCopies\\nNumber of pepople \\nreached in Public \\nAwareness campaign \\nthrough media \\n(online/offline)\\nDocumentation \\nactivity\\nActivity Report\\nMedia coverage\\n1000\\nindirect\\n2022 50\\nDirect\\n 300\\nIndirect\\n50\\nDirect\\n 300\\nIndirect\\n50\\nDirect\\n 300\\nIndirec\\nt\\n150\\nDirect\\n 900\\nIndirect\\nNumber of Journalist Trip Media coverages \\n(offline/online)\\n10 2022 5 media\\ncoverag\\nes\\n5 media\\ncoverag\\nes\\n5\\nmedia\\ncovera\\nges\\n15\\nmedia\\ncoverag\\nes'), Document(metadata={'source': './data/PROJECT DOCUMENT MAHAKAM 2023-2025_balise.pdf', 'page': 37}, page_content=\"\\nis  commonly  emerged  linked  to  some  social  factors  such  as  ethnicity,\\nfaith/religion,  and  education.  Gender  refers  to  the  roles,  behaviours,\\nactivities, attributes and opportunities that any society considers appropriate\\nfor girls and boys, and women and men. \\nIn the project areas (Delta Mahakam Ulu and Adang Bay), as in other coastal\\nregions of Indonesia, there is a common division of roles between men and\\nwomen. Men are a group that must earn a living, go to sea to fish, do a\\nvariety of physical work, organize village government, manage places of\\nworship,  etc.,  while  women's  groups  do  domestic  work  and  help  their\\nhusbands. Boys usually have a greater chance of going to higher education.\\nWith the opening of information, this division of roles experienced a shift, in\\nwhich several women or girls had the same opportunity to go to school, earn\\na living and participate in social activities in the village. However, the role of\\nwomen groups’ policy decision making in the village level is still limited.\\nIn the project area, men generally have no objection regarding women's\\ngroups actively engage in activities to earn a living and are also involved in\\nsocial activities. However, we still note a reluctance among women's groups\\nto actively participate in public meetings that involve men and women due\\nto culturally taboo.\\nThe  project  aims  to  support  the  active  participation  of  women's  groups\\nthrough the following activities:\\n\\uf0b7 Encourage women's involvement in meetings involving sub-village or\\nvillage interests \\n\\uf0b7 Provide  equal  opportunities  between  women  and  men  for  capacity\\nbuilding activities\\n\\uf0b7 Provide  opportunities  for  women's  groups  to  earn  income  through\\nmicro and small businesses\\n\\uf0b7 Encourage women's participation to be actively involved in decision\\nmaking both at the scale of households and at the group level, for\\nexample related to tree planting project.\"), Document(metadata={'source': './data/PROJECT DOCUMENT MAHAKAM 2023-2025_balise.pdf', 'page': 44}, page_content='\\nto evaluate the \\npartner since they \\nhave a strong \\nrelationship with \\nsome of partner \\nwhich in the end \\ninfluence the \\nresult of \\nassessment.\\nlocal consultant \\nanalysis. \\n</table>\\nExternal communication in Indonesia\\nPU Indonesia will work with the online local media to promote the project\\nactivities, current states of Delta Mahakam and its challenge. Besides the\\nonline local media, PU Indonesia and its implementing partners will work with\\nexpert panels in radio panels to spread the message, challenge and the\\nsuccessful of the project. PU Indonesia has been invited by the French IFI\\n(Institut Français Indonesia) on Climate Change week in 2021. The French IF\\nhave invited PU Indonesia to spread the message and works through various\\ncanals which provided by French IF such as social media and website. This\\nopportunity should be used in this project to introduce the project to wider\\npublic. In addition, CIFOR has invited PU as speaker in the side event of\\nPolicy and Science dialogue in March 2022. The collaboration with CIFOR can\\nbe extended in other events to share the progress of project NEW MAHAKAM.\\nBesides that, PU and its partners will road show to the authority and donor to\\nintroduce the project both at the national, provincial and local level. Project\\nbrief, blog and others material can be used to spread the messages to those\\nparties.\\nExternal communication in France\\nAt  PU  headquarters,  the  communication  team  will  receive  local\\ncommunication content, data, pictures, tools and progress information on\\nthe project to create contents (articles, advocacy messages, press releases)\\nin line with the international calendar on biodiversity, climate change and\\nother international celebrations. The project will be promoted, first on PU\\nwebsite by dedicating a specific page to it and attaching any communication\\nelements that may be provided or proposed by YML and Pokja Pesisir. The')]\n"
     ]
    }
   ],
   "source": [
    "# Creation des retrievers\n",
    "#retriever = chroma_db.as_retriever(k=12, search_type=\"mmr\")\n",
    "\n",
    "retriever_chroma = chroma_db.as_retriever(\n",
    "    search_kwargs={\"k\": 5, \"fetch_k\": 10},  # Retrieve more documents\n",
    "    search_type= \"mmr\"\n",
    ")\n",
    "\n",
    "retriever_faiss = faiss_db.as_retriever(\n",
    "    search_kwargs={\"k\": 5, \"fetch_k\": 10},  # Retrieve more documents\n",
    "    search_type= \"mmr\"\n",
    ")\n",
    "\n",
    "\n",
    "# Test\n",
    "query = \"What is the topic of the PDF?\"\n",
    "\n",
    "t=timing()\n",
    "result = retriever_chroma.invoke(query)\n",
    "print(f\"t1 :{timing()-t}\")\n",
    "print(f\"chroma_db: {result}\")\n",
    "\n",
    "t=timing()\n",
    "result = retriever_faiss.invoke(query)\n",
    "print(f\"t2 :{timing()-t}\")\n",
    "print(f\"faiss: {result}\")"
   ]
  },
  {
   "cell_type": "code",
   "execution_count": 20,
   "metadata": {},
   "outputs": [],
   "source": [
    "# Eval ran reply with llm\n",
    "def score_reference_vs_rag_with_gpt(question, reference_text, ragReply, llm=llm_evaluator):\n",
    "    # prompt=f\"\"\"\n",
    "    #     Help me to compare a RAG answer against a reference text to a given question\n",
    "\n",
    "    #     Question:\\n{question}\n",
    "\n",
    "    #     Reference text:\\n{reference_text} \n",
    "\n",
    "    #     RAG anwser:\\n{ragReply}\n",
    "\n",
    "    #     Provide a score for 1 to 10 to evaluate the quality of the RAG answer against the reference text (coherence, coverage, clarity ..)\n",
    "    #     When the RAG answer states it does have enough information to reply entierly to the question, don't penalize it in your evaluation.\n",
    "    #     Respond only with the score (1,2 ... 10)\n",
    "    # \"\"\"\n",
    "\n",
    "    prompt=f\"\"\"\n",
    "        Evaluate the quality of a Retrieval-Augmented Generation (RAG) answer by comparing it against a reference text for a given question.  \n",
    "\n",
    "        ### Inputs:  \n",
    "        - **Question:** {question}  \n",
    "        - **Reference Text:** {reference_text}  \n",
    "        - **RAG Answer:** {ragReply}  \n",
    "\n",
    "        ### Evaluation Criteria:  \n",
    "        Rate the RAG answer on a scale of **1 to 10** based on the following aspects:  \n",
    "        1. **Coherence:** How logically structured and consistent the answer is.  \n",
    "        2. **Coverage:** How well the answer addresses key points found in the reference text.  \n",
    "        3. **Clarity:** How clearly the answer conveys information.  \n",
    "\n",
    "        **Important Consideration:**  \n",
    "        - If the RAG answer explicitly states that it lacks sufficient information to fully answer the question, do **not** penalize it.  \n",
    "\n",
    "        ### Output Format:  \n",
    "        Respond **only** with a single number between **1 and 10** (e.g., 1, 2, ..., 10).  \n",
    "\n",
    "    \"\"\"\n",
    "\n",
    "    resp=llm.invoke(prompt)    \n",
    "    \n",
    "    \n",
    "    try:\n",
    "        return int(resp.content)\n",
    "    except:\n",
    "        return resp.content\n",
    "\n",
    "\n",
    "\n"
   ]
  },
  {
   "cell_type": "markdown",
   "metadata": {
    "id": "pUAWfoHplUR0"
   },
   "source": [
    "#### Step 6: RAG avec methode \"legacy\" RetrievalQA"
   ]
  },
  {
   "cell_type": "markdown",
   "metadata": {
    "id": "48DxdpDvs9-h"
   },
   "source": [
    "Methode classique \"RetrievalQA\""
   ]
  },
  {
   "cell_type": "code",
   "execution_count": null,
   "metadata": {
    "colab": {
     "base_uri": "https://localhost:8080/"
    },
    "executionInfo": {
     "elapsed": 7822,
     "status": "ok",
     "timestamp": 1730739596698,
     "user": {
      "displayName": "thomas boehler",
      "userId": "18209330116931111774"
     },
     "user_tz": -60
    },
    "id": "5wTW0vddlUR1",
    "outputId": "1f5fb1bc-5d27-4bdb-80eb-8f5791e616ed"
   },
   "outputs": [
    {
     "name": "stdout",
     "output_type": "stream",
     "text": [
      "{'query': 'Context, environment, project rationale and challenges', 'result': \"**Context:**\\nThe Covid-19 pandemic has significantly impacted life in Indonesia, particularly in East Kalimantan, which has one of the highest rates of exposure to the virus outside of Java. Since early 2020, the government has imposed lockdowns and restrictions on community activities to curb the spread of the virus. As of early 2022, while community activities began to normalize, the emergence of the Omicron variant posed new challenges. In this ongoing pandemic context, it is crucial for projects aimed at environmental restoration to continue while prioritizing health and safety protocols.\\n\\n**Environment:**\\nEast Kalimantan is home to rich biodiversity, especially within its mangrove ecosystems, which are vital for local livelihoods and community resilience against climate change. However, these ecosystems are under threat due to degradation, which not only impacts the environment but also the local economy and the habitats of endangered species. The coastal areas of East Kalimantan are particularly vulnerable, facing challenges such as a lack of sustainable livelihood alternatives and poor governance regarding environmental management.\\n\\n**Project Rationale:**\\nThe three-year project aims to restore degraded mangrove ecosystems in the Mahakamm Delta and Adang Bay. The rationale for this project is built on addressing several critical issues:\\n1. **Lack of Awareness:** There is a significant gap in local communities' understanding of the importance of mangrove ecosystems, biodiversity, and waste management.\\n2. **Degraded Mangrove Forests:** The extensive degradation of mangrove forests threatens local resilience to climate change, impacts the habitat of endangered species, and undermines the local economy.\\n3. **Sustainable Livelihoods:** There is a pressing need for alternative sustainable livelihoods in coastal areas to reduce reliance on degrading natural resources.\\n4. **Governance Issues:** Poor governance related to mangrove ecosystems and environmental management hampers effective conservation efforts.\\n\\n**Challenges:**\\nThe project faces several challenges, including:\\n- The ongoing Covid-19 pandemic, which complicates community engagement and project implementation while necessitating strict adherence to health protocols.\\n- Ensuring the involvement and commitment of local NGOs, communities, and volunteers, which is crucial for the project's success and long-term sustainability.\\n- Overcoming entrenched practices and a lack of awareness that contribute to the degradation of mangrove ecosystems.\\n- Addressing governance issues that hinder effective management and protection of the mangrove environment.\\n\\n**Monitoring and Evaluation:**\\nTo ensure the project's effectiveness and impact, a robust monitoring and evaluation framework will be implemented. This includes:\\n- **Field Monitoring:** Conducting six field monitoring sessions each year to assess progress and adapt strategies as needed.\\n- **Internal Evaluation:** An internal evaluation will be conducted at the end of the project to review overall outcomes and lessons learned.\\n- **Third-Party Evaluation:** A third-party evaluation will take place in the third year, involving both remote assessments and onsite visits. This evaluation will include:\\n  - An inventory of activities related to the project plan, such as planting initiatives, increased livelihoods, and environmental awareness efforts.\\n  - A review of carbon sequestration calculations and monitoring protocols based on the climate philanthropy methodology developed by Planète Urgence. This will involve establishing a baseline scenario for greenhouse gas (GHG) emissions and demonstrating additionality.\\n  - An analysis of project monitoring and activity reports, culminating in the redaction of an audit report.\\n  - Completion of baseline assessments and proof of additionality, accompanied by ex-ante calculations of GHG emissions/sequestrations.\\n\\n**Strategy & Theory of Change:**\\nTo address these challenges, the project will implement the PU FORET strategy, which focuses on three key components:\\n1. **Restoration of Degraded Forests:** Actively restoring mangrove ecosystems to enhance biodiversity and resilience.\\n2. **Environmental Awareness:** Educating local communities about the importance of mangrove ecosystems, biodiversity, and sustainable waste management practices.\\n3. **Strengthening Livelihoods:** Developing alternative sustainable livelihoods for local communities to reduce dependence on degrading natural resources.\\n\\nThe involvement of local NGOs, community members, and volunteers is essential for the project's success and the sustainability of its impacts. Overall, the project seeks to restore mangrove ecosystems while fostering environmental awareness and strengthening local livelihoods, all within the context of ongoing public health challenges and a rigorous evaluation framework to measure its effectiveness.\", 'source_documents': [Document(metadata={'page': 17, 'source': './data/PROJECT DOCUMENT MAHAKAM 2023-2025_balise.pdf'}, page_content='\\nAnother issue that has also had a major impact on life in Indonesia, including\\nEast Kalimantan, is the Covid 19 global pandemic that has attacked the\\nentire world since early 2020.  The  Covid 19 pandemic has had a major\\nimpact on life in Indonesia. East Kalimantan is a province outside Java Island\\nwith  the  highest  rate  of  exposure  to  Covid,  which  has  resulted  in  the\\ngovernment imposing a lockdown and restrictions on community activities.\\nAt the beginning of 2022, community activities began to return to normal,\\nbut a new variant emerged, namely Omicron, which spread very quickly.\\nFacing a pandemic situation that has not ended, of course, the project must\\ncontinue  but  still  pay  attention  to  security,  safety,  and  practice  health\\nprotocols.\\n3. Strategy & theory of change\\nThe  three  years  project  aims  to  contribute  to  restore  the  degraded  of\\nmangrove  ecosystem  in  Production  Forest  (Mahakamm  Delta)  and\\nConservation area (Adang Bay). In doing so, the project will address the key\\nproblems in those regions: \\na. Lack  of  awareness  of  local  people  on  mangrove  ecosystem,\\nbiodiversity issue and waste\\nb. Huge area of degraded mangrove forest which affect the resilience of\\nlocal  people  in  facing  climate  change,  the  habitat  of  endangered\\nspecies and local economy;\\nc. Lack of alternative sustainable livelihood in coastal area;\\nd. Poor  governance  particularly  on  mangrove  ecosystem  and  its\\nenvironmental and economy issue.   \\nTo overcome those problems, Planet Urgence and its partners will work by\\nimplementing the PU FORET strategy which rely on three components:\\n1. Restore degraded forest;\\n2. Environmental awareness;\\n3. Strengthening livelihood of local people. \\nIn addition, the involvement of local NGOs, local community and volunteer is\\nkey for the successful of the project and the sustainability the impact of the'), Document(metadata={'page': 17, 'source': './data/PROJECT DOCUMENT MAHAKAM 2023-2025_balise.pdf'}, page_content='\\nAnother issue that has also had a major impact on life in Indonesia, including\\nEast Kalimantan, is the Covid 19 global pandemic that has attacked the\\nentire world since early 2020.  The  Covid 19 pandemic has had a major\\nimpact on life in Indonesia. East Kalimantan is a province outside Java Island\\nwith  the  highest  rate  of  exposure  to  Covid,  which  has  resulted  in  the\\ngovernment imposing a lockdown and restrictions on community activities.\\nAt the beginning of 2022, community activities began to return to normal,\\nbut a new variant emerged, namely Omicron, which spread very quickly.\\nFacing a pandemic situation that has not ended, of course, the project must\\ncontinue  but  still  pay  attention  to  security,  safety,  and  practice  health\\nprotocols.\\n3. Strategy & theory of change\\nThe  three  years  project  aims  to  contribute  to  restore  the  degraded  of\\nmangrove  ecosystem  in  Production  Forest  (Mahakamm  Delta)  and\\nConservation area (Adang Bay). In doing so, the project will address the key\\nproblems in those regions: \\na. Lack  of  awareness  of  local  people  on  mangrove  ecosystem,\\nbiodiversity issue and waste\\nb. Huge area of degraded mangrove forest which affect the resilience of\\nlocal  people  in  facing  climate  change,  the  habitat  of  endangered\\nspecies and local economy;\\nc. Lack of alternative sustainable livelihood in coastal area;\\nd. Poor  governance  particularly  on  mangrove  ecosystem  and  its\\nenvironmental and economy issue.   \\nTo overcome those problems, Planet Urgence and its partners will work by\\nimplementing the PU FORET strategy which rely on three components:\\n1. Restore degraded forest;\\n2. Environmental awareness;\\n3. Strengthening livelihood of local people. \\nIn addition, the involvement of local NGOs, local community and volunteer is\\nkey for the successful of the project and the sustainability the impact of the'), Document(metadata={'page': 17, 'source': './data/PROJECT DOCUMENT MAHAKAM 2023-2025_balise.pdf'}, page_content='\\nAnother issue that has also had a major impact on life in Indonesia, including\\nEast Kalimantan, is the Covid 19 global pandemic that has attacked the\\nentire world since early 2020.  The  Covid 19 pandemic has had a major\\nimpact on life in Indonesia. East Kalimantan is a province outside Java Island\\nwith  the  highest  rate  of  exposure  to  Covid,  which  has  resulted  in  the\\ngovernment imposing a lockdown and restrictions on community activities.\\nAt the beginning of 2022, community activities began to return to normal,\\nbut a new variant emerged, namely Omicron, which spread very quickly.\\nFacing a pandemic situation that has not ended, of course, the project must\\ncontinue  but  still  pay  attention  to  security,  safety,  and  practice  health\\nprotocols.\\n3. Strategy & theory of change\\nThe  three  years  project  aims  to  contribute  to  restore  the  degraded  of\\nmangrove  ecosystem  in  Production  Forest  (Mahakamm  Delta)  and\\nConservation area (Adang Bay). In doing so, the project will address the key\\nproblems in those regions: \\na. Lack  of  awareness  of  local  people  on  mangrove  ecosystem,\\nbiodiversity issue and waste\\nb. Huge area of degraded mangrove forest which affect the resilience of\\nlocal  people  in  facing  climate  change,  the  habitat  of  endangered\\nspecies and local economy;\\nc. Lack of alternative sustainable livelihood in coastal area;\\nd. Poor  governance  particularly  on  mangrove  ecosystem  and  its\\nenvironmental and economy issue.   \\nTo overcome those problems, Planet Urgence and its partners will work by\\nimplementing the PU FORET strategy which rely on three components:\\n1. Restore degraded forest;\\n2. Environmental awareness;\\n3. Strengthening livelihood of local people. \\nIn addition, the involvement of local NGOs, local community and volunteer is\\nkey for the successful of the project and the sustainability the impact of the'), Document(metadata={'page': 17, 'source': './data/PROJECT DOCUMENT MAHAKAM 2023-2025_balise.pdf'}, page_content='\\nAnother issue that has also had a major impact on life in Indonesia, including\\nEast Kalimantan, is the Covid 19 global pandemic that has attacked the\\nentire world since early 2020.  The  Covid 19 pandemic has had a major\\nimpact on life in Indonesia. East Kalimantan is a province outside Java Island\\nwith  the  highest  rate  of  exposure  to  Covid,  which  has  resulted  in  the\\ngovernment imposing a lockdown and restrictions on community activities.\\nAt the beginning of 2022, community activities began to return to normal,\\nbut a new variant emerged, namely Omicron, which spread very quickly.\\nFacing a pandemic situation that has not ended, of course, the project must\\ncontinue  but  still  pay  attention  to  security,  safety,  and  practice  health\\nprotocols.\\n3. Strategy & theory of change\\nThe  three  years  project  aims  to  contribute  to  restore  the  degraded  of\\nmangrove  ecosystem  in  Production  Forest  (Mahakamm  Delta)  and\\nConservation area (Adang Bay). In doing so, the project will address the key\\nproblems in those regions: \\na. Lack  of  awareness  of  local  people  on  mangrove  ecosystem,\\nbiodiversity issue and waste\\nb. Huge area of degraded mangrove forest which affect the resilience of\\nlocal  people  in  facing  climate  change,  the  habitat  of  endangered\\nspecies and local economy;\\nc. Lack of alternative sustainable livelihood in coastal area;\\nd. Poor  governance  particularly  on  mangrove  ecosystem  and  its\\nenvironmental and economy issue.   \\nTo overcome those problems, Planet Urgence and its partners will work by\\nimplementing the PU FORET strategy which rely on three components:\\n1. Restore degraded forest;\\n2. Environmental awareness;\\n3. Strengthening livelihood of local people. \\nIn addition, the involvement of local NGOs, local community and volunteer is\\nkey for the successful of the project and the sustainability the impact of the'), Document(metadata={'page': 52, 'source': './data/PROJECT DOCUMENT MAHAKAM 2023-2025_balise.pdf'}, page_content='\\ne.Field monitoring six times in a year.\\nf. Internal evaluation at the end of project\\nIn addition, the project includes a third party evaluation during year 3 for final evaluation of the project’s activities\\nand conduction of the climate philanthropy methodology.\\nThe final evaluation will be conducted via remote evaluation and onsite visit of the project.\\nIt will include at minimum :\\n\\uf0b7 An inventory of the activities that have taken place in relation to the project plan (including planting activities,\\nincreased livelihoods and environmental awareness)\\n\\uf0b7 Review of carbon  sequestration  calculations  and monitoring  protocols,  based on the  climate  philanthropy\\nmethodology  developed  by  Planète  Urgence  (zone  boundaries,  baseline  scenario,  demonstration  of\\nadditionality, ex-ante carbon calculation, and first ex-post measures on year 3 linked with survival rate)\\n\\uf0b7 Review of project, monitoring and activity reports\\n\\uf0b7 Redaction of the audit report\\nCompletion  of  baseline  and  proof  of  additionality,  accompanied  by  EX-ANTE  calculation  of  GHG\\nemissions/sequestrations\\nAccording with Planete Urgence’s methodology on Climate Philanthropy, the project will monitor carbon sequestration\\nimpacts.\\nTo do so, Planète Urgence team will develop a baseline scenario illustrating the activities and greenhouse gas (GHG)\\nemissions that would occur in the absence of a project’s activity. Developing this baseline will be the foundation of\\nmeasuring the project’s emissions reductions or removals; it will set the benchmark by which a comparison of the\\nproject’s activities can be made against the business-as-usual scenario providing clarity on how the project can and\\nwill influence emissions reductions over time. \\nThe protocol developed by Planete Urgence adopts the baseline scenario and additionality tests based on the Verified\\nCarbon Standard (VCS) and Clean Development Mechanism (CDM)’s Afforestation/Reforestation methodological tools.')]}\n"
     ]
    }
   ],
   "source": [
    "\n",
    "retrievalQA_chain = RetrievalQA.from_chain_type(\n",
    "    llm=llm_qa,\n",
    "    chain_type=\"refine\",\n",
    "    retriever=retriever_chroma,\n",
    "    return_source_documents=True\n",
    ")\n",
    "\n",
    "# Call the RAG chain with a user query\n",
    "# question = \"What is the main topic discussed in the PDF?\"\n",
    "question=\"Context, environment, project rationale and challenges\"\n",
    "response = retrievalQA_chain.invoke({\"query\": question})\n",
    "print(response)\n"
   ]
  },
  {
   "cell_type": "code",
   "execution_count": 21,
   "metadata": {},
   "outputs": [],
   "source": [
    "# La 'reference_answer' est copiée manuellement du document pour être utilisée comme texte de référence lors de l'évaluation\n",
    "\n",
    "questions=[\n",
    "    {\n",
    "        \"q_#\": 1,\n",
    "        \"question\": \"Description of the project\", \n",
    "        \"reference_answer\": \"\"\"    \n",
    "            Brief project description\n",
    "            East Kalimantan Province in 2021/2022 received great attention nationally\n",
    "            because of the moving of the state capital city (Jakarta) to a location near\n",
    "            the city of Balikpapan and Penajam Paser Utara in East Kalimantan Province.\n",
    "            The development of the new capital will start in 2022. Although the\n",
    "            Indonesia President commit to develop the new capital as Forest and Smart\n",
    "            City, the surrounding area particularly the coastal area such as Delta\n",
    "            Mahakam and Adang Bay might get high pressure as the consequence of the\n",
    "            new development and the movement of 1.5 million people to the new\n",
    "            capital.\n",
    "            Delta Mahakam, in the eastern part of East Kalimantan, is an area that is\n",
    "            relatively close to the prospective center of the State capital (about 100 km).\n",
    "            Mahakam Delta is naturally a mangrove habitat, but due to excessive land\n",
    "            clearing for extensive aquaculture about 47.5 % of the mangrove ecosystem\n",
    "            is degraded to be converted into aquaculture (2017). Despite various\n",
    "            conservation efforts by different parties and the government, land clearing\n",
    "            still continues. Delta Mahakam land ownership is government land that has\n",
    "            designated as a production forest, but this area has been inhabited by\n",
    "            residents from generation to generation.\n",
    "            Adang Bay is one of the coastal villages in Adang Bay, Paser Regency, on the\n",
    "            southern part of East Kalimantan Province (about 100 km from the new\n",
    "            capital). This area is also experiencing land conversion to increase\n",
    "            aquaculture, besides there are several locations in coastal areas that are\n",
    "            affected by abrasion. Restoration activities in East Kalimantan Province are\n",
    "            needed to restore a degraded environment, as well as to support the vision\n",
    "            of the nation's capital as a green city.\n",
    "            The ecosystem in Delta Mahakam and Adang Bay 1 are also home to\n",
    "            critically endangered species, such as the nasal monkey (proboscis\n",
    "            monkey), endemic to the island of Borneo. On a global scale, the mangrove\n",
    "            is a key ecosystem to answer the challenge of carbon sequestration and\n",
    "            fight against climate change.\n",
    "            The objective of the project is therefore to contribute to restore the\n",
    "            degraded mangrove forest in East Kalimantan (Delta Mahakam and Adang\n",
    "            Bay) as home of endemic and endangered species including proboscis\n",
    "            monkey and key ecosystem to mitigate and to adapt the impact of climate\n",
    "            change; and this, through four main actions: raising awareness of the\n",
    "            stakeholders, rehabilitating degraded mangrove forest, supporting the\n",
    "        \"\"\"\n",
    "    },\n",
    "    {\n",
    "        \"q_#\": 2,\n",
    "        \"question\": \"Country and city\", \n",
    "        \"reference_answer\": \"\"\"\n",
    "            The location of the project is in Paser District (Adang Bay village) and Kutai\n",
    "            Kartanegara district (Delta Mahakam) East Kalimantan Province. The location\n",
    "            of project is nearby the new capital of Indonesia which is in the Penajam\n",
    "            Paser Utara (around 130-160 km)\n",
    "        \"\"\"\n",
    "    },\n",
    "    {\n",
    "        \"q_#\": 3,\n",
    "        \"question\": \"Target beneficiaries\", \n",
    "        \"reference_answer\": \"\"\"\n",
    "            Number of direct beneficiaries of the pilot project: 3245 people with the\n",
    "            proportion of 30% women and 70% men.\n",
    "            Number of indirect beneficiaries: 3000 people by assuming at least the\n",
    "            project will give benefit indirectly to 1500 people per location including in\n",
    "            East Kalimantan and Indonesia.\n",
    "            The target groups include:\n",
    "            - School children (primary schools and secondary schools)\n",
    "            - Teachers (primary school teachers)\n",
    "            - Community members (villagers, consists of fish farmers, women group,\n",
    "            and youth)\n",
    "            - Village officials\n",
    "            - Stakeholders from various institutions (government institutions,\n",
    "            universities, and non-government organizations)\n",
    "            - Public audience in general (reached by Media)\n",
    "            Other potential groups:\n",
    "            - High school and university students\n",
    "            - Environmental activists \n",
    "        \"\"\"\n",
    "    },\n",
    "    {\n",
    "        \"q_#\": 4,\n",
    "        \"question\": \"Number of people concerned\", \n",
    "        \"reference_answer\":\"\"\"\n",
    "            Number of direct beneficiaries of the pilot project: 3245 people with the\n",
    "            proportion of 30% women and 70% men.\n",
    "            Number of indirect beneficiaries: 3000 people by assuming at least the\n",
    "            project will give benefit indirectly to 1500 people per location including in\n",
    "            East Kalimantan and Indonesia.\n",
    "        \"\"\" \n",
    "    },\n",
    "    {\n",
    "        \"q_#\": 5,\n",
    "        \"question\": \"Context, environment, project rationale and challenges\", \n",
    "        \"reference_answer\": \"\"\"\n",
    "            Context & environment and development challenges\n",
    "            Geographic and socio-economic context\n",
    "            East Kalimantan is one of the richest provinces in Indonesia and the main\n",
    "            contribution to the national GDP. Before palm oil and mining coal booming in\n",
    "            early 2000, forestry, mining and gas sectors are the backbone of economic\n",
    "            development in East Kalimantan. Because too much depending on the\n",
    "            unrenewable natural resources, the economic growth of East Kalimantan\n",
    "            gradually declines and, in 2016, reached the minus point because of the\n",
    "            lowest price of coal at the global level. In 2019, Indonesia government has\n",
    "            decided to move the capital of Indonesia from Jakarta to East Kalimantan.\n",
    "            Currently, the government accelerate the infrastructure development of new\n",
    "            capital.\n",
    "\n",
    "            The project will be implemented in several regions of Mahakam Delta and\n",
    "            Adang Bay. Mahakam Delta is located on the eastern coast of the island of\n",
    "            Borneo, in East Kalimantan province, which is one of the five provinces that\n",
    "            has the lowest population density in Indonesia. This province is also the main\n",
    "            contributor to the national GDP, mainly for its wealth in oil and gas. It is\n",
    "            nevertheless aquaculture activities which constitute the main source of\n",
    "            income for the local population. About 90% of the population depend on it\n",
    "            for their livelihood. As a result, 54.19% of the Mahakam Delta has been\n",
    "            converted to shrimp ponds. The majority of exports from the area are made\n",
    "            up of tiger shrimp and white shrimp that are farmed in the delta ponds and\n",
    "            along the Paser District's shore.\n",
    "\n",
    "            Paser District is located on the east coast of East Kalimantan Province. The\n",
    "            village of Adang Bay is located in the coastal area of this district, in Adang\n",
    "            Bay. This area is a conservation area managed by the Ministry of Forestry\n",
    "            (KPHP). Therefore, limited economic activities are allowed in this area.\n",
    "            However, since the late 1990s, massive clearing for the construction of\n",
    "            aquaculture ponds has destroyed the mangrove forest in the area. According    \n",
    "            to the District Pastor's Investment Agency, about 1,506 people live in Adang\n",
    "            Bay. Most of them work as fishermen, fish farmers and swallowers. The\n",
    "            village government and the community have made a strong commitment to\n",
    "            conserve the area by adhering to the jurisdictional REDD+ approach, funded\n",
    "            by the World Bank's FCPF or Forest Carbon Partnership Facility Project.\n",
    "            Environmental context\n",
    "            Largest archipelago in the world (more than 13,000 islands), Indonesia has\n",
    "            an area of 1,905,000 km2 of which less than 50% is still covered by forests\n",
    "            today, while the country is part of the 3rd largest planetary tropical\n",
    "            forest zone (after the Amazon and the Congo Basin). More than half of\n",
    "            Indonesian forests have disappeared since 1960. However, they are home to\n",
    "            a large part of the world's biodiversity (more than 10% respectively of plant,\n",
    "            mammal, reptile and bird species). Today, the country counts for 3 to 5% of\n",
    "            annual global greenhouse gas emissions (among the 10 most emitting\n",
    "            countries) including more than 50% due to land use, their change of land use\n",
    "            and the exploitation of forests.\n",
    "            Indonesia is home to almost 1/4 of the world's mangroves (20%). This\n",
    "            maritime ecosystem, made up of a set of mainly woody plants (the most\n",
    "            notable species being the mangrove), develops in the swinging area of the\n",
    "            tides of the low coasts and in marshes at the mouth of certain rivers. Of the\n",
    "            nearly 3.2 million hectares of mangrove forest 2 in the country today, more\n",
    "            than 50,000 ha are lost each year.\n",
    "            The mangrove is one of the most productive ecosystems on the planet,\n",
    "            home to a particularly abundant biomass. The mangroves' root system is\n",
    "            notably a biotope where a variety of fish and crabs live and reproduce. The\n",
    "            mangrove thus provides important resources (forestry and fishery) to coastal\n",
    "            populations, a natural “buffer” zone adapted to salinity, filtering sediment\n",
    "            and pollution carried by rivers and the sea, and preserving the fresh water\n",
    "            resources of the land. They are a food security and livelihood issue, in\n",
    "            particular providing income to fishing communities. This ecosystem is also\n",
    "            an important natural fount of carbon, with Indonesian mangroves storing\n",
    "            around 5 times more carbon per hectare than terrestrial forests. The\n",
    "            government of Indonesia has taken into account this ecosystem in its REDD+\n",
    "            strategy, implemented in the only pilot province of East-Kalimantan, with the\n",
    "            Provincial Council on Climate Change (DDPI) with the support of the World\n",
    "            Bank in the framework of the “Forest Carbon Partnership Facility Project”.\n",
    "            Finally, the mangrove plays a key role in natural defense. The complex\n",
    "            network of mangrove roots can help reduce wave power, which limits erosion\n",
    "            and protects coastal communities from the destructive forces of tropical\n",
    "            storms. Mangroves provide protection against extreme weather events and\n",
    "            tsunamis, and can adapt to rising sea levels and subsidence. They therefore    \n",
    "            contribute to reducing the risk of disasters, to the resilience of communities\n",
    "            and ecosystems and to their adaptation to climate change.\n",
    "            In Mahakam Delta, results from a study conducted in 2018 and 2019 by the\n",
    "            Kutai Kartanegara District has shown that 47.8% of mangrove forests are\n",
    "            deteriorated.\n",
    "            Table 1. Critical Criteria of Mahakam Delta Mangrove3\n",
    "            Critical Criteria Land Area (ha) Percentage\n",
    "            Damaged 7,034 5.6\n",
    "            Severe 52,945 42.2\n",
    "            Undamaged 65,522 52.2\n",
    "            Total 125,502 100.0\n",
    "            \n",
    "            Source: The Result of Spatial Analysis of Mangrove Damage Level (2018)\n",
    "\n",
    "            With the plan to move the state capital to Penajam Paser Utara District\n",
    "            (PPU), the development activities to create this new big city will take place\n",
    "            massively. The central government has planned to create a green city for the\n",
    "            new capital, which construction will start in 2022, but various problems still\n",
    "            pose challenges in locations outside the new capital. On the one hand, a\n",
    "            close government center can control the surrounding environment to keep it\n",
    "            conserved, but the gap in the quality of human resources and plans to move\n",
    "            a large number of people from Jakarta to this area will certainly cause\n",
    "            pressure on the environment.\n",
    "\n",
    "            Biodiversity issues\n",
    "            The mangrove of Mahakam Delta conceals a rich marine and arboreal\n",
    "            biodiversity, characterized by a large variety of fish, arthropods, reptiles\n",
    "            such as the marine crocodile (Crocodylus porosus), aquatic mammals such\n",
    "            as the Irrawaddy dolphin (Orcaella brevirostris) or terrestrial like the nasal\n",
    "            monkey (Nasalis larvatus), these last 2 species being considered as being\n",
    "            “endangered” by the IUCN.\n",
    "            The deforestation of Mahakam Delta’s mangrove hampers the effort to\n",
    "            conserve this type of species, for example by fragmenting the habitat of the\n",
    "            nasal monkey, whose interaction between populations strongly depends on\n",
    "            the continuity of the canopy. The isolation of these populations makes them\n",
    "            more vulnerable to poaching. The long-nosed monkey, endemic of Borneo\n",
    "            Island is listed as “Endangered” by the IUCN as it has undergone extensive    \n",
    "            population reductions across its range, and ongoing hunting and habitat\n",
    "            destruction continue to threaten most populations. Numbers have\n",
    "            declined by more than 50% (but probably less than 80%) over the past 3\n",
    "            generations (approximately 36-40 years).4 At the scale of Mahakam Delta,\n",
    "            only 2 censuses have been conducted to monitor this specie, respectively in\n",
    "            1997 and 2005 which reflects the lack of resources of local institutions to\n",
    "            conserve and protect this biodiversity.\n",
    "            In addition, the degradation of this ecosystem leads to a decrease in fish\n",
    "            stocks in the delta, threatening both fishermen and species such as sea\n",
    "            crocodiles and dolphins. The situation is currently might threatening to\n",
    "            exacerbate human-animal conflicts and therefore to further decrease the\n",
    "            populations of the above-mentioned species, even threatening them with\n",
    "            extinction. Hence, beside preventing the mangrove forest conversion into\n",
    "            palm oil plantation, aquaculture ponds, and other usages, the reforestation\n",
    "            activity is necessary to improve the degraded mangrove ecosystem in the\n",
    "            coastal area.\n",
    "            Paradoxically, the considerable modification of delta habitats resulted in a\n",
    "            very substantial increase in populations of birds associated with open\n",
    "            wet areas, such as egrets (100 individuals in 1987 to nearly 15,000\n",
    "            individuals in 2013). Likewise, some species of heron have seen their\n",
    "            population sizes increase considerably, such as the purple heron or the Javan\n",
    "            pond-heron, the lesser adjutant, ducks, Sunda teal and the wandering\n",
    "            whistling-duck also seem to have used the habitats created by the clearings\n",
    "            to considerably increase their populations.\n",
    "            The populations of these species have benefited of new feeding areas when\n",
    "            the shrimp ponds were developed. Indeed, egrets, ducks, and waders use\n",
    "            the shrimp ponds in high numbers on cyclical basis when shrimp ponds are\n",
    "            emptied for shrimp harvesting. The presence of pristine areas, with large\n",
    "            trees or dense copses of smaller species (Nypa) removed from human\n",
    "            presence, is also favourable for the reproduction of these species. Here they\n",
    "            find quiet conditions for reproduction or gatherings (dormitories). Amongst\n",
    "            the species observed in 2013 and those not observed in 1987, eight dwell in\n",
    "            an aquatic environment and directly depend on the shrimp ponds: darter,\n",
    "            stilts, grey heron, black-crowned night heron, intermediate egret, western\n",
    "            marsh-harrier and the Garganey. The opening of shrimp ponds was the\n",
    "            obvious factor leading to the growth of all these bird populations.\n",
    "            \n",
    "            Institutional Context\n",
    "            The key players in coastal region in East Kalimantan including in Delta\n",
    "            Mahakam Ulu (Delta Mahakam) and Delta Mahakam (Adang Bay) are\n",
    "            relatively similar. Since the area located or nearby the conservation area and\n",
    "            forest production area, the Ministry of Forestry via Nature Conservancy\n",
    "            Agency in East Kalimantan and Forest Management Unit (provincial\n",
    "            government agency) are the most influence actor. They have authority to\n",
    "            determine the activities which allowed and not allowed in the area. However,\n",
    "            they cannot control the vast area of conservation area since 50 percent of\n",
    "            mangrove forest in the region have been degraded. Besides government, the\n",
    "            others key actors are fishermen, fish farmers, swallow workers and investors\n",
    "            in aquaculture sectors. Those actors have shaped the landscape of coastal\n",
    "            area in Delta Mahakam and Adang Bay over the past 20 years. In their hand\n",
    "            the future of sustainable aquaculture is determined. Environmental and\n",
    "            development NGOs, oil and gas company and other parties has programme\n",
    "            in their area. Most of the programme focus on improving the livelihood of the\n",
    "            local people and restoring the mangrove forest.\n",
    "            \n",
    "            The Movement of Indonesian New Capital\n",
    "            Paser District (East Kalimantan Province) will soon be the site of Indonesia's\n",
    "            new political capital, Nusantara, as part of the plan to move the country's\n",
    "            capital from the island of Java to the island of Borneo, which is home to one\n",
    "            of the world’s largest rainforests.\n",
    "            Jakarta, the current political capital which will become the country's\n",
    "            economic capital by 2045, is currently facing several environmental, climatic\n",
    "            and demographic problems and challenges: overpopulation, heavy pollution,\n",
    "            rising water levels, frequent flooding, etc. In order to deal with the inevitable\n",
    "            future security issue, the Indonesian government has decided to build a new\n",
    "            capital 2,000 km away from Jakarta, in the province of East Kalimantan,\n",
    "            more precisely between the towns of Balikpapan and Samarinda. With the\n",
    "            legislation for the relocation of the new capital published, the physical\n",
    "            development of the new capital will begin in 2022. In August 2024, the\n",
    "            President plans to celebrate Indonesia's Independence Day in the new\n",
    "            capital.\n",
    "            The government plans to make the new capital a \"forest city\" by strongly\n",
    "            preserving forest areas and using sustainable energy. However, many argue\n",
    "            that the development of the new capital could lead to environmental\n",
    "            degradation and loss of essential biodiversity, especially in the mangrove\n",
    "            forest. The majority of the Indonesian population, including the local\n",
    "            population, supports the new capital movement by echoing the effect of\n",
    "            equitable development. Indeed, for decades, the natural resources of\n",
    "            Kalimantan Island have been exploited to support Indonesian development,\n",
    "            especially that of Java Island.\n",
    "            The location of the project (Delta Mahakam and Adang Bay -Adang Bay) is an\n",
    "            area relatively close to the potential centre of the state capital (about 100-\n",
    "            200 km).\n",
    "\n",
    "            Environment and development challenges\n",
    "            a) Aquaculture industry\n",
    "            Mahakam Delta area is under pressure from both the industrial and\n",
    "            agricultural sectors, including aquaculture facing a national high dynamic.\n",
    "            From 2015 to 2035 it is expected a destruction of 600,000 ha of mangrove\n",
    "            for shrimp farm at the national scale. The World Bank (2013) estimates a\n",
    "            pressure to double cultivated shrimp production from currently 300,000 t\n",
    "            (produced by 600,000 ha of ponds) to 600,000 t/1,000,000 t by 2030 to fulfil\n",
    "            the demand. However, with improvements in brackish water aquaculture\n",
    "            productivity, halting palm oil concession to use mangroves, along with\n",
    "            maintaining other mangrove use pressures at moderate levels, the net loss\n",
    "            of mangroves in the next two decades could be reduced to around 23,000 ha\n",
    "            at this same scale.\n",
    "            The East-Kalimantan Province is the new area to develop aquaculture ponds\n",
    "            as Java, Sumatra and Sulawesi islands are facing a decrease of the\n",
    "            production and the destruction of their environment due to unsustainable\n",
    "            practices.\n",
    "            Feature 1: Forecasted mangrove loss at six mangrove regions in Indonesia\n",
    "            in the next two decades due to land use change under pessimistic scenario.\n",
    "            Circle size indicates potential loss areas in Sumatra, Kalimantan, and Papua;\n",
    "            as for Java, Sulawesi and Maluku potential loss areas are represented by the\n",
    "            smaller circles.\n",
    "            Scientific studies also show that the percentage of mangrove natural\n",
    "            recovery is higher in East-Kalimantan with 1.4%/year against 0.7%/year in\n",
    "            other islands in inactive ponds. This suggests to consider conservation\n",
    "            activities in specific areas of Mahakam Delta. At the scale of Mahakam Delta,\n",
    "            the table below for which the percentage (43.7%) is as higher as the\n",
    "            remaining mangrove forest (48.5%) highlights the dominance of aquaculture.\n",
    "\n",
    "            \n",
    "            b) Demography\n",
    "            The demographic issue must also be considered. Indeed, the announcement\n",
    "            in 2019 of the relocation of the political and administrative capital of Jakarta\n",
    "            to the province of East Kalimantan, between the cities of Balikpapan and\n",
    "            Samarinda, suggests strong migrations, the development of infrastructures\n",
    "            but also a growing demand for aquaculture products. By 2024, the\n",
    "            Indonesian Minister of Planning hopes to transfer nearly 1.5 million public\n",
    "            officials and political representatives in East Kalimantan.\n",
    "            Delta Mahakam Ulu village, which belongs to Delta Mahakam district, is\n",
    "            located in the northern part of the Mahakam Delta. The location of Delta\n",
    "            Mahakam sub-district is close to the state-owned oil company (Pertamina),\n",
    "            formerly VICO. Due to the proximity of a fairly large company, the\n",
    "            community's economy is quite dynamic and the area offers a variety of jobs.\n",
    "            However, the number of people who still carry out the traditional work of\n",
    "            fishermen and fish farmers is still quite high, especially in the coastal areas.\n",
    "            Working as a fish farmer has become one of the choices of the community as\n",
    "            land is available for opening ponds. The conversion of mangrove forests into\n",
    "            ponds has been going on for decades, but the production of fish and shrimp\n",
    "            has decreased from time to time. Based on various studies and research,\n",
    "            planting a number of mangroves in ponds can improve the soil and water\n",
    "            quality in the ponds so that they can provide sustainable production. The\n",
    "            farmer groups in Delta Mahakam Ulu ponds are beginning to realise the\n",
    "            importance of planting mangroves in the ponds, and therefore need support\n",
    "            from various parties.\n",
    "            c) Other issues\n",
    "            The table below represents a summary of estimation of potential loss and\n",
    "            gain of mangroves in six major regions by 2035. The Kalimantan Island is the\n",
    "            one to analyze in order to justify Planète Urgence and partners’ information.\n",
    "            The analysis does not yet consider the movement of new capital issue which\n",
    "            very likely affect the mangrove forest in East Kalimantan as well.\n",
    "            \n",
    "            This table highlight the multiple and complex context in which mangrove loss\n",
    "            depends and confirms challenges faced in Mahakam Delta area. The lack of\n",
    "            resources (financial, human resources, material) of local authorities coupled\n",
    "            with a lack of transparency, coordination and communication around\n",
    "            responsibilities of each actors impacts the management of mangrove forests,\n",
    "            natural resources and territorial development.    \n",
    "            \n",
    "            Another issue that has also had a major impact on life in Indonesia, including\n",
    "            East Kalimantan, is the Covid 19 global pandemic that has attacked the\n",
    "            entire world since early 2020. The Covid 19 pandemic has had a major\n",
    "            impact on life in Indonesia. East Kalimantan is a province outside Java Island\n",
    "            with the highest rate of exposure to Covid, which has resulted in the\n",
    "            government imposing a lockdown and restrictions on community activities.\n",
    "            At the beginning of 2022, community activities began to return to normal,\n",
    "            but a new variant emerged, namely Omicron, which spread very quickly.\n",
    "            Facing a pandemic situation that has not ended, of course, the project must\n",
    "            continue but still pay attention to security, safety, and practice health\n",
    "            protocols.\n",
    "            \n",
    "            3. Strategy & theory of change\n",
    "            The three years project aims to contribute to restore the degraded of\n",
    "            mangrove ecosystem in Production Forest (Mahakamm Delta) and\n",
    "            Conservation area (Adang Bay). In doing so, the project will address the key\n",
    "            problems in those regions:\n",
    "            a. Lack of awareness of local people on mangrove ecosystem,\n",
    "            biodiversity issue and waste\n",
    "            b. Huge area of degraded mangrove forest which affect the resilience of\n",
    "            local people in facing climate change, the habitat of endangered\n",
    "            species and local economy;\n",
    "            c. Lack of alternative sustainable livelihood in coastal area;\n",
    "            d. Poor governance particularly on mangrove ecosystem and its\n",
    "            environmental and economy issue.\n",
    "            To overcome those problems, Planet Urgence and its partners will work by\n",
    "            implementing the PU FORET strategy which rely on three components:\n",
    "            1. Restore degraded forest;\n",
    "            2. Environmental awareness;\n",
    "            3. Strengthening livelihood of local people.\n",
    "            In addition, the involvement of local NGOs, local community and volunteer is\n",
    "            key for the successful of the project and the sustainability the impact of the\n",
    "            project. Therefore, PU will reinforce the capacity of those local stakeholders\n",
    "            to ensure they can carry out the project activities and together achieve the\n",
    "            long-term goal of the project.    \n",
    "            \"\"\"\n",
    "    },\n",
    "    {\n",
    "        \"q_#\": 6,\n",
    "        \"question\": \"Project start date / end date\", \n",
    "        \"reference_answer\": \"March 2023 – February 2026\"\n",
    "    },\n",
    "    {\n",
    "        \"q_#\": 7,\n",
    "        \"question\": \"\"\"Project budget \n",
    "            Total amount of the project (in Euros) \n",
    "            \n",
    "            Amount of donation requested from the Foundation (in Euros) \n",
    "            \n",
    "            Detailed provisional project budget \n",
    "            \n",
    "            Detailed project budget for current year\n",
    "        \"\"\", \n",
    "        \"reference_answer\": \"The total required resources is 818 341 € for the period 2023-2026\"\n",
    "    },                \n",
    "\n",
    "]\n",
    " \n",
    "\n"
   ]
  },
  {
   "cell_type": "markdown",
   "metadata": {},
   "source": [
    "#### Reformulation de la question initiale"
   ]
  },
  {
   "cell_type": "code",
   "execution_count": 22,
   "metadata": {},
   "outputs": [
    {
     "name": "stdout",
     "output_type": "stream",
     "text": [
      "Initial question:\n",
      "Number of people concerned\n"
     ]
    },
    {
     "data": {
      "text/plain": [
       "'How many people are impacted by the project?'"
      ]
     },
     "execution_count": 22,
     "metadata": {},
     "output_type": "execute_result"
    }
   ],
   "source": [
    "from langchain_core.prompts import ChatPromptTemplate\n",
    "from langchain_core.output_parsers import StrOutputParser\n",
    "\n",
    "\"v1\"\n",
    "# system = \"\"\"You are a question re-writer that converts an input question to a better version that is optimized \\n\n",
    "#      for vectorstore retrieval. Re-write the input in an interrogative, clear and concise way.\"\"\"\n",
    "\n",
    "\"v2\"\n",
    "# system=\"\"\"\n",
    "#     You are a **question rewriter** that refines input questions to optimize them for **vector store retrieval**.  \n",
    "\n",
    "#     ### **Instructions:**  \n",
    "#     - Convert the input into a **clear, concise, and well-structured interrogative sentence**.  \n",
    "#     - Ensure the reworded question **preserves the original intent** while improving retrieval effectiveness.  \n",
    "#     - Remove ambiguity and redundant phrasing to enhance search relevance.  \n",
    "\n",
    "#     Here is the initial question: \\n\\n {question} \\n Formulate an improved question.\n",
    "\n",
    "#     ### **Optimized Output:**  \n",
    "#     Provide only the rewritten question, without any additional text.  \n",
    "\n",
    "# \"\"\"\n",
    "\n",
    "\"v3\"\n",
    "system=\"\"\"\n",
    "    You are a question rewriter tasked with improving input questions to optimize them for vector store retrieval. \n",
    "    Your mission is to refine, rephrase, and enhance the provided questions to ensure they are:\n",
    "    * Clear and easy to understand.\n",
    "    * Concise and focused.\n",
    "    * Optimized for effective retrieval by removing ambiguities, unnecessary words, and redundancies.\n",
    "    * Written in an interrogative form while preserving the original intent.\n",
    "\n",
    "    #### Input Fields to Rework:\n",
    "    * Project Description: Reword questions that focus on the project’s overall scope and objectives.\n",
    "    * Country and City: Refine questions to specifically inquire about the project’s location.\n",
    "    * Target Beneficiaries: Enhance questions to clarify the population or group that benefits from the project.\n",
    "    * Number of People Concerned: Rework questions to quantify how many people the project impacts.\n",
    "    * Context, Environment, Project Rationale, and Challenges: Rephrase questions that ask for background information, challenges, and the reasoning behind the project.\n",
    "    * Project Start Date / End Date: Rework questions regarding the project’s timeline.\n",
    "    * Financial Information:\n",
    "        * Project Budget: Reword questions about the overall project budget.\n",
    "        * Total Project Cost: Rephrase inquiries about the total cost of the project.\n",
    "        * Donation Request Amount: Refine questions asking about the amount of funding requested.\n",
    "        * Provisional Project Budget: Rework questions about the detailed provisional budget for the project.\n",
    "        * Current Year Budget: Enhance questions related to the budget specific to the current year.\n",
    "\n",
    "\n",
    "    #### Response Format:\n",
    "    For each input question, rephrase it in a clear, concise, and interrogative form, optimized for vector store retrieval. Return only the reworked question.\n",
    "\"\"\"\n",
    "\n",
    "re_write_prompt = ChatPromptTemplate.from_messages(\n",
    "    [\n",
    "        (\"system\", system),\n",
    "        (\n",
    "            \"human\",\n",
    "            \"Here is the initial question: \\n\\n {question} \\n Formulate an improved question.\",\n",
    "        ),\n",
    "    ]\n",
    ")\n",
    "llm_rewriter = ChatOpenAI(model_name=\"gpt-4o-mini\", temperature=0.2)\n",
    "question_rewriter = re_write_prompt | llm_rewriter | StrOutputParser()\n",
    "# question=\"Context, environment, project rationale and challenges\"\n",
    "# question=\"Country and City\"\n",
    "question=\"Number of people concerned\"\n",
    "# question=\"Description of the project\"\n",
    "print(f\"Initial question:\\n{question}\")\n",
    "question_rewriter.invoke({\"question\": question})"
   ]
  },
  {
   "cell_type": "markdown",
   "metadata": {},
   "source": [
    "Methode nouvelle Runnable / LCEL / \"chain\""
   ]
  },
  {
   "cell_type": "code",
   "execution_count": null,
   "metadata": {},
   "outputs": [
    {
     "name": "stdout",
     "output_type": "stream",
     "text": [
      "Enhanced_question:\n",
      " How many people are impacted by the project?\n",
      "\n",
      "----\n",
      "Reference_answer:\n",
      " \n",
      "            Number of direct beneficiaries of the pilot project: 3245 people with the\n",
      "            proportion of 30% women and 70% men.\n",
      "            Number of indirect beneficiaries: 3000 people by assuming at least the\n",
      "            project will give benefit indirectly to 1500 people per location including in\n",
      "            East Kalimantan and Indonesia.\n",
      "        \n",
      "\n",
      "----\n",
      "LCEL_qa_chain answer:\n",
      " The project impacts a total of 6,245 people. This includes 3,245 direct beneficiaries, with a gender proportion of 30% women and 70% men, and 3,000 indirect beneficiaries, who are assumed to benefit indirectly from the project.\n",
      "\n",
      "----\n",
      "LCEL_qa_chain sources:\n",
      " [Document(metadata={'page': 18, 'source': './data/PROJECT DOCUMENT MAHAKAM 2023-2025_balise.pdf'}, page_content='\\nFeature 3. Theory of Change\\n4. Beneficiaries\\nNumber of direct beneficiaries of the pilot project: 3245 people with the\\nproportion of 30% women and 70% men. \\nNumber of indirect beneficiaries: 3000 people by assuming at least the\\nproject will give benefit indirectly to 1500 people per location including in\\nEast Kalimantan and Indonesia.\\nThe target groups include: \\n- School children (primary schools and secondary schools)\\n- Teachers (primary school teachers)'), Document(metadata={'page': 18, 'source': './data/PROJECT DOCUMENT MAHAKAM 2023-2025_balise.pdf'}, page_content='\\nFeature 3. Theory of Change\\n4. Beneficiaries\\nNumber of direct beneficiaries of the pilot project: 3245 people with the\\nproportion of 30% women and 70% men. \\nNumber of indirect beneficiaries: 3000 people by assuming at least the\\nproject will give benefit indirectly to 1500 people per location including in\\nEast Kalimantan and Indonesia.\\nThe target groups include: \\n- School children (primary schools and secondary schools)\\n- Teachers (primary school teachers)'), Document(metadata={'page': 18, 'source': './data/PROJECT DOCUMENT MAHAKAM 2023-2025_balise.pdf'}, page_content='\\nFeature 3. Theory of Change\\n4. Beneficiaries\\nNumber of direct beneficiaries of the pilot project: 3245 people with the\\nproportion of 30% women and 70% men. \\nNumber of indirect beneficiaries: 3000 people by assuming at least the\\nproject will give benefit indirectly to 1500 people per location including in\\nEast Kalimantan and Indonesia.\\nThe target groups include: \\n- School children (primary schools and secondary schools)\\n- Teachers (primary school teachers)'), Document(metadata={'page': 18, 'source': './data/PROJECT DOCUMENT MAHAKAM 2023-2025_balise.pdf'}, page_content='\\nFeature 3. Theory of Change\\n4. Beneficiaries\\nNumber of direct beneficiaries of the pilot project: 3245 people with the\\nproportion of 30% women and 70% men. \\nNumber of indirect beneficiaries: 3000 people by assuming at least the\\nproject will give benefit indirectly to 1500 people per location including in\\nEast Kalimantan and Indonesia.\\nThe target groups include: \\n- School children (primary schools and secondary schools)\\n- Teachers (primary school teachers)')]\n"
     ]
    },
    {
     "name": "stderr",
     "output_type": "stream",
     "text": [
      "Evaluating: 100%|██████████| 1/1 [00:00<00:00,  1.26it/s]"
     ]
    },
    {
     "name": "stdout",
     "output_type": "stream",
     "text": [
      "mini check timing: 0.7997894287109375\n",
      "LLM score: 8\n",
      "\n",
      "specialized model score: [0], [0.10934196412563324]\n"
     ]
    },
    {
     "name": "stderr",
     "output_type": "stream",
     "text": [
      "\n"
     ]
    }
   ],
   "source": [
    "from langchain import hub\n",
    "from langchain_core.output_parsers import StrOutputParser\n",
    "from langchain_core.runnables import RunnablePassthrough\n",
    "from langchain_core.prompts import ChatPromptTemplate\n",
    "from langchain_core.runnables import RunnableParallel, RunnableLambda\n",
    "\n",
    "\n",
    "# 1. Optimized prompt\n",
    "\n",
    "# rag_prompt = ChatPromptTemplate.from_template(\"\"\"Answer the question based on the context below. \n",
    "# If the context contain enough information to provide a complete or a partial answer, try to exloit it.\n",
    "# If the context doesn't contain any information related to the question, say i don't know.\n",
    "\n",
    "# Context: {context}\n",
    "\n",
    "# Question: {question}\n",
    "\n",
    "# Answer in a helpful, factual and detailed way:\"\"\")\n",
    "\n",
    "rag_prompt = ChatPromptTemplate.from_template(\"\"\"\n",
    "    Answer the question based **only** on the provided context.  \n",
    "\n",
    "    - If the context contains enough information to provide a complete or partial answer, use it to formulate a detailed and factual response.  \n",
    "    - If the context lacks relevant information, respond with: \"I don't know.\"  \n",
    "\n",
    "    ### **Context:**  \n",
    "    {context}  \n",
    "\n",
    "    ### **Question:**  \n",
    "    {question}  \n",
    "\n",
    "    ### **Answer:**  \n",
    "    Provide a clear, factual, and well-structured response based on the available context. Avoid speculation or adding external knowledge.  \n",
    "\"\"\")\n",
    "\n",
    "# 2. Configure retriever\n",
    "retriever = chroma_db.as_retriever(\n",
    "    # search_type=\"mmr\",  # Try different search types\n",
    "    # search_kwargs={\"k\": 5, \"fetch_k\": 10}  # Retrieve more documents\n",
    "    k=6\n",
    ")\n",
    "\n",
    "# 3. Chain with refinement\n",
    "# lcel_qa_chain = (\n",
    "#     RunnableParallel({\n",
    "#         \"context\": retriever | (lambda docs: \"\\n\\n\".join(d.page_content for d in docs)),\n",
    "#         \"question\": RunnablePassthrough(),\n",
    "#     })\n",
    "#     | rag_prompt\n",
    "#     | llm_qa\n",
    "#     | StrOutputParser()\n",
    "# )\n",
    "\n",
    "lcel_qa_chain = (\n",
    "    RunnableParallel({\n",
    "        \"context\": retriever | (lambda docs: \"\\n\\n\".join(d.page_content for d in docs)),\n",
    "        \"sources\": retriever,\n",
    "        \"question\": RunnablePassthrough(),\n",
    "    })\n",
    "    | (lambda inputs: {\n",
    "        \"answer\": (rag_prompt | llm_qa | StrOutputParser()).invoke(inputs),\n",
    "        \"sources\": inputs[\"sources\"]  \n",
    "    })\n",
    ")\n",
    "\n",
    "# Usage\n",
    "question=\"Number of people concerned\"\n",
    "reference_answer=[v[\"reference_answer\"] for v in questions if v[\"question\"]==question][0]\n",
    "\n",
    "enhanced_question=question_rewriter.invoke({\"question\": question})\n",
    "print(\"Enhanced_question:\\n\", enhanced_question)\n",
    "print(\"\\n----\\nReference_answer:\\n\", reference_answer)\n",
    "response = lcel_qa_chain.invoke(enhanced_question)\n",
    "print(\"\\n----\\nLCEL_qa_chain answer:\\n\", response[\"answer\"])\n",
    "print(\"\\n----\\nLCEL_qa_chain sources:\\n\", response[\"sources\"])\n",
    "\n",
    "\n",
    "\n",
    "# eval with llm\n",
    "llm_score= score_reference_vs_rag_with_gpt(enhanced_question, reference_answer, response)\n",
    "\n",
    "# eval with specialized model\n",
    "t=timing()\n",
    "pred_label, raw_prob, _, _ = specialized_evaluator.score(docs=[reference_answer], claims=[response[\"answer\"]])\n",
    "print(f\"mini check timing: {timing()-t}\")\n",
    "print(f\"\"\"LLM score: {llm_score}\\n\"\"\")\n",
    "print(f\"\"\"specialized model score: {pred_label}, {raw_prob}\"\"\")\n"
   ]
  },
  {
   "cell_type": "markdown",
   "metadata": {},
   "source": [
    "### Différents types de recherche\n",
    "La BDD Chroma propose 3 types de recherche (et arguments associés)\n",
    "\n",
    "Ci dessous un test simple"
   ]
  },
  {
   "cell_type": "code",
   "execution_count": 29,
   "metadata": {},
   "outputs": [
    {
     "name": "stdout",
     "output_type": "stream",
     "text": [
      "Cosine sim 'basic'\n"
     ]
    },
    {
     "data": {
      "text/plain": [
       "[Document(metadata={'source': './data/PROJECT DOCUMENT MAHAKAM 2023-2025_balise.pdf', 'page': 17}, page_content='\\nAnother issue that has also had a major impact on life in Indonesia, including\\nEast Kalimantan, is the Covid 19 global pandemic that has attacked the\\nentire world since early 2020.  The  Covid 19 pandemic has had a major\\nimpact on life in Indonesia. East Kalimantan is a province outside Java Island\\nwith  the  highest  rate  of  exposure  to  Covid,  which  has  resulted  in  the\\ngovernment imposing a lockdown and restrictions on community activities.\\nAt the beginning of 2022, community activities began to return to normal,\\nbut a new variant emerged, namely Omicron, which spread very quickly.\\nFacing a pandemic situation that has not ended, of course, the project must\\ncontinue  but  still  pay  attention  to  security,  safety,  and  practice  health\\nprotocols.\\n3. Strategy & theory of change\\nThe  three  years  project  aims  to  contribute  to  restore  the  degraded  of\\nmangrove  ecosystem  in  Production  Forest  (Mahakamm  Delta)  and\\nConservation area (Adang Bay). In doing so, the project will address the key\\nproblems in those regions: \\na. Lack  of  awareness  of  local  people  on  mangrove  ecosystem,\\nbiodiversity issue and waste\\nb. Huge area of degraded mangrove forest which affect the resilience of\\nlocal  people  in  facing  climate  change,  the  habitat  of  endangered\\nspecies and local economy;\\nc. Lack of alternative sustainable livelihood in coastal area;\\nd. Poor  governance  particularly  on  mangrove  ecosystem  and  its\\nenvironmental and economy issue.   \\nTo overcome those problems, Planet Urgence and its partners will work by\\nimplementing the PU FORET strategy which rely on three components:\\n1. Restore degraded forest;\\n2. Environmental awareness;\\n3. Strengthening livelihood of local people. \\nIn addition, the involvement of local NGOs, local community and volunteer is\\nkey for the successful of the project and the sustainability the impact of the'),\n",
       " Document(metadata={'source': './data/PROJECT DOCUMENT MAHAKAM 2023-2025_balise.pdf', 'page': 52}, page_content='\\ne.Field monitoring six times in a year.\\nf. Internal evaluation at the end of project\\nIn addition, the project includes a third party evaluation during year 3 for final evaluation of the project’s activities\\nand conduction of the climate philanthropy methodology.\\nThe final evaluation will be conducted via remote evaluation and onsite visit of the project.\\nIt will include at minimum :\\n\\uf0b7 An inventory of the activities that have taken place in relation to the project plan (including planting activities,\\nincreased livelihoods and environmental awareness)\\n\\uf0b7 Review of carbon  sequestration  calculations  and monitoring  protocols,  based on the  climate  philanthropy\\nmethodology  developed  by  Planète  Urgence  (zone  boundaries,  baseline  scenario,  demonstration  of\\nadditionality, ex-ante carbon calculation, and first ex-post measures on year 3 linked with survival rate)\\n\\uf0b7 Review of project, monitoring and activity reports\\n\\uf0b7 Redaction of the audit report\\nCompletion  of  baseline  and  proof  of  additionality,  accompanied  by  EX-ANTE  calculation  of  GHG\\nemissions/sequestrations\\nAccording with Planete Urgence’s methodology on Climate Philanthropy, the project will monitor carbon sequestration\\nimpacts.\\nTo do so, Planète Urgence team will develop a baseline scenario illustrating the activities and greenhouse gas (GHG)\\nemissions that would occur in the absence of a project’s activity. Developing this baseline will be the foundation of\\nmeasuring the project’s emissions reductions or removals; it will set the benchmark by which a comparison of the\\nproject’s activities can be made against the business-as-usual scenario providing clarity on how the project can and\\nwill influence emissions reductions over time. \\nThe protocol developed by Planete Urgence adopts the baseline scenario and additionality tests based on the Verified\\nCarbon Standard (VCS) and Clean Development Mechanism (CDM)’s Afforestation/Reforestation methodological tools.'),\n",
       " Document(metadata={'source': './data/PROJECT DOCUMENT MAHAKAM 2023-2025_balise.pdf', 'page': 17}, page_content='To overcome those problems, Planet Urgence and its partners will work by\\nimplementing the PU FORET strategy which rely on three components:\\n1. Restore degraded forest;\\n2. Environmental awareness;\\n3. Strengthening livelihood of local people. \\nIn addition, the involvement of local NGOs, local community and volunteer is\\nkey for the successful of the project and the sustainability the impact of the\\nproject. Therefore, PU will reinforce the capacity of those local stakeholders\\nto ensure they can carry out the project activities and together achieve the\\nlong-term goal of the project. \\nDiagram of the theory of change can be seen below or in this link  Proyek\\nNEW MAHAKAM 2023-2026 -TOC - 3.xlsx'),\n",
       " Document(metadata={'source': './data/PROJECT DOCUMENT MAHAKAM 2023-2025_balise.pdf', 'page': 52}, page_content='project’s activities can be made against the business-as-usual scenario providing clarity on how the project can and\\nwill influence emissions reductions over time. \\nThe protocol developed by Planete Urgence adopts the baseline scenario and additionality tests based on the Verified\\nCarbon Standard (VCS) and Clean Development Mechanism (CDM)’s Afforestation/Reforestation methodological tools.\\nIt involves :'),\n",
       " Document(metadata={'source': './data/PROJECT DOCUMENT MAHAKAM 2023-2025_balise.pdf', 'page': 55}, page_content='\\nHuman resources – Planète Urgence\\nHuman resources – Implementing partners\\nManagement actions – Planète Urgence\\n(including meetings, missions, coordination workshops, \\nmonitoring and evaluations, quality assurance, reporting, \\ncommunication, etc.)\\nManagement actions – Implementing partner \\n(including meetings, missions, coordination workshops, \\nmonitoring and evaluations, quality assurance, reporting, \\ncommunication, etc.)\\nCapacity building of project management staff (Planète Urgence \\nand implementing partners)\\nMid-term assessment (as appropriate)\\nTerminal and final assessment (as appropriate)\\nAudit(s) (as appropriate)\\n</table>'),\n",
       " Document(metadata={'source': './data/PROJECT DOCUMENT MAHAKAM 2023-2025_balise.pdf', 'page': 53}, page_content='\\n\\uf0b7 Identification and mapping of project boundaries\\n\\uf0b7 Consideration of regulatory surplus\\n\\uf0b7 Development of a list of reference scenarios ( Identification of obstacles, Analysis of obstacles, Determination of\\nreference scenario, Investment analysis\\n\\uf0b7 Definition of net GHG removals in the reference scenario, \\n\\uf0b7 Definition and proof of additionality\\n<table>\\n13. Timeline \\nEXPECTED RESULTS & PLANNED\\nACTIVITIES\\nTIMELINE\\nQ1 Q2 Q3 Q4 Q1 Q2 Q3 Q4 Q1 Q2 Q3 Q4\\nOutput 1\\xa0: Raising the awareness of stakeholders to \\nconserve and to manage Delta Mahakam sustainably.\\nA.1.1. Conduct workshops in schools of East Kalimantan province \\nto raise awareness on environment and biodiversity preservation.\\nA.1.2. Support Adiwiyata School\\nA.1.3. Conduct public awareness campaigns to sensitize \\ncommunities in East Kalimantan province to the ecological, \\neconomic and climatic benefits of the mangrove.\\nOutput 2\\xa0: Rehabilitate degraded mangrove forest\\nA.2.1. Pres-assessment study on land suitability\\nA.2.2. Ensure establishment and management of community-\\nbased nurseries')]"
      ]
     },
     "metadata": {},
     "output_type": "display_data"
    },
    {
     "name": "stdout",
     "output_type": "stream",
     "text": [
      "\n",
      "---------\n",
      "Similarity_score_threshold\n"
     ]
    },
    {
     "name": "stderr",
     "output_type": "stream",
     "text": [
      "No relevant docs were retrieved using the relevance score threshold 0.6\n"
     ]
    },
    {
     "data": {
      "text/plain": [
       "[]"
      ]
     },
     "metadata": {},
     "output_type": "display_data"
    },
    {
     "name": "stdout",
     "output_type": "stream",
     "text": [
      "\n",
      "---------\n",
      "MMR\n"
     ]
    },
    {
     "data": {
      "text/plain": [
       "[Document(metadata={'source': './data/PROJECT DOCUMENT MAHAKAM 2023-2025_balise.pdf', 'page': 17}, page_content='\\nAnother issue that has also had a major impact on life in Indonesia, including\\nEast Kalimantan, is the Covid 19 global pandemic that has attacked the\\nentire world since early 2020.  The  Covid 19 pandemic has had a major\\nimpact on life in Indonesia. East Kalimantan is a province outside Java Island\\nwith  the  highest  rate  of  exposure  to  Covid,  which  has  resulted  in  the\\ngovernment imposing a lockdown and restrictions on community activities.\\nAt the beginning of 2022, community activities began to return to normal,\\nbut a new variant emerged, namely Omicron, which spread very quickly.\\nFacing a pandemic situation that has not ended, of course, the project must\\ncontinue  but  still  pay  attention  to  security,  safety,  and  practice  health\\nprotocols.\\n3. Strategy & theory of change\\nThe  three  years  project  aims  to  contribute  to  restore  the  degraded  of\\nmangrove  ecosystem  in  Production  Forest  (Mahakamm  Delta)  and\\nConservation area (Adang Bay). In doing so, the project will address the key\\nproblems in those regions: \\na. Lack  of  awareness  of  local  people  on  mangrove  ecosystem,\\nbiodiversity issue and waste\\nb. Huge area of degraded mangrove forest which affect the resilience of\\nlocal  people  in  facing  climate  change,  the  habitat  of  endangered\\nspecies and local economy;\\nc. Lack of alternative sustainable livelihood in coastal area;\\nd. Poor  governance  particularly  on  mangrove  ecosystem  and  its\\nenvironmental and economy issue.   \\nTo overcome those problems, Planet Urgence and its partners will work by\\nimplementing the PU FORET strategy which rely on three components:\\n1. Restore degraded forest;\\n2. Environmental awareness;\\n3. Strengthening livelihood of local people. \\nIn addition, the involvement of local NGOs, local community and volunteer is\\nkey for the successful of the project and the sustainability the impact of the'),\n",
       " Document(metadata={'source': './data/PROJECT DOCUMENT MAHAKAM 2023-2025_balise.pdf', 'page': 55}, page_content='\\nHuman resources – Planète Urgence\\nHuman resources – Implementing partners\\nManagement actions – Planète Urgence\\n(including meetings, missions, coordination workshops, \\nmonitoring and evaluations, quality assurance, reporting, \\ncommunication, etc.)\\nManagement actions – Implementing partner \\n(including meetings, missions, coordination workshops, \\nmonitoring and evaluations, quality assurance, reporting, \\ncommunication, etc.)\\nCapacity building of project management staff (Planète Urgence \\nand implementing partners)\\nMid-term assessment (as appropriate)\\nTerminal and final assessment (as appropriate)\\nAudit(s) (as appropriate)\\n</table>'),\n",
       " Document(metadata={'source': './data/PROJECT DOCUMENT MAHAKAM 2023-2025_balise.pdf', 'page': 52}, page_content='project’s activities can be made against the business-as-usual scenario providing clarity on how the project can and\\nwill influence emissions reductions over time. \\nThe protocol developed by Planete Urgence adopts the baseline scenario and additionality tests based on the Verified\\nCarbon Standard (VCS) and Clean Development Mechanism (CDM)’s Afforestation/Reforestation methodological tools.\\nIt involves :'),\n",
       " Document(metadata={'source': './data/PROJECT DOCUMENT MAHAKAM 2023-2025_balise.pdf', 'page': 43}, page_content='\\nreach the common\\ngoals in Delta \\nMahakam.\\n2) PU and Bioma \\nhave developed \\npractical guidance \\non how to conduct \\nFPIC in \\nreforestation \\nprojects. \\npilot project.\\nRelationship with \\nlocal partners\\nPU and \\nimplementing \\npartners have \\nstrong ties with \\nthe local authority \\nsuch as Forest \\nManagement Unit \\nand Conservation \\nagencies.\\nThe informal \\ncoordination will \\nbe conducted to \\nthose authority to \\ngain technical and \\nadministrative \\nsupport from \\nthem. \\nCapacity building \\nof our local \\npartners \\nYML has really \\ngood knowledge \\nand technical skills\\nin reforestation \\nand sylvofishery.  \\n Pokja Pesisir has \\ngood \\ncommunication \\nwith key \\nstakeholders at \\nthe village and \\nregion levels \\n(BKSDA) \\n \\nYML still has a lack\\nof capacity and \\ninitiative to \\nconduct data \\nmonitoring related\\nto sylvofishery and\\nis reluctant to \\nwork with \\nuniversity.\\nPokja Pesisir in \\nother side has still \\nlacks experience \\nin reforestation \\nskills, particularly \\ndata collection. \\nPU Indonesia will \\nprovide tools to \\nYML and Pokja \\nPesisir to conduct \\ndata collection and\\nregularly \\nmonitoring the \\nimplementation.\\nHiring consultant Local consultant \\nhas better \\nunderstanding on \\nlocal social and \\nenvironmental \\ncontext\\n1) The English \\nskill, writing and \\nspeaking, of local \\nconsultant is \\nrelatively poor. 2)  \\nThe local \\nconsultant \\napparently does \\nnot have a 100 \\npercent freedom \\nClear objectives \\nand indicators are \\nneeded to guide \\nthe local \\nconsultant. \\nMoreover, a rapid \\ninternal \\nassessment is \\nneeded to \\ncomplement the'),\n",
       " Document(metadata={'source': './data/PROJECT DOCUMENT MAHAKAM 2023-2025_balise.pdf', 'page': 19}, page_content='\\n- Community members (villagers, consists of fish farmers, women group,\\nand youth)\\n- Village officials\\n- Stakeholders  from  various  institutions  (government  institutions,\\nuniversities, and non-government organizations)\\n- Public audience in general (reached by Media) \\n Other potential groups: \\n- High school and university students\\n- Environmental activists\\n5. Location\\nThe location of the project is in Paser District (Adang Bay village) and Kutai\\nKartanegara district (Delta Mahakam) East Kalimantan Province. The location\\nof project is nearby the new capital of Indonesia which is in the Penajam\\nPaser Utara (around 130-160 km)\\nFeature 4: Site intervention New Mahakam Project\\n6. Expected  results,  planned  activities  &  required\\nresources'),\n",
       " Document(metadata={'source': './data/PROJECT DOCUMENT MAHAKAM 2023-2025_balise.pdf', 'page': 52}, page_content='\\ne.Field monitoring six times in a year.\\nf. Internal evaluation at the end of project\\nIn addition, the project includes a third party evaluation during year 3 for final evaluation of the project’s activities\\nand conduction of the climate philanthropy methodology.\\nThe final evaluation will be conducted via remote evaluation and onsite visit of the project.\\nIt will include at minimum :\\n\\uf0b7 An inventory of the activities that have taken place in relation to the project plan (including planting activities,\\nincreased livelihoods and environmental awareness)\\n\\uf0b7 Review of carbon  sequestration  calculations  and monitoring  protocols,  based on the  climate  philanthropy\\nmethodology  developed  by  Planète  Urgence  (zone  boundaries,  baseline  scenario,  demonstration  of\\nadditionality, ex-ante carbon calculation, and first ex-post measures on year 3 linked with survival rate)\\n\\uf0b7 Review of project, monitoring and activity reports\\n\\uf0b7 Redaction of the audit report\\nCompletion  of  baseline  and  proof  of  additionality,  accompanied  by  EX-ANTE  calculation  of  GHG\\nemissions/sequestrations\\nAccording with Planete Urgence’s methodology on Climate Philanthropy, the project will monitor carbon sequestration\\nimpacts.\\nTo do so, Planète Urgence team will develop a baseline scenario illustrating the activities and greenhouse gas (GHG)\\nemissions that would occur in the absence of a project’s activity. Developing this baseline will be the foundation of\\nmeasuring the project’s emissions reductions or removals; it will set the benchmark by which a comparison of the\\nproject’s activities can be made against the business-as-usual scenario providing clarity on how the project can and\\nwill influence emissions reductions over time. \\nThe protocol developed by Planete Urgence adopts the baseline scenario and additionality tests based on the Verified\\nCarbon Standard (VCS) and Clean Development Mechanism (CDM)’s Afforestation/Reforestation methodological tools.')]"
      ]
     },
     "metadata": {},
     "output_type": "display_data"
    },
    {
     "name": "stdout",
     "output_type": "stream",
     "text": [
      "Aucun retriever ne retourne les bons documents (attendus pages 10 à 18)\n"
     ]
    }
   ],
   "source": [
    "# cosine similiarity \n",
    "def test_retrievers(db, question, chroma_db=chroma_db, faiss_db=faiss_db):\n",
    "    if db=='chroma':\n",
    "        db=chroma_db\n",
    "    elif db=='faiss':\n",
    "        db=faiss_db\n",
    "\n",
    "    retriever_cosine_sim = db.as_retriever(\n",
    "        search_type=\"similarity\",\n",
    "        search_kwargs={\"k\": 6}\n",
    "    )\n",
    "\n",
    "    # cosine similiarity avec filtrage des docs au dessus d'un certain seuil\n",
    "    retriever_sst = db.as_retriever(\n",
    "        search_type=\"similarity_score_threshold\",\n",
    "        search_kwargs={\"score_threshold\": 0.6, \"k\": 6},\n",
    "    )\n",
    "\n",
    "    \"\"\"Maximal Marginal Relevance (mmr), toujours basé sur la cosine similiarity, \n",
    "    avec sélection des docs les plus pertinents, tout en préservant une certaine diversité (lambda_mult)\"\"\"\n",
    "    retriever_mmr = db.as_retriever(\n",
    "        search_type=\"mmr\",\n",
    "        search_kwargs={\"fetch_k\": 20, \"lambda_mult\": 0.5, \"k\": 6}\n",
    "    )\n",
    "\n",
    "    print(\"Cosine sim 'basic'\")\n",
    "    display(retriever_cosine_sim.invoke(question))\n",
    "    print(\"\\n---------\\nSimilarity_score_threshold\")\n",
    "    display(retriever_sst.invoke(question))\n",
    "    print(\"\\n---------\\nMMR\")\n",
    "    display(retriever_mmr.invoke(question))\n",
    "\n",
    "# question=\"Number of people concerned\"\n",
    "# question=\"Country and city\"\n",
    "\"\"\"Exemple de la question 'Context, environment...'. Je sais par expérience que les infos sont dans les pages 10 à 18\"\"\"\n",
    "question=\"Context, environment, project rationale and challenges\"\n",
    "test_retrievers(db=\"faiss\", question=question)\n",
    "\n",
    "if question.startswith(\"Context\"):\n",
    "    print(\"\"\"Aucun retriever ne retourne les bons documents (attendus pages 10 à 18)\"\"\")\n",
    "elif question.startswith(\"Number of\"):\n",
    "    print(\"\"\"Nous voyons que les 2 premières méthodes ne retournent que les fragments les plus pertinents, \n",
    "    là où le MMR retourne des sources plus diversifiées\"\"\")"
   ]
  },
  {
   "cell_type": "markdown",
   "metadata": {},
   "source": [
    "#### Grille de recherche pour les 2 méthodes\n",
    "`similarity_score_threshold` étant une version rafinée de similarity, inutile de tester cette dernière"
   ]
  },
  {
   "cell_type": "code",
   "execution_count": 32,
   "metadata": {},
   "outputs": [
    {
     "data": {
      "text/plain": [
       "[('similarity_score_threshold', 'chroma'),\n",
       " ('similarity_score_threshold', 'faiss'),\n",
       " ('mmr', 'chroma'),\n",
       " ('mmr', 'faiss')]"
      ]
     },
     "execution_count": 32,
     "metadata": {},
     "output_type": "execute_result"
    }
   ],
   "source": [
    "from itertools import product\n",
    "\"\"\" search_type=\"similarity_score_threshold\",\n",
    "    search_kwargs={\"score_threshold\": 0.7, \"k\": 8},\n",
    "\n",
    "    search_type=\"mmr\",\n",
    "    search_kwargs={\"fetch_k\": 20, \"lambda_mult\": 0.5, \"k\": 8}\n",
    "\"\"\"\n",
    "\n",
    "search_types=[\"similarity_score_threshold\", \"mmr\",]\n",
    "db_types=[\"chroma\", \"faiss\"]\n",
    "\n",
    "search_type_args={\n",
    "    \"similarity_score_threshold\": {\"score_threshold\": 0.7, \"k\": 8},\n",
    "\n",
    "    \"mmr\": {\"fetch_k\": 30, \"lambda_mult\": 0.5, \"k\": 8}\n",
    "}\n",
    "\n",
    "gridSearch=list(product(search_types, db_types))\n",
    "gridSearch"
   ]
  },
  {
   "cell_type": "markdown",
   "metadata": {
    "id": "1Y3EOwy8uOtY"
   },
   "source": [
    "### Test avec méthode legacy"
   ]
  },
  {
   "cell_type": "code",
   "execution_count": 38,
   "metadata": {
    "colab": {
     "base_uri": "https://localhost:8080/"
    },
    "executionInfo": {
     "elapsed": 15559,
     "status": "ok",
     "timestamp": 1730739637505,
     "user": {
      "displayName": "thomas boehler",
      "userId": "18209330116931111774"
     },
     "user_tz": -60
    },
    "id": "dxaMo6rit_7F",
    "outputId": "7afe66f9-d7dc-4cf5-cf37-031ada487b63"
   },
   "outputs": [],
   "source": [
    "def update_retrieval_chain(search_type, search_type_args=search_type_args, llm_qa=llm_qa):\n",
    "    retriever = chroma_db.as_retriever(\n",
    "        search_type=search_type,\n",
    "        search_kwargs=search_type_args[search_type],\n",
    "    )\n",
    "    \n",
    "    rag_chain = RetrievalQA.from_chain_type(\n",
    "        llm=llm_qa,\n",
    "        chain_type=\"refine\",\n",
    "        retriever=retriever,\n",
    "        return_source_documents=True\n",
    "    )   \n",
    "\n",
    "    return rag_chain\n",
    " \n",
    "evaluations_retrieval_qa=[]\n",
    "def retrievalQA_loop(evaluations_retrieval_qa=evaluations_retrieval_qa):\n",
    "    for search_type in search_types:\n",
    "        print(f\"Search type: {search_type}\")\n",
    "        for q in questions:   \n",
    "            enhanced_question= question_rewriter.invoke({\"question\": q[\"question\"]})\n",
    "            questions_variations=[\n",
    "                {\"question\": q[\"question\"], \"enhanced_question\": False},\n",
    "                {\"question\": enhanced_question, \"enhanced_question\": True},\n",
    "            ]\n",
    "\n",
    "            for q_v in questions_variations:\n",
    "                question=q_v[\"question\"]\n",
    "                retrievalQA_chain=update_retrieval_chain(search_type)\n",
    "                try:\n",
    "                    rag_qa = retrievalQA_chain.invoke({\"query\": question})\n",
    "                    \n",
    "                except Exception as e:\n",
    "                    print(rag_qa)\n",
    "                    rag_qa={}\n",
    "                    rag_qa[\"result\"]=str(e)\n",
    "                    rag_qa[\"source_documents\"]=None\n",
    "                \n",
    "                \n",
    "\n",
    "                eval_score=score_reference_vs_rag_with_gpt(q[\"question\"], q[\"reference_answer\"], rag_qa[\"result\"])\n",
    "\n",
    "                print(f\"\"\"Question: {question}\"\"\")\n",
    "                print(f\"\"\"Eval_score: {eval_score}\"\"\")\n",
    "\n",
    "                evaluations_retrieval_qa.append(\n",
    "                    {\n",
    "                        \"question_#\":q[\"q_#\"], \n",
    "                        \"question\": question,  \n",
    "                        \"reference_answer\": q[\"reference_answer\"],\n",
    "                        \"rag_answer\": rag_qa[\"result\"],\n",
    "                        \"eval_score_llm\": eval_score,\n",
    "                        \"enhanced_question\": q_v[\"enhanced_question\"],\n",
    "                        \"search_type\": search_type,\n",
    "                        \"source_documents\": rag_qa[\"source_documents\"]\n",
    "                    }\n",
    "                )\n",
    "                print(\"\\n-------\")\n",
    "                \n",
    "            print(\"\\n--------------------\")\n",
    "\n",
    "# retrievalQA_loop()"
   ]
  },
  {
   "cell_type": "markdown",
   "metadata": {},
   "source": [
    "### Test avec méthode LCEL"
   ]
  },
  {
   "cell_type": "code",
   "execution_count": 36,
   "metadata": {},
   "outputs": [
    {
     "name": "stdout",
     "output_type": "stream",
     "text": [
      "Search type: similarity_score_threshold\n",
      "DB type: chroma\n"
     ]
    },
    {
     "name": "stderr",
     "output_type": "stream",
     "text": [
      "No relevant docs were retrieved using the relevance score threshold 0.7\n",
      "No relevant docs were retrieved using the relevance score threshold 0.7\n",
      "Evaluating: 100%|██████████| 1/1 [00:03<00:00,  3.25s/it]\n"
     ]
    },
    {
     "name": "stdout",
     "output_type": "stream",
     "text": [
      "Question: Description of the project\n",
      "LLM Eval_score: 1\n",
      "\n",
      "-------\n"
     ]
    },
    {
     "name": "stderr",
     "output_type": "stream",
     "text": [
      "No relevant docs were retrieved using the relevance score threshold 0.7\n",
      "No relevant docs were retrieved using the relevance score threshold 0.7\n",
      "Evaluating: 100%|██████████| 1/1 [00:03<00:00,  3.19s/it]\n"
     ]
    },
    {
     "name": "stdout",
     "output_type": "stream",
     "text": [
      "Question: What is the description of the project?\n",
      "LLM Eval_score: 1\n",
      "\n",
      "-------\n",
      "\n",
      "--------------------\n"
     ]
    },
    {
     "name": "stderr",
     "output_type": "stream",
     "text": [
      "/home/chougar/miniconda3/lib/python3.11/site-packages/langchain_core/vectorstores/base.py:1086: UserWarning: Relevance scores must be between 0 and 1, got [(Document(metadata={'page': 6, 'source': './data/PROJECT DOCUMENT MAHAKAM 2023-2025_balise.pdf'}, page_content=''), -0.040655001546731295), (Document(metadata={'page': 6, 'source': './data/PROJECT DOCUMENT MAHAKAM 2023-2025_balise.pdf'}, page_content=''), -0.04078607824560021), (Document(metadata={'page': 6, 'source': './data/PROJECT DOCUMENT MAHAKAM 2023-2025_balise.pdf'}, page_content=''), -0.04078607824560021), (Document(metadata={'page': 6, 'source': './data/PROJECT DOCUMENT MAHAKAM 2023-2025_balise.pdf'}, page_content=''), -0.04078607824560021), (Document(metadata={'page': 6, 'source': './data/PROJECT DOCUMENT MAHAKAM 2023-2025_balise.pdf'}, page_content=''), -0.04078607824560021), (Document(metadata={'page': 6, 'source': './data/PROJECT DOCUMENT MAHAKAM 2023-2025_balise.pdf'}, page_content=''), -0.04078607824560021), (Document(metadata={'page': 6, 'source': './data/PROJECT DOCUMENT MAHAKAM 2023-2025_balise.pdf'}, page_content=''), -0.04078607824560021), (Document(metadata={'page': 1, 'source': './data/PROJECT DOCUMENT MAHAKAM 2023-2025_balise.pdf'}, page_content=\"\\nBrief project description\\nEast Kalimantan Province in 2021/2022 received great attention nationally\\nbecause of the moving of the state capital city (Jakarta) to a location near\\nthe city of Balikpapan and Penajam Paser Utara in East Kalimantan Province.\\nThe  development  of  the  new  capital  will  start  in  2022.  Although  the\\nIndonesia President commit to develop the new capital as Forest and Smart\\nCity,  the  surrounding  area  particularly  the  coastal  area  such  as  Delta\\nMahakam and Adang Bay might get high pressure as the consequence of the\\nnew  development  and  the  movement  of  1.5  million  people  to  the  new\\ncapital.    \\nDelta Mahakam, in the eastern part of East Kalimantan, is an area that is\\nrelatively close to the prospective center of the State capital (about 100 km).\\nMahakam Delta is naturally a mangrove habitat, but due to excessive land\\nclearing for extensive aquaculture about 47.5 % of the mangrove ecosystem\\nis  degraded  to  be  converted  into  aquaculture  (2017).  Despite  various\\nconservation efforts by different parties and the government, land clearing\\nstill continues. Delta Mahakam land ownership is government land that has\\ndesignated  as  a  production  forest,  but  this  area  has  been  inhabited  by\\nresidents from generation to generation.\\nAdang Bay is one of the coastal villages in Adang Bay, Paser Regency, on the\\nsouthern part of East Kalimantan Province  (about 100 km from the new\\ncapital).  This  area  is  also  experiencing  land  conversion  to  increase\\naquaculture, besides there are several locations in coastal areas that are\\naffected by abrasion. Restoration activities in East Kalimantan Province are\\nneeded to restore a degraded environment, as well as to support the vision\\nof the nation's capital as a green city.\\nThe  ecosystem  in  Delta  Mahakam  and  Adang  Bay1 are  also  home  to\\ncritically  endangered  species,  such  as  the  nasal  monkey  (proboscis\"), -0.09829461010174478)]\n",
      "  self.vectorstore.similarity_search_with_relevance_scores(\n",
      "No relevant docs were retrieved using the relevance score threshold 0.7\n",
      "/home/chougar/miniconda3/lib/python3.11/site-packages/langchain_core/vectorstores/base.py:1086: UserWarning: Relevance scores must be between 0 and 1, got [(Document(metadata={'page': 6, 'source': './data/PROJECT DOCUMENT MAHAKAM 2023-2025_balise.pdf'}, page_content=''), -0.04063746845775085), (Document(metadata={'page': 6, 'source': './data/PROJECT DOCUMENT MAHAKAM 2023-2025_balise.pdf'}, page_content=''), -0.040768629450316674), (Document(metadata={'page': 6, 'source': './data/PROJECT DOCUMENT MAHAKAM 2023-2025_balise.pdf'}, page_content=''), -0.040768629450316674), (Document(metadata={'page': 6, 'source': './data/PROJECT DOCUMENT MAHAKAM 2023-2025_balise.pdf'}, page_content=''), -0.040768629450316674), (Document(metadata={'page': 6, 'source': './data/PROJECT DOCUMENT MAHAKAM 2023-2025_balise.pdf'}, page_content=''), -0.040768629450316674), (Document(metadata={'page': 6, 'source': './data/PROJECT DOCUMENT MAHAKAM 2023-2025_balise.pdf'}, page_content=''), -0.040768629450316674), (Document(metadata={'page': 6, 'source': './data/PROJECT DOCUMENT MAHAKAM 2023-2025_balise.pdf'}, page_content=''), -0.040768629450316674), (Document(metadata={'page': 1, 'source': './data/PROJECT DOCUMENT MAHAKAM 2023-2025_balise.pdf'}, page_content=\"\\nBrief project description\\nEast Kalimantan Province in 2021/2022 received great attention nationally\\nbecause of the moving of the state capital city (Jakarta) to a location near\\nthe city of Balikpapan and Penajam Paser Utara in East Kalimantan Province.\\nThe  development  of  the  new  capital  will  start  in  2022.  Although  the\\nIndonesia President commit to develop the new capital as Forest and Smart\\nCity,  the  surrounding  area  particularly  the  coastal  area  such  as  Delta\\nMahakam and Adang Bay might get high pressure as the consequence of the\\nnew  development  and  the  movement  of  1.5  million  people  to  the  new\\ncapital.    \\nDelta Mahakam, in the eastern part of East Kalimantan, is an area that is\\nrelatively close to the prospective center of the State capital (about 100 km).\\nMahakam Delta is naturally a mangrove habitat, but due to excessive land\\nclearing for extensive aquaculture about 47.5 % of the mangrove ecosystem\\nis  degraded  to  be  converted  into  aquaculture  (2017).  Despite  various\\nconservation efforts by different parties and the government, land clearing\\nstill continues. Delta Mahakam land ownership is government land that has\\ndesignated  as  a  production  forest,  but  this  area  has  been  inhabited  by\\nresidents from generation to generation.\\nAdang Bay is one of the coastal villages in Adang Bay, Paser Regency, on the\\nsouthern part of East Kalimantan Province  (about 100 km from the new\\ncapital).  This  area  is  also  experiencing  land  conversion  to  increase\\naquaculture, besides there are several locations in coastal areas that are\\naffected by abrasion. Restoration activities in East Kalimantan Province are\\nneeded to restore a degraded environment, as well as to support the vision\\nof the nation's capital as a green city.\\nThe  ecosystem  in  Delta  Mahakam  and  Adang  Bay1 are  also  home  to\\ncritically  endangered  species,  such  as  the  nasal  monkey  (proboscis\"), -0.09819025450483188)]\n",
      "  self.vectorstore.similarity_search_with_relevance_scores(\n",
      "No relevant docs were retrieved using the relevance score threshold 0.7\n",
      "Evaluating: 100%|██████████| 1/1 [00:00<00:00,  1.50it/s]\n"
     ]
    },
    {
     "name": "stdout",
     "output_type": "stream",
     "text": [
      "Question: Country and city\n",
      "LLM Eval_score: 1\n",
      "\n",
      "-------\n"
     ]
    },
    {
     "name": "stderr",
     "output_type": "stream",
     "text": [
      "No relevant docs were retrieved using the relevance score threshold 0.7\n",
      "No relevant docs were retrieved using the relevance score threshold 0.7\n",
      "Evaluating: 100%|██████████| 1/1 [00:00<00:00,  1.63it/s]\n"
     ]
    },
    {
     "name": "stdout",
     "output_type": "stream",
     "text": [
      "Question: What is the specific country and city where the project is located?\n",
      "LLM Eval_score: 3\n",
      "\n",
      "-------\n",
      "\n",
      "--------------------\n"
     ]
    },
    {
     "name": "stderr",
     "output_type": "stream",
     "text": [
      "No relevant docs were retrieved using the relevance score threshold 0.7\n",
      "No relevant docs were retrieved using the relevance score threshold 0.7\n",
      "Evaluating: 100%|██████████| 1/1 [00:01<00:00,  1.14s/it]\n"
     ]
    },
    {
     "name": "stdout",
     "output_type": "stream",
     "text": [
      "Question: Target beneficiaries\n",
      "LLM Eval_score: 1\n",
      "\n",
      "-------\n"
     ]
    },
    {
     "name": "stderr",
     "output_type": "stream",
     "text": [
      "No relevant docs were retrieved using the relevance score threshold 0.7\n",
      "No relevant docs were retrieved using the relevance score threshold 0.7\n",
      "Evaluating: 100%|██████████| 1/1 [00:00<00:00,  1.03it/s]\n"
     ]
    },
    {
     "name": "stdout",
     "output_type": "stream",
     "text": [
      "Question: Who are the target beneficiaries of the project?\n",
      "LLM Eval_score: 1\n",
      "\n",
      "-------\n",
      "\n",
      "--------------------\n"
     ]
    },
    {
     "name": "stderr",
     "output_type": "stream",
     "text": [
      "No relevant docs were retrieved using the relevance score threshold 0.7\n",
      "No relevant docs were retrieved using the relevance score threshold 0.7\n",
      "Evaluating: 100%|██████████| 1/1 [00:00<00:00,  1.87it/s]\n"
     ]
    },
    {
     "name": "stdout",
     "output_type": "stream",
     "text": [
      "Question: Number of people concerned\n",
      "LLM Eval_score: 2\n",
      "\n",
      "-------\n"
     ]
    },
    {
     "name": "stderr",
     "output_type": "stream",
     "text": [
      "No relevant docs were retrieved using the relevance score threshold 0.7\n",
      "No relevant docs were retrieved using the relevance score threshold 0.7\n",
      "Evaluating: 100%|██████████| 1/1 [00:00<00:00,  1.83it/s]\n"
     ]
    },
    {
     "name": "stdout",
     "output_type": "stream",
     "text": [
      "Question: How many people are impacted by the project?\n",
      "LLM Eval_score: 2\n",
      "\n",
      "-------\n",
      "\n",
      "--------------------\n"
     ]
    },
    {
     "name": "stderr",
     "output_type": "stream",
     "text": [
      "No relevant docs were retrieved using the relevance score threshold 0.7\n",
      "No relevant docs were retrieved using the relevance score threshold 0.7\n",
      "Evaluating: 100%|██████████| 1/1 [00:32<00:00, 32.04s/it]\n"
     ]
    },
    {
     "name": "stdout",
     "output_type": "stream",
     "text": [
      "Question: Context, environment, project rationale and challenges\n",
      "LLM Eval_score: 1\n",
      "\n",
      "-------\n"
     ]
    },
    {
     "name": "stderr",
     "output_type": "stream",
     "text": [
      "No relevant docs were retrieved using the relevance score threshold 0.7\n",
      "No relevant docs were retrieved using the relevance score threshold 0.7\n",
      "Evaluating: 100%|██████████| 1/1 [00:29<00:00, 29.85s/it]\n"
     ]
    },
    {
     "name": "stdout",
     "output_type": "stream",
     "text": [
      "Question: What are the context, environment, rationale, and challenges of the project?\n",
      "LLM Eval_score: 1\n",
      "\n",
      "-------\n",
      "\n",
      "--------------------\n"
     ]
    },
    {
     "name": "stderr",
     "output_type": "stream",
     "text": [
      "No relevant docs were retrieved using the relevance score threshold 0.7\n",
      "No relevant docs were retrieved using the relevance score threshold 0.7\n",
      "Evaluating: 100%|██████████| 1/1 [00:00<00:00,  2.74it/s]\n"
     ]
    },
    {
     "name": "stdout",
     "output_type": "stream",
     "text": [
      "Question: Project start date / end date\n",
      "LLM Eval_score: 1\n",
      "\n",
      "-------\n"
     ]
    },
    {
     "name": "stderr",
     "output_type": "stream",
     "text": [
      "No relevant docs were retrieved using the relevance score threshold 0.7\n",
      "No relevant docs were retrieved using the relevance score threshold 0.7\n",
      "Evaluating: 100%|██████████| 1/1 [00:00<00:00,  2.86it/s]\n"
     ]
    },
    {
     "name": "stdout",
     "output_type": "stream",
     "text": [
      "Question: What are the start and end dates of the project?\n",
      "LLM Eval_score: 3\n",
      "\n",
      "-------\n",
      "\n",
      "--------------------\n"
     ]
    },
    {
     "name": "stderr",
     "output_type": "stream",
     "text": [
      "No relevant docs were retrieved using the relevance score threshold 0.7\n",
      "No relevant docs were retrieved using the relevance score threshold 0.7\n",
      "Evaluating: 100%|██████████| 1/1 [00:00<00:00,  2.35it/s]\n"
     ]
    },
    {
     "name": "stdout",
     "output_type": "stream",
     "text": [
      "Question: Project budget \n",
      "            Total amount of the project (in Euros) \n",
      "            \n",
      "            Amount of donation requested from the Foundation (in Euros) \n",
      "            \n",
      "            Detailed provisional project budget \n",
      "            \n",
      "            Detailed project budget for current year\n",
      "        \n",
      "LLM Eval_score: 3\n",
      "\n",
      "-------\n"
     ]
    },
    {
     "name": "stderr",
     "output_type": "stream",
     "text": [
      "No relevant docs were retrieved using the relevance score threshold 0.7\n",
      "No relevant docs were retrieved using the relevance score threshold 0.7\n",
      "Evaluating: 100%|██████████| 1/1 [00:00<00:00,  2.82it/s]\n"
     ]
    },
    {
     "name": "stdout",
     "output_type": "stream",
     "text": [
      "Question: What is the total project budget in Euros, including the amount requested from the Foundation, the detailed provisional budget, and the budget for the current year?\n",
      "LLM Eval_score: 3\n",
      "\n",
      "-------\n",
      "\n",
      "--------------------\n",
      "Search type: similarity_score_threshold\n",
      "DB type: faiss\n"
     ]
    },
    {
     "name": "stderr",
     "output_type": "stream",
     "text": [
      "No relevant docs were retrieved using the relevance score threshold 0.7\n",
      "No relevant docs were retrieved using the relevance score threshold 0.7\n",
      "Evaluating: 100%|██████████| 1/1 [00:03<00:00,  3.16s/it]\n",
      "No relevant docs were retrieved using the relevance score threshold 0.7\n"
     ]
    },
    {
     "name": "stdout",
     "output_type": "stream",
     "text": [
      "Question: Description of the project\n",
      "LLM Eval_score: 1\n",
      "\n",
      "-------\n"
     ]
    },
    {
     "name": "stderr",
     "output_type": "stream",
     "text": [
      "No relevant docs were retrieved using the relevance score threshold 0.7\n",
      "Evaluating: 100%|██████████| 1/1 [00:03<00:00,  3.30s/it]\n"
     ]
    },
    {
     "name": "stdout",
     "output_type": "stream",
     "text": [
      "Question: What is the description of the project?\n",
      "LLM Eval_score: 1\n",
      "\n",
      "-------\n",
      "\n",
      "--------------------\n"
     ]
    },
    {
     "name": "stderr",
     "output_type": "stream",
     "text": [
      "/home/chougar/miniconda3/lib/python3.11/site-packages/langchain_core/vectorstores/base.py:1086: UserWarning: Relevance scores must be between 0 and 1, got [(Document(metadata={'source': './data/PROJECT DOCUMENT MAHAKAM 2023-2025_balise.pdf', 'page': 6}, page_content=''), -0.040768629450316674), (Document(metadata={'source': './data/PROJECT DOCUMENT MAHAKAM 2023-2025_balise.pdf', 'page': 1}, page_content=\"\\nBrief project description\\nEast Kalimantan Province in 2021/2022 received great attention nationally\\nbecause of the moving of the state capital city (Jakarta) to a location near\\nthe city of Balikpapan and Penajam Paser Utara in East Kalimantan Province.\\nThe  development  of  the  new  capital  will  start  in  2022.  Although  the\\nIndonesia President commit to develop the new capital as Forest and Smart\\nCity,  the  surrounding  area  particularly  the  coastal  area  such  as  Delta\\nMahakam and Adang Bay might get high pressure as the consequence of the\\nnew  development  and  the  movement  of  1.5  million  people  to  the  new\\ncapital.    \\nDelta Mahakam, in the eastern part of East Kalimantan, is an area that is\\nrelatively close to the prospective center of the State capital (about 100 km).\\nMahakam Delta is naturally a mangrove habitat, but due to excessive land\\nclearing for extensive aquaculture about 47.5 % of the mangrove ecosystem\\nis  degraded  to  be  converted  into  aquaculture  (2017).  Despite  various\\nconservation efforts by different parties and the government, land clearing\\nstill continues. Delta Mahakam land ownership is government land that has\\ndesignated  as  a  production  forest,  but  this  area  has  been  inhabited  by\\nresidents from generation to generation.\\nAdang Bay is one of the coastal villages in Adang Bay, Paser Regency, on the\\nsouthern part of East Kalimantan Province  (about 100 km from the new\\ncapital).  This  area  is  also  experiencing  land  conversion  to  increase\\naquaculture, besides there are several locations in coastal areas that are\\naffected by abrasion. Restoration activities in East Kalimantan Province are\\nneeded to restore a degraded environment, as well as to support the vision\\nof the nation's capital as a green city.\\nThe  ecosystem  in  Delta  Mahakam  and  Adang  Bay1 are  also  home  to\\ncritically  endangered  species,  such  as  the  nasal  monkey  (proboscis\"), -0.09819025450483188), (Document(metadata={'source': './data/PROJECT DOCUMENT MAHAKAM 2023-2025_balise.pdf', 'page': 48}, page_content='\\nList of \\nparticipants\\nMoU Document\\nNumber of local \\ncommunities reached by \\nwaste management \\ncampaign\\nDocumentation \\nactivity\\nActivity Report \\nList of \\nparticipants\\n0 2022 100\\npersons\\na. 100\\nperson\\n b. 20\\nUser\\nAccount\\nYoutube\\n100\\nperson\\ns\\na. 200\\npersons\\n b. 20\\nUser\\nYoutub\\ne\\nAccount\\nNumber of Billboard for \\nenvironmental campaign \\nDocumentation\\nPlot location in \\nthe map\\n2 2022 0 2 0 2\\nNumber of Book \\npublication on best \\npractices related to \\nmicrofinance & nurseries \\nmaintenance \\nBook Publication\\nActivity Report \\n1 2022 1 book\\n 30\\ncopies\\n1 book\\n 30\\ncopies\\n2 books\\n 60\\nCopies\\nNumber of pepople \\nreached in Public \\nAwareness campaign \\nthrough media \\n(online/offline)\\nDocumentation \\nactivity\\nActivity Report\\nMedia coverage\\n1000\\nindirect\\n2022 50\\nDirect\\n 300\\nIndirect\\n50\\nDirect\\n 300\\nIndirect\\n50\\nDirect\\n 300\\nIndirec\\nt\\n150\\nDirect\\n 900\\nIndirect\\nNumber of Journalist Trip Media coverages \\n(offline/online)\\n10 2022 5 media\\ncoverag\\nes\\n5 media\\ncoverag\\nes\\n5\\nmedia\\ncovera\\nges\\n15\\nmedia\\ncoverag\\nes'), -0.11742523322823373), (Document(metadata={'source': './data/PROJECT DOCUMENT MAHAKAM 2023-2025_balise.pdf', 'page': 25}, page_content='locations \\n\\uf02d Strategy  of  implementation:  Synchronized  the  activity  with  the\\nschedule  of  the  consultant  and  using  the  existing  maps  of  the\\nlocations.\\n2.3.2 Training on Mangrove Reforestation\\n9 We consider Delta Mahakam as ONE Project Location, organized by YML with one\\nCommunity Group (the member of group comes from different villages, based on \\nthe fish pond ownership in a one big area.\\nTree planting will be conducted in (1) Delta Mahakam Ulu village, and (2) Tanjung \\nLimau Village - and they are neighboring villages. \\nWe can say : Target: at least 5 plots/parcels in the 2 project locations (i.e. Delta Mahakam \\nand Adang Bay).'), -0.12397047021458163), (Document(metadata={'source': './data/PROJECT DOCUMENT MAHAKAM 2023-2025_balise.pdf', 'page': 13}, page_content=\"\\nAgency  in  East  Kalimantan  and  Forest  Management  Unit  (provincial\\ngovernment agency) are the most influence actor. They have authority to\\ndetermine the activities which allowed and not allowed in the area. However,\\nthey cannot control the vast area of conservation area since 50 percent of\\nmangrove forest in the region have been degraded. Besides government, the\\nothers key actors are fishermen, fish farmers, swallow workers and investors\\nin aquaculture sectors. Those actors have shaped the landscape of coastal\\narea in Delta Mahakam and Adang Bay over the past 20 years. In their hand\\nthe future  of sustainable  aquaculture  is determined.  Environmental and\\ndevelopment NGOs, oil and gas company and other parties has programme\\nin their area. Most of the programme focus on improving the livelihood of the\\nlocal people and restoring the mangrove forest.\\nThe Movement of Indonesian New Capital\\nPaser District (East Kalimantan Province) will soon be the site of Indonesia's\\nnew political capital, Nusantara, as part of the plan to move the country's\\ncapital from the island of Java to the island of Borneo, which is home to one\\nof the world’s largest rainforests.  \\nJakarta,  the  current  political  capital  which  will  become  the  country's\\neconomic capital by 2045, is currently facing several environmental, climatic\\nand demographic problems and challenges: overpopulation, heavy pollution,\\nrising water levels, frequent flooding, etc. In order to deal with the inevitable\\nfuture security issue, the Indonesian government has decided to build a new\\ncapital 2,000 km away from Jakarta, in the province of East Kalimantan,\\nmore precisely between the towns of Balikpapan and Samarinda. With the\\nlegislation  for  the  relocation  of  the  new  capital  published,  the  physical\\ndevelopment of the new capital will begin in 2022. In August 2024, the\\nPresident  plans  to  celebrate  Indonesia's  Independence  Day  in  the  new\\ncapital.\"), -0.1276596681584372), (Document(metadata={'source': './data/PROJECT DOCUMENT MAHAKAM 2023-2025_balise.pdf', 'page': 51}, page_content='\\ndeveloping fish farmer \\nproduct \\n Activity Report \\nList of \\nparticipants\\n Database women\\ngroup income \\ngenerating\\n 26\\nwomen\\nwomen  30\\nwomen\\n 30\\nwomen\\n 30\\nwomen\\nOutput Strengthening \\nthe governence of \\nDelta Mahakam & \\nAdang Bay\\nNumber of local \\ncommunities participated \\nin FPIC \\nDocumentation \\nactivity\\nActivity Report \\nList of \\nparticipants\\n2 \\nvillages\\n 40 \\npersons\\n2022 2\\nvillages\\n 40\\npersons\\n2\\nvillages\\n 40\\npersons\\n2\\nvillage\\ns\\n 40\\nperson\\ns\\n6\\nvillages\\n 120\\nNumber of meetings with \\nkey stakeholder\\nDocumentation \\nactivity\\nMinutes of \\nMeeting\\nList of \\nparticipants\\n4 2022 4 4 4 12\\n</table>\\n12. Monitoring & evaluation\\nThe monitoring and evaluation of the project activities, risks, knowledge management, communication and others will\\nbe done internaly through:\\na.Monthly narrative and financial report\\nb.Quarterly narrative and financial report\\nc. Monthly coordination meeting with the partners.\\nd.Biweekly coordination meeting with the PU Paris.'), -0.13306989051438656), (Document(metadata={'source': './data/PROJECT DOCUMENT MAHAKAM 2023-2025_balise.pdf', 'page': 15}, page_content=\"\\nTable 2. Types of Land Cover and Land Use in Mahakam Delta5 \\nTypes of Land Cover and Land Use\\nin Mahakam Delta Land Area (ha) Percentage\\nMangrove Forest with Middle Density 11,053 8.8\\nMangrove Forest with High Density 49,885 39.7\\nIndustry 311 0.2\\nPlantation 5,356 4.3\\nOpen Land 193 0.2\\nResidential Area 889 0.7\\nRice Field 869 0.7\\nShrubs 2,080 1.7\\nCommercial Fish Ponds 54,865 43.7\\nTotal 125,502 100.0\\nSource: Result of SPOT satellite images 6/7 (2018)\\nb) Demography\\nThe demographic issue must also be considered. Indeed, the announcement\\nin 2019 of the relocation of the political and administrative capital of Jakarta\\nto the province of East Kalimantan, between the cities of Balikpapan and\\nSamarinda, suggests strong migrations, the development of infrastructures\\nbut  also  a  growing  demand  for  aquaculture  products.  By  2024,  the\\nIndonesian Minister of Planning hopes to transfer nearly 1.5 million public\\nofficials and political representatives in East Kalimantan.\\nDelta  Mahakam Ulu village,  which  belongs  to Delta  Mahakam district,  is\\nlocated in the northern part of the Mahakam Delta. The location of Delta\\nMahakam sub-district is close to the state-owned oil company (Pertamina),\\nformerly  VICO.  Due  to  the  proximity  of  a  fairly  large  company,  the\\ncommunity's economy is quite dynamic and the area offers a variety of jobs.\\nHowever, the number of people who still carry out the traditional work of\\nfishermen and fish farmers is still quite high, especially in the coastal areas.\\nWorking as a fish farmer has become one of the choices of the community as\\nland is available for opening ponds. The conversion of mangrove forests into\\nponds has been going on for decades, but the production of fish and shrimp\\nhas decreased from time to time. Based on various studies and research,\\nplanting a number of mangroves in ponds can improve the soil and water\\nquality in the ponds so that they can provide sustainable production. The\"), -0.13948598955689695), (Document(metadata={'source': './data/PROJECT DOCUMENT MAHAKAM 2023-2025_balise.pdf', 'page': 22}, page_content='community becomes dirty.\\n\\uf02d Target: 100 persons local community involved\\n\\uf02d Location:  Village  Muara  Adang  and  Pondong  Baru  in  Adang  Bay\\nlandscape\\n\\uf02d Methods: \\na. Religion approach through Conservation Lecture (Dai Konservasi)\\nand will utilize friday prayers moment and other islamic holiday \\nb. Health approach involved medical staff or public health office\\nc. Village Cleanliness Competition in celebrating Independence Day\\nor other moment\\n\\uf02d Strategy  of  implementation:  Collaborating  with  prominent  islamic\\nreligion leaders, public health offices, youth and village government\\n1  .3.2 Book publication  \\nA writing competition will be organised with the theme “Local wisdom in\\nrelation to the mangrove ecosystem and nasal monkey (proboscis monkey)\\nconservation”. The participant’s writing will be compiled to be published.\\n\\uf02d Target: the project will publish 100 copies. \\n\\uf02d Location: Organized from Samarinda by PU. \\n\\uf02d Content/Topic: Writing competition with the THEME: “Local wisdom in\\nrelation  to  the  mangrove  ecosystem  and  nasal  monkey  (proboscis\\nmonkey) conservation”.'), -0.1442131800858788)]\n",
      "  self.vectorstore.similarity_search_with_relevance_scores(\n",
      "No relevant docs were retrieved using the relevance score threshold 0.7\n",
      "/home/chougar/miniconda3/lib/python3.11/site-packages/langchain_core/vectorstores/base.py:1086: UserWarning: Relevance scores must be between 0 and 1, got [(Document(metadata={'source': './data/PROJECT DOCUMENT MAHAKAM 2023-2025_balise.pdf', 'page': 6}, page_content=''), -0.04078607824560021), (Document(metadata={'source': './data/PROJECT DOCUMENT MAHAKAM 2023-2025_balise.pdf', 'page': 1}, page_content=\"\\nBrief project description\\nEast Kalimantan Province in 2021/2022 received great attention nationally\\nbecause of the moving of the state capital city (Jakarta) to a location near\\nthe city of Balikpapan and Penajam Paser Utara in East Kalimantan Province.\\nThe  development  of  the  new  capital  will  start  in  2022.  Although  the\\nIndonesia President commit to develop the new capital as Forest and Smart\\nCity,  the  surrounding  area  particularly  the  coastal  area  such  as  Delta\\nMahakam and Adang Bay might get high pressure as the consequence of the\\nnew  development  and  the  movement  of  1.5  million  people  to  the  new\\ncapital.    \\nDelta Mahakam, in the eastern part of East Kalimantan, is an area that is\\nrelatively close to the prospective center of the State capital (about 100 km).\\nMahakam Delta is naturally a mangrove habitat, but due to excessive land\\nclearing for extensive aquaculture about 47.5 % of the mangrove ecosystem\\nis  degraded  to  be  converted  into  aquaculture  (2017).  Despite  various\\nconservation efforts by different parties and the government, land clearing\\nstill continues. Delta Mahakam land ownership is government land that has\\ndesignated  as  a  production  forest,  but  this  area  has  been  inhabited  by\\nresidents from generation to generation.\\nAdang Bay is one of the coastal villages in Adang Bay, Paser Regency, on the\\nsouthern part of East Kalimantan Province  (about 100 km from the new\\ncapital).  This  area  is  also  experiencing  land  conversion  to  increase\\naquaculture, besides there are several locations in coastal areas that are\\naffected by abrasion. Restoration activities in East Kalimantan Province are\\nneeded to restore a degraded environment, as well as to support the vision\\nof the nation's capital as a green city.\\nThe  ecosystem  in  Delta  Mahakam  and  Adang  Bay1 are  also  home  to\\ncritically  endangered  species,  such  as  the  nasal  monkey  (proboscis\"), -0.09829461010174478), (Document(metadata={'source': './data/PROJECT DOCUMENT MAHAKAM 2023-2025_balise.pdf', 'page': 48}, page_content='\\nList of \\nparticipants\\nMoU Document\\nNumber of local \\ncommunities reached by \\nwaste management \\ncampaign\\nDocumentation \\nactivity\\nActivity Report \\nList of \\nparticipants\\n0 2022 100\\npersons\\na. 100\\nperson\\n b. 20\\nUser\\nAccount\\nYoutube\\n100\\nperson\\ns\\na. 200\\npersons\\n b. 20\\nUser\\nYoutub\\ne\\nAccount\\nNumber of Billboard for \\nenvironmental campaign \\nDocumentation\\nPlot location in \\nthe map\\n2 2022 0 2 0 2\\nNumber of Book \\npublication on best \\npractices related to \\nmicrofinance & nurseries \\nmaintenance \\nBook Publication\\nActivity Report \\n1 2022 1 book\\n 30\\ncopies\\n1 book\\n 30\\ncopies\\n2 books\\n 60\\nCopies\\nNumber of pepople \\nreached in Public \\nAwareness campaign \\nthrough media \\n(online/offline)\\nDocumentation \\nactivity\\nActivity Report\\nMedia coverage\\n1000\\nindirect\\n2022 50\\nDirect\\n 300\\nIndirect\\n50\\nDirect\\n 300\\nIndirect\\n50\\nDirect\\n 300\\nIndirec\\nt\\n150\\nDirect\\n 900\\nIndirect\\nNumber of Journalist Trip Media coverages \\n(offline/online)\\n10 2022 5 media\\ncoverag\\nes\\n5 media\\ncoverag\\nes\\n5\\nmedia\\ncovera\\nges\\n15\\nmedia\\ncoverag\\nes'), -0.11744386213527558), (Document(metadata={'source': './data/PROJECT DOCUMENT MAHAKAM 2023-2025_balise.pdf', 'page': 25}, page_content='locations \\n\\uf02d Strategy  of  implementation:  Synchronized  the  activity  with  the\\nschedule  of  the  consultant  and  using  the  existing  maps  of  the\\nlocations.\\n2.3.2 Training on Mangrove Reforestation\\n9 We consider Delta Mahakam as ONE Project Location, organized by YML with one\\nCommunity Group (the member of group comes from different villages, based on \\nthe fish pond ownership in a one big area.\\nTree planting will be conducted in (1) Delta Mahakam Ulu village, and (2) Tanjung \\nLimau Village - and they are neighboring villages. \\nWe can say : Target: at least 5 plots/parcels in the 2 project locations (i.e. Delta Mahakam \\nand Adang Bay).'), -0.12402913862770859), (Document(metadata={'source': './data/PROJECT DOCUMENT MAHAKAM 2023-2025_balise.pdf', 'page': 13}, page_content=\"\\nAgency  in  East  Kalimantan  and  Forest  Management  Unit  (provincial\\ngovernment agency) are the most influence actor. They have authority to\\ndetermine the activities which allowed and not allowed in the area. However,\\nthey cannot control the vast area of conservation area since 50 percent of\\nmangrove forest in the region have been degraded. Besides government, the\\nothers key actors are fishermen, fish farmers, swallow workers and investors\\nin aquaculture sectors. Those actors have shaped the landscape of coastal\\narea in Delta Mahakam and Adang Bay over the past 20 years. In their hand\\nthe future  of sustainable  aquaculture  is determined.  Environmental and\\ndevelopment NGOs, oil and gas company and other parties has programme\\nin their area. Most of the programme focus on improving the livelihood of the\\nlocal people and restoring the mangrove forest.\\nThe Movement of Indonesian New Capital\\nPaser District (East Kalimantan Province) will soon be the site of Indonesia's\\nnew political capital, Nusantara, as part of the plan to move the country's\\ncapital from the island of Java to the island of Borneo, which is home to one\\nof the world’s largest rainforests.  \\nJakarta,  the  current  political  capital  which  will  become  the  country's\\neconomic capital by 2045, is currently facing several environmental, climatic\\nand demographic problems and challenges: overpopulation, heavy pollution,\\nrising water levels, frequent flooding, etc. In order to deal with the inevitable\\nfuture security issue, the Indonesian government has decided to build a new\\ncapital 2,000 km away from Jakarta, in the province of East Kalimantan,\\nmore precisely between the towns of Balikpapan and Samarinda. With the\\nlegislation  for  the  relocation  of  the  new  capital  published,  the  physical\\ndevelopment of the new capital will begin in 2022. In August 2024, the\\nPresident  plans  to  celebrate  Indonesia's  Independence  Day  in  the  new\\ncapital.\"), -0.12783162730036146), (Document(metadata={'source': './data/PROJECT DOCUMENT MAHAKAM 2023-2025_balise.pdf', 'page': 51}, page_content='\\ndeveloping fish farmer \\nproduct \\n Activity Report \\nList of \\nparticipants\\n Database women\\ngroup income \\ngenerating\\n 26\\nwomen\\nwomen  30\\nwomen\\n 30\\nwomen\\n 30\\nwomen\\nOutput Strengthening \\nthe governence of \\nDelta Mahakam & \\nAdang Bay\\nNumber of local \\ncommunities participated \\nin FPIC \\nDocumentation \\nactivity\\nActivity Report \\nList of \\nparticipants\\n2 \\nvillages\\n 40 \\npersons\\n2022 2\\nvillages\\n 40\\npersons\\n2\\nvillages\\n 40\\npersons\\n2\\nvillage\\ns\\n 40\\nperson\\ns\\n6\\nvillages\\n 120\\nNumber of meetings with \\nkey stakeholder\\nDocumentation \\nactivity\\nMinutes of \\nMeeting\\nList of \\nparticipants\\n4 2022 4 4 4 12\\n</table>\\n12. Monitoring & evaluation\\nThe monitoring and evaluation of the project activities, risks, knowledge management, communication and others will\\nbe done internaly through:\\na.Monthly narrative and financial report\\nb.Quarterly narrative and financial report\\nc. Monthly coordination meeting with the partners.\\nd.Biweekly coordination meeting with the PU Paris.'), -0.1330821131004547), (Document(metadata={'source': './data/PROJECT DOCUMENT MAHAKAM 2023-2025_balise.pdf', 'page': 15}, page_content=\"\\nTable 2. Types of Land Cover and Land Use in Mahakam Delta5 \\nTypes of Land Cover and Land Use\\nin Mahakam Delta Land Area (ha) Percentage\\nMangrove Forest with Middle Density 11,053 8.8\\nMangrove Forest with High Density 49,885 39.7\\nIndustry 311 0.2\\nPlantation 5,356 4.3\\nOpen Land 193 0.2\\nResidential Area 889 0.7\\nRice Field 869 0.7\\nShrubs 2,080 1.7\\nCommercial Fish Ponds 54,865 43.7\\nTotal 125,502 100.0\\nSource: Result of SPOT satellite images 6/7 (2018)\\nb) Demography\\nThe demographic issue must also be considered. Indeed, the announcement\\nin 2019 of the relocation of the political and administrative capital of Jakarta\\nto the province of East Kalimantan, between the cities of Balikpapan and\\nSamarinda, suggests strong migrations, the development of infrastructures\\nbut  also  a  growing  demand  for  aquaculture  products.  By  2024,  the\\nIndonesian Minister of Planning hopes to transfer nearly 1.5 million public\\nofficials and political representatives in East Kalimantan.\\nDelta  Mahakam Ulu village,  which  belongs  to Delta  Mahakam district,  is\\nlocated in the northern part of the Mahakam Delta. The location of Delta\\nMahakam sub-district is close to the state-owned oil company (Pertamina),\\nformerly  VICO.  Due  to  the  proximity  of  a  fairly  large  company,  the\\ncommunity's economy is quite dynamic and the area offers a variety of jobs.\\nHowever, the number of people who still carry out the traditional work of\\nfishermen and fish farmers is still quite high, especially in the coastal areas.\\nWorking as a fish farmer has become one of the choices of the community as\\nland is available for opening ponds. The conversion of mangrove forests into\\nponds has been going on for decades, but the production of fish and shrimp\\nhas decreased from time to time. Based on various studies and research,\\nplanting a number of mangroves in ponds can improve the soil and water\\nquality in the ponds so that they can provide sustainable production. The\"), -0.13951507088236936), (Document(metadata={'source': './data/PROJECT DOCUMENT MAHAKAM 2023-2025_balise.pdf', 'page': 22}, page_content='community becomes dirty.\\n\\uf02d Target: 100 persons local community involved\\n\\uf02d Location:  Village  Muara  Adang  and  Pondong  Baru  in  Adang  Bay\\nlandscape\\n\\uf02d Methods: \\na. Religion approach through Conservation Lecture (Dai Konservasi)\\nand will utilize friday prayers moment and other islamic holiday \\nb. Health approach involved medical staff or public health office\\nc. Village Cleanliness Competition in celebrating Independence Day\\nor other moment\\n\\uf02d Strategy  of  implementation:  Collaborating  with  prominent  islamic\\nreligion leaders, public health offices, youth and village government\\n1  .3.2 Book publication  \\nA writing competition will be organised with the theme “Local wisdom in\\nrelation to the mangrove ecosystem and nasal monkey (proboscis monkey)\\nconservation”. The participant’s writing will be compiled to be published.\\n\\uf02d Target: the project will publish 100 copies. \\n\\uf02d Location: Organized from Samarinda by PU. \\n\\uf02d Content/Topic: Writing competition with the THEME: “Local wisdom in\\nrelation  to  the  mangrove  ecosystem  and  nasal  monkey  (proboscis\\nmonkey) conservation”.'), -0.14425996308772593)]\n",
      "  self.vectorstore.similarity_search_with_relevance_scores(\n",
      "No relevant docs were retrieved using the relevance score threshold 0.7\n",
      "Evaluating: 100%|██████████| 1/1 [00:00<00:00,  1.29it/s]\n",
      "No relevant docs were retrieved using the relevance score threshold 0.7\n"
     ]
    },
    {
     "name": "stdout",
     "output_type": "stream",
     "text": [
      "Question: Country and city\n",
      "LLM Eval_score: 1\n",
      "\n",
      "-------\n"
     ]
    },
    {
     "name": "stderr",
     "output_type": "stream",
     "text": [
      "No relevant docs were retrieved using the relevance score threshold 0.7\n",
      "Evaluating: 100%|██████████| 1/1 [00:00<00:00,  1.30it/s]\n"
     ]
    },
    {
     "name": "stdout",
     "output_type": "stream",
     "text": [
      "Question: What is the specific country and city where the project is located?\n",
      "LLM Eval_score: 2\n",
      "\n",
      "-------\n",
      "\n",
      "--------------------\n"
     ]
    },
    {
     "name": "stderr",
     "output_type": "stream",
     "text": [
      "No relevant docs were retrieved using the relevance score threshold 0.7\n",
      "No relevant docs were retrieved using the relevance score threshold 0.7\n",
      "Evaluating: 100%|██████████| 1/1 [00:01<00:00,  1.12s/it]\n"
     ]
    },
    {
     "name": "stdout",
     "output_type": "stream",
     "text": [
      "Question: Target beneficiaries\n",
      "LLM Eval_score: 1\n",
      "\n",
      "-------\n"
     ]
    },
    {
     "name": "stderr",
     "output_type": "stream",
     "text": [
      "No relevant docs were retrieved using the relevance score threshold 0.7\n",
      "No relevant docs were retrieved using the relevance score threshold 0.7\n",
      "Evaluating: 100%|██████████| 1/1 [00:01<00:00,  1.02s/it]\n"
     ]
    },
    {
     "name": "stdout",
     "output_type": "stream",
     "text": [
      "Question: Who are the target beneficiaries of the project?\n",
      "LLM Eval_score: 1\n",
      "\n",
      "-------\n",
      "\n",
      "--------------------\n"
     ]
    },
    {
     "name": "stderr",
     "output_type": "stream",
     "text": [
      "No relevant docs were retrieved using the relevance score threshold 0.7\n",
      "No relevant docs were retrieved using the relevance score threshold 0.7\n",
      "Evaluating: 100%|██████████| 1/1 [00:00<00:00,  1.63it/s]\n"
     ]
    },
    {
     "name": "stdout",
     "output_type": "stream",
     "text": [
      "Question: Number of people concerned\n",
      "LLM Eval_score: 2\n",
      "\n",
      "-------\n"
     ]
    },
    {
     "name": "stderr",
     "output_type": "stream",
     "text": [
      "No relevant docs were retrieved using the relevance score threshold 0.7\n",
      "No relevant docs were retrieved using the relevance score threshold 0.7\n",
      "Evaluating: 100%|██████████| 1/1 [00:00<00:00,  1.84it/s]\n"
     ]
    },
    {
     "name": "stdout",
     "output_type": "stream",
     "text": [
      "Question: How many people are impacted by the project?\n",
      "LLM Eval_score: 2\n",
      "\n",
      "-------\n",
      "\n",
      "--------------------\n"
     ]
    },
    {
     "name": "stderr",
     "output_type": "stream",
     "text": [
      "No relevant docs were retrieved using the relevance score threshold 0.7\n",
      "No relevant docs were retrieved using the relevance score threshold 0.7\n",
      "Evaluating: 100%|██████████| 1/1 [00:35<00:00, 35.78s/it]\n"
     ]
    },
    {
     "name": "stdout",
     "output_type": "stream",
     "text": [
      "Question: Context, environment, project rationale and challenges\n",
      "LLM Eval_score: 1\n",
      "\n",
      "-------\n"
     ]
    },
    {
     "name": "stderr",
     "output_type": "stream",
     "text": [
      "No relevant docs were retrieved using the relevance score threshold 0.7\n",
      "No relevant docs were retrieved using the relevance score threshold 0.7\n",
      "Evaluating: 100%|██████████| 1/1 [00:35<00:00, 35.14s/it]\n"
     ]
    },
    {
     "name": "stdout",
     "output_type": "stream",
     "text": [
      "Question: What are the context, environment, rationale, and challenges of the project?\n",
      "LLM Eval_score: 1\n",
      "\n",
      "-------\n",
      "\n",
      "--------------------\n"
     ]
    },
    {
     "name": "stderr",
     "output_type": "stream",
     "text": [
      "/home/chougar/miniconda3/lib/python3.11/site-packages/langchain_core/vectorstores/base.py:1086: UserWarning: Relevance scores must be between 0 and 1, got [(Document(metadata={'source': './data/PROJECT DOCUMENT MAHAKAM 2023-2025_balise.pdf', 'page': 53}, page_content='\\n\\uf0b7 Identification and mapping of project boundaries\\n\\uf0b7 Consideration of regulatory surplus\\n\\uf0b7 Development of a list of reference scenarios ( Identification of obstacles, Analysis of obstacles, Determination of\\nreference scenario, Investment analysis\\n\\uf0b7 Definition of net GHG removals in the reference scenario, \\n\\uf0b7 Definition and proof of additionality\\n<table>\\n13. Timeline \\nEXPECTED RESULTS & PLANNED\\nACTIVITIES\\nTIMELINE\\nQ1 Q2 Q3 Q4 Q1 Q2 Q3 Q4 Q1 Q2 Q3 Q4\\nOutput 1\\xa0: Raising the awareness of stakeholders to \\nconserve and to manage Delta Mahakam sustainably.\\nA.1.1. Conduct workshops in schools of East Kalimantan province \\nto raise awareness on environment and biodiversity preservation.\\nA.1.2. Support Adiwiyata School\\nA.1.3. Conduct public awareness campaigns to sensitize \\ncommunities in East Kalimantan province to the ecological, \\neconomic and climatic benefits of the mangrove.\\nOutput 2\\xa0: Rehabilitate degraded mangrove forest\\nA.2.1. Pres-assessment study on land suitability\\nA.2.2. Ensure establishment and management of community-\\nbased nurseries'), 0.084091746437995), (Document(metadata={'source': './data/PROJECT DOCUMENT MAHAKAM 2023-2025_balise.pdf', 'page': 3}, page_content='\\nMain Sustainable Development Goals (SDGs) to which the\\nproject contributes\\n\\u202f\\u202f\\u202f\\u202f  \\n \\u202f\\u202f\\u202f\\u202f \\n \\u202f\\u202f\\u202f\\u202f \\n \\u202f\\u202f\\u202f\\u202f \\n \\xa0\\u202f\\u202f\\u202f\\u202f  \\u202f\\u202f\\u202f\\u202f\\nMain SDG targets and indicators to which the project contributes: \\n\\uf0b7 12.8. By  2030,  ensure  that  people  everywhere  have  the  relevant\\ninformation  and awareness  for  sustainable  development and lifestyles  in\\nharmony with nature.  \\n\\uf0b7 13.1. Strengthen resilience and adaptive capacity to climate-related\\nhazards and natural disasters in all countries.  \\n\\uf0b7 13.3. Improve education, awareness-raising, human, and institutional\\ncapacity on climate  change  mitigation,  adaptation,  impact reduction and\\nearly warning.  \\n\\uf0b7 14.2. Sustainably manage and protect marine and coastal ecosystems\\nto  avoid  significant  adverse  impacts,  including  by  strengthening  their\\nresilience, and take action for their restoration in order to achieve healthy\\nand productive oceans.  \\n\\uf0b7 14.  B. Provide  access  for  small-scale  artisanal  fishers  to  marine\\nresources and markets.  \\n\\uf0b7 15.5. Take urgent and significant action to reduce the degradation of\\nnatural  habitats,  halt  the  loss  of  biodiversity,  protect  and  prevent  the\\nextinction of threatened species. \\nTable 0 *\\nProject duration 3 years (March 2023 – February 2026)\\nBudget & funding\\nTotal required \\nresources (€)\\n2023-2026\\n818\\xa0341 € // 903\\xa0613 USD\\nAuthor(s) YML, POKJA, Yayasan Planete Urgensi Indonesia,\\nPlanète Urgence\\nApproval by partners Planète\\nUrgence/Yayasan\\nPlanet Urgensi\\nIndonesia\\nName: Réonaldus\\nTitle:  Indonesia  National\\nDelegate\\nYML Name: Achmad Nuriyawan \\nTitle: Director\\nPOKJA Name: Hamsuri'), 0.07154336523084648), (Document(metadata={'source': './data/PROJECT DOCUMENT MAHAKAM 2023-2025_balise.pdf', 'page': 55}, page_content='\\nHuman resources – Planète Urgence\\nHuman resources – Implementing partners\\nManagement actions – Planète Urgence\\n(including meetings, missions, coordination workshops, \\nmonitoring and evaluations, quality assurance, reporting, \\ncommunication, etc.)\\nManagement actions – Implementing partner \\n(including meetings, missions, coordination workshops, \\nmonitoring and evaluations, quality assurance, reporting, \\ncommunication, etc.)\\nCapacity building of project management staff (Planète Urgence \\nand implementing partners)\\nMid-term assessment (as appropriate)\\nTerminal and final assessment (as appropriate)\\nAudit(s) (as appropriate)\\n</table>'), 0.02708198038712817), (Document(metadata={'source': './data/PROJECT DOCUMENT MAHAKAM 2023-2025_balise.pdf', 'page': 52}, page_content='project’s activities can be made against the business-as-usual scenario providing clarity on how the project can and\\nwill influence emissions reductions over time. \\nThe protocol developed by Planete Urgence adopts the baseline scenario and additionality tests based on the Verified\\nCarbon Standard (VCS) and Clean Development Mechanism (CDM)’s Afforestation/Reforestation methodological tools.\\nIt involves :'), -0.0020000194349647504), (Document(metadata={'source': './data/PROJECT DOCUMENT MAHAKAM 2023-2025_balise.pdf', 'page': 52}, page_content='\\ne.Field monitoring six times in a year.\\nf. Internal evaluation at the end of project\\nIn addition, the project includes a third party evaluation during year 3 for final evaluation of the project’s activities\\nand conduction of the climate philanthropy methodology.\\nThe final evaluation will be conducted via remote evaluation and onsite visit of the project.\\nIt will include at minimum :\\n\\uf0b7 An inventory of the activities that have taken place in relation to the project plan (including planting activities,\\nincreased livelihoods and environmental awareness)\\n\\uf0b7 Review of carbon  sequestration  calculations  and monitoring  protocols,  based on the  climate  philanthropy\\nmethodology  developed  by  Planète  Urgence  (zone  boundaries,  baseline  scenario,  demonstration  of\\nadditionality, ex-ante carbon calculation, and first ex-post measures on year 3 linked with survival rate)\\n\\uf0b7 Review of project, monitoring and activity reports\\n\\uf0b7 Redaction of the audit report\\nCompletion  of  baseline  and  proof  of  additionality,  accompanied  by  EX-ANTE  calculation  of  GHG\\nemissions/sequestrations\\nAccording with Planete Urgence’s methodology on Climate Philanthropy, the project will monitor carbon sequestration\\nimpacts.\\nTo do so, Planète Urgence team will develop a baseline scenario illustrating the activities and greenhouse gas (GHG)\\nemissions that would occur in the absence of a project’s activity. Developing this baseline will be the foundation of\\nmeasuring the project’s emissions reductions or removals; it will set the benchmark by which a comparison of the\\nproject’s activities can be made against the business-as-usual scenario providing clarity on how the project can and\\nwill influence emissions reductions over time. \\nThe protocol developed by Planete Urgence adopts the baseline scenario and additionality tests based on the Verified\\nCarbon Standard (VCS) and Clean Development Mechanism (CDM)’s Afforestation/Reforestation methodological tools.'), -0.012105400715027859), (Document(metadata={'source': './data/PROJECT DOCUMENT MAHAKAM 2023-2025_balise.pdf', 'page': 25}, page_content='locations \\n\\uf02d Strategy  of  implementation:  Synchronized  the  activity  with  the\\nschedule  of  the  consultant  and  using  the  existing  maps  of  the\\nlocations.\\n2.3.2 Training on Mangrove Reforestation\\n9 We consider Delta Mahakam as ONE Project Location, organized by YML with one\\nCommunity Group (the member of group comes from different villages, based on \\nthe fish pond ownership in a one big area.\\nTree planting will be conducted in (1) Delta Mahakam Ulu village, and (2) Tanjung \\nLimau Village - and they are neighboring villages. \\nWe can say : Target: at least 5 plots/parcels in the 2 project locations (i.e. Delta Mahakam \\nand Adang Bay).'), -0.014893414744023614), (Document(metadata={'source': './data/PROJECT DOCUMENT MAHAKAM 2023-2025_balise.pdf', 'page': 51}, page_content='\\ndeveloping fish farmer \\nproduct \\n Activity Report \\nList of \\nparticipants\\n Database women\\ngroup income \\ngenerating\\n 26\\nwomen\\nwomen  30\\nwomen\\n 30\\nwomen\\n 30\\nwomen\\nOutput Strengthening \\nthe governence of \\nDelta Mahakam & \\nAdang Bay\\nNumber of local \\ncommunities participated \\nin FPIC \\nDocumentation \\nactivity\\nActivity Report \\nList of \\nparticipants\\n2 \\nvillages\\n 40 \\npersons\\n2022 2\\nvillages\\n 40\\npersons\\n2\\nvillages\\n 40\\npersons\\n2\\nvillage\\ns\\n 40\\nperson\\ns\\n6\\nvillages\\n 120\\nNumber of meetings with \\nkey stakeholder\\nDocumentation \\nactivity\\nMinutes of \\nMeeting\\nList of \\nparticipants\\n4 2022 4 4 4 12\\n</table>\\n12. Monitoring & evaluation\\nThe monitoring and evaluation of the project activities, risks, knowledge management, communication and others will\\nbe done internaly through:\\na.Monthly narrative and financial report\\nb.Quarterly narrative and financial report\\nc. Monthly coordination meeting with the partners.\\nd.Biweekly coordination meeting with the PU Paris.'), -0.020601783906339044), (Document(metadata={'source': './data/PROJECT DOCUMENT MAHAKAM 2023-2025_balise.pdf', 'page': 24}, page_content='\\nActivity 2.1. Pres-assessment study on land suitability \\nOne  of  the  main  recommendations  made  by  the  consultants  during  the\\nevaluation of the Mahakam Delta projects from 2017 to 2021 was to conduct\\na  study on  land  suitability  (soil  and  water  characteristics)  for  mangrove\\nreforestation. We conducted these studies for the intervention areas during\\nthe pilot phase of the project in 2022. To ensure the long-term viability of the\\nplantations, the objective would be to implement this strategy for all future\\nand new project intervention areas during the 3 years project. \\n\\uf02d Target: locations of plantation plot. \\n\\uf02d Location: Delta Mahakam (aquaculture pond and coastal area) by YML,\\nMuara  Jawa  (coastal  area),  and  Adang  Bay  (aquaculture  pond  and\\nriparian/coastal area) \\n\\uf02d Content/Topic:  soil  and  substrate  analysis  and  endemic/local  tree\\nspecies analysis\\n\\uf02d Methods and media: Desk study, Field work, laboratory analysis and\\nreport writing\\n\\uf02d Strategy of implementation: \\na. Hire consultant team with the available budget\\nb. Involve the community representative and the local partner during the\\nfield work\\nActivity 2.2. Ensure establishment and management of community-\\nbased nurseries\\n2.2.1 Establishment of community-based nurseries \\n The objective is to have the tree seedlings locally and on time, as planned\\nby the community.\\n\\uf02d Target: 3 nurseries in 3 villages/locations, 60 people involved in the\\nseedling preparation in the nurseries.\\n\\uf02d Location: Delta Mahakam organized by YML and local community and\\nAdang Bay organized by POKJA Pesisir and local community8. \\n\\uf02d Content/Topic:  70,000  mangrove  trees  in  Delta  Mahakam,  80,000\\nmangrove trees in Adang Bay, Paser. \\n\\uf02d Methods and media: Technical assistance by Project staffs\\n\\uf02d Strategy of implementation: Collaboration with village officials and give\\nmore responsibility to the local people.\\n2.2.2 Maintenance of the nurseries \\n8 The location in general:'), -0.02283556687741628)]\n",
      "  self.vectorstore.similarity_search_with_relevance_scores(\n",
      "No relevant docs were retrieved using the relevance score threshold 0.7\n",
      "/home/chougar/miniconda3/lib/python3.11/site-packages/langchain_core/vectorstores/base.py:1086: UserWarning: Relevance scores must be between 0 and 1, got [(Document(metadata={'source': './data/PROJECT DOCUMENT MAHAKAM 2023-2025_balise.pdf', 'page': 53}, page_content='\\n\\uf0b7 Identification and mapping of project boundaries\\n\\uf0b7 Consideration of regulatory surplus\\n\\uf0b7 Development of a list of reference scenarios ( Identification of obstacles, Analysis of obstacles, Determination of\\nreference scenario, Investment analysis\\n\\uf0b7 Definition of net GHG removals in the reference scenario, \\n\\uf0b7 Definition and proof of additionality\\n<table>\\n13. Timeline \\nEXPECTED RESULTS & PLANNED\\nACTIVITIES\\nTIMELINE\\nQ1 Q2 Q3 Q4 Q1 Q2 Q3 Q4 Q1 Q2 Q3 Q4\\nOutput 1\\xa0: Raising the awareness of stakeholders to \\nconserve and to manage Delta Mahakam sustainably.\\nA.1.1. Conduct workshops in schools of East Kalimantan province \\nto raise awareness on environment and biodiversity preservation.\\nA.1.2. Support Adiwiyata School\\nA.1.3. Conduct public awareness campaigns to sensitize \\ncommunities in East Kalimantan province to the ecological, \\neconomic and climatic benefits of the mangrove.\\nOutput 2\\xa0: Rehabilitate degraded mangrove forest\\nA.2.1. Pres-assessment study on land suitability\\nA.2.2. Ensure establishment and management of community-\\nbased nurseries'), 0.08408980768296348), (Document(metadata={'source': './data/PROJECT DOCUMENT MAHAKAM 2023-2025_balise.pdf', 'page': 3}, page_content='\\nMain Sustainable Development Goals (SDGs) to which the\\nproject contributes\\n\\u202f\\u202f\\u202f\\u202f  \\n \\u202f\\u202f\\u202f\\u202f \\n \\u202f\\u202f\\u202f\\u202f \\n \\u202f\\u202f\\u202f\\u202f \\n \\xa0\\u202f\\u202f\\u202f\\u202f  \\u202f\\u202f\\u202f\\u202f\\nMain SDG targets and indicators to which the project contributes: \\n\\uf0b7 12.8. By  2030,  ensure  that  people  everywhere  have  the  relevant\\ninformation  and awareness  for  sustainable  development and lifestyles  in\\nharmony with nature.  \\n\\uf0b7 13.1. Strengthen resilience and adaptive capacity to climate-related\\nhazards and natural disasters in all countries.  \\n\\uf0b7 13.3. Improve education, awareness-raising, human, and institutional\\ncapacity on climate  change  mitigation,  adaptation,  impact reduction and\\nearly warning.  \\n\\uf0b7 14.2. Sustainably manage and protect marine and coastal ecosystems\\nto  avoid  significant  adverse  impacts,  including  by  strengthening  their\\nresilience, and take action for their restoration in order to achieve healthy\\nand productive oceans.  \\n\\uf0b7 14.  B. Provide  access  for  small-scale  artisanal  fishers  to  marine\\nresources and markets.  \\n\\uf0b7 15.5. Take urgent and significant action to reduce the degradation of\\nnatural  habitats,  halt  the  loss  of  biodiversity,  protect  and  prevent  the\\nextinction of threatened species. \\nTable 0 *\\nProject duration 3 years (March 2023 – February 2026)\\nBudget & funding\\nTotal required \\nresources (€)\\n2023-2026\\n818\\xa0341 € // 903\\xa0613 USD\\nAuthor(s) YML, POKJA, Yayasan Planete Urgensi Indonesia,\\nPlanète Urgence\\nApproval by partners Planète\\nUrgence/Yayasan\\nPlanet Urgensi\\nIndonesia\\nName: Réonaldus\\nTitle:  Indonesia  National\\nDelegate\\nYML Name: Achmad Nuriyawan \\nTitle: Director\\nPOKJA Name: Hamsuri'), 0.07144069550787391), (Document(metadata={'source': './data/PROJECT DOCUMENT MAHAKAM 2023-2025_balise.pdf', 'page': 55}, page_content='\\nHuman resources – Planète Urgence\\nHuman resources – Implementing partners\\nManagement actions – Planète Urgence\\n(including meetings, missions, coordination workshops, \\nmonitoring and evaluations, quality assurance, reporting, \\ncommunication, etc.)\\nManagement actions – Implementing partner \\n(including meetings, missions, coordination workshops, \\nmonitoring and evaluations, quality assurance, reporting, \\ncommunication, etc.)\\nCapacity building of project management staff (Planète Urgence \\nand implementing partners)\\nMid-term assessment (as appropriate)\\nTerminal and final assessment (as appropriate)\\nAudit(s) (as appropriate)\\n</table>'), 0.02697037553227133), (Document(metadata={'source': './data/PROJECT DOCUMENT MAHAKAM 2023-2025_balise.pdf', 'page': 52}, page_content='project’s activities can be made against the business-as-usual scenario providing clarity on how the project can and\\nwill influence emissions reductions over time. \\nThe protocol developed by Planete Urgence adopts the baseline scenario and additionality tests based on the Verified\\nCarbon Standard (VCS) and Clean Development Mechanism (CDM)’s Afforestation/Reforestation methodological tools.\\nIt involves :'), -0.0019924330022329517), (Document(metadata={'source': './data/PROJECT DOCUMENT MAHAKAM 2023-2025_balise.pdf', 'page': 52}, page_content='\\ne.Field monitoring six times in a year.\\nf. Internal evaluation at the end of project\\nIn addition, the project includes a third party evaluation during year 3 for final evaluation of the project’s activities\\nand conduction of the climate philanthropy methodology.\\nThe final evaluation will be conducted via remote evaluation and onsite visit of the project.\\nIt will include at minimum :\\n\\uf0b7 An inventory of the activities that have taken place in relation to the project plan (including planting activities,\\nincreased livelihoods and environmental awareness)\\n\\uf0b7 Review of carbon  sequestration  calculations  and monitoring  protocols,  based on the  climate  philanthropy\\nmethodology  developed  by  Planète  Urgence  (zone  boundaries,  baseline  scenario,  demonstration  of\\nadditionality, ex-ante carbon calculation, and first ex-post measures on year 3 linked with survival rate)\\n\\uf0b7 Review of project, monitoring and activity reports\\n\\uf0b7 Redaction of the audit report\\nCompletion  of  baseline  and  proof  of  additionality,  accompanied  by  EX-ANTE  calculation  of  GHG\\nemissions/sequestrations\\nAccording with Planete Urgence’s methodology on Climate Philanthropy, the project will monitor carbon sequestration\\nimpacts.\\nTo do so, Planète Urgence team will develop a baseline scenario illustrating the activities and greenhouse gas (GHG)\\nemissions that would occur in the absence of a project’s activity. Developing this baseline will be the foundation of\\nmeasuring the project’s emissions reductions or removals; it will set the benchmark by which a comparison of the\\nproject’s activities can be made against the business-as-usual scenario providing clarity on how the project can and\\nwill influence emissions reductions over time. \\nThe protocol developed by Planete Urgence adopts the baseline scenario and additionality tests based on the Verified\\nCarbon Standard (VCS) and Clean Development Mechanism (CDM)’s Afforestation/Reforestation methodological tools.'), -0.012164659184034088), (Document(metadata={'source': './data/PROJECT DOCUMENT MAHAKAM 2023-2025_balise.pdf', 'page': 25}, page_content='locations \\n\\uf02d Strategy  of  implementation:  Synchronized  the  activity  with  the\\nschedule  of  the  consultant  and  using  the  existing  maps  of  the\\nlocations.\\n2.3.2 Training on Mangrove Reforestation\\n9 We consider Delta Mahakam as ONE Project Location, organized by YML with one\\nCommunity Group (the member of group comes from different villages, based on \\nthe fish pond ownership in a one big area.\\nTree planting will be conducted in (1) Delta Mahakam Ulu village, and (2) Tanjung \\nLimau Village - and they are neighboring villages. \\nWe can say : Target: at least 5 plots/parcels in the 2 project locations (i.e. Delta Mahakam \\nand Adang Bay).'), -0.014927975159802376), (Document(metadata={'source': './data/PROJECT DOCUMENT MAHAKAM 2023-2025_balise.pdf', 'page': 51}, page_content='\\ndeveloping fish farmer \\nproduct \\n Activity Report \\nList of \\nparticipants\\n Database women\\ngroup income \\ngenerating\\n 26\\nwomen\\nwomen  30\\nwomen\\n 30\\nwomen\\n 30\\nwomen\\nOutput Strengthening \\nthe governence of \\nDelta Mahakam & \\nAdang Bay\\nNumber of local \\ncommunities participated \\nin FPIC \\nDocumentation \\nactivity\\nActivity Report \\nList of \\nparticipants\\n2 \\nvillages\\n 40 \\npersons\\n2022 2\\nvillages\\n 40\\npersons\\n2\\nvillages\\n 40\\npersons\\n2\\nvillage\\ns\\n 40\\nperson\\ns\\n6\\nvillages\\n 120\\nNumber of meetings with \\nkey stakeholder\\nDocumentation \\nactivity\\nMinutes of \\nMeeting\\nList of \\nparticipants\\n4 2022 4 4 4 12\\n</table>\\n12. Monitoring & evaluation\\nThe monitoring and evaluation of the project activities, risks, knowledge management, communication and others will\\nbe done internaly through:\\na.Monthly narrative and financial report\\nb.Quarterly narrative and financial report\\nc. Monthly coordination meeting with the partners.\\nd.Biweekly coordination meeting with the PU Paris.'), -0.020696530021791393), (Document(metadata={'source': './data/PROJECT DOCUMENT MAHAKAM 2023-2025_balise.pdf', 'page': 24}, page_content='\\nActivity 2.1. Pres-assessment study on land suitability \\nOne  of  the  main  recommendations  made  by  the  consultants  during  the\\nevaluation of the Mahakam Delta projects from 2017 to 2021 was to conduct\\na  study on  land  suitability  (soil  and  water  characteristics)  for  mangrove\\nreforestation. We conducted these studies for the intervention areas during\\nthe pilot phase of the project in 2022. To ensure the long-term viability of the\\nplantations, the objective would be to implement this strategy for all future\\nand new project intervention areas during the 3 years project. \\n\\uf02d Target: locations of plantation plot. \\n\\uf02d Location: Delta Mahakam (aquaculture pond and coastal area) by YML,\\nMuara  Jawa  (coastal  area),  and  Adang  Bay  (aquaculture  pond  and\\nriparian/coastal area) \\n\\uf02d Content/Topic:  soil  and  substrate  analysis  and  endemic/local  tree\\nspecies analysis\\n\\uf02d Methods and media: Desk study, Field work, laboratory analysis and\\nreport writing\\n\\uf02d Strategy of implementation: \\na. Hire consultant team with the available budget\\nb. Involve the community representative and the local partner during the\\nfield work\\nActivity 2.2. Ensure establishment and management of community-\\nbased nurseries\\n2.2.1 Establishment of community-based nurseries \\n The objective is to have the tree seedlings locally and on time, as planned\\nby the community.\\n\\uf02d Target: 3 nurseries in 3 villages/locations, 60 people involved in the\\nseedling preparation in the nurseries.\\n\\uf02d Location: Delta Mahakam organized by YML and local community and\\nAdang Bay organized by POKJA Pesisir and local community8. \\n\\uf02d Content/Topic:  70,000  mangrove  trees  in  Delta  Mahakam,  80,000\\nmangrove trees in Adang Bay, Paser. \\n\\uf02d Methods and media: Technical assistance by Project staffs\\n\\uf02d Strategy of implementation: Collaboration with village officials and give\\nmore responsibility to the local people.\\n2.2.2 Maintenance of the nurseries \\n8 The location in general:'), -0.022859169112582567)]\n",
      "  self.vectorstore.similarity_search_with_relevance_scores(\n",
      "No relevant docs were retrieved using the relevance score threshold 0.7\n",
      "Evaluating: 100%|██████████| 1/1 [00:00<00:00,  2.75it/s]\n"
     ]
    },
    {
     "name": "stdout",
     "output_type": "stream",
     "text": [
      "Question: Project start date / end date\n",
      "LLM Eval_score: 2\n",
      "\n",
      "-------\n"
     ]
    },
    {
     "name": "stderr",
     "output_type": "stream",
     "text": [
      "No relevant docs were retrieved using the relevance score threshold 0.7\n",
      "No relevant docs were retrieved using the relevance score threshold 0.7\n",
      "Evaluating: 100%|██████████| 1/1 [00:00<00:00,  2.62it/s]\n"
     ]
    },
    {
     "name": "stdout",
     "output_type": "stream",
     "text": [
      "Question: What are the start and end dates of the project?\n",
      "LLM Eval_score: 3\n",
      "\n",
      "-------\n",
      "\n",
      "--------------------\n"
     ]
    },
    {
     "name": "stderr",
     "output_type": "stream",
     "text": [
      "No relevant docs were retrieved using the relevance score threshold 0.7\n",
      "No relevant docs were retrieved using the relevance score threshold 0.7\n",
      "Evaluating: 100%|██████████| 1/1 [00:00<00:00,  2.38it/s]\n"
     ]
    },
    {
     "name": "stdout",
     "output_type": "stream",
     "text": [
      "Question: Project budget \n",
      "            Total amount of the project (in Euros) \n",
      "            \n",
      "            Amount of donation requested from the Foundation (in Euros) \n",
      "            \n",
      "            Detailed provisional project budget \n",
      "            \n",
      "            Detailed project budget for current year\n",
      "        \n",
      "LLM Eval_score: 3\n",
      "\n",
      "-------\n"
     ]
    },
    {
     "name": "stderr",
     "output_type": "stream",
     "text": [
      "No relevant docs were retrieved using the relevance score threshold 0.7\n",
      "No relevant docs were retrieved using the relevance score threshold 0.7\n",
      "Evaluating: 100%|██████████| 1/1 [00:00<00:00,  2.34it/s]\n"
     ]
    },
    {
     "name": "stdout",
     "output_type": "stream",
     "text": [
      "Question: What is the total project budget in Euros, including the amount requested from the Foundation, the detailed provisional budget, and the budget for the current year?\n",
      "LLM Eval_score: 3\n",
      "\n",
      "-------\n",
      "\n",
      "--------------------\n",
      "Search type: mmr\n",
      "DB type: chroma\n"
     ]
    },
    {
     "name": "stderr",
     "output_type": "stream",
     "text": [
      "Evaluating: 100%|██████████| 1/1 [00:08<00:00,  8.41s/it]\n"
     ]
    },
    {
     "name": "stdout",
     "output_type": "stream",
     "text": [
      "Question: Description of the project\n",
      "LLM Eval_score: 6\n",
      "\n",
      "-------\n"
     ]
    },
    {
     "name": "stderr",
     "output_type": "stream",
     "text": [
      "Evaluating: 100%|██████████| 1/1 [00:06<00:00,  6.27s/it]\n"
     ]
    },
    {
     "name": "stdout",
     "output_type": "stream",
     "text": [
      "Question: What is the description of the project?\n",
      "LLM Eval_score: 6\n",
      "\n",
      "-------\n",
      "\n",
      "--------------------\n"
     ]
    },
    {
     "name": "stderr",
     "output_type": "stream",
     "text": [
      "Evaluating: 100%|██████████| 1/1 [00:00<00:00,  1.07it/s]\n"
     ]
    },
    {
     "name": "stdout",
     "output_type": "stream",
     "text": [
      "Question: Country and city\n",
      "LLM Eval_score: 5\n",
      "\n",
      "-------\n"
     ]
    },
    {
     "name": "stderr",
     "output_type": "stream",
     "text": [
      "Evaluating: 100%|██████████| 1/1 [00:00<00:00,  1.05it/s]\n"
     ]
    },
    {
     "name": "stdout",
     "output_type": "stream",
     "text": [
      "Question: What is the specific country and city where the project is located?\n",
      "LLM Eval_score: 8\n",
      "\n",
      "-------\n",
      "\n",
      "--------------------\n"
     ]
    },
    {
     "name": "stderr",
     "output_type": "stream",
     "text": [
      "Evaluating: 100%|██████████| 1/1 [00:01<00:00,  1.74s/it]\n"
     ]
    },
    {
     "name": "stdout",
     "output_type": "stream",
     "text": [
      "Question: Target beneficiaries\n",
      "LLM Eval_score: 7\n",
      "\n",
      "-------\n"
     ]
    },
    {
     "name": "stderr",
     "output_type": "stream",
     "text": [
      "Evaluating: 100%|██████████| 1/1 [00:01<00:00,  1.61s/it]\n"
     ]
    },
    {
     "name": "stdout",
     "output_type": "stream",
     "text": [
      "Question: Who are the target beneficiaries of the project?\n",
      "LLM Eval_score: 8\n",
      "\n",
      "-------\n",
      "\n",
      "--------------------\n"
     ]
    },
    {
     "name": "stderr",
     "output_type": "stream",
     "text": [
      "Evaluating: 100%|██████████| 1/1 [00:01<00:00,  1.52s/it]\n"
     ]
    },
    {
     "name": "stdout",
     "output_type": "stream",
     "text": [
      "Question: Number of people concerned\n",
      "LLM Eval_score: 7\n",
      "\n",
      "-------\n"
     ]
    },
    {
     "name": "stderr",
     "output_type": "stream",
     "text": [
      "Evaluating: 100%|██████████| 1/1 [00:00<00:00,  1.09it/s]\n"
     ]
    },
    {
     "name": "stdout",
     "output_type": "stream",
     "text": [
      "Question: How many people are impacted by the project?\n",
      "LLM Eval_score: 8\n",
      "\n",
      "-------\n",
      "\n",
      "--------------------\n"
     ]
    },
    {
     "name": "stderr",
     "output_type": "stream",
     "text": [
      "Evaluating: 100%|██████████| 1/1 [01:00<00:00, 60.66s/it]\n"
     ]
    },
    {
     "name": "stdout",
     "output_type": "stream",
     "text": [
      "Question: Context, environment, project rationale and challenges\n",
      "LLM Eval_score: 6\n",
      "\n",
      "-------\n"
     ]
    },
    {
     "name": "stderr",
     "output_type": "stream",
     "text": [
      "Evaluating: 100%|██████████| 1/1 [01:02<00:00, 62.33s/it]\n"
     ]
    },
    {
     "name": "stdout",
     "output_type": "stream",
     "text": [
      "Question: What are the context, environment, rationale, and challenges of the project?\n",
      "LLM Eval_score: 6\n",
      "\n",
      "-------\n",
      "\n",
      "--------------------\n"
     ]
    },
    {
     "name": "stderr",
     "output_type": "stream",
     "text": [
      "Evaluating: 100%|██████████| 1/1 [00:00<00:00,  2.33it/s]\n"
     ]
    },
    {
     "name": "stdout",
     "output_type": "stream",
     "text": [
      "Question: Project start date / end date\n",
      "LLM Eval_score: 10\n",
      "\n",
      "-------\n"
     ]
    },
    {
     "name": "stderr",
     "output_type": "stream",
     "text": [
      "Evaluating: 100%|██████████| 1/1 [00:00<00:00,  2.41it/s]\n"
     ]
    },
    {
     "name": "stdout",
     "output_type": "stream",
     "text": [
      "Question: What are the start and end dates of the project?\n",
      "LLM Eval_score: 10\n",
      "\n",
      "-------\n",
      "\n",
      "--------------------\n"
     ]
    },
    {
     "name": "stderr",
     "output_type": "stream",
     "text": [
      "Evaluating: 100%|██████████| 1/1 [00:00<00:00,  1.73it/s]\n"
     ]
    },
    {
     "name": "stdout",
     "output_type": "stream",
     "text": [
      "Question: Project budget \n",
      "            Total amount of the project (in Euros) \n",
      "            \n",
      "            Amount of donation requested from the Foundation (in Euros) \n",
      "            \n",
      "            Detailed provisional project budget \n",
      "            \n",
      "            Detailed project budget for current year\n",
      "        \n",
      "LLM Eval_score: 8\n",
      "\n",
      "-------\n"
     ]
    },
    {
     "name": "stderr",
     "output_type": "stream",
     "text": [
      "Evaluating: 100%|██████████| 1/1 [00:00<00:00,  1.31it/s]\n"
     ]
    },
    {
     "name": "stdout",
     "output_type": "stream",
     "text": [
      "Question: What is the total project budget in Euros, including the requested donation amount from the Foundation, the detailed provisional budget, and the budget for the current year?\n",
      "LLM Eval_score: 8\n",
      "\n",
      "-------\n",
      "\n",
      "--------------------\n",
      "Search type: mmr\n",
      "DB type: faiss\n"
     ]
    },
    {
     "name": "stderr",
     "output_type": "stream",
     "text": [
      "Evaluating: 100%|██████████| 1/1 [00:07<00:00,  7.97s/it]\n"
     ]
    },
    {
     "name": "stdout",
     "output_type": "stream",
     "text": [
      "Question: Description of the project\n",
      "LLM Eval_score: 6\n",
      "\n",
      "-------\n"
     ]
    },
    {
     "name": "stderr",
     "output_type": "stream",
     "text": [
      "Evaluating: 100%|██████████| 1/1 [00:07<00:00,  7.08s/it]\n"
     ]
    },
    {
     "name": "stdout",
     "output_type": "stream",
     "text": [
      "Question: What is the description of the project?\n",
      "LLM Eval_score: 7\n",
      "\n",
      "-------\n",
      "\n",
      "--------------------\n"
     ]
    },
    {
     "name": "stderr",
     "output_type": "stream",
     "text": [
      "Evaluating: 100%|██████████| 1/1 [00:00<00:00,  1.07it/s]\n"
     ]
    },
    {
     "name": "stdout",
     "output_type": "stream",
     "text": [
      "Question: Country and city\n",
      "LLM Eval_score: 7\n",
      "\n",
      "-------\n"
     ]
    },
    {
     "name": "stderr",
     "output_type": "stream",
     "text": [
      "Evaluating: 100%|██████████| 1/1 [00:01<00:00,  1.12s/it]\n"
     ]
    },
    {
     "name": "stdout",
     "output_type": "stream",
     "text": [
      "Question: What is the specific country and city where the project is located?\n",
      "LLM Eval_score: 8\n",
      "\n",
      "-------\n",
      "\n",
      "--------------------\n"
     ]
    },
    {
     "name": "stderr",
     "output_type": "stream",
     "text": [
      "Evaluating: 100%|██████████| 1/1 [00:02<00:00,  2.10s/it]\n"
     ]
    },
    {
     "name": "stdout",
     "output_type": "stream",
     "text": [
      "Question: Target beneficiaries\n",
      "LLM Eval_score: 7\n",
      "\n",
      "-------\n"
     ]
    },
    {
     "name": "stderr",
     "output_type": "stream",
     "text": [
      "Evaluating: 100%|██████████| 1/1 [00:02<00:00,  2.01s/it]\n"
     ]
    },
    {
     "name": "stdout",
     "output_type": "stream",
     "text": [
      "Question: Who are the target beneficiaries of the project?\n",
      "LLM Eval_score: 9\n",
      "\n",
      "-------\n",
      "\n",
      "--------------------\n"
     ]
    },
    {
     "name": "stderr",
     "output_type": "stream",
     "text": [
      "Evaluating: 100%|██████████| 1/1 [00:00<00:00,  1.18it/s]\n"
     ]
    },
    {
     "name": "stdout",
     "output_type": "stream",
     "text": [
      "Question: Number of people concerned\n",
      "LLM Eval_score: 9\n",
      "\n",
      "-------\n"
     ]
    },
    {
     "name": "stderr",
     "output_type": "stream",
     "text": [
      "Evaluating: 100%|██████████| 1/1 [00:00<00:00,  1.13it/s]\n"
     ]
    },
    {
     "name": "stdout",
     "output_type": "stream",
     "text": [
      "Question: How many people are impacted by the project?\n",
      "LLM Eval_score: 8\n",
      "\n",
      "-------\n",
      "\n",
      "--------------------\n"
     ]
    },
    {
     "name": "stderr",
     "output_type": "stream",
     "text": [
      "Evaluating: 100%|██████████| 1/1 [00:57<00:00, 57.95s/it]\n"
     ]
    },
    {
     "name": "stdout",
     "output_type": "stream",
     "text": [
      "Question: Context, environment, project rationale and challenges\n",
      "LLM Eval_score: 7\n",
      "\n",
      "-------\n"
     ]
    },
    {
     "name": "stderr",
     "output_type": "stream",
     "text": [
      "Evaluating: 100%|██████████| 1/1 [00:56<00:00, 56.97s/it]\n"
     ]
    },
    {
     "name": "stdout",
     "output_type": "stream",
     "text": [
      "Question: What is the context, environment, rationale, and the challenges associated with the project?\n",
      "LLM Eval_score: 7\n",
      "\n",
      "-------\n",
      "\n",
      "--------------------\n"
     ]
    },
    {
     "name": "stderr",
     "output_type": "stream",
     "text": [
      "Evaluating: 100%|██████████| 1/1 [00:00<00:00,  2.33it/s]\n"
     ]
    },
    {
     "name": "stdout",
     "output_type": "stream",
     "text": [
      "Question: Project start date / end date\n",
      "LLM Eval_score: 10\n",
      "\n",
      "-------\n"
     ]
    },
    {
     "name": "stderr",
     "output_type": "stream",
     "text": [
      "Evaluating: 100%|██████████| 1/1 [00:00<00:00,  2.64it/s]\n"
     ]
    },
    {
     "name": "stdout",
     "output_type": "stream",
     "text": [
      "Question: What are the start and end dates of the project?\n",
      "LLM Eval_score: 10\n",
      "\n",
      "-------\n",
      "\n",
      "--------------------\n"
     ]
    },
    {
     "name": "stderr",
     "output_type": "stream",
     "text": [
      "Evaluating: 100%|██████████| 1/1 [00:00<00:00,  1.00it/s]\n"
     ]
    },
    {
     "name": "stdout",
     "output_type": "stream",
     "text": [
      "Question: Project budget \n",
      "            Total amount of the project (in Euros) \n",
      "            \n",
      "            Amount of donation requested from the Foundation (in Euros) \n",
      "            \n",
      "            Detailed provisional project budget \n",
      "            \n",
      "            Detailed project budget for current year\n",
      "        \n",
      "LLM Eval_score: 7\n",
      "\n",
      "-------\n"
     ]
    },
    {
     "name": "stderr",
     "output_type": "stream",
     "text": [
      "Evaluating: 100%|██████████| 1/1 [00:00<00:00,  1.39it/s]"
     ]
    },
    {
     "name": "stdout",
     "output_type": "stream",
     "text": [
      "Question: What is the total project budget in Euros, including the amount requested from the Foundation, the detailed provisional budget, and the budget for the current year?\n",
      "LLM Eval_score: 8\n",
      "\n",
      "-------\n",
      "\n",
      "--------------------\n"
     ]
    },
    {
     "name": "stderr",
     "output_type": "stream",
     "text": [
      "\n"
     ]
    }
   ],
   "source": [
    "def update_lcel_chain(search_type, db_type, search_type_args=search_type_args, llm_qa=llm_qa, rag_prompt=rag_prompt, docs=docs, chroma_db=chroma_db, faiss_db=faiss_db):\n",
    "    if db_type=='chroma':\n",
    "        test_db=chroma_db\n",
    "    elif db_type=='faiss':\n",
    "        test_db=faiss_db\n",
    "\n",
    "    retriever = test_db.as_retriever(\n",
    "        search_type=search_type,\n",
    "        search_kwargs=search_type_args[search_type],\n",
    "    )\n",
    "    \n",
    "\n",
    "    lcel_qa_chain = (\n",
    "        RunnableParallel({\n",
    "            \"context\": retriever | (lambda docs: \"\\n\\n\".join(d.page_content for d in docs)),\n",
    "            \"sources\": retriever,\n",
    "            \"question\": RunnablePassthrough(),\n",
    "        })\n",
    "        | (lambda inputs: {\n",
    "            \"answer\": (rag_prompt | llm_qa | StrOutputParser()).invoke(inputs),\n",
    "            \"sources\": inputs[\"sources\"]  \n",
    "        })\n",
    "    )\n",
    "\n",
    "    return lcel_qa_chain\n",
    " \n",
    "\n",
    "\n",
    "evaluations_lcel=[]\n",
    "import torch\n",
    "\n",
    "def retrieval_LCEL_loop(evaluations_lcel=evaluations_lcel):\n",
    "    for search_type, db_type in gridSearch:\n",
    "        print(f\"Search type: {search_type}\")\n",
    "        print(f\"DB type: {db_type}\")\n",
    "        for q in questions:   \n",
    "            enhanced_question= question_rewriter.invoke({\"question\": q[\"question\"]})\n",
    "            questions_variations=[\n",
    "                {\"question\": q[\"question\"], \"enhanced_question\": False},\n",
    "                {\"question\": enhanced_question, \"enhanced_question\": True},\n",
    "            ]\n",
    "\n",
    "            for q_v in questions_variations:\n",
    "                question=q_v[\"question\"]\n",
    "                retrievalQA_chain=update_lcel_chain(search_type, db_type)\n",
    "                rag_qa = retrievalQA_chain.invoke(question)\n",
    "            \n",
    "                \n",
    "\n",
    "                eval_score=score_reference_vs_rag_with_gpt(q[\"question\"], q[\"reference_answer\"], rag_qa[\"answer\"])\n",
    "\n",
    "                pred_label, raw_prob, _, _ = specialized_evaluator.score(docs=[q['reference_answer']], claims=[rag_qa[\"answer\"]])        \n",
    "                # torch.cuda.empty_cache()\n",
    "        \n",
    "\n",
    "                print(f\"\"\"Question: {question}\"\"\")\n",
    "                print(f\"\"\"LLM Eval_score: {eval_score}\"\"\")\n",
    "                # print(f\"\"\"MiniCheck score: {raw_prob}\"\"\")\n",
    "\n",
    "                evaluations_lcel.append(\n",
    "                    {\n",
    "                        \"question_#\":q[\"q_#\"], \n",
    "                        \"question\": question,  \n",
    "                        \"reference_answer\": q[\"reference_answer\"],\n",
    "                        \"rag_answer\": rag_qa[\"answer\"],\n",
    "                        \"rag_sources\": rag_qa[\"sources\"],\n",
    "                        \"eval_score_llm\": eval_score,\n",
    "                        \"eval_score_minicheck\": raw_prob,\n",
    "                        \"enhanced_question\": q_v[\"enhanced_question\"],\n",
    "                        \"search_type\": search_type,\n",
    "                        \"db_type\": db_type\n",
    "                    }\n",
    "                )\n",
    "                print(\"\\n-------\")\n",
    "                \n",
    "            print(\"\\n--------------------\")\n",
    "\n",
    "retrieval_LCEL_loop()"
   ]
  },
  {
   "cell_type": "markdown",
   "metadata": {},
   "source": [
    "Analyse des résultats\n",
    "1. Retrieval QA"
   ]
  },
  {
   "cell_type": "code",
   "execution_count": 39,
   "metadata": {
    "colab": {
     "base_uri": "https://localhost:8080/",
     "height": 633
    },
    "executionInfo": {
     "elapsed": 11238,
     "status": "ok",
     "timestamp": 1730739660232,
     "user": {
      "displayName": "thomas boehler",
      "userId": "18209330116931111774"
     },
     "user_tz": -60
    },
    "id": "VDTfmDFjtTjS",
    "outputId": "9c9a238e-5edb-488f-a176-fa9a8e300476"
   },
   "outputs": [],
   "source": [
    "import pandas as pd\n",
    "if len(evaluations_retrieval_qa)>0:\n",
    "        df_evaluations_retrievalQA=pd.DataFrame(evaluations_retrieval_qa)\n",
    "        print(\"Table 'similarity_score_threshold' par prompt simple:\")\n",
    "        display(df_evaluations_retrievalQA[(df_evaluations_retrievalQA[\"enhanced_question\"]==False)&\n",
    "                (df_evaluations_retrievalQA[\"search_type\"]==\"similarity_score_threshold\")] )\n",
    "\n",
    "        print(\"\\n-----------------\\n\")\n",
    "        print(\"Table 'similarity_score_threshold' par prompt amélioré:\")\n",
    "        display(df_evaluations_retrievalQA[(df_evaluations_retrievalQA[\"enhanced_question\"]==True)&\n",
    "                (df_evaluations_retrievalQA[\"search_type\"]==\"similarity_score_threshold\")] )\n",
    "\n",
    "        print(\"Table 'MMR' par prompt simple:\")\n",
    "        display( df_evaluations_retrievalQA[( df_evaluations_retrievalQA[\"enhanced_question\"]==False)&\n",
    "                ( df_evaluations_retrievalQA[\"search_type\"]==\"mmr\")] )\n",
    "\n",
    "        print(\"\\n-----------------\\n\")\n",
    "        print(\"Table 'MMR' par prompt amélioré:\")\n",
    "        display( df_evaluations_retrievalQA[( df_evaluations_retrievalQA[\"enhanced_question\"]==True)&\n",
    "                ( df_evaluations_retrievalQA[\"search_type\"]==\"mmr\")] )\n",
    "\n",
    "\n",
    "        print(\"\\n-----------------\\n\")\n",
    "        print(\"\\n-----------------\\n\")\n",
    "\n",
    "        print(\"Score moyen méthode 'similarity_score_threshold' par prompt simple:\")\n",
    "        display( df_evaluations_retrievalQA[( df_evaluations_retrievalQA[\"enhanced_question\"]==False)&\n",
    "                                ( df_evaluations_retrievalQA[\"search_type\"]==\"similarity_score_threshold\")][\"eval_score_llm\"].mean())\n",
    "\n",
    "        print(\"Score moyen méthode 'similarity_score_threshold' par prompt reformulé:\")\n",
    "        display( df_evaluations_retrievalQA[( df_evaluations_retrievalQA[\"enhanced_question\"]==True)&\n",
    "                                ( df_evaluations_retrievalQA[\"search_type\"]==\"similarity_score_threshold\")][\"eval_score_llm\"].mean())\n",
    "\n",
    "        print(\"\\n---------\\n\")\n",
    "        print(\"Score moyen méthode 'MMR' par prompt simple:\")\n",
    "        display( df_evaluations_retrievalQA[( df_evaluations_retrievalQA[\"enhanced_question\"]==False)&\n",
    "                                ( df_evaluations_retrievalQA[\"search_type\"]==\"mmr\")][\"eval_score_llm\"].mean())\n",
    "\n",
    "        print(\"Score moyen méthode 'MMR' par prompt reformulé:\")\n",
    "        display( df_evaluations_retrievalQA[( df_evaluations_retrievalQA[\"enhanced_question\"]==True)&\n",
    "                                ( df_evaluations_retrievalQA[\"search_type\"]==\"mmr\")][\"eval_score_llm\"].mean())\n",
    "\n"
   ]
  },
  {
   "cell_type": "markdown",
   "metadata": {
    "id": "E5m6Omyyx4XW"
   },
   "source": [
    "Résultats LCEL"
   ]
  },
  {
   "cell_type": "code",
   "execution_count": 52,
   "metadata": {},
   "outputs": [
    {
     "name": "stdout",
     "output_type": "stream",
     "text": [
      "Search_type: similarity_score_threshold,\n",
      " DB type: chroma,\n",
      " enhanced prompt: False\n",
      "Score moyen llm eval: 1.4285714285714286\n",
      "\n",
      "-----------\n",
      "\n",
      "Search_type: similarity_score_threshold,\n",
      " DB type: chroma,\n",
      " enhanced prompt: True\n",
      "Score moyen llm eval: 2.0\n",
      "\n",
      "-----------\n",
      "\n",
      "Search_type: similarity_score_threshold,\n",
      " DB type: faiss,\n",
      " enhanced prompt: False\n",
      "Score moyen llm eval: 1.5714285714285714\n",
      "\n",
      "-----------\n",
      "\n",
      "Search_type: similarity_score_threshold,\n",
      " DB type: faiss,\n",
      " enhanced prompt: True\n",
      "Score moyen llm eval: 1.8571428571428572\n",
      "\n",
      "-----------\n",
      "\n",
      "Search_type: mmr,\n",
      " DB type: chroma,\n",
      " enhanced prompt: False\n",
      "Score moyen llm eval: 7.0\n"
     ]
    },
    {
     "data": {
      "text/html": [
       "<div>\n",
       "<style scoped>\n",
       "    .dataframe tbody tr th:only-of-type {\n",
       "        vertical-align: middle;\n",
       "    }\n",
       "\n",
       "    .dataframe tbody tr th {\n",
       "        vertical-align: top;\n",
       "    }\n",
       "\n",
       "    .dataframe thead th {\n",
       "        text-align: right;\n",
       "    }\n",
       "</style>\n",
       "<table border=\"1\" class=\"dataframe\">\n",
       "  <thead>\n",
       "    <tr style=\"text-align: right;\">\n",
       "      <th></th>\n",
       "      <th>question_#</th>\n",
       "      <th>question</th>\n",
       "      <th>reference_answer</th>\n",
       "      <th>rag_answer</th>\n",
       "      <th>rag_sources</th>\n",
       "      <th>eval_score_llm</th>\n",
       "      <th>eval_score_minicheck</th>\n",
       "      <th>enhanced_question</th>\n",
       "      <th>search_type</th>\n",
       "      <th>db_type</th>\n",
       "    </tr>\n",
       "  </thead>\n",
       "  <tbody>\n",
       "    <tr>\n",
       "      <th>28</th>\n",
       "      <td>1</td>\n",
       "      <td>Description of the project</td>\n",
       "      <td>\\n            Brief project description\\n ...</td>\n",
       "      <td>The project is focused on sustainable developm...</td>\n",
       "      <td>[page_content='\\nMain Sustainable Development ...</td>\n",
       "      <td>6</td>\n",
       "      <td>[0.063147634267807]</td>\n",
       "      <td>False</td>\n",
       "      <td>mmr</td>\n",
       "      <td>chroma</td>\n",
       "    </tr>\n",
       "    <tr>\n",
       "      <th>30</th>\n",
       "      <td>2</td>\n",
       "      <td>Country and city</td>\n",
       "      <td>\\n            The location of the project is i...</td>\n",
       "      <td>The country is Indonesia, and the city is Nusa...</td>\n",
       "      <td>[page_content='' metadata={'page': 6, 'source'...</td>\n",
       "      <td>5</td>\n",
       "      <td>[0.0427585132420063]</td>\n",
       "      <td>False</td>\n",
       "      <td>mmr</td>\n",
       "      <td>chroma</td>\n",
       "    </tr>\n",
       "    <tr>\n",
       "      <th>32</th>\n",
       "      <td>3</td>\n",
       "      <td>Target beneficiaries</td>\n",
       "      <td>\\n            Number of direct beneficiaries o...</td>\n",
       "      <td>The target beneficiaries of the pilot project ...</td>\n",
       "      <td>[page_content='\\nFeature 3. Theory of Change\\n...</td>\n",
       "      <td>7</td>\n",
       "      <td>[0.11114823073148727]</td>\n",
       "      <td>False</td>\n",
       "      <td>mmr</td>\n",
       "      <td>chroma</td>\n",
       "    </tr>\n",
       "    <tr>\n",
       "      <th>34</th>\n",
       "      <td>4</td>\n",
       "      <td>Number of people concerned</td>\n",
       "      <td>\\n            Number of direct beneficiaries o...</td>\n",
       "      <td>The number of people concerned, based on the p...</td>\n",
       "      <td>[page_content='\\nList of \\nparticipants\\nMoU D...</td>\n",
       "      <td>7</td>\n",
       "      <td>[0.8117417097091675]</td>\n",
       "      <td>False</td>\n",
       "      <td>mmr</td>\n",
       "      <td>chroma</td>\n",
       "    </tr>\n",
       "    <tr>\n",
       "      <th>36</th>\n",
       "      <td>5</td>\n",
       "      <td>Context, environment, project rationale and ch...</td>\n",
       "      <td>\\n            Context &amp; environment and develo...</td>\n",
       "      <td>The context of the project is set against the ...</td>\n",
       "      <td>[page_content='\\nAnother issue that has also h...</td>\n",
       "      <td>6</td>\n",
       "      <td>[0.03525557741522789]</td>\n",
       "      <td>False</td>\n",
       "      <td>mmr</td>\n",
       "      <td>chroma</td>\n",
       "    </tr>\n",
       "    <tr>\n",
       "      <th>38</th>\n",
       "      <td>6</td>\n",
       "      <td>Project start date / end date</td>\n",
       "      <td>March 2023 – February 2026</td>\n",
       "      <td>The project start date is March 2023, and the ...</td>\n",
       "      <td>[page_content='\\n Identification and mapping ...</td>\n",
       "      <td>10</td>\n",
       "      <td>[0.25516605377197266]</td>\n",
       "      <td>False</td>\n",
       "      <td>mmr</td>\n",
       "      <td>chroma</td>\n",
       "    </tr>\n",
       "    <tr>\n",
       "      <th>40</th>\n",
       "      <td>7</td>\n",
       "      <td>Project budget \\n            Total amount of t...</td>\n",
       "      <td>The total required resources is 818 341 € for ...</td>\n",
       "      <td>The total amount of the project is €818,341. T...</td>\n",
       "      <td>[page_content='\\nMain Sustainable Development ...</td>\n",
       "      <td>8</td>\n",
       "      <td>[0.31312617659568787]</td>\n",
       "      <td>False</td>\n",
       "      <td>mmr</td>\n",
       "      <td>chroma</td>\n",
       "    </tr>\n",
       "  </tbody>\n",
       "</table>\n",
       "</div>"
      ],
      "text/plain": [
       "    question_#                                           question  \\\n",
       "28           1                         Description of the project   \n",
       "30           2                                   Country and city   \n",
       "32           3                               Target beneficiaries   \n",
       "34           4                         Number of people concerned   \n",
       "36           5  Context, environment, project rationale and ch...   \n",
       "38           6                      Project start date / end date   \n",
       "40           7  Project budget \\n            Total amount of t...   \n",
       "\n",
       "                                     reference_answer  \\\n",
       "28      \\n            Brief project description\\n ...   \n",
       "30  \\n            The location of the project is i...   \n",
       "32  \\n            Number of direct beneficiaries o...   \n",
       "34  \\n            Number of direct beneficiaries o...   \n",
       "36  \\n            Context & environment and develo...   \n",
       "38                         March 2023 – February 2026   \n",
       "40  The total required resources is 818 341 € for ...   \n",
       "\n",
       "                                           rag_answer  \\\n",
       "28  The project is focused on sustainable developm...   \n",
       "30  The country is Indonesia, and the city is Nusa...   \n",
       "32  The target beneficiaries of the pilot project ...   \n",
       "34  The number of people concerned, based on the p...   \n",
       "36  The context of the project is set against the ...   \n",
       "38  The project start date is March 2023, and the ...   \n",
       "40  The total amount of the project is €818,341. T...   \n",
       "\n",
       "                                          rag_sources  eval_score_llm  \\\n",
       "28  [page_content='\\nMain Sustainable Development ...               6   \n",
       "30  [page_content='' metadata={'page': 6, 'source'...               5   \n",
       "32  [page_content='\\nFeature 3. Theory of Change\\n...               7   \n",
       "34  [page_content='\\nList of \\nparticipants\\nMoU D...               7   \n",
       "36  [page_content='\\nAnother issue that has also h...               6   \n",
       "38  [page_content='\\n Identification and mapping ...              10   \n",
       "40  [page_content='\\nMain Sustainable Development ...               8   \n",
       "\n",
       "     eval_score_minicheck  enhanced_question search_type db_type  \n",
       "28    [0.063147634267807]              False         mmr  chroma  \n",
       "30   [0.0427585132420063]              False         mmr  chroma  \n",
       "32  [0.11114823073148727]              False         mmr  chroma  \n",
       "34   [0.8117417097091675]              False         mmr  chroma  \n",
       "36  [0.03525557741522789]              False         mmr  chroma  \n",
       "38  [0.25516605377197266]              False         mmr  chroma  \n",
       "40  [0.31312617659568787]              False         mmr  chroma  "
      ]
     },
     "metadata": {},
     "output_type": "display_data"
    },
    {
     "name": "stdout",
     "output_type": "stream",
     "text": [
      "\n",
      "-----------\n",
      "\n",
      "Search_type: mmr,\n",
      " DB type: chroma,\n",
      " enhanced prompt: True\n",
      "Score moyen llm eval: 7.714285714285714\n"
     ]
    },
    {
     "data": {
      "text/html": [
       "<div>\n",
       "<style scoped>\n",
       "    .dataframe tbody tr th:only-of-type {\n",
       "        vertical-align: middle;\n",
       "    }\n",
       "\n",
       "    .dataframe tbody tr th {\n",
       "        vertical-align: top;\n",
       "    }\n",
       "\n",
       "    .dataframe thead th {\n",
       "        text-align: right;\n",
       "    }\n",
       "</style>\n",
       "<table border=\"1\" class=\"dataframe\">\n",
       "  <thead>\n",
       "    <tr style=\"text-align: right;\">\n",
       "      <th></th>\n",
       "      <th>question_#</th>\n",
       "      <th>question</th>\n",
       "      <th>reference_answer</th>\n",
       "      <th>rag_answer</th>\n",
       "      <th>rag_sources</th>\n",
       "      <th>eval_score_llm</th>\n",
       "      <th>eval_score_minicheck</th>\n",
       "      <th>enhanced_question</th>\n",
       "      <th>search_type</th>\n",
       "      <th>db_type</th>\n",
       "    </tr>\n",
       "  </thead>\n",
       "  <tbody>\n",
       "    <tr>\n",
       "      <th>29</th>\n",
       "      <td>1</td>\n",
       "      <td>What is the description of the project?</td>\n",
       "      <td>\\n            Brief project description\\n ...</td>\n",
       "      <td>The project is focused on raising awareness an...</td>\n",
       "      <td>[page_content='\\nMain Sustainable Development ...</td>\n",
       "      <td>6</td>\n",
       "      <td>[0.7461361289024353]</td>\n",
       "      <td>True</td>\n",
       "      <td>mmr</td>\n",
       "      <td>chroma</td>\n",
       "    </tr>\n",
       "    <tr>\n",
       "      <th>31</th>\n",
       "      <td>2</td>\n",
       "      <td>What is the specific country and city where th...</td>\n",
       "      <td>\\n            The location of the project is i...</td>\n",
       "      <td>The project is located in Indonesia, specifica...</td>\n",
       "      <td>[page_content='\\nMain Sustainable Development ...</td>\n",
       "      <td>8</td>\n",
       "      <td>[0.927157461643219]</td>\n",
       "      <td>True</td>\n",
       "      <td>mmr</td>\n",
       "      <td>chroma</td>\n",
       "    </tr>\n",
       "    <tr>\n",
       "      <th>33</th>\n",
       "      <td>3</td>\n",
       "      <td>Who are the target beneficiaries of the project?</td>\n",
       "      <td>\\n            Number of direct beneficiaries o...</td>\n",
       "      <td>The target beneficiaries of the project includ...</td>\n",
       "      <td>[page_content='\\nFeature 3. Theory of Change\\n...</td>\n",
       "      <td>8</td>\n",
       "      <td>[0.8615285754203796]</td>\n",
       "      <td>True</td>\n",
       "      <td>mmr</td>\n",
       "      <td>chroma</td>\n",
       "    </tr>\n",
       "    <tr>\n",
       "      <th>35</th>\n",
       "      <td>4</td>\n",
       "      <td>How many people are impacted by the project?</td>\n",
       "      <td>\\n            Number of direct beneficiaries o...</td>\n",
       "      <td>The project impacts a total of 6,245 people. T...</td>\n",
       "      <td>[page_content='\\nFeature 3. Theory of Change\\n...</td>\n",
       "      <td>8</td>\n",
       "      <td>[0.13911452889442444]</td>\n",
       "      <td>True</td>\n",
       "      <td>mmr</td>\n",
       "      <td>chroma</td>\n",
       "    </tr>\n",
       "    <tr>\n",
       "      <th>37</th>\n",
       "      <td>5</td>\n",
       "      <td>What are the context, environment, rationale, ...</td>\n",
       "      <td>\\n            Context &amp; environment and develo...</td>\n",
       "      <td>The context of the project is significantly in...</td>\n",
       "      <td>[page_content='\\nAnother issue that has also h...</td>\n",
       "      <td>6</td>\n",
       "      <td>[0.969774067401886]</td>\n",
       "      <td>True</td>\n",
       "      <td>mmr</td>\n",
       "      <td>chroma</td>\n",
       "    </tr>\n",
       "    <tr>\n",
       "      <th>39</th>\n",
       "      <td>6</td>\n",
       "      <td>What are the start and end dates of the project?</td>\n",
       "      <td>March 2023 – February 2026</td>\n",
       "      <td>The project starts in March 2023 and ends in F...</td>\n",
       "      <td>[page_content='\\nMain Sustainable Development ...</td>\n",
       "      <td>10</td>\n",
       "      <td>[0.7474793791770935]</td>\n",
       "      <td>True</td>\n",
       "      <td>mmr</td>\n",
       "      <td>chroma</td>\n",
       "    </tr>\n",
       "    <tr>\n",
       "      <th>41</th>\n",
       "      <td>7</td>\n",
       "      <td>What is the total project budget in Euros, inc...</td>\n",
       "      <td>The total required resources is 818 341 € for ...</td>\n",
       "      <td>The total project budget for the period from 2...</td>\n",
       "      <td>[page_content='\\nMain Sustainable Development ...</td>\n",
       "      <td>8</td>\n",
       "      <td>[0.345091313123703]</td>\n",
       "      <td>True</td>\n",
       "      <td>mmr</td>\n",
       "      <td>chroma</td>\n",
       "    </tr>\n",
       "  </tbody>\n",
       "</table>\n",
       "</div>"
      ],
      "text/plain": [
       "    question_#                                           question  \\\n",
       "29           1            What is the description of the project?   \n",
       "31           2  What is the specific country and city where th...   \n",
       "33           3   Who are the target beneficiaries of the project?   \n",
       "35           4       How many people are impacted by the project?   \n",
       "37           5  What are the context, environment, rationale, ...   \n",
       "39           6   What are the start and end dates of the project?   \n",
       "41           7  What is the total project budget in Euros, inc...   \n",
       "\n",
       "                                     reference_answer  \\\n",
       "29      \\n            Brief project description\\n ...   \n",
       "31  \\n            The location of the project is i...   \n",
       "33  \\n            Number of direct beneficiaries o...   \n",
       "35  \\n            Number of direct beneficiaries o...   \n",
       "37  \\n            Context & environment and develo...   \n",
       "39                         March 2023 – February 2026   \n",
       "41  The total required resources is 818 341 € for ...   \n",
       "\n",
       "                                           rag_answer  \\\n",
       "29  The project is focused on raising awareness an...   \n",
       "31  The project is located in Indonesia, specifica...   \n",
       "33  The target beneficiaries of the project includ...   \n",
       "35  The project impacts a total of 6,245 people. T...   \n",
       "37  The context of the project is significantly in...   \n",
       "39  The project starts in March 2023 and ends in F...   \n",
       "41  The total project budget for the period from 2...   \n",
       "\n",
       "                                          rag_sources  eval_score_llm  \\\n",
       "29  [page_content='\\nMain Sustainable Development ...               6   \n",
       "31  [page_content='\\nMain Sustainable Development ...               8   \n",
       "33  [page_content='\\nFeature 3. Theory of Change\\n...               8   \n",
       "35  [page_content='\\nFeature 3. Theory of Change\\n...               8   \n",
       "37  [page_content='\\nAnother issue that has also h...               6   \n",
       "39  [page_content='\\nMain Sustainable Development ...              10   \n",
       "41  [page_content='\\nMain Sustainable Development ...               8   \n",
       "\n",
       "     eval_score_minicheck  enhanced_question search_type db_type  \n",
       "29   [0.7461361289024353]               True         mmr  chroma  \n",
       "31    [0.927157461643219]               True         mmr  chroma  \n",
       "33   [0.8615285754203796]               True         mmr  chroma  \n",
       "35  [0.13911452889442444]               True         mmr  chroma  \n",
       "37    [0.969774067401886]               True         mmr  chroma  \n",
       "39   [0.7474793791770935]               True         mmr  chroma  \n",
       "41    [0.345091313123703]               True         mmr  chroma  "
      ]
     },
     "metadata": {},
     "output_type": "display_data"
    },
    {
     "name": "stdout",
     "output_type": "stream",
     "text": [
      "\n",
      "-----------\n",
      "\n",
      "Search_type: mmr,\n",
      " DB type: faiss,\n",
      " enhanced prompt: False\n",
      "Score moyen llm eval: 7.571428571428571\n"
     ]
    },
    {
     "data": {
      "text/html": [
       "<div>\n",
       "<style scoped>\n",
       "    .dataframe tbody tr th:only-of-type {\n",
       "        vertical-align: middle;\n",
       "    }\n",
       "\n",
       "    .dataframe tbody tr th {\n",
       "        vertical-align: top;\n",
       "    }\n",
       "\n",
       "    .dataframe thead th {\n",
       "        text-align: right;\n",
       "    }\n",
       "</style>\n",
       "<table border=\"1\" class=\"dataframe\">\n",
       "  <thead>\n",
       "    <tr style=\"text-align: right;\">\n",
       "      <th></th>\n",
       "      <th>question_#</th>\n",
       "      <th>question</th>\n",
       "      <th>reference_answer</th>\n",
       "      <th>rag_answer</th>\n",
       "      <th>rag_sources</th>\n",
       "      <th>eval_score_llm</th>\n",
       "      <th>eval_score_minicheck</th>\n",
       "      <th>enhanced_question</th>\n",
       "      <th>search_type</th>\n",
       "      <th>db_type</th>\n",
       "    </tr>\n",
       "  </thead>\n",
       "  <tbody>\n",
       "    <tr>\n",
       "      <th>42</th>\n",
       "      <td>1</td>\n",
       "      <td>Description of the project</td>\n",
       "      <td>\\n            Brief project description\\n ...</td>\n",
       "      <td>The project is focused on sustainable developm...</td>\n",
       "      <td>[page_content='\\nMain Sustainable Development ...</td>\n",
       "      <td>6</td>\n",
       "      <td>[0.027476046234369278]</td>\n",
       "      <td>False</td>\n",
       "      <td>mmr</td>\n",
       "      <td>faiss</td>\n",
       "    </tr>\n",
       "    <tr>\n",
       "      <th>44</th>\n",
       "      <td>2</td>\n",
       "      <td>Country and city</td>\n",
       "      <td>\\n            The location of the project is i...</td>\n",
       "      <td>The country is Indonesia, and the city related...</td>\n",
       "      <td>[page_content='' metadata={'source': './data/P...</td>\n",
       "      <td>7</td>\n",
       "      <td>[0.03515425696969032]</td>\n",
       "      <td>False</td>\n",
       "      <td>mmr</td>\n",
       "      <td>faiss</td>\n",
       "    </tr>\n",
       "    <tr>\n",
       "      <th>46</th>\n",
       "      <td>3</td>\n",
       "      <td>Target beneficiaries</td>\n",
       "      <td>\\n            Number of direct beneficiaries o...</td>\n",
       "      <td>The target beneficiaries of the pilot project ...</td>\n",
       "      <td>[page_content='\\nFeature 3. Theory of Change\\n...</td>\n",
       "      <td>7</td>\n",
       "      <td>[0.1638336330652237]</td>\n",
       "      <td>False</td>\n",
       "      <td>mmr</td>\n",
       "      <td>faiss</td>\n",
       "    </tr>\n",
       "    <tr>\n",
       "      <th>48</th>\n",
       "      <td>4</td>\n",
       "      <td>Number of people concerned</td>\n",
       "      <td>\\n            Number of direct beneficiaries o...</td>\n",
       "      <td>The number of direct beneficiaries of the pilo...</td>\n",
       "      <td>[page_content='\\nList of \\nparticipants\\nMoU D...</td>\n",
       "      <td>9</td>\n",
       "      <td>[0.1603330671787262]</td>\n",
       "      <td>False</td>\n",
       "      <td>mmr</td>\n",
       "      <td>faiss</td>\n",
       "    </tr>\n",
       "    <tr>\n",
       "      <th>50</th>\n",
       "      <td>5</td>\n",
       "      <td>Context, environment, project rationale and ch...</td>\n",
       "      <td>\\n            Context &amp; environment and develo...</td>\n",
       "      <td>The context outlines a project aimed at restor...</td>\n",
       "      <td>[page_content='\\nAnother issue that has also h...</td>\n",
       "      <td>7</td>\n",
       "      <td>[0.9523455500602722]</td>\n",
       "      <td>False</td>\n",
       "      <td>mmr</td>\n",
       "      <td>faiss</td>\n",
       "    </tr>\n",
       "    <tr>\n",
       "      <th>52</th>\n",
       "      <td>6</td>\n",
       "      <td>Project start date / end date</td>\n",
       "      <td>March 2023 – February 2026</td>\n",
       "      <td>The project start date is March 2023, and the ...</td>\n",
       "      <td>[page_content='\\n Identification and mapping ...</td>\n",
       "      <td>10</td>\n",
       "      <td>[0.25516605377197266]</td>\n",
       "      <td>False</td>\n",
       "      <td>mmr</td>\n",
       "      <td>faiss</td>\n",
       "    </tr>\n",
       "    <tr>\n",
       "      <th>54</th>\n",
       "      <td>7</td>\n",
       "      <td>Project budget \\n            Total amount of t...</td>\n",
       "      <td>The total required resources is 818 341 € for ...</td>\n",
       "      <td>- **Total amount of the project (in Euros):** ...</td>\n",
       "      <td>[page_content='\\nMain Sustainable Development ...</td>\n",
       "      <td>7</td>\n",
       "      <td>[0.4989793300628662]</td>\n",
       "      <td>False</td>\n",
       "      <td>mmr</td>\n",
       "      <td>faiss</td>\n",
       "    </tr>\n",
       "  </tbody>\n",
       "</table>\n",
       "</div>"
      ],
      "text/plain": [
       "    question_#                                           question  \\\n",
       "42           1                         Description of the project   \n",
       "44           2                                   Country and city   \n",
       "46           3                               Target beneficiaries   \n",
       "48           4                         Number of people concerned   \n",
       "50           5  Context, environment, project rationale and ch...   \n",
       "52           6                      Project start date / end date   \n",
       "54           7  Project budget \\n            Total amount of t...   \n",
       "\n",
       "                                     reference_answer  \\\n",
       "42      \\n            Brief project description\\n ...   \n",
       "44  \\n            The location of the project is i...   \n",
       "46  \\n            Number of direct beneficiaries o...   \n",
       "48  \\n            Number of direct beneficiaries o...   \n",
       "50  \\n            Context & environment and develo...   \n",
       "52                         March 2023 – February 2026   \n",
       "54  The total required resources is 818 341 € for ...   \n",
       "\n",
       "                                           rag_answer  \\\n",
       "42  The project is focused on sustainable developm...   \n",
       "44  The country is Indonesia, and the city related...   \n",
       "46  The target beneficiaries of the pilot project ...   \n",
       "48  The number of direct beneficiaries of the pilo...   \n",
       "50  The context outlines a project aimed at restor...   \n",
       "52  The project start date is March 2023, and the ...   \n",
       "54  - **Total amount of the project (in Euros):** ...   \n",
       "\n",
       "                                          rag_sources  eval_score_llm  \\\n",
       "42  [page_content='\\nMain Sustainable Development ...               6   \n",
       "44  [page_content='' metadata={'source': './data/P...               7   \n",
       "46  [page_content='\\nFeature 3. Theory of Change\\n...               7   \n",
       "48  [page_content='\\nList of \\nparticipants\\nMoU D...               9   \n",
       "50  [page_content='\\nAnother issue that has also h...               7   \n",
       "52  [page_content='\\n Identification and mapping ...              10   \n",
       "54  [page_content='\\nMain Sustainable Development ...               7   \n",
       "\n",
       "      eval_score_minicheck  enhanced_question search_type db_type  \n",
       "42  [0.027476046234369278]              False         mmr   faiss  \n",
       "44   [0.03515425696969032]              False         mmr   faiss  \n",
       "46    [0.1638336330652237]              False         mmr   faiss  \n",
       "48    [0.1603330671787262]              False         mmr   faiss  \n",
       "50    [0.9523455500602722]              False         mmr   faiss  \n",
       "52   [0.25516605377197266]              False         mmr   faiss  \n",
       "54    [0.4989793300628662]              False         mmr   faiss  "
      ]
     },
     "metadata": {},
     "output_type": "display_data"
    },
    {
     "name": "stdout",
     "output_type": "stream",
     "text": [
      "\n",
      "-----------\n",
      "\n",
      "Search_type: mmr,\n",
      " DB type: faiss,\n",
      " enhanced prompt: True\n",
      "Score moyen llm eval: 8.142857142857142\n"
     ]
    },
    {
     "data": {
      "text/html": [
       "<div>\n",
       "<style scoped>\n",
       "    .dataframe tbody tr th:only-of-type {\n",
       "        vertical-align: middle;\n",
       "    }\n",
       "\n",
       "    .dataframe tbody tr th {\n",
       "        vertical-align: top;\n",
       "    }\n",
       "\n",
       "    .dataframe thead th {\n",
       "        text-align: right;\n",
       "    }\n",
       "</style>\n",
       "<table border=\"1\" class=\"dataframe\">\n",
       "  <thead>\n",
       "    <tr style=\"text-align: right;\">\n",
       "      <th></th>\n",
       "      <th>question_#</th>\n",
       "      <th>question</th>\n",
       "      <th>reference_answer</th>\n",
       "      <th>rag_answer</th>\n",
       "      <th>rag_sources</th>\n",
       "      <th>eval_score_llm</th>\n",
       "      <th>eval_score_minicheck</th>\n",
       "      <th>enhanced_question</th>\n",
       "      <th>search_type</th>\n",
       "      <th>db_type</th>\n",
       "    </tr>\n",
       "  </thead>\n",
       "  <tbody>\n",
       "    <tr>\n",
       "      <th>43</th>\n",
       "      <td>1</td>\n",
       "      <td>What is the description of the project?</td>\n",
       "      <td>\\n            Brief project description\\n ...</td>\n",
       "      <td>The project is focused on sustainable developm...</td>\n",
       "      <td>[page_content='\\nMain Sustainable Development ...</td>\n",
       "      <td>7</td>\n",
       "      <td>[0.020879501476883888]</td>\n",
       "      <td>True</td>\n",
       "      <td>mmr</td>\n",
       "      <td>faiss</td>\n",
       "    </tr>\n",
       "    <tr>\n",
       "      <th>45</th>\n",
       "      <td>2</td>\n",
       "      <td>What is the specific country and city where th...</td>\n",
       "      <td>\\n            The location of the project is i...</td>\n",
       "      <td>The project is located in Indonesia, specifica...</td>\n",
       "      <td>[page_content='\\nMain Sustainable Development ...</td>\n",
       "      <td>8</td>\n",
       "      <td>[0.927157461643219]</td>\n",
       "      <td>True</td>\n",
       "      <td>mmr</td>\n",
       "      <td>faiss</td>\n",
       "    </tr>\n",
       "    <tr>\n",
       "      <th>47</th>\n",
       "      <td>3</td>\n",
       "      <td>Who are the target beneficiaries of the project?</td>\n",
       "      <td>\\n            Number of direct beneficiaries o...</td>\n",
       "      <td>The target beneficiaries of the project includ...</td>\n",
       "      <td>[page_content='\\nFeature 3. Theory of Change\\n...</td>\n",
       "      <td>9</td>\n",
       "      <td>[0.5990713238716125]</td>\n",
       "      <td>True</td>\n",
       "      <td>mmr</td>\n",
       "      <td>faiss</td>\n",
       "    </tr>\n",
       "    <tr>\n",
       "      <th>49</th>\n",
       "      <td>4</td>\n",
       "      <td>How many people are impacted by the project?</td>\n",
       "      <td>\\n            Number of direct beneficiaries o...</td>\n",
       "      <td>The project directly benefits 3,245 people, wi...</td>\n",
       "      <td>[page_content='\\nFeature 3. Theory of Change\\n...</td>\n",
       "      <td>8</td>\n",
       "      <td>[0.15475529432296753]</td>\n",
       "      <td>True</td>\n",
       "      <td>mmr</td>\n",
       "      <td>faiss</td>\n",
       "    </tr>\n",
       "    <tr>\n",
       "      <th>51</th>\n",
       "      <td>5</td>\n",
       "      <td>What is the context, environment, rationale, a...</td>\n",
       "      <td>\\n            Context &amp; environment and develo...</td>\n",
       "      <td>The project is set in the context of East Kali...</td>\n",
       "      <td>[page_content='\\nAnother issue that has also h...</td>\n",
       "      <td>7</td>\n",
       "      <td>[0.4610614478588104]</td>\n",
       "      <td>True</td>\n",
       "      <td>mmr</td>\n",
       "      <td>faiss</td>\n",
       "    </tr>\n",
       "    <tr>\n",
       "      <th>53</th>\n",
       "      <td>6</td>\n",
       "      <td>What are the start and end dates of the project?</td>\n",
       "      <td>March 2023 – February 2026</td>\n",
       "      <td>The project starts in March 2023 and ends in F...</td>\n",
       "      <td>[page_content='\\nMain Sustainable Development ...</td>\n",
       "      <td>10</td>\n",
       "      <td>[0.7474793791770935]</td>\n",
       "      <td>True</td>\n",
       "      <td>mmr</td>\n",
       "      <td>faiss</td>\n",
       "    </tr>\n",
       "    <tr>\n",
       "      <th>55</th>\n",
       "      <td>7</td>\n",
       "      <td>What is the total project budget in Euros, inc...</td>\n",
       "      <td>The total required resources is 818 341 € for ...</td>\n",
       "      <td>The total project budget is €818,341 for the d...</td>\n",
       "      <td>[page_content='\\nMain Sustainable Development ...</td>\n",
       "      <td>8</td>\n",
       "      <td>[0.14075498282909393]</td>\n",
       "      <td>True</td>\n",
       "      <td>mmr</td>\n",
       "      <td>faiss</td>\n",
       "    </tr>\n",
       "  </tbody>\n",
       "</table>\n",
       "</div>"
      ],
      "text/plain": [
       "    question_#                                           question  \\\n",
       "43           1            What is the description of the project?   \n",
       "45           2  What is the specific country and city where th...   \n",
       "47           3   Who are the target beneficiaries of the project?   \n",
       "49           4       How many people are impacted by the project?   \n",
       "51           5  What is the context, environment, rationale, a...   \n",
       "53           6   What are the start and end dates of the project?   \n",
       "55           7  What is the total project budget in Euros, inc...   \n",
       "\n",
       "                                     reference_answer  \\\n",
       "43      \\n            Brief project description\\n ...   \n",
       "45  \\n            The location of the project is i...   \n",
       "47  \\n            Number of direct beneficiaries o...   \n",
       "49  \\n            Number of direct beneficiaries o...   \n",
       "51  \\n            Context & environment and develo...   \n",
       "53                         March 2023 – February 2026   \n",
       "55  The total required resources is 818 341 € for ...   \n",
       "\n",
       "                                           rag_answer  \\\n",
       "43  The project is focused on sustainable developm...   \n",
       "45  The project is located in Indonesia, specifica...   \n",
       "47  The target beneficiaries of the project includ...   \n",
       "49  The project directly benefits 3,245 people, wi...   \n",
       "51  The project is set in the context of East Kali...   \n",
       "53  The project starts in March 2023 and ends in F...   \n",
       "55  The total project budget is €818,341 for the d...   \n",
       "\n",
       "                                          rag_sources  eval_score_llm  \\\n",
       "43  [page_content='\\nMain Sustainable Development ...               7   \n",
       "45  [page_content='\\nMain Sustainable Development ...               8   \n",
       "47  [page_content='\\nFeature 3. Theory of Change\\n...               9   \n",
       "49  [page_content='\\nFeature 3. Theory of Change\\n...               8   \n",
       "51  [page_content='\\nAnother issue that has also h...               7   \n",
       "53  [page_content='\\nMain Sustainable Development ...              10   \n",
       "55  [page_content='\\nMain Sustainable Development ...               8   \n",
       "\n",
       "      eval_score_minicheck  enhanced_question search_type db_type  \n",
       "43  [0.020879501476883888]               True         mmr   faiss  \n",
       "45     [0.927157461643219]               True         mmr   faiss  \n",
       "47    [0.5990713238716125]               True         mmr   faiss  \n",
       "49   [0.15475529432296753]               True         mmr   faiss  \n",
       "51    [0.4610614478588104]               True         mmr   faiss  \n",
       "53    [0.7474793791770935]               True         mmr   faiss  \n",
       "55   [0.14075498282909393]               True         mmr   faiss  "
      ]
     },
     "metadata": {},
     "output_type": "display_data"
    },
    {
     "name": "stdout",
     "output_type": "stream",
     "text": [
      "\n",
      "-----------\n",
      "\n"
     ]
    }
   ],
   "source": [
    "import pandas as pd\n",
    "\n",
    "enhanced_question=[False, True]\n",
    "params=list(product(search_types, db_types, enhanced_question))\n",
    "\n",
    "df_evaluations_lecel=pd.DataFrame(evaluations_lcel)\n",
    "best_params=[]\n",
    "\n",
    "for search_type, db_type, enhanced_question in params:\n",
    "    print(f\"Search_type: {search_type},\\n DB type: {db_type},\\n enhanced prompt: {enhanced_question}\")\n",
    "    \n",
    "    _df=df_evaluations_lecel[(df_evaluations_lecel[\"search_type\"]==search_type)&\n",
    "        (df_evaluations_lecel[\"db_type\"]==db_type)&\n",
    "        (df_evaluations_lecel[\"enhanced_question\"]==enhanced_question)]\n",
    "    \n",
    "    eval_score_llm=_df[\"eval_score_llm\"].mean()\n",
    "    print(f\"Score moyen llm eval: {eval_score_llm}\")\n",
    "    if eval_score_llm>=5:\n",
    "        display(_df)\n",
    "\n",
    "    best_params.append((search_type, db_type, enhanced_question, eval_score_llm))\n",
    "    print('\\n-----------\\n')\n",
    "\n"
   ]
  },
  {
   "cell_type": "code",
   "execution_count": 67,
   "metadata": {
    "id": "UGvU96MuyAej"
   },
   "outputs": [
    {
     "data": {
      "text/plain": [
       "array(['mmr', 'faiss', True, 8.142857142857142], dtype=object)"
      ]
     },
     "metadata": {},
     "output_type": "display_data"
    }
   ],
   "source": [
    "_best_params= pd.DataFrame(best_params).sort_values(by=3, ascending=False).head(1).values[0]\n",
    "display(_best_params)\n",
    "df_evaluations_lecel[\n",
    "    (df_evaluations_lecel[\"search_type\"]==_best_params[0])&\n",
    "    (df_evaluations_lecel[\"db_type\"]==_best_params[1])&\n",
    "    (df_evaluations_lecel[\"enhanced_question\"]==_best_params[2])\n",
    "].to_csv(\"./rag-mahakam-best-params.csv\", index=False)\n"
   ]
  },
  {
   "cell_type": "code",
   "execution_count": 70,
   "metadata": {},
   "outputs": [
    {
     "data": {
      "text/html": [
       "<div>\n",
       "<style scoped>\n",
       "    .dataframe tbody tr th:only-of-type {\n",
       "        vertical-align: middle;\n",
       "    }\n",
       "\n",
       "    .dataframe tbody tr th {\n",
       "        vertical-align: top;\n",
       "    }\n",
       "\n",
       "    .dataframe thead th {\n",
       "        text-align: right;\n",
       "    }\n",
       "</style>\n",
       "<table border=\"1\" class=\"dataframe\">\n",
       "  <thead>\n",
       "    <tr style=\"text-align: right;\">\n",
       "      <th>enhanced_question</th>\n",
       "      <th>False</th>\n",
       "      <th>True</th>\n",
       "    </tr>\n",
       "    <tr>\n",
       "      <th>db_type</th>\n",
       "      <th></th>\n",
       "      <th></th>\n",
       "    </tr>\n",
       "  </thead>\n",
       "  <tbody>\n",
       "    <tr>\n",
       "      <th>chroma</th>\n",
       "      <td>7.00</td>\n",
       "      <td>7.71</td>\n",
       "    </tr>\n",
       "    <tr>\n",
       "      <th>faiss</th>\n",
       "      <td>7.57</td>\n",
       "      <td>8.14</td>\n",
       "    </tr>\n",
       "  </tbody>\n",
       "</table>\n",
       "</div>"
      ],
      "text/plain": [
       "enhanced_question  False  True \n",
       "db_type                        \n",
       "chroma              7.00   7.71\n",
       "faiss               7.57   8.14"
      ]
     },
     "execution_count": 70,
     "metadata": {},
     "output_type": "execute_result"
    }
   ],
   "source": [
    "pd.pivot_table(\n",
    "    df_evaluations_lecel[df_evaluations_lecel[\"search_type\"]==\"mmr\"],\n",
    "    values=\"eval_score_llm\",\n",
    "    index=\"db_type\",\n",
    "    columns=\"enhanced_question\",\n",
    "    aggfunc=\"mean\" \n",
    ").round(2)"
   ]
  },
  {
   "cell_type": "code",
   "execution_count": 74,
   "metadata": {},
   "outputs": [
    {
     "name": "stdout",
     "output_type": "stream",
     "text": [
      "Question:\n",
      " What is the total project budget in Euros, including the amount requested from the Foundation, the detailed provisional budget, and the budget for the current year?\n",
      "\n",
      "------\n",
      "reference_answer:\n",
      " The total required resources is 818 341 € for the period 2023-2026\n",
      "\n",
      "---------\n",
      "rag_answer:\n",
      "The total project budget is €818,341 for the duration of the project from March 2023 to February 2026. The context does not specify the amount requested from the Foundation or provide a detailed provisional budget or the budget for the current year (2023). Therefore, I cannot provide that information.\n",
      "\n",
      "---------\n",
      "Retrieved docs:\n",
      "[Document(metadata={'source': './data/PROJECT DOCUMENT MAHAKAM 2023-2025_balise.pdf', 'page': 3}, page_content='\\nMain Sustainable Development Goals (SDGs) to which the\\nproject contributes\\n\\u202f\\u202f\\u202f\\u202f  \\n \\u202f\\u202f\\u202f\\u202f \\n \\u202f\\u202f\\u202f\\u202f \\n \\u202f\\u202f\\u202f\\u202f \\n \\xa0\\u202f\\u202f\\u202f\\u202f  \\u202f\\u202f\\u202f\\u202f\\nMain SDG targets and indicators to which the project contributes: \\n\\uf0b7 12.8. By  2030,  ensure  that  people  everywhere  have  the  relevant\\ninformation  and awareness  for  sustainable  development and lifestyles  in\\nharmony with nature.  \\n\\uf0b7 13.1. Strengthen resilience and adaptive capacity to climate-related\\nhazards and natural disasters in all countries.  \\n\\uf0b7 13.3. Improve education, awareness-raising, human, and institutional\\ncapacity on climate  change  mitigation,  adaptation,  impact reduction and\\nearly warning.  \\n\\uf0b7 14.2. Sustainably manage and protect marine and coastal ecosystems\\nto  avoid  significant  adverse  impacts,  including  by  strengthening  their\\nresilience, and take action for their restoration in order to achieve healthy\\nand productive oceans.  \\n\\uf0b7 14.  B. Provide  access  for  small-scale  artisanal  fishers  to  marine\\nresources and markets.  \\n\\uf0b7 15.5. Take urgent and significant action to reduce the degradation of\\nnatural  habitats,  halt  the  loss  of  biodiversity,  protect  and  prevent  the\\nextinction of threatened species. \\nTable 0 *\\nProject duration 3 years (March 2023 – February 2026)\\nBudget & funding\\nTotal required \\nresources (€)\\n2023-2026\\n818\\xa0341 € // 903\\xa0613 USD\\nAuthor(s) YML, POKJA, Yayasan Planete Urgensi Indonesia,\\nPlanète Urgence\\nApproval by partners Planète\\nUrgence/Yayasan\\nPlanet Urgensi\\nIndonesia\\nName: Réonaldus\\nTitle:  Indonesia  National\\nDelegate\\nYML Name: Achmad Nuriyawan \\nTitle: Director\\nPOKJA Name: Hamsuri'), Document(metadata={'source': './data/PROJECT DOCUMENT MAHAKAM 2023-2025_balise.pdf', 'page': 52}, page_content='project’s activities can be made against the business-as-usual scenario providing clarity on how the project can and\\nwill influence emissions reductions over time. \\nThe protocol developed by Planete Urgence adopts the baseline scenario and additionality tests based on the Verified\\nCarbon Standard (VCS) and Clean Development Mechanism (CDM)’s Afforestation/Reforestation methodological tools.\\nIt involves :'), Document(metadata={'source': './data/PROJECT DOCUMENT MAHAKAM 2023-2025_balise.pdf', 'page': 55}, page_content='\\nHuman resources – Planète Urgence\\nHuman resources – Implementing partners\\nManagement actions – Planète Urgence\\n(including meetings, missions, coordination workshops, \\nmonitoring and evaluations, quality assurance, reporting, \\ncommunication, etc.)\\nManagement actions – Implementing partner \\n(including meetings, missions, coordination workshops, \\nmonitoring and evaluations, quality assurance, reporting, \\ncommunication, etc.)\\nCapacity building of project management staff (Planète Urgence \\nand implementing partners)\\nMid-term assessment (as appropriate)\\nTerminal and final assessment (as appropriate)\\nAudit(s) (as appropriate)\\n</table>'), Document(metadata={'source': './data/PROJECT DOCUMENT MAHAKAM 2023-2025_balise.pdf', 'page': 48}, page_content='\\nList of \\nparticipants\\nMoU Document\\nNumber of local \\ncommunities reached by \\nwaste management \\ncampaign\\nDocumentation \\nactivity\\nActivity Report \\nList of \\nparticipants\\n0 2022 100\\npersons\\na. 100\\nperson\\n b. 20\\nUser\\nAccount\\nYoutube\\n100\\nperson\\ns\\na. 200\\npersons\\n b. 20\\nUser\\nYoutub\\ne\\nAccount\\nNumber of Billboard for \\nenvironmental campaign \\nDocumentation\\nPlot location in \\nthe map\\n2 2022 0 2 0 2\\nNumber of Book \\npublication on best \\npractices related to \\nmicrofinance & nurseries \\nmaintenance \\nBook Publication\\nActivity Report \\n1 2022 1 book\\n 30\\ncopies\\n1 book\\n 30\\ncopies\\n2 books\\n 60\\nCopies\\nNumber of pepople \\nreached in Public \\nAwareness campaign \\nthrough media \\n(online/offline)\\nDocumentation \\nactivity\\nActivity Report\\nMedia coverage\\n1000\\nindirect\\n2022 50\\nDirect\\n 300\\nIndirect\\n50\\nDirect\\n 300\\nIndirect\\n50\\nDirect\\n 300\\nIndirec\\nt\\n150\\nDirect\\n 900\\nIndirect\\nNumber of Journalist Trip Media coverages \\n(offline/online)\\n10 2022 5 media\\ncoverag\\nes\\n5 media\\ncoverag\\nes\\n5\\nmedia\\ncovera\\nges\\n15\\nmedia\\ncoverag\\nes'), Document(metadata={'source': './data/PROJECT DOCUMENT MAHAKAM 2023-2025_balise.pdf', 'page': 18}, page_content='\\nFeature 3. Theory of Change\\n4. Beneficiaries\\nNumber of direct beneficiaries of the pilot project: 3245 people with the\\nproportion of 30% women and 70% men. \\nNumber of indirect beneficiaries: 3000 people by assuming at least the\\nproject will give benefit indirectly to 1500 people per location including in\\nEast Kalimantan and Indonesia.\\nThe target groups include: \\n- School children (primary schools and secondary schools)\\n- Teachers (primary school teachers)'), Document(metadata={'source': './data/PROJECT DOCUMENT MAHAKAM 2023-2025_balise.pdf', 'page': 45}, page_content='of all  actors  involved  in  mangrove  conservation  efforts  in the  area. The\\nindependence in this case includes the ability to self-financing conservation\\nactivities through local economic institutions that are professional to manage\\nsustainable  productive  businesses.  Therefore,  during  the  project  and\\nparticularly in the end of project, PU and implementing partners will identify\\nand distribute the preliminary achievement and lesson learn of the project to\\nthe potential donor.\\nRaising awareness component: \\n\\uf0b7 Encouraging participation of public particularly change makers in the\\ncommunity with a collaborative work with education institutions and mass\\nmedia.\\n\\uf0b7 Advocate  and  ensure  education  and  awareness  on  mangrove\\nconservation is adopted in school curricula and understood by education\\nauthorities and mass media program. \\n\\uf0b7 Develop materials of education and awareness campaign on mangrove\\nconservation  (education  curricula,  education  books  and  other  mangrove\\neducation tools).\\nMangrove rehabilitation component: \\n\\uf0b7 Developing village and community owned nursery to provide seedlings\\nfor restoring target area.'), Document(metadata={'source': './data/PROJECT DOCUMENT MAHAKAM 2023-2025_balise.pdf', 'page': 47}, page_content='\\n<table>\\n11. Results framework\\nEXPECTED RESULTS PERFORMANCE\\nINDICATORS\\nSOURCE OF\\nVERIFICATION\\nBaseline Target Final\\nValue Year 2023 2024 2025\\nOutput 1: Raising the \\nawareness of \\nstakeholders to \\nconserve the \\nEnvironment and \\nbiodiversity in Delta \\nMahakam & Teluk \\nAdang sustainably.\\nNumber of teachers (F/M) \\ntrained \\nDocumentation \\nactivity\\nActivity Report \\nList of \\nparticipants\\n50 2022 50 50 50 150\\nNumber of volunteers \\ninvolved in school \\ncampaign \\nDocumentation \\nactivity\\nActivity Report \\nList of volunteers\\n0 2022 6 6 6 18\\nNumber of schools \\nreached by the \\nawareness campaign \\nDocumentation \\nactivity\\nActivity Report \\nList of \\nparticipants\\n4 2022 4 3 5 6\\nNumber of students \\ninvolved in campaign\\nDocumentation \\nactivity\\nActivity Report \\nList of \\nparticipants\\n200 2022 400 250 400 1050\\nNumber of schools \\nassisted in Adiwiyata \\nprogram \\nDocumentation \\nactivity\\nActivity Report \\n0 2022 1 1 2 4'), Document(metadata={'source': './data/PROJECT DOCUMENT MAHAKAM 2023-2025_balise.pdf', 'page': 52}, page_content='\\ne.Field monitoring six times in a year.\\nf. Internal evaluation at the end of project\\nIn addition, the project includes a third party evaluation during year 3 for final evaluation of the project’s activities\\nand conduction of the climate philanthropy methodology.\\nThe final evaluation will be conducted via remote evaluation and onsite visit of the project.\\nIt will include at minimum :\\n\\uf0b7 An inventory of the activities that have taken place in relation to the project plan (including planting activities,\\nincreased livelihoods and environmental awareness)\\n\\uf0b7 Review of carbon  sequestration  calculations  and monitoring  protocols,  based on the  climate  philanthropy\\nmethodology  developed  by  Planète  Urgence  (zone  boundaries,  baseline  scenario,  demonstration  of\\nadditionality, ex-ante carbon calculation, and first ex-post measures on year 3 linked with survival rate)\\n\\uf0b7 Review of project, monitoring and activity reports\\n\\uf0b7 Redaction of the audit report\\nCompletion  of  baseline  and  proof  of  additionality,  accompanied  by  EX-ANTE  calculation  of  GHG\\nemissions/sequestrations\\nAccording with Planete Urgence’s methodology on Climate Philanthropy, the project will monitor carbon sequestration\\nimpacts.\\nTo do so, Planète Urgence team will develop a baseline scenario illustrating the activities and greenhouse gas (GHG)\\nemissions that would occur in the absence of a project’s activity. Developing this baseline will be the foundation of\\nmeasuring the project’s emissions reductions or removals; it will set the benchmark by which a comparison of the\\nproject’s activities can be made against the business-as-usual scenario providing clarity on how the project can and\\nwill influence emissions reductions over time. \\nThe protocol developed by Planete Urgence adopts the baseline scenario and additionality tests based on the Verified\\nCarbon Standard (VCS) and Clean Development Mechanism (CDM)’s Afforestation/Reforestation methodological tools.')]\n"
     ]
    }
   ],
   "source": [
    "import textwrap\n",
    "num_question=7\n",
    "search_type=\"mmr\"\n",
    "db_type=\"faiss\"\n",
    "\n",
    "row=df_evaluations_lecel[(df_evaluations_lecel[\"enhanced_question\"]==True)&\n",
    "                            (df_evaluations_lecel[\"search_type\"]==search_type)&\n",
    "                            (df_evaluations_lecel[\"db_type\"]==db_type)&\n",
    "                            (df_evaluations_lecel[\"question_#\"]==num_question)]\n",
    "\n",
    "\n",
    "\n",
    "fragments=row[\"rag_sources\"]\n",
    "\n",
    "print(\"Question:\\n\", row[\"question\"].values[0])\n",
    "\n",
    "print(\"\\n------\\nreference_answer:\\n\", row[\"reference_answer\"].values[0])\n",
    "\n",
    "print((f\"\\n---------\\nrag_answer:\\n{row['rag_answer'].values[0]}\"))\n",
    "\n",
    "print((f\"\\n---------\\nRetrieved docs:\\n{fragments.values[0]}\"))\n"
   ]
  },
  {
   "cell_type": "markdown",
   "metadata": {},
   "source": [
    "#### Conclusions:\n",
    "> Type de chaîne RAG à privilégier:\n",
    "* Une chaîne basée sur LCEL est à retenir, la chaîne basée sur le `retrievalQA` étant à banir totalement car bien trop coûteux en temps/tokens, et offrant des moins bonnes réponses \n",
    "> DB à privilégier:\n",
    "*  La DB FAISS démontre un score légèrement supérieur à Chroma (> 0.5 points), et un temps de retrait 4 fois plus rapide\n",
    "> Type de recherche appliquée au retriever à privilégier:\n",
    "* La méthode `MMR`de part son equilibre diversité/pertinence des documents retournés offre de bons résultats, les méthodes plus simples uniquement basées sur le cosine similarity donnent de très mauvais résultats \n",
    "> Ré écriture automatique des questions:\n",
    "* Cette ré-écriture est bénéfique (augmentation du score moyen de 0.7), mais elle repose ici sur des exemples explicites tirées de l'AAP ici traitée (dépôt sur site). Il faut tester si ces exemples sont toujours opérants pour d'autres APP, s'il est nécessaire de reprendre les exemples du document \"Guide pratique pour les nouveaux arrivants\" \n",
    "> Evaluation des résultats:\n",
    "* Déleguer l'évaluation à un LLM avancé (gpt 4o ici) permet un bon niveau de confiance sur la pertinence des réponses/textes de référence, et capture bien mieux les nuances qui font qu'une réponse est factuellement juste (VS texte de référence), à l'inverse d'un modèle spécialisé comme `MiniCheck flan T5`, qui a échoue lorsque la strcucture et le naratif de la réponse différe trop du texte de référence, alors que les faits rapportés (lieux, chiffres) sont exactement les mêmes (voir questions/réponses 4 et 7)\n",
    "\n",
    "#### Prochaines étapes:\n",
    "* Expérimenter avec sparse retriever (basé sur la fréquence des mots) et lexical retriever (basé sur l'indexation des mots)\n",
    "* Expérimenter avec un reranker"
   ]
  }
 ],
 "metadata": {
  "colab": {
   "provenance": []
  },
  "kernelspec": {
   "display_name": "base",
   "language": "python",
   "name": "python3"
  },
  "language_info": {
   "codemirror_mode": {
    "name": "ipython",
    "version": 3
   },
   "file_extension": ".py",
   "mimetype": "text/x-python",
   "name": "python",
   "nbconvert_exporter": "python",
   "pygments_lexer": "ipython3",
   "version": "3.11.8"
  }
 },
 "nbformat": 4,
 "nbformat_minor": 0
}
