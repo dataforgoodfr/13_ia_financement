{
 "cells": [
  {
   "cell_type": "code",
   "execution_count": 3,
   "metadata": {},
   "outputs": [
    {
     "name": "stderr",
     "output_type": "stream",
     "text": [
      "Device set to use cpu\n"
     ]
    },
    {
     "name": "stdout",
     "output_type": "stream",
     "text": [
      "Text: Country and city ?\n",
      "Predicted: question (0.58)\n",
      "---\n",
      "Text: Project budget ?\n",
      "Predicted: question (0.97)\n",
      "---\n",
      "Text: Number of people concerned ?\n",
      "Predicted: question (0.90)\n",
      "---\n",
      "Text: Local approvals ?\n",
      "Predicted: question (0.97)\n",
      "---\n",
      "Text: Expected concrete activity results ?\n",
      "Predicted: question (0.97)\n",
      "---\n"
     ]
    }
   ],
   "source": [
    "from transformers import pipeline\n",
    "\n",
    "classifier = pipeline(\"zero-shot-classification\", \n",
    "                     model=\"MoritzLaurer/deberta-v3-large-zeroshot-v2.0\", device=-1)\n",
    "\n",
    "texts = [\n",
    "    \"Country and city ?\",\n",
    "    \"Project budget ?\",\n",
    "    \"Number of people concerned ?\",\n",
    "    \"Local approvals ?\",\n",
    "    \"Expected concrete activity results ?\"\n",
    "]\n",
    "\n",
    "candidate_labels = [\"question\", \"statement\"]\n",
    "\n",
    "results = classifier(texts, candidate_labels, \n",
    "                    hypothesis_template=\"This text is a {} about the project\")\n",
    "\n",
    "for result in results:\n",
    "    print(f\"Text: {result['sequence']}\")\n",
    "    print(f\"Predicted: {result['labels'][0]} ({result['scores'][0]:.2f})\")\n",
    "    print(\"---\")"
   ]
  }
 ],
 "metadata": {
  "kernelspec": {
   "display_name": "base",
   "language": "python",
   "name": "python3"
  },
  "language_info": {
   "codemirror_mode": {
    "name": "ipython",
    "version": 3
   },
   "file_extension": ".py",
   "mimetype": "text/x-python",
   "name": "python",
   "nbconvert_exporter": "python",
   "pygments_lexer": "ipython3",
   "version": "3.11.8"
  }
 },
 "nbformat": 4,
 "nbformat_minor": 2
}
