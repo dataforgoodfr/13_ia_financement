{
 "cells": [
  {
   "cell_type": "markdown",
   "metadata": {
    "id": "ki9p6ppKlURf"
   },
   "source": [
    "#### RAG avec la chaine et LCEL (LangChain Expression Language) et une combinaison de sparse et lexical retrievers + reranker\n",
    "Après avoir expérimenté une chaine de RAG basique dans les notebook v2, j'essaie dans cette v3 les chaînes:\n"
   ]
  },
  {
   "cell_type": "markdown",
   "metadata": {
    "id": "8DDupywdmlFw"
   },
   "source": [
    "### Librairies"
   ]
  },
  {
   "cell_type": "code",
   "execution_count": null,
   "metadata": {
    "colab": {
     "base_uri": "https://localhost:8080/"
    },
    "executionInfo": {
     "elapsed": 52585,
     "status": "ok",
     "timestamp": 1730739178509,
     "user": {
      "displayName": "thomas boehler",
      "userId": "18209330116931111774"
     },
     "user_tz": -60
    },
    "id": "_7BgHOxXmCEi",
    "outputId": "595841f2-e6bf-4fb7-d71a-73bbf2f6c016"
   },
   "outputs": [],
   "source": [
    "# ! pip install langchain_community tiktoken langchain-openai langchainhub chromadb langchain pypdf"
   ]
  },
  {
   "cell_type": "markdown",
   "metadata": {
    "id": "XBRA3gCnmb7z"
   },
   "source": [
    "Variables d'nvironement "
   ]
  },
  {
   "cell_type": "code",
   "execution_count": 1,
   "metadata": {
    "id": "xR8_C76bma9X"
   },
   "outputs": [
    {
     "data": {
      "text/plain": [
       "True"
      ]
     },
     "execution_count": 1,
     "metadata": {},
     "output_type": "execute_result"
    }
   ],
   "source": [
    "import dotenv\n",
    "\n",
    "dotenv.load_dotenv(\"/home/chougar/Documents/GitHub/Formation_datascientest/DL-NLP/.env\")"
   ]
  },
  {
   "cell_type": "markdown",
   "metadata": {
    "id": "qjs5RwYgnABE"
   },
   "source": [
    "## Import librairies"
   ]
  },
  {
   "cell_type": "code",
   "execution_count": 2,
   "metadata": {
    "id": "L0ihNcRElURk"
   },
   "outputs": [],
   "source": [
    "# libraries and models setup\n",
    "import os\n",
    "from langchain.document_loaders import PyPDFLoader\n",
    "from langchain.text_splitter import RecursiveCharacterTextSplitter\n",
    "from langchain.embeddings.openai import OpenAIEmbeddings\n",
    "from langchain.vectorstores import Chroma, FAISS\n",
    "from langchain.retrievers import SelfQueryRetriever\n",
    "from langchain.chains import RetrievalQA\n",
    "from langchain_openai import ChatOpenAI, OpenAIEmbeddings\n",
    "from langchain_ollama.llms import OllamaLLM\n",
    "from time import time as timing\n"
   ]
  },
  {
   "cell_type": "markdown",
   "metadata": {},
   "source": [
    "#### LLM & modele d'embedding à utiliser\n"
   ]
  },
  {
   "cell_type": "code",
   "execution_count": 3,
   "metadata": {},
   "outputs": [],
   "source": [
    "# model_qa_name=\"qwen2.5:3b\"\n",
    "# model_qa_name=\"mistral:latest\"\n",
    "# model_qa_name=\"deepseek-r1:8b\"\n",
    "#model_qa_name=\"hf.co/bartowski/Falcon3-7B-Instruct-GGUF:Q4_0\"\n",
    "# model_qa_alias=\"falcon3-7b-mamba\"\n",
    "# llm_qa = OllamaLLM(model=model_qa_name, temperature=0.2)\n",
    "\n",
    "model_qa_name=\"gpt-4o-mini\"\n",
    "model_qa_alias=model_qa_name\n",
    "llm_qa = ChatOpenAI(model_name=model_qa_name, temperature=0.2)\n",
    "\n",
    "\n",
    "\n",
    "# Embeddings model definition\n",
    "# model_emb_name='text-embedding-ada-002'\n",
    "model_emb_name=\"text-embedding-3-small\"\n",
    "embedding_model = OpenAIEmbeddings(model=model_emb_name)\n"
   ]
  },
  {
   "cell_type": "markdown",
   "metadata": {},
   "source": [
    "#### Evaluateurs\n",
    "1. LLM"
   ]
  },
  {
   "cell_type": "code",
   "execution_count": 4,
   "metadata": {
    "id": "wk6hqZKalURr"
   },
   "outputs": [],
   "source": [
    "llm_evaluator = ChatOpenAI(model_name=\"gpt-4o\", temperature=0.2)"
   ]
  },
  {
   "cell_type": "markdown",
   "metadata": {},
   "source": [
    "2. Modèle spécialisé:\n",
    "https://huggingface.co/lytang/MiniCheck-Flan-T5-Large"
   ]
  },
  {
   "cell_type": "code",
   "execution_count": 5,
   "metadata": {},
   "outputs": [
    {
     "name": "stdout",
     "output_type": "stream",
     "text": [
      "True\n",
      "1\n",
      "NVIDIA GeForce GTX 1080\n"
     ]
    }
   ],
   "source": [
    "import torch\n",
    "print(torch.cuda.is_available())  # Should return True if CUDA is available\n",
    "print(torch.cuda.device_count())  # Number of GPUs available\n",
    "print(torch.cuda.get_device_name(0))  # Name of the first GPU"
   ]
  },
  {
   "cell_type": "code",
   "execution_count": 6,
   "metadata": {},
   "outputs": [
    {
     "name": "stderr",
     "output_type": "stream",
     "text": [
      "2025-03-08 19:43:53.694890: E external/local_xla/xla/stream_executor/cuda/cuda_fft.cc:477] Unable to register cuFFT factory: Attempting to register factory for plugin cuFFT when one has already been registered\n",
      "WARNING: All log messages before absl::InitializeLog() is called are written to STDERR\n",
      "E0000 00:00:1741459433.719725   51112 cuda_dnn.cc:8310] Unable to register cuDNN factory: Attempting to register factory for plugin cuDNN when one has already been registered\n",
      "E0000 00:00:1741459433.727337   51112 cuda_blas.cc:1418] Unable to register cuBLAS factory: Attempting to register factory for plugin cuBLAS when one has already been registered\n",
      "Evaluating:   0%|          | 0/2 [00:00<?, ?it/s]Passing a tuple of `past_key_values` is deprecated and will be removed in Transformers v4.48.0. You should pass an instance of `EncoderDecoderCache` instead, e.g. `past_key_values=EncoderDecoderCache.from_legacy_cache(past_key_values)`.\n",
      "Evaluating: 100%|██████████| 2/2 [00:00<00:00,  3.58it/s]"
     ]
    },
    {
     "name": "stdout",
     "output_type": "stream",
     "text": [
      "[1, 0]\n",
      "[0.9805923700332642, 0.007121328264474869]\n"
     ]
    },
    {
     "name": "stderr",
     "output_type": "stream",
     "text": [
      "\n"
     ]
    }
   ],
   "source": [
    "from minicheck.minicheck import MiniCheck\n",
    "import os\n",
    "os.environ[\"CUDA_VISIBLE_DEVICES\"] = \"cuda\"\n",
    "\n",
    "loaded_models={\"specialized_evaluator\": False}\n",
    "\n",
    "doc = \"A group of students gather in the school library to study for their upcoming final exams.\"\n",
    "claim_1 = \"The students are preparing for an examination.\"\n",
    "claim_2 = \"The students are on vacation.\"\n",
    "\n",
    "# model_name can be one of ['roberta-large', 'deberta-v3-large', 'flan-t5-large', 'Bespoke-MiniCheck-7B']\n",
    "specialized_evaluator = MiniCheck(model_name='flan-t5-large', cache_dir='./ckpts')\n",
    "loaded_models[\"specialized_evaluator\"]=True\n",
    "\n",
    "pred_label, raw_prob, _, _ = specialized_evaluator.score(docs=[doc, doc], claims=[claim_1, claim_2])\n",
    "# pred_label, raw_prob, _, _ = scorer.score(docs=[doc], claims=[claim_2])\n",
    "\n",
    "print(pred_label) # [1, 0]\n",
    "print(raw_prob)   # [0.9805923700332642, 0.007121307775378227]\n"
   ]
  },
  {
   "cell_type": "markdown",
   "metadata": {
    "id": "nxyjANxzlURs"
   },
   "source": [
    "#### Step 2: charger le PP"
   ]
  },
  {
   "cell_type": "code",
   "execution_count": 7,
   "metadata": {
    "id": "7qJOMDXGlURt"
   },
   "outputs": [],
   "source": [
    "pdf_file_path = './data/PROJECT DOCUMENT MAHAKAM 2023-2025_balise.pdf'\n",
    "\n",
    "# Create a loader instance\n",
    "loader = PyPDFLoader(pdf_file_path)\n",
    "\n",
    "# Load the data from the PDF\n",
    "data = loader.load()"
   ]
  },
  {
   "cell_type": "markdown",
   "metadata": {
    "id": "zBCs5_2KlURu"
   },
   "source": [
    "#### Step 3: Split  PDF en fragments\n",
    "Basé sur l'expérience du notebook `rag-v2-gridSearch`, le meilleur modèle et chunk size/overlap sont `text-embedding-ada-002` et 2000 / 400\n"
   ]
  },
  {
   "cell_type": "code",
   "execution_count": 8,
   "metadata": {
    "id": "J-DCTwi0lURu"
   },
   "outputs": [],
   "source": [
    "x=2000\n",
    "text_splitter = RecursiveCharacterTextSplitter(chunk_size=x, chunk_overlap=x*0.2)\n",
    "\n",
    "split_docs = text_splitter.split_documents(data)"
   ]
  },
  {
   "cell_type": "code",
   "execution_count": 9,
   "metadata": {},
   "outputs": [],
   "source": [
    "# nettoyage\n",
    "bruits=[\"Planète Urgence | FOREST Programme\"]\n",
    "for doc in split_docs:\n",
    "    for bruit in bruits:\n",
    "        if bruit in doc.page_content:\n",
    "            doc.page_content=doc.page_content.replace(bruit, \"\")\n",
    "# del empty docs\n",
    "split_docs = [doc for doc in split_docs if len(doc.page_content)>0]"
   ]
  },
  {
   "cell_type": "markdown",
   "metadata": {
    "id": "kRZWwTP1lURv"
   },
   "source": [
    "#### Step 4: Creation d'un BD Chroma"
   ]
  },
  {
   "cell_type": "code",
   "execution_count": 10,
   "metadata": {
    "id": "WAM1zaJ_lURw"
   },
   "outputs": [],
   "source": [
    "db_path = \"./\"\n",
    "\n",
    "chroma_db = Chroma.from_documents(split_docs, embedding_model,)# persist_directory=db_path,)\n",
    "\n",
    "faiss_db = FAISS.from_documents(split_docs, embedding_model,)\n",
    "\n"
   ]
  },
  {
   "cell_type": "markdown",
   "metadata": {
    "id": "YSF7jLFglURw"
   },
   "source": [
    "#### Step 5: Retrait documents pertinents (phase RETRIEVAL)\n",
    "Basé sur l'expérience du notebook `rag-v2-gridSearch`, le meilleur k=12 et la meilleure méthode de recherche est `mmr`"
   ]
  },
  {
   "cell_type": "code",
   "execution_count": 11,
   "metadata": {
    "colab": {
     "base_uri": "https://localhost:8080/"
    },
    "executionInfo": {
     "elapsed": 739,
     "status": "ok",
     "timestamp": 1730739567580,
     "user": {
      "displayName": "thomas boehler",
      "userId": "18209330116931111774"
     },
     "user_tz": -60
    },
    "id": "e8tI5DdulURy",
    "outputId": "598d4f9e-f186-44d7-958d-c65a3282b7fb"
   },
   "outputs": [
    {
     "name": "stdout",
     "output_type": "stream",
     "text": [
      "t1 :0.41508054733276367\n",
      "chroma_db:\n"
     ]
    },
    {
     "data": {
      "text/plain": [
       "[Document(metadata={'page': 17, 'source': './data/PROJECT DOCUMENT MAHAKAM 2023-2025_balise.pdf'}, page_content='\\nAnother issue that has also had a major impact on life in Indonesia, including\\nEast Kalimantan, is the Covid 19 global pandemic that has attacked the\\nentire world since early 2020.  The  Covid 19 pandemic has had a major\\nimpact on life in Indonesia. East Kalimantan is a province outside Java Island\\nwith  the  highest  rate  of  exposure  to  Covid,  which  has  resulted  in  the\\ngovernment imposing a lockdown and restrictions on community activities.\\nAt the beginning of 2022, community activities began to return to normal,\\nbut a new variant emerged, namely Omicron, which spread very quickly.\\nFacing a pandemic situation that has not ended, of course, the project must\\ncontinue  but  still  pay  attention  to  security,  safety,  and  practice  health\\nprotocols.\\n3. Strategy & theory of change\\nThe  three  years  project  aims  to  contribute  to  restore  the  degraded  of\\nmangrove  ecosystem  in  Production  Forest  (Mahakamm  Delta)  and\\nConservation area (Adang Bay). In doing so, the project will address the key\\nproblems in those regions: \\na. Lack  of  awareness  of  local  people  on  mangrove  ecosystem,\\nbiodiversity issue and waste\\nb. Huge area of degraded mangrove forest which affect the resilience of\\nlocal  people  in  facing  climate  change,  the  habitat  of  endangered\\nspecies and local economy;\\nc. Lack of alternative sustainable livelihood in coastal area;\\nd. Poor  governance  particularly  on  mangrove  ecosystem  and  its\\nenvironmental and economy issue.   \\nTo overcome those problems, Planet Urgence and its partners will work by\\nimplementing the PU FORET strategy which rely on three components:\\n1. Restore degraded forest;\\n2. Environmental awareness;\\n3. Strengthening livelihood of local people. \\nIn addition, the involvement of local NGOs, local community and volunteer is\\nkey for the successful of the project and the sustainability the impact of the'),\n",
       " Document(metadata={'page': 52, 'source': './data/PROJECT DOCUMENT MAHAKAM 2023-2025_balise.pdf'}, page_content='\\ne.Field monitoring six times in a year.\\nf. Internal evaluation at the end of project\\nIn addition, the project includes a third party evaluation during year 3 for final evaluation of the project’s activities\\nand conduction of the climate philanthropy methodology.\\nThe final evaluation will be conducted via remote evaluation and onsite visit of the project.\\nIt will include at minimum :\\n\\uf0b7 An inventory of the activities that have taken place in relation to the project plan (including planting activities,\\nincreased livelihoods and environmental awareness)\\n\\uf0b7 Review of carbon  sequestration  calculations  and monitoring  protocols,  based on the  climate  philanthropy\\nmethodology  developed  by  Planète  Urgence  (zone  boundaries,  baseline  scenario,  demonstration  of\\nadditionality, ex-ante carbon calculation, and first ex-post measures on year 3 linked with survival rate)\\n\\uf0b7 Review of project, monitoring and activity reports\\n\\uf0b7 Redaction of the audit report\\nCompletion  of  baseline  and  proof  of  additionality,  accompanied  by  EX-ANTE  calculation  of  GHG\\nemissions/sequestrations\\nAccording with Planete Urgence’s methodology on Climate Philanthropy, the project will monitor carbon sequestration\\nimpacts.\\nTo do so, Planète Urgence team will develop a baseline scenario illustrating the activities and greenhouse gas (GHG)\\nemissions that would occur in the absence of a project’s activity. Developing this baseline will be the foundation of\\nmeasuring the project’s emissions reductions or removals; it will set the benchmark by which a comparison of the\\nproject’s activities can be made against the business-as-usual scenario providing clarity on how the project can and\\nwill influence emissions reductions over time. \\nThe protocol developed by Planete Urgence adopts the baseline scenario and additionality tests based on the Verified\\nCarbon Standard (VCS) and Clean Development Mechanism (CDM)’s Afforestation/Reforestation methodological tools.'),\n",
       " Document(metadata={'page': 52, 'source': './data/PROJECT DOCUMENT MAHAKAM 2023-2025_balise.pdf'}, page_content='project’s activities can be made against the business-as-usual scenario providing clarity on how the project can and\\nwill influence emissions reductions over time. \\nThe protocol developed by Planete Urgence adopts the baseline scenario and additionality tests based on the Verified\\nCarbon Standard (VCS) and Clean Development Mechanism (CDM)’s Afforestation/Reforestation methodological tools.\\nIt involves :'),\n",
       " Document(metadata={'page': 55, 'source': './data/PROJECT DOCUMENT MAHAKAM 2023-2025_balise.pdf'}, page_content='\\nHuman resources – Planète Urgence\\nHuman resources – Implementing partners\\nManagement actions – Planète Urgence\\n(including meetings, missions, coordination workshops, \\nmonitoring and evaluations, quality assurance, reporting, \\ncommunication, etc.)\\nManagement actions – Implementing partner \\n(including meetings, missions, coordination workshops, \\nmonitoring and evaluations, quality assurance, reporting, \\ncommunication, etc.)\\nCapacity building of project management staff (Planète Urgence \\nand implementing partners)\\nMid-term assessment (as appropriate)\\nTerminal and final assessment (as appropriate)\\nAudit(s) (as appropriate)\\n</table>'),\n",
       " Document(metadata={'page': 43, 'source': './data/PROJECT DOCUMENT MAHAKAM 2023-2025_balise.pdf'}, page_content='\\nreach the common\\ngoals in Delta \\nMahakam.\\n2) PU and Bioma \\nhave developed \\npractical guidance \\non how to conduct \\nFPIC in \\nreforestation \\nprojects. \\npilot project.\\nRelationship with \\nlocal partners\\nPU and \\nimplementing \\npartners have \\nstrong ties with \\nthe local authority \\nsuch as Forest \\nManagement Unit \\nand Conservation \\nagencies.\\nThe informal \\ncoordination will \\nbe conducted to \\nthose authority to \\ngain technical and \\nadministrative \\nsupport from \\nthem. \\nCapacity building \\nof our local \\npartners \\nYML has really \\ngood knowledge \\nand technical skills\\nin reforestation \\nand sylvofishery.  \\n Pokja Pesisir has \\ngood \\ncommunication \\nwith key \\nstakeholders at \\nthe village and \\nregion levels \\n(BKSDA) \\n \\nYML still has a lack\\nof capacity and \\ninitiative to \\nconduct data \\nmonitoring related\\nto sylvofishery and\\nis reluctant to \\nwork with \\nuniversity.\\nPokja Pesisir in \\nother side has still \\nlacks experience \\nin reforestation \\nskills, particularly \\ndata collection. \\nPU Indonesia will \\nprovide tools to \\nYML and Pokja \\nPesisir to conduct \\ndata collection and\\nregularly \\nmonitoring the \\nimplementation.\\nHiring consultant Local consultant \\nhas better \\nunderstanding on \\nlocal social and \\nenvironmental \\ncontext\\n1) The English \\nskill, writing and \\nspeaking, of local \\nconsultant is \\nrelatively poor. 2)  \\nThe local \\nconsultant \\napparently does \\nnot have a 100 \\npercent freedom \\nClear objectives \\nand indicators are \\nneeded to guide \\nthe local \\nconsultant. \\nMoreover, a rapid \\ninternal \\nassessment is \\nneeded to \\ncomplement the'),\n",
       " Document(metadata={'page': 40, 'source': './data/PROJECT DOCUMENT MAHAKAM 2023-2025_balise.pdf'}, page_content=\"\\nlocal  communities  and  the  public  stakeholders  concerned  (villages  and\\ndistricts) in order to replicate these activities with the other villages of the\\nMahakam Delta.\\nThe tree protection from palm tree leaves and net that successfully works to\\nprotect tree in previous project will be documented and spread to the key\\nrestoration actors for possible replication in their project. In addition, PU\\nIndonesia will manage and distribute the publication and knowledge from the\\nproject  to  other  parties.  Module  and  material  environmental  education\\ncampaign will be used in the scale up project or other locations.\\nTable 3. Summary of our lessons learned, and best practices developed on\\nprevious projects in the Mahakam Delta\\n<table>\\nActivities Best practices\\n(+)\\nLessons learned\\n(-)\\nChange maker in\\nthis new project \\nRaising awareness\\nin schools \\n1/Raising \\nawareness in \\nschool generally \\nget support from \\nthe schools. 2) \\nAnimal costumes \\nare very attractive\\nfor elementary \\nschools' children. \\n3) The successful \\nof YML and  Pokja \\nPesisir introduction\\nenvironmental \\neducation in \\nPrimary and \\nSecondary \\nSchools. Teachers \\nhad just realized \\nthat they live in an\\nimportant \\nmangrove \\necosystem. There \\nis a desire to learn \\nmore about the \\nmangrove \\necosystem and a \\nwant to teach in \\nschools.\\nStudents have a \\nhigh interest in \\nlearning directly in\\nNot all teachers \\nhave creativity in \\nteaching, so \\nintensive \\nassistance is \\nneeded\\n1 and 2) The \\nproject will apply \\nsimilar method \\nand approach to \\nthe schools’ \\nteachers and \\nstudents. 3) In \\naddition, in this \\npilot phase, PU will\\nelaborate the \\npossibility to \\nintegrate the \\nenvironmental \\neducation in \\nelementary school \\ncurriculum.\\nTeachers have a \\nstrategic position \\nto foster \\nenvironmental \\nawareness. \\nTeachers can act \\nas very effective \\nagents of change \\nfor increasing \\nenvironmental \\nawareness\"),\n",
       " Document(metadata={'page': 39, 'source': './data/PROJECT DOCUMENT MAHAKAM 2023-2025_balise.pdf'}, page_content='\\n9. Knowledge  management,  capitalization  &\\ncommunication\\nKnowledge management\\nPlanète Urgence is in the process of setting up a new tool for monitoring\\nplantations based on geolocation of trees planted throughout the project.\\nPlanète Urgence’s software (database) will be redesigned and updated to\\nmeet different needs. The first one is to conduct the monitoring of planted\\ntrees (species, size, survival rate, pictures …). The second one will help\\nprovide transparent information to donors. The third one will contribute to\\ncommunication efforts (map on website).\\nPU Indonesia and its implementing partners will arrange communication and\\nknowledge management mechanisms to ensure all parties has equal access\\nand responsible to store and to distribute the data and information gathered\\nfrom the project. All materials from the field should be submitted monthly to\\nthe communication officer of PU Indonesia during the project. PU Indonesia\\nwill ensure all publications, minutes of meeting, report, picture and video\\nrelated with the project activities store well in the PU system. The material\\nwill be grouped according to their type, date and the component of the\\nproject.  The  implementing  partners  will  have  equal  access  to  use  the\\nmaterials  that  they  have  collected  for  the  benefit  of  current  and future\\nproject in the region. Like previous projects, PU Indonesia will spread the\\nlessons learned of the project to the key stakeholders and public through\\nvarious canal such as monthly journal, offline and online media and social\\nmedia during the project.\\nCapitalization\\nIn  order  to  allow  Mahakam Delta’s  stakeholders  and  project  partners  to\\nreplicate the positive actions of the project in other villages for a wider\\naction,  Planète  Urgence  commits  to  undertake  capitalization  on  two  key\\nsubjects: (i) a relevant restoration of the mangrove ecosystem and (ii) a\\nmethodology for land use planning process.'),\n",
       " Document(metadata={'page': 3, 'source': './data/PROJECT DOCUMENT MAHAKAM 2023-2025_balise.pdf'}, page_content='\\nMain Sustainable Development Goals (SDGs) to which the\\nproject contributes\\n\\u202f\\u202f\\u202f\\u202f  \\n \\u202f\\u202f\\u202f\\u202f \\n \\u202f\\u202f\\u202f\\u202f \\n \\u202f\\u202f\\u202f\\u202f \\n \\xa0\\u202f\\u202f\\u202f\\u202f  \\u202f\\u202f\\u202f\\u202f\\nMain SDG targets and indicators to which the project contributes: \\n\\uf0b7 12.8. By  2030,  ensure  that  people  everywhere  have  the  relevant\\ninformation  and awareness  for  sustainable  development and lifestyles  in\\nharmony with nature.  \\n\\uf0b7 13.1. Strengthen resilience and adaptive capacity to climate-related\\nhazards and natural disasters in all countries.  \\n\\uf0b7 13.3. Improve education, awareness-raising, human, and institutional\\ncapacity on climate  change  mitigation,  adaptation,  impact reduction and\\nearly warning.  \\n\\uf0b7 14.2. Sustainably manage and protect marine and coastal ecosystems\\nto  avoid  significant  adverse  impacts,  including  by  strengthening  their\\nresilience, and take action for their restoration in order to achieve healthy\\nand productive oceans.  \\n\\uf0b7 14.  B. Provide  access  for  small-scale  artisanal  fishers  to  marine\\nresources and markets.  \\n\\uf0b7 15.5. Take urgent and significant action to reduce the degradation of\\nnatural  habitats,  halt  the  loss  of  biodiversity,  protect  and  prevent  the\\nextinction of threatened species. \\nTable 0 *\\nProject duration 3 years (March 2023 – February 2026)\\nBudget & funding\\nTotal required \\nresources (€)\\n2023-2026\\n818\\xa0341 € // 903\\xa0613 USD\\nAuthor(s) YML, POKJA, Yayasan Planete Urgensi Indonesia,\\nPlanète Urgence\\nApproval by partners Planète\\nUrgence/Yayasan\\nPlanet Urgensi\\nIndonesia\\nName: Réonaldus\\nTitle:  Indonesia  National\\nDelegate\\nYML Name: Achmad Nuriyawan \\nTitle: Director\\nPOKJA Name: Hamsuri'),\n",
       " Document(metadata={'page': 45, 'source': './data/PROJECT DOCUMENT MAHAKAM 2023-2025_balise.pdf'}, page_content='of all  actors  involved  in  mangrove  conservation  efforts  in the  area. The\\nindependence in this case includes the ability to self-financing conservation\\nactivities through local economic institutions that are professional to manage\\nsustainable  productive  businesses.  Therefore,  during  the  project  and\\nparticularly in the end of project, PU and implementing partners will identify\\nand distribute the preliminary achievement and lesson learn of the project to\\nthe potential donor.\\nRaising awareness component: \\n\\uf0b7 Encouraging participation of public particularly change makers in the\\ncommunity with a collaborative work with education institutions and mass\\nmedia.\\n\\uf0b7 Advocate  and  ensure  education  and  awareness  on  mangrove\\nconservation is adopted in school curricula and understood by education\\nauthorities and mass media program. \\n\\uf0b7 Develop materials of education and awareness campaign on mangrove\\nconservation  (education  curricula,  education  books  and  other  mangrove\\neducation tools).\\nMangrove rehabilitation component: \\n\\uf0b7 Developing village and community owned nursery to provide seedlings\\nfor restoring target area.'),\n",
       " Document(metadata={'page': 19, 'source': './data/PROJECT DOCUMENT MAHAKAM 2023-2025_balise.pdf'}, page_content='\\n- Community members (villagers, consists of fish farmers, women group,\\nand youth)\\n- Village officials\\n- Stakeholders  from  various  institutions  (government  institutions,\\nuniversities, and non-government organizations)\\n- Public audience in general (reached by Media) \\n Other potential groups: \\n- High school and university students\\n- Environmental activists\\n5. Location\\nThe location of the project is in Paser District (Adang Bay village) and Kutai\\nKartanegara district (Delta Mahakam) East Kalimantan Province. The location\\nof project is nearby the new capital of Indonesia which is in the Penajam\\nPaser Utara (around 130-160 km)\\nFeature 4: Site intervention New Mahakam Project\\n6. Expected  results,  planned  activities  &  required\\nresources')]"
      ]
     },
     "metadata": {},
     "output_type": "display_data"
    },
    {
     "name": "stdout",
     "output_type": "stream",
     "text": [
      "t2 :0.3517725467681885\n",
      "faiss:\n"
     ]
    },
    {
     "data": {
      "text/plain": [
       "[Document(metadata={'source': './data/PROJECT DOCUMENT MAHAKAM 2023-2025_balise.pdf', 'page': 17}, page_content='\\nAnother issue that has also had a major impact on life in Indonesia, including\\nEast Kalimantan, is the Covid 19 global pandemic that has attacked the\\nentire world since early 2020.  The  Covid 19 pandemic has had a major\\nimpact on life in Indonesia. East Kalimantan is a province outside Java Island\\nwith  the  highest  rate  of  exposure  to  Covid,  which  has  resulted  in  the\\ngovernment imposing a lockdown and restrictions on community activities.\\nAt the beginning of 2022, community activities began to return to normal,\\nbut a new variant emerged, namely Omicron, which spread very quickly.\\nFacing a pandemic situation that has not ended, of course, the project must\\ncontinue  but  still  pay  attention  to  security,  safety,  and  practice  health\\nprotocols.\\n3. Strategy & theory of change\\nThe  three  years  project  aims  to  contribute  to  restore  the  degraded  of\\nmangrove  ecosystem  in  Production  Forest  (Mahakamm  Delta)  and\\nConservation area (Adang Bay). In doing so, the project will address the key\\nproblems in those regions: \\na. Lack  of  awareness  of  local  people  on  mangrove  ecosystem,\\nbiodiversity issue and waste\\nb. Huge area of degraded mangrove forest which affect the resilience of\\nlocal  people  in  facing  climate  change,  the  habitat  of  endangered\\nspecies and local economy;\\nc. Lack of alternative sustainable livelihood in coastal area;\\nd. Poor  governance  particularly  on  mangrove  ecosystem  and  its\\nenvironmental and economy issue.   \\nTo overcome those problems, Planet Urgence and its partners will work by\\nimplementing the PU FORET strategy which rely on three components:\\n1. Restore degraded forest;\\n2. Environmental awareness;\\n3. Strengthening livelihood of local people. \\nIn addition, the involvement of local NGOs, local community and volunteer is\\nkey for the successful of the project and the sustainability the impact of the'),\n",
       " Document(metadata={'source': './data/PROJECT DOCUMENT MAHAKAM 2023-2025_balise.pdf', 'page': 55}, page_content='\\nHuman resources – Planète Urgence\\nHuman resources – Implementing partners\\nManagement actions – Planète Urgence\\n(including meetings, missions, coordination workshops, \\nmonitoring and evaluations, quality assurance, reporting, \\ncommunication, etc.)\\nManagement actions – Implementing partner \\n(including meetings, missions, coordination workshops, \\nmonitoring and evaluations, quality assurance, reporting, \\ncommunication, etc.)\\nCapacity building of project management staff (Planète Urgence \\nand implementing partners)\\nMid-term assessment (as appropriate)\\nTerminal and final assessment (as appropriate)\\nAudit(s) (as appropriate)\\n</table>'),\n",
       " Document(metadata={'source': './data/PROJECT DOCUMENT MAHAKAM 2023-2025_balise.pdf', 'page': 52}, page_content='project’s activities can be made against the business-as-usual scenario providing clarity on how the project can and\\nwill influence emissions reductions over time. \\nThe protocol developed by Planete Urgence adopts the baseline scenario and additionality tests based on the Verified\\nCarbon Standard (VCS) and Clean Development Mechanism (CDM)’s Afforestation/Reforestation methodological tools.\\nIt involves :'),\n",
       " Document(metadata={'source': './data/PROJECT DOCUMENT MAHAKAM 2023-2025_balise.pdf', 'page': 43}, page_content='\\nreach the common\\ngoals in Delta \\nMahakam.\\n2) PU and Bioma \\nhave developed \\npractical guidance \\non how to conduct \\nFPIC in \\nreforestation \\nprojects. \\npilot project.\\nRelationship with \\nlocal partners\\nPU and \\nimplementing \\npartners have \\nstrong ties with \\nthe local authority \\nsuch as Forest \\nManagement Unit \\nand Conservation \\nagencies.\\nThe informal \\ncoordination will \\nbe conducted to \\nthose authority to \\ngain technical and \\nadministrative \\nsupport from \\nthem. \\nCapacity building \\nof our local \\npartners \\nYML has really \\ngood knowledge \\nand technical skills\\nin reforestation \\nand sylvofishery.  \\n Pokja Pesisir has \\ngood \\ncommunication \\nwith key \\nstakeholders at \\nthe village and \\nregion levels \\n(BKSDA) \\n \\nYML still has a lack\\nof capacity and \\ninitiative to \\nconduct data \\nmonitoring related\\nto sylvofishery and\\nis reluctant to \\nwork with \\nuniversity.\\nPokja Pesisir in \\nother side has still \\nlacks experience \\nin reforestation \\nskills, particularly \\ndata collection. \\nPU Indonesia will \\nprovide tools to \\nYML and Pokja \\nPesisir to conduct \\ndata collection and\\nregularly \\nmonitoring the \\nimplementation.\\nHiring consultant Local consultant \\nhas better \\nunderstanding on \\nlocal social and \\nenvironmental \\ncontext\\n1) The English \\nskill, writing and \\nspeaking, of local \\nconsultant is \\nrelatively poor. 2)  \\nThe local \\nconsultant \\napparently does \\nnot have a 100 \\npercent freedom \\nClear objectives \\nand indicators are \\nneeded to guide \\nthe local \\nconsultant. \\nMoreover, a rapid \\ninternal \\nassessment is \\nneeded to \\ncomplement the'),\n",
       " Document(metadata={'source': './data/PROJECT DOCUMENT MAHAKAM 2023-2025_balise.pdf', 'page': 19}, page_content='\\n- Community members (villagers, consists of fish farmers, women group,\\nand youth)\\n- Village officials\\n- Stakeholders  from  various  institutions  (government  institutions,\\nuniversities, and non-government organizations)\\n- Public audience in general (reached by Media) \\n Other potential groups: \\n- High school and university students\\n- Environmental activists\\n5. Location\\nThe location of the project is in Paser District (Adang Bay village) and Kutai\\nKartanegara district (Delta Mahakam) East Kalimantan Province. The location\\nof project is nearby the new capital of Indonesia which is in the Penajam\\nPaser Utara (around 130-160 km)\\nFeature 4: Site intervention New Mahakam Project\\n6. Expected  results,  planned  activities  &  required\\nresources'),\n",
       " Document(metadata={'source': './data/PROJECT DOCUMENT MAHAKAM 2023-2025_balise.pdf', 'page': 52}, page_content='\\ne.Field monitoring six times in a year.\\nf. Internal evaluation at the end of project\\nIn addition, the project includes a third party evaluation during year 3 for final evaluation of the project’s activities\\nand conduction of the climate philanthropy methodology.\\nThe final evaluation will be conducted via remote evaluation and onsite visit of the project.\\nIt will include at minimum :\\n\\uf0b7 An inventory of the activities that have taken place in relation to the project plan (including planting activities,\\nincreased livelihoods and environmental awareness)\\n\\uf0b7 Review of carbon  sequestration  calculations  and monitoring  protocols,  based on the  climate  philanthropy\\nmethodology  developed  by  Planète  Urgence  (zone  boundaries,  baseline  scenario,  demonstration  of\\nadditionality, ex-ante carbon calculation, and first ex-post measures on year 3 linked with survival rate)\\n\\uf0b7 Review of project, monitoring and activity reports\\n\\uf0b7 Redaction of the audit report\\nCompletion  of  baseline  and  proof  of  additionality,  accompanied  by  EX-ANTE  calculation  of  GHG\\nemissions/sequestrations\\nAccording with Planete Urgence’s methodology on Climate Philanthropy, the project will monitor carbon sequestration\\nimpacts.\\nTo do so, Planète Urgence team will develop a baseline scenario illustrating the activities and greenhouse gas (GHG)\\nemissions that would occur in the absence of a project’s activity. Developing this baseline will be the foundation of\\nmeasuring the project’s emissions reductions or removals; it will set the benchmark by which a comparison of the\\nproject’s activities can be made against the business-as-usual scenario providing clarity on how the project can and\\nwill influence emissions reductions over time. \\nThe protocol developed by Planete Urgence adopts the baseline scenario and additionality tests based on the Verified\\nCarbon Standard (VCS) and Clean Development Mechanism (CDM)’s Afforestation/Reforestation methodological tools.'),\n",
       " Document(metadata={'source': './data/PROJECT DOCUMENT MAHAKAM 2023-2025_balise.pdf', 'page': 3}, page_content='\\nMain Sustainable Development Goals (SDGs) to which the\\nproject contributes\\n\\u202f\\u202f\\u202f\\u202f  \\n \\u202f\\u202f\\u202f\\u202f \\n \\u202f\\u202f\\u202f\\u202f \\n \\u202f\\u202f\\u202f\\u202f \\n \\xa0\\u202f\\u202f\\u202f\\u202f  \\u202f\\u202f\\u202f\\u202f\\nMain SDG targets and indicators to which the project contributes: \\n\\uf0b7 12.8. By  2030,  ensure  that  people  everywhere  have  the  relevant\\ninformation  and awareness  for  sustainable  development and lifestyles  in\\nharmony with nature.  \\n\\uf0b7 13.1. Strengthen resilience and adaptive capacity to climate-related\\nhazards and natural disasters in all countries.  \\n\\uf0b7 13.3. Improve education, awareness-raising, human, and institutional\\ncapacity on climate  change  mitigation,  adaptation,  impact reduction and\\nearly warning.  \\n\\uf0b7 14.2. Sustainably manage and protect marine and coastal ecosystems\\nto  avoid  significant  adverse  impacts,  including  by  strengthening  their\\nresilience, and take action for their restoration in order to achieve healthy\\nand productive oceans.  \\n\\uf0b7 14.  B. Provide  access  for  small-scale  artisanal  fishers  to  marine\\nresources and markets.  \\n\\uf0b7 15.5. Take urgent and significant action to reduce the degradation of\\nnatural  habitats,  halt  the  loss  of  biodiversity,  protect  and  prevent  the\\nextinction of threatened species. \\nTable 0 *\\nProject duration 3 years (March 2023 – February 2026)\\nBudget & funding\\nTotal required \\nresources (€)\\n2023-2026\\n818\\xa0341 € // 903\\xa0613 USD\\nAuthor(s) YML, POKJA, Yayasan Planete Urgensi Indonesia,\\nPlanète Urgence\\nApproval by partners Planète\\nUrgence/Yayasan\\nPlanet Urgensi\\nIndonesia\\nName: Réonaldus\\nTitle:  Indonesia  National\\nDelegate\\nYML Name: Achmad Nuriyawan \\nTitle: Director\\nPOKJA Name: Hamsuri'),\n",
       " Document(metadata={'source': './data/PROJECT DOCUMENT MAHAKAM 2023-2025_balise.pdf', 'page': 39}, page_content='\\n9. Knowledge  management,  capitalization  &\\ncommunication\\nKnowledge management\\nPlanète Urgence is in the process of setting up a new tool for monitoring\\nplantations based on geolocation of trees planted throughout the project.\\nPlanète Urgence’s software (database) will be redesigned and updated to\\nmeet different needs. The first one is to conduct the monitoring of planted\\ntrees (species, size, survival rate, pictures …). The second one will help\\nprovide transparent information to donors. The third one will contribute to\\ncommunication efforts (map on website).\\nPU Indonesia and its implementing partners will arrange communication and\\nknowledge management mechanisms to ensure all parties has equal access\\nand responsible to store and to distribute the data and information gathered\\nfrom the project. All materials from the field should be submitted monthly to\\nthe communication officer of PU Indonesia during the project. PU Indonesia\\nwill ensure all publications, minutes of meeting, report, picture and video\\nrelated with the project activities store well in the PU system. The material\\nwill be grouped according to their type, date and the component of the\\nproject.  The  implementing  partners  will  have  equal  access  to  use  the\\nmaterials  that  they  have  collected  for  the  benefit  of  current  and future\\nproject in the region. Like previous projects, PU Indonesia will spread the\\nlessons learned of the project to the key stakeholders and public through\\nvarious canal such as monthly journal, offline and online media and social\\nmedia during the project.\\nCapitalization\\nIn  order  to  allow  Mahakam Delta’s  stakeholders  and  project  partners  to\\nreplicate the positive actions of the project in other villages for a wider\\naction,  Planète  Urgence  commits  to  undertake  capitalization  on  two  key\\nsubjects: (i) a relevant restoration of the mangrove ecosystem and (ii) a\\nmethodology for land use planning process.'),\n",
       " Document(metadata={'source': './data/PROJECT DOCUMENT MAHAKAM 2023-2025_balise.pdf', 'page': 45}, page_content='of all  actors  involved  in  mangrove  conservation  efforts  in the  area. The\\nindependence in this case includes the ability to self-financing conservation\\nactivities through local economic institutions that are professional to manage\\nsustainable  productive  businesses.  Therefore,  during  the  project  and\\nparticularly in the end of project, PU and implementing partners will identify\\nand distribute the preliminary achievement and lesson learn of the project to\\nthe potential donor.\\nRaising awareness component: \\n\\uf0b7 Encouraging participation of public particularly change makers in the\\ncommunity with a collaborative work with education institutions and mass\\nmedia.\\n\\uf0b7 Advocate  and  ensure  education  and  awareness  on  mangrove\\nconservation is adopted in school curricula and understood by education\\nauthorities and mass media program. \\n\\uf0b7 Develop materials of education and awareness campaign on mangrove\\nconservation  (education  curricula,  education  books  and  other  mangrove\\neducation tools).\\nMangrove rehabilitation component: \\n\\uf0b7 Developing village and community owned nursery to provide seedlings\\nfor restoring target area.'),\n",
       " Document(metadata={'source': './data/PROJECT DOCUMENT MAHAKAM 2023-2025_balise.pdf', 'page': 40}, page_content=\"\\nlocal  communities  and  the  public  stakeholders  concerned  (villages  and\\ndistricts) in order to replicate these activities with the other villages of the\\nMahakam Delta.\\nThe tree protection from palm tree leaves and net that successfully works to\\nprotect tree in previous project will be documented and spread to the key\\nrestoration actors for possible replication in their project. In addition, PU\\nIndonesia will manage and distribute the publication and knowledge from the\\nproject  to  other  parties.  Module  and  material  environmental  education\\ncampaign will be used in the scale up project or other locations.\\nTable 3. Summary of our lessons learned, and best practices developed on\\nprevious projects in the Mahakam Delta\\n<table>\\nActivities Best practices\\n(+)\\nLessons learned\\n(-)\\nChange maker in\\nthis new project \\nRaising awareness\\nin schools \\n1/Raising \\nawareness in \\nschool generally \\nget support from \\nthe schools. 2) \\nAnimal costumes \\nare very attractive\\nfor elementary \\nschools' children. \\n3) The successful \\nof YML and  Pokja \\nPesisir introduction\\nenvironmental \\neducation in \\nPrimary and \\nSecondary \\nSchools. Teachers \\nhad just realized \\nthat they live in an\\nimportant \\nmangrove \\necosystem. There \\nis a desire to learn \\nmore about the \\nmangrove \\necosystem and a \\nwant to teach in \\nschools.\\nStudents have a \\nhigh interest in \\nlearning directly in\\nNot all teachers \\nhave creativity in \\nteaching, so \\nintensive \\nassistance is \\nneeded\\n1 and 2) The \\nproject will apply \\nsimilar method \\nand approach to \\nthe schools’ \\nteachers and \\nstudents. 3) In \\naddition, in this \\npilot phase, PU will\\nelaborate the \\npossibility to \\nintegrate the \\nenvironmental \\neducation in \\nelementary school \\ncurriculum.\\nTeachers have a \\nstrategic position \\nto foster \\nenvironmental \\nawareness. \\nTeachers can act \\nas very effective \\nagents of change \\nfor increasing \\nenvironmental \\nawareness\")]"
      ]
     },
     "metadata": {},
     "output_type": "display_data"
    }
   ],
   "source": [
    "# Creation des retrievers\n",
    "#retriever = chroma_db.as_retriever(k=12, search_type=\"mmr\")\n",
    "\n",
    "search_type=\"mmr\"\n",
    "retriever_chroma = chroma_db.as_retriever(\n",
    "    search_kwargs={\n",
    "        \"k\": 10, \n",
    "        \"fetch_k\": 20\n",
    "    },\n",
    "    search_type= search_type\n",
    ")\n",
    "\n",
    "retriever_faiss = faiss_db.as_retriever(\n",
    "    search_kwargs={\n",
    "        \"k\": 10, \n",
    "        \"fetch_k\": 20\n",
    "    },\n",
    "    search_type= search_type\n",
    ")\n",
    "\n",
    "\n",
    "# Test\n",
    "query = \"Context, environment, project rationale and challenges\"\n",
    "\n",
    "t=timing()\n",
    "result = retriever_chroma.invoke(query)\n",
    "print(f\"t1 :{timing()-t}\")\n",
    "print(f\"chroma_db:\")\n",
    "display(result)\n",
    "\n",
    "t=timing()\n",
    "result = retriever_faiss.invoke(query)\n",
    "print(f\"t2 :{timing()-t}\")\n",
    "print(f\"faiss:\")\n",
    "display(result)"
   ]
  },
  {
   "cell_type": "markdown",
   "metadata": {},
   "source": [
    "Sparse retrievers (basé sur la fréquence des mots)\n"
   ]
  },
  {
   "cell_type": "code",
   "execution_count": 12,
   "metadata": {},
   "outputs": [
    {
     "name": "stdout",
     "output_type": "stream",
     "text": [
      "time tfidf: 0.003677845001220703\n"
     ]
    },
    {
     "data": {
      "text/plain": [
       "[Document(metadata={'source': './data/PROJECT DOCUMENT MAHAKAM 2023-2025_balise.pdf', 'page': 40}, page_content=\"\\nlocal  communities  and  the  public  stakeholders  concerned  (villages  and\\ndistricts) in order to replicate these activities with the other villages of the\\nMahakam Delta.\\nThe tree protection from palm tree leaves and net that successfully works to\\nprotect tree in previous project will be documented and spread to the key\\nrestoration actors for possible replication in their project. In addition, PU\\nIndonesia will manage and distribute the publication and knowledge from the\\nproject  to  other  parties.  Module  and  material  environmental  education\\ncampaign will be used in the scale up project or other locations.\\nTable 3. Summary of our lessons learned, and best practices developed on\\nprevious projects in the Mahakam Delta\\n<table>\\nActivities Best practices\\n(+)\\nLessons learned\\n(-)\\nChange maker in\\nthis new project \\nRaising awareness\\nin schools \\n1/Raising \\nawareness in \\nschool generally \\nget support from \\nthe schools. 2) \\nAnimal costumes \\nare very attractive\\nfor elementary \\nschools' children. \\n3) The successful \\nof YML and  Pokja \\nPesisir introduction\\nenvironmental \\neducation in \\nPrimary and \\nSecondary \\nSchools. Teachers \\nhad just realized \\nthat they live in an\\nimportant \\nmangrove \\necosystem. There \\nis a desire to learn \\nmore about the \\nmangrove \\necosystem and a \\nwant to teach in \\nschools.\\nStudents have a \\nhigh interest in \\nlearning directly in\\nNot all teachers \\nhave creativity in \\nteaching, so \\nintensive \\nassistance is \\nneeded\\n1 and 2) The \\nproject will apply \\nsimilar method \\nand approach to \\nthe schools’ \\nteachers and \\nstudents. 3) In \\naddition, in this \\npilot phase, PU will\\nelaborate the \\npossibility to \\nintegrate the \\nenvironmental \\neducation in \\nelementary school \\ncurriculum.\\nTeachers have a \\nstrategic position \\nto foster \\nenvironmental \\nawareness. \\nTeachers can act \\nas very effective \\nagents of change \\nfor increasing \\nenvironmental \\nawareness\"),\n",
       " Document(metadata={'source': './data/PROJECT DOCUMENT MAHAKAM 2023-2025_balise.pdf', 'page': 55}, page_content='\\nHuman resources – Planète Urgence\\nHuman resources – Implementing partners\\nManagement actions – Planète Urgence\\n(including meetings, missions, coordination workshops, \\nmonitoring and evaluations, quality assurance, reporting, \\ncommunication, etc.)\\nManagement actions – Implementing partner \\n(including meetings, missions, coordination workshops, \\nmonitoring and evaluations, quality assurance, reporting, \\ncommunication, etc.)\\nCapacity building of project management staff (Planète Urgence \\nand implementing partners)\\nMid-term assessment (as appropriate)\\nTerminal and final assessment (as appropriate)\\nAudit(s) (as appropriate)\\n</table>'),\n",
       " Document(metadata={'source': './data/PROJECT DOCUMENT MAHAKAM 2023-2025_balise.pdf', 'page': 20}, page_content=\"\\n\\uf0b7 GOAL  :  Contribute to restoring the degraded mangrove forest in East\\nKalimantan  (Delta  Mahakam-Delta  Mahakam  and  Adang  Bay-Adang\\nBay as home of endemic and endangered species including proboscis\\nmonkey and key ecosystem to mitigate and to adapt the impact of\\nclimate change by strengthening the governance, planting mangrove\\ntree, improving environmental awareness and developing sustainable\\nlivelihood for local community.\\n\\uf0b7 DETAILS OF PLANNED ACTIVITIES  \\nOutput  1:  The  awareness  of  stakeholders  to  conserve  Delta\\nMahakam and Adang Bay is strengthened.  \\nAwareness raising activities in schools targeting teachers and students are\\nvery  strategic  activities  to  raise  awareness  on  the  importance  of\\nenvironmental  conservation,  especially  the  mangrove  ecosystem.  East\\nKalimantan is a province with the second largest area of mangrove forest\\nafter Papua Province, but there is very little material about mangroves in\\nschool subjects. The workshop experience with elementary school teachers\\nin Muara Jawa District in 2021 showed that schools really need knowledge\\nabout the mangrove ecosystem so that they can teach knowledge to the\\nstudents as early as possible. Campaigns and hands-on learning bring fun for\\nthe teacher and students and will be memorized for a long time.\\nActivity  1.1. Conduct  workshops  in  schools  of  East  Kalimantan\\nprovince  to  raise  awareness  on  environment  and  biodiversity\\npreservation. \\nThree sub-activities will be conducted:\\n1.1.1.  -Workshop  on  Environmental  Conservation  for  Primary  School\\nTeachers\\nThe objective of this sub-activity is to increase teachers' knowledge in the\\nfield of environmental conservation, especially the mangrove ecosystem and\\nits  biodiversity.  Furthermore,  the  teacher  will  integrate  the  subject  of\\nmangrove conservation in the subject of environmental education at school.\\nBy building the capacity of teachers, the project will promote a sustainable\"),\n",
       " Document(metadata={'source': './data/PROJECT DOCUMENT MAHAKAM 2023-2025_balise.pdf', 'page': 15}, page_content=\"\\nTable 2. Types of Land Cover and Land Use in Mahakam Delta5 \\nTypes of Land Cover and Land Use\\nin Mahakam Delta Land Area (ha) Percentage\\nMangrove Forest with Middle Density 11,053 8.8\\nMangrove Forest with High Density 49,885 39.7\\nIndustry 311 0.2\\nPlantation 5,356 4.3\\nOpen Land 193 0.2\\nResidential Area 889 0.7\\nRice Field 869 0.7\\nShrubs 2,080 1.7\\nCommercial Fish Ponds 54,865 43.7\\nTotal 125,502 100.0\\nSource: Result of SPOT satellite images 6/7 (2018)\\nb) Demography\\nThe demographic issue must also be considered. Indeed, the announcement\\nin 2019 of the relocation of the political and administrative capital of Jakarta\\nto the province of East Kalimantan, between the cities of Balikpapan and\\nSamarinda, suggests strong migrations, the development of infrastructures\\nbut  also  a  growing  demand  for  aquaculture  products.  By  2024,  the\\nIndonesian Minister of Planning hopes to transfer nearly 1.5 million public\\nofficials and political representatives in East Kalimantan.\\nDelta  Mahakam Ulu village,  which  belongs  to Delta  Mahakam district,  is\\nlocated in the northern part of the Mahakam Delta. The location of Delta\\nMahakam sub-district is close to the state-owned oil company (Pertamina),\\nformerly  VICO.  Due  to  the  proximity  of  a  fairly  large  company,  the\\ncommunity's economy is quite dynamic and the area offers a variety of jobs.\\nHowever, the number of people who still carry out the traditional work of\\nfishermen and fish farmers is still quite high, especially in the coastal areas.\\nWorking as a fish farmer has become one of the choices of the community as\\nland is available for opening ponds. The conversion of mangrove forests into\\nponds has been going on for decades, but the production of fish and shrimp\\nhas decreased from time to time. Based on various studies and research,\\nplanting a number of mangroves in ponds can improve the soil and water\\nquality in the ponds so that they can provide sustainable production. The\"),\n",
       " Document(metadata={'source': './data/PROJECT DOCUMENT MAHAKAM 2023-2025_balise.pdf', 'page': 15}, page_content='land is available for opening ponds. The conversion of mangrove forests into\\nponds has been going on for decades, but the production of fish and shrimp\\nhas decreased from time to time. Based on various studies and research,\\nplanting a number of mangroves in ponds can improve the soil and water\\nquality in the ponds so that they can provide sustainable production. The\\n5 Study of identification of levels of mangrove forest damaged for rebooting planning in \\nMahakam Delta in Kutai Kartanegara district. Jurnal “Gerbang Etam” Balitbangda Kab. Kukar\\nVol. 13 No. 1 Tahun 2019'),\n",
       " Document(metadata={'source': './data/PROJECT DOCUMENT MAHAKAM 2023-2025_balise.pdf', 'page': 16}, page_content='\\nfarmer groups in Delta Mahakam Ulu ponds are beginning to realise the\\nimportance of planting mangroves in the ponds, and therefore need support\\nfrom various parties. \\nc) Other issues\\nThe table below represents a summary of estimation of potential loss and\\ngain of mangroves in six major regions by 2035. The Kalimantan Island is the\\none to analyze in order to justify Planète Urgence and partners’ information.\\nThe analysis does not yet consider the movement of new capital issue which\\nvery likely affect the mangrove forest in East Kalimantan as well. \\nTable 2 *\\nThis table highlight the multiple and complex context in which mangrove loss\\ndepends and confirms challenges faced in Mahakam Delta area. The lack of\\nresources (financial, human resources, material) of local authorities coupled\\nwith  a  lack  of  transparency,  coordination  and  communication  around\\nresponsibilities of each actors impacts the management of mangrove forests,\\nnatural resources and territorial development. \\n6 Muhammad Ilmana,b, Paul Darguscha, Peter Dartc, Onrizal - A historical analysis of the \\ndrivers of loss and degradation of Indonesia’s mangroves, 2016.'),\n",
       " Document(metadata={'source': './data/PROJECT DOCUMENT MAHAKAM 2023-2025_balise.pdf', 'page': 17}, page_content='\\nAnother issue that has also had a major impact on life in Indonesia, including\\nEast Kalimantan, is the Covid 19 global pandemic that has attacked the\\nentire world since early 2020.  The  Covid 19 pandemic has had a major\\nimpact on life in Indonesia. East Kalimantan is a province outside Java Island\\nwith  the  highest  rate  of  exposure  to  Covid,  which  has  resulted  in  the\\ngovernment imposing a lockdown and restrictions on community activities.\\nAt the beginning of 2022, community activities began to return to normal,\\nbut a new variant emerged, namely Omicron, which spread very quickly.\\nFacing a pandemic situation that has not ended, of course, the project must\\ncontinue  but  still  pay  attention  to  security,  safety,  and  practice  health\\nprotocols.\\n3. Strategy & theory of change\\nThe  three  years  project  aims  to  contribute  to  restore  the  degraded  of\\nmangrove  ecosystem  in  Production  Forest  (Mahakamm  Delta)  and\\nConservation area (Adang Bay). In doing so, the project will address the key\\nproblems in those regions: \\na. Lack  of  awareness  of  local  people  on  mangrove  ecosystem,\\nbiodiversity issue and waste\\nb. Huge area of degraded mangrove forest which affect the resilience of\\nlocal  people  in  facing  climate  change,  the  habitat  of  endangered\\nspecies and local economy;\\nc. Lack of alternative sustainable livelihood in coastal area;\\nd. Poor  governance  particularly  on  mangrove  ecosystem  and  its\\nenvironmental and economy issue.   \\nTo overcome those problems, Planet Urgence and its partners will work by\\nimplementing the PU FORET strategy which rely on three components:\\n1. Restore degraded forest;\\n2. Environmental awareness;\\n3. Strengthening livelihood of local people. \\nIn addition, the involvement of local NGOs, local community and volunteer is\\nkey for the successful of the project and the sustainability the impact of the'),\n",
       " Document(metadata={'source': './data/PROJECT DOCUMENT MAHAKAM 2023-2025_balise.pdf', 'page': 17}, page_content='To overcome those problems, Planet Urgence and its partners will work by\\nimplementing the PU FORET strategy which rely on three components:\\n1. Restore degraded forest;\\n2. Environmental awareness;\\n3. Strengthening livelihood of local people. \\nIn addition, the involvement of local NGOs, local community and volunteer is\\nkey for the successful of the project and the sustainability the impact of the\\nproject. Therefore, PU will reinforce the capacity of those local stakeholders\\nto ensure they can carry out the project activities and together achieve the\\nlong-term goal of the project. \\nDiagram of the theory of change can be seen below or in this link  Proyek\\nNEW MAHAKAM 2023-2026 -TOC - 3.xlsx'),\n",
       " Document(metadata={'source': './data/PROJECT DOCUMENT MAHAKAM 2023-2025_balise.pdf', 'page': 18}, page_content='\\nFeature 3. Theory of Change\\n4. Beneficiaries\\nNumber of direct beneficiaries of the pilot project: 3245 people with the\\nproportion of 30% women and 70% men. \\nNumber of indirect beneficiaries: 3000 people by assuming at least the\\nproject will give benefit indirectly to 1500 people per location including in\\nEast Kalimantan and Indonesia.\\nThe target groups include: \\n- School children (primary schools and secondary schools)\\n- Teachers (primary school teachers)'),\n",
       " Document(metadata={'source': './data/PROJECT DOCUMENT MAHAKAM 2023-2025_balise.pdf', 'page': 19}, page_content='\\n- Community members (villagers, consists of fish farmers, women group,\\nand youth)\\n- Village officials\\n- Stakeholders  from  various  institutions  (government  institutions,\\nuniversities, and non-government organizations)\\n- Public audience in general (reached by Media) \\n Other potential groups: \\n- High school and university students\\n- Environmental activists\\n5. Location\\nThe location of the project is in Paser District (Adang Bay village) and Kutai\\nKartanegara district (Delta Mahakam) East Kalimantan Province. The location\\nof project is nearby the new capital of Indonesia which is in the Penajam\\nPaser Utara (around 130-160 km)\\nFeature 4: Site intervention New Mahakam Project\\n6. Expected  results,  planned  activities  &  required\\nresources')]"
      ]
     },
     "metadata": {},
     "output_type": "display_data"
    },
    {
     "name": "stdout",
     "output_type": "stream",
     "text": [
      "\n",
      "--------\n",
      "\n",
      "time BM25: 0.0020036697387695312\n"
     ]
    },
    {
     "data": {
      "text/plain": [
       "[Document(metadata={'source': './data/PROJECT DOCUMENT MAHAKAM 2023-2025_balise.pdf', 'page': 49}, page_content='\\nOutput 2: Rehabilitate \\ndegraded mangrove \\nforest\\nNumber of Study on land \\nsuitability for mangrove \\nreforestation\\nDocumentation \\nactivity\\nActivity Report \\nReport Document\\n1 2022 1 N/A N/A 1\\nNumber of Biodiverity \\nresearch   to discover \\nlinkage beetween habitat \\nrestoration and existing of \\nendangered species\\nDocumentation \\nactivity\\nActivity Report \\nReport Document\\n1 2021 1 N/A 1 2\\nNumber of nurseries \\nEstablished\\nDocumentation \\nactivity\\nActivity Report\\nNurseries \\ndatabase \\nmonitoring \\n3 2022 5 6 6 6\\nNumber of local \\ncommunities involved in \\nmangrove nurseries \\nDocumentation \\nactivity\\nActivity Report \\nList of \\nparticipants\\n100 2022 100 100 100 300\\nNumber of mangroves \\nplanted\\nDocumentation \\nactivity\\nActivity Report\\nDatabase \\nplanting \\nmonitoring\\nMap planting \\ndistribution\\n150.000   2022 230.000    325.00\\n0   \\n 250.0\\n00   \\n805.00\\n0   \\nNumber of local Documentation 60 2022 50 60 60 170'),\n",
       " Document(metadata={'source': './data/PROJECT DOCUMENT MAHAKAM 2023-2025_balise.pdf', 'page': 50}, page_content='\\ncommunities trained in \\nMangrove Reforestation\\nactivity\\nActivity Report \\nList of \\nparticipants\\nNumber of trainings \\nconducted\\nDocumentation \\nactivity\\nActivity Report \\nList of \\nparticipants\\n3 2022 3 3 3 9\\nNumber of local \\ncommunities participated \\nin tree monitoring\\nDocumentation \\nactivity\\nActivity Report \\nList of \\nparticipants\\nDatabase \\nplanting growth \\nmonitoring\\n0 2022 8 8 8 8\\nOutput Support the \\ndevelopment of \\nsustainable livelihood\\nNumber of communities \\nparticipated in sustainable\\naquaculture training\\nDocumentation \\nactivity\\nActivity Report \\nList of \\nparticipants\\n40 2022 40 40 40 120\\nNumber of sustainable \\nacquaculture demoplot \\nthrough silvofishery \\nscheme\\nDocumentation \\nactivity\\nActivity Report \\nList of \\nparticipants\\n1 2022 2 4 5 5\\nNumber of women groups \\ntrained and assisted in \\nDocumentation \\nactivity\\n4\\ngroups\\n2022 3 groups\\n 30\\n3\\ngroups\\n3\\ngroups\\n3\\ngroups'),\n",
       " Document(metadata={'source': './data/PROJECT DOCUMENT MAHAKAM 2023-2025_balise.pdf', 'page': 47}, page_content='\\n<table>\\n11. Results framework\\nEXPECTED RESULTS PERFORMANCE\\nINDICATORS\\nSOURCE OF\\nVERIFICATION\\nBaseline Target Final\\nValue Year 2023 2024 2025\\nOutput 1: Raising the \\nawareness of \\nstakeholders to \\nconserve the \\nEnvironment and \\nbiodiversity in Delta \\nMahakam & Teluk \\nAdang sustainably.\\nNumber of teachers (F/M) \\ntrained \\nDocumentation \\nactivity\\nActivity Report \\nList of \\nparticipants\\n50 2022 50 50 50 150\\nNumber of volunteers \\ninvolved in school \\ncampaign \\nDocumentation \\nactivity\\nActivity Report \\nList of volunteers\\n0 2022 6 6 6 18\\nNumber of schools \\nreached by the \\nawareness campaign \\nDocumentation \\nactivity\\nActivity Report \\nList of \\nparticipants\\n4 2022 4 3 5 6\\nNumber of students \\ninvolved in campaign\\nDocumentation \\nactivity\\nActivity Report \\nList of \\nparticipants\\n200 2022 400 250 400 1050\\nNumber of schools \\nassisted in Adiwiyata \\nprogram \\nDocumentation \\nactivity\\nActivity Report \\n0 2022 1 1 2 4'),\n",
       " Document(metadata={'source': './data/PROJECT DOCUMENT MAHAKAM 2023-2025_balise.pdf', 'page': 48}, page_content='\\nList of \\nparticipants\\nMoU Document\\nNumber of local \\ncommunities reached by \\nwaste management \\ncampaign\\nDocumentation \\nactivity\\nActivity Report \\nList of \\nparticipants\\n0 2022 100\\npersons\\na. 100\\nperson\\n b. 20\\nUser\\nAccount\\nYoutube\\n100\\nperson\\ns\\na. 200\\npersons\\n b. 20\\nUser\\nYoutub\\ne\\nAccount\\nNumber of Billboard for \\nenvironmental campaign \\nDocumentation\\nPlot location in \\nthe map\\n2 2022 0 2 0 2\\nNumber of Book \\npublication on best \\npractices related to \\nmicrofinance & nurseries \\nmaintenance \\nBook Publication\\nActivity Report \\n1 2022 1 book\\n 30\\ncopies\\n1 book\\n 30\\ncopies\\n2 books\\n 60\\nCopies\\nNumber of pepople \\nreached in Public \\nAwareness campaign \\nthrough media \\n(online/offline)\\nDocumentation \\nactivity\\nActivity Report\\nMedia coverage\\n1000\\nindirect\\n2022 50\\nDirect\\n 300\\nIndirect\\n50\\nDirect\\n 300\\nIndirect\\n50\\nDirect\\n 300\\nIndirec\\nt\\n150\\nDirect\\n 900\\nIndirect\\nNumber of Journalist Trip Media coverages \\n(offline/online)\\n10 2022 5 media\\ncoverag\\nes\\n5 media\\ncoverag\\nes\\n5\\nmedia\\ncovera\\nges\\n15\\nmedia\\ncoverag\\nes'),\n",
       " Document(metadata={'source': './data/PROJECT DOCUMENT MAHAKAM 2023-2025_balise.pdf', 'page': 18}, page_content='\\nFeature 3. Theory of Change\\n4. Beneficiaries\\nNumber of direct beneficiaries of the pilot project: 3245 people with the\\nproportion of 30% women and 70% men. \\nNumber of indirect beneficiaries: 3000 people by assuming at least the\\nproject will give benefit indirectly to 1500 people per location including in\\nEast Kalimantan and Indonesia.\\nThe target groups include: \\n- School children (primary schools and secondary schools)\\n- Teachers (primary school teachers)'),\n",
       " Document(metadata={'source': './data/PROJECT DOCUMENT MAHAKAM 2023-2025_balise.pdf', 'page': 51}, page_content='\\ndeveloping fish farmer \\nproduct \\n Activity Report \\nList of \\nparticipants\\n Database women\\ngroup income \\ngenerating\\n 26\\nwomen\\nwomen  30\\nwomen\\n 30\\nwomen\\n 30\\nwomen\\nOutput Strengthening \\nthe governence of \\nDelta Mahakam & \\nAdang Bay\\nNumber of local \\ncommunities participated \\nin FPIC \\nDocumentation \\nactivity\\nActivity Report \\nList of \\nparticipants\\n2 \\nvillages\\n 40 \\npersons\\n2022 2\\nvillages\\n 40\\npersons\\n2\\nvillages\\n 40\\npersons\\n2\\nvillage\\ns\\n 40\\nperson\\ns\\n6\\nvillages\\n 120\\nNumber of meetings with \\nkey stakeholder\\nDocumentation \\nactivity\\nMinutes of \\nMeeting\\nList of \\nparticipants\\n4 2022 4 4 4 12\\n</table>\\n12. Monitoring & evaluation\\nThe monitoring and evaluation of the project activities, risks, knowledge management, communication and others will\\nbe done internaly through:\\na.Monthly narrative and financial report\\nb.Quarterly narrative and financial report\\nc. Monthly coordination meeting with the partners.\\nd.Biweekly coordination meeting with the PU Paris.'),\n",
       " Document(metadata={'source': './data/PROJECT DOCUMENT MAHAKAM 2023-2025_balise.pdf', 'page': 41}, page_content='\\nnature\\nPublic awareness A public \\nawareness \\ncampaign using \\nlocal examples is \\nan interesting \\nthing for the \\ncommunity\\n1) Compared than \\nMERCI project, the \\nrelationship \\nbetween PU and \\npartner with local \\nmedia in \\nMAHAKAM project \\nwas weak. 2) With \\nthe legal status of \\nPU in Indonesia, it \\nis quite difficult for\\nPU Indonesia to \\nactively share the \\nprogress and \\nachievement of \\nthe project to the \\nlocal media.  \\nPU will facilitate \\nand encourage \\nimplementing \\npartners to \\nestablish \\ncollaboration with \\nthe local media. \\nPU will organize \\ninformal meetings \\nwith local media \\nand support the \\npartners by \\nproviding data and\\ninformation to \\nenrich the news \\ncoverage by local \\nmedia.\\nOn the other hand,\\nthe government \\nthat has a vision \\nfor environmental \\nconservation plays\\nan important role \\nin raising public \\nawareness\\nSustainable \\naquaculture \\n(demonstration \\nplots etc.)\\nThe fish farmer \\ngroup in Delta \\nMahakam Ulu has \\na strong trust with \\nPU and YML. The \\nprevious project \\nuses their ponds \\nas demonstration \\nplot. \\nPeople will receive\\ninformation easily \\nif they see \\nexamples directly \\nin the field. The \\ngovernment \\n(BRGM) replicates \\nmangrove planting\\nin ponds based on \\nseveral practices \\ncarried out by the \\ncommunity \\nincluding demo \\nThe impact of \\nsustainable \\naquaculture \\nintervention in the \\naquaculture pond \\ndo not yet \\ndocument well \\nalthough the fish \\nfarmer has felt the\\npositive impact of \\nthe intervention. \\nThe project will \\ncontinue work with\\nthe fish farmer to \\nintervene and \\nmonitor the \\nimpact. PU, \\npartner and fish \\nfarmer will discuss\\nkey parameters to \\nbe monitored and \\ncollaborate with \\nthe PU \\ncommunication \\nofficer to manage \\nthe information \\nfrom the pond.'),\n",
       " Document(metadata={'source': './data/PROJECT DOCUMENT MAHAKAM 2023-2025_balise.pdf', 'page': 26}, page_content='\\nThe  objective  is  to  increase  the  knowledge  of  the  local  community  in\\nimplementing mangrove reforestation project.\\n\\uf02d Target: 60 local communities in the 3 villages10. \\n\\uf02d Trainers/facilitator: the team of PU, YML and POKJA Pesisir.\\n\\uf02d Location: Delta Mahakam and Adang Bay, Paser. \\n\\uf02d Materials: \\na. Introduction of the mangrove ecosystems and its importance\\nb. Getting to know the type of mangrove species and its characteristic\\nc. Seed and propagule selection\\nd. Nursery preparation \\ne. Seedling the propagules in the nursery\\nf. Techniques of mangrove tree planting.\\n\\uf02d Methods and media: PowerPoint presentation, propagule/seedlings. \\n\\uf02d Strategy of implementation: coordination with the village officials and\\ncommunity leaders.\\n2.3.3 Tree planting\\nObjective: To reforest the dedicated plantation plots. \\n\\uf02d Target of tree planting\\nTable 3 *\\nLocation Number of trees\\n1st Year 2nd Year 3rd Year\\nMahakam Delta 300.000 trees\\n                  75,\\n000 \\n                 125,00\\n0 \\n                 100,\\n000 \\n-Direct method\\n                  22,\\n500 \\n                   37,50\\n0 \\n                   30,\\n000 \\n-Indirect method\\n                  52,\\n500 \\n                   87,50\\n0 \\n                   70,\\n000 \\n \\nAdang Bay 505.000 trees\\n                155,\\n000 \\n                 200,00\\n0 \\n                 150,\\n000 \\n-Direct method\\n                  50,\\n000 \\n                   60,00\\n0 \\n                   45,\\n000 \\n-Indirect method\\n                105,\\n000 \\n                 140,00\\n0 \\n                 105,\\n000 \\n10 60 people joining training, but the total number of people involved in the tree \\nplanting is expected to be 100 (in the 2 project locations)\\n(1) DELTA MAHAKAM (planting location 1 = Delta Mahakam Ulu, planting location\\n2 = Tanjung Limau)\\n(2) ADANG BAY'),\n",
       " Document(metadata={'source': './data/PROJECT DOCUMENT MAHAKAM 2023-2025_balise.pdf', 'page': 53}, page_content='\\n\\uf0b7 Identification and mapping of project boundaries\\n\\uf0b7 Consideration of regulatory surplus\\n\\uf0b7 Development of a list of reference scenarios ( Identification of obstacles, Analysis of obstacles, Determination of\\nreference scenario, Investment analysis\\n\\uf0b7 Definition of net GHG removals in the reference scenario, \\n\\uf0b7 Definition and proof of additionality\\n<table>\\n13. Timeline \\nEXPECTED RESULTS & PLANNED\\nACTIVITIES\\nTIMELINE\\nQ1 Q2 Q3 Q4 Q1 Q2 Q3 Q4 Q1 Q2 Q3 Q4\\nOutput 1\\xa0: Raising the awareness of stakeholders to \\nconserve and to manage Delta Mahakam sustainably.\\nA.1.1. Conduct workshops in schools of East Kalimantan province \\nto raise awareness on environment and biodiversity preservation.\\nA.1.2. Support Adiwiyata School\\nA.1.3. Conduct public awareness campaigns to sensitize \\ncommunities in East Kalimantan province to the ecological, \\neconomic and climatic benefits of the mangrove.\\nOutput 2\\xa0: Rehabilitate degraded mangrove forest\\nA.2.1. Pres-assessment study on land suitability\\nA.2.2. Ensure establishment and management of community-\\nbased nurseries'),\n",
       " Document(metadata={'source': './data/PROJECT DOCUMENT MAHAKAM 2023-2025_balise.pdf', 'page': 15}, page_content=\"\\nTable 2. Types of Land Cover and Land Use in Mahakam Delta5 \\nTypes of Land Cover and Land Use\\nin Mahakam Delta Land Area (ha) Percentage\\nMangrove Forest with Middle Density 11,053 8.8\\nMangrove Forest with High Density 49,885 39.7\\nIndustry 311 0.2\\nPlantation 5,356 4.3\\nOpen Land 193 0.2\\nResidential Area 889 0.7\\nRice Field 869 0.7\\nShrubs 2,080 1.7\\nCommercial Fish Ponds 54,865 43.7\\nTotal 125,502 100.0\\nSource: Result of SPOT satellite images 6/7 (2018)\\nb) Demography\\nThe demographic issue must also be considered. Indeed, the announcement\\nin 2019 of the relocation of the political and administrative capital of Jakarta\\nto the province of East Kalimantan, between the cities of Balikpapan and\\nSamarinda, suggests strong migrations, the development of infrastructures\\nbut  also  a  growing  demand  for  aquaculture  products.  By  2024,  the\\nIndonesian Minister of Planning hopes to transfer nearly 1.5 million public\\nofficials and political representatives in East Kalimantan.\\nDelta  Mahakam Ulu village,  which  belongs  to Delta  Mahakam district,  is\\nlocated in the northern part of the Mahakam Delta. The location of Delta\\nMahakam sub-district is close to the state-owned oil company (Pertamina),\\nformerly  VICO.  Due  to  the  proximity  of  a  fairly  large  company,  the\\ncommunity's economy is quite dynamic and the area offers a variety of jobs.\\nHowever, the number of people who still carry out the traditional work of\\nfishermen and fish farmers is still quite high, especially in the coastal areas.\\nWorking as a fish farmer has become one of the choices of the community as\\nland is available for opening ponds. The conversion of mangrove forests into\\nponds has been going on for decades, but the production of fish and shrimp\\nhas decreased from time to time. Based on various studies and research,\\nplanting a number of mangroves in ponds can improve the soil and water\\nquality in the ponds so that they can provide sustainable production. The\")]"
      ]
     },
     "metadata": {},
     "output_type": "display_data"
    }
   ],
   "source": [
    "from langchain.retrievers import BM25Retriever, TFIDFRetriever\n",
    "from sentence_transformers import CrossEncoder\n",
    "\n",
    "sparse_retriever_tfidf = TFIDFRetriever.from_documents(\n",
    "    documents=split_docs,\n",
    "    k=10,\n",
    "    tfidf_params={\"min_df\":1,\n",
    "            \"max_df\":2,\n",
    "            \"ngram_range\":(1, 2)}\n",
    "    )\n",
    "\n",
    "sparse_retriever_bm25 = BM25Retriever.from_documents(\n",
    "    documents=split_docs,\n",
    "    k=10,\n",
    "    tfidf_params={\"min_df\":1,\n",
    "            \"max_df\":2,\n",
    "            \"ngram_range\":(1, 2)}\n",
    "    )\n",
    "\n",
    "# question=\"Context, environment, project rationale and challenges\"\n",
    "# question='What are the key contextual factors, environmental conditions, project rationale, and potential challenges that may impact the success of the project, including aspects related to biodiversity, climate change impacts, socio-economic context, and health considerations?'\n",
    "question=\"Number of People Concerned\"\n",
    "t=timing()\n",
    "results=sparse_retriever_tfidf.invoke(question)\n",
    "print(f\"time tfidf:\", timing()-t)\n",
    "display(results)\n",
    "\n",
    "print(\"\\n--------\\n\")\n",
    "\n",
    "t=timing()\n",
    "results=sparse_retriever_bm25.invoke(question)\n",
    "print(f\"time BM25:\", timing()-t)\n",
    "display(results)"
   ]
  },
  {
   "cell_type": "markdown",
   "metadata": {},
   "source": [
    "Lexical retriever (basé sur le key word matching)"
   ]
  },
  {
   "cell_type": "code",
   "execution_count": 13,
   "metadata": {},
   "outputs": [
    {
     "name": "stdout",
     "output_type": "stream",
     "text": [
      "Question: Number of People Concerned\n",
      "['Number', 'People', 'Concerned']\n"
     ]
    },
    {
     "data": {
      "text/plain": [
       "[Document(metadata={'source': './data/PROJECT DOCUMENT MAHAKAM 2023-2025_balise.pdf', 'page': 18}, page_content='\\nFeature 3. Theory of Change\\n4. Beneficiaries\\nNumber of direct beneficiaries of the pilot project: 3245 people with the\\nproportion of 30% women and 70% men. \\nNumber of indirect beneficiaries: 3000 people by assuming at least the\\nproject will give benefit indirectly to 1500 people per location including in\\nEast Kalimantan and Indonesia.\\nThe target groups include: \\n- School children (primary schools and secondary schools)\\n- Teachers (primary school teachers)'),\n",
       " Document(metadata={'source': './data/PROJECT DOCUMENT MAHAKAM 2023-2025_balise.pdf', 'page': 38}, page_content='\\ndecide to contribute on the project. By doing this, the project aims to place \\nthe local people not as object the project, but the subject of project since \\nthey also contribute to design the activities of the project. \\nMoreover, regarding the new capital, the project expects to bring the voice \\nof local people in the coastal area in shaping the future plan of Mahakam \\nDelta and Adang Bay-Adang Bay. The involvement of local people will \\ncontribute to improve the governance in the coastal region.'),\n",
       " Document(metadata={'source': './data/PROJECT DOCUMENT MAHAKAM 2023-2025_balise.pdf', 'page': 15}, page_content='land is available for opening ponds. The conversion of mangrove forests into\\nponds has been going on for decades, but the production of fish and shrimp\\nhas decreased from time to time. Based on various studies and research,\\nplanting a number of mangroves in ponds can improve the soil and water\\nquality in the ponds so that they can provide sustainable production. The\\n5 Study of identification of levels of mangrove forest damaged for rebooting planning in \\nMahakam Delta in Kutai Kartanegara district. Jurnal “Gerbang Etam” Balitbangda Kab. Kukar\\nVol. 13 No. 1 Tahun 2019'),\n",
       " Document(metadata={'source': './data/PROJECT DOCUMENT MAHAKAM 2023-2025_balise.pdf', 'page': 17}, page_content='To overcome those problems, Planet Urgence and its partners will work by\\nimplementing the PU FORET strategy which rely on three components:\\n1. Restore degraded forest;\\n2. Environmental awareness;\\n3. Strengthening livelihood of local people. \\nIn addition, the involvement of local NGOs, local community and volunteer is\\nkey for the successful of the project and the sustainability the impact of the\\nproject. Therefore, PU will reinforce the capacity of those local stakeholders\\nto ensure they can carry out the project activities and together achieve the\\nlong-term goal of the project. \\nDiagram of the theory of change can be seen below or in this link  Proyek\\nNEW MAHAKAM 2023-2026 -TOC - 3.xlsx'),\n",
       " Document(metadata={'source': './data/PROJECT DOCUMENT MAHAKAM 2023-2025_balise.pdf', 'page': 24}, page_content='\\uf02d Content/Topic:  70,000  mangrove  trees  in  Delta  Mahakam,  80,000\\nmangrove trees in Adang Bay, Paser. \\n\\uf02d Methods and media: Technical assistance by Project staffs\\n\\uf02d Strategy of implementation: Collaboration with village officials and give\\nmore responsibility to the local people.\\n2.2.2 Maintenance of the nurseries \\n8 The location in general:\\n1.  Delta Mahakam with 2 nurseries in: \\n(1) Delta Mahakam Ulu with 40,000 trees, will be planted in fish pond \\n(2) Tanjung Limau with 30,000 trees, will be planted in coastal area. \\nThe community group working in this reforestation is the same group \\n2. Adang Bay Village, 1 nursery, 80,000 trees will be planted 40,000 in fish pond, and \\n40,000 in coastal and riparian'),\n",
       " Document(metadata={'source': './data/PROJECT DOCUMENT MAHAKAM 2023-2025_balise.pdf', 'page': 26}, page_content='\\nThe  objective  is  to  increase  the  knowledge  of  the  local  community  in\\nimplementing mangrove reforestation project.\\n\\uf02d Target: 60 local communities in the 3 villages10. \\n\\uf02d Trainers/facilitator: the team of PU, YML and POKJA Pesisir.\\n\\uf02d Location: Delta Mahakam and Adang Bay, Paser. \\n\\uf02d Materials: \\na. Introduction of the mangrove ecosystems and its importance\\nb. Getting to know the type of mangrove species and its characteristic\\nc. Seed and propagule selection\\nd. Nursery preparation \\ne. Seedling the propagules in the nursery\\nf. Techniques of mangrove tree planting.\\n\\uf02d Methods and media: PowerPoint presentation, propagule/seedlings. \\n\\uf02d Strategy of implementation: coordination with the village officials and\\ncommunity leaders.\\n2.3.3 Tree planting\\nObjective: To reforest the dedicated plantation plots. \\n\\uf02d Target of tree planting\\nTable 3 *\\nLocation Number of trees\\n1st Year 2nd Year 3rd Year\\nMahakam Delta 300.000 trees\\n                  75,\\n000 \\n                 125,00\\n0 \\n                 100,\\n000 \\n-Direct method\\n                  22,\\n500 \\n                   37,50\\n0 \\n                   30,\\n000 \\n-Indirect method\\n                  52,\\n500 \\n                   87,50\\n0 \\n                   70,\\n000 \\n \\nAdang Bay 505.000 trees\\n                155,\\n000 \\n                 200,00\\n0 \\n                 150,\\n000 \\n-Direct method\\n                  50,\\n000 \\n                   60,00\\n0 \\n                   45,\\n000 \\n-Indirect method\\n                105,\\n000 \\n                 140,00\\n0 \\n                 105,\\n000 \\n10 60 people joining training, but the total number of people involved in the tree \\nplanting is expected to be 100 (in the 2 project locations)\\n(1) DELTA MAHAKAM (planting location 1 = Delta Mahakam Ulu, planting location\\n2 = Tanjung Limau)\\n(2) ADANG BAY'),\n",
       " Document(metadata={'source': './data/PROJECT DOCUMENT MAHAKAM 2023-2025_balise.pdf', 'page': 28}, page_content='mining and water transportation activity. If this condition is allowed and \\nthere is no conservation effort, the population of proboscis monkey will \\ndecrease from year to year. Planting mangrove in the degraded area could \\nbe restore the species habitat. In the end of project, we will measure the \\nimpact of planting activity to the number of biodiverisity (either increased or \\nno direct linkage)\\n\\uf02d Target: Identify and collected databese of number of group & \\npopulation Proboscis monkey (Nasalis larvatus) in each of intervention \\narea\\n\\uf02d Locations: \\n11 This will wait for futher information from the implementation of Wildsense, but in the \\nmeantime the project will develop and improve the indicators to be reported and the \\nexisting monitoring arrangements.'),\n",
       " Document(metadata={'source': './data/PROJECT DOCUMENT MAHAKAM 2023-2025_balise.pdf', 'page': 50}, page_content='\\ncommunities trained in \\nMangrove Reforestation\\nactivity\\nActivity Report \\nList of \\nparticipants\\nNumber of trainings \\nconducted\\nDocumentation \\nactivity\\nActivity Report \\nList of \\nparticipants\\n3 2022 3 3 3 9\\nNumber of local \\ncommunities participated \\nin tree monitoring\\nDocumentation \\nactivity\\nActivity Report \\nList of \\nparticipants\\nDatabase \\nplanting growth \\nmonitoring\\n0 2022 8 8 8 8\\nOutput Support the \\ndevelopment of \\nsustainable livelihood\\nNumber of communities \\nparticipated in sustainable\\naquaculture training\\nDocumentation \\nactivity\\nActivity Report \\nList of \\nparticipants\\n40 2022 40 40 40 120\\nNumber of sustainable \\nacquaculture demoplot \\nthrough silvofishery \\nscheme\\nDocumentation \\nactivity\\nActivity Report \\nList of \\nparticipants\\n1 2022 2 4 5 5\\nNumber of women groups \\ntrained and assisted in \\nDocumentation \\nactivity\\n4\\ngroups\\n2022 3 groups\\n 30\\n3\\ngroups\\n3\\ngroups\\n3\\ngroups'),\n",
       " Document(metadata={'source': './data/PROJECT DOCUMENT MAHAKAM 2023-2025_balise.pdf', 'page': 23}, page_content='\\uf02d Strategy of implementation: PU will assist, encourage and facilitate\\nimplementing partners to coordinate actively with online local media\\nwhich has big number of subscribers or viewers. \\nOutput 2: 300 ha area of degraded mangrove forest are restored by\\nplanting 800.000 of mangrove tree.\\nRehabilitation of degraded mangrove forests is the main activity of this project. The \\nMahakam Delta and the east coast of East Kalimantan are areas that are naturally \\novergrown with mangrove vegetation, but currently many have been converted for \\nsettlements, industry and aquaculture ponds. Mangrove planting in degraded areas \\nand in ponds is important because it will contribute to restoring the function of the \\nmangrove ecosystem and improving environmental quality.  \\n7 In general, a local tax will be imposed on profit-oriented billboards.'),\n",
       " Document(metadata={'source': './data/PROJECT DOCUMENT MAHAKAM 2023-2025_balise.pdf', 'page': 49}, page_content='\\nOutput 2: Rehabilitate \\ndegraded mangrove \\nforest\\nNumber of Study on land \\nsuitability for mangrove \\nreforestation\\nDocumentation \\nactivity\\nActivity Report \\nReport Document\\n1 2022 1 N/A N/A 1\\nNumber of Biodiverity \\nresearch   to discover \\nlinkage beetween habitat \\nrestoration and existing of \\nendangered species\\nDocumentation \\nactivity\\nActivity Report \\nReport Document\\n1 2021 1 N/A 1 2\\nNumber of nurseries \\nEstablished\\nDocumentation \\nactivity\\nActivity Report\\nNurseries \\ndatabase \\nmonitoring \\n3 2022 5 6 6 6\\nNumber of local \\ncommunities involved in \\nmangrove nurseries \\nDocumentation \\nactivity\\nActivity Report \\nList of \\nparticipants\\n100 2022 100 100 100 300\\nNumber of mangroves \\nplanted\\nDocumentation \\nactivity\\nActivity Report\\nDatabase \\nplanting \\nmonitoring\\nMap planting \\ndistribution\\n150.000   2022 230.000    325.00\\n0   \\n 250.0\\n00   \\n805.00\\n0   \\nNumber of local Documentation 60 2022 50 60 60 170')]"
      ]
     },
     "execution_count": 13,
     "metadata": {},
     "output_type": "execute_result"
    }
   ],
   "source": [
    "from langchain_core.prompts import ChatPromptTemplate\n",
    "from langchain_core.output_parsers import StrOutputParser\n",
    "\n",
    "\n",
    "import string\n",
    "\n",
    "def remove_punctuation(text):\n",
    "    text_no_punctuation = text.translate(str.maketrans('', '', string.punctuation))\n",
    "    words = text_no_punctuation.split()\n",
    "    return words\n",
    "\n",
    "def keyword_association_retriever(query, top_k=10, documents=split_docs, print_keywords=False):\n",
    "    query_keywords = llm_extract_keyworks.invoke({\"question\":query})\n",
    "    # print(query_keywords)\n",
    "    query_keywords = remove_punctuation(query_keywords)  # Liste des mots-clés dans la requête\n",
    "    if print_keywords:\n",
    "        print(query_keywords)\n",
    "    results = []\n",
    "\n",
    "\n",
    "    for doc in documents:\n",
    "        doc_text = doc.page_content.lower()\n",
    "        # Compter les cooccurrences des mots-clés dans le document\n",
    "        keyword_matches = sum(1 for word in query_keywords if word.lower() in doc_text)\n",
    "        # Pondérer le score par la densité des mots-clés\n",
    "        try:\n",
    "            score = keyword_matches / len(doc_text.split())\n",
    "        except Exception as e:\n",
    "            print(e)\n",
    "            score=0\n",
    "\n",
    "        results.append((doc, score))\n",
    "\n",
    "    # Trier les résultats par score\n",
    "    ranked_results = sorted(results, key=lambda x: x[1], reverse=True)\n",
    "    return [doc for doc, _ in ranked_results[:top_k]]\n",
    "\n",
    "system_prompt_exact=\"\"\"Extract the most relevant keywords from the following text to facilitate searching for important documents containing these terms. \n",
    "    Only provide the extracted keywords, without additional text or explanations.\n",
    "\"\"\"\n",
    "\n",
    "system_prompt_synonyms=\"\"\"Extract the most relevant keywords from the following text to facilitate searching for important documents.  \n",
    "\n",
    "- For each extracted keyword, also include its closest synonyms.  \n",
    "- Return all keywords and synonyms in a **single flat list**, without categorization, explanations, or additional text.  \n",
    "- Ensure the extracted terms are meaningful and relevant to the text's context.  \n",
    "\n",
    "### **Output Format:**  \n",
    "A **comma-separated** flat list of keywords and their closest synonyms.  \n",
    "\"\"\"\n",
    "\n",
    "prompt_extract_keyworks = ChatPromptTemplate.from_messages(\n",
    "    [\n",
    "        (\"system\", system_prompt_exact),\n",
    "        (\"human\", \"{question}\"),\n",
    "    ]\n",
    ")\n",
    "llm_extract_keyworks = prompt_extract_keyworks | llm_qa | StrOutputParser()\n",
    "resp=llm_extract_keyworks.invoke(question)\n",
    "remove_punctuation(resp)\n",
    "\n",
    "print(f\"Question: {question}\")\n",
    "keyword_association_retriever(query=question, top_k=10, print_keywords=True)"
   ]
  },
  {
   "cell_type": "markdown",
   "metadata": {},
   "source": [
    "Reranker"
   ]
  },
  {
   "cell_type": "code",
   "execution_count": 14,
   "metadata": {},
   "outputs": [
    {
     "name": "stderr",
     "output_type": "stream",
     "text": [
      "Some weights of the model checkpoint at google-bert/bert-large-uncased-whole-word-masking-finetuned-squad were not used when initializing BertForQuestionAnswering: ['bert.pooler.dense.bias', 'bert.pooler.dense.weight']\n",
      "- This IS expected if you are initializing BertForQuestionAnswering from the checkpoint of a model trained on another task or with another architecture (e.g. initializing a BertForSequenceClassification model from a BertForPreTraining model).\n",
      "- This IS NOT expected if you are initializing BertForQuestionAnswering from the checkpoint of a model that you expect to be exactly identical (initializing a BertForSequenceClassification model from a BertForSequenceClassification model).\n",
      "Device set to use cuda:0\n"
     ]
    }
   ],
   "source": [
    "# reranker = CrossEncoder(\"cross-encoder/ms-marco-MiniLM-L-6-v2\")\n",
    "\n",
    "# print(reranker.predict((\"What is the budget\", \"The budget is 814.900 €\")))\n",
    "\n",
    "# print(reranker.predict((\"What is the budget\", \"Number of people concerned\")))\n",
    "\n",
    "# QA model\n",
    "import torch\n",
    "from transformers import pipeline\n",
    "# del pipe_candidate1\n",
    "torch.cuda.empty_cache()\n",
    "# pipe_question_document_relevance_deepset = pipeline(\"question-answering\", model=\"deepset/roberta-base-squad2\", device=0)\n",
    "# Use a pipeline as a high-level helper\n",
    "\n",
    "# pipe_candidate1 = pipeline(\"question-answering\", model=\"distilbert/distilbert-base-cased-distilled-squad\", device=0)\n",
    "pipe_candidate2 = pipeline(\"question-answering\", model=\"google-bert/bert-large-uncased-whole-word-masking-finetuned-squad\", device=0)\n",
    "# pipe_candidate3 = pipeline(\"question-answering\", model=\"deepset/roberta-large-squad2\", device=0)\n",
    "# pipe_candidate4 = pipeline(\"question-answering\", model=\"deepset/xlm-roberta-large-squad2\", device=0)\n",
    "\n",
    "\n"
   ]
  },
  {
   "cell_type": "code",
   "execution_count": 15,
   "metadata": {},
   "outputs": [
    {
     "data": {
      "text/plain": [
       "{'score': 0.6023038625717163,\n",
       " 'start': 116,\n",
       " 'end': 140,\n",
       " 'answer': 'East Kalimantan Province'}"
      ]
     },
     "metadata": {},
     "output_type": "display_data"
    }
   ],
   "source": [
    "question = \"What is the specific country and city where the project is being implemented?\"\n",
    "# question='what is the budget of this project'\n",
    "document = \"The location of the project is in Paser District (Adang Bay village) and Kutai Kartanegara district (Delta Mahakam) East Kalimantan Province.\"\n",
    "\n",
    "# display(pipe_question_document_relevance_deepset(context= document, question=question))\n",
    "# display(pipe_candidate1(context= document, question=question))\n",
    "display(pipe_candidate2(context= document, question=question))\n",
    "# display(pipe_candidate3(context= document, question=question))\n",
    "# display(pipe_candidate4(context= document, question=question))\n"
   ]
  },
  {
   "cell_type": "markdown",
   "metadata": {},
   "source": [
    "Hybrid search (combinaison du sémantique, sparse et lexical)"
   ]
  },
  {
   "cell_type": "code",
   "execution_count": 16,
   "metadata": {},
   "outputs": [],
   "source": [
    "from langchain_core.runnables import chain\n",
    "\n",
    "\n",
    "dense_retriever = retriever_faiss\n",
    "sparse_retriever = sparse_retriever_tfidf\n",
    "\n",
    "@chain\n",
    "def hybrid_retrieval(query, top_k=8, dense_retriever=dense_retriever, sparse_retriever=sparse_retriever):\n",
    "    # query = query[\"question\"]\n",
    "    dense_results = dense_retriever.get_relevant_documents(query)\n",
    "    sparse_results = sparse_retriever.get_relevant_documents(query)\n",
    "\n",
    "    # Fusionner\n",
    "    combined_results = dense_results + sparse_results + keyword_association_retriever(query)\n",
    "    \n",
    "\n",
    "    # Supprimer les doublons\n",
    "    unique_results = {doc.page_content: doc for doc in combined_results}.values()\n",
    "\n",
    "    \n",
    "    # Reranking with crossencoder\n",
    "    # reranked_results = reranker.predict([(query, doc.page_content) for doc in unique_results])\n",
    "    # sorted_results = sorted(zip(unique_results, reranked_results), key=lambda x: x[1], reverse=True)\n",
    "    print(f\"nb resultats uniques avant reranking: {len(unique_results)}\")\n",
    "    # Reranking with Q/A model\n",
    "    reranked_results=[{\"score\": pipe_candidate2(query, doc.page_content)[\"score\"], \"doc\": doc} for doc in unique_results]\n",
    "    \n",
    "    # Filtrer sur 1ere moitiée\n",
    "    n=min(len(reranked_results), top_k)\n",
    "    sorted_results=sorted(reranked_results, key=lambda x: x[\"score\"]>0.25, reverse=True)[:n]\n",
    "    # ajout du score pour analyse\n",
    "    res=[]\n",
    "    for doc in sorted_results:\n",
    "        doc[\"doc\"].metadata[\"score\"]=doc[\"score\"]\n",
    "        res.append(doc[\"doc\"])\n",
    "    sorted_results=res    \n",
    "    \n",
    "    print(f\"nb resultats uniques après reranking: {len(sorted_results)}\")\n",
    "    \n",
    "\n",
    "\n",
    "    # return [doc for doc, _ in sorted_results[:top_k]]\n",
    "    return sorted_results"
   ]
  },
  {
   "cell_type": "code",
   "execution_count": 17,
   "metadata": {},
   "outputs": [],
   "source": [
    "# Eval ran reply with llm\n",
    "def score_reference_vs_rag_with_gpt(question, reference_text, ragReply, llm=llm_evaluator):\n",
    "    # prompt=f\"\"\"\n",
    "    #     Help me to compare a RAG answer against a reference text to a given question\n",
    "\n",
    "    #     Question:\\n{question}\n",
    "\n",
    "    #     Reference text:\\n{reference_text} \n",
    "\n",
    "    #     RAG anwser:\\n{ragReply}\n",
    "\n",
    "    #     Provide a score for 1 to 10 to evaluate the quality of the RAG answer against the reference text (coherence, coverage, clarity ..)\n",
    "    #     When the RAG answer states it does have enough information to reply entierly to the question, don't penalize it in your evaluation.\n",
    "    #     Respond only with the score (1,2 ... 10)\n",
    "    # \"\"\"\n",
    "\n",
    "    prompt=f\"\"\"\n",
    "        Evaluate the quality of a Retrieval-Augmented Generation (RAG) answer by comparing it against a reference text for a given question.  \n",
    "\n",
    "        ### Inputs:  \n",
    "        - **Question:** {question}  \n",
    "        - **Reference Text:** {reference_text}  \n",
    "        - **RAG Answer:** {ragReply}  \n",
    "\n",
    "        ### Evaluation Criteria:  \n",
    "        Rate the RAG answer on a scale of **1 to 10** based on the following aspects:  \n",
    "        1. **Coherence:** How logically structured and consistent the answer is.  \n",
    "        2. **Coverage:** How well the answer addresses key points found in the reference text.  \n",
    "        3. **Clarity:** How clearly the answer conveys information.  \n",
    "\n",
    "        **Important Consideration:**  \n",
    "        - If the RAG answer explicitly states that it lacks sufficient information to fully answer the question, do **not** penalize it.  \n",
    "\n",
    "        ### Output Format:  \n",
    "        Respond **only** with a single number between **1 and 10** (e.g., 1, 2, ..., 10).  \n",
    "\n",
    "    \"\"\"\n",
    "\n",
    "    resp=llm.invoke(prompt)    \n",
    "    \n",
    "    \n",
    "    try:\n",
    "        return int(resp.content)\n",
    "    except:\n",
    "        return resp.content\n",
    "\n",
    "\n",
    "\n"
   ]
  },
  {
   "cell_type": "code",
   "execution_count": 18,
   "metadata": {},
   "outputs": [],
   "source": [
    "# La 'reference_answer' est copiée manuellement du document pour être utilisée comme texte de référence lors de l'évaluation\n",
    "\n",
    "questions=[\n",
    "    {\n",
    "        \"q_#\": 1,\n",
    "        \"question\": \"Description of the project\", \n",
    "        \"reference_answer\": \"\"\"    \n",
    "            Brief project description\n",
    "            East Kalimantan Province in 2021/2022 received great attention nationally\n",
    "            because of the moving of the state capital city (Jakarta) to a location near\n",
    "            the city of Balikpapan and Penajam Paser Utara in East Kalimantan Province.\n",
    "            The development of the new capital will start in 2022. Although the\n",
    "            Indonesia President commit to develop the new capital as Forest and Smart\n",
    "            City, the surrounding area particularly the coastal area such as Delta\n",
    "            Mahakam and Adang Bay might get high pressure as the consequence of the\n",
    "            new development and the movement of 1.5 million people to the new\n",
    "            capital.\n",
    "            Delta Mahakam, in the eastern part of East Kalimantan, is an area that is\n",
    "            relatively close to the prospective center of the State capital (about 100 km).\n",
    "            Mahakam Delta is naturally a mangrove habitat, but due to excessive land\n",
    "            clearing for extensive aquaculture about 47.5 % of the mangrove ecosystem\n",
    "            is degraded to be converted into aquaculture (2017). Despite various\n",
    "            conservation efforts by different parties and the government, land clearing\n",
    "            still continues. Delta Mahakam land ownership is government land that has\n",
    "            designated as a production forest, but this area has been inhabited by\n",
    "            residents from generation to generation.\n",
    "            Adang Bay is one of the coastal villages in Adang Bay, Paser Regency, on the\n",
    "            southern part of East Kalimantan Province (about 100 km from the new\n",
    "            capital). This area is also experiencing land conversion to increase\n",
    "            aquaculture, besides there are several locations in coastal areas that are\n",
    "            affected by abrasion. Restoration activities in East Kalimantan Province are\n",
    "            needed to restore a degraded environment, as well as to support the vision\n",
    "            of the nation's capital as a green city.\n",
    "            The ecosystem in Delta Mahakam and Adang Bay 1 are also home to\n",
    "            critically endangered species, such as the nasal monkey (proboscis\n",
    "            monkey), endemic to the island of Borneo. On a global scale, the mangrove\n",
    "            is a key ecosystem to answer the challenge of carbon sequestration and\n",
    "            fight against climate change.\n",
    "            The objective of the project is therefore to contribute to restore the\n",
    "            degraded mangrove forest in East Kalimantan (Delta Mahakam and Adang\n",
    "            Bay) as home of endemic and endangered species including proboscis\n",
    "            monkey and key ecosystem to mitigate and to adapt the impact of climate\n",
    "            change; and this, through four main actions: raising awareness of the\n",
    "            stakeholders, rehabilitating degraded mangrove forest, supporting the\n",
    "        \"\"\"\n",
    "    },\n",
    "    {\n",
    "        \"q_#\": 2,\n",
    "        \"question\": \"Country and city\", \n",
    "        \"reference_answer\": \"\"\"\n",
    "            The location of the project is in Paser District (Adang Bay village) and Kutai\n",
    "            Kartanegara district (Delta Mahakam) East Kalimantan Province. The location\n",
    "            of project is nearby the new capital of Indonesia which is in the Penajam\n",
    "            Paser Utara (around 130-160 km)\n",
    "        \"\"\"\n",
    "    },\n",
    "    {\n",
    "        \"q_#\": 3,\n",
    "        \"question\": \"Target beneficiaries\", \n",
    "        \"reference_answer\": \"\"\"\n",
    "            Number of direct beneficiaries of the pilot project: 3245 people with the\n",
    "            proportion of 30% women and 70% men.\n",
    "            Number of indirect beneficiaries: 3000 people by assuming at least the\n",
    "            project will give benefit indirectly to 1500 people per location including in\n",
    "            East Kalimantan and Indonesia.\n",
    "            The target groups include:\n",
    "            - School children (primary schools and secondary schools)\n",
    "            - Teachers (primary school teachers)\n",
    "            - Community members (villagers, consists of fish farmers, women group,\n",
    "            and youth)\n",
    "            - Village officials\n",
    "            - Stakeholders from various institutions (government institutions,\n",
    "            universities, and non-government organizations)\n",
    "            - Public audience in general (reached by Media)\n",
    "            Other potential groups:\n",
    "            - High school and university students\n",
    "            - Environmental activists \n",
    "        \"\"\"\n",
    "    },\n",
    "    {\n",
    "        \"q_#\": 4,\n",
    "        \"question\": \"Number of people concerned\", \n",
    "        \"reference_answer\":\"\"\"\n",
    "            Number of direct beneficiaries of the pilot project: 3245 people with the\n",
    "            proportion of 30% women and 70% men.\n",
    "            Number of indirect beneficiaries: 3000 people by assuming at least the\n",
    "            project will give benefit indirectly to 1500 people per location including in\n",
    "            East Kalimantan and Indonesia.\n",
    "        \"\"\" \n",
    "    },\n",
    "    {\n",
    "        \"q_#\": 5,\n",
    "        \"question\": \"Context, environment, project rationale and challenges\", \n",
    "        \"reference_answer\": \"\"\"\n",
    "            Context & environment and development challenges\n",
    "            Geographic and socio-economic context\n",
    "            East Kalimantan is one of the richest provinces in Indonesia and the main\n",
    "            contribution to the national GDP. Before palm oil and mining coal booming in\n",
    "            early 2000, forestry, mining and gas sectors are the backbone of economic\n",
    "            development in East Kalimantan. Because too much depending on the\n",
    "            unrenewable natural resources, the economic growth of East Kalimantan\n",
    "            gradually declines and, in 2016, reached the minus point because of the\n",
    "            lowest price of coal at the global level. In 2019, Indonesia government has\n",
    "            decided to move the capital of Indonesia from Jakarta to East Kalimantan.\n",
    "            Currently, the government accelerate the infrastructure development of new\n",
    "            capital.\n",
    "\n",
    "            The project will be implemented in several regions of Mahakam Delta and\n",
    "            Adang Bay. Mahakam Delta is located on the eastern coast of the island of\n",
    "            Borneo, in East Kalimantan province, which is one of the five provinces that\n",
    "            has the lowest population density in Indonesia. This province is also the main\n",
    "            contributor to the national GDP, mainly for its wealth in oil and gas. It is\n",
    "            nevertheless aquaculture activities which constitute the main source of\n",
    "            income for the local population. About 90% of the population depend on it\n",
    "            for their livelihood. As a result, 54.19% of the Mahakam Delta has been\n",
    "            converted to shrimp ponds. The majority of exports from the area are made\n",
    "            up of tiger shrimp and white shrimp that are farmed in the delta ponds and\n",
    "            along the Paser District's shore.\n",
    "\n",
    "            Paser District is located on the east coast of East Kalimantan Province. The\n",
    "            village of Adang Bay is located in the coastal area of this district, in Adang\n",
    "            Bay. This area is a conservation area managed by the Ministry of Forestry\n",
    "            (KPHP). Therefore, limited economic activities are allowed in this area.\n",
    "            However, since the late 1990s, massive clearing for the construction of\n",
    "            aquaculture ponds has destroyed the mangrove forest in the area. According    \n",
    "            to the District Pastor's Investment Agency, about 1,506 people live in Adang\n",
    "            Bay. Most of them work as fishermen, fish farmers and swallowers. The\n",
    "            village government and the community have made a strong commitment to\n",
    "            conserve the area by adhering to the jurisdictional REDD+ approach, funded\n",
    "            by the World Bank's FCPF or Forest Carbon Partnership Facility Project.\n",
    "            Environmental context\n",
    "            Largest archipelago in the world (more than 13,000 islands), Indonesia has\n",
    "            an area of 1,905,000 km2 of which less than 50% is still covered by forests\n",
    "            today, while the country is part of the 3rd largest planetary tropical\n",
    "            forest zone (after the Amazon and the Congo Basin). More than half of\n",
    "            Indonesian forests have disappeared since 1960. However, they are home to\n",
    "            a large part of the world's biodiversity (more than 10% respectively of plant,\n",
    "            mammal, reptile and bird species). Today, the country counts for 3 to 5% of\n",
    "            annual global greenhouse gas emissions (among the 10 most emitting\n",
    "            countries) including more than 50% due to land use, their change of land use\n",
    "            and the exploitation of forests.\n",
    "            Indonesia is home to almost 1/4 of the world's mangroves (20%). This\n",
    "            maritime ecosystem, made up of a set of mainly woody plants (the most\n",
    "            notable species being the mangrove), develops in the swinging area of the\n",
    "            tides of the low coasts and in marshes at the mouth of certain rivers. Of the\n",
    "            nearly 3.2 million hectares of mangrove forest 2 in the country today, more\n",
    "            than 50,000 ha are lost each year.\n",
    "            The mangrove is one of the most productive ecosystems on the planet,\n",
    "            home to a particularly abundant biomass. The mangroves' root system is\n",
    "            notably a biotope where a variety of fish and crabs live and reproduce. The\n",
    "            mangrove thus provides important resources (forestry and fishery) to coastal\n",
    "            populations, a natural “buffer” zone adapted to salinity, filtering sediment\n",
    "            and pollution carried by rivers and the sea, and preserving the fresh water\n",
    "            resources of the land. They are a food security and livelihood issue, in\n",
    "            particular providing income to fishing communities. This ecosystem is also\n",
    "            an important natural fount of carbon, with Indonesian mangroves storing\n",
    "            around 5 times more carbon per hectare than terrestrial forests. The\n",
    "            government of Indonesia has taken into account this ecosystem in its REDD+\n",
    "            strategy, implemented in the only pilot province of East-Kalimantan, with the\n",
    "            Provincial Council on Climate Change (DDPI) with the support of the World\n",
    "            Bank in the framework of the “Forest Carbon Partnership Facility Project”.\n",
    "            Finally, the mangrove plays a key role in natural defense. The complex\n",
    "            network of mangrove roots can help reduce wave power, which limits erosion\n",
    "            and protects coastal communities from the destructive forces of tropical\n",
    "            storms. Mangroves provide protection against extreme weather events and\n",
    "            tsunamis, and can adapt to rising sea levels and subsidence. They therefore    \n",
    "            contribute to reducing the risk of disasters, to the resilience of communities\n",
    "            and ecosystems and to their adaptation to climate change.\n",
    "            In Mahakam Delta, results from a study conducted in 2018 and 2019 by the\n",
    "            Kutai Kartanegara District has shown that 47.8% of mangrove forests are\n",
    "            deteriorated.\n",
    "            Table 1. Critical Criteria of Mahakam Delta Mangrove3\n",
    "            Critical Criteria Land Area (ha) Percentage\n",
    "            Damaged 7,034 5.6\n",
    "            Severe 52,945 42.2\n",
    "            Undamaged 65,522 52.2\n",
    "            Total 125,502 100.0\n",
    "            \n",
    "            Source: The Result of Spatial Analysis of Mangrove Damage Level (2018)\n",
    "\n",
    "            With the plan to move the state capital to Penajam Paser Utara District\n",
    "            (PPU), the development activities to create this new big city will take place\n",
    "            massively. The central government has planned to create a green city for the\n",
    "            new capital, which construction will start in 2022, but various problems still\n",
    "            pose challenges in locations outside the new capital. On the one hand, a\n",
    "            close government center can control the surrounding environment to keep it\n",
    "            conserved, but the gap in the quality of human resources and plans to move\n",
    "            a large number of people from Jakarta to this area will certainly cause\n",
    "            pressure on the environment.\n",
    "\n",
    "            Biodiversity issues\n",
    "            The mangrove of Mahakam Delta conceals a rich marine and arboreal\n",
    "            biodiversity, characterized by a large variety of fish, arthropods, reptiles\n",
    "            such as the marine crocodile (Crocodylus porosus), aquatic mammals such\n",
    "            as the Irrawaddy dolphin (Orcaella brevirostris) or terrestrial like the nasal\n",
    "            monkey (Nasalis larvatus), these last 2 species being considered as being\n",
    "            “endangered” by the IUCN.\n",
    "            The deforestation of Mahakam Delta’s mangrove hampers the effort to\n",
    "            conserve this type of species, for example by fragmenting the habitat of the\n",
    "            nasal monkey, whose interaction between populations strongly depends on\n",
    "            the continuity of the canopy. The isolation of these populations makes them\n",
    "            more vulnerable to poaching. The long-nosed monkey, endemic of Borneo\n",
    "            Island is listed as “Endangered” by the IUCN as it has undergone extensive    \n",
    "            population reductions across its range, and ongoing hunting and habitat\n",
    "            destruction continue to threaten most populations. Numbers have\n",
    "            declined by more than 50% (but probably less than 80%) over the past 3\n",
    "            generations (approximately 36-40 years).4 At the scale of Mahakam Delta,\n",
    "            only 2 censuses have been conducted to monitor this specie, respectively in\n",
    "            1997 and 2005 which reflects the lack of resources of local institutions to\n",
    "            conserve and protect this biodiversity.\n",
    "            In addition, the degradation of this ecosystem leads to a decrease in fish\n",
    "            stocks in the delta, threatening both fishermen and species such as sea\n",
    "            crocodiles and dolphins. The situation is currently might threatening to\n",
    "            exacerbate human-animal conflicts and therefore to further decrease the\n",
    "            populations of the above-mentioned species, even threatening them with\n",
    "            extinction. Hence, beside preventing the mangrove forest conversion into\n",
    "            palm oil plantation, aquaculture ponds, and other usages, the reforestation\n",
    "            activity is necessary to improve the degraded mangrove ecosystem in the\n",
    "            coastal area.\n",
    "            Paradoxically, the considerable modification of delta habitats resulted in a\n",
    "            very substantial increase in populations of birds associated with open\n",
    "            wet areas, such as egrets (100 individuals in 1987 to nearly 15,000\n",
    "            individuals in 2013). Likewise, some species of heron have seen their\n",
    "            population sizes increase considerably, such as the purple heron or the Javan\n",
    "            pond-heron, the lesser adjutant, ducks, Sunda teal and the wandering\n",
    "            whistling-duck also seem to have used the habitats created by the clearings\n",
    "            to considerably increase their populations.\n",
    "            The populations of these species have benefited of new feeding areas when\n",
    "            the shrimp ponds were developed. Indeed, egrets, ducks, and waders use\n",
    "            the shrimp ponds in high numbers on cyclical basis when shrimp ponds are\n",
    "            emptied for shrimp harvesting. The presence of pristine areas, with large\n",
    "            trees or dense copses of smaller species (Nypa) removed from human\n",
    "            presence, is also favourable for the reproduction of these species. Here they\n",
    "            find quiet conditions for reproduction or gatherings (dormitories). Amongst\n",
    "            the species observed in 2013 and those not observed in 1987, eight dwell in\n",
    "            an aquatic environment and directly depend on the shrimp ponds: darter,\n",
    "            stilts, grey heron, black-crowned night heron, intermediate egret, western\n",
    "            marsh-harrier and the Garganey. The opening of shrimp ponds was the\n",
    "            obvious factor leading to the growth of all these bird populations.\n",
    "            \n",
    "            Institutional Context\n",
    "            The key players in coastal region in East Kalimantan including in Delta\n",
    "            Mahakam Ulu (Delta Mahakam) and Delta Mahakam (Adang Bay) are\n",
    "            relatively similar. Since the area located or nearby the conservation area and\n",
    "            forest production area, the Ministry of Forestry via Nature Conservancy\n",
    "            Agency in East Kalimantan and Forest Management Unit (provincial\n",
    "            government agency) are the most influence actor. They have authority to\n",
    "            determine the activities which allowed and not allowed in the area. However,\n",
    "            they cannot control the vast area of conservation area since 50 percent of\n",
    "            mangrove forest in the region have been degraded. Besides government, the\n",
    "            others key actors are fishermen, fish farmers, swallow workers and investors\n",
    "            in aquaculture sectors. Those actors have shaped the landscape of coastal\n",
    "            area in Delta Mahakam and Adang Bay over the past 20 years. In their hand\n",
    "            the future of sustainable aquaculture is determined. Environmental and\n",
    "            development NGOs, oil and gas company and other parties has programme\n",
    "            in their area. Most of the programme focus on improving the livelihood of the\n",
    "            local people and restoring the mangrove forest.\n",
    "            \n",
    "            The Movement of Indonesian New Capital\n",
    "            Paser District (East Kalimantan Province) will soon be the site of Indonesia's\n",
    "            new political capital, Nusantara, as part of the plan to move the country's\n",
    "            capital from the island of Java to the island of Borneo, which is home to one\n",
    "            of the world’s largest rainforests.\n",
    "            Jakarta, the current political capital which will become the country's\n",
    "            economic capital by 2045, is currently facing several environmental, climatic\n",
    "            and demographic problems and challenges: overpopulation, heavy pollution,\n",
    "            rising water levels, frequent flooding, etc. In order to deal with the inevitable\n",
    "            future security issue, the Indonesian government has decided to build a new\n",
    "            capital 2,000 km away from Jakarta, in the province of East Kalimantan,\n",
    "            more precisely between the towns of Balikpapan and Samarinda. With the\n",
    "            legislation for the relocation of the new capital published, the physical\n",
    "            development of the new capital will begin in 2022. In August 2024, the\n",
    "            President plans to celebrate Indonesia's Independence Day in the new\n",
    "            capital.\n",
    "            The government plans to make the new capital a \"forest city\" by strongly\n",
    "            preserving forest areas and using sustainable energy. However, many argue\n",
    "            that the development of the new capital could lead to environmental\n",
    "            degradation and loss of essential biodiversity, especially in the mangrove\n",
    "            forest. The majority of the Indonesian population, including the local\n",
    "            population, supports the new capital movement by echoing the effect of\n",
    "            equitable development. Indeed, for decades, the natural resources of\n",
    "            Kalimantan Island have been exploited to support Indonesian development,\n",
    "            especially that of Java Island.\n",
    "            The location of the project (Delta Mahakam and Adang Bay -Adang Bay) is an\n",
    "            area relatively close to the potential centre of the state capital (about 100-\n",
    "            200 km).\n",
    "\n",
    "            Environment and development challenges\n",
    "            a) Aquaculture industry\n",
    "            Mahakam Delta area is under pressure from both the industrial and\n",
    "            agricultural sectors, including aquaculture facing a national high dynamic.\n",
    "            From 2015 to 2035 it is expected a destruction of 600,000 ha of mangrove\n",
    "            for shrimp farm at the national scale. The World Bank (2013) estimates a\n",
    "            pressure to double cultivated shrimp production from currently 300,000 t\n",
    "            (produced by 600,000 ha of ponds) to 600,000 t/1,000,000 t by 2030 to fulfil\n",
    "            the demand. However, with improvements in brackish water aquaculture\n",
    "            productivity, halting palm oil concession to use mangroves, along with\n",
    "            maintaining other mangrove use pressures at moderate levels, the net loss\n",
    "            of mangroves in the next two decades could be reduced to around 23,000 ha\n",
    "            at this same scale.\n",
    "            The East-Kalimantan Province is the new area to develop aquaculture ponds\n",
    "            as Java, Sumatra and Sulawesi islands are facing a decrease of the\n",
    "            production and the destruction of their environment due to unsustainable\n",
    "            practices.\n",
    "            Feature 1: Forecasted mangrove loss at six mangrove regions in Indonesia\n",
    "            in the next two decades due to land use change under pessimistic scenario.\n",
    "            Circle size indicates potential loss areas in Sumatra, Kalimantan, and Papua;\n",
    "            as for Java, Sulawesi and Maluku potential loss areas are represented by the\n",
    "            smaller circles.\n",
    "            Scientific studies also show that the percentage of mangrove natural\n",
    "            recovery is higher in East-Kalimantan with 1.4%/year against 0.7%/year in\n",
    "            other islands in inactive ponds. This suggests to consider conservation\n",
    "            activities in specific areas of Mahakam Delta. At the scale of Mahakam Delta,\n",
    "            the table below for which the percentage (43.7%) is as higher as the\n",
    "            remaining mangrove forest (48.5%) highlights the dominance of aquaculture.\n",
    "\n",
    "            \n",
    "            b) Demography\n",
    "            The demographic issue must also be considered. Indeed, the announcement\n",
    "            in 2019 of the relocation of the political and administrative capital of Jakarta\n",
    "            to the province of East Kalimantan, between the cities of Balikpapan and\n",
    "            Samarinda, suggests strong migrations, the development of infrastructures\n",
    "            but also a growing demand for aquaculture products. By 2024, the\n",
    "            Indonesian Minister of Planning hopes to transfer nearly 1.5 million public\n",
    "            officials and political representatives in East Kalimantan.\n",
    "            Delta Mahakam Ulu village, which belongs to Delta Mahakam district, is\n",
    "            located in the northern part of the Mahakam Delta. The location of Delta\n",
    "            Mahakam sub-district is close to the state-owned oil company (Pertamina),\n",
    "            formerly VICO. Due to the proximity of a fairly large company, the\n",
    "            community's economy is quite dynamic and the area offers a variety of jobs.\n",
    "            However, the number of people who still carry out the traditional work of\n",
    "            fishermen and fish farmers is still quite high, especially in the coastal areas.\n",
    "            Working as a fish farmer has become one of the choices of the community as\n",
    "            land is available for opening ponds. The conversion of mangrove forests into\n",
    "            ponds has been going on for decades, but the production of fish and shrimp\n",
    "            has decreased from time to time. Based on various studies and research,\n",
    "            planting a number of mangroves in ponds can improve the soil and water\n",
    "            quality in the ponds so that they can provide sustainable production. The\n",
    "            farmer groups in Delta Mahakam Ulu ponds are beginning to realise the\n",
    "            importance of planting mangroves in the ponds, and therefore need support\n",
    "            from various parties.\n",
    "            c) Other issues\n",
    "            The table below represents a summary of estimation of potential loss and\n",
    "            gain of mangroves in six major regions by 2035. The Kalimantan Island is the\n",
    "            one to analyze in order to justify Planète Urgence and partners’ information.\n",
    "            The analysis does not yet consider the movement of new capital issue which\n",
    "            very likely affect the mangrove forest in East Kalimantan as well.\n",
    "            \n",
    "            This table highlight the multiple and complex context in which mangrove loss\n",
    "            depends and confirms challenges faced in Mahakam Delta area. The lack of\n",
    "            resources (financial, human resources, material) of local authorities coupled\n",
    "            with a lack of transparency, coordination and communication around\n",
    "            responsibilities of each actors impacts the management of mangrove forests,\n",
    "            natural resources and territorial development.    \n",
    "            \n",
    "            Another issue that has also had a major impact on life in Indonesia, including\n",
    "            East Kalimantan, is the Covid 19 global pandemic that has attacked the\n",
    "            entire world since early 2020. The Covid 19 pandemic has had a major\n",
    "            impact on life in Indonesia. East Kalimantan is a province outside Java Island\n",
    "            with the highest rate of exposure to Covid, which has resulted in the\n",
    "            government imposing a lockdown and restrictions on community activities.\n",
    "            At the beginning of 2022, community activities began to return to normal,\n",
    "            but a new variant emerged, namely Omicron, which spread very quickly.\n",
    "            Facing a pandemic situation that has not ended, of course, the project must\n",
    "            continue but still pay attention to security, safety, and practice health\n",
    "            protocols.\n",
    "            \n",
    "            3. Strategy & theory of change\n",
    "            The three years project aims to contribute to restore the degraded of\n",
    "            mangrove ecosystem in Production Forest (Mahakamm Delta) and\n",
    "            Conservation area (Adang Bay). In doing so, the project will address the key\n",
    "            problems in those regions:\n",
    "            a. Lack of awareness of local people on mangrove ecosystem,\n",
    "            biodiversity issue and waste\n",
    "            b. Huge area of degraded mangrove forest which affect the resilience of\n",
    "            local people in facing climate change, the habitat of endangered\n",
    "            species and local economy;\n",
    "            c. Lack of alternative sustainable livelihood in coastal area;\n",
    "            d. Poor governance particularly on mangrove ecosystem and its\n",
    "            environmental and economy issue.\n",
    "            To overcome those problems, Planet Urgence and its partners will work by\n",
    "            implementing the PU FORET strategy which rely on three components:\n",
    "            1. Restore degraded forest;\n",
    "            2. Environmental awareness;\n",
    "            3. Strengthening livelihood of local people.\n",
    "            In addition, the involvement of local NGOs, local community and volunteer is\n",
    "            key for the successful of the project and the sustainability the impact of the\n",
    "            project. Therefore, PU will reinforce the capacity of those local stakeholders\n",
    "            to ensure they can carry out the project activities and together achieve the\n",
    "            long-term goal of the project.    \n",
    "            \"\"\"\n",
    "    },\n",
    "    {\n",
    "        \"q_#\": 6,\n",
    "        \"question\": \"Project start date / end date\", \n",
    "        \"reference_answer\": \"March 2023 – February 2026\"\n",
    "    },\n",
    "    {\n",
    "        \"q_#\": 7,\n",
    "        \"question\": \"\"\"Project budget \n",
    "            Total amount of the project (in Euros) \n",
    "            \n",
    "            Amount of donation requested from the Foundation (in Euros) \n",
    "            \n",
    "            Detailed provisional project budget \n",
    "            \n",
    "            Detailed project budget for current year\n",
    "        \"\"\", \n",
    "        \"reference_answer\": \"The total required resources is 818 341 € for the period 2023-2026\"\n",
    "    },                \n",
    "\n",
    "]\n",
    " \n",
    "\n"
   ]
  },
  {
   "cell_type": "markdown",
   "metadata": {},
   "source": [
    "#### Reformulation de la question initiale"
   ]
  },
  {
   "cell_type": "code",
   "execution_count": 19,
   "metadata": {},
   "outputs": [
    {
     "name": "stdout",
     "output_type": "stream",
     "text": [
      "Initial question:\n",
      "Country and City\n"
     ]
    },
    {
     "data": {
      "text/plain": [
       "'What is the specific country and city where the project is located?'"
      ]
     },
     "execution_count": 19,
     "metadata": {},
     "output_type": "execute_result"
    }
   ],
   "source": [
    "\n",
    "\"v1\"\n",
    "# system = \"\"\"You are a question re-writer that converts an input question to a better version that is optimized \\n\n",
    "#      for vectorstore retrieval. Re-write the input in an interrogative, clear and concise way.\"\"\"\n",
    "\n",
    "\"v2\"\n",
    "# system=\"\"\"\n",
    "#     You are a **question rewriter** that refines input questions to optimize them for **vector store retrieval**.  \n",
    "\n",
    "#     ### **Instructions:**  \n",
    "#     - Convert the input into a **clear, concise, and well-structured interrogative sentence**.  \n",
    "#     - Ensure the reworded question **preserves the original intent** while improving retrieval effectiveness.  \n",
    "#     - Remove ambiguity and redundant phrasing to enhance search relevance.  \n",
    "\n",
    "#     Here is the initial question: \\n\\n {question} \\n Formulate an improved question.\n",
    "\n",
    "#     ### **Optimized Output:**  \n",
    "#     Provide only the rewritten question, without any additional text.  \n",
    "\n",
    "# \"\"\"\n",
    "\n",
    "\"v3\"\n",
    "system=\"\"\"\n",
    "    You are a question rewriter tasked with improving input questions to optimize them for vector store retrieval. \n",
    "    Your mission is to refine, rephrase, and enhance the provided questions to ensure they are:\n",
    "    * Clear and easy to understand.\n",
    "    * Focused.\n",
    "    * Optimized for effective retrieval by removing ambiguities.\n",
    "    * Written in an interrogative form while preserving the original intent.\n",
    "\n",
    "    #### Input Fields to Rework:\n",
    "    Example 1:\n",
    "    * Project Description: Reword questions that focus on the project’s overall scope and objectives.\n",
    "    Example 2:\n",
    "    * Country and City: Refine questions to specifically inquire about the project’s location.\n",
    "    Example 3:\n",
    "    * Target Beneficiaries: Enhance questions to clarify the population or group that benefits from the project.    \n",
    "    * Number of People Concerned: Rework questions to quantify how many people the project impacts.\n",
    "    Example 4:\n",
    "    * Context, Environment, Project Rationale, Challenges, include these topics to enhance the final output:\n",
    "            * Environmental Context\n",
    "            * Biodiversity\n",
    "            * Climate Change impacts\n",
    "            * Socio-Economic Context\n",
    "            * Economic, Demographic, Community impacts\n",
    "            * Institutional context\n",
    "            * Health context\n",
    "        Rephrase questions that ask for background information, challenges, and the reasoning behind the project.\n",
    "\n",
    "    Example 5:\n",
    "    * Project Start Date / End Date: Rework questions regarding the project’s timeline.\n",
    "    Example 6:\n",
    "    * Financial Information:\n",
    "        * Project Budget: Reword questions about the overall project budget.\n",
    "        * Total Project Cost: Rephrase inquiries about the total cost of the project.\n",
    "        * Donation Request Amount: Refine questions asking about the amount of funding requested.\n",
    "        * Provisional Project Budget: Rework questions about the detailed provisional budget for the project.\n",
    "        * Current Year Budget: Enhance questions related to the budget specific to the current year.\n",
    "\n",
    "\n",
    "    #### Response Format:\n",
    "    For each input question, rephrase it in a clear, and interrogative form, optimized for vector store retrieval. Return only the reworked question.\n",
    "\"\"\"\n",
    "\n",
    "\"v4\"\n",
    "# system = \"\"\"\n",
    "#     You are a question rewriter tasked with improving input questions to optimize them for vector store retrieval. \n",
    "#     Your mission is to refine, rephrase, and enhance the provided questions to ensure they are:\n",
    "#     * Clear and easy to understand.\n",
    "#     * Focused.\n",
    "#     * Optimized for effective retrieval by removing ambiguities.\n",
    "#     * Written in an interrogative form while preserving the original intent.\n",
    "#     * **Expanded with relevant details when applicable** (e.g., including specific topics related to the question).  \n",
    "\n",
    "#     #### Input Fields to Rework:\n",
    "#     Example 1:\n",
    "#     * Project Description: Reword questions that focus on the project’s overall scope and objectives.\n",
    "#     Example 2:\n",
    "#     * Country and City: Refine questions to specifically inquire about the project’s location.\n",
    "#     Example 3:\n",
    "#     * Target Beneficiaries: Enhance questions to clarify the population or group that benefits from the project.    \n",
    "#     * Number of People Concerned: Rework questions to quantify how many people the project impacts.\n",
    "#     Example 4:\n",
    "#     * Context, Environment, Project Rationale, Challenges: When reformulating questions related to this category, **explicitly incorporate** relevant aspects, such as:\n",
    "#         - Environmental Context\n",
    "#         - Biodiversity\n",
    "#         - Climate Change Impacts\n",
    "#         - Socio-Economic Context\n",
    "#         - Economic, Demographic, and Community Impacts\n",
    "#         - Institutional Context\n",
    "#         - Health Context  \n",
    "\n",
    "#     *Ensure that reformulated questions include these aspects where relevant.*\n",
    "\n",
    "#     Example 5:\n",
    "#     * Project Start Date / End Date: Rework questions regarding the project’s timeline.\n",
    "#     Example 6:\n",
    "#     * Financial Information:\n",
    "#         * Project Budget: Reword questions about the overall project budget.\n",
    "#         * Total Project Cost: Rephrase inquiries about the total cost of the project.\n",
    "#         * Donation Request Amount: Refine questions asking about the amount of funding requested.\n",
    "#         * Provisional Project Budget: Rework questions about the detailed provisional budget for the project.\n",
    "#         * Current Year Budget: Enhance questions related to the budget specific to the current year.\n",
    "\n",
    "#     #### Response Format:\n",
    "#     For each input question, rephrase it in a **clear, interrogative form** optimized for vector store retrieval.  \n",
    "#     *If the question relates to a category with specific example topics, explicitly integrate those topics into the reworded question.*  \n",
    "#     Return **only the reworked question**.\n",
    "# \"\"\"\n",
    "\n",
    "re_write_prompt = ChatPromptTemplate.from_messages(\n",
    "    [\n",
    "        (\"system\", system),\n",
    "        (\n",
    "            \"human\",\n",
    "            \"Here is the initial question: \\n\\n {question} \\n Formulate an improved question.\",\n",
    "        ),\n",
    "    ]\n",
    ")\n",
    "llm_rewriter = ChatOpenAI(model_name=\"gpt-4o-mini\", temperature=0.2)\n",
    "question_rewriter = re_write_prompt | llm_rewriter | StrOutputParser()\n",
    "# question=\"\"\"Context, environment, project rationale and challenges\"\"\"\n",
    "question=\"Country and City\"\n",
    "# question=\"Number of people concerned\"\n",
    "# question=\"Description of the project\"\n",
    "print(f\"Initial question:\\n{question}\")\n",
    "question_rewriter.invoke({\"question\": question})"
   ]
  },
  {
   "cell_type": "markdown",
   "metadata": {},
   "source": [
    "Methode nouvelle Runnable / LCEL / \"chain\""
   ]
  },
  {
   "cell_type": "code",
   "execution_count": 20,
   "metadata": {},
   "outputs": [
    {
     "name": "stdout",
     "output_type": "stream",
     "text": [
      "Question:\n",
      " Number of people concerned\n",
      "Enhanced_question:\n",
      " How many individuals are impacted by the project?\n",
      "\n",
      "----\n",
      "Reference_answer:\n",
      " \n",
      "            Number of direct beneficiaries of the pilot project: 3245 people with the\n",
      "            proportion of 30% women and 70% men.\n",
      "            Number of indirect beneficiaries: 3000 people by assuming at least the\n",
      "            project will give benefit indirectly to 1500 people per location including in\n",
      "            East Kalimantan and Indonesia.\n",
      "        \n"
     ]
    },
    {
     "name": "stderr",
     "output_type": "stream",
     "text": [
      "/tmp/ipykernel_51112/629325432.py:10: LangChainDeprecationWarning: The method `BaseRetriever.get_relevant_documents` was deprecated in langchain-core 0.1.46 and will be removed in 1.0. Use :meth:`~invoke` instead.\n",
      "  dense_results = dense_retriever.get_relevant_documents(query)\n"
     ]
    },
    {
     "name": "stdout",
     "output_type": "stream",
     "text": [
      "nb resultats uniques avant reranking: 22\n"
     ]
    },
    {
     "name": "stderr",
     "output_type": "stream",
     "text": [
      "/home/chougar/miniconda3/lib/python3.11/site-packages/transformers/pipelines/question_answering.py:391: FutureWarning: Passing a list of SQuAD examples to the pipeline is deprecated and will be removed in v5. Inputs should be passed using the `question` and `context` keyword arguments instead.\n",
      "  warnings.warn(\n",
      "/home/chougar/miniconda3/lib/python3.11/site-packages/transformers/pipelines/question_answering.py:391: FutureWarning: Passing a list of SQuAD examples to the pipeline is deprecated and will be removed in v5. Inputs should be passed using the `question` and `context` keyword arguments instead.\n",
      "  warnings.warn(\n",
      "You seem to be using the pipelines sequentially on GPU. In order to maximize efficiency please use a dataset\n"
     ]
    },
    {
     "name": "stdout",
     "output_type": "stream",
     "text": [
      "nb resultats uniques avant reranking: 22\n",
      "nb resultats uniques après reranking: 8\n",
      "nb resultats uniques après reranking: 8\n"
     ]
    },
    {
     "name": "stderr",
     "output_type": "stream",
     "text": [
      "/home/chougar/miniconda3/lib/python3.11/site-packages/transformers/pipelines/question_answering.py:391: FutureWarning: Passing a list of SQuAD examples to the pipeline is deprecated and will be removed in v5. Inputs should be passed using the `question` and `context` keyword arguments instead.\n",
      "  warnings.warn(\n"
     ]
    },
    {
     "name": "stdout",
     "output_type": "stream",
     "text": [
      "\n",
      "----\n",
      "LCEL_qa_chain answer:\n",
      " The project impacts a total of 6,245 individuals. This includes 3,245 direct beneficiaries, which consists of 30% women and 70% men, and 3,000 indirect beneficiaries, who are assumed to benefit indirectly from the project activities.\n",
      "\n",
      "----\n",
      "LCEL_qa_chain sources:\n",
      " [Document(metadata={'source': './data/PROJECT DOCUMENT MAHAKAM 2023-2025_balise.pdf', 'page': 18, 'score': 0.7263355255126953}, page_content='\\nFeature 3. Theory of Change\\n4. Beneficiaries\\nNumber of direct beneficiaries of the pilot project: 3245 people with the\\nproportion of 30% women and 70% men. \\nNumber of indirect beneficiaries: 3000 people by assuming at least the\\nproject will give benefit indirectly to 1500 people per location including in\\nEast Kalimantan and Indonesia.\\nThe target groups include: \\n- School children (primary schools and secondary schools)\\n- Teachers (primary school teachers)'), Document(metadata={'source': './data/PROJECT DOCUMENT MAHAKAM 2023-2025_balise.pdf', 'page': 28, 'score': 0.9486728310585022}, page_content='mining and water transportation activity. If this condition is allowed and \\nthere is no conservation effort, the population of proboscis monkey will \\ndecrease from year to year. Planting mangrove in the degraded area could \\nbe restore the species habitat. In the end of project, we will measure the \\nimpact of planting activity to the number of biodiverisity (either increased or \\nno direct linkage)\\n\\uf02d Target: Identify and collected databese of number of group & \\npopulation Proboscis monkey (Nasalis larvatus) in each of intervention \\narea\\n\\uf02d Locations: \\n11 This will wait for futher information from the implementation of Wildsense, but in the \\nmeantime the project will develop and improve the indicators to be reported and the \\nexisting monitoring arrangements.'), Document(metadata={'source': './data/PROJECT DOCUMENT MAHAKAM 2023-2025_balise.pdf', 'page': 17, 'score': 0.39917007088661194}, page_content='To overcome those problems, Planet Urgence and its partners will work by\\nimplementing the PU FORET strategy which rely on three components:\\n1. Restore degraded forest;\\n2. Environmental awareness;\\n3. Strengthening livelihood of local people. \\nIn addition, the involvement of local NGOs, local community and volunteer is\\nkey for the successful of the project and the sustainability the impact of the\\nproject. Therefore, PU will reinforce the capacity of those local stakeholders\\nto ensure they can carry out the project activities and together achieve the\\nlong-term goal of the project. \\nDiagram of the theory of change can be seen below or in this link  Proyek\\nNEW MAHAKAM 2023-2026 -TOC - 3.xlsx'), Document(metadata={'source': './data/PROJECT DOCUMENT MAHAKAM 2023-2025_balise.pdf', 'page': 15, 'score': 0.695250928401947}, page_content='land is available for opening ponds. The conversion of mangrove forests into\\nponds has been going on for decades, but the production of fish and shrimp\\nhas decreased from time to time. Based on various studies and research,\\nplanting a number of mangroves in ponds can improve the soil and water\\nquality in the ponds so that they can provide sustainable production. The\\n5 Study of identification of levels of mangrove forest damaged for rebooting planning in \\nMahakam Delta in Kutai Kartanegara district. Jurnal “Gerbang Etam” Balitbangda Kab. Kukar\\nVol. 13 No. 1 Tahun 2019'), Document(metadata={'source': './data/PROJECT DOCUMENT MAHAKAM 2023-2025_balise.pdf', 'page': 16, 'score': 0.5599989295005798}, page_content='\\nfarmer groups in Delta Mahakam Ulu ponds are beginning to realise the\\nimportance of planting mangroves in the ponds, and therefore need support\\nfrom various parties. \\nc) Other issues\\nThe table below represents a summary of estimation of potential loss and\\ngain of mangroves in six major regions by 2035. The Kalimantan Island is the\\none to analyze in order to justify Planète Urgence and partners’ information.\\nThe analysis does not yet consider the movement of new capital issue which\\nvery likely affect the mangrove forest in East Kalimantan as well. \\nTable 2 *\\nThis table highlight the multiple and complex context in which mangrove loss\\ndepends and confirms challenges faced in Mahakam Delta area. The lack of\\nresources (financial, human resources, material) of local authorities coupled\\nwith  a  lack  of  transparency,  coordination  and  communication  around\\nresponsibilities of each actors impacts the management of mangrove forests,\\nnatural resources and territorial development. \\n6 Muhammad Ilmana,b, Paul Darguscha, Peter Dartc, Onrizal - A historical analysis of the \\ndrivers of loss and degradation of Indonesia’s mangroves, 2016.'), Document(metadata={'source': './data/PROJECT DOCUMENT MAHAKAM 2023-2025_balise.pdf', 'page': 0, 'score': 0.46234130859375}, page_content='MANGROVE RESTORATION AND\\nLOCAL DEVELOPMENT PROJECT\\nFOREST PROGRAMME\\nProject title: MAHAKAM\\nCountry: Indonesia\\nImplementing  partners:  Yayasan\\nMangrove Lestari & Pokja Pesisir'), Document(metadata={'source': './data/PROJECT DOCUMENT MAHAKAM 2023-2025_balise.pdf', 'page': 38, 'score': 0.1522861272096634}, page_content='\\ndecide to contribute on the project. By doing this, the project aims to place \\nthe local people not as object the project, but the subject of project since \\nthey also contribute to design the activities of the project. \\nMoreover, regarding the new capital, the project expects to bring the voice \\nof local people in the coastal area in shaping the future plan of Mahakam \\nDelta and Adang Bay-Adang Bay. The involvement of local people will \\ncontribute to improve the governance in the coastal region.'), Document(metadata={'source': './data/PROJECT DOCUMENT MAHAKAM 2023-2025_balise.pdf', 'page': 48, 'score': 0.24406465888023376}, page_content='\\nList of \\nparticipants\\nMoU Document\\nNumber of local \\ncommunities reached by \\nwaste management \\ncampaign\\nDocumentation \\nactivity\\nActivity Report \\nList of \\nparticipants\\n0 2022 100\\npersons\\na. 100\\nperson\\n b. 20\\nUser\\nAccount\\nYoutube\\n100\\nperson\\ns\\na. 200\\npersons\\n b. 20\\nUser\\nYoutub\\ne\\nAccount\\nNumber of Billboard for \\nenvironmental campaign \\nDocumentation\\nPlot location in \\nthe map\\n2 2022 0 2 0 2\\nNumber of Book \\npublication on best \\npractices related to \\nmicrofinance & nurseries \\nmaintenance \\nBook Publication\\nActivity Report \\n1 2022 1 book\\n 30\\ncopies\\n1 book\\n 30\\ncopies\\n2 books\\n 60\\nCopies\\nNumber of pepople \\nreached in Public \\nAwareness campaign \\nthrough media \\n(online/offline)\\nDocumentation \\nactivity\\nActivity Report\\nMedia coverage\\n1000\\nindirect\\n2022 50\\nDirect\\n 300\\nIndirect\\n50\\nDirect\\n 300\\nIndirect\\n50\\nDirect\\n 300\\nIndirec\\nt\\n150\\nDirect\\n 900\\nIndirect\\nNumber of Journalist Trip Media coverages \\n(offline/online)\\n10 2022 5 media\\ncoverag\\nes\\n5 media\\ncoverag\\nes\\n5\\nmedia\\ncovera\\nges\\n15\\nmedia\\ncoverag\\nes')]\n"
     ]
    },
    {
     "name": "stderr",
     "output_type": "stream",
     "text": [
      "Evaluating: 100%|██████████| 1/1 [00:00<00:00,  6.05it/s]"
     ]
    },
    {
     "name": "stdout",
     "output_type": "stream",
     "text": [
      "mini check timing: 0.1704702377319336\n",
      "LLM score: 8\n",
      "\n",
      "specialized model score: [0], [0.13304881751537323]\n"
     ]
    },
    {
     "name": "stderr",
     "output_type": "stream",
     "text": [
      "\n"
     ]
    }
   ],
   "source": [
    "from langchain import hub\n",
    "from langchain_core.output_parsers import StrOutputParser\n",
    "from langchain_core.runnables import RunnablePassthrough\n",
    "from langchain_core.prompts import ChatPromptTemplate\n",
    "from langchain_core.runnables import RunnableParallel, RunnableLambda\n",
    "\n",
    "\n",
    "rag_prompt = ChatPromptTemplate.from_template(\"\"\"\n",
    "    Answer the question based **only** on the provided context.  \n",
    "\n",
    "    - If the context contains enough information to provide a complete or partial answer, use it to formulate a detailed and factual response.  \n",
    "    - If the context lacks relevant information, respond with: \"I don't know.\"  \n",
    "\n",
    "    ### **Context:**  \n",
    "    {context}  \n",
    "\n",
    "    ### **Question:**  \n",
    "    {input}  \n",
    "\n",
    "    ### **Answer:**  \n",
    "    Provide a clear, factual, and well-structured response based on the available context. Avoid speculation or adding external knowledge.  \n",
    "\"\"\")\n",
    "\n",
    "\n",
    "lcel_qa_chain = (\n",
    "    RunnableParallel({\n",
    "        \"context\": hybrid_retrieval | (lambda split_docs: \"\\n\\n\".join(d.page_content for d in split_docs)),\n",
    "        \"sources\": hybrid_retrieval,\n",
    "        \"input\": RunnablePassthrough(),\n",
    "    })\n",
    "    | (lambda inputs: {\n",
    "        \"answer\": (rag_prompt | llm_qa | StrOutputParser()).invoke(inputs),\n",
    "        \"sources\": inputs[\"sources\"]  \n",
    "    })\n",
    ")\n",
    "\n",
    "# Usage\n",
    "question=\"Number of people concerned\"\n",
    "# question=\"Context, environment, project rationale and challenges\"\n",
    "# question=\"Project start date / end date\"\n",
    "# question=\"Country and city\"\n",
    "\n",
    "reference_answer=[v[\"reference_answer\"] for v in questions if v[\"question\"]==question][0]\n",
    "\n",
    "enhanced_question=question_rewriter.invoke({\"question\": question})\n",
    "print(\"Question:\\n\", question)\n",
    "print(\"Enhanced_question:\\n\", enhanced_question)\n",
    "print(\"\\n----\\nReference_answer:\\n\", reference_answer)\n",
    "response = lcel_qa_chain.invoke(enhanced_question)\n",
    "print(\"\\n----\\nLCEL_qa_chain answer:\\n\", response[\"answer\"])\n",
    "print(\"\\n----\\nLCEL_qa_chain sources:\\n\", response[\"sources\"])\n",
    "\n",
    "\n",
    "\n",
    "# eval with llm\n",
    "llm_score= score_reference_vs_rag_with_gpt(enhanced_question, reference_answer, response[\"answer\"])\n",
    "\n",
    "# eval with specialized model\n",
    "t=timing()\n",
    "pred_label, raw_prob, _, _ = specialized_evaluator.score(docs=[reference_answer], claims=[response[\"answer\"]])\n",
    "print(f\"mini check timing: {timing()-t}\")\n",
    "print(f\"\"\"LLM score: {llm_score}\\n\"\"\")\n",
    "print(f\"\"\"specialized model score: {pred_label}, {raw_prob}\"\"\")\n"
   ]
  },
  {
   "cell_type": "code",
   "execution_count": 22,
   "metadata": {},
   "outputs": [],
   "source": [
    "from langchain.chains import create_retrieval_chain\n",
    "from langchain.chains.combine_documents import create_stuff_documents_chain\n",
    "from langchain_core.prompts import ChatPromptTemplate\n",
    "llm = ChatOpenAI(model=\"gpt-4o-mini\", temperature=0.1)\n",
    "\n",
    "from langchain_core.runnables import chain\n",
    "\n",
    "\n",
    "dense_retriever = retriever_chroma\n",
    "\n",
    "@chain\n",
    "def hybrid_retrieval_base(query, top_k=8):\n",
    "    query = query[\"input\"]\n",
    "    dense_results = dense_retriever.get_relevant_documents(query)\n",
    "    sparse_results = sparse_retriever_tfidf.get_relevant_documents(query)\n",
    "\n",
    "    # Fusionner\n",
    "    combined_results = dense_results + sparse_results + keyword_association_retriever(query)\n",
    "\n",
    "    # Supprimer les doublons\n",
    "    unique_results = {doc.page_content: doc for doc in combined_results}.values()\n",
    "\n",
    "    # Reranking\n",
    "    reranked_results = reranker.predict([(query, doc.page_content) for doc in unique_results])\n",
    "    sorted_results = sorted(zip(unique_results, reranked_results), key=lambda x: x[1], reverse=True)\n",
    "\n",
    "    return [doc for doc, _ in sorted_results[:top_k]]\n",
    "    # return unique_results\n",
    "\n",
    "# question_answer_chain = create_stuff_documents_chain(llm, rag_prompt)\n",
    "# chain = create_retrieval_chain(hybrid_retrieval_base, question_answer_chain)\n",
    "\n",
    "# resp= chain.invoke({\"input\":\"What is the specific country and city where the project is located ?\"})\n",
    "# print(resp[\"input\"])\n",
    "# print(resp[\"answer\"])\n",
    "# print(resp[\"context\"])\n",
    "\n",
    "# llm_score= score_reference_vs_rag_with_gpt(enhanced_question, reference_answer, resp[\"answer\"])\n",
    "# print(f\"\"\"LLM score: {llm_score}\\n\"\"\")"
   ]
  },
  {
   "cell_type": "markdown",
   "metadata": {},
   "source": [
    "#### Grille de recherche pour les 2 méthodes\n",
    "`similarity_score_threshold` étant une version rafinée de similarity, inutile de tester cette dernière"
   ]
  },
  {
   "cell_type": "code",
   "execution_count": 23,
   "metadata": {},
   "outputs": [
    {
     "data": {
      "text/plain": [
       "[({'type': 'dense',\n",
       "   'label': 'chroma',\n",
       "   'instance': VectorStoreRetriever(tags=['Chroma', 'OpenAIEmbeddings'], vectorstore=<langchain_community.vectorstores.chroma.Chroma object at 0x7f66f4c12f50>, search_type='mmr', search_kwargs={'k': 10, 'fetch_k': 20})},\n",
       "  {'type': 'sparse',\n",
       "   'label': 'tfidf',\n",
       "   'instance': TFIDFRetriever(vectorizer=TfidfVectorizer(max_df=2, ngram_range=(1, 2)), docs=[Document(metadata={'source': './data/PROJECT DOCUMENT MAHAKAM 2023-2025_balise.pdf', 'page': 0}, page_content='MANGROVE RESTORATION AND\\nLOCAL DEVELOPMENT PROJECT\\nFOREST PROGRAMME\\nProject title: MAHAKAM\\nCountry: Indonesia\\nImplementing  partners:  Yayasan\\nMangrove Lestari & Pokja Pesisir'), Document(metadata={'source': './data/PROJECT DOCUMENT MAHAKAM 2023-2025_balise.pdf', 'page': 1}, page_content=\"\\nBrief project description\\nEast Kalimantan Province in 2021/2022 received great attention nationally\\nbecause of the moving of the state capital city (Jakarta) to a location near\\nthe city of Balikpapan and Penajam Paser Utara in East Kalimantan Province.\\nThe  development  of  the  new  capital  will  start  in  2022.  Although  the\\nIndonesia President commit to develop the new capital as Forest and Smart\\nCity,  the  surrounding  area  particularly  the  coastal  area  such  as  Delta\\nMahakam and Adang Bay might get high pressure as the consequence of the\\nnew  development  and  the  movement  of  1.5  million  people  to  the  new\\ncapital.    \\nDelta Mahakam, in the eastern part of East Kalimantan, is an area that is\\nrelatively close to the prospective center of the State capital (about 100 km).\\nMahakam Delta is naturally a mangrove habitat, but due to excessive land\\nclearing for extensive aquaculture about 47.5 % of the mangrove ecosystem\\nis  degraded  to  be  converted  into  aquaculture  (2017).  Despite  various\\nconservation efforts by different parties and the government, land clearing\\nstill continues. Delta Mahakam land ownership is government land that has\\ndesignated  as  a  production  forest,  but  this  area  has  been  inhabited  by\\nresidents from generation to generation.\\nAdang Bay is one of the coastal villages in Adang Bay, Paser Regency, on the\\nsouthern part of East Kalimantan Province  (about 100 km from the new\\ncapital).  This  area  is  also  experiencing  land  conversion  to  increase\\naquaculture, besides there are several locations in coastal areas that are\\naffected by abrasion. Restoration activities in East Kalimantan Province are\\nneeded to restore a degraded environment, as well as to support the vision\\nof the nation's capital as a green city.\\nThe  ecosystem  in  Delta  Mahakam  and  Adang  Bay1 are  also  home  to\\ncritically  endangered  species,  such  as  the  nasal  monkey  (proboscis\"), Document(metadata={'source': './data/PROJECT DOCUMENT MAHAKAM 2023-2025_balise.pdf', 'page': 1}, page_content=\"affected by abrasion. Restoration activities in East Kalimantan Province are\\nneeded to restore a degraded environment, as well as to support the vision\\nof the nation's capital as a green city.\\nThe  ecosystem  in  Delta  Mahakam  and  Adang  Bay1 are  also  home  to\\ncritically  endangered  species,  such  as  the  nasal  monkey  (proboscis\\nmonkey), endemic to the island of Borneo. On a global scale, the mangrove\\nis a key ecosystem to answer the challenge of carbon sequestration and\\nfight against climate change.\\nThe  objective  of  the  project  is  therefore  to  contribute  to  restore  the\\ndegraded mangrove forest in East Kalimantan (Delta Mahakam and Adang\\nBay)  as  home  of  endemic  and  endangered  species  including  proboscis\\nmonkey and key ecosystem to mitigate and to adapt the impact of climate\\nchange;  and  this,  through  four  main  actions:  raising  awareness  of  the\\nstakeholders,  rehabilitating  degraded  mangrove  forest,  supporting  the\\n1 For clarification: \\n- Delta Mahakam (the region), Kutai Kartanegara District, Delta Mahakam Sub \\nDistrict and Delta Mahakam Ulu the village.\\n- Adang Bay (the region), Paser District, Long Ikis Sub District and Adang Bay the \\nvillage.\"), Document(metadata={'source': './data/PROJECT DOCUMENT MAHAKAM 2023-2025_balise.pdf', 'page': 2}, page_content='\\ndevelopment  of  sustainable  livelihood,  and  strengthening  the  coastal\\ngovernance.'), Document(metadata={'source': './data/PROJECT DOCUMENT MAHAKAM 2023-2025_balise.pdf', 'page': 3}, page_content='\\nMain Sustainable Development Goals (SDGs) to which the\\nproject contributes\\n\\u202f\\u202f\\u202f\\u202f  \\n \\u202f\\u202f\\u202f\\u202f \\n \\u202f\\u202f\\u202f\\u202f \\n \\u202f\\u202f\\u202f\\u202f \\n \\xa0\\u202f\\u202f\\u202f\\u202f  \\u202f\\u202f\\u202f\\u202f\\nMain SDG targets and indicators to which the project contributes: \\n\\uf0b7 12.8. By  2030,  ensure  that  people  everywhere  have  the  relevant\\ninformation  and awareness  for  sustainable  development and lifestyles  in\\nharmony with nature.  \\n\\uf0b7 13.1. Strengthen resilience and adaptive capacity to climate-related\\nhazards and natural disasters in all countries.  \\n\\uf0b7 13.3. Improve education, awareness-raising, human, and institutional\\ncapacity on climate  change  mitigation,  adaptation,  impact reduction and\\nearly warning.  \\n\\uf0b7 14.2. Sustainably manage and protect marine and coastal ecosystems\\nto  avoid  significant  adverse  impacts,  including  by  strengthening  their\\nresilience, and take action for their restoration in order to achieve healthy\\nand productive oceans.  \\n\\uf0b7 14.  B. Provide  access  for  small-scale  artisanal  fishers  to  marine\\nresources and markets.  \\n\\uf0b7 15.5. Take urgent and significant action to reduce the degradation of\\nnatural  habitats,  halt  the  loss  of  biodiversity,  protect  and  prevent  the\\nextinction of threatened species. \\nTable 0 *\\nProject duration 3 years (March 2023 – February 2026)\\nBudget & funding\\nTotal required \\nresources (€)\\n2023-2026\\n818\\xa0341 € // 903\\xa0613 USD\\nAuthor(s) YML, POKJA, Yayasan Planete Urgensi Indonesia,\\nPlanète Urgence\\nApproval by partners Planète\\nUrgence/Yayasan\\nPlanet Urgensi\\nIndonesia\\nName: Réonaldus\\nTitle:  Indonesia  National\\nDelegate\\nYML Name: Achmad Nuriyawan \\nTitle: Director\\nPOKJA Name: Hamsuri'), Document(metadata={'source': './data/PROJECT DOCUMENT MAHAKAM 2023-2025_balise.pdf', 'page': 4}, page_content='\\nTitle: The Board of Trustee'), Document(metadata={'source': './data/PROJECT DOCUMENT MAHAKAM 2023-2025_balise.pdf', 'page': 5}, page_content='\\nTable of contents\\n1. IMPLEMENTING PARTNER 2\\n2. CONTEXT & ENVIRONMENT AND DEVELOPMENT CHALLENGES 3\\nGEOGRAPHIC AND SOCIO-ECONOMIC CONTEXT 3\\nENVIRONMENTAL CONTEXT 4\\nBIODIVERSITY ISSUES 6\\nENVIRONMENT AND DEVELOPMENT CHALLENGES 8\\n3. STRATEGY & THEORY OF CHANGE 11\\n4. BENEFICIARIES 12\\n5. LOCATION 13\\n6. EXPECTED RESULTS, PLANNED ACTIVITIES & REQUIRED RESOURCES 13\\nOUTPUT 1: THE AWARENESS OF STAKEHOLDERS TO CONSERVE DELTA MAHAKAM AND ADANG BAY IS \\nSTRENGTHENED. 14\\nActivity 1.1. Conduct workshops in schools of East Kalimantan province to \\nraise awareness on environment and biodiversity preservation. 14\\nActivity 1.2. Support Adiwiyata School (Green School) in Delta Mahakam 15\\nActivity 1.3. Conduct public awareness campaigns to sensitize communities in\\nEast Kalimantan province to the ecological, economic and climatic benefits of \\nthe mangrove. 15\\nOUTPUT 2: 300 HA AREA OF DEGRADED MANGROVE FOREST ARE RESTORED BY PLANTING 800.000 OF \\nMANGROVE TREE. 17\\nActivity 2.1. Pres-assessment study on land suitability 17\\nActivity 2.2. Ensure establishment and management of community-based \\nnurseries 17\\nActivity 2.3. Identify and prepare planting locations, and train local \\ncommunity members to mangrove restoration, and conduct tree planting. 18\\nActivity 2.4. Participatory Monitoring Training and ensure the monitoring and \\nprotection of targeted mangrove areas 20\\nOUTPUT 3. ALTERNATIVE SUSTAINABLE LIVELIHOODS IN DELTA MAHAKAM AND ADANG BAY ARE AVAILABLE,\\nIMPROVED AND SHARED TO OTHER KEY STAKEHOLDERS IN THE REGION. 22\\nActivity 3.1. Establish demonstration plots for sustainable aquaculture \\n(sustainable ponds and sylvo fishery models) 22\\nActivity 3.2. Train community groups particularly women group on the \\nfinancial management and product marketing. 22\\nOUTPUT 4. THE SUSTAINABLE COASTAL GOVERNANCE IN DELTA MAHAKAM AND ADANG BAY ARE \\nSTRENGTHENED 23\\nActivity 4.1. Facilitate coordination meeting among Mahakam Delta and'), Document(metadata={'source': './data/PROJECT DOCUMENT MAHAKAM 2023-2025_balise.pdf', 'page': 5}, page_content='(sustainable ponds and sylvo fishery models) 22\\nActivity 3.2. Train community groups particularly women group on the \\nfinancial management and product marketing. 22\\nOUTPUT 4. THE SUSTAINABLE COASTAL GOVERNANCE IN DELTA MAHAKAM AND ADANG BAY ARE \\nSTRENGTHENED 23\\nActivity 4.1. Facilitate coordination meeting among Mahakam Delta and \\nAdang Bay’s actors to synergize the program 23\\n7. PARTNERSHIPS 26\\n8. CROSS-CUTTING APPROACHES 29\\n9. KNOWLEDGE MANAGEMENT, CAPITALIZATION & COMMUNICATION 31\\n10. SUSTAINABILITY, SCALING-UP AND/OR EXIT STRATEGY 36\\n11. RESULTS FRAMEWORK 38\\n12. MONITORING & EVALUATION 42\\n13. TIMELINE 44'), Document(metadata={'source': './data/PROJECT DOCUMENT MAHAKAM 2023-2025_balise.pdf', 'page': 7}, page_content='\\n1. Implementing partner\\nName of the organization: Yayasan Mangrove Lestari\\nAddress: Jl. Pelita 3 RT.12 Gg.7 Kel. Sambutan Samarinda\\nLegal  status:  Akta  notaris  ;  Nomor  :  01  Tanggal  01  Juni  2012;\\nKemenkumham ; Nomor : AHU-3696.AH.01.04.2013\\n \\nThe  Yayasan  Mangrove  Lestari  Delta  Mahakam  (YML)  is  a  local  non-\\ngovernmental organization based in Samarinda, East Kalimantan Province.\\nEnvironmental activists and local communities with the purpose of helping\\nthe conservation of the mangrove ecosystem in the Mahakam Delta, East\\nKalimantan Province, founded this organization on February 21, 2012. \\nYML is open to collaborating with various parties who have the same goal of\\nconserving  the  environment,  especially  the  mangrove  ecosystem.  In  its\\ndevelopment,  YML  has  collaborated  with  local  governments  and  donor\\nagencies including Planète Urgence in carrying out mangrove restoration\\nactivities. \\nYML has a vision to create a sustainable mangrove ecosystem that provides\\nbenefits to local communities. The mission of YML includes: \\n\\uf0b7 Restoring mangrove ecosystems, especially in the Mahakam Delta \\n\\uf0b7 Helping to realize sustainable aquaculture in the mangrove ecosystem\\narea \\n\\uf0b7 Assisting  local  communities  in  improving  livelihood  activities  to\\nincrease family income \\n\\uf0b7 Build partnerships with stakeholders for the conservation of mangrove\\necosystems. \\nYML has an office in Samarinda with a field secretariat in Muara Badak, Delta\\nMahakam to  help  fish and shrimp farmer  groups  to practice  sustainable\\naquaculture.\\nName of the organization: Pokja Pesisir\\nAddress: Tengiri VI Street No.10 RT.24 Kelurahan Manggar Baru, Kecamatan\\nBalikpapan Timur, Kota Balikpapan, Kalimantan Timur 76114\\nEmail: perkumpulanpokjapesisir@gmail.com \\nTel: +62 813 4874 4716\\nWebsite: http://pokjapesisir.id/\\nLegal status : Legally Registered under the Ministry of Law and Human\\nRights, 2019 No 008760.AH.01.07 Tahun 2019'), Document(metadata={'source': './data/PROJECT DOCUMENT MAHAKAM 2023-2025_balise.pdf', 'page': 7}, page_content='aquaculture.\\nName of the organization: Pokja Pesisir\\nAddress: Tengiri VI Street No.10 RT.24 Kelurahan Manggar Baru, Kecamatan\\nBalikpapan Timur, Kota Balikpapan, Kalimantan Timur 76114\\nEmail: perkumpulanpokjapesisir@gmail.com \\nTel: +62 813 4874 4716\\nWebsite: http://pokjapesisir.id/\\nLegal status : Legally Registered under the Ministry of Law and Human\\nRights, 2019 No 008760.AH.01.07 Tahun 2019\\nKelompok  Kerja  Pesisir  (The  Coastal  Area  Working  Group),  commonly\\nabbreviated as “Pokja Pesisir”, is a non-profit organization formed by a group\\nof environmental activists in Balikpapan City, East Kalimantan Province. This\\norganization  was  formed  with  the  objective  to  raise  public  attention  to\\npreserve  coastal  and  marine  ecosystems  that  are  rich  in  biodiversity,'), Document(metadata={'source': './data/PROJECT DOCUMENT MAHAKAM 2023-2025_balise.pdf', 'page': 8}, page_content='\\nincluding clusters of mangrove areas, distribution of coral reefs and seagrass\\nbeds.\\nIn addition, government policies towards fishermen communities also need\\nto be continuously encouraged in order to be optimal for the welfare of\\nfishermen.  The  lives  of  fishermen  in  coastal  areas  in  East  Kalimantan\\nProvince  often  experience  difficulties  due  to  the  privatization  of  coastal\\nareas, difficulties in obtaining fuel for fishing boats, and also low human\\nresources.\\nBased on these issues, a group of activists agreed in 2009 to establish an\\norganization which was later named the “Coastal and Fisherman Working\\nGroup”. This institution has been advocating policies for improving coastal\\nand marine governance and carrying out empowerment actions for fishing\\ncommunities. As an effort to preserve the coastal area, the “Coastal and\\nFishermen Working Group” initiated a program called Mangrove and Marine\\nProtection Area in Teritip Village, East Balikpapan Sub-district, Balikpapan\\nCity, in collaboration with UNDP in 2009 – 2010. The Working Group then\\nchange the name to “Pokja Pesisir” and was legally registered at the Ministry\\nof Law and Human Rights in 2018.\\nSome activities conducted by POKJA Pesisir:\\n\\uf0b7 2009  –  2010  mangrove  and  coastal  area  conservation  in  Teritip,\\nBalikpapan (supported by UNDP). \\n\\uf0b7 2009 – 2016: community organizing in the coastal area of Balikpapan.\\n\\uf0b7 2016 – now: Monitoring and campaign on the protection of the highly\\nconservation value in Balikpapan Bay\\n\\uf0b7 2016 – now: Community assistance on the conservation of Balipapan\\nBay\\n\\uf0b7 March  2017  –  January  2018,  Implementing  the  Program  of\\n“Strengthening  of  CSO  Network  on  Mangrove  Conservation  in\\nIndonesia” in Balikpapan Bay. \\n\\uf0b7 2021 – March 2022, Proposing the Conservation area in coastal area\\nand small islands of Balikpapan Bay (supported by TFCA) \\nIn term of organization: a Board of Trustees, a Board of Supervisor and'), Document(metadata={'source': './data/PROJECT DOCUMENT MAHAKAM 2023-2025_balise.pdf', 'page': 8}, page_content='Bay\\n\\uf0b7 March  2017  –  January  2018,  Implementing  the  Program  of\\n“Strengthening  of  CSO  Network  on  Mangrove  Conservation  in\\nIndonesia” in Balikpapan Bay. \\n\\uf0b7 2021 – March 2022, Proposing the Conservation area in coastal area\\nand small islands of Balikpapan Bay (supported by TFCA) \\nIn term of organization: a Board of Trustees, a Board of Supervisor and\\nmembers, manage POKJA Pesisir. \\n2. Context & environment and development challenges\\nGeographic and socio-economic context\\nEast Kalimantan is one of the richest provinces in Indonesia and the main\\ncontribution to the national GDP. Before palm oil and mining coal booming in\\nearly 2000, forestry, mining and gas sectors are the backbone of economic\\ndevelopment  in  East  Kalimantan.  Because  too  much  depending  on  the\\nunrenewable  natural resources, the economic  growth  of East Kalimantan\\ngradually declines and, in 2016, reached the minus point because of the\\nlowest price of coal at the global level. In 2019, Indonesia government has'), Document(metadata={'source': './data/PROJECT DOCUMENT MAHAKAM 2023-2025_balise.pdf', 'page': 9}, page_content=\"\\ndecided to move the capital of Indonesia from Jakarta to East Kalimantan.\\nCurrently, the government accelerate the infrastructure development of new\\ncapital.   \\nThe project will be implemented in several regions of Mahakam Delta and\\nAdang Bay. Mahakam Delta is located on the eastern coast of the island of\\nBorneo, in East Kalimantan province, which is one of the five provinces that\\nhas the lowest population density in Indonesia. This province is also the main\\ncontributor to the national GDP, mainly for its wealth in oil and gas. It is\\nnevertheless aquaculture activities which constitute the main source of\\nincome for the local population. About 90% of the population depend on it\\nfor their livelihood. As a result, 54.19% of the Mahakam Delta has been\\nconverted to shrimp ponds. The majority of exports from the area are made\\nup of tiger shrimp and white shrimp that are farmed in the delta ponds and\\nalong the Paser District's shore.\\nFeature 1: Land cover in mahakam delta and adang is dominated by fish\\npond area\\nPaser District is located on the east coast of East Kalimantan Province. The\\nvillage of Adang Bay is located in the coastal area of this district, in Adang\\nBay. This area is a conservation area managed by the Ministry of Forestry\\n(KPHP).  Therefore,  limited  economic  activities  are  allowed  in  this  area.\\nHowever,  since  the  late  1990s,  massive  clearing  for  the  construction  of\\naquaculture ponds has destroyed the mangrove forest in the area. According\"), Document(metadata={'source': './data/PROJECT DOCUMENT MAHAKAM 2023-2025_balise.pdf', 'page': 10}, page_content=\"\\nto the District Pastor's Investment Agency, about 1,506 people live in Adang\\nBay. Most of them work as fishermen, fish farmers and swallowers. The\\nvillage government and the community have made a strong commitment to\\nconserve the area by adhering to the jurisdictional REDD+ approach, funded\\nby the World Bank's FCPF or Forest Carbon Partnership Facility Project.  \\nEnvironmental context\\nLargest archipelago in the world (more than 13,000 islands), Indonesia has\\nan area of 1,905,000 km2 of which less than 50% is still covered by forests\\ntoday,  while  the  country  is  part  of  the  3rd largest planetary tropical\\nforest zone  (after the Amazon and the Congo Basin). More than half of\\nIndonesian forests have disappeared since 1960. However, they are home to\\na large part of the world's biodiversity (more than 10% respectively of plant,\\nmammal, reptile and bird species). Today, the country counts for 3 to 5% of\\nannual global greenhouse gas emissions  (among the 10 most emitting\\ncountries) including more than 50% due to land use, their change of land use\\nand the exploitation of forests.\\nIndonesia  is  home  to  almost  1/4 of  the  world's  mangroves  (20%). This\\nmaritime ecosystem, made up of a set of mainly woody plants (the most\\nnotable species being the mangrove), develops in the swinging area of the\\ntides of the low coasts and in marshes at the mouth of certain rivers.  Of the\\nnearly 3.2 million hectares of mangrove forest 2 in the country today, more\\nthan 50,000 ha are lost each year. \\nThe mangrove is one of the most productive ecosystems on the planet ,\\nhome to a particularly abundant biomass. The mangroves' root system is\\nnotably a biotope where a variety of fish and crabs live and reproduce. The\\nmangrove thus provides important resources (forestry and fishery) to coastal\\npopulations, a natural “buffer” zone adapted to salinity, filtering sediment\\nand pollution carried by rivers and the sea, and preserving the fresh water\"), Document(metadata={'source': './data/PROJECT DOCUMENT MAHAKAM 2023-2025_balise.pdf', 'page': 10}, page_content=\"home to a particularly abundant biomass. The mangroves' root system is\\nnotably a biotope where a variety of fish and crabs live and reproduce. The\\nmangrove thus provides important resources (forestry and fishery) to coastal\\npopulations, a natural “buffer” zone adapted to salinity, filtering sediment\\nand pollution carried by rivers and the sea, and preserving the fresh water\\nresources  of  the  land.  They  are  a  food  security  and  livelihood  issue,  in\\nparticular providing income to fishing communities. This ecosystem is also\\nan important natural fount of carbon, with Indonesian mangroves storing\\naround  5  times  more  carbon  per  hectare  than  terrestrial  forests.  The\\ngovernment of Indonesia has taken into account this ecosystem in its REDD+\\nstrategy, implemented in the only pilot province of East-Kalimantan, with the\\nProvincial Council on Climate Change (DDPI) with the support of the World\\nBank in the framework of the “Forest Carbon Partnership Facility Project”.\\nFinally, the mangrove plays a key role in  natural defense . The complex\\nnetwork of mangrove roots can help reduce wave power, which limits erosion\\nand protects  coastal communities  from  the destructive  forces  of tropical\\nstorms. Mangroves provide protection against extreme weather events and\\ntsunamis, and can adapt to rising sea levels and subsidence. They therefore\\n2 Indonesia’s Geospatial Agency, 2012\"), Document(metadata={'source': './data/PROJECT DOCUMENT MAHAKAM 2023-2025_balise.pdf', 'page': 11}, page_content='\\ncontribute to reducing the risk of disasters, to the resilience of communities\\nand ecosystems and to their adaptation to climate change.\\nIn Mahakam Delta, results from a study conducted in 2018 and 2019 by the\\nKutai Kartanegara District has shown that 47.8% of mangrove forests are\\ndeteriorated.\\nTable 1. Critical Criteria of Mahakam Delta Mangrove3\\nCritical Criteria Land Area (ha) Percentage\\nDamaged 7,034 5.6\\nSevere 52,945 42.2\\nUndamaged 65,522 52.2\\nTotal 125,502 100.0\\nSource: The Result of Spatial Analysis of Mangrove Damage Level (2018)\\nWith the plan to move the state capital to Penajam Paser Utara District\\n(PPU), the development activities to create this new big city will take place\\nmassively. The central government has planned to create a green city for the\\nnew capital, which construction will start in 2022, but various problems still\\npose challenges in locations outside the new capital. On the one hand, a\\nclose government center can control the surrounding environment to keep it\\nconserved, but the gap in the quality of human resources and plans to move\\na  large  number  of  people  from  Jakarta  to  this  area  will  certainly  cause\\npressure on the environment.\\nBiodiversity issues\\nThe  mangrove  of  Mahakam  Delta  conceals  a  rich  marine  and  arboreal\\nbiodiversity,  characterized by a large variety of  fish, arthropods, reptiles\\nsuch as the marine crocodile  (Crocodylus porosus) , aquatic mammals such\\nas the Irrawaddy dolphin  (Orcaella brevirostris)  or terrestrial like the nasal\\nmonkey  (Nasalis larvatus),  these last 2 species being considered as being\\n“endangered” by the IUCN.\\nThe  deforestation  of Mahakam Delta’s mangrove hampers the effort to\\nconserve this type of species, for example by fragmenting the habitat of the\\nnasal monkey, whose interaction between populations strongly depends on\\nthe continuity of the canopy. The isolation of these populations makes them'), Document(metadata={'source': './data/PROJECT DOCUMENT MAHAKAM 2023-2025_balise.pdf', 'page': 11}, page_content='monkey  (Nasalis larvatus),  these last 2 species being considered as being\\n“endangered” by the IUCN.\\nThe  deforestation  of Mahakam Delta’s mangrove hampers the effort to\\nconserve this type of species, for example by fragmenting the habitat of the\\nnasal monkey, whose interaction between populations strongly depends on\\nthe continuity of the canopy. The isolation of these populations makes them\\nmore vulnerable to poaching.  The long-nosed monkey, endemic of Borneo\\nIsland is listed as “Endangered” by the IUCN as it has undergone extensive\\n3 Study of identification of levels of mangrove forest damaged for rebooting planning in \\nMahakam Delta in Kutai Kartanegara district. Jurnal “Gerbang Etam” Balitbangda Kab. Kukar\\nVol. 13 No. 1 Tahun 2019'), Document(metadata={'source': './data/PROJECT DOCUMENT MAHAKAM 2023-2025_balise.pdf', 'page': 12}, page_content='\\npopulation  reductions  across its  range, and ongoing  hunting and habitat\\ndestruction  continue  to  threaten  most  populations.  Numbers  have\\ndeclined by more than 50%  (but probably less than 80%) over the past 3\\ngenerations (approximately 36-40 years). 4 At the scale of Mahakam Delta,\\nonly 2 censuses have been conducted to monitor this specie, respectively in\\n1997 and 2005 which reflects the lack of resources of local institutions to\\nconserve and protect this biodiversity.\\nIn addition, the degradation of this ecosystem leads to a decrease in fish\\nstocks in the delta, threatening both fishermen and species such as sea\\ncrocodiles  and  dolphins.  The  situation  is  currently  might  threatening  to\\nexacerbate human-animal conflicts and therefore to further decrease the\\npopulations of the above-mentioned species, even threatening them with\\nextinction. Hence, beside preventing the mangrove forest conversion into\\npalm oil plantation, aquaculture ponds, and other usages, the reforestation\\nactivity is necessary to improve the degraded mangrove ecosystem in the\\ncoastal area.\\nParadoxically, the considerable modification of delta habitats resulted in a\\nvery substantial  increase in populations of birds  associated with open\\nwet  areas,  such  as  egrets  (100  individuals  in  1987  to  nearly  15,000\\nindividuals  in  2013).  Likewise,  some  species  of  heron  have  seen  their\\npopulation sizes increase considerably, such as the purple heron or the Javan\\npond-heron,  the  lesser  adjutant,  ducks,  Sunda  teal  and  the  wandering\\nwhistling-duck also seem to have used the habitats created by the clearings\\nto considerably increase their populations. \\nThe populations of these species have benefited of new feeding areas when\\nthe shrimp ponds were developed. Indeed, egrets, ducks, and waders use\\nthe shrimp ponds in high numbers on cyclical basis when shrimp ponds are'), Document(metadata={'source': './data/PROJECT DOCUMENT MAHAKAM 2023-2025_balise.pdf', 'page': 12}, page_content='whistling-duck also seem to have used the habitats created by the clearings\\nto considerably increase their populations. \\nThe populations of these species have benefited of new feeding areas when\\nthe shrimp ponds were developed. Indeed, egrets, ducks, and waders use\\nthe shrimp ponds in high numbers on cyclical basis when shrimp ponds are\\nemptied for shrimp harvesting. The presence of pristine areas, with large\\ntrees  or  dense  copses  of  smaller  species  (Nypa)  removed  from  human\\npresence, is also favourable for the reproduction of these species. Here they\\nfind quiet conditions for reproduction or gatherings (dormitories). Amongst\\nthe species observed in 2013 and those not observed in 1987, eight dwell in\\nan aquatic environment and directly depend on the shrimp ponds: darter,\\nstilts, grey heron, black-crowned night heron, intermediate egret, western\\nmarsh-harrier  and  the  Garganey.  The  opening  of  shrimp  ponds  was  the\\nobvious factor leading to the growth of all these bird populations.\\nInstitutional Context \\nThe  key  players  in  coastal  region  in  East  Kalimantan  including  in  Delta\\nMahakam  Ulu  (Delta  Mahakam)  and  Delta  Mahakam  (Adang  Bay)  are\\nrelatively similar. Since the area located or nearby the conservation area and\\nforest  production  area,  the  Ministry  of  Forestry  via  Nature  Conservancy\\n4 IUCN Red List: https://www.iucnredlist.org/species/14352/4434312'), Document(metadata={'source': './data/PROJECT DOCUMENT MAHAKAM 2023-2025_balise.pdf', 'page': 13}, page_content=\"\\nAgency  in  East  Kalimantan  and  Forest  Management  Unit  (provincial\\ngovernment agency) are the most influence actor. They have authority to\\ndetermine the activities which allowed and not allowed in the area. However,\\nthey cannot control the vast area of conservation area since 50 percent of\\nmangrove forest in the region have been degraded. Besides government, the\\nothers key actors are fishermen, fish farmers, swallow workers and investors\\nin aquaculture sectors. Those actors have shaped the landscape of coastal\\narea in Delta Mahakam and Adang Bay over the past 20 years. In their hand\\nthe future  of sustainable  aquaculture  is determined.  Environmental and\\ndevelopment NGOs, oil and gas company and other parties has programme\\nin their area. Most of the programme focus on improving the livelihood of the\\nlocal people and restoring the mangrove forest.\\nThe Movement of Indonesian New Capital\\nPaser District (East Kalimantan Province) will soon be the site of Indonesia's\\nnew political capital, Nusantara, as part of the plan to move the country's\\ncapital from the island of Java to the island of Borneo, which is home to one\\nof the world’s largest rainforests.  \\nJakarta,  the  current  political  capital  which  will  become  the  country's\\neconomic capital by 2045, is currently facing several environmental, climatic\\nand demographic problems and challenges: overpopulation, heavy pollution,\\nrising water levels, frequent flooding, etc. In order to deal with the inevitable\\nfuture security issue, the Indonesian government has decided to build a new\\ncapital 2,000 km away from Jakarta, in the province of East Kalimantan,\\nmore precisely between the towns of Balikpapan and Samarinda. With the\\nlegislation  for  the  relocation  of  the  new  capital  published,  the  physical\\ndevelopment of the new capital will begin in 2022. In August 2024, the\\nPresident  plans  to  celebrate  Indonesia's  Independence  Day  in  the  new\\ncapital.\"), Document(metadata={'source': './data/PROJECT DOCUMENT MAHAKAM 2023-2025_balise.pdf', 'page': 13}, page_content='capital 2,000 km away from Jakarta, in the province of East Kalimantan,\\nmore precisely between the towns of Balikpapan and Samarinda. With the\\nlegislation  for  the  relocation  of  the  new  capital  published,  the  physical\\ndevelopment of the new capital will begin in 2022. In August 2024, the\\nPresident  plans  to  celebrate  Indonesia\\'s  Independence  Day  in  the  new\\ncapital. \\nThe government plans to make the new capital a \"forest city\" by strongly\\npreserving forest areas and using sustainable energy. However, many argue\\nthat  the  development  of  the  new  capital  could  lead  to  environmental\\ndegradation and loss of essential biodiversity, especially in the mangrove\\nforest.  The  majority  of  the  Indonesian  population,  including  the  local\\npopulation, supports the new capital movement by echoing the effect of\\nequitable  development.  Indeed,  for  decades,  the  natural  resources  of\\nKalimantan Island have been exploited to support Indonesian development,\\nespecially that of Java Island.  \\nThe location of the project (Delta Mahakam and Adang Bay -Adang Bay) is an\\narea relatively close to the potential centre of the state capital (about 100-\\n200 km).'), Document(metadata={'source': './data/PROJECT DOCUMENT MAHAKAM 2023-2025_balise.pdf', 'page': 14}, page_content='\\nEnvironment and development challenges\\na) Aquaculture industry\\nMahakam  Delta  area  is  under  pressure  from  both  the  industrial  and\\nagricultural sectors, including aquaculture facing a national high dynamic.\\nFrom 2015 to 2035 it is expected a destruction of 600,000 ha of mangrove\\nfor shrimp farm at the national scale. The World Bank (2013) estimates a\\npressure to double cultivated shrimp production from currently 300,000 t\\n(produced by 600,000 ha of ponds) to 600,000 t/1,000,000 t by 2030 to fulfil\\nthe demand. However, with improvements in brackish water aquaculture\\nproductivity,  halting  palm  oil  concession  to  use  mangroves,  along  with\\nmaintaining other mangrove use pressures at moderate levels, the net loss\\nof mangroves in the next two decades could be reduced to around 23,000 ha\\nat this same scale. \\nThe East-Kalimantan Province is the new area to develop aquaculture ponds\\nas  Java,  Sumatra  and  Sulawesi  islands  are  facing  a  decrease  of  the\\nproduction and the destruction of their environment due to unsustainable\\npractices. \\nFeature 1: Forecasted mangrove loss at six mangrove regions in Indonesia\\nin the next two decades due to land use change under pessimistic scenario.\\nCircle size indicates potential loss areas in Sumatra, Kalimantan, and Papua;\\nas for Java, Sulawesi and Maluku potential loss areas are represented by the\\nsmaller circles.\\nScientific  studies  also  show  that  the  percentage  of  mangrove  natural\\nrecovery is higher in East-Kalimantan with 1.4%/year against 0.7%/year in\\nother  islands  in  inactive  ponds.  This  suggests  to  consider  conservation\\nactivities in specific areas of Mahakam Delta. At the scale of Mahakam Delta,\\nthe  table  below  for  which  the  percentage  (43.7%)  is  as  higher  as  the\\nremaining mangrove forest (48.5%) highlights the dominance of aquaculture.'), Document(metadata={'source': './data/PROJECT DOCUMENT MAHAKAM 2023-2025_balise.pdf', 'page': 15}, page_content=\"\\nTable 2. Types of Land Cover and Land Use in Mahakam Delta5 \\nTypes of Land Cover and Land Use\\nin Mahakam Delta Land Area (ha) Percentage\\nMangrove Forest with Middle Density 11,053 8.8\\nMangrove Forest with High Density 49,885 39.7\\nIndustry 311 0.2\\nPlantation 5,356 4.3\\nOpen Land 193 0.2\\nResidential Area 889 0.7\\nRice Field 869 0.7\\nShrubs 2,080 1.7\\nCommercial Fish Ponds 54,865 43.7\\nTotal 125,502 100.0\\nSource: Result of SPOT satellite images 6/7 (2018)\\nb) Demography\\nThe demographic issue must also be considered. Indeed, the announcement\\nin 2019 of the relocation of the political and administrative capital of Jakarta\\nto the province of East Kalimantan, between the cities of Balikpapan and\\nSamarinda, suggests strong migrations, the development of infrastructures\\nbut  also  a  growing  demand  for  aquaculture  products.  By  2024,  the\\nIndonesian Minister of Planning hopes to transfer nearly 1.5 million public\\nofficials and political representatives in East Kalimantan.\\nDelta  Mahakam Ulu village,  which  belongs  to Delta  Mahakam district,  is\\nlocated in the northern part of the Mahakam Delta. The location of Delta\\nMahakam sub-district is close to the state-owned oil company (Pertamina),\\nformerly  VICO.  Due  to  the  proximity  of  a  fairly  large  company,  the\\ncommunity's economy is quite dynamic and the area offers a variety of jobs.\\nHowever, the number of people who still carry out the traditional work of\\nfishermen and fish farmers is still quite high, especially in the coastal areas.\\nWorking as a fish farmer has become one of the choices of the community as\\nland is available for opening ponds. The conversion of mangrove forests into\\nponds has been going on for decades, but the production of fish and shrimp\\nhas decreased from time to time. Based on various studies and research,\\nplanting a number of mangroves in ponds can improve the soil and water\\nquality in the ponds so that they can provide sustainable production. The\"), Document(metadata={'source': './data/PROJECT DOCUMENT MAHAKAM 2023-2025_balise.pdf', 'page': 15, 'score': 0.695250928401947}, page_content='land is available for opening ponds. The conversion of mangrove forests into\\nponds has been going on for decades, but the production of fish and shrimp\\nhas decreased from time to time. Based on various studies and research,\\nplanting a number of mangroves in ponds can improve the soil and water\\nquality in the ponds so that they can provide sustainable production. The\\n5 Study of identification of levels of mangrove forest damaged for rebooting planning in \\nMahakam Delta in Kutai Kartanegara district. Jurnal “Gerbang Etam” Balitbangda Kab. Kukar\\nVol. 13 No. 1 Tahun 2019'), Document(metadata={'source': './data/PROJECT DOCUMENT MAHAKAM 2023-2025_balise.pdf', 'page': 16, 'score': 0.5599989295005798}, page_content='\\nfarmer groups in Delta Mahakam Ulu ponds are beginning to realise the\\nimportance of planting mangroves in the ponds, and therefore need support\\nfrom various parties. \\nc) Other issues\\nThe table below represents a summary of estimation of potential loss and\\ngain of mangroves in six major regions by 2035. The Kalimantan Island is the\\none to analyze in order to justify Planète Urgence and partners’ information.\\nThe analysis does not yet consider the movement of new capital issue which\\nvery likely affect the mangrove forest in East Kalimantan as well. \\nTable 2 *\\nThis table highlight the multiple and complex context in which mangrove loss\\ndepends and confirms challenges faced in Mahakam Delta area. The lack of\\nresources (financial, human resources, material) of local authorities coupled\\nwith  a  lack  of  transparency,  coordination  and  communication  around\\nresponsibilities of each actors impacts the management of mangrove forests,\\nnatural resources and territorial development. \\n6 Muhammad Ilmana,b, Paul Darguscha, Peter Dartc, Onrizal - A historical analysis of the \\ndrivers of loss and degradation of Indonesia’s mangroves, 2016.'), Document(metadata={'source': './data/PROJECT DOCUMENT MAHAKAM 2023-2025_balise.pdf', 'page': 17}, page_content='\\nAnother issue that has also had a major impact on life in Indonesia, including\\nEast Kalimantan, is the Covid 19 global pandemic that has attacked the\\nentire world since early 2020.  The  Covid 19 pandemic has had a major\\nimpact on life in Indonesia. East Kalimantan is a province outside Java Island\\nwith  the  highest  rate  of  exposure  to  Covid,  which  has  resulted  in  the\\ngovernment imposing a lockdown and restrictions on community activities.\\nAt the beginning of 2022, community activities began to return to normal,\\nbut a new variant emerged, namely Omicron, which spread very quickly.\\nFacing a pandemic situation that has not ended, of course, the project must\\ncontinue  but  still  pay  attention  to  security,  safety,  and  practice  health\\nprotocols.\\n3. Strategy & theory of change\\nThe  three  years  project  aims  to  contribute  to  restore  the  degraded  of\\nmangrove  ecosystem  in  Production  Forest  (Mahakamm  Delta)  and\\nConservation area (Adang Bay). In doing so, the project will address the key\\nproblems in those regions: \\na. Lack  of  awareness  of  local  people  on  mangrove  ecosystem,\\nbiodiversity issue and waste\\nb. Huge area of degraded mangrove forest which affect the resilience of\\nlocal  people  in  facing  climate  change,  the  habitat  of  endangered\\nspecies and local economy;\\nc. Lack of alternative sustainable livelihood in coastal area;\\nd. Poor  governance  particularly  on  mangrove  ecosystem  and  its\\nenvironmental and economy issue.   \\nTo overcome those problems, Planet Urgence and its partners will work by\\nimplementing the PU FORET strategy which rely on three components:\\n1. Restore degraded forest;\\n2. Environmental awareness;\\n3. Strengthening livelihood of local people. \\nIn addition, the involvement of local NGOs, local community and volunteer is\\nkey for the successful of the project and the sustainability the impact of the'), Document(metadata={'source': './data/PROJECT DOCUMENT MAHAKAM 2023-2025_balise.pdf', 'page': 17, 'score': 0.39917007088661194}, page_content='To overcome those problems, Planet Urgence and its partners will work by\\nimplementing the PU FORET strategy which rely on three components:\\n1. Restore degraded forest;\\n2. Environmental awareness;\\n3. Strengthening livelihood of local people. \\nIn addition, the involvement of local NGOs, local community and volunteer is\\nkey for the successful of the project and the sustainability the impact of the\\nproject. Therefore, PU will reinforce the capacity of those local stakeholders\\nto ensure they can carry out the project activities and together achieve the\\nlong-term goal of the project. \\nDiagram of the theory of change can be seen below or in this link  Proyek\\nNEW MAHAKAM 2023-2026 -TOC - 3.xlsx'), Document(metadata={'source': './data/PROJECT DOCUMENT MAHAKAM 2023-2025_balise.pdf', 'page': 18}, page_content='\\nFeature 3. Theory of Change\\n4. Beneficiaries\\nNumber of direct beneficiaries of the pilot project: 3245 people with the\\nproportion of 30% women and 70% men. \\nNumber of indirect beneficiaries: 3000 people by assuming at least the\\nproject will give benefit indirectly to 1500 people per location including in\\nEast Kalimantan and Indonesia.\\nThe target groups include: \\n- School children (primary schools and secondary schools)\\n- Teachers (primary school teachers)'), Document(metadata={'source': './data/PROJECT DOCUMENT MAHAKAM 2023-2025_balise.pdf', 'page': 19}, page_content='\\n- Community members (villagers, consists of fish farmers, women group,\\nand youth)\\n- Village officials\\n- Stakeholders  from  various  institutions  (government  institutions,\\nuniversities, and non-government organizations)\\n- Public audience in general (reached by Media) \\n Other potential groups: \\n- High school and university students\\n- Environmental activists\\n5. Location\\nThe location of the project is in Paser District (Adang Bay village) and Kutai\\nKartanegara district (Delta Mahakam) East Kalimantan Province. The location\\nof project is nearby the new capital of Indonesia which is in the Penajam\\nPaser Utara (around 130-160 km)\\nFeature 4: Site intervention New Mahakam Project\\n6. Expected  results,  planned  activities  &  required\\nresources'), Document(metadata={'source': './data/PROJECT DOCUMENT MAHAKAM 2023-2025_balise.pdf', 'page': 20}, page_content=\"\\n\\uf0b7 GOAL  :  Contribute to restoring the degraded mangrove forest in East\\nKalimantan  (Delta  Mahakam-Delta  Mahakam  and  Adang  Bay-Adang\\nBay as home of endemic and endangered species including proboscis\\nmonkey and key ecosystem to mitigate and to adapt the impact of\\nclimate change by strengthening the governance, planting mangrove\\ntree, improving environmental awareness and developing sustainable\\nlivelihood for local community.\\n\\uf0b7 DETAILS OF PLANNED ACTIVITIES  \\nOutput  1:  The  awareness  of  stakeholders  to  conserve  Delta\\nMahakam and Adang Bay is strengthened.  \\nAwareness raising activities in schools targeting teachers and students are\\nvery  strategic  activities  to  raise  awareness  on  the  importance  of\\nenvironmental  conservation,  especially  the  mangrove  ecosystem.  East\\nKalimantan is a province with the second largest area of mangrove forest\\nafter Papua Province, but there is very little material about mangroves in\\nschool subjects. The workshop experience with elementary school teachers\\nin Muara Jawa District in 2021 showed that schools really need knowledge\\nabout the mangrove ecosystem so that they can teach knowledge to the\\nstudents as early as possible. Campaigns and hands-on learning bring fun for\\nthe teacher and students and will be memorized for a long time.\\nActivity  1.1. Conduct  workshops  in  schools  of  East  Kalimantan\\nprovince  to  raise  awareness  on  environment  and  biodiversity\\npreservation. \\nThree sub-activities will be conducted:\\n1.1.1.  -Workshop  on  Environmental  Conservation  for  Primary  School\\nTeachers\\nThe objective of this sub-activity is to increase teachers' knowledge in the\\nfield of environmental conservation, especially the mangrove ecosystem and\\nits  biodiversity.  Furthermore,  the  teacher  will  integrate  the  subject  of\\nmangrove conservation in the subject of environmental education at school.\\nBy building the capacity of teachers, the project will promote a sustainable\"), Document(metadata={'source': './data/PROJECT DOCUMENT MAHAKAM 2023-2025_balise.pdf', 'page': 20}, page_content=\"Teachers\\nThe objective of this sub-activity is to increase teachers' knowledge in the\\nfield of environmental conservation, especially the mangrove ecosystem and\\nits  biodiversity.  Furthermore,  the  teacher  will  integrate  the  subject  of\\nmangrove conservation in the subject of environmental education at school.\\nBy building the capacity of teachers, the project will promote a sustainable\\napproach to raising awareness among students.\\n\\uf02d Participants: 25 primary school teachers in Mahakam Delta and 25\\nprimary school teachers in Adang Bay with the proportion of male (50%) and\\nfemale (50%)\\n\\uf02d Workshop  locations:  Mahakam  Delta  sub-district  Muara  Badak\\n(organized by YML & PU) and Adang Bay Subdistrict Long Ikis (Organized by\\nPokja Pesisir and PU)\\n\\uf02d The training materials include: The environment of East Kalimantan\\nProvince,  especially  the  Mahakam  Delta  and  Adang  Bay;  Mangrove\"), Document(metadata={'source': './data/PROJECT DOCUMENT MAHAKAM 2023-2025_balise.pdf', 'page': 21}, page_content='\\nEcosystem; Biodiversity in mangrove ecosystems; conservation of mangrove\\necosystems and biodiversity; making videos and learning media\\n\\uf02d Training module for one day of training/workshop developed based on\\nthe experience of implementing activities and discussed between PU, local\\npartners and educational offices and written by the PU Team\\n\\uf02d Implementation strategy: The Project Team will work closely with the\\nlocal education office in Kutai Kartanegara district and Paser district to select\\nschools to be involved in the activity.\\n1.1.2 - Campaign on Environmental Awareness to the School children\\nFor this one, the objective is to raise awareness of the young generation to\\nconserve the environment they live in.\\n\\uf02d Participants: 2 primary schools (1 in Delta Mahakam, and 1 in Adang\\nBay with the target of 100 students each school); and 2 secondary schools (1\\nin Delta MahakamDelta Mahakam, and 1 in Adang Bay Bay with the target of\\n75 students each school)\\n\\uf02d Location: in Delta Mahakam conducted by YML, and in Adang Bay,\\nPaser  conducted  by  Pokja  Pesisir.  Each  of  partner  will  be  supported  by\\nvolunteer from college students\\n\\uf02d Materials: Introduction to mangrove ecosystem, getting to know the\\nenvironment we live  in, environment  conservation, visiting nurseries and\\nplanting trees.\\n\\uf02d Methods and media: learning with fun and using local materials, for\\nexample sample of mangrove species, mangrove fruit etc. and use more\\npictures and video.\\n\\uf02d Strategy of implementation: Collaboration with the schools and the\\nSub-district Office of Education\\nActivity  1.2. Support  Adiwiyata  School  (Green  School)  in  Delta\\nMahakam\\n1.2.1 -Encouraging/assisting schools towards adiwiyata in Mahakam Delta\\n\\uf02d For this one, the objective is to assist the schools in Mahakam Delta to\\nget  label  adiwiyata  schools  (adiwiyata  program)  to  implement\\nenvironment education and establish green scholl (physically)'), Document(metadata={'source': './data/PROJECT DOCUMENT MAHAKAM 2023-2025_balise.pdf', 'page': 21}, page_content='Sub-district Office of Education\\nActivity  1.2. Support  Adiwiyata  School  (Green  School)  in  Delta\\nMahakam\\n1.2.1 -Encouraging/assisting schools towards adiwiyata in Mahakam Delta\\n\\uf02d For this one, the objective is to assist the schools in Mahakam Delta to\\nget  label  adiwiyata  schools  (adiwiyata  program)  to  implement\\nenvironment education and establish green scholl (physically)\\n\\uf02d Participants: 1 school (Adiwiyata schoo) in Mahakam delta\\n\\uf02d Location: in Delta Mahakam conducted by YML\\n\\uf02d Materials: environment-based curriculum, draft school policy related\\nenvironment, and others item (according to school needs)\\n\\uf02d Methods and media: Established MoU between YML and schools and\\nregular meeting conducted\\n\\uf02d Strategy of implementation: Collaboration with the schools and the\\nSub-district Office of Education.'), Document(metadata={'source': './data/PROJECT DOCUMENT MAHAKAM 2023-2025_balise.pdf', 'page': 22}, page_content=\"\\nActivity  1.3.  Conduct  public  awareness  campaigns  to  sensitize\\ncommunities  in  East  Kalimantan  province  to  the  ecological,\\neconomic and climatic benefits of the mangrove.\\nEast  Kalimantan  Province  has  the  second  largest  mangrove  forest  in\\nIndonesia, but the knowledge and understanding of the community is still\\nlacking about this very useful mangrove ecosystem. When viewed in the\\nmedia and in the study program at universities, terrestrial forests receive\\nmore  attention  than  mangrove  forests.  Public  campaign  is  needed  to\\nincrease public awareness in general that East Kalimantan Province has an\\necosystem  that  is  rich  in  benefits  and  needs  to  be  maintained  and\\nsafeguarded  together.  Maintaining  the  mangrove  ecosystem  in  East\\nKalimantan is even more relevant because, starting in 2022, Indonesia will\\nmove the country's capital to East Kalimantan Province. The movement of\\nthe state capital will increase the mobility of the population and will increase\\nthe pressure on the environment.\\n1.3.1. Waste Management Campaign\\nThere  are  intervention  villages  where  have  habit  to  throw  away  their\\ngarbage under their floating house. The objective of this campaign is to\\nincrease  awareness  to  the  local  community  about  waste  management\\nproperly. There is a link between their bad habits and the environment; when\\nthe tide arrives, the trash is washed away and accumulates in the roots of\\nthe mangroves, which results in the death of the mangrove plants. Apart of\\nthat,  littering  under  their  floating  house  make  environment  of  local\\ncommunity becomes dirty.\\n\\uf02d Target: 100 persons local community involved\\n\\uf02d Location:  Village  Muara  Adang  and  Pondong  Baru  in  Adang  Bay\\nlandscape\\n\\uf02d Methods: \\na. Religion approach through Conservation Lecture (Dai Konservasi)\\nand will utilize friday prayers moment and other islamic holiday \\nb. Health approach involved medical staff or public health office\"), Document(metadata={'source': './data/PROJECT DOCUMENT MAHAKAM 2023-2025_balise.pdf', 'page': 22}, page_content='community becomes dirty.\\n\\uf02d Target: 100 persons local community involved\\n\\uf02d Location:  Village  Muara  Adang  and  Pondong  Baru  in  Adang  Bay\\nlandscape\\n\\uf02d Methods: \\na. Religion approach through Conservation Lecture (Dai Konservasi)\\nand will utilize friday prayers moment and other islamic holiday \\nb. Health approach involved medical staff or public health office\\nc. Village Cleanliness Competition in celebrating Independence Day\\nor other moment\\n\\uf02d Strategy  of  implementation:  Collaborating  with  prominent  islamic\\nreligion leaders, public health offices, youth and village government\\n1  .3.2 Book publication  \\nA writing competition will be organised with the theme “Local wisdom in\\nrelation to the mangrove ecosystem and nasal monkey (proboscis monkey)\\nconservation”. The participant’s writing will be compiled to be published.\\n\\uf02d Target: the project will publish 100 copies. \\n\\uf02d Location: Organized from Samarinda by PU. \\n\\uf02d Content/Topic: Writing competition with the THEME: “Local wisdom in\\nrelation  to  the  mangrove  ecosystem  and  nasal  monkey  (proboscis\\nmonkey) conservation”.'), Document(metadata={'source': './data/PROJECT DOCUMENT MAHAKAM 2023-2025_balise.pdf', 'page': 23}, page_content='\\n\\uf02d Methods  and  media:  Book  publication  published  by  registered\\npublisher completed with ISBN (International Serial Book Number).\\n\\uf02d Strategy of implementation: Collaboration with the literacy activist in\\nKutai Kartanegara District.\\n1.3.3 Environmental Campaign for public with billboard\\nThe main goal of this sub-activity is to raise environmental awareness among\\nmore  people  by  posting  messages  on  billboards  strategically  placed\\nthroughout the community.\\n\\uf02d Target: public in general \\n\\uf02d Location: Delta Mahakam by YML and Adang Bay/Long Ikis by POKJA\\nPesisir.\\n\\uf02d Content/Topic:  Simple  message  to  be  discussed.  For  example,  “To\\nSave Mangrove is to Save Us”\\n\\uf02d Methods  and  media:  Billboard  made  of  metal  materials  that  is\\nestimated can last for at least 4 years.\\n\\uf02d Strategy of implementation: Coordination with local authority for tax\\nexemption if possible since the billboards have non-profit purpose7.\\n1.3.4 Public Campaign Awareness through Media\\nObjective: To reach more people on environment awareness by reporting the\\nproject activities through online media and offline media in East Kalimantan\\nProvince.  \\n\\uf02d Target: public in East Kalimantan Province in general\\n\\uf02d Location: Samarinda\\n\\uf02d Content/Topic: news or feature of the project activities to be posted on\\nonline media and offline media in East Kalimantan Province\\n\\uf02d Methods and media: PU and implementing partners will collaborate\\nwith  the  local  online/offline  media  such  as  “kaltimkece.id”  and\\nhttps://kaltim.tribunnews.com/\\n\\uf02d Strategy of implementation: PU will assist, encourage and facilitate\\nimplementing partners to coordinate actively with online local media\\nwhich has big number of subscribers or viewers. \\nOutput 2: 300 ha area of degraded mangrove forest are restored by\\nplanting 800.000 of mangrove tree.\\nRehabilitation of degraded mangrove forests is the main activity of this project. The'), Document(metadata={'source': './data/PROJECT DOCUMENT MAHAKAM 2023-2025_balise.pdf', 'page': 23}, page_content='\\uf02d Strategy of implementation: PU will assist, encourage and facilitate\\nimplementing partners to coordinate actively with online local media\\nwhich has big number of subscribers or viewers. \\nOutput 2: 300 ha area of degraded mangrove forest are restored by\\nplanting 800.000 of mangrove tree.\\nRehabilitation of degraded mangrove forests is the main activity of this project. The \\nMahakam Delta and the east coast of East Kalimantan are areas that are naturally \\novergrown with mangrove vegetation, but currently many have been converted for \\nsettlements, industry and aquaculture ponds. Mangrove planting in degraded areas \\nand in ponds is important because it will contribute to restoring the function of the \\nmangrove ecosystem and improving environmental quality.  \\n7 In general, a local tax will be imposed on profit-oriented billboards.'), Document(metadata={'source': './data/PROJECT DOCUMENT MAHAKAM 2023-2025_balise.pdf', 'page': 24}, page_content='\\nActivity 2.1. Pres-assessment study on land suitability \\nOne  of  the  main  recommendations  made  by  the  consultants  during  the\\nevaluation of the Mahakam Delta projects from 2017 to 2021 was to conduct\\na  study on  land  suitability  (soil  and  water  characteristics)  for  mangrove\\nreforestation. We conducted these studies for the intervention areas during\\nthe pilot phase of the project in 2022. To ensure the long-term viability of the\\nplantations, the objective would be to implement this strategy for all future\\nand new project intervention areas during the 3 years project. \\n\\uf02d Target: locations of plantation plot. \\n\\uf02d Location: Delta Mahakam (aquaculture pond and coastal area) by YML,\\nMuara  Jawa  (coastal  area),  and  Adang  Bay  (aquaculture  pond  and\\nriparian/coastal area) \\n\\uf02d Content/Topic:  soil  and  substrate  analysis  and  endemic/local  tree\\nspecies analysis\\n\\uf02d Methods and media: Desk study, Field work, laboratory analysis and\\nreport writing\\n\\uf02d Strategy of implementation: \\na. Hire consultant team with the available budget\\nb. Involve the community representative and the local partner during the\\nfield work\\nActivity 2.2. Ensure establishment and management of community-\\nbased nurseries\\n2.2.1 Establishment of community-based nurseries \\n The objective is to have the tree seedlings locally and on time, as planned\\nby the community.\\n\\uf02d Target: 3 nurseries in 3 villages/locations, 60 people involved in the\\nseedling preparation in the nurseries.\\n\\uf02d Location: Delta Mahakam organized by YML and local community and\\nAdang Bay organized by POKJA Pesisir and local community8. \\n\\uf02d Content/Topic:  70,000  mangrove  trees  in  Delta  Mahakam,  80,000\\nmangrove trees in Adang Bay, Paser. \\n\\uf02d Methods and media: Technical assistance by Project staffs\\n\\uf02d Strategy of implementation: Collaboration with village officials and give\\nmore responsibility to the local people.\\n2.2.2 Maintenance of the nurseries \\n8 The location in general:'), Document(metadata={'source': './data/PROJECT DOCUMENT MAHAKAM 2023-2025_balise.pdf', 'page': 24}, page_content='\\uf02d Content/Topic:  70,000  mangrove  trees  in  Delta  Mahakam,  80,000\\nmangrove trees in Adang Bay, Paser. \\n\\uf02d Methods and media: Technical assistance by Project staffs\\n\\uf02d Strategy of implementation: Collaboration with village officials and give\\nmore responsibility to the local people.\\n2.2.2 Maintenance of the nurseries \\n8 The location in general:\\n1.  Delta Mahakam with 2 nurseries in: \\n(1) Delta Mahakam Ulu with 40,000 trees, will be planted in fish pond \\n(2) Tanjung Limau with 30,000 trees, will be planted in coastal area. \\nThe community group working in this reforestation is the same group \\n2. Adang Bay Village, 1 nursery, 80,000 trees will be planted 40,000 in fish pond, and \\n40,000 in coastal and riparian'), Document(metadata={'source': './data/PROJECT DOCUMENT MAHAKAM 2023-2025_balise.pdf', 'page': 25}, page_content='\\nThe goal is to have high-quality tree seedlings.\\n\\uf02d Target: 3 nurseries in 3 villages/locations, with the total of 150,000\\ntrees seedlings.\\n\\uf02d Location: Delta Mahakam (supervised by YML), and Adang Bay, Paser\\nsupervised by POKJA Pesisir. \\n\\uf02d Description of activity: Maintaining the tree seedling in the nursery and\\nreplace the dead seedlings with the new ones. \\n\\uf02d Methods and media: Regular maintenance by local people \\n\\uf02d Strategy of implementation: Recruiting local villager(s) to be assigned\\nfor nursery maintenance.\\nActivity 2.3. Identify and prepare planting locations, and train local\\ncommunity  members  to  mangrove  restoration,  and  conduct  tree\\nplanting.\\n2.3.1 Survey of planting locations\\nThe objective is to have secured land for the tree plantation. \\n\\uf02d Target: at least 5 plots/parcels9 in the 3 villages. \\n\\uf02d Location: Delta Mahakam and Adang Bay, Paser. \\n\\uf02d Description of activity: \\na. Coordination with the local authority regarding the status of the\\nland: visit and discussion with KPHP, BKSDA, village government\\nand relevant local agencies in order to share with them the location\\nof the plantation sites and identify the status of land (forest / non\\nforest area, ownership)\\nb. Initial proposal of the plantation plots proposed by the villagers\\nc. Field visit to check the land condition and the time is synchronized\\nwith  the  consultant  of  the  land  suitability  survey  to  visit  the\\nlocation.\\n\\uf02d Methods and media: Field visit, check the location in relation to the\\naccessibility and observation of the local natural tree species in the\\nlocations \\n\\uf02d Strategy  of  implementation:  Synchronized  the  activity  with  the\\nschedule  of  the  consultant  and  using  the  existing  maps  of  the\\nlocations.\\n2.3.2 Training on Mangrove Reforestation\\n9 We consider Delta Mahakam as ONE Project Location, organized by YML with one\\nCommunity Group (the member of group comes from different villages, based on'), Document(metadata={'source': './data/PROJECT DOCUMENT MAHAKAM 2023-2025_balise.pdf', 'page': 25}, page_content='locations \\n\\uf02d Strategy  of  implementation:  Synchronized  the  activity  with  the\\nschedule  of  the  consultant  and  using  the  existing  maps  of  the\\nlocations.\\n2.3.2 Training on Mangrove Reforestation\\n9 We consider Delta Mahakam as ONE Project Location, organized by YML with one\\nCommunity Group (the member of group comes from different villages, based on \\nthe fish pond ownership in a one big area.\\nTree planting will be conducted in (1) Delta Mahakam Ulu village, and (2) Tanjung \\nLimau Village - and they are neighboring villages. \\nWe can say : Target: at least 5 plots/parcels in the 2 project locations (i.e. Delta Mahakam \\nand Adang Bay).'), Document(metadata={'source': './data/PROJECT DOCUMENT MAHAKAM 2023-2025_balise.pdf', 'page': 26}, page_content='\\nThe  objective  is  to  increase  the  knowledge  of  the  local  community  in\\nimplementing mangrove reforestation project.\\n\\uf02d Target: 60 local communities in the 3 villages10. \\n\\uf02d Trainers/facilitator: the team of PU, YML and POKJA Pesisir.\\n\\uf02d Location: Delta Mahakam and Adang Bay, Paser. \\n\\uf02d Materials: \\na. Introduction of the mangrove ecosystems and its importance\\nb. Getting to know the type of mangrove species and its characteristic\\nc. Seed and propagule selection\\nd. Nursery preparation \\ne. Seedling the propagules in the nursery\\nf. Techniques of mangrove tree planting.\\n\\uf02d Methods and media: PowerPoint presentation, propagule/seedlings. \\n\\uf02d Strategy of implementation: coordination with the village officials and\\ncommunity leaders.\\n2.3.3 Tree planting\\nObjective: To reforest the dedicated plantation plots. \\n\\uf02d Target of tree planting\\nTable 3 *\\nLocation Number of trees\\n1st Year 2nd Year 3rd Year\\nMahakam Delta 300.000 trees\\n                  75,\\n000 \\n                 125,00\\n0 \\n                 100,\\n000 \\n-Direct method\\n                  22,\\n500 \\n                   37,50\\n0 \\n                   30,\\n000 \\n-Indirect method\\n                  52,\\n500 \\n                   87,50\\n0 \\n                   70,\\n000 \\n \\nAdang Bay 505.000 trees\\n                155,\\n000 \\n                 200,00\\n0 \\n                 150,\\n000 \\n-Direct method\\n                  50,\\n000 \\n                   60,00\\n0 \\n                   45,\\n000 \\n-Indirect method\\n                105,\\n000 \\n                 140,00\\n0 \\n                 105,\\n000 \\n10 60 people joining training, but the total number of people involved in the tree \\nplanting is expected to be 100 (in the 2 project locations)\\n(1) DELTA MAHAKAM (planting location 1 = Delta Mahakam Ulu, planting location\\n2 = Tanjung Limau)\\n(2) ADANG BAY'), Document(metadata={'source': './data/PROJECT DOCUMENT MAHAKAM 2023-2025_balise.pdf', 'page': 27}, page_content=\"\\n \\nArea planted in aquaculture \\npond (ha) \\n                    7\\n2.50 \\n                     97.5\\n0 \\n                     75\\n.00 \\nArea planted in coastal area \\n(ha) \\n1.0 2 1.5\\nArea planted in riparian (ha)                     1\\n4.75 \\n                     20.7\\n5 \\n \\n16 \\nArea (ha)                     8\\n8.25 \\n                   120.2\\n5 \\n                     92\\n.50 \\nTotal Area (ha)  \\n301 \\nTable 3 *\\n\\uf02d Target of tree planter is 60 local communities in the 3 villages.\\n\\uf02d Methods and media: organizing the community in tree planting. \\n\\uf02d Strategy of implementation: work with the local people\\n\\uf02d The  tree  planting  process  is  carried  out  together  with  the  local\\ncommunity,  starting  from  the  process  of  selecting  planting  sites,\\ncollecting  seeds,  seedling  process  in  the  nursery,  maintaining  the\\nnursery  to  planting  and  monitoring.  The  steps  for  community\\ninvolvement are carried out in stages: \\na. Dissemination of information to community members who wish to \\nbe involved in mangrove planting projects, including tree planting \\ncosts. \\nb. In each location the group leader is selected to organize the \\ncommunity in planting and assigning tasks to care for the nursery. \\nc. Extension training on mangrove reforestation for communities \\ninvolved in tree planting \\nd. Collecting mangrove seedlings based on recommendations from \\nconsultants. \\ne. Making a nursery by the community led by the group leader \\nf. Conduct seedling maintenance arranged by the group leader \\n\\uf02d Tree  planting  according  to  schedule  with  supervision  from  local\\npartners\\nActivity  2.4. Participatory  Monitoring  Training  and  ensure  the\\nmonitoring and protection of targeted mangrove areas\\n2.4.1 Participatory Monitoring Training on Tree monitoring\\nThe goal of this sub-activity is to increase the participants' knowledge of tree\\nmonitoring. PU is currently developing a tool to track indicators related to the\"), Document(metadata={'source': './data/PROJECT DOCUMENT MAHAKAM 2023-2025_balise.pdf', 'page': 28}, page_content='\\nFORET  program  (monitoring  of  plantations,  monitoring  of  other  socio-\\neconomic indicators). \\n\\uf02d Target: 6 local people in the 3 villages. \\n\\uf02d Trainers/facilitators:  Android  based  Application  developer11Location:\\nDelta Mahakam and Adang Bay, Paser. \\n\\uf02d Materials: \\na. Introduction of monitoring system\\nb. Tree monitoring by using application in Android \\nc. Practical in the field (hands-on experience)\\nd. Tree monitoring planning\\n\\uf02d Methods and media: PowerPoint presentation, demonstration, android-\\nbased cellular phone. \\n2.4.2 Implementation of the tree monitoring \\nThe objective is to have valid information on the survival rate of the tree\\nplanted.\\n\\uf02d Target: 6 local people in the 3 villages and the local partners involved\\nin the process.\\n\\uf02d Location: Delta Mahakam (2 times for tree of 2020/2021 and 2022) and\\nAdang Bay, Paser (1 time for the tree of 2022). \\n\\uf02d Materials: \\na. GPS and android cellular phone\\nb. Tree monitoring matrix\\n\\uf02d Methods and media: field trip directly to the location\\n\\uf02d Strategy of implementation: empower the local people to do the tree\\nmonitoring.\\nActivity 2.5. Conduct Biodiversity Research to find out the linkage of\\nrehabilitated degraded mangrove & the biodiversity\\nThe goal of this activity is to collect the baseline data of biodiversity \\nparticularly endangered species such as Proboscis monkey (Nasalis larvatus) \\nin the intervention area of project. According to Triatmoko et.al, 2007 the \\npopulation of proboscis monkey in east Kalimantan decreased 50% from \\n1985-1995 due to the habitat conversion from forest to agri/aquaculture, \\nmining and water transportation activity. If this condition is allowed and \\nthere is no conservation effort, the population of proboscis monkey will \\ndecrease from year to year. Planting mangrove in the degraded area could \\nbe restore the species habitat. In the end of project, we will measure the \\nimpact of planting activity to the number of biodiverisity (either increased or'), Document(metadata={'source': './data/PROJECT DOCUMENT MAHAKAM 2023-2025_balise.pdf', 'page': 28}, page_content='mining and water transportation activity. If this condition is allowed and \\nthere is no conservation effort, the population of proboscis monkey will \\ndecrease from year to year. Planting mangrove in the degraded area could \\nbe restore the species habitat. In the end of project, we will measure the \\nimpact of planting activity to the number of biodiverisity (either increased or \\nno direct linkage)\\n\\uf02d Target: Identify and collected databese of number of group & \\npopulation Proboscis monkey (Nasalis larvatus) in each of intervention \\narea\\n\\uf02d Locations: \\n11 This will wait for futher information from the implementation of Wildsense, but in the \\nmeantime the project will develop and improve the indicators to be reported and the \\nexisting monitoring arrangements.'), Document(metadata={'source': './data/PROJECT DOCUMENT MAHAKAM 2023-2025_balise.pdf', 'page': 29}, page_content='\\na. Delta Mahakam – Muara Pintuan\\nb. Adang Bay – Muara Adang\\n\\uf02d Materials: \\na. GPS\\nb. Camera\\nc. Drone (optional)\\nd. Tally sheet\\n\\uf02d Methods: \\na. Literature study\\nb. Direct observation in area targeted\\n\\uf02d Strategy of implementation: Hire biodiversity consultant and involving \\nthe partner staf/local community to join monitoring in the field.\\nOutput 3. Alternative sustainable livelihoods in Delta Mahakam and\\nAdang  Bay  are  available,  improved  and  shared  to  other  key\\nstakeholders in the region. \\nUnsustainable  livelihood,  particularly  aquaculture  has  degraded  the\\nmangrove  forest in Delta Mahakam and Adang Bay. The output aims to\\nintroduce and promote sustainable aquaculture in the region to improve the\\nproduction of aquaculture in current ponds as well as improve the skill of\\nwomen group in managing their business and family income.\\nActivity  3.1.  Establish  demonstration  plots  for  sustainable\\naquaculture (sustainable ponds and sylvo fishery models)\\n3.1.1 Support of practice on sustainable aquaculture pond\\nThe objective here is to promote the practice of sustainable aquaculture \\n\\uf02d Target: 40 ha of the aquaculture pond (20 ha in Delta Mahakam, and\\n20 ha in Adang Bay) \\n\\uf02d Facilitator for discussion: Achmad Nuriyawan (YML Director) and local\\npartner staff.\\n\\uf02d Location: Delta Mahakam and Adang Bay, Paser. \\n\\uf02d Materials: \\na. Introduction of sustainable aquaculture\\nb. The practical way for the management of sustainable aquaculture \\nc. Support  of  the  production  material  (baby  shrimp  and  organic\\nfertilizer)\\n\\uf02d Strategy of implementation: collaboration with the Office of Marine and\\nFisheries.'), Document(metadata={'source': './data/PROJECT DOCUMENT MAHAKAM 2023-2025_balise.pdf', 'page': 30}, page_content='\\nActivity 3.2.  Train community groups particularly women group on\\nthe financial management and product marketing.\\n3.2.1  Training  and  assistance  on  financial  management  and  product\\nmarketing\\nThis activity was maintained among the many other support activities for the\\ngenerative activities of local communities that were carried out last year\\nbecause of its relevance to the context of landlocked areas.\\nThey are having difficulty selling their aquaculture products. So, the project\\nwill more focus on women group by assisting them in marketing the product\\nto the wider consumers and managing their income. \\n\\uf02d Target: 40 women (20 Delta Mahakam, and 20 in Adang Bay) \\n\\uf02d Facilitator  for  training:  Trainer  from  the  Micro  and  Small  Business\\nEnterprise Development (Government Agency) and assisted by local\\npartner staff.\\n\\uf02d Location: Delta Mahakam and Adang Bay, Paser. \\n\\uf02d Materials: \\na. Principle of the product marketing\\nb. Pricing, Differentiation, and Branding\\nc. Marketing Channels\\nd. To be determined later\\n\\uf02d Methods: participatory training and hands-on experience\\n\\uf02d Strategy of implementation: collaboration with the Office of Micro and\\nSmall  Business  Development  Office,  recruiting  the  existing  micro\\nbusiness practitioner in the village.\\nOutput 4. The sustainable coastal governance in Delta Mahakam\\nand Adang Bay are strengthened\\nThe presence of new capital nearby the Delta Mahakam and Adang Bay likely effect \\nthe environmental and economics of local livelihood. To prevent the negative affect,\\nthe current coastal governance needs to be improved by involving the stakeholders \\nin the region in the process. The FPIC to the villagers is to promote elements of \\nbetter governance in the project locations: transparency of the project and the \\ninvolvement of local people in shaping project activities and impact.  \\nActivity 4.1. Facilitate coordination meeting among Mahakam Delta\\nand Adang Bay’s actors to synergize the program'), Document(metadata={'source': './data/PROJECT DOCUMENT MAHAKAM 2023-2025_balise.pdf', 'page': 30}, page_content='in the region in the process. The FPIC to the villagers is to promote elements of \\nbetter governance in the project locations: transparency of the project and the \\ninvolvement of local people in shaping project activities and impact.  \\nActivity 4.1. Facilitate coordination meeting among Mahakam Delta\\nand Adang Bay’s actors to synergize the program\\nThe  main  activity  here  is  to  organise  a  coordination  meeting  with  key\\nstakeholders and NGOs who works in Mahakam Delta and Adang Bay to\\nidentify  the  program,  site  intervention  and  filling  the  gap  to  support\\ngovernment program. \\n\\uf02d Target:  1  coordination  meeting  involved  all  NGO’s  and  actors  who\\nworks in Mahakam Delta and Adang Bay Landscape particularly related\\nwith the restoration area.\\n\\uf02d Facilitator for meeting: Organized by PU through offline meeting'), Document(metadata={'source': './data/PROJECT DOCUMENT MAHAKAM 2023-2025_balise.pdf', 'page': 31}, page_content=\"\\n\\uf02d Location: Samarinda and Balikpapan.\\n\\uf02d Methods: offline meeting\\n\\uf02d Strategy of implementation: Collaboration  with Mahakam Delta and\\nAdang Bay authority. The government will invite the NGOs, PU will\\ndevelop ToR.\\n\\uf02d Output:  a  map  of  project  spots  of  each  actor  with  reforestation\\ninformation:  the  number  of  trees,  the  size  of  area,  supporting\\nactivities,  the  period  of  project,  the  monitoring  activities,  the  local\\ncommunity  partner  and  others.  And,  a  map  of  rehabilitation  area\\nwithout any intervention/project. \\nActivity 4.2. Conduct FPIC (Free, Prior and Informed Consent) to the\\nvillagers and village government regarding the activities, potential\\nbenefit and impact of the project.\\nFPIC (Free, Prior, and Informed Consent) clearly informs local communities\\nabout the project's expected results in order to obtain their prior agreement\\nbefore the project is implemented.\\nIt also helps to explain how the project will help the village achieve the World\\nBank FCPF/REDD+ project objectives which are government projects.\\n\\uf02d Target:  village  officials,  sub-village  representatives,  community\\nrepresentative (youth group, women, men) \\n\\uf02d Facilitator for training: Local partner and PU  \\n\\uf02d Location: Delta Mahakam Ulu and Adang Bay (Paser).  \\n\\uf02d Methods: semi-formal meeting in the village or sub village meeting \\n\\uf02d Strategy  of  implementation:  prior  communication  with  the  village\\nofficials and community representatives/figures.\\nActivity  4.3.  Conduct  Expose  with Key Stakeholders  in Mahakam\\nDelta and Adang Bay\\nThe objective of this activity is to deliver the program achievement each,\\ncollect the input for improvement for next year project from stakeholders.\\n\\uf02d Target:  Workshop  meeting  involved  key  stakeholders  (The  Nature\\nConservation  Agency,  The  Provincial  environment  and  Forestry\\nservices, Forest Management Unit)  \\n\\uf02d Methods: FGD Meeting \\n\\uf02d Location: Samarinda\"), Document(metadata={'source': './data/PROJECT DOCUMENT MAHAKAM 2023-2025_balise.pdf', 'page': 31}, page_content='Delta and Adang Bay\\nThe objective of this activity is to deliver the program achievement each,\\ncollect the input for improvement for next year project from stakeholders.\\n\\uf02d Target:  Workshop  meeting  involved  key  stakeholders  (The  Nature\\nConservation  Agency,  The  Provincial  environment  and  Forestry\\nservices, Forest Management Unit)  \\n\\uf02d Methods: FGD Meeting \\n\\uf02d Location: Samarinda\\n\\uf02d Facilitator for meeting: Organized by PU and Partner\\n\\uf02d Strategy of implementation: Focus Group Discussion\\nMAIN REQUIRED RESOURCES\\nHuman Resources (from implementing partners):\\xa0\\xa0\\xa0\\nYayasan Mangrove Lestari (YML)'), Document(metadata={'source': './data/PROJECT DOCUMENT MAHAKAM 2023-2025_balise.pdf', 'page': 32}, page_content='\\n\\uf0b7 1 Project Director\\n\\uf0b7 2 Project Officers\\n\\uf0b7 1 Finance and administration officer\\nPOKJA Pesisir\\n\\uf0b7 1 Project Director\\n\\uf0b7 2 Project Officers\\n\\uf0b7 1 Finance and administration officer\\nHuman resources (from PU Indonesia/Yayasan Planet Urgensi Indonesia):\\n\\uf0b7 1 Project Director (PU Indo National Delegate)\\n\\uf0b7 1 Project Coordinator \\n\\uf0b7 1  Raising  Awareness  and  Knowledge  Management  Officer  (PU  Indo\\nCommunication Staff)\\n\\uf0b7 1 Finance and administration Officer\\nOffices (location):\\n\\uf0b7 Office of YML : in Samarinda with field secretariate in Delta Mahakam\\n\\uf0b7 Office of POKJA Pesisir : Balikpapan City with field secretariate in Adang\\nBay\\n\\uf0b7 Office of PU Indonesia : Samarinda\\nMaterial Resources needed for the project:\\n\\uf0b7 Computer\\n\\uf0b7 GPS, Mobile Phones\\n\\uf0b7 Transportation means (car, motorcycle, and boat as needed)'), Document(metadata={'source': './data/PROJECT DOCUMENT MAHAKAM 2023-2025_balise.pdf', 'page': 33}, page_content='\\n7. Partnerships\\nImplementing partners: Planète Urgence will partner with two local NGOs:\\nPokja Pesisir and YML, both Indonesian foundations. In Adang Bay, Planète\\nUrgence  will  work  in  close  collaboration  with  Pokja  Pesisir  (Coastal\\nManagement Working Group), an Indonesian foundation based in Balikpapan,\\nwhich focuses its action on coastal management and its community. Pokja\\nPesisir  has  extensive  experience  in  empowering  coastal  community,\\nadvocacy coastal management and improving spatial plan of coastal area in\\nthe southern part of East Kalimantan. This is the second cooperation project\\nbetween PU and Pokja Pesisir after the pilot phase that conducted in 2022.\\nIn Delta Mahakam, Planète Urgence will work in a close collaboration with\\nthe Yayasan Mangrove Lestari Delta Mahakam (YML) which cooperation has\\nstarted with Planète Urgence at the end of 2nd term of year 2012 (period of\\nOctober-December) with a focus on mapping the Mahakam Delta region, as a\\ntool  for  preparing  a  joint  action  plan  in  2013.  Furthermore,  the\\nimplementation of joint program in 2013 included reforestation activities,\\naccess to micro-credit for community groups, capacity building of community\\ngroups (male and female groups) and program coordination at the district\\nlevel together with BAPPEDA (Agency for Regional Development) of Kutai\\nKartanegara District and several other regional organizations. Designing and\\ncarrying  out the  activities  integrating through  MADIMAP (Mahakam Delta\\nIntegrative  Management  Program)  for  the  period  of  2014  to  2016  and\\nJanuary - March 2017 with the main funding from Trafigura Foundation. In\\n2019 until 2021, YML and Planète Urgence again collaborated in large-scale\\nawareness-raising  activities  (radio  podcasts)  related  to  the  protection  of\\nmangrove  forests  and  their  biodiversity,  as  well  as  to  promote  the\\nsustainable aquaculture in the region.'), Document(metadata={'source': './data/PROJECT DOCUMENT MAHAKAM 2023-2025_balise.pdf', 'page': 33}, page_content='January - March 2017 with the main funding from Trafigura Foundation. In\\n2019 until 2021, YML and Planète Urgence again collaborated in large-scale\\nawareness-raising  activities  (radio  podcasts)  related  to  the  protection  of\\nmangrove  forests  and  their  biodiversity,  as  well  as  to  promote  the\\nsustainable aquaculture in the region.\\nFeature 5. Rehabilitation target area in New Mahakam Project\\nExpected  capacity  building  of  implementing  partners: To  support\\nPokja Pesisir and YML in implementing the activities, Planète Urgence will\\ncontinuously collaborate with partners to identify capacity-building needs. \\n1. PU will provide support to YML and Pokja Pesisir in its financial and\\naccountability  reporting  of  the  MAHAKAM  project  following  PU’s'), Document(metadata={'source': './data/PROJECT DOCUMENT MAHAKAM 2023-2025_balise.pdf', 'page': 34}, page_content='\\nprocess, mainly required by donors. This training will be conferred by\\nthe Administrative and Financial staff of Planète Urgence Indonesia.\\nThe training will be done in the first two months of the project and PU\\nwill  continuously  monitor  the  impact  of  the  training  to  ensure  the\\npartner implement the PU standard.   \\n2. YML and Pokja Pesisir will also be helped in monitoring and project\\nmanagement. PU will share their experience and manual in monitoring\\nand managing the project to the partner. The transfer knowledge will\\nbe done at the beginning of the project.  \\n3. Refreshment  training  of  reforestation  project  particularly  for  Pokja\\nPesisir including technical issue such as establishing nursury, planting\\ntree, identifying location\\n4. Rapid Needs Assessment on Capacity Building to identify the needs of\\ncapacity building for the partners.\\nThe project will continuously identify further needs regarding the project or\\npartner structuration. Capacity building needs could also be supported by\\nPlanète  Urgence’s  volunteerism  programme  (if  the  organization  and  the\\nlogistic of the mission meet all required criteria). \\nCAPACITY BUILDING PLAN\\nNo Training topic\\nYear 1 Year 2 Year 3\\nS1 S2 S1 S2 S1 S2\\n1 \\nFinancial and accountability reporting of the\\nMAHAKAM project following PU’s process, \\nmainly required by donors.  \\nx x x\\n2 \\nMonitoring and project management.  x x x\\n3\\nReforestation project including the technical\\nissue:  establishing  nursery,  planting  tree,\\nmonitoring, etc.\\nx x x\\n4\\nRapid  Need  Assessment  on  Capacity\\nBuilding\\nx x x\\nTable 4 *\\nRoles  and  responsibilities: Activities  will  be  implemented  under  the\\nresponsibility of  Planète Urgence and its partners (Pokja Pesisir and YML). \\nThese partners will design, develop, implement and monitor the activities\\nunder their responsibility. Both implementing partners will play an important\\ncoordination role with partners, beneficiaries, community groups and local'), Document(metadata={'source': './data/PROJECT DOCUMENT MAHAKAM 2023-2025_balise.pdf', 'page': 34}, page_content='x x x\\nTable 4 *\\nRoles  and  responsibilities: Activities  will  be  implemented  under  the\\nresponsibility of  Planète Urgence and its partners (Pokja Pesisir and YML). \\nThese partners will design, develop, implement and monitor the activities\\nunder their responsibility. Both implementing partners will play an important\\ncoordination role with partners, beneficiaries, community groups and local\\nauthorities. Planète Urgence will support them in the project management\\nand discussions with local authorities regarding governance strategy, project\\nmonitoring  and  evaluation,  identification  of  capacity  building  needs  for'), Document(metadata={'source': './data/PROJECT DOCUMENT MAHAKAM 2023-2025_balise.pdf', 'page': 35}, page_content='\\npartners and specific project components, as well as the building of a multi-\\nyear vision (context and needs assessment and update, project scaling-up\\nand sustainability). \\nKey stakeholders: Planète Urgence also encourages YML and Pokja Pesisir to\\ncollaborate with other relevant local stakeholders from various groups such\\nas  local  community  organizations,  business  groups  and  government\\nagencies from district to national levels. \\nThe following table lists potential partners and the respective roles they\\ncould play in the NEW MAHAKAM project:\\nTable 5 * \\nKey Stakeholders Expected role in the project\\nBalai Besar Penelitian & \\nPengembangan Ekosistem \\nHutan Dipterokarpa\\nProvide  scientific  assistance  on  coastal\\nmanagement. \\nBalai Konservasi SDA \\nKalimantan Timur \\n(Nature Conservation Agency \\nof East \\nKalimantan - under the \\nsupervision of \\nthe Ministry of the Environment\\nand \\nForestry)\\nProvide access of information on the information\\nof  the  rare  and  endangered  species  of  the\\nprovince.\\nSupport  implementing  partners  by  providing\\nplanting  area  and  socio  economics  issue  in\\nAdang Bay.\\nLocal community groups\\nTechnical implementing partner \\nCommunity development facilitator \\nConservation awareness campaigner\\nRegional Council on Climate \\nChange \\nSupport  PU  in  disseminating  the  project\\nimplementation and its achievements.\\nProvide support for promoting the issue of the\\nproject.\\nProvide the state of the art of FCPF project and\\nthe  movement  of  new  capital  from  the\\nperspective of climate change and biodiversity. \\nDinas Lingkungan Hidup \\nProvinsi \\n(Provincial Agency of \\nEnvironment) at the provincial \\nand district levels.\\nProvide insight to PU for the discussion of green\\nschool (adiwiyata program), waste management\\nand cross-cutting issues\\nEducation agency at the \\nprovincial and district level\\nProvide support and policy related with green\\nschool and environmental awareness activities.\\nForestry Agency at the'), Document(metadata={'source': './data/PROJECT DOCUMENT MAHAKAM 2023-2025_balise.pdf', 'page': 35}, page_content='Provinsi \\n(Provincial Agency of \\nEnvironment) at the provincial \\nand district levels.\\nProvide insight to PU for the discussion of green\\nschool (adiwiyata program), waste management\\nand cross-cutting issues\\nEducation agency at the \\nprovincial and district level\\nProvide support and policy related with green\\nschool and environmental awareness activities.\\nForestry Agency at the \\nprovincial and district levels\\nProvide  information  about  policy  related  to\\nforestry issues \\nProvide  access  to  project  implementation  in\\nMahakam Delta production forest area\\nMarine and fishery agency at \\nthe provincial and district \\nProvide  information  about  relevant  issues,\\npolicy, and markets related to fisheries'), Document(metadata={'source': './data/PROJECT DOCUMENT MAHAKAM 2023-2025_balise.pdf', 'page': 36}, page_content='\\nlevels\\nForestry and Fishery Faculty of \\nMulawarman University \\nScientific assistance on research on forestry and\\nfisheries  including  aquaculture  issues  in\\nMahakam Delta and Adang Bay\\nKPHP Delta Mahakam\\nProvide access and political support in restoring\\nmangrove ecosystem in Mahakam Delta \\nSupport YML in securing restoration area \\nCommunicating  on  project  implementation,\\nresults and impact to MoEF and other national\\nand regional stakeholders\\nYKAN Sharing  information  and  network  support\\nparticularly the Delta Mahakam coalition.\\nVillage Government Support project implementers to perform project\\nactivities inside villages area\\nEast Kalimantan Working \\nGroup of Gender\\nSupport  project  by  providing  information  and\\nnetworks  to  discuss  gender  issue  in  East\\nKalimantan.\\nTable 5 *\\n8. Cross-cutting approaches\\nIn 2019, Planète Urgence has conducted a social analysis in Muara Kembang\\nto examine how different individuals and groups may affect the project and\\nhow the project will affect them. During this study, Planète Urgence has\\ncollected,  identified  and  analysed  information  on  the  different  roles,\\nresponsibilities, needs and interests of women and men of targeted groups in\\nMuara  Kembang  village.  To  capture  the  nuances  of  various  social\\ncharacteristics,  the  data  and  analysis  on  women  and  men  should  are\\ndisaggregated  by  social  categories  relevant  to  the  project  (e.g.,  socio-\\neconomic status, profession) during these 3 years.\\nBelow are presented the results of the socio-economic analysis of targeted\\ncommunities, with 80% of respondents. The last Gender Gap Report 2020 of\\nthe World Economic Forum has ranked Indonesia on position 86 on a total of\\n153 countries regarding gender inclusion and equality. The National Gender\\nMainstreaming Policy enacted in 2000 (through The Presidential Decree in)\\nguides the National Long-term Development Plan (RPJPN) 2005- 2025 which'), Document(metadata={'source': './data/PROJECT DOCUMENT MAHAKAM 2023-2025_balise.pdf', 'page': 36}, page_content='communities, with 80% of respondents. The last Gender Gap Report 2020 of\\nthe World Economic Forum has ranked Indonesia on position 86 on a total of\\n153 countries regarding gender inclusion and equality. The National Gender\\nMainstreaming Policy enacted in 2000 (through The Presidential Decree in)\\nguides the National Long-term Development Plan (RPJPN) 2005- 2025 which\\nconfirms the Indonesian government’s commitment to gender equality with\\nspecific laws in place and aligning the National Development Agenda with 17\\nSustainable Development Goal (SDG) #5 Gender Equality.\\nGender  and  social  equity  challenges  and  opportunities  will  be  revisited\\nperiodically throughout the NEW MAHAKAM project as a way to measure\\nprogress and ensure issues are being adequately addressed. The gender bias'), Document(metadata={'source': './data/PROJECT DOCUMENT MAHAKAM 2023-2025_balise.pdf', 'page': 37}, page_content=\"\\nis  commonly  emerged  linked  to  some  social  factors  such  as  ethnicity,\\nfaith/religion,  and  education.  Gender  refers  to  the  roles,  behaviours,\\nactivities, attributes and opportunities that any society considers appropriate\\nfor girls and boys, and women and men. \\nIn the project areas (Delta Mahakam Ulu and Adang Bay), as in other coastal\\nregions of Indonesia, there is a common division of roles between men and\\nwomen. Men are a group that must earn a living, go to sea to fish, do a\\nvariety of physical work, organize village government, manage places of\\nworship,  etc.,  while  women's  groups  do  domestic  work  and  help  their\\nhusbands. Boys usually have a greater chance of going to higher education.\\nWith the opening of information, this division of roles experienced a shift, in\\nwhich several women or girls had the same opportunity to go to school, earn\\na living and participate in social activities in the village. However, the role of\\nwomen groups’ policy decision making in the village level is still limited.\\nIn the project area, men generally have no objection regarding women's\\ngroups actively engage in activities to earn a living and are also involved in\\nsocial activities. However, we still note a reluctance among women's groups\\nto actively participate in public meetings that involve men and women due\\nto culturally taboo.\\nThe  project  aims  to  support  the  active  participation  of  women's  groups\\nthrough the following activities:\\n\\uf0b7 Encourage women's involvement in meetings involving sub-village or\\nvillage interests \\n\\uf0b7 Provide  equal  opportunities  between  women  and  men  for  capacity\\nbuilding activities\\n\\uf0b7 Provide  opportunities  for  women's  groups  to  earn  income  through\\nmicro and small businesses\\n\\uf0b7 Encourage women's participation to be actively involved in decision\\nmaking both at the scale of households and at the group level, for\\nexample related to tree planting project.\"), Document(metadata={'source': './data/PROJECT DOCUMENT MAHAKAM 2023-2025_balise.pdf', 'page': 37}, page_content=\"village interests \\n\\uf0b7 Provide  equal  opportunities  between  women  and  men  for  capacity\\nbuilding activities\\n\\uf0b7 Provide  opportunities  for  women's  groups  to  earn  income  through\\nmicro and small businesses\\n\\uf0b7 Encourage women's participation to be actively involved in decision\\nmaking both at the scale of households and at the group level, for\\nexample related to tree planting project.\\nTherefore, PU and its implementing partners will coordinate closely with \\ngender working group at the provincial and district levels to gain more \\nunderstanding the gender issue, challenge and possible solution in the \\ncoastal area. We also try to create gender friendly environment in order to \\nensure the women has active participation such as identifying the right time \\nfor women to participate, separate the women and men group if it will give \\nchance for women to speak, always ask and give chance to women to speak \\nin every meeting.  \\nIn addition, this project aims to acknowledge the rights of local people in the \\nproject by implementing the Free, Prior and Informed Consent (FPIC) on the \\nproject. PU and implementing partners will provide information of the \\nproject, the risk, the negative and positive impact of the project and let them\"), Document(metadata={'source': './data/PROJECT DOCUMENT MAHAKAM 2023-2025_balise.pdf', 'page': 38}, page_content='\\ndecide to contribute on the project. By doing this, the project aims to place \\nthe local people not as object the project, but the subject of project since \\nthey also contribute to design the activities of the project. \\nMoreover, regarding the new capital, the project expects to bring the voice \\nof local people in the coastal area in shaping the future plan of Mahakam \\nDelta and Adang Bay-Adang Bay. The involvement of local people will \\ncontribute to improve the governance in the coastal region.'), Document(metadata={'source': './data/PROJECT DOCUMENT MAHAKAM 2023-2025_balise.pdf', 'page': 39}, page_content='\\n9. Knowledge  management,  capitalization  &\\ncommunication\\nKnowledge management\\nPlanète Urgence is in the process of setting up a new tool for monitoring\\nplantations based on geolocation of trees planted throughout the project.\\nPlanète Urgence’s software (database) will be redesigned and updated to\\nmeet different needs. The first one is to conduct the monitoring of planted\\ntrees (species, size, survival rate, pictures …). The second one will help\\nprovide transparent information to donors. The third one will contribute to\\ncommunication efforts (map on website).\\nPU Indonesia and its implementing partners will arrange communication and\\nknowledge management mechanisms to ensure all parties has equal access\\nand responsible to store and to distribute the data and information gathered\\nfrom the project. All materials from the field should be submitted monthly to\\nthe communication officer of PU Indonesia during the project. PU Indonesia\\nwill ensure all publications, minutes of meeting, report, picture and video\\nrelated with the project activities store well in the PU system. The material\\nwill be grouped according to their type, date and the component of the\\nproject.  The  implementing  partners  will  have  equal  access  to  use  the\\nmaterials  that  they  have  collected  for  the  benefit  of  current  and future\\nproject in the region. Like previous projects, PU Indonesia will spread the\\nlessons learned of the project to the key stakeholders and public through\\nvarious canal such as monthly journal, offline and online media and social\\nmedia during the project.\\nCapitalization\\nIn  order  to  allow  Mahakam Delta’s  stakeholders  and  project  partners  to\\nreplicate the positive actions of the project in other villages for a wider\\naction,  Planète  Urgence  commits  to  undertake  capitalization  on  two  key\\nsubjects: (i) a relevant restoration of the mangrove ecosystem and (ii) a\\nmethodology for land use planning process.'), Document(metadata={'source': './data/PROJECT DOCUMENT MAHAKAM 2023-2025_balise.pdf', 'page': 39}, page_content='media during the project.\\nCapitalization\\nIn  order  to  allow  Mahakam Delta’s  stakeholders  and  project  partners  to\\nreplicate the positive actions of the project in other villages for a wider\\naction,  Planète  Urgence  commits  to  undertake  capitalization  on  two  key\\nsubjects: (i) a relevant restoration of the mangrove ecosystem and (ii) a\\nmethodology for land use planning process. \\nIndeed,  the restoration of the mangrove  in the Mahakam Delta is an\\ninitiative  carried  for  many  years  by  different  stakeholders  (companies,\\ncommunities, local governments, associations) and in many cases favouring\\na monoculture. It would seem that efforts in terms of identification of species\\nand planting areas should be made by communities and public actors - in\\nparticular the KPHP - a key player on the subject. \\nIn  addition,  Indonesia  faces  a  lack  of  human  and  financial  resources  to\\nintegrate communities in the processes of  sustainable management of\\nnatural  resources  and  territorial  planning. This  aspect  has  been\\nentrusted by the central government to the provinces and districts. However,\\nPlanète Urgence’s support has been required by decentralized public actors\\nto  facilitate  the  consultation  processes  with  local  communities  and  to\\ndevelop proposal for territorial planning and land certification. The project\\ntherefore intends to draw methods and tools from it in order to support other'), Document(metadata={'source': './data/PROJECT DOCUMENT MAHAKAM 2023-2025_balise.pdf', 'page': 40}, page_content=\"\\nlocal  communities  and  the  public  stakeholders  concerned  (villages  and\\ndistricts) in order to replicate these activities with the other villages of the\\nMahakam Delta.\\nThe tree protection from palm tree leaves and net that successfully works to\\nprotect tree in previous project will be documented and spread to the key\\nrestoration actors for possible replication in their project. In addition, PU\\nIndonesia will manage and distribute the publication and knowledge from the\\nproject  to  other  parties.  Module  and  material  environmental  education\\ncampaign will be used in the scale up project or other locations.\\nTable 3. Summary of our lessons learned, and best practices developed on\\nprevious projects in the Mahakam Delta\\n<table>\\nActivities Best practices\\n(+)\\nLessons learned\\n(-)\\nChange maker in\\nthis new project \\nRaising awareness\\nin schools \\n1/Raising \\nawareness in \\nschool generally \\nget support from \\nthe schools. 2) \\nAnimal costumes \\nare very attractive\\nfor elementary \\nschools' children. \\n3) The successful \\nof YML and  Pokja \\nPesisir introduction\\nenvironmental \\neducation in \\nPrimary and \\nSecondary \\nSchools. Teachers \\nhad just realized \\nthat they live in an\\nimportant \\nmangrove \\necosystem. There \\nis a desire to learn \\nmore about the \\nmangrove \\necosystem and a \\nwant to teach in \\nschools.\\nStudents have a \\nhigh interest in \\nlearning directly in\\nNot all teachers \\nhave creativity in \\nteaching, so \\nintensive \\nassistance is \\nneeded\\n1 and 2) The \\nproject will apply \\nsimilar method \\nand approach to \\nthe schools’ \\nteachers and \\nstudents. 3) In \\naddition, in this \\npilot phase, PU will\\nelaborate the \\npossibility to \\nintegrate the \\nenvironmental \\neducation in \\nelementary school \\ncurriculum.\\nTeachers have a \\nstrategic position \\nto foster \\nenvironmental \\nawareness. \\nTeachers can act \\nas very effective \\nagents of change \\nfor increasing \\nenvironmental \\nawareness\"), Document(metadata={'source': './data/PROJECT DOCUMENT MAHAKAM 2023-2025_balise.pdf', 'page': 41}, page_content='\\nnature\\nPublic awareness A public \\nawareness \\ncampaign using \\nlocal examples is \\nan interesting \\nthing for the \\ncommunity\\n1) Compared than \\nMERCI project, the \\nrelationship \\nbetween PU and \\npartner with local \\nmedia in \\nMAHAKAM project \\nwas weak. 2) With \\nthe legal status of \\nPU in Indonesia, it \\nis quite difficult for\\nPU Indonesia to \\nactively share the \\nprogress and \\nachievement of \\nthe project to the \\nlocal media.  \\nPU will facilitate \\nand encourage \\nimplementing \\npartners to \\nestablish \\ncollaboration with \\nthe local media. \\nPU will organize \\ninformal meetings \\nwith local media \\nand support the \\npartners by \\nproviding data and\\ninformation to \\nenrich the news \\ncoverage by local \\nmedia.\\nOn the other hand,\\nthe government \\nthat has a vision \\nfor environmental \\nconservation plays\\nan important role \\nin raising public \\nawareness\\nSustainable \\naquaculture \\n(demonstration \\nplots etc.)\\nThe fish farmer \\ngroup in Delta \\nMahakam Ulu has \\na strong trust with \\nPU and YML. The \\nprevious project \\nuses their ponds \\nas demonstration \\nplot. \\nPeople will receive\\ninformation easily \\nif they see \\nexamples directly \\nin the field. The \\ngovernment \\n(BRGM) replicates \\nmangrove planting\\nin ponds based on \\nseveral practices \\ncarried out by the \\ncommunity \\nincluding demo \\nThe impact of \\nsustainable \\naquaculture \\nintervention in the \\naquaculture pond \\ndo not yet \\ndocument well \\nalthough the fish \\nfarmer has felt the\\npositive impact of \\nthe intervention. \\nThe project will \\ncontinue work with\\nthe fish farmer to \\nintervene and \\nmonitor the \\nimpact. PU, \\npartner and fish \\nfarmer will discuss\\nkey parameters to \\nbe monitored and \\ncollaborate with \\nthe PU \\ncommunication \\nofficer to manage \\nthe information \\nfrom the pond.'), Document(metadata={'source': './data/PROJECT DOCUMENT MAHAKAM 2023-2025_balise.pdf', 'page': 42}, page_content=\"\\nplots\\nTraining of \\ncommunity groups\\nparticularly \\nwomen group on \\nthe financial \\nmanagement and \\nproduct marketing\\nSmall business \\nactors and \\nespecially women \\nneed to have \\nfinancial literacy. \\nWomen realize \\nthat money for \\nbusiness needs to \\nbe separated from \\nmoney for family.\\nThere is still social \\njealousy between \\ngroup members. \\nField facilitators \\nneed to have \\nconflict \\nmanagement skills\\nReforestation 1) Several \\npractical guidance \\nof reforestation for\\ncommunity has \\nbeen developed in \\nprevious project. \\n2) In general, the \\ncommunity in \\nDelta Mahakam \\nUlu and Adang Bay\\nhas capacity in \\nreforestation \\nproject that they \\ngain from the \\nprevious project \\nboth from PU and \\nother parties. 3) \\nSustainable wave \\nbreaker in Muara \\nUlu Kecil prove \\neffectively prevent\\nthe wave in the \\nprevious project. \\n1) PU will train the \\nimplementing \\npartners and \\nvillagers using the \\npractical guidance \\nfor reforestation \\nproject during the \\nearly visit to the \\nlocation project \\nand prior to the \\nnursery process.  \\n2) PU will \\ncoordinate with \\nvillagers whether \\nit is necessary to \\nsurrounding the \\nplanted tree with \\nwave breakers.\\nLocal governance \\nsupport activities\\n1) PU Indonesia \\nhas been joining in\\nthe Mahakam \\nDelta coalition \\nsince 2019. This \\ninformal coalition \\naims to coordinate\\nthe activities of \\ninstitutions in \\ndelta, to \\ncomplement each \\nother's, to avoid \\noverlapping \\nactivities and to \\n1) Together with \\nthe coalition of \\nDelta Mahakam, \\nPU Indonesia will \\nvoice the opinion \\nof Delta Mahakam \\nstakeholders on \\nthe future of Delta \\nMahakam after the\\nmoving of new \\ncapital to the East \\nKalimantan. 2) Will\\nuse the guidance \\nof FPIC for this\"), Document(metadata={'source': './data/PROJECT DOCUMENT MAHAKAM 2023-2025_balise.pdf', 'page': 43}, page_content='\\nreach the common\\ngoals in Delta \\nMahakam.\\n2) PU and Bioma \\nhave developed \\npractical guidance \\non how to conduct \\nFPIC in \\nreforestation \\nprojects. \\npilot project.\\nRelationship with \\nlocal partners\\nPU and \\nimplementing \\npartners have \\nstrong ties with \\nthe local authority \\nsuch as Forest \\nManagement Unit \\nand Conservation \\nagencies.\\nThe informal \\ncoordination will \\nbe conducted to \\nthose authority to \\ngain technical and \\nadministrative \\nsupport from \\nthem. \\nCapacity building \\nof our local \\npartners \\nYML has really \\ngood knowledge \\nand technical skills\\nin reforestation \\nand sylvofishery.  \\n Pokja Pesisir has \\ngood \\ncommunication \\nwith key \\nstakeholders at \\nthe village and \\nregion levels \\n(BKSDA) \\n \\nYML still has a lack\\nof capacity and \\ninitiative to \\nconduct data \\nmonitoring related\\nto sylvofishery and\\nis reluctant to \\nwork with \\nuniversity.\\nPokja Pesisir in \\nother side has still \\nlacks experience \\nin reforestation \\nskills, particularly \\ndata collection. \\nPU Indonesia will \\nprovide tools to \\nYML and Pokja \\nPesisir to conduct \\ndata collection and\\nregularly \\nmonitoring the \\nimplementation.\\nHiring consultant Local consultant \\nhas better \\nunderstanding on \\nlocal social and \\nenvironmental \\ncontext\\n1) The English \\nskill, writing and \\nspeaking, of local \\nconsultant is \\nrelatively poor. 2)  \\nThe local \\nconsultant \\napparently does \\nnot have a 100 \\npercent freedom \\nClear objectives \\nand indicators are \\nneeded to guide \\nthe local \\nconsultant. \\nMoreover, a rapid \\ninternal \\nassessment is \\nneeded to \\ncomplement the'), Document(metadata={'source': './data/PROJECT DOCUMENT MAHAKAM 2023-2025_balise.pdf', 'page': 44}, page_content='\\nto evaluate the \\npartner since they \\nhave a strong \\nrelationship with \\nsome of partner \\nwhich in the end \\ninfluence the \\nresult of \\nassessment.\\nlocal consultant \\nanalysis. \\n</table>\\nExternal communication in Indonesia\\nPU Indonesia will work with the online local media to promote the project\\nactivities, current states of Delta Mahakam and its challenge. Besides the\\nonline local media, PU Indonesia and its implementing partners will work with\\nexpert panels in radio panels to spread the message, challenge and the\\nsuccessful of the project. PU Indonesia has been invited by the French IFI\\n(Institut Français Indonesia) on Climate Change week in 2021. The French IF\\nhave invited PU Indonesia to spread the message and works through various\\ncanals which provided by French IF such as social media and website. This\\nopportunity should be used in this project to introduce the project to wider\\npublic. In addition, CIFOR has invited PU as speaker in the side event of\\nPolicy and Science dialogue in March 2022. The collaboration with CIFOR can\\nbe extended in other events to share the progress of project NEW MAHAKAM.\\nBesides that, PU and its partners will road show to the authority and donor to\\nintroduce the project both at the national, provincial and local level. Project\\nbrief, blog and others material can be used to spread the messages to those\\nparties.\\nExternal communication in France\\nAt  PU  headquarters,  the  communication  team  will  receive  local\\ncommunication content, data, pictures, tools and progress information on\\nthe project to create contents (articles, advocacy messages, press releases)\\nin line with the international calendar on biodiversity, climate change and\\nother international celebrations. The project will be promoted, first on PU\\nwebsite by dedicating a specific page to it and attaching any communication\\nelements that may be provided or proposed by YML and Pokja Pesisir. The'), Document(metadata={'source': './data/PROJECT DOCUMENT MAHAKAM 2023-2025_balise.pdf', 'page': 44}, page_content='the project to create contents (articles, advocacy messages, press releases)\\nin line with the international calendar on biodiversity, climate change and\\nother international celebrations. The project will be promoted, first on PU\\nwebsite by dedicating a specific page to it and attaching any communication\\nelements that may be provided or proposed by YML and Pokja Pesisir. The\\ncommunication  officer  of  PU  Indonesia  will  work  together  with\\ncommunication team of PU HQ to fill the PU Indonesia section in the PU\\nwebsite. The project will be clearly highlighted (infographics, photos, videos,\\nkey figures, etc.) on social media. As a member of Groupe SOS, PU benefits\\nfrom its distribution channels, including its website and its News page. PU\\nwill communicate through a specific partner newsletter on its actions thanks\\nto the participation and support from its donors (general public and private\\nsector). The project will be the subject of communication actions targeted to\\nthese companies and foundations and will benefit from cascading relays,'), Document(metadata={'source': './data/PROJECT DOCUMENT MAHAKAM 2023-2025_balise.pdf', 'page': 45}, page_content=\"\\nallowing it to reach a larger audience. Partners will communicate, for their\\npart, on their support for reforestation and local development actions with\\ntheir employees, service providers and customers.\\n10. Sustainability, scaling-up and/or exit strategy\\nAfter the project ending in March 2023, Planète Urgence and its partners will\\nfocus on the sustainability of the project in order to design a correct exit\\nstrategy of the area for Planète Urgence. Indeed, the mandate of Planète\\nUrgence is to reinforce the capacities of local civil societies.\\nSustainability and Exit Strategy (Scale Up) of the project\\nPlanète Urgence has defined requirement to ensure the efficiency of the\\nNEW MAHAKAM project and the success of the exit strategy in 2023. For it,\\nthree approaches must be integrated to each activity: inclusivity, integration\\nand independence. \\nIn  the  context  of  an  inclusive  approach,  this  project  encourages  the\\nparticipation of many parties while respecting each other's interests in order\\nto  create  a  synergy  of  cooperation  and  mutual  support  to  mangrove\\nconservation efforts in the Mahakam Delta. Then to ensure that all activities\\nundertaken are under the responsibility of identified parties, Planète Urgence\\nwill  conduct  advocacy  work  to  integrate  MAHAKAM’s  activities  into  the\\nstrategic plans and work plans of the stakeholders of the project. Finally, to\\nensure the independence with regard to control of interests of other parties\\noutside the Mahakam Delta, it is necessary to strengthen this independence\\nof all  actors  involved  in  mangrove  conservation  efforts  in the  area. The\\nindependence in this case includes the ability to self-financing conservation\\nactivities through local economic institutions that are professional to manage\\nsustainable  productive  businesses.  Therefore,  during  the  project  and\\nparticularly in the end of project, PU and implementing partners will identify\"), Document(metadata={'source': './data/PROJECT DOCUMENT MAHAKAM 2023-2025_balise.pdf', 'page': 45}, page_content='of all  actors  involved  in  mangrove  conservation  efforts  in the  area. The\\nindependence in this case includes the ability to self-financing conservation\\nactivities through local economic institutions that are professional to manage\\nsustainable  productive  businesses.  Therefore,  during  the  project  and\\nparticularly in the end of project, PU and implementing partners will identify\\nand distribute the preliminary achievement and lesson learn of the project to\\nthe potential donor.\\nRaising awareness component: \\n\\uf0b7 Encouraging participation of public particularly change makers in the\\ncommunity with a collaborative work with education institutions and mass\\nmedia.\\n\\uf0b7 Advocate  and  ensure  education  and  awareness  on  mangrove\\nconservation is adopted in school curricula and understood by education\\nauthorities and mass media program. \\n\\uf0b7 Develop materials of education and awareness campaign on mangrove\\nconservation  (education  curricula,  education  books  and  other  mangrove\\neducation tools).\\nMangrove rehabilitation component: \\n\\uf0b7 Developing village and community owned nursery to provide seedlings\\nfor restoring target area.'), Document(metadata={'source': './data/PROJECT DOCUMENT MAHAKAM 2023-2025_balise.pdf', 'page': 46}, page_content='\\n\\uf0b7 Facilitate  village  to create restoration policy,  for instance  replacing\\nevery single cut in development zone with planting 100 trees in the target\\nrestoration area.\\nEconomic development component: \\n\\uf0b7 Develop  community-based  enterprise  to  support  local  resources\\nproduct processing and marketing.\\n\\uf0b7 Bridging community network to market and financial institutions.\\n\\uf0b7 Identify  the  challenge  and  opportunity  to  develop  sustainable\\naquaculture.\\nGovernance Component \\n\\uf0b7 Distribute the result of workshop/FGD regarding the Indonesian new\\ncapital to the key stakeholders.  \\n\\uf0b7 Identify the possible strategies and activities in the future to advocacy\\nthe green coastal area in East Kalimantan.  \\nTransversal to the project: \\n\\uf0b7 Ensure  that  implementing  partners  (YML  and  Pokja  Pesisir)  have\\ncapacities to raise funds from public and or private sectors to support their\\nactivities in Mahakam Delta, Paser and East Kalimantan in general. \\n\\uf0b7 Ensure that all implementing partners and stakeholders of project area\\nhave access and understand each methodology developed in the framework\\nof the NEW MAHAKAM project to replicate and adapt the activities in other\\nlocations of Mahakam Delta.\\n\\uf0b7 Ensure  that  capacity-building  needs  of  implementing  partners  are\\nsupported in order to access the autonomy of each organization.'), Document(metadata={'source': './data/PROJECT DOCUMENT MAHAKAM 2023-2025_balise.pdf', 'page': 47}, page_content='\\n<table>\\n11. Results framework\\nEXPECTED RESULTS PERFORMANCE\\nINDICATORS\\nSOURCE OF\\nVERIFICATION\\nBaseline Target Final\\nValue Year 2023 2024 2025\\nOutput 1: Raising the \\nawareness of \\nstakeholders to \\nconserve the \\nEnvironment and \\nbiodiversity in Delta \\nMahakam & Teluk \\nAdang sustainably.\\nNumber of teachers (F/M) \\ntrained \\nDocumentation \\nactivity\\nActivity Report \\nList of \\nparticipants\\n50 2022 50 50 50 150\\nNumber of volunteers \\ninvolved in school \\ncampaign \\nDocumentation \\nactivity\\nActivity Report \\nList of volunteers\\n0 2022 6 6 6 18\\nNumber of schools \\nreached by the \\nawareness campaign \\nDocumentation \\nactivity\\nActivity Report \\nList of \\nparticipants\\n4 2022 4 3 5 6\\nNumber of students \\ninvolved in campaign\\nDocumentation \\nactivity\\nActivity Report \\nList of \\nparticipants\\n200 2022 400 250 400 1050\\nNumber of schools \\nassisted in Adiwiyata \\nprogram \\nDocumentation \\nactivity\\nActivity Report \\n0 2022 1 1 2 4'), Document(metadata={'source': './data/PROJECT DOCUMENT MAHAKAM 2023-2025_balise.pdf', 'page': 48}, page_content='\\nList of \\nparticipants\\nMoU Document\\nNumber of local \\ncommunities reached by \\nwaste management \\ncampaign\\nDocumentation \\nactivity\\nActivity Report \\nList of \\nparticipants\\n0 2022 100\\npersons\\na. 100\\nperson\\n b. 20\\nUser\\nAccount\\nYoutube\\n100\\nperson\\ns\\na. 200\\npersons\\n b. 20\\nUser\\nYoutub\\ne\\nAccount\\nNumber of Billboard for \\nenvironmental campaign \\nDocumentation\\nPlot location in \\nthe map\\n2 2022 0 2 0 2\\nNumber of Book \\npublication on best \\npractices related to \\nmicrofinance & nurseries \\nmaintenance \\nBook Publication\\nActivity Report \\n1 2022 1 book\\n 30\\ncopies\\n1 book\\n 30\\ncopies\\n2 books\\n 60\\nCopies\\nNumber of pepople \\nreached in Public \\nAwareness campaign \\nthrough media \\n(online/offline)\\nDocumentation \\nactivity\\nActivity Report\\nMedia coverage\\n1000\\nindirect\\n2022 50\\nDirect\\n 300\\nIndirect\\n50\\nDirect\\n 300\\nIndirect\\n50\\nDirect\\n 300\\nIndirec\\nt\\n150\\nDirect\\n 900\\nIndirect\\nNumber of Journalist Trip Media coverages \\n(offline/online)\\n10 2022 5 media\\ncoverag\\nes\\n5 media\\ncoverag\\nes\\n5\\nmedia\\ncovera\\nges\\n15\\nmedia\\ncoverag\\nes'), Document(metadata={'source': './data/PROJECT DOCUMENT MAHAKAM 2023-2025_balise.pdf', 'page': 49}, page_content='\\nOutput 2: Rehabilitate \\ndegraded mangrove \\nforest\\nNumber of Study on land \\nsuitability for mangrove \\nreforestation\\nDocumentation \\nactivity\\nActivity Report \\nReport Document\\n1 2022 1 N/A N/A 1\\nNumber of Biodiverity \\nresearch   to discover \\nlinkage beetween habitat \\nrestoration and existing of \\nendangered species\\nDocumentation \\nactivity\\nActivity Report \\nReport Document\\n1 2021 1 N/A 1 2\\nNumber of nurseries \\nEstablished\\nDocumentation \\nactivity\\nActivity Report\\nNurseries \\ndatabase \\nmonitoring \\n3 2022 5 6 6 6\\nNumber of local \\ncommunities involved in \\nmangrove nurseries \\nDocumentation \\nactivity\\nActivity Report \\nList of \\nparticipants\\n100 2022 100 100 100 300\\nNumber of mangroves \\nplanted\\nDocumentation \\nactivity\\nActivity Report\\nDatabase \\nplanting \\nmonitoring\\nMap planting \\ndistribution\\n150.000   2022 230.000    325.00\\n0   \\n 250.0\\n00   \\n805.00\\n0   \\nNumber of local Documentation 60 2022 50 60 60 170'), Document(metadata={'source': './data/PROJECT DOCUMENT MAHAKAM 2023-2025_balise.pdf', 'page': 50}, page_content='\\ncommunities trained in \\nMangrove Reforestation\\nactivity\\nActivity Report \\nList of \\nparticipants\\nNumber of trainings \\nconducted\\nDocumentation \\nactivity\\nActivity Report \\nList of \\nparticipants\\n3 2022 3 3 3 9\\nNumber of local \\ncommunities participated \\nin tree monitoring\\nDocumentation \\nactivity\\nActivity Report \\nList of \\nparticipants\\nDatabase \\nplanting growth \\nmonitoring\\n0 2022 8 8 8 8\\nOutput Support the \\ndevelopment of \\nsustainable livelihood\\nNumber of communities \\nparticipated in sustainable\\naquaculture training\\nDocumentation \\nactivity\\nActivity Report \\nList of \\nparticipants\\n40 2022 40 40 40 120\\nNumber of sustainable \\nacquaculture demoplot \\nthrough silvofishery \\nscheme\\nDocumentation \\nactivity\\nActivity Report \\nList of \\nparticipants\\n1 2022 2 4 5 5\\nNumber of women groups \\ntrained and assisted in \\nDocumentation \\nactivity\\n4\\ngroups\\n2022 3 groups\\n 30\\n3\\ngroups\\n3\\ngroups\\n3\\ngroups'), Document(metadata={'source': './data/PROJECT DOCUMENT MAHAKAM 2023-2025_balise.pdf', 'page': 51}, page_content='\\ndeveloping fish farmer \\nproduct \\n Activity Report \\nList of \\nparticipants\\n Database women\\ngroup income \\ngenerating\\n 26\\nwomen\\nwomen  30\\nwomen\\n 30\\nwomen\\n 30\\nwomen\\nOutput Strengthening \\nthe governence of \\nDelta Mahakam & \\nAdang Bay\\nNumber of local \\ncommunities participated \\nin FPIC \\nDocumentation \\nactivity\\nActivity Report \\nList of \\nparticipants\\n2 \\nvillages\\n 40 \\npersons\\n2022 2\\nvillages\\n 40\\npersons\\n2\\nvillages\\n 40\\npersons\\n2\\nvillage\\ns\\n 40\\nperson\\ns\\n6\\nvillages\\n 120\\nNumber of meetings with \\nkey stakeholder\\nDocumentation \\nactivity\\nMinutes of \\nMeeting\\nList of \\nparticipants\\n4 2022 4 4 4 12\\n</table>\\n12. Monitoring & evaluation\\nThe monitoring and evaluation of the project activities, risks, knowledge management, communication and others will\\nbe done internaly through:\\na.Monthly narrative and financial report\\nb.Quarterly narrative and financial report\\nc. Monthly coordination meeting with the partners.\\nd.Biweekly coordination meeting with the PU Paris.'), Document(metadata={'source': './data/PROJECT DOCUMENT MAHAKAM 2023-2025_balise.pdf', 'page': 52}, page_content='\\ne.Field monitoring six times in a year.\\nf. Internal evaluation at the end of project\\nIn addition, the project includes a third party evaluation during year 3 for final evaluation of the project’s activities\\nand conduction of the climate philanthropy methodology.\\nThe final evaluation will be conducted via remote evaluation and onsite visit of the project.\\nIt will include at minimum :\\n\\uf0b7 An inventory of the activities that have taken place in relation to the project plan (including planting activities,\\nincreased livelihoods and environmental awareness)\\n\\uf0b7 Review of carbon  sequestration  calculations  and monitoring  protocols,  based on the  climate  philanthropy\\nmethodology  developed  by  Planète  Urgence  (zone  boundaries,  baseline  scenario,  demonstration  of\\nadditionality, ex-ante carbon calculation, and first ex-post measures on year 3 linked with survival rate)\\n\\uf0b7 Review of project, monitoring and activity reports\\n\\uf0b7 Redaction of the audit report\\nCompletion  of  baseline  and  proof  of  additionality,  accompanied  by  EX-ANTE  calculation  of  GHG\\nemissions/sequestrations\\nAccording with Planete Urgence’s methodology on Climate Philanthropy, the project will monitor carbon sequestration\\nimpacts.\\nTo do so, Planète Urgence team will develop a baseline scenario illustrating the activities and greenhouse gas (GHG)\\nemissions that would occur in the absence of a project’s activity. Developing this baseline will be the foundation of\\nmeasuring the project’s emissions reductions or removals; it will set the benchmark by which a comparison of the\\nproject’s activities can be made against the business-as-usual scenario providing clarity on how the project can and\\nwill influence emissions reductions over time. \\nThe protocol developed by Planete Urgence adopts the baseline scenario and additionality tests based on the Verified\\nCarbon Standard (VCS) and Clean Development Mechanism (CDM)’s Afforestation/Reforestation methodological tools.'), Document(metadata={'source': './data/PROJECT DOCUMENT MAHAKAM 2023-2025_balise.pdf', 'page': 52}, page_content='project’s activities can be made against the business-as-usual scenario providing clarity on how the project can and\\nwill influence emissions reductions over time. \\nThe protocol developed by Planete Urgence adopts the baseline scenario and additionality tests based on the Verified\\nCarbon Standard (VCS) and Clean Development Mechanism (CDM)’s Afforestation/Reforestation methodological tools.\\nIt involves :'), Document(metadata={'source': './data/PROJECT DOCUMENT MAHAKAM 2023-2025_balise.pdf', 'page': 53}, page_content='\\n\\uf0b7 Identification and mapping of project boundaries\\n\\uf0b7 Consideration of regulatory surplus\\n\\uf0b7 Development of a list of reference scenarios ( Identification of obstacles, Analysis of obstacles, Determination of\\nreference scenario, Investment analysis\\n\\uf0b7 Definition of net GHG removals in the reference scenario, \\n\\uf0b7 Definition and proof of additionality\\n<table>\\n13. Timeline \\nEXPECTED RESULTS & PLANNED\\nACTIVITIES\\nTIMELINE\\nQ1 Q2 Q3 Q4 Q1 Q2 Q3 Q4 Q1 Q2 Q3 Q4\\nOutput 1\\xa0: Raising the awareness of stakeholders to \\nconserve and to manage Delta Mahakam sustainably.\\nA.1.1. Conduct workshops in schools of East Kalimantan province \\nto raise awareness on environment and biodiversity preservation.\\nA.1.2. Support Adiwiyata School\\nA.1.3. Conduct public awareness campaigns to sensitize \\ncommunities in East Kalimantan province to the ecological, \\neconomic and climatic benefits of the mangrove.\\nOutput 2\\xa0: Rehabilitate degraded mangrove forest\\nA.2.1. Pres-assessment study on land suitability\\nA.2.2. Ensure establishment and management of community-\\nbased nurseries'), Document(metadata={'source': './data/PROJECT DOCUMENT MAHAKAM 2023-2025_balise.pdf', 'page': 54}, page_content=\"\\nA.2.3. Identify and prepare planting areas and train local \\ncommunity members to mangrove restoration, planting 800.000 \\ntree\\nA.2.4. Participatory Monitoring Training and ensure the \\nmonitoring and protection of targeted mangrove areas\\nA.2.5. Conduct Biodiversity Research to find out the linkage of \\nrehabilitated degraded mangrove & the biodiversity\\nOutput 3. Support the development of sustainable \\nlivelihood\\nA.3.1. Establish demonstration plots for sustainable aquaculture \\n(sustainable ponds and sylvo fishery models)\\nA.3.2. Train community groups particularly women group on the \\nfinancial management and product marketing\\nOutput 4. Strengthening the governance of Delta \\nMahakam\\nA.4.1. Facilitate coordination work among Mahakam Delta's and \\nAdang Bay’s actors to synergize actions and to strengthen \\nmangrove ecosystem management.\\nA.4.2. Conduct FPIC (Free, Prior Informed Concerns) to the \\nvillagers, facilitate the participatory development of village \\nterritorial plans integrating sustainable management of natural \\nresources and strengthening village government to involve FCPF \\nprogram.\\nA.4.3. Conduct Expose with Key Stakeholders in Mahakam Delta \\nand Adang Bay\\nProject management\"), Document(metadata={'source': './data/PROJECT DOCUMENT MAHAKAM 2023-2025_balise.pdf', 'page': 55}, page_content='\\nHuman resources – Planète Urgence\\nHuman resources – Implementing partners\\nManagement actions – Planète Urgence\\n(including meetings, missions, coordination workshops, \\nmonitoring and evaluations, quality assurance, reporting, \\ncommunication, etc.)\\nManagement actions – Implementing partner \\n(including meetings, missions, coordination workshops, \\nmonitoring and evaluations, quality assurance, reporting, \\ncommunication, etc.)\\nCapacity building of project management staff (Planète Urgence \\nand implementing partners)\\nMid-term assessment (as appropriate)\\nTerminal and final assessment (as appropriate)\\nAudit(s) (as appropriate)\\n</table>')], tfidf_array=<83x9194 sparse matrix of type '<class 'numpy.float64'>'\n",
       "   \twith 11129 stored elements in Compressed Sparse Row format>, k=10)}),\n",
       " ({'type': 'dense',\n",
       "   'label': 'chroma',\n",
       "   'instance': VectorStoreRetriever(tags=['Chroma', 'OpenAIEmbeddings'], vectorstore=<langchain_community.vectorstores.chroma.Chroma object at 0x7f66f4c12f50>, search_type='mmr', search_kwargs={'k': 10, 'fetch_k': 20})},\n",
       "  {'type': 'sparse',\n",
       "   'label': 'bm25',\n",
       "   'instance': BM25Retriever(vectorizer=<rank_bm25.BM25Okapi object at 0x7f668079f8d0>, k=10)}),\n",
       " ({'type': 'dense',\n",
       "   'label': 'faiss',\n",
       "   'instance': VectorStoreRetriever(tags=['FAISS', 'OpenAIEmbeddings'], vectorstore=<langchain_community.vectorstores.faiss.FAISS object at 0x7f66f4b0fc10>, search_type='mmr', search_kwargs={'k': 10, 'fetch_k': 20})},\n",
       "  {'type': 'sparse',\n",
       "   'label': 'tfidf',\n",
       "   'instance': TFIDFRetriever(vectorizer=TfidfVectorizer(max_df=2, ngram_range=(1, 2)), docs=[Document(metadata={'source': './data/PROJECT DOCUMENT MAHAKAM 2023-2025_balise.pdf', 'page': 0}, page_content='MANGROVE RESTORATION AND\\nLOCAL DEVELOPMENT PROJECT\\nFOREST PROGRAMME\\nProject title: MAHAKAM\\nCountry: Indonesia\\nImplementing  partners:  Yayasan\\nMangrove Lestari & Pokja Pesisir'), Document(metadata={'source': './data/PROJECT DOCUMENT MAHAKAM 2023-2025_balise.pdf', 'page': 1}, page_content=\"\\nBrief project description\\nEast Kalimantan Province in 2021/2022 received great attention nationally\\nbecause of the moving of the state capital city (Jakarta) to a location near\\nthe city of Balikpapan and Penajam Paser Utara in East Kalimantan Province.\\nThe  development  of  the  new  capital  will  start  in  2022.  Although  the\\nIndonesia President commit to develop the new capital as Forest and Smart\\nCity,  the  surrounding  area  particularly  the  coastal  area  such  as  Delta\\nMahakam and Adang Bay might get high pressure as the consequence of the\\nnew  development  and  the  movement  of  1.5  million  people  to  the  new\\ncapital.    \\nDelta Mahakam, in the eastern part of East Kalimantan, is an area that is\\nrelatively close to the prospective center of the State capital (about 100 km).\\nMahakam Delta is naturally a mangrove habitat, but due to excessive land\\nclearing for extensive aquaculture about 47.5 % of the mangrove ecosystem\\nis  degraded  to  be  converted  into  aquaculture  (2017).  Despite  various\\nconservation efforts by different parties and the government, land clearing\\nstill continues. Delta Mahakam land ownership is government land that has\\ndesignated  as  a  production  forest,  but  this  area  has  been  inhabited  by\\nresidents from generation to generation.\\nAdang Bay is one of the coastal villages in Adang Bay, Paser Regency, on the\\nsouthern part of East Kalimantan Province  (about 100 km from the new\\ncapital).  This  area  is  also  experiencing  land  conversion  to  increase\\naquaculture, besides there are several locations in coastal areas that are\\naffected by abrasion. Restoration activities in East Kalimantan Province are\\nneeded to restore a degraded environment, as well as to support the vision\\nof the nation's capital as a green city.\\nThe  ecosystem  in  Delta  Mahakam  and  Adang  Bay1 are  also  home  to\\ncritically  endangered  species,  such  as  the  nasal  monkey  (proboscis\"), Document(metadata={'source': './data/PROJECT DOCUMENT MAHAKAM 2023-2025_balise.pdf', 'page': 1}, page_content=\"affected by abrasion. Restoration activities in East Kalimantan Province are\\nneeded to restore a degraded environment, as well as to support the vision\\nof the nation's capital as a green city.\\nThe  ecosystem  in  Delta  Mahakam  and  Adang  Bay1 are  also  home  to\\ncritically  endangered  species,  such  as  the  nasal  monkey  (proboscis\\nmonkey), endemic to the island of Borneo. On a global scale, the mangrove\\nis a key ecosystem to answer the challenge of carbon sequestration and\\nfight against climate change.\\nThe  objective  of  the  project  is  therefore  to  contribute  to  restore  the\\ndegraded mangrove forest in East Kalimantan (Delta Mahakam and Adang\\nBay)  as  home  of  endemic  and  endangered  species  including  proboscis\\nmonkey and key ecosystem to mitigate and to adapt the impact of climate\\nchange;  and  this,  through  four  main  actions:  raising  awareness  of  the\\nstakeholders,  rehabilitating  degraded  mangrove  forest,  supporting  the\\n1 For clarification: \\n- Delta Mahakam (the region), Kutai Kartanegara District, Delta Mahakam Sub \\nDistrict and Delta Mahakam Ulu the village.\\n- Adang Bay (the region), Paser District, Long Ikis Sub District and Adang Bay the \\nvillage.\"), Document(metadata={'source': './data/PROJECT DOCUMENT MAHAKAM 2023-2025_balise.pdf', 'page': 2}, page_content='\\ndevelopment  of  sustainable  livelihood,  and  strengthening  the  coastal\\ngovernance.'), Document(metadata={'source': './data/PROJECT DOCUMENT MAHAKAM 2023-2025_balise.pdf', 'page': 3}, page_content='\\nMain Sustainable Development Goals (SDGs) to which the\\nproject contributes\\n\\u202f\\u202f\\u202f\\u202f  \\n \\u202f\\u202f\\u202f\\u202f \\n \\u202f\\u202f\\u202f\\u202f \\n \\u202f\\u202f\\u202f\\u202f \\n \\xa0\\u202f\\u202f\\u202f\\u202f  \\u202f\\u202f\\u202f\\u202f\\nMain SDG targets and indicators to which the project contributes: \\n\\uf0b7 12.8. By  2030,  ensure  that  people  everywhere  have  the  relevant\\ninformation  and awareness  for  sustainable  development and lifestyles  in\\nharmony with nature.  \\n\\uf0b7 13.1. Strengthen resilience and adaptive capacity to climate-related\\nhazards and natural disasters in all countries.  \\n\\uf0b7 13.3. Improve education, awareness-raising, human, and institutional\\ncapacity on climate  change  mitigation,  adaptation,  impact reduction and\\nearly warning.  \\n\\uf0b7 14.2. Sustainably manage and protect marine and coastal ecosystems\\nto  avoid  significant  adverse  impacts,  including  by  strengthening  their\\nresilience, and take action for their restoration in order to achieve healthy\\nand productive oceans.  \\n\\uf0b7 14.  B. Provide  access  for  small-scale  artisanal  fishers  to  marine\\nresources and markets.  \\n\\uf0b7 15.5. Take urgent and significant action to reduce the degradation of\\nnatural  habitats,  halt  the  loss  of  biodiversity,  protect  and  prevent  the\\nextinction of threatened species. \\nTable 0 *\\nProject duration 3 years (March 2023 – February 2026)\\nBudget & funding\\nTotal required \\nresources (€)\\n2023-2026\\n818\\xa0341 € // 903\\xa0613 USD\\nAuthor(s) YML, POKJA, Yayasan Planete Urgensi Indonesia,\\nPlanète Urgence\\nApproval by partners Planète\\nUrgence/Yayasan\\nPlanet Urgensi\\nIndonesia\\nName: Réonaldus\\nTitle:  Indonesia  National\\nDelegate\\nYML Name: Achmad Nuriyawan \\nTitle: Director\\nPOKJA Name: Hamsuri'), Document(metadata={'source': './data/PROJECT DOCUMENT MAHAKAM 2023-2025_balise.pdf', 'page': 4}, page_content='\\nTitle: The Board of Trustee'), Document(metadata={'source': './data/PROJECT DOCUMENT MAHAKAM 2023-2025_balise.pdf', 'page': 5}, page_content='\\nTable of contents\\n1. IMPLEMENTING PARTNER 2\\n2. CONTEXT & ENVIRONMENT AND DEVELOPMENT CHALLENGES 3\\nGEOGRAPHIC AND SOCIO-ECONOMIC CONTEXT 3\\nENVIRONMENTAL CONTEXT 4\\nBIODIVERSITY ISSUES 6\\nENVIRONMENT AND DEVELOPMENT CHALLENGES 8\\n3. STRATEGY & THEORY OF CHANGE 11\\n4. BENEFICIARIES 12\\n5. LOCATION 13\\n6. EXPECTED RESULTS, PLANNED ACTIVITIES & REQUIRED RESOURCES 13\\nOUTPUT 1: THE AWARENESS OF STAKEHOLDERS TO CONSERVE DELTA MAHAKAM AND ADANG BAY IS \\nSTRENGTHENED. 14\\nActivity 1.1. Conduct workshops in schools of East Kalimantan province to \\nraise awareness on environment and biodiversity preservation. 14\\nActivity 1.2. Support Adiwiyata School (Green School) in Delta Mahakam 15\\nActivity 1.3. Conduct public awareness campaigns to sensitize communities in\\nEast Kalimantan province to the ecological, economic and climatic benefits of \\nthe mangrove. 15\\nOUTPUT 2: 300 HA AREA OF DEGRADED MANGROVE FOREST ARE RESTORED BY PLANTING 800.000 OF \\nMANGROVE TREE. 17\\nActivity 2.1. Pres-assessment study on land suitability 17\\nActivity 2.2. Ensure establishment and management of community-based \\nnurseries 17\\nActivity 2.3. Identify and prepare planting locations, and train local \\ncommunity members to mangrove restoration, and conduct tree planting. 18\\nActivity 2.4. Participatory Monitoring Training and ensure the monitoring and \\nprotection of targeted mangrove areas 20\\nOUTPUT 3. ALTERNATIVE SUSTAINABLE LIVELIHOODS IN DELTA MAHAKAM AND ADANG BAY ARE AVAILABLE,\\nIMPROVED AND SHARED TO OTHER KEY STAKEHOLDERS IN THE REGION. 22\\nActivity 3.1. Establish demonstration plots for sustainable aquaculture \\n(sustainable ponds and sylvo fishery models) 22\\nActivity 3.2. Train community groups particularly women group on the \\nfinancial management and product marketing. 22\\nOUTPUT 4. THE SUSTAINABLE COASTAL GOVERNANCE IN DELTA MAHAKAM AND ADANG BAY ARE \\nSTRENGTHENED 23\\nActivity 4.1. Facilitate coordination meeting among Mahakam Delta and'), Document(metadata={'source': './data/PROJECT DOCUMENT MAHAKAM 2023-2025_balise.pdf', 'page': 5}, page_content='(sustainable ponds and sylvo fishery models) 22\\nActivity 3.2. Train community groups particularly women group on the \\nfinancial management and product marketing. 22\\nOUTPUT 4. THE SUSTAINABLE COASTAL GOVERNANCE IN DELTA MAHAKAM AND ADANG BAY ARE \\nSTRENGTHENED 23\\nActivity 4.1. Facilitate coordination meeting among Mahakam Delta and \\nAdang Bay’s actors to synergize the program 23\\n7. PARTNERSHIPS 26\\n8. CROSS-CUTTING APPROACHES 29\\n9. KNOWLEDGE MANAGEMENT, CAPITALIZATION & COMMUNICATION 31\\n10. SUSTAINABILITY, SCALING-UP AND/OR EXIT STRATEGY 36\\n11. RESULTS FRAMEWORK 38\\n12. MONITORING & EVALUATION 42\\n13. TIMELINE 44'), Document(metadata={'source': './data/PROJECT DOCUMENT MAHAKAM 2023-2025_balise.pdf', 'page': 7}, page_content='\\n1. Implementing partner\\nName of the organization: Yayasan Mangrove Lestari\\nAddress: Jl. Pelita 3 RT.12 Gg.7 Kel. Sambutan Samarinda\\nLegal  status:  Akta  notaris  ;  Nomor  :  01  Tanggal  01  Juni  2012;\\nKemenkumham ; Nomor : AHU-3696.AH.01.04.2013\\n \\nThe  Yayasan  Mangrove  Lestari  Delta  Mahakam  (YML)  is  a  local  non-\\ngovernmental organization based in Samarinda, East Kalimantan Province.\\nEnvironmental activists and local communities with the purpose of helping\\nthe conservation of the mangrove ecosystem in the Mahakam Delta, East\\nKalimantan Province, founded this organization on February 21, 2012. \\nYML is open to collaborating with various parties who have the same goal of\\nconserving  the  environment,  especially  the  mangrove  ecosystem.  In  its\\ndevelopment,  YML  has  collaborated  with  local  governments  and  donor\\nagencies including Planète Urgence in carrying out mangrove restoration\\nactivities. \\nYML has a vision to create a sustainable mangrove ecosystem that provides\\nbenefits to local communities. The mission of YML includes: \\n\\uf0b7 Restoring mangrove ecosystems, especially in the Mahakam Delta \\n\\uf0b7 Helping to realize sustainable aquaculture in the mangrove ecosystem\\narea \\n\\uf0b7 Assisting  local  communities  in  improving  livelihood  activities  to\\nincrease family income \\n\\uf0b7 Build partnerships with stakeholders for the conservation of mangrove\\necosystems. \\nYML has an office in Samarinda with a field secretariat in Muara Badak, Delta\\nMahakam to  help  fish and shrimp farmer  groups  to practice  sustainable\\naquaculture.\\nName of the organization: Pokja Pesisir\\nAddress: Tengiri VI Street No.10 RT.24 Kelurahan Manggar Baru, Kecamatan\\nBalikpapan Timur, Kota Balikpapan, Kalimantan Timur 76114\\nEmail: perkumpulanpokjapesisir@gmail.com \\nTel: +62 813 4874 4716\\nWebsite: http://pokjapesisir.id/\\nLegal status : Legally Registered under the Ministry of Law and Human\\nRights, 2019 No 008760.AH.01.07 Tahun 2019'), Document(metadata={'source': './data/PROJECT DOCUMENT MAHAKAM 2023-2025_balise.pdf', 'page': 7}, page_content='aquaculture.\\nName of the organization: Pokja Pesisir\\nAddress: Tengiri VI Street No.10 RT.24 Kelurahan Manggar Baru, Kecamatan\\nBalikpapan Timur, Kota Balikpapan, Kalimantan Timur 76114\\nEmail: perkumpulanpokjapesisir@gmail.com \\nTel: +62 813 4874 4716\\nWebsite: http://pokjapesisir.id/\\nLegal status : Legally Registered under the Ministry of Law and Human\\nRights, 2019 No 008760.AH.01.07 Tahun 2019\\nKelompok  Kerja  Pesisir  (The  Coastal  Area  Working  Group),  commonly\\nabbreviated as “Pokja Pesisir”, is a non-profit organization formed by a group\\nof environmental activists in Balikpapan City, East Kalimantan Province. This\\norganization  was  formed  with  the  objective  to  raise  public  attention  to\\npreserve  coastal  and  marine  ecosystems  that  are  rich  in  biodiversity,'), Document(metadata={'source': './data/PROJECT DOCUMENT MAHAKAM 2023-2025_balise.pdf', 'page': 8}, page_content='\\nincluding clusters of mangrove areas, distribution of coral reefs and seagrass\\nbeds.\\nIn addition, government policies towards fishermen communities also need\\nto be continuously encouraged in order to be optimal for the welfare of\\nfishermen.  The  lives  of  fishermen  in  coastal  areas  in  East  Kalimantan\\nProvince  often  experience  difficulties  due  to  the  privatization  of  coastal\\nareas, difficulties in obtaining fuel for fishing boats, and also low human\\nresources.\\nBased on these issues, a group of activists agreed in 2009 to establish an\\norganization which was later named the “Coastal and Fisherman Working\\nGroup”. This institution has been advocating policies for improving coastal\\nand marine governance and carrying out empowerment actions for fishing\\ncommunities. As an effort to preserve the coastal area, the “Coastal and\\nFishermen Working Group” initiated a program called Mangrove and Marine\\nProtection Area in Teritip Village, East Balikpapan Sub-district, Balikpapan\\nCity, in collaboration with UNDP in 2009 – 2010. The Working Group then\\nchange the name to “Pokja Pesisir” and was legally registered at the Ministry\\nof Law and Human Rights in 2018.\\nSome activities conducted by POKJA Pesisir:\\n\\uf0b7 2009  –  2010  mangrove  and  coastal  area  conservation  in  Teritip,\\nBalikpapan (supported by UNDP). \\n\\uf0b7 2009 – 2016: community organizing in the coastal area of Balikpapan.\\n\\uf0b7 2016 – now: Monitoring and campaign on the protection of the highly\\nconservation value in Balikpapan Bay\\n\\uf0b7 2016 – now: Community assistance on the conservation of Balipapan\\nBay\\n\\uf0b7 March  2017  –  January  2018,  Implementing  the  Program  of\\n“Strengthening  of  CSO  Network  on  Mangrove  Conservation  in\\nIndonesia” in Balikpapan Bay. \\n\\uf0b7 2021 – March 2022, Proposing the Conservation area in coastal area\\nand small islands of Balikpapan Bay (supported by TFCA) \\nIn term of organization: a Board of Trustees, a Board of Supervisor and'), Document(metadata={'source': './data/PROJECT DOCUMENT MAHAKAM 2023-2025_balise.pdf', 'page': 8}, page_content='Bay\\n\\uf0b7 March  2017  –  January  2018,  Implementing  the  Program  of\\n“Strengthening  of  CSO  Network  on  Mangrove  Conservation  in\\nIndonesia” in Balikpapan Bay. \\n\\uf0b7 2021 – March 2022, Proposing the Conservation area in coastal area\\nand small islands of Balikpapan Bay (supported by TFCA) \\nIn term of organization: a Board of Trustees, a Board of Supervisor and\\nmembers, manage POKJA Pesisir. \\n2. Context & environment and development challenges\\nGeographic and socio-economic context\\nEast Kalimantan is one of the richest provinces in Indonesia and the main\\ncontribution to the national GDP. Before palm oil and mining coal booming in\\nearly 2000, forestry, mining and gas sectors are the backbone of economic\\ndevelopment  in  East  Kalimantan.  Because  too  much  depending  on  the\\nunrenewable  natural resources, the economic  growth  of East Kalimantan\\ngradually declines and, in 2016, reached the minus point because of the\\nlowest price of coal at the global level. In 2019, Indonesia government has'), Document(metadata={'source': './data/PROJECT DOCUMENT MAHAKAM 2023-2025_balise.pdf', 'page': 9}, page_content=\"\\ndecided to move the capital of Indonesia from Jakarta to East Kalimantan.\\nCurrently, the government accelerate the infrastructure development of new\\ncapital.   \\nThe project will be implemented in several regions of Mahakam Delta and\\nAdang Bay. Mahakam Delta is located on the eastern coast of the island of\\nBorneo, in East Kalimantan province, which is one of the five provinces that\\nhas the lowest population density in Indonesia. This province is also the main\\ncontributor to the national GDP, mainly for its wealth in oil and gas. It is\\nnevertheless aquaculture activities which constitute the main source of\\nincome for the local population. About 90% of the population depend on it\\nfor their livelihood. As a result, 54.19% of the Mahakam Delta has been\\nconverted to shrimp ponds. The majority of exports from the area are made\\nup of tiger shrimp and white shrimp that are farmed in the delta ponds and\\nalong the Paser District's shore.\\nFeature 1: Land cover in mahakam delta and adang is dominated by fish\\npond area\\nPaser District is located on the east coast of East Kalimantan Province. The\\nvillage of Adang Bay is located in the coastal area of this district, in Adang\\nBay. This area is a conservation area managed by the Ministry of Forestry\\n(KPHP).  Therefore,  limited  economic  activities  are  allowed  in  this  area.\\nHowever,  since  the  late  1990s,  massive  clearing  for  the  construction  of\\naquaculture ponds has destroyed the mangrove forest in the area. According\"), Document(metadata={'source': './data/PROJECT DOCUMENT MAHAKAM 2023-2025_balise.pdf', 'page': 10}, page_content=\"\\nto the District Pastor's Investment Agency, about 1,506 people live in Adang\\nBay. Most of them work as fishermen, fish farmers and swallowers. The\\nvillage government and the community have made a strong commitment to\\nconserve the area by adhering to the jurisdictional REDD+ approach, funded\\nby the World Bank's FCPF or Forest Carbon Partnership Facility Project.  \\nEnvironmental context\\nLargest archipelago in the world (more than 13,000 islands), Indonesia has\\nan area of 1,905,000 km2 of which less than 50% is still covered by forests\\ntoday,  while  the  country  is  part  of  the  3rd largest planetary tropical\\nforest zone  (after the Amazon and the Congo Basin). More than half of\\nIndonesian forests have disappeared since 1960. However, they are home to\\na large part of the world's biodiversity (more than 10% respectively of plant,\\nmammal, reptile and bird species). Today, the country counts for 3 to 5% of\\nannual global greenhouse gas emissions  (among the 10 most emitting\\ncountries) including more than 50% due to land use, their change of land use\\nand the exploitation of forests.\\nIndonesia  is  home  to  almost  1/4 of  the  world's  mangroves  (20%). This\\nmaritime ecosystem, made up of a set of mainly woody plants (the most\\nnotable species being the mangrove), develops in the swinging area of the\\ntides of the low coasts and in marshes at the mouth of certain rivers.  Of the\\nnearly 3.2 million hectares of mangrove forest 2 in the country today, more\\nthan 50,000 ha are lost each year. \\nThe mangrove is one of the most productive ecosystems on the planet ,\\nhome to a particularly abundant biomass. The mangroves' root system is\\nnotably a biotope where a variety of fish and crabs live and reproduce. The\\nmangrove thus provides important resources (forestry and fishery) to coastal\\npopulations, a natural “buffer” zone adapted to salinity, filtering sediment\\nand pollution carried by rivers and the sea, and preserving the fresh water\"), Document(metadata={'source': './data/PROJECT DOCUMENT MAHAKAM 2023-2025_balise.pdf', 'page': 10}, page_content=\"home to a particularly abundant biomass. The mangroves' root system is\\nnotably a biotope where a variety of fish and crabs live and reproduce. The\\nmangrove thus provides important resources (forestry and fishery) to coastal\\npopulations, a natural “buffer” zone adapted to salinity, filtering sediment\\nand pollution carried by rivers and the sea, and preserving the fresh water\\nresources  of  the  land.  They  are  a  food  security  and  livelihood  issue,  in\\nparticular providing income to fishing communities. This ecosystem is also\\nan important natural fount of carbon, with Indonesian mangroves storing\\naround  5  times  more  carbon  per  hectare  than  terrestrial  forests.  The\\ngovernment of Indonesia has taken into account this ecosystem in its REDD+\\nstrategy, implemented in the only pilot province of East-Kalimantan, with the\\nProvincial Council on Climate Change (DDPI) with the support of the World\\nBank in the framework of the “Forest Carbon Partnership Facility Project”.\\nFinally, the mangrove plays a key role in  natural defense . The complex\\nnetwork of mangrove roots can help reduce wave power, which limits erosion\\nand protects  coastal communities  from  the destructive  forces  of tropical\\nstorms. Mangroves provide protection against extreme weather events and\\ntsunamis, and can adapt to rising sea levels and subsidence. They therefore\\n2 Indonesia’s Geospatial Agency, 2012\"), Document(metadata={'source': './data/PROJECT DOCUMENT MAHAKAM 2023-2025_balise.pdf', 'page': 11}, page_content='\\ncontribute to reducing the risk of disasters, to the resilience of communities\\nand ecosystems and to their adaptation to climate change.\\nIn Mahakam Delta, results from a study conducted in 2018 and 2019 by the\\nKutai Kartanegara District has shown that 47.8% of mangrove forests are\\ndeteriorated.\\nTable 1. Critical Criteria of Mahakam Delta Mangrove3\\nCritical Criteria Land Area (ha) Percentage\\nDamaged 7,034 5.6\\nSevere 52,945 42.2\\nUndamaged 65,522 52.2\\nTotal 125,502 100.0\\nSource: The Result of Spatial Analysis of Mangrove Damage Level (2018)\\nWith the plan to move the state capital to Penajam Paser Utara District\\n(PPU), the development activities to create this new big city will take place\\nmassively. The central government has planned to create a green city for the\\nnew capital, which construction will start in 2022, but various problems still\\npose challenges in locations outside the new capital. On the one hand, a\\nclose government center can control the surrounding environment to keep it\\nconserved, but the gap in the quality of human resources and plans to move\\na  large  number  of  people  from  Jakarta  to  this  area  will  certainly  cause\\npressure on the environment.\\nBiodiversity issues\\nThe  mangrove  of  Mahakam  Delta  conceals  a  rich  marine  and  arboreal\\nbiodiversity,  characterized by a large variety of  fish, arthropods, reptiles\\nsuch as the marine crocodile  (Crocodylus porosus) , aquatic mammals such\\nas the Irrawaddy dolphin  (Orcaella brevirostris)  or terrestrial like the nasal\\nmonkey  (Nasalis larvatus),  these last 2 species being considered as being\\n“endangered” by the IUCN.\\nThe  deforestation  of Mahakam Delta’s mangrove hampers the effort to\\nconserve this type of species, for example by fragmenting the habitat of the\\nnasal monkey, whose interaction between populations strongly depends on\\nthe continuity of the canopy. The isolation of these populations makes them'), Document(metadata={'source': './data/PROJECT DOCUMENT MAHAKAM 2023-2025_balise.pdf', 'page': 11}, page_content='monkey  (Nasalis larvatus),  these last 2 species being considered as being\\n“endangered” by the IUCN.\\nThe  deforestation  of Mahakam Delta’s mangrove hampers the effort to\\nconserve this type of species, for example by fragmenting the habitat of the\\nnasal monkey, whose interaction between populations strongly depends on\\nthe continuity of the canopy. The isolation of these populations makes them\\nmore vulnerable to poaching.  The long-nosed monkey, endemic of Borneo\\nIsland is listed as “Endangered” by the IUCN as it has undergone extensive\\n3 Study of identification of levels of mangrove forest damaged for rebooting planning in \\nMahakam Delta in Kutai Kartanegara district. Jurnal “Gerbang Etam” Balitbangda Kab. Kukar\\nVol. 13 No. 1 Tahun 2019'), Document(metadata={'source': './data/PROJECT DOCUMENT MAHAKAM 2023-2025_balise.pdf', 'page': 12}, page_content='\\npopulation  reductions  across its  range, and ongoing  hunting and habitat\\ndestruction  continue  to  threaten  most  populations.  Numbers  have\\ndeclined by more than 50%  (but probably less than 80%) over the past 3\\ngenerations (approximately 36-40 years). 4 At the scale of Mahakam Delta,\\nonly 2 censuses have been conducted to monitor this specie, respectively in\\n1997 and 2005 which reflects the lack of resources of local institutions to\\nconserve and protect this biodiversity.\\nIn addition, the degradation of this ecosystem leads to a decrease in fish\\nstocks in the delta, threatening both fishermen and species such as sea\\ncrocodiles  and  dolphins.  The  situation  is  currently  might  threatening  to\\nexacerbate human-animal conflicts and therefore to further decrease the\\npopulations of the above-mentioned species, even threatening them with\\nextinction. Hence, beside preventing the mangrove forest conversion into\\npalm oil plantation, aquaculture ponds, and other usages, the reforestation\\nactivity is necessary to improve the degraded mangrove ecosystem in the\\ncoastal area.\\nParadoxically, the considerable modification of delta habitats resulted in a\\nvery substantial  increase in populations of birds  associated with open\\nwet  areas,  such  as  egrets  (100  individuals  in  1987  to  nearly  15,000\\nindividuals  in  2013).  Likewise,  some  species  of  heron  have  seen  their\\npopulation sizes increase considerably, such as the purple heron or the Javan\\npond-heron,  the  lesser  adjutant,  ducks,  Sunda  teal  and  the  wandering\\nwhistling-duck also seem to have used the habitats created by the clearings\\nto considerably increase their populations. \\nThe populations of these species have benefited of new feeding areas when\\nthe shrimp ponds were developed. Indeed, egrets, ducks, and waders use\\nthe shrimp ponds in high numbers on cyclical basis when shrimp ponds are'), Document(metadata={'source': './data/PROJECT DOCUMENT MAHAKAM 2023-2025_balise.pdf', 'page': 12}, page_content='whistling-duck also seem to have used the habitats created by the clearings\\nto considerably increase their populations. \\nThe populations of these species have benefited of new feeding areas when\\nthe shrimp ponds were developed. Indeed, egrets, ducks, and waders use\\nthe shrimp ponds in high numbers on cyclical basis when shrimp ponds are\\nemptied for shrimp harvesting. The presence of pristine areas, with large\\ntrees  or  dense  copses  of  smaller  species  (Nypa)  removed  from  human\\npresence, is also favourable for the reproduction of these species. Here they\\nfind quiet conditions for reproduction or gatherings (dormitories). Amongst\\nthe species observed in 2013 and those not observed in 1987, eight dwell in\\nan aquatic environment and directly depend on the shrimp ponds: darter,\\nstilts, grey heron, black-crowned night heron, intermediate egret, western\\nmarsh-harrier  and  the  Garganey.  The  opening  of  shrimp  ponds  was  the\\nobvious factor leading to the growth of all these bird populations.\\nInstitutional Context \\nThe  key  players  in  coastal  region  in  East  Kalimantan  including  in  Delta\\nMahakam  Ulu  (Delta  Mahakam)  and  Delta  Mahakam  (Adang  Bay)  are\\nrelatively similar. Since the area located or nearby the conservation area and\\nforest  production  area,  the  Ministry  of  Forestry  via  Nature  Conservancy\\n4 IUCN Red List: https://www.iucnredlist.org/species/14352/4434312'), Document(metadata={'source': './data/PROJECT DOCUMENT MAHAKAM 2023-2025_balise.pdf', 'page': 13}, page_content=\"\\nAgency  in  East  Kalimantan  and  Forest  Management  Unit  (provincial\\ngovernment agency) are the most influence actor. They have authority to\\ndetermine the activities which allowed and not allowed in the area. However,\\nthey cannot control the vast area of conservation area since 50 percent of\\nmangrove forest in the region have been degraded. Besides government, the\\nothers key actors are fishermen, fish farmers, swallow workers and investors\\nin aquaculture sectors. Those actors have shaped the landscape of coastal\\narea in Delta Mahakam and Adang Bay over the past 20 years. In their hand\\nthe future  of sustainable  aquaculture  is determined.  Environmental and\\ndevelopment NGOs, oil and gas company and other parties has programme\\nin their area. Most of the programme focus on improving the livelihood of the\\nlocal people and restoring the mangrove forest.\\nThe Movement of Indonesian New Capital\\nPaser District (East Kalimantan Province) will soon be the site of Indonesia's\\nnew political capital, Nusantara, as part of the plan to move the country's\\ncapital from the island of Java to the island of Borneo, which is home to one\\nof the world’s largest rainforests.  \\nJakarta,  the  current  political  capital  which  will  become  the  country's\\neconomic capital by 2045, is currently facing several environmental, climatic\\nand demographic problems and challenges: overpopulation, heavy pollution,\\nrising water levels, frequent flooding, etc. In order to deal with the inevitable\\nfuture security issue, the Indonesian government has decided to build a new\\ncapital 2,000 km away from Jakarta, in the province of East Kalimantan,\\nmore precisely between the towns of Balikpapan and Samarinda. With the\\nlegislation  for  the  relocation  of  the  new  capital  published,  the  physical\\ndevelopment of the new capital will begin in 2022. In August 2024, the\\nPresident  plans  to  celebrate  Indonesia's  Independence  Day  in  the  new\\ncapital.\"), Document(metadata={'source': './data/PROJECT DOCUMENT MAHAKAM 2023-2025_balise.pdf', 'page': 13}, page_content='capital 2,000 km away from Jakarta, in the province of East Kalimantan,\\nmore precisely between the towns of Balikpapan and Samarinda. With the\\nlegislation  for  the  relocation  of  the  new  capital  published,  the  physical\\ndevelopment of the new capital will begin in 2022. In August 2024, the\\nPresident  plans  to  celebrate  Indonesia\\'s  Independence  Day  in  the  new\\ncapital. \\nThe government plans to make the new capital a \"forest city\" by strongly\\npreserving forest areas and using sustainable energy. However, many argue\\nthat  the  development  of  the  new  capital  could  lead  to  environmental\\ndegradation and loss of essential biodiversity, especially in the mangrove\\nforest.  The  majority  of  the  Indonesian  population,  including  the  local\\npopulation, supports the new capital movement by echoing the effect of\\nequitable  development.  Indeed,  for  decades,  the  natural  resources  of\\nKalimantan Island have been exploited to support Indonesian development,\\nespecially that of Java Island.  \\nThe location of the project (Delta Mahakam and Adang Bay -Adang Bay) is an\\narea relatively close to the potential centre of the state capital (about 100-\\n200 km).'), Document(metadata={'source': './data/PROJECT DOCUMENT MAHAKAM 2023-2025_balise.pdf', 'page': 14}, page_content='\\nEnvironment and development challenges\\na) Aquaculture industry\\nMahakam  Delta  area  is  under  pressure  from  both  the  industrial  and\\nagricultural sectors, including aquaculture facing a national high dynamic.\\nFrom 2015 to 2035 it is expected a destruction of 600,000 ha of mangrove\\nfor shrimp farm at the national scale. The World Bank (2013) estimates a\\npressure to double cultivated shrimp production from currently 300,000 t\\n(produced by 600,000 ha of ponds) to 600,000 t/1,000,000 t by 2030 to fulfil\\nthe demand. However, with improvements in brackish water aquaculture\\nproductivity,  halting  palm  oil  concession  to  use  mangroves,  along  with\\nmaintaining other mangrove use pressures at moderate levels, the net loss\\nof mangroves in the next two decades could be reduced to around 23,000 ha\\nat this same scale. \\nThe East-Kalimantan Province is the new area to develop aquaculture ponds\\nas  Java,  Sumatra  and  Sulawesi  islands  are  facing  a  decrease  of  the\\nproduction and the destruction of their environment due to unsustainable\\npractices. \\nFeature 1: Forecasted mangrove loss at six mangrove regions in Indonesia\\nin the next two decades due to land use change under pessimistic scenario.\\nCircle size indicates potential loss areas in Sumatra, Kalimantan, and Papua;\\nas for Java, Sulawesi and Maluku potential loss areas are represented by the\\nsmaller circles.\\nScientific  studies  also  show  that  the  percentage  of  mangrove  natural\\nrecovery is higher in East-Kalimantan with 1.4%/year against 0.7%/year in\\nother  islands  in  inactive  ponds.  This  suggests  to  consider  conservation\\nactivities in specific areas of Mahakam Delta. At the scale of Mahakam Delta,\\nthe  table  below  for  which  the  percentage  (43.7%)  is  as  higher  as  the\\nremaining mangrove forest (48.5%) highlights the dominance of aquaculture.'), Document(metadata={'source': './data/PROJECT DOCUMENT MAHAKAM 2023-2025_balise.pdf', 'page': 15}, page_content=\"\\nTable 2. Types of Land Cover and Land Use in Mahakam Delta5 \\nTypes of Land Cover and Land Use\\nin Mahakam Delta Land Area (ha) Percentage\\nMangrove Forest with Middle Density 11,053 8.8\\nMangrove Forest with High Density 49,885 39.7\\nIndustry 311 0.2\\nPlantation 5,356 4.3\\nOpen Land 193 0.2\\nResidential Area 889 0.7\\nRice Field 869 0.7\\nShrubs 2,080 1.7\\nCommercial Fish Ponds 54,865 43.7\\nTotal 125,502 100.0\\nSource: Result of SPOT satellite images 6/7 (2018)\\nb) Demography\\nThe demographic issue must also be considered. Indeed, the announcement\\nin 2019 of the relocation of the political and administrative capital of Jakarta\\nto the province of East Kalimantan, between the cities of Balikpapan and\\nSamarinda, suggests strong migrations, the development of infrastructures\\nbut  also  a  growing  demand  for  aquaculture  products.  By  2024,  the\\nIndonesian Minister of Planning hopes to transfer nearly 1.5 million public\\nofficials and political representatives in East Kalimantan.\\nDelta  Mahakam Ulu village,  which  belongs  to Delta  Mahakam district,  is\\nlocated in the northern part of the Mahakam Delta. The location of Delta\\nMahakam sub-district is close to the state-owned oil company (Pertamina),\\nformerly  VICO.  Due  to  the  proximity  of  a  fairly  large  company,  the\\ncommunity's economy is quite dynamic and the area offers a variety of jobs.\\nHowever, the number of people who still carry out the traditional work of\\nfishermen and fish farmers is still quite high, especially in the coastal areas.\\nWorking as a fish farmer has become one of the choices of the community as\\nland is available for opening ponds. The conversion of mangrove forests into\\nponds has been going on for decades, but the production of fish and shrimp\\nhas decreased from time to time. Based on various studies and research,\\nplanting a number of mangroves in ponds can improve the soil and water\\nquality in the ponds so that they can provide sustainable production. The\"), Document(metadata={'source': './data/PROJECT DOCUMENT MAHAKAM 2023-2025_balise.pdf', 'page': 15, 'score': 0.695250928401947}, page_content='land is available for opening ponds. The conversion of mangrove forests into\\nponds has been going on for decades, but the production of fish and shrimp\\nhas decreased from time to time. Based on various studies and research,\\nplanting a number of mangroves in ponds can improve the soil and water\\nquality in the ponds so that they can provide sustainable production. The\\n5 Study of identification of levels of mangrove forest damaged for rebooting planning in \\nMahakam Delta in Kutai Kartanegara district. Jurnal “Gerbang Etam” Balitbangda Kab. Kukar\\nVol. 13 No. 1 Tahun 2019'), Document(metadata={'source': './data/PROJECT DOCUMENT MAHAKAM 2023-2025_balise.pdf', 'page': 16, 'score': 0.5599989295005798}, page_content='\\nfarmer groups in Delta Mahakam Ulu ponds are beginning to realise the\\nimportance of planting mangroves in the ponds, and therefore need support\\nfrom various parties. \\nc) Other issues\\nThe table below represents a summary of estimation of potential loss and\\ngain of mangroves in six major regions by 2035. The Kalimantan Island is the\\none to analyze in order to justify Planète Urgence and partners’ information.\\nThe analysis does not yet consider the movement of new capital issue which\\nvery likely affect the mangrove forest in East Kalimantan as well. \\nTable 2 *\\nThis table highlight the multiple and complex context in which mangrove loss\\ndepends and confirms challenges faced in Mahakam Delta area. The lack of\\nresources (financial, human resources, material) of local authorities coupled\\nwith  a  lack  of  transparency,  coordination  and  communication  around\\nresponsibilities of each actors impacts the management of mangrove forests,\\nnatural resources and territorial development. \\n6 Muhammad Ilmana,b, Paul Darguscha, Peter Dartc, Onrizal - A historical analysis of the \\ndrivers of loss and degradation of Indonesia’s mangroves, 2016.'), Document(metadata={'source': './data/PROJECT DOCUMENT MAHAKAM 2023-2025_balise.pdf', 'page': 17}, page_content='\\nAnother issue that has also had a major impact on life in Indonesia, including\\nEast Kalimantan, is the Covid 19 global pandemic that has attacked the\\nentire world since early 2020.  The  Covid 19 pandemic has had a major\\nimpact on life in Indonesia. East Kalimantan is a province outside Java Island\\nwith  the  highest  rate  of  exposure  to  Covid,  which  has  resulted  in  the\\ngovernment imposing a lockdown and restrictions on community activities.\\nAt the beginning of 2022, community activities began to return to normal,\\nbut a new variant emerged, namely Omicron, which spread very quickly.\\nFacing a pandemic situation that has not ended, of course, the project must\\ncontinue  but  still  pay  attention  to  security,  safety,  and  practice  health\\nprotocols.\\n3. Strategy & theory of change\\nThe  three  years  project  aims  to  contribute  to  restore  the  degraded  of\\nmangrove  ecosystem  in  Production  Forest  (Mahakamm  Delta)  and\\nConservation area (Adang Bay). In doing so, the project will address the key\\nproblems in those regions: \\na. Lack  of  awareness  of  local  people  on  mangrove  ecosystem,\\nbiodiversity issue and waste\\nb. Huge area of degraded mangrove forest which affect the resilience of\\nlocal  people  in  facing  climate  change,  the  habitat  of  endangered\\nspecies and local economy;\\nc. Lack of alternative sustainable livelihood in coastal area;\\nd. Poor  governance  particularly  on  mangrove  ecosystem  and  its\\nenvironmental and economy issue.   \\nTo overcome those problems, Planet Urgence and its partners will work by\\nimplementing the PU FORET strategy which rely on three components:\\n1. Restore degraded forest;\\n2. Environmental awareness;\\n3. Strengthening livelihood of local people. \\nIn addition, the involvement of local NGOs, local community and volunteer is\\nkey for the successful of the project and the sustainability the impact of the'), Document(metadata={'source': './data/PROJECT DOCUMENT MAHAKAM 2023-2025_balise.pdf', 'page': 17, 'score': 0.39917007088661194}, page_content='To overcome those problems, Planet Urgence and its partners will work by\\nimplementing the PU FORET strategy which rely on three components:\\n1. Restore degraded forest;\\n2. Environmental awareness;\\n3. Strengthening livelihood of local people. \\nIn addition, the involvement of local NGOs, local community and volunteer is\\nkey for the successful of the project and the sustainability the impact of the\\nproject. Therefore, PU will reinforce the capacity of those local stakeholders\\nto ensure they can carry out the project activities and together achieve the\\nlong-term goal of the project. \\nDiagram of the theory of change can be seen below or in this link  Proyek\\nNEW MAHAKAM 2023-2026 -TOC - 3.xlsx'), Document(metadata={'source': './data/PROJECT DOCUMENT MAHAKAM 2023-2025_balise.pdf', 'page': 18}, page_content='\\nFeature 3. Theory of Change\\n4. Beneficiaries\\nNumber of direct beneficiaries of the pilot project: 3245 people with the\\nproportion of 30% women and 70% men. \\nNumber of indirect beneficiaries: 3000 people by assuming at least the\\nproject will give benefit indirectly to 1500 people per location including in\\nEast Kalimantan and Indonesia.\\nThe target groups include: \\n- School children (primary schools and secondary schools)\\n- Teachers (primary school teachers)'), Document(metadata={'source': './data/PROJECT DOCUMENT MAHAKAM 2023-2025_balise.pdf', 'page': 19}, page_content='\\n- Community members (villagers, consists of fish farmers, women group,\\nand youth)\\n- Village officials\\n- Stakeholders  from  various  institutions  (government  institutions,\\nuniversities, and non-government organizations)\\n- Public audience in general (reached by Media) \\n Other potential groups: \\n- High school and university students\\n- Environmental activists\\n5. Location\\nThe location of the project is in Paser District (Adang Bay village) and Kutai\\nKartanegara district (Delta Mahakam) East Kalimantan Province. The location\\nof project is nearby the new capital of Indonesia which is in the Penajam\\nPaser Utara (around 130-160 km)\\nFeature 4: Site intervention New Mahakam Project\\n6. Expected  results,  planned  activities  &  required\\nresources'), Document(metadata={'source': './data/PROJECT DOCUMENT MAHAKAM 2023-2025_balise.pdf', 'page': 20}, page_content=\"\\n\\uf0b7 GOAL  :  Contribute to restoring the degraded mangrove forest in East\\nKalimantan  (Delta  Mahakam-Delta  Mahakam  and  Adang  Bay-Adang\\nBay as home of endemic and endangered species including proboscis\\nmonkey and key ecosystem to mitigate and to adapt the impact of\\nclimate change by strengthening the governance, planting mangrove\\ntree, improving environmental awareness and developing sustainable\\nlivelihood for local community.\\n\\uf0b7 DETAILS OF PLANNED ACTIVITIES  \\nOutput  1:  The  awareness  of  stakeholders  to  conserve  Delta\\nMahakam and Adang Bay is strengthened.  \\nAwareness raising activities in schools targeting teachers and students are\\nvery  strategic  activities  to  raise  awareness  on  the  importance  of\\nenvironmental  conservation,  especially  the  mangrove  ecosystem.  East\\nKalimantan is a province with the second largest area of mangrove forest\\nafter Papua Province, but there is very little material about mangroves in\\nschool subjects. The workshop experience with elementary school teachers\\nin Muara Jawa District in 2021 showed that schools really need knowledge\\nabout the mangrove ecosystem so that they can teach knowledge to the\\nstudents as early as possible. Campaigns and hands-on learning bring fun for\\nthe teacher and students and will be memorized for a long time.\\nActivity  1.1. Conduct  workshops  in  schools  of  East  Kalimantan\\nprovince  to  raise  awareness  on  environment  and  biodiversity\\npreservation. \\nThree sub-activities will be conducted:\\n1.1.1.  -Workshop  on  Environmental  Conservation  for  Primary  School\\nTeachers\\nThe objective of this sub-activity is to increase teachers' knowledge in the\\nfield of environmental conservation, especially the mangrove ecosystem and\\nits  biodiversity.  Furthermore,  the  teacher  will  integrate  the  subject  of\\nmangrove conservation in the subject of environmental education at school.\\nBy building the capacity of teachers, the project will promote a sustainable\"), Document(metadata={'source': './data/PROJECT DOCUMENT MAHAKAM 2023-2025_balise.pdf', 'page': 20}, page_content=\"Teachers\\nThe objective of this sub-activity is to increase teachers' knowledge in the\\nfield of environmental conservation, especially the mangrove ecosystem and\\nits  biodiversity.  Furthermore,  the  teacher  will  integrate  the  subject  of\\nmangrove conservation in the subject of environmental education at school.\\nBy building the capacity of teachers, the project will promote a sustainable\\napproach to raising awareness among students.\\n\\uf02d Participants: 25 primary school teachers in Mahakam Delta and 25\\nprimary school teachers in Adang Bay with the proportion of male (50%) and\\nfemale (50%)\\n\\uf02d Workshop  locations:  Mahakam  Delta  sub-district  Muara  Badak\\n(organized by YML & PU) and Adang Bay Subdistrict Long Ikis (Organized by\\nPokja Pesisir and PU)\\n\\uf02d The training materials include: The environment of East Kalimantan\\nProvince,  especially  the  Mahakam  Delta  and  Adang  Bay;  Mangrove\"), Document(metadata={'source': './data/PROJECT DOCUMENT MAHAKAM 2023-2025_balise.pdf', 'page': 21}, page_content='\\nEcosystem; Biodiversity in mangrove ecosystems; conservation of mangrove\\necosystems and biodiversity; making videos and learning media\\n\\uf02d Training module for one day of training/workshop developed based on\\nthe experience of implementing activities and discussed between PU, local\\npartners and educational offices and written by the PU Team\\n\\uf02d Implementation strategy: The Project Team will work closely with the\\nlocal education office in Kutai Kartanegara district and Paser district to select\\nschools to be involved in the activity.\\n1.1.2 - Campaign on Environmental Awareness to the School children\\nFor this one, the objective is to raise awareness of the young generation to\\nconserve the environment they live in.\\n\\uf02d Participants: 2 primary schools (1 in Delta Mahakam, and 1 in Adang\\nBay with the target of 100 students each school); and 2 secondary schools (1\\nin Delta MahakamDelta Mahakam, and 1 in Adang Bay Bay with the target of\\n75 students each school)\\n\\uf02d Location: in Delta Mahakam conducted by YML, and in Adang Bay,\\nPaser  conducted  by  Pokja  Pesisir.  Each  of  partner  will  be  supported  by\\nvolunteer from college students\\n\\uf02d Materials: Introduction to mangrove ecosystem, getting to know the\\nenvironment we live  in, environment  conservation, visiting nurseries and\\nplanting trees.\\n\\uf02d Methods and media: learning with fun and using local materials, for\\nexample sample of mangrove species, mangrove fruit etc. and use more\\npictures and video.\\n\\uf02d Strategy of implementation: Collaboration with the schools and the\\nSub-district Office of Education\\nActivity  1.2. Support  Adiwiyata  School  (Green  School)  in  Delta\\nMahakam\\n1.2.1 -Encouraging/assisting schools towards adiwiyata in Mahakam Delta\\n\\uf02d For this one, the objective is to assist the schools in Mahakam Delta to\\nget  label  adiwiyata  schools  (adiwiyata  program)  to  implement\\nenvironment education and establish green scholl (physically)'), Document(metadata={'source': './data/PROJECT DOCUMENT MAHAKAM 2023-2025_balise.pdf', 'page': 21}, page_content='Sub-district Office of Education\\nActivity  1.2. Support  Adiwiyata  School  (Green  School)  in  Delta\\nMahakam\\n1.2.1 -Encouraging/assisting schools towards adiwiyata in Mahakam Delta\\n\\uf02d For this one, the objective is to assist the schools in Mahakam Delta to\\nget  label  adiwiyata  schools  (adiwiyata  program)  to  implement\\nenvironment education and establish green scholl (physically)\\n\\uf02d Participants: 1 school (Adiwiyata schoo) in Mahakam delta\\n\\uf02d Location: in Delta Mahakam conducted by YML\\n\\uf02d Materials: environment-based curriculum, draft school policy related\\nenvironment, and others item (according to school needs)\\n\\uf02d Methods and media: Established MoU between YML and schools and\\nregular meeting conducted\\n\\uf02d Strategy of implementation: Collaboration with the schools and the\\nSub-district Office of Education.'), Document(metadata={'source': './data/PROJECT DOCUMENT MAHAKAM 2023-2025_balise.pdf', 'page': 22}, page_content=\"\\nActivity  1.3.  Conduct  public  awareness  campaigns  to  sensitize\\ncommunities  in  East  Kalimantan  province  to  the  ecological,\\neconomic and climatic benefits of the mangrove.\\nEast  Kalimantan  Province  has  the  second  largest  mangrove  forest  in\\nIndonesia, but the knowledge and understanding of the community is still\\nlacking about this very useful mangrove ecosystem. When viewed in the\\nmedia and in the study program at universities, terrestrial forests receive\\nmore  attention  than  mangrove  forests.  Public  campaign  is  needed  to\\nincrease public awareness in general that East Kalimantan Province has an\\necosystem  that  is  rich  in  benefits  and  needs  to  be  maintained  and\\nsafeguarded  together.  Maintaining  the  mangrove  ecosystem  in  East\\nKalimantan is even more relevant because, starting in 2022, Indonesia will\\nmove the country's capital to East Kalimantan Province. The movement of\\nthe state capital will increase the mobility of the population and will increase\\nthe pressure on the environment.\\n1.3.1. Waste Management Campaign\\nThere  are  intervention  villages  where  have  habit  to  throw  away  their\\ngarbage under their floating house. The objective of this campaign is to\\nincrease  awareness  to  the  local  community  about  waste  management\\nproperly. There is a link between their bad habits and the environment; when\\nthe tide arrives, the trash is washed away and accumulates in the roots of\\nthe mangroves, which results in the death of the mangrove plants. Apart of\\nthat,  littering  under  their  floating  house  make  environment  of  local\\ncommunity becomes dirty.\\n\\uf02d Target: 100 persons local community involved\\n\\uf02d Location:  Village  Muara  Adang  and  Pondong  Baru  in  Adang  Bay\\nlandscape\\n\\uf02d Methods: \\na. Religion approach through Conservation Lecture (Dai Konservasi)\\nand will utilize friday prayers moment and other islamic holiday \\nb. Health approach involved medical staff or public health office\"), Document(metadata={'source': './data/PROJECT DOCUMENT MAHAKAM 2023-2025_balise.pdf', 'page': 22}, page_content='community becomes dirty.\\n\\uf02d Target: 100 persons local community involved\\n\\uf02d Location:  Village  Muara  Adang  and  Pondong  Baru  in  Adang  Bay\\nlandscape\\n\\uf02d Methods: \\na. Religion approach through Conservation Lecture (Dai Konservasi)\\nand will utilize friday prayers moment and other islamic holiday \\nb. Health approach involved medical staff or public health office\\nc. Village Cleanliness Competition in celebrating Independence Day\\nor other moment\\n\\uf02d Strategy  of  implementation:  Collaborating  with  prominent  islamic\\nreligion leaders, public health offices, youth and village government\\n1  .3.2 Book publication  \\nA writing competition will be organised with the theme “Local wisdom in\\nrelation to the mangrove ecosystem and nasal monkey (proboscis monkey)\\nconservation”. The participant’s writing will be compiled to be published.\\n\\uf02d Target: the project will publish 100 copies. \\n\\uf02d Location: Organized from Samarinda by PU. \\n\\uf02d Content/Topic: Writing competition with the THEME: “Local wisdom in\\nrelation  to  the  mangrove  ecosystem  and  nasal  monkey  (proboscis\\nmonkey) conservation”.'), Document(metadata={'source': './data/PROJECT DOCUMENT MAHAKAM 2023-2025_balise.pdf', 'page': 23}, page_content='\\n\\uf02d Methods  and  media:  Book  publication  published  by  registered\\npublisher completed with ISBN (International Serial Book Number).\\n\\uf02d Strategy of implementation: Collaboration with the literacy activist in\\nKutai Kartanegara District.\\n1.3.3 Environmental Campaign for public with billboard\\nThe main goal of this sub-activity is to raise environmental awareness among\\nmore  people  by  posting  messages  on  billboards  strategically  placed\\nthroughout the community.\\n\\uf02d Target: public in general \\n\\uf02d Location: Delta Mahakam by YML and Adang Bay/Long Ikis by POKJA\\nPesisir.\\n\\uf02d Content/Topic:  Simple  message  to  be  discussed.  For  example,  “To\\nSave Mangrove is to Save Us”\\n\\uf02d Methods  and  media:  Billboard  made  of  metal  materials  that  is\\nestimated can last for at least 4 years.\\n\\uf02d Strategy of implementation: Coordination with local authority for tax\\nexemption if possible since the billboards have non-profit purpose7.\\n1.3.4 Public Campaign Awareness through Media\\nObjective: To reach more people on environment awareness by reporting the\\nproject activities through online media and offline media in East Kalimantan\\nProvince.  \\n\\uf02d Target: public in East Kalimantan Province in general\\n\\uf02d Location: Samarinda\\n\\uf02d Content/Topic: news or feature of the project activities to be posted on\\nonline media and offline media in East Kalimantan Province\\n\\uf02d Methods and media: PU and implementing partners will collaborate\\nwith  the  local  online/offline  media  such  as  “kaltimkece.id”  and\\nhttps://kaltim.tribunnews.com/\\n\\uf02d Strategy of implementation: PU will assist, encourage and facilitate\\nimplementing partners to coordinate actively with online local media\\nwhich has big number of subscribers or viewers. \\nOutput 2: 300 ha area of degraded mangrove forest are restored by\\nplanting 800.000 of mangrove tree.\\nRehabilitation of degraded mangrove forests is the main activity of this project. The'), Document(metadata={'source': './data/PROJECT DOCUMENT MAHAKAM 2023-2025_balise.pdf', 'page': 23}, page_content='\\uf02d Strategy of implementation: PU will assist, encourage and facilitate\\nimplementing partners to coordinate actively with online local media\\nwhich has big number of subscribers or viewers. \\nOutput 2: 300 ha area of degraded mangrove forest are restored by\\nplanting 800.000 of mangrove tree.\\nRehabilitation of degraded mangrove forests is the main activity of this project. The \\nMahakam Delta and the east coast of East Kalimantan are areas that are naturally \\novergrown with mangrove vegetation, but currently many have been converted for \\nsettlements, industry and aquaculture ponds. Mangrove planting in degraded areas \\nand in ponds is important because it will contribute to restoring the function of the \\nmangrove ecosystem and improving environmental quality.  \\n7 In general, a local tax will be imposed on profit-oriented billboards.'), Document(metadata={'source': './data/PROJECT DOCUMENT MAHAKAM 2023-2025_balise.pdf', 'page': 24}, page_content='\\nActivity 2.1. Pres-assessment study on land suitability \\nOne  of  the  main  recommendations  made  by  the  consultants  during  the\\nevaluation of the Mahakam Delta projects from 2017 to 2021 was to conduct\\na  study on  land  suitability  (soil  and  water  characteristics)  for  mangrove\\nreforestation. We conducted these studies for the intervention areas during\\nthe pilot phase of the project in 2022. To ensure the long-term viability of the\\nplantations, the objective would be to implement this strategy for all future\\nand new project intervention areas during the 3 years project. \\n\\uf02d Target: locations of plantation plot. \\n\\uf02d Location: Delta Mahakam (aquaculture pond and coastal area) by YML,\\nMuara  Jawa  (coastal  area),  and  Adang  Bay  (aquaculture  pond  and\\nriparian/coastal area) \\n\\uf02d Content/Topic:  soil  and  substrate  analysis  and  endemic/local  tree\\nspecies analysis\\n\\uf02d Methods and media: Desk study, Field work, laboratory analysis and\\nreport writing\\n\\uf02d Strategy of implementation: \\na. Hire consultant team with the available budget\\nb. Involve the community representative and the local partner during the\\nfield work\\nActivity 2.2. Ensure establishment and management of community-\\nbased nurseries\\n2.2.1 Establishment of community-based nurseries \\n The objective is to have the tree seedlings locally and on time, as planned\\nby the community.\\n\\uf02d Target: 3 nurseries in 3 villages/locations, 60 people involved in the\\nseedling preparation in the nurseries.\\n\\uf02d Location: Delta Mahakam organized by YML and local community and\\nAdang Bay organized by POKJA Pesisir and local community8. \\n\\uf02d Content/Topic:  70,000  mangrove  trees  in  Delta  Mahakam,  80,000\\nmangrove trees in Adang Bay, Paser. \\n\\uf02d Methods and media: Technical assistance by Project staffs\\n\\uf02d Strategy of implementation: Collaboration with village officials and give\\nmore responsibility to the local people.\\n2.2.2 Maintenance of the nurseries \\n8 The location in general:'), Document(metadata={'source': './data/PROJECT DOCUMENT MAHAKAM 2023-2025_balise.pdf', 'page': 24}, page_content='\\uf02d Content/Topic:  70,000  mangrove  trees  in  Delta  Mahakam,  80,000\\nmangrove trees in Adang Bay, Paser. \\n\\uf02d Methods and media: Technical assistance by Project staffs\\n\\uf02d Strategy of implementation: Collaboration with village officials and give\\nmore responsibility to the local people.\\n2.2.2 Maintenance of the nurseries \\n8 The location in general:\\n1.  Delta Mahakam with 2 nurseries in: \\n(1) Delta Mahakam Ulu with 40,000 trees, will be planted in fish pond \\n(2) Tanjung Limau with 30,000 trees, will be planted in coastal area. \\nThe community group working in this reforestation is the same group \\n2. Adang Bay Village, 1 nursery, 80,000 trees will be planted 40,000 in fish pond, and \\n40,000 in coastal and riparian'), Document(metadata={'source': './data/PROJECT DOCUMENT MAHAKAM 2023-2025_balise.pdf', 'page': 25}, page_content='\\nThe goal is to have high-quality tree seedlings.\\n\\uf02d Target: 3 nurseries in 3 villages/locations, with the total of 150,000\\ntrees seedlings.\\n\\uf02d Location: Delta Mahakam (supervised by YML), and Adang Bay, Paser\\nsupervised by POKJA Pesisir. \\n\\uf02d Description of activity: Maintaining the tree seedling in the nursery and\\nreplace the dead seedlings with the new ones. \\n\\uf02d Methods and media: Regular maintenance by local people \\n\\uf02d Strategy of implementation: Recruiting local villager(s) to be assigned\\nfor nursery maintenance.\\nActivity 2.3. Identify and prepare planting locations, and train local\\ncommunity  members  to  mangrove  restoration,  and  conduct  tree\\nplanting.\\n2.3.1 Survey of planting locations\\nThe objective is to have secured land for the tree plantation. \\n\\uf02d Target: at least 5 plots/parcels9 in the 3 villages. \\n\\uf02d Location: Delta Mahakam and Adang Bay, Paser. \\n\\uf02d Description of activity: \\na. Coordination with the local authority regarding the status of the\\nland: visit and discussion with KPHP, BKSDA, village government\\nand relevant local agencies in order to share with them the location\\nof the plantation sites and identify the status of land (forest / non\\nforest area, ownership)\\nb. Initial proposal of the plantation plots proposed by the villagers\\nc. Field visit to check the land condition and the time is synchronized\\nwith  the  consultant  of  the  land  suitability  survey  to  visit  the\\nlocation.\\n\\uf02d Methods and media: Field visit, check the location in relation to the\\naccessibility and observation of the local natural tree species in the\\nlocations \\n\\uf02d Strategy  of  implementation:  Synchronized  the  activity  with  the\\nschedule  of  the  consultant  and  using  the  existing  maps  of  the\\nlocations.\\n2.3.2 Training on Mangrove Reforestation\\n9 We consider Delta Mahakam as ONE Project Location, organized by YML with one\\nCommunity Group (the member of group comes from different villages, based on'), Document(metadata={'source': './data/PROJECT DOCUMENT MAHAKAM 2023-2025_balise.pdf', 'page': 25}, page_content='locations \\n\\uf02d Strategy  of  implementation:  Synchronized  the  activity  with  the\\nschedule  of  the  consultant  and  using  the  existing  maps  of  the\\nlocations.\\n2.3.2 Training on Mangrove Reforestation\\n9 We consider Delta Mahakam as ONE Project Location, organized by YML with one\\nCommunity Group (the member of group comes from different villages, based on \\nthe fish pond ownership in a one big area.\\nTree planting will be conducted in (1) Delta Mahakam Ulu village, and (2) Tanjung \\nLimau Village - and they are neighboring villages. \\nWe can say : Target: at least 5 plots/parcels in the 2 project locations (i.e. Delta Mahakam \\nand Adang Bay).'), Document(metadata={'source': './data/PROJECT DOCUMENT MAHAKAM 2023-2025_balise.pdf', 'page': 26}, page_content='\\nThe  objective  is  to  increase  the  knowledge  of  the  local  community  in\\nimplementing mangrove reforestation project.\\n\\uf02d Target: 60 local communities in the 3 villages10. \\n\\uf02d Trainers/facilitator: the team of PU, YML and POKJA Pesisir.\\n\\uf02d Location: Delta Mahakam and Adang Bay, Paser. \\n\\uf02d Materials: \\na. Introduction of the mangrove ecosystems and its importance\\nb. Getting to know the type of mangrove species and its characteristic\\nc. Seed and propagule selection\\nd. Nursery preparation \\ne. Seedling the propagules in the nursery\\nf. Techniques of mangrove tree planting.\\n\\uf02d Methods and media: PowerPoint presentation, propagule/seedlings. \\n\\uf02d Strategy of implementation: coordination with the village officials and\\ncommunity leaders.\\n2.3.3 Tree planting\\nObjective: To reforest the dedicated plantation plots. \\n\\uf02d Target of tree planting\\nTable 3 *\\nLocation Number of trees\\n1st Year 2nd Year 3rd Year\\nMahakam Delta 300.000 trees\\n                  75,\\n000 \\n                 125,00\\n0 \\n                 100,\\n000 \\n-Direct method\\n                  22,\\n500 \\n                   37,50\\n0 \\n                   30,\\n000 \\n-Indirect method\\n                  52,\\n500 \\n                   87,50\\n0 \\n                   70,\\n000 \\n \\nAdang Bay 505.000 trees\\n                155,\\n000 \\n                 200,00\\n0 \\n                 150,\\n000 \\n-Direct method\\n                  50,\\n000 \\n                   60,00\\n0 \\n                   45,\\n000 \\n-Indirect method\\n                105,\\n000 \\n                 140,00\\n0 \\n                 105,\\n000 \\n10 60 people joining training, but the total number of people involved in the tree \\nplanting is expected to be 100 (in the 2 project locations)\\n(1) DELTA MAHAKAM (planting location 1 = Delta Mahakam Ulu, planting location\\n2 = Tanjung Limau)\\n(2) ADANG BAY'), Document(metadata={'source': './data/PROJECT DOCUMENT MAHAKAM 2023-2025_balise.pdf', 'page': 27}, page_content=\"\\n \\nArea planted in aquaculture \\npond (ha) \\n                    7\\n2.50 \\n                     97.5\\n0 \\n                     75\\n.00 \\nArea planted in coastal area \\n(ha) \\n1.0 2 1.5\\nArea planted in riparian (ha)                     1\\n4.75 \\n                     20.7\\n5 \\n \\n16 \\nArea (ha)                     8\\n8.25 \\n                   120.2\\n5 \\n                     92\\n.50 \\nTotal Area (ha)  \\n301 \\nTable 3 *\\n\\uf02d Target of tree planter is 60 local communities in the 3 villages.\\n\\uf02d Methods and media: organizing the community in tree planting. \\n\\uf02d Strategy of implementation: work with the local people\\n\\uf02d The  tree  planting  process  is  carried  out  together  with  the  local\\ncommunity,  starting  from  the  process  of  selecting  planting  sites,\\ncollecting  seeds,  seedling  process  in  the  nursery,  maintaining  the\\nnursery  to  planting  and  monitoring.  The  steps  for  community\\ninvolvement are carried out in stages: \\na. Dissemination of information to community members who wish to \\nbe involved in mangrove planting projects, including tree planting \\ncosts. \\nb. In each location the group leader is selected to organize the \\ncommunity in planting and assigning tasks to care for the nursery. \\nc. Extension training on mangrove reforestation for communities \\ninvolved in tree planting \\nd. Collecting mangrove seedlings based on recommendations from \\nconsultants. \\ne. Making a nursery by the community led by the group leader \\nf. Conduct seedling maintenance arranged by the group leader \\n\\uf02d Tree  planting  according  to  schedule  with  supervision  from  local\\npartners\\nActivity  2.4. Participatory  Monitoring  Training  and  ensure  the\\nmonitoring and protection of targeted mangrove areas\\n2.4.1 Participatory Monitoring Training on Tree monitoring\\nThe goal of this sub-activity is to increase the participants' knowledge of tree\\nmonitoring. PU is currently developing a tool to track indicators related to the\"), Document(metadata={'source': './data/PROJECT DOCUMENT MAHAKAM 2023-2025_balise.pdf', 'page': 28}, page_content='\\nFORET  program  (monitoring  of  plantations,  monitoring  of  other  socio-\\neconomic indicators). \\n\\uf02d Target: 6 local people in the 3 villages. \\n\\uf02d Trainers/facilitators:  Android  based  Application  developer11Location:\\nDelta Mahakam and Adang Bay, Paser. \\n\\uf02d Materials: \\na. Introduction of monitoring system\\nb. Tree monitoring by using application in Android \\nc. Practical in the field (hands-on experience)\\nd. Tree monitoring planning\\n\\uf02d Methods and media: PowerPoint presentation, demonstration, android-\\nbased cellular phone. \\n2.4.2 Implementation of the tree monitoring \\nThe objective is to have valid information on the survival rate of the tree\\nplanted.\\n\\uf02d Target: 6 local people in the 3 villages and the local partners involved\\nin the process.\\n\\uf02d Location: Delta Mahakam (2 times for tree of 2020/2021 and 2022) and\\nAdang Bay, Paser (1 time for the tree of 2022). \\n\\uf02d Materials: \\na. GPS and android cellular phone\\nb. Tree monitoring matrix\\n\\uf02d Methods and media: field trip directly to the location\\n\\uf02d Strategy of implementation: empower the local people to do the tree\\nmonitoring.\\nActivity 2.5. Conduct Biodiversity Research to find out the linkage of\\nrehabilitated degraded mangrove & the biodiversity\\nThe goal of this activity is to collect the baseline data of biodiversity \\nparticularly endangered species such as Proboscis monkey (Nasalis larvatus) \\nin the intervention area of project. According to Triatmoko et.al, 2007 the \\npopulation of proboscis monkey in east Kalimantan decreased 50% from \\n1985-1995 due to the habitat conversion from forest to agri/aquaculture, \\nmining and water transportation activity. If this condition is allowed and \\nthere is no conservation effort, the population of proboscis monkey will \\ndecrease from year to year. Planting mangrove in the degraded area could \\nbe restore the species habitat. In the end of project, we will measure the \\nimpact of planting activity to the number of biodiverisity (either increased or'), Document(metadata={'source': './data/PROJECT DOCUMENT MAHAKAM 2023-2025_balise.pdf', 'page': 28}, page_content='mining and water transportation activity. If this condition is allowed and \\nthere is no conservation effort, the population of proboscis monkey will \\ndecrease from year to year. Planting mangrove in the degraded area could \\nbe restore the species habitat. In the end of project, we will measure the \\nimpact of planting activity to the number of biodiverisity (either increased or \\nno direct linkage)\\n\\uf02d Target: Identify and collected databese of number of group & \\npopulation Proboscis monkey (Nasalis larvatus) in each of intervention \\narea\\n\\uf02d Locations: \\n11 This will wait for futher information from the implementation of Wildsense, but in the \\nmeantime the project will develop and improve the indicators to be reported and the \\nexisting monitoring arrangements.'), Document(metadata={'source': './data/PROJECT DOCUMENT MAHAKAM 2023-2025_balise.pdf', 'page': 29}, page_content='\\na. Delta Mahakam – Muara Pintuan\\nb. Adang Bay – Muara Adang\\n\\uf02d Materials: \\na. GPS\\nb. Camera\\nc. Drone (optional)\\nd. Tally sheet\\n\\uf02d Methods: \\na. Literature study\\nb. Direct observation in area targeted\\n\\uf02d Strategy of implementation: Hire biodiversity consultant and involving \\nthe partner staf/local community to join monitoring in the field.\\nOutput 3. Alternative sustainable livelihoods in Delta Mahakam and\\nAdang  Bay  are  available,  improved  and  shared  to  other  key\\nstakeholders in the region. \\nUnsustainable  livelihood,  particularly  aquaculture  has  degraded  the\\nmangrove  forest in Delta Mahakam and Adang Bay. The output aims to\\nintroduce and promote sustainable aquaculture in the region to improve the\\nproduction of aquaculture in current ponds as well as improve the skill of\\nwomen group in managing their business and family income.\\nActivity  3.1.  Establish  demonstration  plots  for  sustainable\\naquaculture (sustainable ponds and sylvo fishery models)\\n3.1.1 Support of practice on sustainable aquaculture pond\\nThe objective here is to promote the practice of sustainable aquaculture \\n\\uf02d Target: 40 ha of the aquaculture pond (20 ha in Delta Mahakam, and\\n20 ha in Adang Bay) \\n\\uf02d Facilitator for discussion: Achmad Nuriyawan (YML Director) and local\\npartner staff.\\n\\uf02d Location: Delta Mahakam and Adang Bay, Paser. \\n\\uf02d Materials: \\na. Introduction of sustainable aquaculture\\nb. The practical way for the management of sustainable aquaculture \\nc. Support  of  the  production  material  (baby  shrimp  and  organic\\nfertilizer)\\n\\uf02d Strategy of implementation: collaboration with the Office of Marine and\\nFisheries.'), Document(metadata={'source': './data/PROJECT DOCUMENT MAHAKAM 2023-2025_balise.pdf', 'page': 30}, page_content='\\nActivity 3.2.  Train community groups particularly women group on\\nthe financial management and product marketing.\\n3.2.1  Training  and  assistance  on  financial  management  and  product\\nmarketing\\nThis activity was maintained among the many other support activities for the\\ngenerative activities of local communities that were carried out last year\\nbecause of its relevance to the context of landlocked areas.\\nThey are having difficulty selling their aquaculture products. So, the project\\nwill more focus on women group by assisting them in marketing the product\\nto the wider consumers and managing their income. \\n\\uf02d Target: 40 women (20 Delta Mahakam, and 20 in Adang Bay) \\n\\uf02d Facilitator  for  training:  Trainer  from  the  Micro  and  Small  Business\\nEnterprise Development (Government Agency) and assisted by local\\npartner staff.\\n\\uf02d Location: Delta Mahakam and Adang Bay, Paser. \\n\\uf02d Materials: \\na. Principle of the product marketing\\nb. Pricing, Differentiation, and Branding\\nc. Marketing Channels\\nd. To be determined later\\n\\uf02d Methods: participatory training and hands-on experience\\n\\uf02d Strategy of implementation: collaboration with the Office of Micro and\\nSmall  Business  Development  Office,  recruiting  the  existing  micro\\nbusiness practitioner in the village.\\nOutput 4. The sustainable coastal governance in Delta Mahakam\\nand Adang Bay are strengthened\\nThe presence of new capital nearby the Delta Mahakam and Adang Bay likely effect \\nthe environmental and economics of local livelihood. To prevent the negative affect,\\nthe current coastal governance needs to be improved by involving the stakeholders \\nin the region in the process. The FPIC to the villagers is to promote elements of \\nbetter governance in the project locations: transparency of the project and the \\ninvolvement of local people in shaping project activities and impact.  \\nActivity 4.1. Facilitate coordination meeting among Mahakam Delta\\nand Adang Bay’s actors to synergize the program'), Document(metadata={'source': './data/PROJECT DOCUMENT MAHAKAM 2023-2025_balise.pdf', 'page': 30}, page_content='in the region in the process. The FPIC to the villagers is to promote elements of \\nbetter governance in the project locations: transparency of the project and the \\ninvolvement of local people in shaping project activities and impact.  \\nActivity 4.1. Facilitate coordination meeting among Mahakam Delta\\nand Adang Bay’s actors to synergize the program\\nThe  main  activity  here  is  to  organise  a  coordination  meeting  with  key\\nstakeholders and NGOs who works in Mahakam Delta and Adang Bay to\\nidentify  the  program,  site  intervention  and  filling  the  gap  to  support\\ngovernment program. \\n\\uf02d Target:  1  coordination  meeting  involved  all  NGO’s  and  actors  who\\nworks in Mahakam Delta and Adang Bay Landscape particularly related\\nwith the restoration area.\\n\\uf02d Facilitator for meeting: Organized by PU through offline meeting'), Document(metadata={'source': './data/PROJECT DOCUMENT MAHAKAM 2023-2025_balise.pdf', 'page': 31}, page_content=\"\\n\\uf02d Location: Samarinda and Balikpapan.\\n\\uf02d Methods: offline meeting\\n\\uf02d Strategy of implementation: Collaboration  with Mahakam Delta and\\nAdang Bay authority. The government will invite the NGOs, PU will\\ndevelop ToR.\\n\\uf02d Output:  a  map  of  project  spots  of  each  actor  with  reforestation\\ninformation:  the  number  of  trees,  the  size  of  area,  supporting\\nactivities,  the  period  of  project,  the  monitoring  activities,  the  local\\ncommunity  partner  and  others.  And,  a  map  of  rehabilitation  area\\nwithout any intervention/project. \\nActivity 4.2. Conduct FPIC (Free, Prior and Informed Consent) to the\\nvillagers and village government regarding the activities, potential\\nbenefit and impact of the project.\\nFPIC (Free, Prior, and Informed Consent) clearly informs local communities\\nabout the project's expected results in order to obtain their prior agreement\\nbefore the project is implemented.\\nIt also helps to explain how the project will help the village achieve the World\\nBank FCPF/REDD+ project objectives which are government projects.\\n\\uf02d Target:  village  officials,  sub-village  representatives,  community\\nrepresentative (youth group, women, men) \\n\\uf02d Facilitator for training: Local partner and PU  \\n\\uf02d Location: Delta Mahakam Ulu and Adang Bay (Paser).  \\n\\uf02d Methods: semi-formal meeting in the village or sub village meeting \\n\\uf02d Strategy  of  implementation:  prior  communication  with  the  village\\nofficials and community representatives/figures.\\nActivity  4.3.  Conduct  Expose  with Key Stakeholders  in Mahakam\\nDelta and Adang Bay\\nThe objective of this activity is to deliver the program achievement each,\\ncollect the input for improvement for next year project from stakeholders.\\n\\uf02d Target:  Workshop  meeting  involved  key  stakeholders  (The  Nature\\nConservation  Agency,  The  Provincial  environment  and  Forestry\\nservices, Forest Management Unit)  \\n\\uf02d Methods: FGD Meeting \\n\\uf02d Location: Samarinda\"), Document(metadata={'source': './data/PROJECT DOCUMENT MAHAKAM 2023-2025_balise.pdf', 'page': 31}, page_content='Delta and Adang Bay\\nThe objective of this activity is to deliver the program achievement each,\\ncollect the input for improvement for next year project from stakeholders.\\n\\uf02d Target:  Workshop  meeting  involved  key  stakeholders  (The  Nature\\nConservation  Agency,  The  Provincial  environment  and  Forestry\\nservices, Forest Management Unit)  \\n\\uf02d Methods: FGD Meeting \\n\\uf02d Location: Samarinda\\n\\uf02d Facilitator for meeting: Organized by PU and Partner\\n\\uf02d Strategy of implementation: Focus Group Discussion\\nMAIN REQUIRED RESOURCES\\nHuman Resources (from implementing partners):\\xa0\\xa0\\xa0\\nYayasan Mangrove Lestari (YML)'), Document(metadata={'source': './data/PROJECT DOCUMENT MAHAKAM 2023-2025_balise.pdf', 'page': 32}, page_content='\\n\\uf0b7 1 Project Director\\n\\uf0b7 2 Project Officers\\n\\uf0b7 1 Finance and administration officer\\nPOKJA Pesisir\\n\\uf0b7 1 Project Director\\n\\uf0b7 2 Project Officers\\n\\uf0b7 1 Finance and administration officer\\nHuman resources (from PU Indonesia/Yayasan Planet Urgensi Indonesia):\\n\\uf0b7 1 Project Director (PU Indo National Delegate)\\n\\uf0b7 1 Project Coordinator \\n\\uf0b7 1  Raising  Awareness  and  Knowledge  Management  Officer  (PU  Indo\\nCommunication Staff)\\n\\uf0b7 1 Finance and administration Officer\\nOffices (location):\\n\\uf0b7 Office of YML : in Samarinda with field secretariate in Delta Mahakam\\n\\uf0b7 Office of POKJA Pesisir : Balikpapan City with field secretariate in Adang\\nBay\\n\\uf0b7 Office of PU Indonesia : Samarinda\\nMaterial Resources needed for the project:\\n\\uf0b7 Computer\\n\\uf0b7 GPS, Mobile Phones\\n\\uf0b7 Transportation means (car, motorcycle, and boat as needed)'), Document(metadata={'source': './data/PROJECT DOCUMENT MAHAKAM 2023-2025_balise.pdf', 'page': 33}, page_content='\\n7. Partnerships\\nImplementing partners: Planète Urgence will partner with two local NGOs:\\nPokja Pesisir and YML, both Indonesian foundations. In Adang Bay, Planète\\nUrgence  will  work  in  close  collaboration  with  Pokja  Pesisir  (Coastal\\nManagement Working Group), an Indonesian foundation based in Balikpapan,\\nwhich focuses its action on coastal management and its community. Pokja\\nPesisir  has  extensive  experience  in  empowering  coastal  community,\\nadvocacy coastal management and improving spatial plan of coastal area in\\nthe southern part of East Kalimantan. This is the second cooperation project\\nbetween PU and Pokja Pesisir after the pilot phase that conducted in 2022.\\nIn Delta Mahakam, Planète Urgence will work in a close collaboration with\\nthe Yayasan Mangrove Lestari Delta Mahakam (YML) which cooperation has\\nstarted with Planète Urgence at the end of 2nd term of year 2012 (period of\\nOctober-December) with a focus on mapping the Mahakam Delta region, as a\\ntool  for  preparing  a  joint  action  plan  in  2013.  Furthermore,  the\\nimplementation of joint program in 2013 included reforestation activities,\\naccess to micro-credit for community groups, capacity building of community\\ngroups (male and female groups) and program coordination at the district\\nlevel together with BAPPEDA (Agency for Regional Development) of Kutai\\nKartanegara District and several other regional organizations. Designing and\\ncarrying  out the  activities  integrating through  MADIMAP (Mahakam Delta\\nIntegrative  Management  Program)  for  the  period  of  2014  to  2016  and\\nJanuary - March 2017 with the main funding from Trafigura Foundation. In\\n2019 until 2021, YML and Planète Urgence again collaborated in large-scale\\nawareness-raising  activities  (radio  podcasts)  related  to  the  protection  of\\nmangrove  forests  and  their  biodiversity,  as  well  as  to  promote  the\\nsustainable aquaculture in the region.'), Document(metadata={'source': './data/PROJECT DOCUMENT MAHAKAM 2023-2025_balise.pdf', 'page': 33}, page_content='January - March 2017 with the main funding from Trafigura Foundation. In\\n2019 until 2021, YML and Planète Urgence again collaborated in large-scale\\nawareness-raising  activities  (radio  podcasts)  related  to  the  protection  of\\nmangrove  forests  and  their  biodiversity,  as  well  as  to  promote  the\\nsustainable aquaculture in the region.\\nFeature 5. Rehabilitation target area in New Mahakam Project\\nExpected  capacity  building  of  implementing  partners: To  support\\nPokja Pesisir and YML in implementing the activities, Planète Urgence will\\ncontinuously collaborate with partners to identify capacity-building needs. \\n1. PU will provide support to YML and Pokja Pesisir in its financial and\\naccountability  reporting  of  the  MAHAKAM  project  following  PU’s'), Document(metadata={'source': './data/PROJECT DOCUMENT MAHAKAM 2023-2025_balise.pdf', 'page': 34}, page_content='\\nprocess, mainly required by donors. This training will be conferred by\\nthe Administrative and Financial staff of Planète Urgence Indonesia.\\nThe training will be done in the first two months of the project and PU\\nwill  continuously  monitor  the  impact  of  the  training  to  ensure  the\\npartner implement the PU standard.   \\n2. YML and Pokja Pesisir will also be helped in monitoring and project\\nmanagement. PU will share their experience and manual in monitoring\\nand managing the project to the partner. The transfer knowledge will\\nbe done at the beginning of the project.  \\n3. Refreshment  training  of  reforestation  project  particularly  for  Pokja\\nPesisir including technical issue such as establishing nursury, planting\\ntree, identifying location\\n4. Rapid Needs Assessment on Capacity Building to identify the needs of\\ncapacity building for the partners.\\nThe project will continuously identify further needs regarding the project or\\npartner structuration. Capacity building needs could also be supported by\\nPlanète  Urgence’s  volunteerism  programme  (if  the  organization  and  the\\nlogistic of the mission meet all required criteria). \\nCAPACITY BUILDING PLAN\\nNo Training topic\\nYear 1 Year 2 Year 3\\nS1 S2 S1 S2 S1 S2\\n1 \\nFinancial and accountability reporting of the\\nMAHAKAM project following PU’s process, \\nmainly required by donors.  \\nx x x\\n2 \\nMonitoring and project management.  x x x\\n3\\nReforestation project including the technical\\nissue:  establishing  nursery,  planting  tree,\\nmonitoring, etc.\\nx x x\\n4\\nRapid  Need  Assessment  on  Capacity\\nBuilding\\nx x x\\nTable 4 *\\nRoles  and  responsibilities: Activities  will  be  implemented  under  the\\nresponsibility of  Planète Urgence and its partners (Pokja Pesisir and YML). \\nThese partners will design, develop, implement and monitor the activities\\nunder their responsibility. Both implementing partners will play an important\\ncoordination role with partners, beneficiaries, community groups and local'), Document(metadata={'source': './data/PROJECT DOCUMENT MAHAKAM 2023-2025_balise.pdf', 'page': 34}, page_content='x x x\\nTable 4 *\\nRoles  and  responsibilities: Activities  will  be  implemented  under  the\\nresponsibility of  Planète Urgence and its partners (Pokja Pesisir and YML). \\nThese partners will design, develop, implement and monitor the activities\\nunder their responsibility. Both implementing partners will play an important\\ncoordination role with partners, beneficiaries, community groups and local\\nauthorities. Planète Urgence will support them in the project management\\nand discussions with local authorities regarding governance strategy, project\\nmonitoring  and  evaluation,  identification  of  capacity  building  needs  for'), Document(metadata={'source': './data/PROJECT DOCUMENT MAHAKAM 2023-2025_balise.pdf', 'page': 35}, page_content='\\npartners and specific project components, as well as the building of a multi-\\nyear vision (context and needs assessment and update, project scaling-up\\nand sustainability). \\nKey stakeholders: Planète Urgence also encourages YML and Pokja Pesisir to\\ncollaborate with other relevant local stakeholders from various groups such\\nas  local  community  organizations,  business  groups  and  government\\nagencies from district to national levels. \\nThe following table lists potential partners and the respective roles they\\ncould play in the NEW MAHAKAM project:\\nTable 5 * \\nKey Stakeholders Expected role in the project\\nBalai Besar Penelitian & \\nPengembangan Ekosistem \\nHutan Dipterokarpa\\nProvide  scientific  assistance  on  coastal\\nmanagement. \\nBalai Konservasi SDA \\nKalimantan Timur \\n(Nature Conservation Agency \\nof East \\nKalimantan - under the \\nsupervision of \\nthe Ministry of the Environment\\nand \\nForestry)\\nProvide access of information on the information\\nof  the  rare  and  endangered  species  of  the\\nprovince.\\nSupport  implementing  partners  by  providing\\nplanting  area  and  socio  economics  issue  in\\nAdang Bay.\\nLocal community groups\\nTechnical implementing partner \\nCommunity development facilitator \\nConservation awareness campaigner\\nRegional Council on Climate \\nChange \\nSupport  PU  in  disseminating  the  project\\nimplementation and its achievements.\\nProvide support for promoting the issue of the\\nproject.\\nProvide the state of the art of FCPF project and\\nthe  movement  of  new  capital  from  the\\nperspective of climate change and biodiversity. \\nDinas Lingkungan Hidup \\nProvinsi \\n(Provincial Agency of \\nEnvironment) at the provincial \\nand district levels.\\nProvide insight to PU for the discussion of green\\nschool (adiwiyata program), waste management\\nand cross-cutting issues\\nEducation agency at the \\nprovincial and district level\\nProvide support and policy related with green\\nschool and environmental awareness activities.\\nForestry Agency at the'), Document(metadata={'source': './data/PROJECT DOCUMENT MAHAKAM 2023-2025_balise.pdf', 'page': 35}, page_content='Provinsi \\n(Provincial Agency of \\nEnvironment) at the provincial \\nand district levels.\\nProvide insight to PU for the discussion of green\\nschool (adiwiyata program), waste management\\nand cross-cutting issues\\nEducation agency at the \\nprovincial and district level\\nProvide support and policy related with green\\nschool and environmental awareness activities.\\nForestry Agency at the \\nprovincial and district levels\\nProvide  information  about  policy  related  to\\nforestry issues \\nProvide  access  to  project  implementation  in\\nMahakam Delta production forest area\\nMarine and fishery agency at \\nthe provincial and district \\nProvide  information  about  relevant  issues,\\npolicy, and markets related to fisheries'), Document(metadata={'source': './data/PROJECT DOCUMENT MAHAKAM 2023-2025_balise.pdf', 'page': 36}, page_content='\\nlevels\\nForestry and Fishery Faculty of \\nMulawarman University \\nScientific assistance on research on forestry and\\nfisheries  including  aquaculture  issues  in\\nMahakam Delta and Adang Bay\\nKPHP Delta Mahakam\\nProvide access and political support in restoring\\nmangrove ecosystem in Mahakam Delta \\nSupport YML in securing restoration area \\nCommunicating  on  project  implementation,\\nresults and impact to MoEF and other national\\nand regional stakeholders\\nYKAN Sharing  information  and  network  support\\nparticularly the Delta Mahakam coalition.\\nVillage Government Support project implementers to perform project\\nactivities inside villages area\\nEast Kalimantan Working \\nGroup of Gender\\nSupport  project  by  providing  information  and\\nnetworks  to  discuss  gender  issue  in  East\\nKalimantan.\\nTable 5 *\\n8. Cross-cutting approaches\\nIn 2019, Planète Urgence has conducted a social analysis in Muara Kembang\\nto examine how different individuals and groups may affect the project and\\nhow the project will affect them. During this study, Planète Urgence has\\ncollected,  identified  and  analysed  information  on  the  different  roles,\\nresponsibilities, needs and interests of women and men of targeted groups in\\nMuara  Kembang  village.  To  capture  the  nuances  of  various  social\\ncharacteristics,  the  data  and  analysis  on  women  and  men  should  are\\ndisaggregated  by  social  categories  relevant  to  the  project  (e.g.,  socio-\\neconomic status, profession) during these 3 years.\\nBelow are presented the results of the socio-economic analysis of targeted\\ncommunities, with 80% of respondents. The last Gender Gap Report 2020 of\\nthe World Economic Forum has ranked Indonesia on position 86 on a total of\\n153 countries regarding gender inclusion and equality. The National Gender\\nMainstreaming Policy enacted in 2000 (through The Presidential Decree in)\\nguides the National Long-term Development Plan (RPJPN) 2005- 2025 which'), Document(metadata={'source': './data/PROJECT DOCUMENT MAHAKAM 2023-2025_balise.pdf', 'page': 36}, page_content='communities, with 80% of respondents. The last Gender Gap Report 2020 of\\nthe World Economic Forum has ranked Indonesia on position 86 on a total of\\n153 countries regarding gender inclusion and equality. The National Gender\\nMainstreaming Policy enacted in 2000 (through The Presidential Decree in)\\nguides the National Long-term Development Plan (RPJPN) 2005- 2025 which\\nconfirms the Indonesian government’s commitment to gender equality with\\nspecific laws in place and aligning the National Development Agenda with 17\\nSustainable Development Goal (SDG) #5 Gender Equality.\\nGender  and  social  equity  challenges  and  opportunities  will  be  revisited\\nperiodically throughout the NEW MAHAKAM project as a way to measure\\nprogress and ensure issues are being adequately addressed. The gender bias'), Document(metadata={'source': './data/PROJECT DOCUMENT MAHAKAM 2023-2025_balise.pdf', 'page': 37}, page_content=\"\\nis  commonly  emerged  linked  to  some  social  factors  such  as  ethnicity,\\nfaith/religion,  and  education.  Gender  refers  to  the  roles,  behaviours,\\nactivities, attributes and opportunities that any society considers appropriate\\nfor girls and boys, and women and men. \\nIn the project areas (Delta Mahakam Ulu and Adang Bay), as in other coastal\\nregions of Indonesia, there is a common division of roles between men and\\nwomen. Men are a group that must earn a living, go to sea to fish, do a\\nvariety of physical work, organize village government, manage places of\\nworship,  etc.,  while  women's  groups  do  domestic  work  and  help  their\\nhusbands. Boys usually have a greater chance of going to higher education.\\nWith the opening of information, this division of roles experienced a shift, in\\nwhich several women or girls had the same opportunity to go to school, earn\\na living and participate in social activities in the village. However, the role of\\nwomen groups’ policy decision making in the village level is still limited.\\nIn the project area, men generally have no objection regarding women's\\ngroups actively engage in activities to earn a living and are also involved in\\nsocial activities. However, we still note a reluctance among women's groups\\nto actively participate in public meetings that involve men and women due\\nto culturally taboo.\\nThe  project  aims  to  support  the  active  participation  of  women's  groups\\nthrough the following activities:\\n\\uf0b7 Encourage women's involvement in meetings involving sub-village or\\nvillage interests \\n\\uf0b7 Provide  equal  opportunities  between  women  and  men  for  capacity\\nbuilding activities\\n\\uf0b7 Provide  opportunities  for  women's  groups  to  earn  income  through\\nmicro and small businesses\\n\\uf0b7 Encourage women's participation to be actively involved in decision\\nmaking both at the scale of households and at the group level, for\\nexample related to tree planting project.\"), Document(metadata={'source': './data/PROJECT DOCUMENT MAHAKAM 2023-2025_balise.pdf', 'page': 37}, page_content=\"village interests \\n\\uf0b7 Provide  equal  opportunities  between  women  and  men  for  capacity\\nbuilding activities\\n\\uf0b7 Provide  opportunities  for  women's  groups  to  earn  income  through\\nmicro and small businesses\\n\\uf0b7 Encourage women's participation to be actively involved in decision\\nmaking both at the scale of households and at the group level, for\\nexample related to tree planting project.\\nTherefore, PU and its implementing partners will coordinate closely with \\ngender working group at the provincial and district levels to gain more \\nunderstanding the gender issue, challenge and possible solution in the \\ncoastal area. We also try to create gender friendly environment in order to \\nensure the women has active participation such as identifying the right time \\nfor women to participate, separate the women and men group if it will give \\nchance for women to speak, always ask and give chance to women to speak \\nin every meeting.  \\nIn addition, this project aims to acknowledge the rights of local people in the \\nproject by implementing the Free, Prior and Informed Consent (FPIC) on the \\nproject. PU and implementing partners will provide information of the \\nproject, the risk, the negative and positive impact of the project and let them\"), Document(metadata={'source': './data/PROJECT DOCUMENT MAHAKAM 2023-2025_balise.pdf', 'page': 38}, page_content='\\ndecide to contribute on the project. By doing this, the project aims to place \\nthe local people not as object the project, but the subject of project since \\nthey also contribute to design the activities of the project. \\nMoreover, regarding the new capital, the project expects to bring the voice \\nof local people in the coastal area in shaping the future plan of Mahakam \\nDelta and Adang Bay-Adang Bay. The involvement of local people will \\ncontribute to improve the governance in the coastal region.'), Document(metadata={'source': './data/PROJECT DOCUMENT MAHAKAM 2023-2025_balise.pdf', 'page': 39}, page_content='\\n9. Knowledge  management,  capitalization  &\\ncommunication\\nKnowledge management\\nPlanète Urgence is in the process of setting up a new tool for monitoring\\nplantations based on geolocation of trees planted throughout the project.\\nPlanète Urgence’s software (database) will be redesigned and updated to\\nmeet different needs. The first one is to conduct the monitoring of planted\\ntrees (species, size, survival rate, pictures …). The second one will help\\nprovide transparent information to donors. The third one will contribute to\\ncommunication efforts (map on website).\\nPU Indonesia and its implementing partners will arrange communication and\\nknowledge management mechanisms to ensure all parties has equal access\\nand responsible to store and to distribute the data and information gathered\\nfrom the project. All materials from the field should be submitted monthly to\\nthe communication officer of PU Indonesia during the project. PU Indonesia\\nwill ensure all publications, minutes of meeting, report, picture and video\\nrelated with the project activities store well in the PU system. The material\\nwill be grouped according to their type, date and the component of the\\nproject.  The  implementing  partners  will  have  equal  access  to  use  the\\nmaterials  that  they  have  collected  for  the  benefit  of  current  and future\\nproject in the region. Like previous projects, PU Indonesia will spread the\\nlessons learned of the project to the key stakeholders and public through\\nvarious canal such as monthly journal, offline and online media and social\\nmedia during the project.\\nCapitalization\\nIn  order  to  allow  Mahakam Delta’s  stakeholders  and  project  partners  to\\nreplicate the positive actions of the project in other villages for a wider\\naction,  Planète  Urgence  commits  to  undertake  capitalization  on  two  key\\nsubjects: (i) a relevant restoration of the mangrove ecosystem and (ii) a\\nmethodology for land use planning process.'), Document(metadata={'source': './data/PROJECT DOCUMENT MAHAKAM 2023-2025_balise.pdf', 'page': 39}, page_content='media during the project.\\nCapitalization\\nIn  order  to  allow  Mahakam Delta’s  stakeholders  and  project  partners  to\\nreplicate the positive actions of the project in other villages for a wider\\naction,  Planète  Urgence  commits  to  undertake  capitalization  on  two  key\\nsubjects: (i) a relevant restoration of the mangrove ecosystem and (ii) a\\nmethodology for land use planning process. \\nIndeed,  the restoration of the mangrove  in the Mahakam Delta is an\\ninitiative  carried  for  many  years  by  different  stakeholders  (companies,\\ncommunities, local governments, associations) and in many cases favouring\\na monoculture. It would seem that efforts in terms of identification of species\\nand planting areas should be made by communities and public actors - in\\nparticular the KPHP - a key player on the subject. \\nIn  addition,  Indonesia  faces  a  lack  of  human  and  financial  resources  to\\nintegrate communities in the processes of  sustainable management of\\nnatural  resources  and  territorial  planning. This  aspect  has  been\\nentrusted by the central government to the provinces and districts. However,\\nPlanète Urgence’s support has been required by decentralized public actors\\nto  facilitate  the  consultation  processes  with  local  communities  and  to\\ndevelop proposal for territorial planning and land certification. The project\\ntherefore intends to draw methods and tools from it in order to support other'), Document(metadata={'source': './data/PROJECT DOCUMENT MAHAKAM 2023-2025_balise.pdf', 'page': 40}, page_content=\"\\nlocal  communities  and  the  public  stakeholders  concerned  (villages  and\\ndistricts) in order to replicate these activities with the other villages of the\\nMahakam Delta.\\nThe tree protection from palm tree leaves and net that successfully works to\\nprotect tree in previous project will be documented and spread to the key\\nrestoration actors for possible replication in their project. In addition, PU\\nIndonesia will manage and distribute the publication and knowledge from the\\nproject  to  other  parties.  Module  and  material  environmental  education\\ncampaign will be used in the scale up project or other locations.\\nTable 3. Summary of our lessons learned, and best practices developed on\\nprevious projects in the Mahakam Delta\\n<table>\\nActivities Best practices\\n(+)\\nLessons learned\\n(-)\\nChange maker in\\nthis new project \\nRaising awareness\\nin schools \\n1/Raising \\nawareness in \\nschool generally \\nget support from \\nthe schools. 2) \\nAnimal costumes \\nare very attractive\\nfor elementary \\nschools' children. \\n3) The successful \\nof YML and  Pokja \\nPesisir introduction\\nenvironmental \\neducation in \\nPrimary and \\nSecondary \\nSchools. Teachers \\nhad just realized \\nthat they live in an\\nimportant \\nmangrove \\necosystem. There \\nis a desire to learn \\nmore about the \\nmangrove \\necosystem and a \\nwant to teach in \\nschools.\\nStudents have a \\nhigh interest in \\nlearning directly in\\nNot all teachers \\nhave creativity in \\nteaching, so \\nintensive \\nassistance is \\nneeded\\n1 and 2) The \\nproject will apply \\nsimilar method \\nand approach to \\nthe schools’ \\nteachers and \\nstudents. 3) In \\naddition, in this \\npilot phase, PU will\\nelaborate the \\npossibility to \\nintegrate the \\nenvironmental \\neducation in \\nelementary school \\ncurriculum.\\nTeachers have a \\nstrategic position \\nto foster \\nenvironmental \\nawareness. \\nTeachers can act \\nas very effective \\nagents of change \\nfor increasing \\nenvironmental \\nawareness\"), Document(metadata={'source': './data/PROJECT DOCUMENT MAHAKAM 2023-2025_balise.pdf', 'page': 41}, page_content='\\nnature\\nPublic awareness A public \\nawareness \\ncampaign using \\nlocal examples is \\nan interesting \\nthing for the \\ncommunity\\n1) Compared than \\nMERCI project, the \\nrelationship \\nbetween PU and \\npartner with local \\nmedia in \\nMAHAKAM project \\nwas weak. 2) With \\nthe legal status of \\nPU in Indonesia, it \\nis quite difficult for\\nPU Indonesia to \\nactively share the \\nprogress and \\nachievement of \\nthe project to the \\nlocal media.  \\nPU will facilitate \\nand encourage \\nimplementing \\npartners to \\nestablish \\ncollaboration with \\nthe local media. \\nPU will organize \\ninformal meetings \\nwith local media \\nand support the \\npartners by \\nproviding data and\\ninformation to \\nenrich the news \\ncoverage by local \\nmedia.\\nOn the other hand,\\nthe government \\nthat has a vision \\nfor environmental \\nconservation plays\\nan important role \\nin raising public \\nawareness\\nSustainable \\naquaculture \\n(demonstration \\nplots etc.)\\nThe fish farmer \\ngroup in Delta \\nMahakam Ulu has \\na strong trust with \\nPU and YML. The \\nprevious project \\nuses their ponds \\nas demonstration \\nplot. \\nPeople will receive\\ninformation easily \\nif they see \\nexamples directly \\nin the field. The \\ngovernment \\n(BRGM) replicates \\nmangrove planting\\nin ponds based on \\nseveral practices \\ncarried out by the \\ncommunity \\nincluding demo \\nThe impact of \\nsustainable \\naquaculture \\nintervention in the \\naquaculture pond \\ndo not yet \\ndocument well \\nalthough the fish \\nfarmer has felt the\\npositive impact of \\nthe intervention. \\nThe project will \\ncontinue work with\\nthe fish farmer to \\nintervene and \\nmonitor the \\nimpact. PU, \\npartner and fish \\nfarmer will discuss\\nkey parameters to \\nbe monitored and \\ncollaborate with \\nthe PU \\ncommunication \\nofficer to manage \\nthe information \\nfrom the pond.'), Document(metadata={'source': './data/PROJECT DOCUMENT MAHAKAM 2023-2025_balise.pdf', 'page': 42}, page_content=\"\\nplots\\nTraining of \\ncommunity groups\\nparticularly \\nwomen group on \\nthe financial \\nmanagement and \\nproduct marketing\\nSmall business \\nactors and \\nespecially women \\nneed to have \\nfinancial literacy. \\nWomen realize \\nthat money for \\nbusiness needs to \\nbe separated from \\nmoney for family.\\nThere is still social \\njealousy between \\ngroup members. \\nField facilitators \\nneed to have \\nconflict \\nmanagement skills\\nReforestation 1) Several \\npractical guidance \\nof reforestation for\\ncommunity has \\nbeen developed in \\nprevious project. \\n2) In general, the \\ncommunity in \\nDelta Mahakam \\nUlu and Adang Bay\\nhas capacity in \\nreforestation \\nproject that they \\ngain from the \\nprevious project \\nboth from PU and \\nother parties. 3) \\nSustainable wave \\nbreaker in Muara \\nUlu Kecil prove \\neffectively prevent\\nthe wave in the \\nprevious project. \\n1) PU will train the \\nimplementing \\npartners and \\nvillagers using the \\npractical guidance \\nfor reforestation \\nproject during the \\nearly visit to the \\nlocation project \\nand prior to the \\nnursery process.  \\n2) PU will \\ncoordinate with \\nvillagers whether \\nit is necessary to \\nsurrounding the \\nplanted tree with \\nwave breakers.\\nLocal governance \\nsupport activities\\n1) PU Indonesia \\nhas been joining in\\nthe Mahakam \\nDelta coalition \\nsince 2019. This \\ninformal coalition \\naims to coordinate\\nthe activities of \\ninstitutions in \\ndelta, to \\ncomplement each \\nother's, to avoid \\noverlapping \\nactivities and to \\n1) Together with \\nthe coalition of \\nDelta Mahakam, \\nPU Indonesia will \\nvoice the opinion \\nof Delta Mahakam \\nstakeholders on \\nthe future of Delta \\nMahakam after the\\nmoving of new \\ncapital to the East \\nKalimantan. 2) Will\\nuse the guidance \\nof FPIC for this\"), Document(metadata={'source': './data/PROJECT DOCUMENT MAHAKAM 2023-2025_balise.pdf', 'page': 43}, page_content='\\nreach the common\\ngoals in Delta \\nMahakam.\\n2) PU and Bioma \\nhave developed \\npractical guidance \\non how to conduct \\nFPIC in \\nreforestation \\nprojects. \\npilot project.\\nRelationship with \\nlocal partners\\nPU and \\nimplementing \\npartners have \\nstrong ties with \\nthe local authority \\nsuch as Forest \\nManagement Unit \\nand Conservation \\nagencies.\\nThe informal \\ncoordination will \\nbe conducted to \\nthose authority to \\ngain technical and \\nadministrative \\nsupport from \\nthem. \\nCapacity building \\nof our local \\npartners \\nYML has really \\ngood knowledge \\nand technical skills\\nin reforestation \\nand sylvofishery.  \\n Pokja Pesisir has \\ngood \\ncommunication \\nwith key \\nstakeholders at \\nthe village and \\nregion levels \\n(BKSDA) \\n \\nYML still has a lack\\nof capacity and \\ninitiative to \\nconduct data \\nmonitoring related\\nto sylvofishery and\\nis reluctant to \\nwork with \\nuniversity.\\nPokja Pesisir in \\nother side has still \\nlacks experience \\nin reforestation \\nskills, particularly \\ndata collection. \\nPU Indonesia will \\nprovide tools to \\nYML and Pokja \\nPesisir to conduct \\ndata collection and\\nregularly \\nmonitoring the \\nimplementation.\\nHiring consultant Local consultant \\nhas better \\nunderstanding on \\nlocal social and \\nenvironmental \\ncontext\\n1) The English \\nskill, writing and \\nspeaking, of local \\nconsultant is \\nrelatively poor. 2)  \\nThe local \\nconsultant \\napparently does \\nnot have a 100 \\npercent freedom \\nClear objectives \\nand indicators are \\nneeded to guide \\nthe local \\nconsultant. \\nMoreover, a rapid \\ninternal \\nassessment is \\nneeded to \\ncomplement the'), Document(metadata={'source': './data/PROJECT DOCUMENT MAHAKAM 2023-2025_balise.pdf', 'page': 44}, page_content='\\nto evaluate the \\npartner since they \\nhave a strong \\nrelationship with \\nsome of partner \\nwhich in the end \\ninfluence the \\nresult of \\nassessment.\\nlocal consultant \\nanalysis. \\n</table>\\nExternal communication in Indonesia\\nPU Indonesia will work with the online local media to promote the project\\nactivities, current states of Delta Mahakam and its challenge. Besides the\\nonline local media, PU Indonesia and its implementing partners will work with\\nexpert panels in radio panels to spread the message, challenge and the\\nsuccessful of the project. PU Indonesia has been invited by the French IFI\\n(Institut Français Indonesia) on Climate Change week in 2021. The French IF\\nhave invited PU Indonesia to spread the message and works through various\\ncanals which provided by French IF such as social media and website. This\\nopportunity should be used in this project to introduce the project to wider\\npublic. In addition, CIFOR has invited PU as speaker in the side event of\\nPolicy and Science dialogue in March 2022. The collaboration with CIFOR can\\nbe extended in other events to share the progress of project NEW MAHAKAM.\\nBesides that, PU and its partners will road show to the authority and donor to\\nintroduce the project both at the national, provincial and local level. Project\\nbrief, blog and others material can be used to spread the messages to those\\nparties.\\nExternal communication in France\\nAt  PU  headquarters,  the  communication  team  will  receive  local\\ncommunication content, data, pictures, tools and progress information on\\nthe project to create contents (articles, advocacy messages, press releases)\\nin line with the international calendar on biodiversity, climate change and\\nother international celebrations. The project will be promoted, first on PU\\nwebsite by dedicating a specific page to it and attaching any communication\\nelements that may be provided or proposed by YML and Pokja Pesisir. The'), Document(metadata={'source': './data/PROJECT DOCUMENT MAHAKAM 2023-2025_balise.pdf', 'page': 44}, page_content='the project to create contents (articles, advocacy messages, press releases)\\nin line with the international calendar on biodiversity, climate change and\\nother international celebrations. The project will be promoted, first on PU\\nwebsite by dedicating a specific page to it and attaching any communication\\nelements that may be provided or proposed by YML and Pokja Pesisir. The\\ncommunication  officer  of  PU  Indonesia  will  work  together  with\\ncommunication team of PU HQ to fill the PU Indonesia section in the PU\\nwebsite. The project will be clearly highlighted (infographics, photos, videos,\\nkey figures, etc.) on social media. As a member of Groupe SOS, PU benefits\\nfrom its distribution channels, including its website and its News page. PU\\nwill communicate through a specific partner newsletter on its actions thanks\\nto the participation and support from its donors (general public and private\\nsector). The project will be the subject of communication actions targeted to\\nthese companies and foundations and will benefit from cascading relays,'), Document(metadata={'source': './data/PROJECT DOCUMENT MAHAKAM 2023-2025_balise.pdf', 'page': 45}, page_content=\"\\nallowing it to reach a larger audience. Partners will communicate, for their\\npart, on their support for reforestation and local development actions with\\ntheir employees, service providers and customers.\\n10. Sustainability, scaling-up and/or exit strategy\\nAfter the project ending in March 2023, Planète Urgence and its partners will\\nfocus on the sustainability of the project in order to design a correct exit\\nstrategy of the area for Planète Urgence. Indeed, the mandate of Planète\\nUrgence is to reinforce the capacities of local civil societies.\\nSustainability and Exit Strategy (Scale Up) of the project\\nPlanète Urgence has defined requirement to ensure the efficiency of the\\nNEW MAHAKAM project and the success of the exit strategy in 2023. For it,\\nthree approaches must be integrated to each activity: inclusivity, integration\\nand independence. \\nIn  the  context  of  an  inclusive  approach,  this  project  encourages  the\\nparticipation of many parties while respecting each other's interests in order\\nto  create  a  synergy  of  cooperation  and  mutual  support  to  mangrove\\nconservation efforts in the Mahakam Delta. Then to ensure that all activities\\nundertaken are under the responsibility of identified parties, Planète Urgence\\nwill  conduct  advocacy  work  to  integrate  MAHAKAM’s  activities  into  the\\nstrategic plans and work plans of the stakeholders of the project. Finally, to\\nensure the independence with regard to control of interests of other parties\\noutside the Mahakam Delta, it is necessary to strengthen this independence\\nof all  actors  involved  in  mangrove  conservation  efforts  in the  area. The\\nindependence in this case includes the ability to self-financing conservation\\nactivities through local economic institutions that are professional to manage\\nsustainable  productive  businesses.  Therefore,  during  the  project  and\\nparticularly in the end of project, PU and implementing partners will identify\"), Document(metadata={'source': './data/PROJECT DOCUMENT MAHAKAM 2023-2025_balise.pdf', 'page': 45}, page_content='of all  actors  involved  in  mangrove  conservation  efforts  in the  area. The\\nindependence in this case includes the ability to self-financing conservation\\nactivities through local economic institutions that are professional to manage\\nsustainable  productive  businesses.  Therefore,  during  the  project  and\\nparticularly in the end of project, PU and implementing partners will identify\\nand distribute the preliminary achievement and lesson learn of the project to\\nthe potential donor.\\nRaising awareness component: \\n\\uf0b7 Encouraging participation of public particularly change makers in the\\ncommunity with a collaborative work with education institutions and mass\\nmedia.\\n\\uf0b7 Advocate  and  ensure  education  and  awareness  on  mangrove\\nconservation is adopted in school curricula and understood by education\\nauthorities and mass media program. \\n\\uf0b7 Develop materials of education and awareness campaign on mangrove\\nconservation  (education  curricula,  education  books  and  other  mangrove\\neducation tools).\\nMangrove rehabilitation component: \\n\\uf0b7 Developing village and community owned nursery to provide seedlings\\nfor restoring target area.'), Document(metadata={'source': './data/PROJECT DOCUMENT MAHAKAM 2023-2025_balise.pdf', 'page': 46}, page_content='\\n\\uf0b7 Facilitate  village  to create restoration policy,  for instance  replacing\\nevery single cut in development zone with planting 100 trees in the target\\nrestoration area.\\nEconomic development component: \\n\\uf0b7 Develop  community-based  enterprise  to  support  local  resources\\nproduct processing and marketing.\\n\\uf0b7 Bridging community network to market and financial institutions.\\n\\uf0b7 Identify  the  challenge  and  opportunity  to  develop  sustainable\\naquaculture.\\nGovernance Component \\n\\uf0b7 Distribute the result of workshop/FGD regarding the Indonesian new\\ncapital to the key stakeholders.  \\n\\uf0b7 Identify the possible strategies and activities in the future to advocacy\\nthe green coastal area in East Kalimantan.  \\nTransversal to the project: \\n\\uf0b7 Ensure  that  implementing  partners  (YML  and  Pokja  Pesisir)  have\\ncapacities to raise funds from public and or private sectors to support their\\nactivities in Mahakam Delta, Paser and East Kalimantan in general. \\n\\uf0b7 Ensure that all implementing partners and stakeholders of project area\\nhave access and understand each methodology developed in the framework\\nof the NEW MAHAKAM project to replicate and adapt the activities in other\\nlocations of Mahakam Delta.\\n\\uf0b7 Ensure  that  capacity-building  needs  of  implementing  partners  are\\nsupported in order to access the autonomy of each organization.'), Document(metadata={'source': './data/PROJECT DOCUMENT MAHAKAM 2023-2025_balise.pdf', 'page': 47}, page_content='\\n<table>\\n11. Results framework\\nEXPECTED RESULTS PERFORMANCE\\nINDICATORS\\nSOURCE OF\\nVERIFICATION\\nBaseline Target Final\\nValue Year 2023 2024 2025\\nOutput 1: Raising the \\nawareness of \\nstakeholders to \\nconserve the \\nEnvironment and \\nbiodiversity in Delta \\nMahakam & Teluk \\nAdang sustainably.\\nNumber of teachers (F/M) \\ntrained \\nDocumentation \\nactivity\\nActivity Report \\nList of \\nparticipants\\n50 2022 50 50 50 150\\nNumber of volunteers \\ninvolved in school \\ncampaign \\nDocumentation \\nactivity\\nActivity Report \\nList of volunteers\\n0 2022 6 6 6 18\\nNumber of schools \\nreached by the \\nawareness campaign \\nDocumentation \\nactivity\\nActivity Report \\nList of \\nparticipants\\n4 2022 4 3 5 6\\nNumber of students \\ninvolved in campaign\\nDocumentation \\nactivity\\nActivity Report \\nList of \\nparticipants\\n200 2022 400 250 400 1050\\nNumber of schools \\nassisted in Adiwiyata \\nprogram \\nDocumentation \\nactivity\\nActivity Report \\n0 2022 1 1 2 4'), Document(metadata={'source': './data/PROJECT DOCUMENT MAHAKAM 2023-2025_balise.pdf', 'page': 48}, page_content='\\nList of \\nparticipants\\nMoU Document\\nNumber of local \\ncommunities reached by \\nwaste management \\ncampaign\\nDocumentation \\nactivity\\nActivity Report \\nList of \\nparticipants\\n0 2022 100\\npersons\\na. 100\\nperson\\n b. 20\\nUser\\nAccount\\nYoutube\\n100\\nperson\\ns\\na. 200\\npersons\\n b. 20\\nUser\\nYoutub\\ne\\nAccount\\nNumber of Billboard for \\nenvironmental campaign \\nDocumentation\\nPlot location in \\nthe map\\n2 2022 0 2 0 2\\nNumber of Book \\npublication on best \\npractices related to \\nmicrofinance & nurseries \\nmaintenance \\nBook Publication\\nActivity Report \\n1 2022 1 book\\n 30\\ncopies\\n1 book\\n 30\\ncopies\\n2 books\\n 60\\nCopies\\nNumber of pepople \\nreached in Public \\nAwareness campaign \\nthrough media \\n(online/offline)\\nDocumentation \\nactivity\\nActivity Report\\nMedia coverage\\n1000\\nindirect\\n2022 50\\nDirect\\n 300\\nIndirect\\n50\\nDirect\\n 300\\nIndirect\\n50\\nDirect\\n 300\\nIndirec\\nt\\n150\\nDirect\\n 900\\nIndirect\\nNumber of Journalist Trip Media coverages \\n(offline/online)\\n10 2022 5 media\\ncoverag\\nes\\n5 media\\ncoverag\\nes\\n5\\nmedia\\ncovera\\nges\\n15\\nmedia\\ncoverag\\nes'), Document(metadata={'source': './data/PROJECT DOCUMENT MAHAKAM 2023-2025_balise.pdf', 'page': 49}, page_content='\\nOutput 2: Rehabilitate \\ndegraded mangrove \\nforest\\nNumber of Study on land \\nsuitability for mangrove \\nreforestation\\nDocumentation \\nactivity\\nActivity Report \\nReport Document\\n1 2022 1 N/A N/A 1\\nNumber of Biodiverity \\nresearch   to discover \\nlinkage beetween habitat \\nrestoration and existing of \\nendangered species\\nDocumentation \\nactivity\\nActivity Report \\nReport Document\\n1 2021 1 N/A 1 2\\nNumber of nurseries \\nEstablished\\nDocumentation \\nactivity\\nActivity Report\\nNurseries \\ndatabase \\nmonitoring \\n3 2022 5 6 6 6\\nNumber of local \\ncommunities involved in \\nmangrove nurseries \\nDocumentation \\nactivity\\nActivity Report \\nList of \\nparticipants\\n100 2022 100 100 100 300\\nNumber of mangroves \\nplanted\\nDocumentation \\nactivity\\nActivity Report\\nDatabase \\nplanting \\nmonitoring\\nMap planting \\ndistribution\\n150.000   2022 230.000    325.00\\n0   \\n 250.0\\n00   \\n805.00\\n0   \\nNumber of local Documentation 60 2022 50 60 60 170'), Document(metadata={'source': './data/PROJECT DOCUMENT MAHAKAM 2023-2025_balise.pdf', 'page': 50}, page_content='\\ncommunities trained in \\nMangrove Reforestation\\nactivity\\nActivity Report \\nList of \\nparticipants\\nNumber of trainings \\nconducted\\nDocumentation \\nactivity\\nActivity Report \\nList of \\nparticipants\\n3 2022 3 3 3 9\\nNumber of local \\ncommunities participated \\nin tree monitoring\\nDocumentation \\nactivity\\nActivity Report \\nList of \\nparticipants\\nDatabase \\nplanting growth \\nmonitoring\\n0 2022 8 8 8 8\\nOutput Support the \\ndevelopment of \\nsustainable livelihood\\nNumber of communities \\nparticipated in sustainable\\naquaculture training\\nDocumentation \\nactivity\\nActivity Report \\nList of \\nparticipants\\n40 2022 40 40 40 120\\nNumber of sustainable \\nacquaculture demoplot \\nthrough silvofishery \\nscheme\\nDocumentation \\nactivity\\nActivity Report \\nList of \\nparticipants\\n1 2022 2 4 5 5\\nNumber of women groups \\ntrained and assisted in \\nDocumentation \\nactivity\\n4\\ngroups\\n2022 3 groups\\n 30\\n3\\ngroups\\n3\\ngroups\\n3\\ngroups'), Document(metadata={'source': './data/PROJECT DOCUMENT MAHAKAM 2023-2025_balise.pdf', 'page': 51}, page_content='\\ndeveloping fish farmer \\nproduct \\n Activity Report \\nList of \\nparticipants\\n Database women\\ngroup income \\ngenerating\\n 26\\nwomen\\nwomen  30\\nwomen\\n 30\\nwomen\\n 30\\nwomen\\nOutput Strengthening \\nthe governence of \\nDelta Mahakam & \\nAdang Bay\\nNumber of local \\ncommunities participated \\nin FPIC \\nDocumentation \\nactivity\\nActivity Report \\nList of \\nparticipants\\n2 \\nvillages\\n 40 \\npersons\\n2022 2\\nvillages\\n 40\\npersons\\n2\\nvillages\\n 40\\npersons\\n2\\nvillage\\ns\\n 40\\nperson\\ns\\n6\\nvillages\\n 120\\nNumber of meetings with \\nkey stakeholder\\nDocumentation \\nactivity\\nMinutes of \\nMeeting\\nList of \\nparticipants\\n4 2022 4 4 4 12\\n</table>\\n12. Monitoring & evaluation\\nThe monitoring and evaluation of the project activities, risks, knowledge management, communication and others will\\nbe done internaly through:\\na.Monthly narrative and financial report\\nb.Quarterly narrative and financial report\\nc. Monthly coordination meeting with the partners.\\nd.Biweekly coordination meeting with the PU Paris.'), Document(metadata={'source': './data/PROJECT DOCUMENT MAHAKAM 2023-2025_balise.pdf', 'page': 52}, page_content='\\ne.Field monitoring six times in a year.\\nf. Internal evaluation at the end of project\\nIn addition, the project includes a third party evaluation during year 3 for final evaluation of the project’s activities\\nand conduction of the climate philanthropy methodology.\\nThe final evaluation will be conducted via remote evaluation and onsite visit of the project.\\nIt will include at minimum :\\n\\uf0b7 An inventory of the activities that have taken place in relation to the project plan (including planting activities,\\nincreased livelihoods and environmental awareness)\\n\\uf0b7 Review of carbon  sequestration  calculations  and monitoring  protocols,  based on the  climate  philanthropy\\nmethodology  developed  by  Planète  Urgence  (zone  boundaries,  baseline  scenario,  demonstration  of\\nadditionality, ex-ante carbon calculation, and first ex-post measures on year 3 linked with survival rate)\\n\\uf0b7 Review of project, monitoring and activity reports\\n\\uf0b7 Redaction of the audit report\\nCompletion  of  baseline  and  proof  of  additionality,  accompanied  by  EX-ANTE  calculation  of  GHG\\nemissions/sequestrations\\nAccording with Planete Urgence’s methodology on Climate Philanthropy, the project will monitor carbon sequestration\\nimpacts.\\nTo do so, Planète Urgence team will develop a baseline scenario illustrating the activities and greenhouse gas (GHG)\\nemissions that would occur in the absence of a project’s activity. Developing this baseline will be the foundation of\\nmeasuring the project’s emissions reductions or removals; it will set the benchmark by which a comparison of the\\nproject’s activities can be made against the business-as-usual scenario providing clarity on how the project can and\\nwill influence emissions reductions over time. \\nThe protocol developed by Planete Urgence adopts the baseline scenario and additionality tests based on the Verified\\nCarbon Standard (VCS) and Clean Development Mechanism (CDM)’s Afforestation/Reforestation methodological tools.'), Document(metadata={'source': './data/PROJECT DOCUMENT MAHAKAM 2023-2025_balise.pdf', 'page': 52}, page_content='project’s activities can be made against the business-as-usual scenario providing clarity on how the project can and\\nwill influence emissions reductions over time. \\nThe protocol developed by Planete Urgence adopts the baseline scenario and additionality tests based on the Verified\\nCarbon Standard (VCS) and Clean Development Mechanism (CDM)’s Afforestation/Reforestation methodological tools.\\nIt involves :'), Document(metadata={'source': './data/PROJECT DOCUMENT MAHAKAM 2023-2025_balise.pdf', 'page': 53}, page_content='\\n\\uf0b7 Identification and mapping of project boundaries\\n\\uf0b7 Consideration of regulatory surplus\\n\\uf0b7 Development of a list of reference scenarios ( Identification of obstacles, Analysis of obstacles, Determination of\\nreference scenario, Investment analysis\\n\\uf0b7 Definition of net GHG removals in the reference scenario, \\n\\uf0b7 Definition and proof of additionality\\n<table>\\n13. Timeline \\nEXPECTED RESULTS & PLANNED\\nACTIVITIES\\nTIMELINE\\nQ1 Q2 Q3 Q4 Q1 Q2 Q3 Q4 Q1 Q2 Q3 Q4\\nOutput 1\\xa0: Raising the awareness of stakeholders to \\nconserve and to manage Delta Mahakam sustainably.\\nA.1.1. Conduct workshops in schools of East Kalimantan province \\nto raise awareness on environment and biodiversity preservation.\\nA.1.2. Support Adiwiyata School\\nA.1.3. Conduct public awareness campaigns to sensitize \\ncommunities in East Kalimantan province to the ecological, \\neconomic and climatic benefits of the mangrove.\\nOutput 2\\xa0: Rehabilitate degraded mangrove forest\\nA.2.1. Pres-assessment study on land suitability\\nA.2.2. Ensure establishment and management of community-\\nbased nurseries'), Document(metadata={'source': './data/PROJECT DOCUMENT MAHAKAM 2023-2025_balise.pdf', 'page': 54}, page_content=\"\\nA.2.3. Identify and prepare planting areas and train local \\ncommunity members to mangrove restoration, planting 800.000 \\ntree\\nA.2.4. Participatory Monitoring Training and ensure the \\nmonitoring and protection of targeted mangrove areas\\nA.2.5. Conduct Biodiversity Research to find out the linkage of \\nrehabilitated degraded mangrove & the biodiversity\\nOutput 3. Support the development of sustainable \\nlivelihood\\nA.3.1. Establish demonstration plots for sustainable aquaculture \\n(sustainable ponds and sylvo fishery models)\\nA.3.2. Train community groups particularly women group on the \\nfinancial management and product marketing\\nOutput 4. Strengthening the governance of Delta \\nMahakam\\nA.4.1. Facilitate coordination work among Mahakam Delta's and \\nAdang Bay’s actors to synergize actions and to strengthen \\nmangrove ecosystem management.\\nA.4.2. Conduct FPIC (Free, Prior Informed Concerns) to the \\nvillagers, facilitate the participatory development of village \\nterritorial plans integrating sustainable management of natural \\nresources and strengthening village government to involve FCPF \\nprogram.\\nA.4.3. Conduct Expose with Key Stakeholders in Mahakam Delta \\nand Adang Bay\\nProject management\"), Document(metadata={'source': './data/PROJECT DOCUMENT MAHAKAM 2023-2025_balise.pdf', 'page': 55}, page_content='\\nHuman resources – Planète Urgence\\nHuman resources – Implementing partners\\nManagement actions – Planète Urgence\\n(including meetings, missions, coordination workshops, \\nmonitoring and evaluations, quality assurance, reporting, \\ncommunication, etc.)\\nManagement actions – Implementing partner \\n(including meetings, missions, coordination workshops, \\nmonitoring and evaluations, quality assurance, reporting, \\ncommunication, etc.)\\nCapacity building of project management staff (Planète Urgence \\nand implementing partners)\\nMid-term assessment (as appropriate)\\nTerminal and final assessment (as appropriate)\\nAudit(s) (as appropriate)\\n</table>')], tfidf_array=<83x9194 sparse matrix of type '<class 'numpy.float64'>'\n",
       "   \twith 11129 stored elements in Compressed Sparse Row format>, k=10)}),\n",
       " ({'type': 'dense',\n",
       "   'label': 'faiss',\n",
       "   'instance': VectorStoreRetriever(tags=['FAISS', 'OpenAIEmbeddings'], vectorstore=<langchain_community.vectorstores.faiss.FAISS object at 0x7f66f4b0fc10>, search_type='mmr', search_kwargs={'k': 10, 'fetch_k': 20})},\n",
       "  {'type': 'sparse',\n",
       "   'label': 'bm25',\n",
       "   'instance': BM25Retriever(vectorizer=<rank_bm25.BM25Okapi object at 0x7f668079f8d0>, k=10)})]"
      ]
     },
     "execution_count": 23,
     "metadata": {},
     "output_type": "execute_result"
    }
   ],
   "source": [
    "from itertools import product\n",
    "\"\"\" search_type=\"similarity_score_threshold\",\n",
    "    search_kwargs={\"score_threshold\": 0.7, \"k\": 8},\n",
    "\n",
    "    search_type=\"mmr\",\n",
    "    search_kwargs={\"fetch_k\": 20, \"lambda_mult\": 0.5, \"k\": 8}\n",
    "\"\"\"\n",
    "\n",
    "sparse_retriever_types=[\n",
    "    {\"type\": \"sparse\", \"label\": \"tfidf\", \"instance\": sparse_retriever_tfidf}, \n",
    "    {\"type\": \"sparse\", \"label\": \"bm25\", \"instance\": sparse_retriever_bm25,}\n",
    "]\n",
    "dense_retriever_types=[\n",
    "    {\"type\": \"dense\", \"label\": \"chroma\", \"instance\": retriever_chroma}, \n",
    "    {\"type\": \"dense\", \"label\": \"faiss\", \"instance\": retriever_faiss}\n",
    "]\n",
    "\n",
    "\n",
    "gridSearch=list(product(dense_retriever_types, sparse_retriever_types,))\n",
    "gridSearch"
   ]
  },
  {
   "cell_type": "markdown",
   "metadata": {},
   "source": [
    "### Test avec méthode LCEL"
   ]
  },
  {
   "cell_type": "code",
   "execution_count": 24,
   "metadata": {},
   "outputs": [
    {
     "name": "stdout",
     "output_type": "stream",
     "text": [
      "Dense retriever type: chroma\n",
      "Sparse retriever type: tfidf\n",
      "Question: Description of the project\n",
      "Question enhanced: False\n"
     ]
    },
    {
     "name": "stderr",
     "output_type": "stream",
     "text": [
      "/home/chougar/miniconda3/lib/python3.11/site-packages/transformers/pipelines/question_answering.py:391: FutureWarning: Passing a list of SQuAD examples to the pipeline is deprecated and will be removed in v5. Inputs should be passed using the `question` and `context` keyword arguments instead.\n",
      "  warnings.warn(\n",
      "/home/chougar/miniconda3/lib/python3.11/site-packages/transformers/pipelines/question_answering.py:391: FutureWarning: Passing a list of SQuAD examples to the pipeline is deprecated and will be removed in v5. Inputs should be passed using the `question` and `context` keyword arguments instead.\n",
      "  warnings.warn(\n"
     ]
    },
    {
     "name": "stdout",
     "output_type": "stream",
     "text": [
      "Retrieved unique docs: 23\n",
      "Sorted docs: 8\n",
      "Retrieved unique docs: 23\n",
      "Sorted docs: 8\n"
     ]
    },
    {
     "name": "stderr",
     "output_type": "stream",
     "text": [
      "/home/chougar/miniconda3/lib/python3.11/site-packages/transformers/pipelines/question_answering.py:391: FutureWarning: Passing a list of SQuAD examples to the pipeline is deprecated and will be removed in v5. Inputs should be passed using the `question` and `context` keyword arguments instead.\n",
      "  warnings.warn(\n",
      "Evaluating: 100%|██████████| 1/1 [00:00<00:00,  2.81it/s]\n"
     ]
    },
    {
     "name": "stdout",
     "output_type": "stream",
     "text": [
      "LLM Eval_score: 6\n",
      "MiniCheck score: [0.02050635777413845]\n",
      "\n",
      "-------\n",
      "Question: What is the detailed description of the project, including its scope and objectives?\n",
      "Question enhanced: True\n"
     ]
    },
    {
     "name": "stderr",
     "output_type": "stream",
     "text": [
      "/home/chougar/miniconda3/lib/python3.11/site-packages/transformers/pipelines/question_answering.py:391: FutureWarning: Passing a list of SQuAD examples to the pipeline is deprecated and will be removed in v5. Inputs should be passed using the `question` and `context` keyword arguments instead.\n",
      "  warnings.warn(\n",
      "/home/chougar/miniconda3/lib/python3.11/site-packages/transformers/pipelines/question_answering.py:391: FutureWarning: Passing a list of SQuAD examples to the pipeline is deprecated and will be removed in v5. Inputs should be passed using the `question` and `context` keyword arguments instead.\n",
      "  warnings.warn(\n"
     ]
    },
    {
     "name": "stdout",
     "output_type": "stream",
     "text": [
      "Retrieved unique docs: 24\n",
      "Sorted docs: 8\n",
      "Retrieved unique docs: 24\n",
      "Sorted docs: 8\n"
     ]
    },
    {
     "name": "stderr",
     "output_type": "stream",
     "text": [
      "Evaluating: 100%|██████████| 1/1 [00:00<00:00,  2.57it/s]\n"
     ]
    },
    {
     "name": "stdout",
     "output_type": "stream",
     "text": [
      "LLM Eval_score: 7\n",
      "MiniCheck score: [0.4817027747631073]\n",
      "\n",
      "-------\n",
      "\n",
      "--------------------\n",
      "Question: Country and city\n",
      "Question enhanced: False\n"
     ]
    },
    {
     "name": "stderr",
     "output_type": "stream",
     "text": [
      "/home/chougar/miniconda3/lib/python3.11/site-packages/transformers/pipelines/question_answering.py:391: FutureWarning: Passing a list of SQuAD examples to the pipeline is deprecated and will be removed in v5. Inputs should be passed using the `question` and `context` keyword arguments instead.\n",
      "  warnings.warn(\n",
      "/home/chougar/miniconda3/lib/python3.11/site-packages/transformers/pipelines/question_answering.py:391: FutureWarning: Passing a list of SQuAD examples to the pipeline is deprecated and will be removed in v5. Inputs should be passed using the `question` and `context` keyword arguments instead.\n",
      "  warnings.warn(\n"
     ]
    },
    {
     "name": "stdout",
     "output_type": "stream",
     "text": [
      "Retrieved unique docs: 25\n",
      "Sorted docs: 8\n",
      "Retrieved unique docs: 25\n",
      "Sorted docs: 8\n"
     ]
    },
    {
     "name": "stderr",
     "output_type": "stream",
     "text": [
      "/home/chougar/miniconda3/lib/python3.11/site-packages/transformers/pipelines/question_answering.py:391: FutureWarning: Passing a list of SQuAD examples to the pipeline is deprecated and will be removed in v5. Inputs should be passed using the `question` and `context` keyword arguments instead.\n",
      "  warnings.warn(\n",
      "Evaluating: 100%|██████████| 1/1 [00:00<00:00,  6.60it/s]\n"
     ]
    },
    {
     "name": "stdout",
     "output_type": "stream",
     "text": [
      "LLM Eval_score: 6\n",
      "MiniCheck score: [0.034841276705265045]\n",
      "\n",
      "-------\n",
      "Question: What is the specific country and city where the project is located?\n",
      "Question enhanced: True\n"
     ]
    },
    {
     "name": "stderr",
     "output_type": "stream",
     "text": [
      "/home/chougar/miniconda3/lib/python3.11/site-packages/transformers/pipelines/question_answering.py:391: FutureWarning: Passing a list of SQuAD examples to the pipeline is deprecated and will be removed in v5. Inputs should be passed using the `question` and `context` keyword arguments instead.\n",
      "  warnings.warn(\n",
      "/home/chougar/miniconda3/lib/python3.11/site-packages/transformers/pipelines/question_answering.py:391: FutureWarning: Passing a list of SQuAD examples to the pipeline is deprecated and will be removed in v5. Inputs should be passed using the `question` and `context` keyword arguments instead.\n",
      "  warnings.warn(\n"
     ]
    },
    {
     "name": "stdout",
     "output_type": "stream",
     "text": [
      "Retrieved unique docs: 23\n",
      "Sorted docs: 8\n"
     ]
    },
    {
     "name": "stderr",
     "output_type": "stream",
     "text": [
      "/home/chougar/miniconda3/lib/python3.11/site-packages/transformers/pipelines/question_answering.py:391: FutureWarning: Passing a list of SQuAD examples to the pipeline is deprecated and will be removed in v5. Inputs should be passed using the `question` and `context` keyword arguments instead.\n",
      "  warnings.warn(\n"
     ]
    },
    {
     "name": "stdout",
     "output_type": "stream",
     "text": [
      "Retrieved unique docs: 23\n",
      "Sorted docs: 8\n"
     ]
    },
    {
     "name": "stderr",
     "output_type": "stream",
     "text": [
      "Evaluating: 100%|██████████| 1/1 [00:00<00:00,  5.25it/s]\n"
     ]
    },
    {
     "name": "stdout",
     "output_type": "stream",
     "text": [
      "LLM Eval_score: 7\n",
      "MiniCheck score: [0.9235244393348694]\n",
      "\n",
      "-------\n",
      "\n",
      "--------------------\n",
      "Question: Target beneficiaries\n",
      "Question enhanced: False\n"
     ]
    },
    {
     "name": "stderr",
     "output_type": "stream",
     "text": [
      "/home/chougar/miniconda3/lib/python3.11/site-packages/transformers/pipelines/question_answering.py:391: FutureWarning: Passing a list of SQuAD examples to the pipeline is deprecated and will be removed in v5. Inputs should be passed using the `question` and `context` keyword arguments instead.\n",
      "  warnings.warn(\n",
      "/home/chougar/miniconda3/lib/python3.11/site-packages/transformers/pipelines/question_answering.py:391: FutureWarning: Passing a list of SQuAD examples to the pipeline is deprecated and will be removed in v5. Inputs should be passed using the `question` and `context` keyword arguments instead.\n",
      "  warnings.warn(\n"
     ]
    },
    {
     "name": "stdout",
     "output_type": "stream",
     "text": [
      "Retrieved unique docs: 23\n",
      "Sorted docs: 8\n",
      "Retrieved unique docs: 23\n",
      "Sorted docs: 8\n"
     ]
    },
    {
     "name": "stderr",
     "output_type": "stream",
     "text": [
      "/home/chougar/miniconda3/lib/python3.11/site-packages/transformers/pipelines/question_answering.py:391: FutureWarning: Passing a list of SQuAD examples to the pipeline is deprecated and will be removed in v5. Inputs should be passed using the `question` and `context` keyword arguments instead.\n",
      "  warnings.warn(\n",
      "Evaluating: 100%|██████████| 1/1 [00:00<00:00,  5.56it/s]\n"
     ]
    },
    {
     "name": "stdout",
     "output_type": "stream",
     "text": [
      "LLM Eval_score: 8\n",
      "MiniCheck score: [0.12091516703367233]\n",
      "\n",
      "-------\n",
      "Question: Who are the target beneficiaries of the project?\n",
      "Question enhanced: True\n"
     ]
    },
    {
     "name": "stderr",
     "output_type": "stream",
     "text": [
      "/home/chougar/miniconda3/lib/python3.11/site-packages/transformers/pipelines/question_answering.py:391: FutureWarning: Passing a list of SQuAD examples to the pipeline is deprecated and will be removed in v5. Inputs should be passed using the `question` and `context` keyword arguments instead.\n",
      "  warnings.warn(\n",
      "/home/chougar/miniconda3/lib/python3.11/site-packages/transformers/pipelines/question_answering.py:391: FutureWarning: Passing a list of SQuAD examples to the pipeline is deprecated and will be removed in v5. Inputs should be passed using the `question` and `context` keyword arguments instead.\n",
      "  warnings.warn(\n"
     ]
    },
    {
     "name": "stdout",
     "output_type": "stream",
     "text": [
      "Retrieved unique docs: 26\n",
      "Sorted docs: 8\n",
      "Retrieved unique docs: 26\n",
      "Sorted docs: 8\n"
     ]
    },
    {
     "name": "stderr",
     "output_type": "stream",
     "text": [
      "/home/chougar/miniconda3/lib/python3.11/site-packages/transformers/pipelines/question_answering.py:391: FutureWarning: Passing a list of SQuAD examples to the pipeline is deprecated and will be removed in v5. Inputs should be passed using the `question` and `context` keyword arguments instead.\n",
      "  warnings.warn(\n",
      "Evaluating: 100%|██████████| 1/1 [00:00<00:00,  5.48it/s]\n"
     ]
    },
    {
     "name": "stdout",
     "output_type": "stream",
     "text": [
      "LLM Eval_score: 7\n",
      "MiniCheck score: [0.20092874765396118]\n",
      "\n",
      "-------\n",
      "\n",
      "--------------------\n",
      "Question: Number of people concerned\n",
      "Question enhanced: False\n"
     ]
    },
    {
     "name": "stderr",
     "output_type": "stream",
     "text": [
      "/home/chougar/miniconda3/lib/python3.11/site-packages/transformers/pipelines/question_answering.py:391: FutureWarning: Passing a list of SQuAD examples to the pipeline is deprecated and will be removed in v5. Inputs should be passed using the `question` and `context` keyword arguments instead.\n",
      "  warnings.warn(\n",
      "/home/chougar/miniconda3/lib/python3.11/site-packages/transformers/pipelines/question_answering.py:391: FutureWarning: Passing a list of SQuAD examples to the pipeline is deprecated and will be removed in v5. Inputs should be passed using the `question` and `context` keyword arguments instead.\n",
      "  warnings.warn(\n"
     ]
    },
    {
     "name": "stdout",
     "output_type": "stream",
     "text": [
      "Retrieved unique docs: 23\n",
      "Sorted docs: 8\n",
      "Retrieved unique docs: 23\n",
      "Sorted docs: 8\n"
     ]
    },
    {
     "name": "stderr",
     "output_type": "stream",
     "text": [
      "Evaluating: 100%|██████████| 1/1 [00:00<00:00,  6.28it/s]\n"
     ]
    },
    {
     "name": "stdout",
     "output_type": "stream",
     "text": [
      "LLM Eval_score: 9\n",
      "MiniCheck score: [0.1603333204984665]\n",
      "\n",
      "-------\n",
      "Question: How many individuals are impacted by the project?\n",
      "Question enhanced: True\n"
     ]
    },
    {
     "name": "stderr",
     "output_type": "stream",
     "text": [
      "/home/chougar/miniconda3/lib/python3.11/site-packages/transformers/pipelines/question_answering.py:391: FutureWarning: Passing a list of SQuAD examples to the pipeline is deprecated and will be removed in v5. Inputs should be passed using the `question` and `context` keyword arguments instead.\n",
      "  warnings.warn(\n",
      "/home/chougar/miniconda3/lib/python3.11/site-packages/transformers/pipelines/question_answering.py:391: FutureWarning: Passing a list of SQuAD examples to the pipeline is deprecated and will be removed in v5. Inputs should be passed using the `question` and `context` keyword arguments instead.\n",
      "  warnings.warn(\n"
     ]
    },
    {
     "name": "stdout",
     "output_type": "stream",
     "text": [
      "Retrieved unique docs: 22\n",
      "Sorted docs: 8\n",
      "Retrieved unique docs: 22\n",
      "Sorted docs: 8\n"
     ]
    },
    {
     "name": "stderr",
     "output_type": "stream",
     "text": [
      "/home/chougar/miniconda3/lib/python3.11/site-packages/transformers/pipelines/question_answering.py:391: FutureWarning: Passing a list of SQuAD examples to the pipeline is deprecated and will be removed in v5. Inputs should be passed using the `question` and `context` keyword arguments instead.\n",
      "  warnings.warn(\n",
      "Evaluating: 100%|██████████| 1/1 [00:00<00:00,  5.89it/s]\n"
     ]
    },
    {
     "name": "stdout",
     "output_type": "stream",
     "text": [
      "LLM Eval_score: 8\n",
      "MiniCheck score: [0.18638822436332703]\n",
      "\n",
      "-------\n",
      "\n",
      "--------------------\n",
      "Question: Context, environment, project rationale and challenges\n",
      "Question enhanced: False\n"
     ]
    },
    {
     "name": "stderr",
     "output_type": "stream",
     "text": [
      "/home/chougar/miniconda3/lib/python3.11/site-packages/transformers/pipelines/question_answering.py:391: FutureWarning: Passing a list of SQuAD examples to the pipeline is deprecated and will be removed in v5. Inputs should be passed using the `question` and `context` keyword arguments instead.\n",
      "  warnings.warn(\n",
      "/home/chougar/miniconda3/lib/python3.11/site-packages/transformers/pipelines/question_answering.py:391: FutureWarning: Passing a list of SQuAD examples to the pipeline is deprecated and will be removed in v5. Inputs should be passed using the `question` and `context` keyword arguments instead.\n",
      "  warnings.warn(\n"
     ]
    },
    {
     "name": "stdout",
     "output_type": "stream",
     "text": [
      "Retrieved unique docs: 23\n",
      "Sorted docs: 8\n",
      "Retrieved unique docs: 23\n",
      "Sorted docs: 8\n"
     ]
    },
    {
     "name": "stderr",
     "output_type": "stream",
     "text": [
      "Evaluating: 100%|██████████| 1/1 [00:02<00:00,  2.60s/it]\n"
     ]
    },
    {
     "name": "stdout",
     "output_type": "stream",
     "text": [
      "LLM Eval_score: 7\n",
      "MiniCheck score: [0.951094388961792]\n",
      "\n",
      "-------\n",
      "Question: What are the contextual factors, environmental considerations, project rationale, and challenges associated with this project?\n",
      "Question enhanced: True\n"
     ]
    },
    {
     "name": "stderr",
     "output_type": "stream",
     "text": [
      "/home/chougar/miniconda3/lib/python3.11/site-packages/transformers/pipelines/question_answering.py:391: FutureWarning: Passing a list of SQuAD examples to the pipeline is deprecated and will be removed in v5. Inputs should be passed using the `question` and `context` keyword arguments instead.\n",
      "  warnings.warn(\n",
      "/home/chougar/miniconda3/lib/python3.11/site-packages/transformers/pipelines/question_answering.py:391: FutureWarning: Passing a list of SQuAD examples to the pipeline is deprecated and will be removed in v5. Inputs should be passed using the `question` and `context` keyword arguments instead.\n",
      "  warnings.warn(\n"
     ]
    },
    {
     "name": "stdout",
     "output_type": "stream",
     "text": [
      "Retrieved unique docs: 25\n",
      "Sorted docs: 8\n",
      "Retrieved unique docs: 25\n",
      "Sorted docs: 8\n"
     ]
    },
    {
     "name": "stderr",
     "output_type": "stream",
     "text": [
      "/home/chougar/miniconda3/lib/python3.11/site-packages/transformers/pipelines/question_answering.py:391: FutureWarning: Passing a list of SQuAD examples to the pipeline is deprecated and will be removed in v5. Inputs should be passed using the `question` and `context` keyword arguments instead.\n",
      "  warnings.warn(\n",
      "Evaluating: 100%|██████████| 1/1 [00:02<00:00,  2.83s/it]\n"
     ]
    },
    {
     "name": "stdout",
     "output_type": "stream",
     "text": [
      "LLM Eval_score: 7\n",
      "MiniCheck score: [0.6853238344192505]\n",
      "\n",
      "-------\n",
      "\n",
      "--------------------\n",
      "Question: Project start date / end date\n",
      "Question enhanced: False\n"
     ]
    },
    {
     "name": "stderr",
     "output_type": "stream",
     "text": [
      "/home/chougar/miniconda3/lib/python3.11/site-packages/transformers/pipelines/question_answering.py:391: FutureWarning: Passing a list of SQuAD examples to the pipeline is deprecated and will be removed in v5. Inputs should be passed using the `question` and `context` keyword arguments instead.\n",
      "  warnings.warn(\n",
      "/home/chougar/miniconda3/lib/python3.11/site-packages/transformers/pipelines/question_answering.py:391: FutureWarning: Passing a list of SQuAD examples to the pipeline is deprecated and will be removed in v5. Inputs should be passed using the `question` and `context` keyword arguments instead.\n",
      "  warnings.warn(\n"
     ]
    },
    {
     "name": "stdout",
     "output_type": "stream",
     "text": [
      "Retrieved unique docs: 25\n",
      "Sorted docs: 8\n",
      "Retrieved unique docs: 25\n",
      "Sorted docs: 8\n"
     ]
    },
    {
     "name": "stderr",
     "output_type": "stream",
     "text": [
      "/home/chougar/miniconda3/lib/python3.11/site-packages/transformers/pipelines/question_answering.py:391: FutureWarning: Passing a list of SQuAD examples to the pipeline is deprecated and will be removed in v5. Inputs should be passed using the `question` and `context` keyword arguments instead.\n",
      "  warnings.warn(\n",
      "Evaluating: 100%|██████████| 1/1 [00:00<00:00,  5.75it/s]\n"
     ]
    },
    {
     "name": "stdout",
     "output_type": "stream",
     "text": [
      "LLM Eval_score: 10\n",
      "MiniCheck score: [0.25516653060913086]\n",
      "\n",
      "-------\n",
      "Question: What are the start and end dates of the project?\n",
      "Question enhanced: True\n"
     ]
    },
    {
     "name": "stderr",
     "output_type": "stream",
     "text": [
      "/home/chougar/miniconda3/lib/python3.11/site-packages/transformers/pipelines/question_answering.py:391: FutureWarning: Passing a list of SQuAD examples to the pipeline is deprecated and will be removed in v5. Inputs should be passed using the `question` and `context` keyword arguments instead.\n",
      "  warnings.warn(\n",
      "/home/chougar/miniconda3/lib/python3.11/site-packages/transformers/pipelines/question_answering.py:391: FutureWarning: Passing a list of SQuAD examples to the pipeline is deprecated and will be removed in v5. Inputs should be passed using the `question` and `context` keyword arguments instead.\n",
      "  warnings.warn(\n"
     ]
    },
    {
     "name": "stdout",
     "output_type": "stream",
     "text": [
      "Retrieved unique docs: 25\n",
      "Sorted docs: 8\n",
      "Retrieved unique docs: 25\n",
      "Sorted docs: 8\n"
     ]
    },
    {
     "name": "stderr",
     "output_type": "stream",
     "text": [
      "/home/chougar/miniconda3/lib/python3.11/site-packages/transformers/pipelines/question_answering.py:391: FutureWarning: Passing a list of SQuAD examples to the pipeline is deprecated and will be removed in v5. Inputs should be passed using the `question` and `context` keyword arguments instead.\n",
      "  warnings.warn(\n",
      "Evaluating: 100%|██████████| 1/1 [00:00<00:00,  5.68it/s]\n"
     ]
    },
    {
     "name": "stdout",
     "output_type": "stream",
     "text": [
      "LLM Eval_score: 10\n",
      "MiniCheck score: [0.7088745832443237]\n",
      "\n",
      "-------\n",
      "\n",
      "--------------------\n",
      "Question: Project budget \n",
      "            Total amount of the project (in Euros) \n",
      "            \n",
      "            Amount of donation requested from the Foundation (in Euros) \n",
      "            \n",
      "            Detailed provisional project budget \n",
      "            \n",
      "            Detailed project budget for current year\n",
      "        \n",
      "Question enhanced: False\n"
     ]
    },
    {
     "name": "stderr",
     "output_type": "stream",
     "text": [
      "/home/chougar/miniconda3/lib/python3.11/site-packages/transformers/pipelines/question_answering.py:391: FutureWarning: Passing a list of SQuAD examples to the pipeline is deprecated and will be removed in v5. Inputs should be passed using the `question` and `context` keyword arguments instead.\n",
      "  warnings.warn(\n",
      "/home/chougar/miniconda3/lib/python3.11/site-packages/transformers/pipelines/question_answering.py:391: FutureWarning: Passing a list of SQuAD examples to the pipeline is deprecated and will be removed in v5. Inputs should be passed using the `question` and `context` keyword arguments instead.\n",
      "  warnings.warn(\n"
     ]
    },
    {
     "name": "stdout",
     "output_type": "stream",
     "text": [
      "Retrieved unique docs: 23\n",
      "Sorted docs: 8\n",
      "Retrieved unique docs: 23\n",
      "Sorted docs: 8\n"
     ]
    },
    {
     "name": "stderr",
     "output_type": "stream",
     "text": [
      "/home/chougar/miniconda3/lib/python3.11/site-packages/transformers/pipelines/question_answering.py:391: FutureWarning: Passing a list of SQuAD examples to the pipeline is deprecated and will be removed in v5. Inputs should be passed using the `question` and `context` keyword arguments instead.\n",
      "  warnings.warn(\n",
      "Evaluating: 100%|██████████| 1/1 [00:00<00:00,  5.50it/s]\n"
     ]
    },
    {
     "name": "stdout",
     "output_type": "stream",
     "text": [
      "LLM Eval_score: 7\n",
      "MiniCheck score: [0.7097054123878479]\n",
      "\n",
      "-------\n",
      "Question: What is the total project budget in Euros, including the amount of donation requested from the Foundation, the detailed provisional budget, and the budget for the current year?\n",
      "Question enhanced: True\n"
     ]
    },
    {
     "name": "stderr",
     "output_type": "stream",
     "text": [
      "/home/chougar/miniconda3/lib/python3.11/site-packages/transformers/pipelines/question_answering.py:391: FutureWarning: Passing a list of SQuAD examples to the pipeline is deprecated and will be removed in v5. Inputs should be passed using the `question` and `context` keyword arguments instead.\n",
      "  warnings.warn(\n",
      "/home/chougar/miniconda3/lib/python3.11/site-packages/transformers/pipelines/question_answering.py:391: FutureWarning: Passing a list of SQuAD examples to the pipeline is deprecated and will be removed in v5. Inputs should be passed using the `question` and `context` keyword arguments instead.\n",
      "  warnings.warn(\n"
     ]
    },
    {
     "name": "stdout",
     "output_type": "stream",
     "text": [
      "Retrieved unique docs: 26\n",
      "Sorted docs: 8\n",
      "Retrieved unique docs: 26\n",
      "Sorted docs: 8\n"
     ]
    },
    {
     "name": "stderr",
     "output_type": "stream",
     "text": [
      "/home/chougar/miniconda3/lib/python3.11/site-packages/transformers/pipelines/question_answering.py:391: FutureWarning: Passing a list of SQuAD examples to the pipeline is deprecated and will be removed in v5. Inputs should be passed using the `question` and `context` keyword arguments instead.\n",
      "  warnings.warn(\n",
      "Evaluating: 100%|██████████| 1/1 [00:00<00:00,  5.62it/s]\n"
     ]
    },
    {
     "name": "stdout",
     "output_type": "stream",
     "text": [
      "LLM Eval_score: 8\n",
      "MiniCheck score: [0.214956596493721]\n",
      "\n",
      "-------\n",
      "\n",
      "--------------------\n",
      "Dense retriever type: chroma\n",
      "Sparse retriever type: bm25\n",
      "Question: Description of the project\n",
      "Question enhanced: False\n"
     ]
    },
    {
     "name": "stderr",
     "output_type": "stream",
     "text": [
      "/home/chougar/miniconda3/lib/python3.11/site-packages/transformers/pipelines/question_answering.py:391: FutureWarning: Passing a list of SQuAD examples to the pipeline is deprecated and will be removed in v5. Inputs should be passed using the `question` and `context` keyword arguments instead.\n",
      "  warnings.warn(\n",
      "/home/chougar/miniconda3/lib/python3.11/site-packages/transformers/pipelines/question_answering.py:391: FutureWarning: Passing a list of SQuAD examples to the pipeline is deprecated and will be removed in v5. Inputs should be passed using the `question` and `context` keyword arguments instead.\n",
      "  warnings.warn(\n"
     ]
    },
    {
     "name": "stdout",
     "output_type": "stream",
     "text": [
      "Retrieved unique docs: 23\n",
      "Sorted docs: 8\n",
      "Retrieved unique docs: 23\n",
      "Sorted docs: 8\n"
     ]
    },
    {
     "name": "stderr",
     "output_type": "stream",
     "text": [
      "/home/chougar/miniconda3/lib/python3.11/site-packages/transformers/pipelines/question_answering.py:391: FutureWarning: Passing a list of SQuAD examples to the pipeline is deprecated and will be removed in v5. Inputs should be passed using the `question` and `context` keyword arguments instead.\n",
      "  warnings.warn(\n",
      "Evaluating: 100%|██████████| 1/1 [00:00<00:00,  2.81it/s]\n"
     ]
    },
    {
     "name": "stdout",
     "output_type": "stream",
     "text": [
      "LLM Eval_score: 6\n",
      "MiniCheck score: [0.018422111868858337]\n",
      "\n",
      "-------\n",
      "Question: What are the key objectives and overall scope of the project?\n",
      "Question enhanced: True\n"
     ]
    },
    {
     "name": "stderr",
     "output_type": "stream",
     "text": [
      "/home/chougar/miniconda3/lib/python3.11/site-packages/transformers/pipelines/question_answering.py:391: FutureWarning: Passing a list of SQuAD examples to the pipeline is deprecated and will be removed in v5. Inputs should be passed using the `question` and `context` keyword arguments instead.\n",
      "  warnings.warn(\n",
      "/home/chougar/miniconda3/lib/python3.11/site-packages/transformers/pipelines/question_answering.py:391: FutureWarning: Passing a list of SQuAD examples to the pipeline is deprecated and will be removed in v5. Inputs should be passed using the `question` and `context` keyword arguments instead.\n",
      "  warnings.warn(\n"
     ]
    },
    {
     "name": "stdout",
     "output_type": "stream",
     "text": [
      "Retrieved unique docs: 24\n",
      "Sorted docs: 8\n",
      "Retrieved unique docs: 24\n",
      "Sorted docs: 8\n"
     ]
    },
    {
     "name": "stderr",
     "output_type": "stream",
     "text": [
      "Evaluating: 100%|██████████| 1/1 [00:00<00:00,  3.86it/s]\n"
     ]
    },
    {
     "name": "stdout",
     "output_type": "stream",
     "text": [
      "LLM Eval_score: 7\n",
      "MiniCheck score: [0.5178934335708618]\n",
      "\n",
      "-------\n",
      "\n",
      "--------------------\n",
      "Question: Country and city\n",
      "Question enhanced: False\n"
     ]
    },
    {
     "name": "stderr",
     "output_type": "stream",
     "text": [
      "/home/chougar/miniconda3/lib/python3.11/site-packages/transformers/pipelines/question_answering.py:391: FutureWarning: Passing a list of SQuAD examples to the pipeline is deprecated and will be removed in v5. Inputs should be passed using the `question` and `context` keyword arguments instead.\n",
      "  warnings.warn(\n",
      "/home/chougar/miniconda3/lib/python3.11/site-packages/transformers/pipelines/question_answering.py:391: FutureWarning: Passing a list of SQuAD examples to the pipeline is deprecated and will be removed in v5. Inputs should be passed using the `question` and `context` keyword arguments instead.\n",
      "  warnings.warn(\n"
     ]
    },
    {
     "name": "stdout",
     "output_type": "stream",
     "text": [
      "Retrieved unique docs: 25\n",
      "Sorted docs: 8\n",
      "Retrieved unique docs: 25\n",
      "Sorted docs: 8\n"
     ]
    },
    {
     "name": "stderr",
     "output_type": "stream",
     "text": [
      "Evaluating: 100%|██████████| 1/1 [00:00<00:00,  6.48it/s]\n"
     ]
    },
    {
     "name": "stdout",
     "output_type": "stream",
     "text": [
      "LLM Eval_score: 6\n",
      "MiniCheck score: [0.01261227112263441]\n",
      "\n",
      "-------\n",
      "Question: What is the specific country and city where the project is located?\n",
      "Question enhanced: True\n"
     ]
    },
    {
     "name": "stderr",
     "output_type": "stream",
     "text": [
      "/home/chougar/miniconda3/lib/python3.11/site-packages/transformers/pipelines/question_answering.py:391: FutureWarning: Passing a list of SQuAD examples to the pipeline is deprecated and will be removed in v5. Inputs should be passed using the `question` and `context` keyword arguments instead.\n",
      "  warnings.warn(\n",
      "/home/chougar/miniconda3/lib/python3.11/site-packages/transformers/pipelines/question_answering.py:391: FutureWarning: Passing a list of SQuAD examples to the pipeline is deprecated and will be removed in v5. Inputs should be passed using the `question` and `context` keyword arguments instead.\n",
      "  warnings.warn(\n"
     ]
    },
    {
     "name": "stdout",
     "output_type": "stream",
     "text": [
      "Retrieved unique docs: 25\n",
      "Sorted docs: 8\n",
      "Retrieved unique docs: 25\n",
      "Sorted docs: 8\n"
     ]
    },
    {
     "name": "stderr",
     "output_type": "stream",
     "text": [
      "/home/chougar/miniconda3/lib/python3.11/site-packages/transformers/pipelines/question_answering.py:391: FutureWarning: Passing a list of SQuAD examples to the pipeline is deprecated and will be removed in v5. Inputs should be passed using the `question` and `context` keyword arguments instead.\n",
      "  warnings.warn(\n",
      "Evaluating: 100%|██████████| 1/1 [00:00<00:00,  5.77it/s]\n"
     ]
    },
    {
     "name": "stdout",
     "output_type": "stream",
     "text": [
      "LLM Eval_score: 6\n",
      "MiniCheck score: [0.9493037462234497]\n",
      "\n",
      "-------\n",
      "\n",
      "--------------------\n",
      "Question: Target beneficiaries\n",
      "Question enhanced: False\n"
     ]
    },
    {
     "name": "stderr",
     "output_type": "stream",
     "text": [
      "/home/chougar/miniconda3/lib/python3.11/site-packages/transformers/pipelines/question_answering.py:391: FutureWarning: Passing a list of SQuAD examples to the pipeline is deprecated and will be removed in v5. Inputs should be passed using the `question` and `context` keyword arguments instead.\n",
      "  warnings.warn(\n",
      "/home/chougar/miniconda3/lib/python3.11/site-packages/transformers/pipelines/question_answering.py:391: FutureWarning: Passing a list of SQuAD examples to the pipeline is deprecated and will be removed in v5. Inputs should be passed using the `question` and `context` keyword arguments instead.\n",
      "  warnings.warn(\n"
     ]
    },
    {
     "name": "stdout",
     "output_type": "stream",
     "text": [
      "Retrieved unique docs: 24\n",
      "Sorted docs: 8\n"
     ]
    },
    {
     "name": "stderr",
     "output_type": "stream",
     "text": [
      "/home/chougar/miniconda3/lib/python3.11/site-packages/transformers/pipelines/question_answering.py:391: FutureWarning: Passing a list of SQuAD examples to the pipeline is deprecated and will be removed in v5. Inputs should be passed using the `question` and `context` keyword arguments instead.\n",
      "  warnings.warn(\n"
     ]
    },
    {
     "name": "stdout",
     "output_type": "stream",
     "text": [
      "Retrieved unique docs: 24\n",
      "Sorted docs: 8\n"
     ]
    },
    {
     "name": "stderr",
     "output_type": "stream",
     "text": [
      "Evaluating: 100%|██████████| 1/1 [00:00<00:00,  5.69it/s]\n"
     ]
    },
    {
     "name": "stdout",
     "output_type": "stream",
     "text": [
      "LLM Eval_score: 8\n",
      "MiniCheck score: [0.125643789768219]\n",
      "\n",
      "-------\n",
      "Question: Who are the target beneficiaries of the project?\n",
      "Question enhanced: True\n"
     ]
    },
    {
     "name": "stderr",
     "output_type": "stream",
     "text": [
      "/home/chougar/miniconda3/lib/python3.11/site-packages/transformers/pipelines/question_answering.py:391: FutureWarning: Passing a list of SQuAD examples to the pipeline is deprecated and will be removed in v5. Inputs should be passed using the `question` and `context` keyword arguments instead.\n",
      "  warnings.warn(\n",
      "/home/chougar/miniconda3/lib/python3.11/site-packages/transformers/pipelines/question_answering.py:391: FutureWarning: Passing a list of SQuAD examples to the pipeline is deprecated and will be removed in v5. Inputs should be passed using the `question` and `context` keyword arguments instead.\n",
      "  warnings.warn(\n"
     ]
    },
    {
     "name": "stdout",
     "output_type": "stream",
     "text": [
      "Retrieved unique docs: 26\n",
      "Sorted docs: 8\n",
      "Retrieved unique docs: 26\n",
      "Sorted docs: 8\n"
     ]
    },
    {
     "name": "stderr",
     "output_type": "stream",
     "text": [
      "/home/chougar/miniconda3/lib/python3.11/site-packages/transformers/pipelines/question_answering.py:391: FutureWarning: Passing a list of SQuAD examples to the pipeline is deprecated and will be removed in v5. Inputs should be passed using the `question` and `context` keyword arguments instead.\n",
      "  warnings.warn(\n",
      "Evaluating: 100%|██████████| 1/1 [00:00<00:00,  5.64it/s]\n"
     ]
    },
    {
     "name": "stdout",
     "output_type": "stream",
     "text": [
      "LLM Eval_score: 7\n",
      "MiniCheck score: [0.8518120646476746]\n",
      "\n",
      "-------\n",
      "\n",
      "--------------------\n",
      "Question: Number of people concerned\n",
      "Question enhanced: False\n"
     ]
    },
    {
     "name": "stderr",
     "output_type": "stream",
     "text": [
      "/home/chougar/miniconda3/lib/python3.11/site-packages/transformers/pipelines/question_answering.py:391: FutureWarning: Passing a list of SQuAD examples to the pipeline is deprecated and will be removed in v5. Inputs should be passed using the `question` and `context` keyword arguments instead.\n",
      "  warnings.warn(\n",
      "/home/chougar/miniconda3/lib/python3.11/site-packages/transformers/pipelines/question_answering.py:391: FutureWarning: Passing a list of SQuAD examples to the pipeline is deprecated and will be removed in v5. Inputs should be passed using the `question` and `context` keyword arguments instead.\n",
      "  warnings.warn(\n"
     ]
    },
    {
     "name": "stdout",
     "output_type": "stream",
     "text": [
      "Retrieved unique docs: 19\n",
      "Sorted docs: 8\n",
      "Retrieved unique docs: 19\n",
      "Sorted docs: 8\n"
     ]
    },
    {
     "name": "stderr",
     "output_type": "stream",
     "text": [
      "Evaluating: 100%|██████████| 1/1 [00:00<00:00,  5.49it/s]\n"
     ]
    },
    {
     "name": "stdout",
     "output_type": "stream",
     "text": [
      "LLM Eval_score: 6\n",
      "MiniCheck score: [0.18129213154315948]\n",
      "\n",
      "-------\n",
      "Question: How many individuals are impacted by the project?\n",
      "Question enhanced: True\n"
     ]
    },
    {
     "name": "stderr",
     "output_type": "stream",
     "text": [
      "/home/chougar/miniconda3/lib/python3.11/site-packages/transformers/pipelines/question_answering.py:391: FutureWarning: Passing a list of SQuAD examples to the pipeline is deprecated and will be removed in v5. Inputs should be passed using the `question` and `context` keyword arguments instead.\n",
      "  warnings.warn(\n",
      "/home/chougar/miniconda3/lib/python3.11/site-packages/transformers/pipelines/question_answering.py:391: FutureWarning: Passing a list of SQuAD examples to the pipeline is deprecated and will be removed in v5. Inputs should be passed using the `question` and `context` keyword arguments instead.\n",
      "  warnings.warn(\n",
      "/home/chougar/miniconda3/lib/python3.11/site-packages/transformers/pipelines/question_answering.py:391: FutureWarning: Passing a list of SQuAD examples to the pipeline is deprecated and will be removed in v5. Inputs should be passed using the `question` and `context` keyword arguments instead.\n",
      "  warnings.warn(\n",
      "/home/chougar/miniconda3/lib/python3.11/site-packages/transformers/pipelines/question_answering.py:391: FutureWarning: Passing a list of SQuAD examples to the pipeline is deprecated and will be removed in v5. Inputs should be passed using the `question` and `context` keyword arguments instead.\n",
      "  warnings.warn(\n"
     ]
    },
    {
     "name": "stdout",
     "output_type": "stream",
     "text": [
      "Retrieved unique docs: 26\n",
      "Sorted docs: 8\n",
      "Retrieved unique docs: 26\n",
      "Sorted docs: 8\n"
     ]
    },
    {
     "name": "stderr",
     "output_type": "stream",
     "text": [
      "Evaluating: 100%|██████████| 1/1 [00:00<00:00,  6.09it/s]\n"
     ]
    },
    {
     "name": "stdout",
     "output_type": "stream",
     "text": [
      "LLM Eval_score: 8\n",
      "MiniCheck score: [0.1384962499141693]\n",
      "\n",
      "-------\n",
      "\n",
      "--------------------\n",
      "Question: Context, environment, project rationale and challenges\n",
      "Question enhanced: False\n"
     ]
    },
    {
     "name": "stderr",
     "output_type": "stream",
     "text": [
      "/home/chougar/miniconda3/lib/python3.11/site-packages/transformers/pipelines/question_answering.py:391: FutureWarning: Passing a list of SQuAD examples to the pipeline is deprecated and will be removed in v5. Inputs should be passed using the `question` and `context` keyword arguments instead.\n",
      "  warnings.warn(\n",
      "/home/chougar/miniconda3/lib/python3.11/site-packages/transformers/pipelines/question_answering.py:391: FutureWarning: Passing a list of SQuAD examples to the pipeline is deprecated and will be removed in v5. Inputs should be passed using the `question` and `context` keyword arguments instead.\n",
      "  warnings.warn(\n"
     ]
    },
    {
     "name": "stdout",
     "output_type": "stream",
     "text": [
      "Retrieved unique docs: 26\n",
      "Sorted docs: 8\n",
      "Retrieved unique docs: 26\n",
      "Sorted docs: 8\n"
     ]
    },
    {
     "name": "stderr",
     "output_type": "stream",
     "text": [
      "/home/chougar/miniconda3/lib/python3.11/site-packages/transformers/pipelines/question_answering.py:391: FutureWarning: Passing a list of SQuAD examples to the pipeline is deprecated and will be removed in v5. Inputs should be passed using the `question` and `context` keyword arguments instead.\n",
      "  warnings.warn(\n",
      "Evaluating: 100%|██████████| 1/1 [00:02<00:00,  2.58s/it]\n"
     ]
    },
    {
     "name": "stdout",
     "output_type": "stream",
     "text": [
      "LLM Eval_score: 7\n",
      "MiniCheck score: [0.9437387585639954]\n",
      "\n",
      "-------\n",
      "Question: What are the contextual factors, environmental conditions, project rationale, and challenges associated with this project?\n",
      "Question enhanced: True\n"
     ]
    },
    {
     "name": "stderr",
     "output_type": "stream",
     "text": [
      "/home/chougar/miniconda3/lib/python3.11/site-packages/transformers/pipelines/question_answering.py:391: FutureWarning: Passing a list of SQuAD examples to the pipeline is deprecated and will be removed in v5. Inputs should be passed using the `question` and `context` keyword arguments instead.\n",
      "  warnings.warn(\n",
      "/home/chougar/miniconda3/lib/python3.11/site-packages/transformers/pipelines/question_answering.py:391: FutureWarning: Passing a list of SQuAD examples to the pipeline is deprecated and will be removed in v5. Inputs should be passed using the `question` and `context` keyword arguments instead.\n",
      "  warnings.warn(\n"
     ]
    },
    {
     "name": "stdout",
     "output_type": "stream",
     "text": [
      "Retrieved unique docs: 27\n",
      "Sorted docs: 8\n",
      "Retrieved unique docs: 27\n",
      "Sorted docs: 8\n"
     ]
    },
    {
     "name": "stderr",
     "output_type": "stream",
     "text": [
      "/home/chougar/miniconda3/lib/python3.11/site-packages/transformers/pipelines/question_answering.py:391: FutureWarning: Passing a list of SQuAD examples to the pipeline is deprecated and will be removed in v5. Inputs should be passed using the `question` and `context` keyword arguments instead.\n",
      "  warnings.warn(\n",
      "Evaluating: 100%|██████████| 1/1 [00:02<00:00,  2.59s/it]\n"
     ]
    },
    {
     "name": "stdout",
     "output_type": "stream",
     "text": [
      "LLM Eval_score: 7\n",
      "MiniCheck score: [0.09044094383716583]\n",
      "\n",
      "-------\n",
      "\n",
      "--------------------\n",
      "Question: Project start date / end date\n",
      "Question enhanced: False\n"
     ]
    },
    {
     "name": "stderr",
     "output_type": "stream",
     "text": [
      "/home/chougar/miniconda3/lib/python3.11/site-packages/transformers/pipelines/question_answering.py:391: FutureWarning: Passing a list of SQuAD examples to the pipeline is deprecated and will be removed in v5. Inputs should be passed using the `question` and `context` keyword arguments instead.\n",
      "  warnings.warn(\n",
      "/home/chougar/miniconda3/lib/python3.11/site-packages/transformers/pipelines/question_answering.py:391: FutureWarning: Passing a list of SQuAD examples to the pipeline is deprecated and will be removed in v5. Inputs should be passed using the `question` and `context` keyword arguments instead.\n",
      "  warnings.warn(\n"
     ]
    },
    {
     "name": "stdout",
     "output_type": "stream",
     "text": [
      "Retrieved unique docs: 23\n",
      "Sorted docs: 8\n"
     ]
    },
    {
     "name": "stderr",
     "output_type": "stream",
     "text": [
      "/home/chougar/miniconda3/lib/python3.11/site-packages/transformers/pipelines/question_answering.py:391: FutureWarning: Passing a list of SQuAD examples to the pipeline is deprecated and will be removed in v5. Inputs should be passed using the `question` and `context` keyword arguments instead.\n",
      "  warnings.warn(\n"
     ]
    },
    {
     "name": "stdout",
     "output_type": "stream",
     "text": [
      "Retrieved unique docs: 23\n",
      "Sorted docs: 8\n"
     ]
    },
    {
     "name": "stderr",
     "output_type": "stream",
     "text": [
      "Evaluating: 100%|██████████| 1/1 [00:00<00:00,  6.39it/s]\n"
     ]
    },
    {
     "name": "stdout",
     "output_type": "stream",
     "text": [
      "LLM Eval_score: 10\n",
      "MiniCheck score: [0.25516653060913086]\n",
      "\n",
      "-------\n",
      "Question: What are the start and end dates of the project?\n",
      "Question enhanced: True\n"
     ]
    },
    {
     "name": "stderr",
     "output_type": "stream",
     "text": [
      "/home/chougar/miniconda3/lib/python3.11/site-packages/transformers/pipelines/question_answering.py:391: FutureWarning: Passing a list of SQuAD examples to the pipeline is deprecated and will be removed in v5. Inputs should be passed using the `question` and `context` keyword arguments instead.\n",
      "  warnings.warn(\n",
      "/home/chougar/miniconda3/lib/python3.11/site-packages/transformers/pipelines/question_answering.py:391: FutureWarning: Passing a list of SQuAD examples to the pipeline is deprecated and will be removed in v5. Inputs should be passed using the `question` and `context` keyword arguments instead.\n",
      "  warnings.warn(\n"
     ]
    },
    {
     "name": "stdout",
     "output_type": "stream",
     "text": [
      "Retrieved unique docs: 22\n",
      "Sorted docs: 8\n",
      "Retrieved unique docs: 22\n",
      "Sorted docs: 8\n"
     ]
    },
    {
     "name": "stderr",
     "output_type": "stream",
     "text": [
      "/home/chougar/miniconda3/lib/python3.11/site-packages/transformers/pipelines/question_answering.py:391: FutureWarning: Passing a list of SQuAD examples to the pipeline is deprecated and will be removed in v5. Inputs should be passed using the `question` and `context` keyword arguments instead.\n",
      "  warnings.warn(\n",
      "Evaluating: 100%|██████████| 1/1 [00:00<00:00,  5.68it/s]\n"
     ]
    },
    {
     "name": "stdout",
     "output_type": "stream",
     "text": [
      "LLM Eval_score: 10\n",
      "MiniCheck score: [0.7088745832443237]\n",
      "\n",
      "-------\n",
      "\n",
      "--------------------\n",
      "Question: Project budget \n",
      "            Total amount of the project (in Euros) \n",
      "            \n",
      "            Amount of donation requested from the Foundation (in Euros) \n",
      "            \n",
      "            Detailed provisional project budget \n",
      "            \n",
      "            Detailed project budget for current year\n",
      "        \n",
      "Question enhanced: False\n"
     ]
    },
    {
     "name": "stderr",
     "output_type": "stream",
     "text": [
      "/home/chougar/miniconda3/lib/python3.11/site-packages/transformers/pipelines/question_answering.py:391: FutureWarning: Passing a list of SQuAD examples to the pipeline is deprecated and will be removed in v5. Inputs should be passed using the `question` and `context` keyword arguments instead.\n",
      "  warnings.warn(\n",
      "/home/chougar/miniconda3/lib/python3.11/site-packages/transformers/pipelines/question_answering.py:391: FutureWarning: Passing a list of SQuAD examples to the pipeline is deprecated and will be removed in v5. Inputs should be passed using the `question` and `context` keyword arguments instead.\n",
      "  warnings.warn(\n"
     ]
    },
    {
     "name": "stdout",
     "output_type": "stream",
     "text": [
      "Retrieved unique docs: 24\n",
      "Sorted docs: 8\n"
     ]
    },
    {
     "name": "stderr",
     "output_type": "stream",
     "text": [
      "/home/chougar/miniconda3/lib/python3.11/site-packages/transformers/pipelines/question_answering.py:391: FutureWarning: Passing a list of SQuAD examples to the pipeline is deprecated and will be removed in v5. Inputs should be passed using the `question` and `context` keyword arguments instead.\n",
      "  warnings.warn(\n"
     ]
    },
    {
     "name": "stdout",
     "output_type": "stream",
     "text": [
      "Retrieved unique docs: 24\n",
      "Sorted docs: 8\n"
     ]
    },
    {
     "name": "stderr",
     "output_type": "stream",
     "text": [
      "Evaluating: 100%|██████████| 1/1 [00:00<00:00,  5.56it/s]\n"
     ]
    },
    {
     "name": "stdout",
     "output_type": "stream",
     "text": [
      "LLM Eval_score: 7\n",
      "MiniCheck score: [0.7097054123878479]\n",
      "\n",
      "-------\n",
      "Question: What is the total project budget in Euros, including the amount of donation requested from the Foundation, the detailed provisional project budget, and the detailed project budget for the current year?\n",
      "Question enhanced: True\n"
     ]
    },
    {
     "name": "stderr",
     "output_type": "stream",
     "text": [
      "/home/chougar/miniconda3/lib/python3.11/site-packages/transformers/pipelines/question_answering.py:391: FutureWarning: Passing a list of SQuAD examples to the pipeline is deprecated and will be removed in v5. Inputs should be passed using the `question` and `context` keyword arguments instead.\n",
      "  warnings.warn(\n",
      "/home/chougar/miniconda3/lib/python3.11/site-packages/transformers/pipelines/question_answering.py:391: FutureWarning: Passing a list of SQuAD examples to the pipeline is deprecated and will be removed in v5. Inputs should be passed using the `question` and `context` keyword arguments instead.\n",
      "  warnings.warn(\n"
     ]
    },
    {
     "name": "stdout",
     "output_type": "stream",
     "text": [
      "Retrieved unique docs: 26\n",
      "Sorted docs: 8\n"
     ]
    },
    {
     "name": "stderr",
     "output_type": "stream",
     "text": [
      "/home/chougar/miniconda3/lib/python3.11/site-packages/transformers/pipelines/question_answering.py:391: FutureWarning: Passing a list of SQuAD examples to the pipeline is deprecated and will be removed in v5. Inputs should be passed using the `question` and `context` keyword arguments instead.\n",
      "  warnings.warn(\n"
     ]
    },
    {
     "name": "stdout",
     "output_type": "stream",
     "text": [
      "Retrieved unique docs: 26\n",
      "Sorted docs: 8\n"
     ]
    },
    {
     "name": "stderr",
     "output_type": "stream",
     "text": [
      "Evaluating: 100%|██████████| 1/1 [00:00<00:00,  5.68it/s]\n"
     ]
    },
    {
     "name": "stdout",
     "output_type": "stream",
     "text": [
      "LLM Eval_score: 8\n",
      "MiniCheck score: [0.1841835379600525]\n",
      "\n",
      "-------\n",
      "\n",
      "--------------------\n",
      "Dense retriever type: faiss\n",
      "Sparse retriever type: tfidf\n",
      "Question: Description of the project\n",
      "Question enhanced: False\n"
     ]
    },
    {
     "name": "stderr",
     "output_type": "stream",
     "text": [
      "/home/chougar/miniconda3/lib/python3.11/site-packages/transformers/pipelines/question_answering.py:391: FutureWarning: Passing a list of SQuAD examples to the pipeline is deprecated and will be removed in v5. Inputs should be passed using the `question` and `context` keyword arguments instead.\n",
      "  warnings.warn(\n",
      "/home/chougar/miniconda3/lib/python3.11/site-packages/transformers/pipelines/question_answering.py:391: FutureWarning: Passing a list of SQuAD examples to the pipeline is deprecated and will be removed in v5. Inputs should be passed using the `question` and `context` keyword arguments instead.\n",
      "  warnings.warn(\n"
     ]
    },
    {
     "name": "stdout",
     "output_type": "stream",
     "text": [
      "Retrieved unique docs: 23\n",
      "Sorted docs: 8\n",
      "Retrieved unique docs: 23\n",
      "Sorted docs: 8\n"
     ]
    },
    {
     "name": "stderr",
     "output_type": "stream",
     "text": [
      "/home/chougar/miniconda3/lib/python3.11/site-packages/transformers/pipelines/question_answering.py:391: FutureWarning: Passing a list of SQuAD examples to the pipeline is deprecated and will be removed in v5. Inputs should be passed using the `question` and `context` keyword arguments instead.\n",
      "  warnings.warn(\n",
      "Evaluating: 100%|██████████| 1/1 [00:00<00:00,  3.39it/s]\n"
     ]
    },
    {
     "name": "stdout",
     "output_type": "stream",
     "text": [
      "LLM Eval_score: 6\n",
      "MiniCheck score: [0.05878777056932449]\n",
      "\n",
      "-------\n",
      "Question: What is the detailed description of the project's scope and objectives?\n",
      "Question enhanced: True\n"
     ]
    },
    {
     "name": "stderr",
     "output_type": "stream",
     "text": [
      "/home/chougar/miniconda3/lib/python3.11/site-packages/transformers/pipelines/question_answering.py:391: FutureWarning: Passing a list of SQuAD examples to the pipeline is deprecated and will be removed in v5. Inputs should be passed using the `question` and `context` keyword arguments instead.\n",
      "  warnings.warn(\n",
      "/home/chougar/miniconda3/lib/python3.11/site-packages/transformers/pipelines/question_answering.py:391: FutureWarning: Passing a list of SQuAD examples to the pipeline is deprecated and will be removed in v5. Inputs should be passed using the `question` and `context` keyword arguments instead.\n",
      "  warnings.warn(\n"
     ]
    },
    {
     "name": "stdout",
     "output_type": "stream",
     "text": [
      "Retrieved unique docs: 26\n",
      "Sorted docs: 8\n",
      "Retrieved unique docs: 26\n",
      "Sorted docs: 8\n"
     ]
    },
    {
     "name": "stderr",
     "output_type": "stream",
     "text": [
      "/home/chougar/miniconda3/lib/python3.11/site-packages/transformers/pipelines/question_answering.py:391: FutureWarning: Passing a list of SQuAD examples to the pipeline is deprecated and will be removed in v5. Inputs should be passed using the `question` and `context` keyword arguments instead.\n",
      "  warnings.warn(\n",
      "Evaluating: 100%|██████████| 1/1 [00:00<00:00,  2.99it/s]\n"
     ]
    },
    {
     "name": "stdout",
     "output_type": "stream",
     "text": [
      "LLM Eval_score: 8\n",
      "MiniCheck score: [0.9278145432472229]\n",
      "\n",
      "-------\n",
      "\n",
      "--------------------\n",
      "Question: Country and city\n",
      "Question enhanced: False\n"
     ]
    },
    {
     "name": "stderr",
     "output_type": "stream",
     "text": [
      "/home/chougar/miniconda3/lib/python3.11/site-packages/transformers/pipelines/question_answering.py:391: FutureWarning: Passing a list of SQuAD examples to the pipeline is deprecated and will be removed in v5. Inputs should be passed using the `question` and `context` keyword arguments instead.\n",
      "  warnings.warn(\n",
      "/home/chougar/miniconda3/lib/python3.11/site-packages/transformers/pipelines/question_answering.py:391: FutureWarning: Passing a list of SQuAD examples to the pipeline is deprecated and will be removed in v5. Inputs should be passed using the `question` and `context` keyword arguments instead.\n",
      "  warnings.warn(\n"
     ]
    },
    {
     "name": "stdout",
     "output_type": "stream",
     "text": [
      "Retrieved unique docs: 25\n",
      "Sorted docs: 8\n",
      "Retrieved unique docs: 25\n",
      "Sorted docs: 8\n"
     ]
    },
    {
     "name": "stderr",
     "output_type": "stream",
     "text": [
      "Evaluating: 100%|██████████| 1/1 [00:00<00:00,  6.30it/s]\n"
     ]
    },
    {
     "name": "stdout",
     "output_type": "stream",
     "text": [
      "LLM Eval_score: 6\n",
      "MiniCheck score: [0.018860161304473877]\n",
      "\n",
      "-------\n",
      "Question: What is the specific country and city where the project is located?\n",
      "Question enhanced: True\n"
     ]
    },
    {
     "name": "stderr",
     "output_type": "stream",
     "text": [
      "/home/chougar/miniconda3/lib/python3.11/site-packages/transformers/pipelines/question_answering.py:391: FutureWarning: Passing a list of SQuAD examples to the pipeline is deprecated and will be removed in v5. Inputs should be passed using the `question` and `context` keyword arguments instead.\n",
      "  warnings.warn(\n",
      "/home/chougar/miniconda3/lib/python3.11/site-packages/transformers/pipelines/question_answering.py:391: FutureWarning: Passing a list of SQuAD examples to the pipeline is deprecated and will be removed in v5. Inputs should be passed using the `question` and `context` keyword arguments instead.\n",
      "  warnings.warn(\n"
     ]
    },
    {
     "name": "stdout",
     "output_type": "stream",
     "text": [
      "Retrieved unique docs: 23\n",
      "Sorted docs: 8\n"
     ]
    },
    {
     "name": "stderr",
     "output_type": "stream",
     "text": [
      "/home/chougar/miniconda3/lib/python3.11/site-packages/transformers/pipelines/question_answering.py:391: FutureWarning: Passing a list of SQuAD examples to the pipeline is deprecated and will be removed in v5. Inputs should be passed using the `question` and `context` keyword arguments instead.\n",
      "  warnings.warn(\n"
     ]
    },
    {
     "name": "stdout",
     "output_type": "stream",
     "text": [
      "Retrieved unique docs: 23\n",
      "Sorted docs: 8\n"
     ]
    },
    {
     "name": "stderr",
     "output_type": "stream",
     "text": [
      "Evaluating: 100%|██████████| 1/1 [00:00<00:00,  5.50it/s]\n"
     ]
    },
    {
     "name": "stdout",
     "output_type": "stream",
     "text": [
      "LLM Eval_score: 7\n",
      "MiniCheck score: [0.9097768068313599]\n",
      "\n",
      "-------\n",
      "\n",
      "--------------------\n",
      "Question: Target beneficiaries\n",
      "Question enhanced: False\n"
     ]
    },
    {
     "name": "stderr",
     "output_type": "stream",
     "text": [
      "/home/chougar/miniconda3/lib/python3.11/site-packages/transformers/pipelines/question_answering.py:391: FutureWarning: Passing a list of SQuAD examples to the pipeline is deprecated and will be removed in v5. Inputs should be passed using the `question` and `context` keyword arguments instead.\n",
      "  warnings.warn(\n",
      "/home/chougar/miniconda3/lib/python3.11/site-packages/transformers/pipelines/question_answering.py:391: FutureWarning: Passing a list of SQuAD examples to the pipeline is deprecated and will be removed in v5. Inputs should be passed using the `question` and `context` keyword arguments instead.\n",
      "  warnings.warn(\n"
     ]
    },
    {
     "name": "stdout",
     "output_type": "stream",
     "text": [
      "Retrieved unique docs: 23\n",
      "Sorted docs: 8\n"
     ]
    },
    {
     "name": "stderr",
     "output_type": "stream",
     "text": [
      "/home/chougar/miniconda3/lib/python3.11/site-packages/transformers/pipelines/question_answering.py:391: FutureWarning: Passing a list of SQuAD examples to the pipeline is deprecated and will be removed in v5. Inputs should be passed using the `question` and `context` keyword arguments instead.\n",
      "  warnings.warn(\n"
     ]
    },
    {
     "name": "stdout",
     "output_type": "stream",
     "text": [
      "Retrieved unique docs: 23\n",
      "Sorted docs: 8\n"
     ]
    },
    {
     "name": "stderr",
     "output_type": "stream",
     "text": [
      "Evaluating: 100%|██████████| 1/1 [00:00<00:00,  6.13it/s]\n"
     ]
    },
    {
     "name": "stdout",
     "output_type": "stream",
     "text": [
      "LLM Eval_score: 9\n",
      "MiniCheck score: [0.1266552358865738]\n",
      "\n",
      "-------\n",
      "Question: Who are the target beneficiaries of the project?\n",
      "Question enhanced: True\n"
     ]
    },
    {
     "name": "stderr",
     "output_type": "stream",
     "text": [
      "/home/chougar/miniconda3/lib/python3.11/site-packages/transformers/pipelines/question_answering.py:391: FutureWarning: Passing a list of SQuAD examples to the pipeline is deprecated and will be removed in v5. Inputs should be passed using the `question` and `context` keyword arguments instead.\n",
      "  warnings.warn(\n",
      "/home/chougar/miniconda3/lib/python3.11/site-packages/transformers/pipelines/question_answering.py:391: FutureWarning: Passing a list of SQuAD examples to the pipeline is deprecated and will be removed in v5. Inputs should be passed using the `question` and `context` keyword arguments instead.\n",
      "  warnings.warn(\n"
     ]
    },
    {
     "name": "stdout",
     "output_type": "stream",
     "text": [
      "Retrieved unique docs: 26\n",
      "Sorted docs: 8\n",
      "Retrieved unique docs: 26\n",
      "Sorted docs: 8\n"
     ]
    },
    {
     "name": "stderr",
     "output_type": "stream",
     "text": [
      "Evaluating: 100%|██████████| 1/1 [00:00<00:00,  5.49it/s]\n"
     ]
    },
    {
     "name": "stdout",
     "output_type": "stream",
     "text": [
      "LLM Eval_score: 7\n",
      "MiniCheck score: [0.1328572779893875]\n",
      "\n",
      "-------\n",
      "\n",
      "--------------------\n",
      "Question: Number of people concerned\n",
      "Question enhanced: False\n"
     ]
    },
    {
     "name": "stderr",
     "output_type": "stream",
     "text": [
      "/home/chougar/miniconda3/lib/python3.11/site-packages/transformers/pipelines/question_answering.py:391: FutureWarning: Passing a list of SQuAD examples to the pipeline is deprecated and will be removed in v5. Inputs should be passed using the `question` and `context` keyword arguments instead.\n",
      "  warnings.warn(\n",
      "/home/chougar/miniconda3/lib/python3.11/site-packages/transformers/pipelines/question_answering.py:391: FutureWarning: Passing a list of SQuAD examples to the pipeline is deprecated and will be removed in v5. Inputs should be passed using the `question` and `context` keyword arguments instead.\n",
      "  warnings.warn(\n"
     ]
    },
    {
     "name": "stdout",
     "output_type": "stream",
     "text": [
      "Retrieved unique docs: 23\n",
      "Sorted docs: 8\n"
     ]
    },
    {
     "name": "stderr",
     "output_type": "stream",
     "text": [
      "/home/chougar/miniconda3/lib/python3.11/site-packages/transformers/pipelines/question_answering.py:391: FutureWarning: Passing a list of SQuAD examples to the pipeline is deprecated and will be removed in v5. Inputs should be passed using the `question` and `context` keyword arguments instead.\n",
      "  warnings.warn(\n"
     ]
    },
    {
     "name": "stdout",
     "output_type": "stream",
     "text": [
      "Retrieved unique docs: 23\n",
      "Sorted docs: 8\n"
     ]
    },
    {
     "name": "stderr",
     "output_type": "stream",
     "text": [
      "Evaluating: 100%|██████████| 1/1 [00:00<00:00,  5.79it/s]\n"
     ]
    },
    {
     "name": "stdout",
     "output_type": "stream",
     "text": [
      "LLM Eval_score: 9\n",
      "MiniCheck score: [0.15698452293872833]\n",
      "\n",
      "-------\n",
      "Question: How many individuals are impacted by the project?\n",
      "Question enhanced: True\n"
     ]
    },
    {
     "name": "stderr",
     "output_type": "stream",
     "text": [
      "/home/chougar/miniconda3/lib/python3.11/site-packages/transformers/pipelines/question_answering.py:391: FutureWarning: Passing a list of SQuAD examples to the pipeline is deprecated and will be removed in v5. Inputs should be passed using the `question` and `context` keyword arguments instead.\n",
      "  warnings.warn(\n",
      "/home/chougar/miniconda3/lib/python3.11/site-packages/transformers/pipelines/question_answering.py:391: FutureWarning: Passing a list of SQuAD examples to the pipeline is deprecated and will be removed in v5. Inputs should be passed using the `question` and `context` keyword arguments instead.\n",
      "  warnings.warn(\n"
     ]
    },
    {
     "name": "stdout",
     "output_type": "stream",
     "text": [
      "Retrieved unique docs: 22\n",
      "Sorted docs: 8\n",
      "Retrieved unique docs: 22\n",
      "Sorted docs: 8\n"
     ]
    },
    {
     "name": "stderr",
     "output_type": "stream",
     "text": [
      "/home/chougar/miniconda3/lib/python3.11/site-packages/transformers/pipelines/question_answering.py:391: FutureWarning: Passing a list of SQuAD examples to the pipeline is deprecated and will be removed in v5. Inputs should be passed using the `question` and `context` keyword arguments instead.\n",
      "  warnings.warn(\n",
      "Evaluating: 100%|██████████| 1/1 [00:00<00:00,  5.53it/s]\n"
     ]
    },
    {
     "name": "stdout",
     "output_type": "stream",
     "text": [
      "LLM Eval_score: 8\n",
      "MiniCheck score: [0.14353562891483307]\n",
      "\n",
      "-------\n",
      "\n",
      "--------------------\n",
      "Question: Context, environment, project rationale and challenges\n",
      "Question enhanced: False\n"
     ]
    },
    {
     "name": "stderr",
     "output_type": "stream",
     "text": [
      "/home/chougar/miniconda3/lib/python3.11/site-packages/transformers/pipelines/question_answering.py:391: FutureWarning: Passing a list of SQuAD examples to the pipeline is deprecated and will be removed in v5. Inputs should be passed using the `question` and `context` keyword arguments instead.\n",
      "  warnings.warn(\n",
      "/home/chougar/miniconda3/lib/python3.11/site-packages/transformers/pipelines/question_answering.py:391: FutureWarning: Passing a list of SQuAD examples to the pipeline is deprecated and will be removed in v5. Inputs should be passed using the `question` and `context` keyword arguments instead.\n",
      "  warnings.warn(\n"
     ]
    },
    {
     "name": "stdout",
     "output_type": "stream",
     "text": [
      "Retrieved unique docs: 23\n",
      "Sorted docs: 8\n"
     ]
    },
    {
     "name": "stderr",
     "output_type": "stream",
     "text": [
      "/home/chougar/miniconda3/lib/python3.11/site-packages/transformers/pipelines/question_answering.py:391: FutureWarning: Passing a list of SQuAD examples to the pipeline is deprecated and will be removed in v5. Inputs should be passed using the `question` and `context` keyword arguments instead.\n",
      "  warnings.warn(\n"
     ]
    },
    {
     "name": "stdout",
     "output_type": "stream",
     "text": [
      "Retrieved unique docs: 23\n",
      "Sorted docs: 8\n"
     ]
    },
    {
     "name": "stderr",
     "output_type": "stream",
     "text": [
      "Evaluating: 100%|██████████| 1/1 [00:02<00:00,  2.47s/it]\n"
     ]
    },
    {
     "name": "stdout",
     "output_type": "stream",
     "text": [
      "LLM Eval_score: 8\n",
      "MiniCheck score: [0.8946554660797119]\n",
      "\n",
      "-------\n",
      "Question: What are the contextual factors, environmental considerations, project rationale, and challenges associated with the project?\n",
      "Question enhanced: True\n"
     ]
    },
    {
     "name": "stderr",
     "output_type": "stream",
     "text": [
      "/home/chougar/miniconda3/lib/python3.11/site-packages/transformers/pipelines/question_answering.py:391: FutureWarning: Passing a list of SQuAD examples to the pipeline is deprecated and will be removed in v5. Inputs should be passed using the `question` and `context` keyword arguments instead.\n",
      "  warnings.warn(\n",
      "/home/chougar/miniconda3/lib/python3.11/site-packages/transformers/pipelines/question_answering.py:391: FutureWarning: Passing a list of SQuAD examples to the pipeline is deprecated and will be removed in v5. Inputs should be passed using the `question` and `context` keyword arguments instead.\n",
      "  warnings.warn(\n"
     ]
    },
    {
     "name": "stdout",
     "output_type": "stream",
     "text": [
      "Retrieved unique docs: 23\n",
      "Sorted docs: 8\n"
     ]
    },
    {
     "name": "stderr",
     "output_type": "stream",
     "text": [
      "/home/chougar/miniconda3/lib/python3.11/site-packages/transformers/pipelines/question_answering.py:391: FutureWarning: Passing a list of SQuAD examples to the pipeline is deprecated and will be removed in v5. Inputs should be passed using the `question` and `context` keyword arguments instead.\n",
      "  warnings.warn(\n"
     ]
    },
    {
     "name": "stdout",
     "output_type": "stream",
     "text": [
      "Retrieved unique docs: 23\n",
      "Sorted docs: 8\n"
     ]
    },
    {
     "name": "stderr",
     "output_type": "stream",
     "text": [
      "Evaluating: 100%|██████████| 1/1 [00:02<00:00,  2.72s/it]\n"
     ]
    },
    {
     "name": "stdout",
     "output_type": "stream",
     "text": [
      "LLM Eval_score: 7\n",
      "MiniCheck score: [0.5033357739448547]\n",
      "\n",
      "-------\n",
      "\n",
      "--------------------\n",
      "Question: Project start date / end date\n",
      "Question enhanced: False\n"
     ]
    },
    {
     "name": "stderr",
     "output_type": "stream",
     "text": [
      "/home/chougar/miniconda3/lib/python3.11/site-packages/transformers/pipelines/question_answering.py:391: FutureWarning: Passing a list of SQuAD examples to the pipeline is deprecated and will be removed in v5. Inputs should be passed using the `question` and `context` keyword arguments instead.\n",
      "  warnings.warn(\n",
      "/home/chougar/miniconda3/lib/python3.11/site-packages/transformers/pipelines/question_answering.py:391: FutureWarning: Passing a list of SQuAD examples to the pipeline is deprecated and will be removed in v5. Inputs should be passed using the `question` and `context` keyword arguments instead.\n",
      "  warnings.warn(\n"
     ]
    },
    {
     "name": "stdout",
     "output_type": "stream",
     "text": [
      "Retrieved unique docs: 25\n",
      "Sorted docs: 8\n"
     ]
    },
    {
     "name": "stderr",
     "output_type": "stream",
     "text": [
      "/home/chougar/miniconda3/lib/python3.11/site-packages/transformers/pipelines/question_answering.py:391: FutureWarning: Passing a list of SQuAD examples to the pipeline is deprecated and will be removed in v5. Inputs should be passed using the `question` and `context` keyword arguments instead.\n",
      "  warnings.warn(\n"
     ]
    },
    {
     "name": "stdout",
     "output_type": "stream",
     "text": [
      "Retrieved unique docs: 25\n",
      "Sorted docs: 8\n"
     ]
    },
    {
     "name": "stderr",
     "output_type": "stream",
     "text": [
      "Evaluating: 100%|██████████| 1/1 [00:00<00:00,  5.71it/s]\n"
     ]
    },
    {
     "name": "stdout",
     "output_type": "stream",
     "text": [
      "LLM Eval_score: 10\n",
      "MiniCheck score: [0.25516653060913086]\n",
      "\n",
      "-------\n",
      "Question: What are the start and end dates of the project?\n",
      "Question enhanced: True\n"
     ]
    },
    {
     "name": "stderr",
     "output_type": "stream",
     "text": [
      "/home/chougar/miniconda3/lib/python3.11/site-packages/transformers/pipelines/question_answering.py:391: FutureWarning: Passing a list of SQuAD examples to the pipeline is deprecated and will be removed in v5. Inputs should be passed using the `question` and `context` keyword arguments instead.\n",
      "  warnings.warn(\n",
      "/home/chougar/miniconda3/lib/python3.11/site-packages/transformers/pipelines/question_answering.py:391: FutureWarning: Passing a list of SQuAD examples to the pipeline is deprecated and will be removed in v5. Inputs should be passed using the `question` and `context` keyword arguments instead.\n",
      "  warnings.warn(\n"
     ]
    },
    {
     "name": "stdout",
     "output_type": "stream",
     "text": [
      "Retrieved unique docs: 25\n",
      "Sorted docs: 8\n",
      "Retrieved unique docs: 25\n",
      "Sorted docs: 8\n"
     ]
    },
    {
     "name": "stderr",
     "output_type": "stream",
     "text": [
      "/home/chougar/miniconda3/lib/python3.11/site-packages/transformers/pipelines/question_answering.py:391: FutureWarning: Passing a list of SQuAD examples to the pipeline is deprecated and will be removed in v5. Inputs should be passed using the `question` and `context` keyword arguments instead.\n",
      "  warnings.warn(\n",
      "Evaluating: 100%|██████████| 1/1 [00:00<00:00,  5.74it/s]\n"
     ]
    },
    {
     "name": "stdout",
     "output_type": "stream",
     "text": [
      "LLM Eval_score: 10\n",
      "MiniCheck score: [0.7474795579910278]\n",
      "\n",
      "-------\n",
      "\n",
      "--------------------\n",
      "Question: Project budget \n",
      "            Total amount of the project (in Euros) \n",
      "            \n",
      "            Amount of donation requested from the Foundation (in Euros) \n",
      "            \n",
      "            Detailed provisional project budget \n",
      "            \n",
      "            Detailed project budget for current year\n",
      "        \n",
      "Question enhanced: False\n"
     ]
    },
    {
     "name": "stderr",
     "output_type": "stream",
     "text": [
      "/home/chougar/miniconda3/lib/python3.11/site-packages/transformers/pipelines/question_answering.py:391: FutureWarning: Passing a list of SQuAD examples to the pipeline is deprecated and will be removed in v5. Inputs should be passed using the `question` and `context` keyword arguments instead.\n",
      "  warnings.warn(\n",
      "/home/chougar/miniconda3/lib/python3.11/site-packages/transformers/pipelines/question_answering.py:391: FutureWarning: Passing a list of SQuAD examples to the pipeline is deprecated and will be removed in v5. Inputs should be passed using the `question` and `context` keyword arguments instead.\n",
      "  warnings.warn(\n"
     ]
    },
    {
     "name": "stdout",
     "output_type": "stream",
     "text": [
      "Retrieved unique docs: 23\n",
      "Sorted docs: 8\n"
     ]
    },
    {
     "name": "stderr",
     "output_type": "stream",
     "text": [
      "/home/chougar/miniconda3/lib/python3.11/site-packages/transformers/pipelines/question_answering.py:391: FutureWarning: Passing a list of SQuAD examples to the pipeline is deprecated and will be removed in v5. Inputs should be passed using the `question` and `context` keyword arguments instead.\n",
      "  warnings.warn(\n"
     ]
    },
    {
     "name": "stdout",
     "output_type": "stream",
     "text": [
      "Retrieved unique docs: 23\n",
      "Sorted docs: 8\n"
     ]
    },
    {
     "name": "stderr",
     "output_type": "stream",
     "text": [
      "Evaluating: 100%|██████████| 1/1 [00:00<00:00,  6.13it/s]\n"
     ]
    },
    {
     "name": "stdout",
     "output_type": "stream",
     "text": [
      "LLM Eval_score: 7\n",
      "MiniCheck score: [0.06654772907495499]\n",
      "\n",
      "-------\n",
      "Question: What is the total project budget in Euros, including the amount of donation requested from the Foundation, the detailed provisional budget, and the budget for the current year?\n",
      "Question enhanced: True\n"
     ]
    },
    {
     "name": "stderr",
     "output_type": "stream",
     "text": [
      "/home/chougar/miniconda3/lib/python3.11/site-packages/transformers/pipelines/question_answering.py:391: FutureWarning: Passing a list of SQuAD examples to the pipeline is deprecated and will be removed in v5. Inputs should be passed using the `question` and `context` keyword arguments instead.\n",
      "  warnings.warn(\n",
      "/home/chougar/miniconda3/lib/python3.11/site-packages/transformers/pipelines/question_answering.py:391: FutureWarning: Passing a list of SQuAD examples to the pipeline is deprecated and will be removed in v5. Inputs should be passed using the `question` and `context` keyword arguments instead.\n",
      "  warnings.warn(\n"
     ]
    },
    {
     "name": "stdout",
     "output_type": "stream",
     "text": [
      "Retrieved unique docs: 26\n",
      "Sorted docs: 8\n",
      "Retrieved unique docs: 26\n",
      "Sorted docs: 8\n"
     ]
    },
    {
     "name": "stderr",
     "output_type": "stream",
     "text": [
      "Evaluating: 100%|██████████| 1/1 [00:00<00:00,  5.61it/s]\n"
     ]
    },
    {
     "name": "stdout",
     "output_type": "stream",
     "text": [
      "LLM Eval_score: 8\n",
      "MiniCheck score: [0.45446017384529114]\n",
      "\n",
      "-------\n",
      "\n",
      "--------------------\n",
      "Dense retriever type: faiss\n",
      "Sparse retriever type: bm25\n",
      "Question: Description of the project\n",
      "Question enhanced: False\n"
     ]
    },
    {
     "name": "stderr",
     "output_type": "stream",
     "text": [
      "/home/chougar/miniconda3/lib/python3.11/site-packages/transformers/pipelines/question_answering.py:391: FutureWarning: Passing a list of SQuAD examples to the pipeline is deprecated and will be removed in v5. Inputs should be passed using the `question` and `context` keyword arguments instead.\n",
      "  warnings.warn(\n",
      "/home/chougar/miniconda3/lib/python3.11/site-packages/transformers/pipelines/question_answering.py:391: FutureWarning: Passing a list of SQuAD examples to the pipeline is deprecated and will be removed in v5. Inputs should be passed using the `question` and `context` keyword arguments instead.\n",
      "  warnings.warn(\n"
     ]
    },
    {
     "name": "stdout",
     "output_type": "stream",
     "text": [
      "Retrieved unique docs: 23\n",
      "Sorted docs: 8\n",
      "Retrieved unique docs: 23\n",
      "Sorted docs: 8\n"
     ]
    },
    {
     "name": "stderr",
     "output_type": "stream",
     "text": [
      "/home/chougar/miniconda3/lib/python3.11/site-packages/transformers/pipelines/question_answering.py:391: FutureWarning: Passing a list of SQuAD examples to the pipeline is deprecated and will be removed in v5. Inputs should be passed using the `question` and `context` keyword arguments instead.\n",
      "  warnings.warn(\n",
      "Evaluating: 100%|██████████| 1/1 [00:00<00:00,  3.25it/s]\n"
     ]
    },
    {
     "name": "stdout",
     "output_type": "stream",
     "text": [
      "LLM Eval_score: 6\n",
      "MiniCheck score: [0.06616741418838501]\n",
      "\n",
      "-------\n",
      "Question: What is the detailed description of the project?\n",
      "Question enhanced: True\n"
     ]
    },
    {
     "name": "stderr",
     "output_type": "stream",
     "text": [
      "/home/chougar/miniconda3/lib/python3.11/site-packages/transformers/pipelines/question_answering.py:391: FutureWarning: Passing a list of SQuAD examples to the pipeline is deprecated and will be removed in v5. Inputs should be passed using the `question` and `context` keyword arguments instead.\n",
      "  warnings.warn(\n",
      "/home/chougar/miniconda3/lib/python3.11/site-packages/transformers/pipelines/question_answering.py:391: FutureWarning: Passing a list of SQuAD examples to the pipeline is deprecated and will be removed in v5. Inputs should be passed using the `question` and `context` keyword arguments instead.\n",
      "  warnings.warn(\n"
     ]
    },
    {
     "name": "stdout",
     "output_type": "stream",
     "text": [
      "Retrieved unique docs: 27\n",
      "Sorted docs: 8\n"
     ]
    },
    {
     "name": "stderr",
     "output_type": "stream",
     "text": [
      "/home/chougar/miniconda3/lib/python3.11/site-packages/transformers/pipelines/question_answering.py:391: FutureWarning: Passing a list of SQuAD examples to the pipeline is deprecated and will be removed in v5. Inputs should be passed using the `question` and `context` keyword arguments instead.\n",
      "  warnings.warn(\n"
     ]
    },
    {
     "name": "stdout",
     "output_type": "stream",
     "text": [
      "Retrieved unique docs: 27\n",
      "Sorted docs: 8\n"
     ]
    },
    {
     "name": "stderr",
     "output_type": "stream",
     "text": [
      "Evaluating: 100%|██████████| 1/1 [00:00<00:00,  2.63it/s]\n"
     ]
    },
    {
     "name": "stdout",
     "output_type": "stream",
     "text": [
      "LLM Eval_score: 8\n",
      "MiniCheck score: [0.851862370967865]\n",
      "\n",
      "-------\n",
      "\n",
      "--------------------\n",
      "Question: Country and city\n",
      "Question enhanced: False\n"
     ]
    },
    {
     "name": "stderr",
     "output_type": "stream",
     "text": [
      "/home/chougar/miniconda3/lib/python3.11/site-packages/transformers/pipelines/question_answering.py:391: FutureWarning: Passing a list of SQuAD examples to the pipeline is deprecated and will be removed in v5. Inputs should be passed using the `question` and `context` keyword arguments instead.\n",
      "  warnings.warn(\n",
      "/home/chougar/miniconda3/lib/python3.11/site-packages/transformers/pipelines/question_answering.py:391: FutureWarning: Passing a list of SQuAD examples to the pipeline is deprecated and will be removed in v5. Inputs should be passed using the `question` and `context` keyword arguments instead.\n",
      "  warnings.warn(\n",
      "/home/chougar/miniconda3/lib/python3.11/site-packages/transformers/pipelines/question_answering.py:391: FutureWarning: Passing a list of SQuAD examples to the pipeline is deprecated and will be removed in v5. Inputs should be passed using the `question` and `context` keyword arguments instead.\n",
      "  warnings.warn(\n"
     ]
    },
    {
     "name": "stdout",
     "output_type": "stream",
     "text": [
      "Retrieved unique docs: 25\n",
      "Sorted docs: 8\n"
     ]
    },
    {
     "name": "stderr",
     "output_type": "stream",
     "text": [
      "/home/chougar/miniconda3/lib/python3.11/site-packages/transformers/pipelines/question_answering.py:391: FutureWarning: Passing a list of SQuAD examples to the pipeline is deprecated and will be removed in v5. Inputs should be passed using the `question` and `context` keyword arguments instead.\n",
      "  warnings.warn(\n"
     ]
    },
    {
     "name": "stdout",
     "output_type": "stream",
     "text": [
      "Retrieved unique docs: 25\n",
      "Sorted docs: 8\n"
     ]
    },
    {
     "name": "stderr",
     "output_type": "stream",
     "text": [
      "Evaluating: 100%|██████████| 1/1 [00:00<00:00,  6.55it/s]\n"
     ]
    },
    {
     "name": "stdout",
     "output_type": "stream",
     "text": [
      "LLM Eval_score: 6\n",
      "MiniCheck score: [0.03167888894677162]\n",
      "\n",
      "-------\n",
      "Question: What is the specific country and city where the project is located?\n",
      "Question enhanced: True\n"
     ]
    },
    {
     "name": "stderr",
     "output_type": "stream",
     "text": [
      "/home/chougar/miniconda3/lib/python3.11/site-packages/transformers/pipelines/question_answering.py:391: FutureWarning: Passing a list of SQuAD examples to the pipeline is deprecated and will be removed in v5. Inputs should be passed using the `question` and `context` keyword arguments instead.\n",
      "  warnings.warn(\n",
      "/home/chougar/miniconda3/lib/python3.11/site-packages/transformers/pipelines/question_answering.py:391: FutureWarning: Passing a list of SQuAD examples to the pipeline is deprecated and will be removed in v5. Inputs should be passed using the `question` and `context` keyword arguments instead.\n",
      "  warnings.warn(\n"
     ]
    },
    {
     "name": "stdout",
     "output_type": "stream",
     "text": [
      "Retrieved unique docs: 25\n",
      "Sorted docs: 8\n",
      "Retrieved unique docs: 25\n",
      "Sorted docs: 8\n"
     ]
    },
    {
     "name": "stderr",
     "output_type": "stream",
     "text": [
      "/home/chougar/miniconda3/lib/python3.11/site-packages/transformers/pipelines/question_answering.py:391: FutureWarning: Passing a list of SQuAD examples to the pipeline is deprecated and will be removed in v5. Inputs should be passed using the `question` and `context` keyword arguments instead.\n",
      "  warnings.warn(\n",
      "Evaluating: 100%|██████████| 1/1 [00:00<00:00,  5.96it/s]\n"
     ]
    },
    {
     "name": "stdout",
     "output_type": "stream",
     "text": [
      "LLM Eval_score: 6\n",
      "MiniCheck score: [0.9208370447158813]\n",
      "\n",
      "-------\n",
      "\n",
      "--------------------\n",
      "Question: Target beneficiaries\n",
      "Question enhanced: False\n"
     ]
    },
    {
     "name": "stderr",
     "output_type": "stream",
     "text": [
      "/home/chougar/miniconda3/lib/python3.11/site-packages/transformers/pipelines/question_answering.py:391: FutureWarning: Passing a list of SQuAD examples to the pipeline is deprecated and will be removed in v5. Inputs should be passed using the `question` and `context` keyword arguments instead.\n",
      "  warnings.warn(\n",
      "/home/chougar/miniconda3/lib/python3.11/site-packages/transformers/pipelines/question_answering.py:391: FutureWarning: Passing a list of SQuAD examples to the pipeline is deprecated and will be removed in v5. Inputs should be passed using the `question` and `context` keyword arguments instead.\n",
      "  warnings.warn(\n"
     ]
    },
    {
     "name": "stdout",
     "output_type": "stream",
     "text": [
      "Retrieved unique docs: 24\n",
      "Sorted docs: 8\n",
      "Retrieved unique docs: 24\n",
      "Sorted docs: 8\n"
     ]
    },
    {
     "name": "stderr",
     "output_type": "stream",
     "text": [
      "Evaluating: 100%|██████████| 1/1 [00:00<00:00,  5.31it/s]\n"
     ]
    },
    {
     "name": "stdout",
     "output_type": "stream",
     "text": [
      "LLM Eval_score: 8\n",
      "MiniCheck score: [0.10996547341346741]\n",
      "\n",
      "-------\n",
      "Question: Who are the target beneficiaries of the project?\n",
      "Question enhanced: True\n"
     ]
    },
    {
     "name": "stderr",
     "output_type": "stream",
     "text": [
      "/home/chougar/miniconda3/lib/python3.11/site-packages/transformers/pipelines/question_answering.py:391: FutureWarning: Passing a list of SQuAD examples to the pipeline is deprecated and will be removed in v5. Inputs should be passed using the `question` and `context` keyword arguments instead.\n",
      "  warnings.warn(\n",
      "/home/chougar/miniconda3/lib/python3.11/site-packages/transformers/pipelines/question_answering.py:391: FutureWarning: Passing a list of SQuAD examples to the pipeline is deprecated and will be removed in v5. Inputs should be passed using the `question` and `context` keyword arguments instead.\n",
      "  warnings.warn(\n"
     ]
    },
    {
     "name": "stdout",
     "output_type": "stream",
     "text": [
      "Retrieved unique docs: 26\n",
      "Sorted docs: 8\n",
      "Retrieved unique docs: 26\n",
      "Sorted docs: 8\n"
     ]
    },
    {
     "name": "stderr",
     "output_type": "stream",
     "text": [
      "/home/chougar/miniconda3/lib/python3.11/site-packages/transformers/pipelines/question_answering.py:391: FutureWarning: Passing a list of SQuAD examples to the pipeline is deprecated and will be removed in v5. Inputs should be passed using the `question` and `context` keyword arguments instead.\n",
      "  warnings.warn(\n",
      "Evaluating: 100%|██████████| 1/1 [00:00<00:00,  5.66it/s]\n"
     ]
    },
    {
     "name": "stdout",
     "output_type": "stream",
     "text": [
      "LLM Eval_score: 7\n",
      "MiniCheck score: [0.18923136591911316]\n",
      "\n",
      "-------\n",
      "\n",
      "--------------------\n",
      "Question: Number of people concerned\n",
      "Question enhanced: False\n"
     ]
    },
    {
     "name": "stderr",
     "output_type": "stream",
     "text": [
      "/home/chougar/miniconda3/lib/python3.11/site-packages/transformers/pipelines/question_answering.py:391: FutureWarning: Passing a list of SQuAD examples to the pipeline is deprecated and will be removed in v5. Inputs should be passed using the `question` and `context` keyword arguments instead.\n",
      "  warnings.warn(\n",
      "/home/chougar/miniconda3/lib/python3.11/site-packages/transformers/pipelines/question_answering.py:391: FutureWarning: Passing a list of SQuAD examples to the pipeline is deprecated and will be removed in v5. Inputs should be passed using the `question` and `context` keyword arguments instead.\n",
      "  warnings.warn(\n"
     ]
    },
    {
     "name": "stdout",
     "output_type": "stream",
     "text": [
      "Retrieved unique docs: 21\n",
      "Sorted docs: 8\n",
      "Retrieved unique docs: 19\n",
      "Sorted docs: 8\n"
     ]
    },
    {
     "name": "stderr",
     "output_type": "stream",
     "text": [
      "/home/chougar/miniconda3/lib/python3.11/site-packages/transformers/pipelines/question_answering.py:391: FutureWarning: Passing a list of SQuAD examples to the pipeline is deprecated and will be removed in v5. Inputs should be passed using the `question` and `context` keyword arguments instead.\n",
      "  warnings.warn(\n",
      "Evaluating: 100%|██████████| 1/1 [00:00<00:00,  7.87it/s]\n"
     ]
    },
    {
     "name": "stdout",
     "output_type": "stream",
     "text": [
      "LLM Eval_score: 9\n",
      "MiniCheck score: [0.16094541549682617]\n",
      "\n",
      "-------\n",
      "Question: How many individuals are impacted by the project?\n",
      "Question enhanced: True\n"
     ]
    },
    {
     "name": "stderr",
     "output_type": "stream",
     "text": [
      "/home/chougar/miniconda3/lib/python3.11/site-packages/transformers/pipelines/question_answering.py:391: FutureWarning: Passing a list of SQuAD examples to the pipeline is deprecated and will be removed in v5. Inputs should be passed using the `question` and `context` keyword arguments instead.\n",
      "  warnings.warn(\n",
      "/home/chougar/miniconda3/lib/python3.11/site-packages/transformers/pipelines/question_answering.py:391: FutureWarning: Passing a list of SQuAD examples to the pipeline is deprecated and will be removed in v5. Inputs should be passed using the `question` and `context` keyword arguments instead.\n",
      "  warnings.warn(\n"
     ]
    },
    {
     "name": "stdout",
     "output_type": "stream",
     "text": [
      "Retrieved unique docs: 26\n",
      "Sorted docs: 8\n",
      "Retrieved unique docs: 26\n",
      "Sorted docs: 8\n"
     ]
    },
    {
     "name": "stderr",
     "output_type": "stream",
     "text": [
      "/home/chougar/miniconda3/lib/python3.11/site-packages/transformers/pipelines/question_answering.py:391: FutureWarning: Passing a list of SQuAD examples to the pipeline is deprecated and will be removed in v5. Inputs should be passed using the `question` and `context` keyword arguments instead.\n",
      "  warnings.warn(\n",
      "Evaluating: 100%|██████████| 1/1 [00:00<00:00,  5.70it/s]\n"
     ]
    },
    {
     "name": "stdout",
     "output_type": "stream",
     "text": [
      "LLM Eval_score: 8\n",
      "MiniCheck score: [0.1740250438451767]\n",
      "\n",
      "-------\n",
      "\n",
      "--------------------\n",
      "Question: Context, environment, project rationale and challenges\n",
      "Question enhanced: False\n"
     ]
    },
    {
     "name": "stderr",
     "output_type": "stream",
     "text": [
      "/home/chougar/miniconda3/lib/python3.11/site-packages/transformers/pipelines/question_answering.py:391: FutureWarning: Passing a list of SQuAD examples to the pipeline is deprecated and will be removed in v5. Inputs should be passed using the `question` and `context` keyword arguments instead.\n",
      "  warnings.warn(\n",
      "/home/chougar/miniconda3/lib/python3.11/site-packages/transformers/pipelines/question_answering.py:391: FutureWarning: Passing a list of SQuAD examples to the pipeline is deprecated and will be removed in v5. Inputs should be passed using the `question` and `context` keyword arguments instead.\n",
      "  warnings.warn(\n"
     ]
    },
    {
     "name": "stdout",
     "output_type": "stream",
     "text": [
      "Retrieved unique docs: 26\n",
      "Sorted docs: 8\n"
     ]
    },
    {
     "name": "stderr",
     "output_type": "stream",
     "text": [
      "/home/chougar/miniconda3/lib/python3.11/site-packages/transformers/pipelines/question_answering.py:391: FutureWarning: Passing a list of SQuAD examples to the pipeline is deprecated and will be removed in v5. Inputs should be passed using the `question` and `context` keyword arguments instead.\n",
      "  warnings.warn(\n"
     ]
    },
    {
     "name": "stdout",
     "output_type": "stream",
     "text": [
      "Retrieved unique docs: 26\n",
      "Sorted docs: 8\n"
     ]
    },
    {
     "name": "stderr",
     "output_type": "stream",
     "text": [
      "Evaluating: 100%|██████████| 1/1 [00:02<00:00,  2.51s/it]\n"
     ]
    },
    {
     "name": "stdout",
     "output_type": "stream",
     "text": [
      "LLM Eval_score: 7\n",
      "MiniCheck score: [0.9153727889060974]\n",
      "\n",
      "-------\n",
      "Question: What are the contextual factors, environmental conditions, project rationale, and challenges associated with this project?\n",
      "Question enhanced: True\n"
     ]
    },
    {
     "name": "stderr",
     "output_type": "stream",
     "text": [
      "/home/chougar/miniconda3/lib/python3.11/site-packages/transformers/pipelines/question_answering.py:391: FutureWarning: Passing a list of SQuAD examples to the pipeline is deprecated and will be removed in v5. Inputs should be passed using the `question` and `context` keyword arguments instead.\n",
      "  warnings.warn(\n",
      "/home/chougar/miniconda3/lib/python3.11/site-packages/transformers/pipelines/question_answering.py:391: FutureWarning: Passing a list of SQuAD examples to the pipeline is deprecated and will be removed in v5. Inputs should be passed using the `question` and `context` keyword arguments instead.\n",
      "  warnings.warn(\n"
     ]
    },
    {
     "name": "stdout",
     "output_type": "stream",
     "text": [
      "Retrieved unique docs: 27\n",
      "Sorted docs: 8\n",
      "Retrieved unique docs: 27\n",
      "Sorted docs: 8\n"
     ]
    },
    {
     "name": "stderr",
     "output_type": "stream",
     "text": [
      "/home/chougar/miniconda3/lib/python3.11/site-packages/transformers/pipelines/question_answering.py:391: FutureWarning: Passing a list of SQuAD examples to the pipeline is deprecated and will be removed in v5. Inputs should be passed using the `question` and `context` keyword arguments instead.\n",
      "  warnings.warn(\n",
      "Evaluating: 100%|██████████| 1/1 [00:02<00:00,  2.66s/it]\n"
     ]
    },
    {
     "name": "stdout",
     "output_type": "stream",
     "text": [
      "LLM Eval_score: 6\n",
      "MiniCheck score: [0.16552533209323883]\n",
      "\n",
      "-------\n",
      "\n",
      "--------------------\n",
      "Question: Project start date / end date\n",
      "Question enhanced: False\n"
     ]
    },
    {
     "name": "stderr",
     "output_type": "stream",
     "text": [
      "/home/chougar/miniconda3/lib/python3.11/site-packages/transformers/pipelines/question_answering.py:391: FutureWarning: Passing a list of SQuAD examples to the pipeline is deprecated and will be removed in v5. Inputs should be passed using the `question` and `context` keyword arguments instead.\n",
      "  warnings.warn(\n",
      "/home/chougar/miniconda3/lib/python3.11/site-packages/transformers/pipelines/question_answering.py:391: FutureWarning: Passing a list of SQuAD examples to the pipeline is deprecated and will be removed in v5. Inputs should be passed using the `question` and `context` keyword arguments instead.\n",
      "  warnings.warn(\n"
     ]
    },
    {
     "name": "stdout",
     "output_type": "stream",
     "text": [
      "Retrieved unique docs: 23\n",
      "Sorted docs: 8\n"
     ]
    },
    {
     "name": "stderr",
     "output_type": "stream",
     "text": [
      "/home/chougar/miniconda3/lib/python3.11/site-packages/transformers/pipelines/question_answering.py:391: FutureWarning: Passing a list of SQuAD examples to the pipeline is deprecated and will be removed in v5. Inputs should be passed using the `question` and `context` keyword arguments instead.\n",
      "  warnings.warn(\n"
     ]
    },
    {
     "name": "stdout",
     "output_type": "stream",
     "text": [
      "Retrieved unique docs: 23\n",
      "Sorted docs: 8\n"
     ]
    },
    {
     "name": "stderr",
     "output_type": "stream",
     "text": [
      "Evaluating: 100%|██████████| 1/1 [00:00<00:00,  5.69it/s]\n"
     ]
    },
    {
     "name": "stdout",
     "output_type": "stream",
     "text": [
      "LLM Eval_score: 10\n",
      "MiniCheck score: [0.25516653060913086]\n",
      "\n",
      "-------\n",
      "Question: What are the start and end dates of the project?\n",
      "Question enhanced: True\n"
     ]
    },
    {
     "name": "stderr",
     "output_type": "stream",
     "text": [
      "/home/chougar/miniconda3/lib/python3.11/site-packages/transformers/pipelines/question_answering.py:391: FutureWarning: Passing a list of SQuAD examples to the pipeline is deprecated and will be removed in v5. Inputs should be passed using the `question` and `context` keyword arguments instead.\n",
      "  warnings.warn(\n",
      "/home/chougar/miniconda3/lib/python3.11/site-packages/transformers/pipelines/question_answering.py:391: FutureWarning: Passing a list of SQuAD examples to the pipeline is deprecated and will be removed in v5. Inputs should be passed using the `question` and `context` keyword arguments instead.\n",
      "  warnings.warn(\n"
     ]
    },
    {
     "name": "stdout",
     "output_type": "stream",
     "text": [
      "Retrieved unique docs: 22\n",
      "Sorted docs: 8\n",
      "Retrieved unique docs: 22\n",
      "Sorted docs: 8\n"
     ]
    },
    {
     "name": "stderr",
     "output_type": "stream",
     "text": [
      "/home/chougar/miniconda3/lib/python3.11/site-packages/transformers/pipelines/question_answering.py:391: FutureWarning: Passing a list of SQuAD examples to the pipeline is deprecated and will be removed in v5. Inputs should be passed using the `question` and `context` keyword arguments instead.\n",
      "  warnings.warn(\n",
      "Evaluating: 100%|██████████| 1/1 [00:00<00:00,  5.96it/s]\n"
     ]
    },
    {
     "name": "stdout",
     "output_type": "stream",
     "text": [
      "LLM Eval_score: 10\n",
      "MiniCheck score: [0.7088745832443237]\n",
      "\n",
      "-------\n",
      "\n",
      "--------------------\n",
      "Question: Project budget \n",
      "            Total amount of the project (in Euros) \n",
      "            \n",
      "            Amount of donation requested from the Foundation (in Euros) \n",
      "            \n",
      "            Detailed provisional project budget \n",
      "            \n",
      "            Detailed project budget for current year\n",
      "        \n",
      "Question enhanced: False\n"
     ]
    },
    {
     "name": "stderr",
     "output_type": "stream",
     "text": [
      "/home/chougar/miniconda3/lib/python3.11/site-packages/transformers/pipelines/question_answering.py:391: FutureWarning: Passing a list of SQuAD examples to the pipeline is deprecated and will be removed in v5. Inputs should be passed using the `question` and `context` keyword arguments instead.\n",
      "  warnings.warn(\n",
      "/home/chougar/miniconda3/lib/python3.11/site-packages/transformers/pipelines/question_answering.py:391: FutureWarning: Passing a list of SQuAD examples to the pipeline is deprecated and will be removed in v5. Inputs should be passed using the `question` and `context` keyword arguments instead.\n",
      "  warnings.warn(\n"
     ]
    },
    {
     "name": "stdout",
     "output_type": "stream",
     "text": [
      "Retrieved unique docs: 24\n",
      "Sorted docs: 8\n",
      "Retrieved unique docs: 24\n",
      "Sorted docs: 8\n"
     ]
    },
    {
     "name": "stderr",
     "output_type": "stream",
     "text": [
      "/home/chougar/miniconda3/lib/python3.11/site-packages/transformers/pipelines/question_answering.py:391: FutureWarning: Passing a list of SQuAD examples to the pipeline is deprecated and will be removed in v5. Inputs should be passed using the `question` and `context` keyword arguments instead.\n",
      "  warnings.warn(\n",
      "Evaluating: 100%|██████████| 1/1 [00:00<00:00,  5.75it/s]\n"
     ]
    },
    {
     "name": "stdout",
     "output_type": "stream",
     "text": [
      "LLM Eval_score: 8\n",
      "MiniCheck score: [0.31312671303749084]\n",
      "\n",
      "-------\n",
      "Question: What is the total project budget in Euros, including the amount of donation requested from the Foundation, the detailed provisional project budget, and the detailed project budget for the current year?\n",
      "Question enhanced: True\n"
     ]
    },
    {
     "name": "stderr",
     "output_type": "stream",
     "text": [
      "/home/chougar/miniconda3/lib/python3.11/site-packages/transformers/pipelines/question_answering.py:391: FutureWarning: Passing a list of SQuAD examples to the pipeline is deprecated and will be removed in v5. Inputs should be passed using the `question` and `context` keyword arguments instead.\n",
      "  warnings.warn(\n",
      "/home/chougar/miniconda3/lib/python3.11/site-packages/transformers/pipelines/question_answering.py:391: FutureWarning: Passing a list of SQuAD examples to the pipeline is deprecated and will be removed in v5. Inputs should be passed using the `question` and `context` keyword arguments instead.\n",
      "  warnings.warn(\n"
     ]
    },
    {
     "name": "stdout",
     "output_type": "stream",
     "text": [
      "Retrieved unique docs: 26\n",
      "Sorted docs: 8\n",
      "Retrieved unique docs: 26\n",
      "Sorted docs: 8\n"
     ]
    },
    {
     "name": "stderr",
     "output_type": "stream",
     "text": [
      "/home/chougar/miniconda3/lib/python3.11/site-packages/transformers/pipelines/question_answering.py:391: FutureWarning: Passing a list of SQuAD examples to the pipeline is deprecated and will be removed in v5. Inputs should be passed using the `question` and `context` keyword arguments instead.\n",
      "  warnings.warn(\n",
      "Evaluating: 100%|██████████| 1/1 [00:00<00:00,  5.67it/s]"
     ]
    },
    {
     "name": "stdout",
     "output_type": "stream",
     "text": [
      "LLM Eval_score: 8\n",
      "MiniCheck score: [0.18756112456321716]\n",
      "\n",
      "-------\n",
      "\n",
      "--------------------\n"
     ]
    },
    {
     "name": "stderr",
     "output_type": "stream",
     "text": [
      "\n"
     ]
    }
   ],
   "source": [
    "def update_lcel_chain(\n",
    "    dense_retriever, sparse_retriever, keyword_association_retriever=keyword_association_retriever, \n",
    "    reranker=pipe_candidate2, llm_qa=llm_qa, rag_prompt=rag_prompt, docs=split_docs,\n",
    "):\n",
    "    from langchain_core.runnables import chain\n",
    "    \n",
    "    @chain\n",
    "    def _hybrid_retrieval(\n",
    "        query, \n",
    "        dense_retriever=dense_retriever, \n",
    "        sparse_retriever=sparse_retriever, \n",
    "        keyword_association_retriever=keyword_association_retriever, \n",
    "        reranker=reranker,\n",
    "        top_k=8,\n",
    "    ):\n",
    "        # query = query[\"question\"]\n",
    "        dense_results = dense_retriever.get_relevant_documents(query)\n",
    "        sparse_results = sparse_retriever.get_relevant_documents(query)\n",
    "\n",
    "        # Fusionner\n",
    "        combined_results = dense_results + sparse_results + keyword_association_retriever(query)\n",
    "\n",
    "        # Supprimer les doublons\n",
    "        unique_results = {doc.page_content: doc for doc in combined_results}.values()\n",
    "\n",
    "        # Reranking with Q/A model\n",
    "        reranked_results=[{\"score\": reranker({\"question\":query, \"context\":doc.page_content})[\"score\"], \"doc\": doc} for doc in unique_results]\n",
    "        print(f\"Retrieved unique docs: {len(unique_results)}\")\n",
    "        # Filtrer sur 1ere moitiée\n",
    "        n=min(len(reranked_results), top_k)\n",
    "        sorted_results=sorted(reranked_results, key=lambda x: x[\"score\"]>0.25, reverse=True)[:n]\n",
    "        print(f\"Sorted docs: {len(sorted_results)}\")\n",
    "        \n",
    "        # ajout du score pour analyse\n",
    "        res=[]\n",
    "        for doc in sorted_results:\n",
    "            doc[\"doc\"].metadata[\"score\"]=doc[\"score\"]\n",
    "            res.append(doc[\"doc\"])\n",
    "        sorted_results=res    \n",
    "\n",
    "        return sorted_results\n",
    "\n",
    "    _lcel_qa_chain = (\n",
    "        RunnableParallel({\n",
    "            \"context\": _hybrid_retrieval | (lambda split_docs: \"\\n\\n\".join(d.page_content for d in split_docs)),\n",
    "            \"sources\": _hybrid_retrieval,\n",
    "            \"input\": RunnablePassthrough(),\n",
    "        })\n",
    "        | (lambda inputs: {\n",
    "            \"answer\": (rag_prompt | llm_qa | StrOutputParser()).invoke(inputs),\n",
    "            \"sources\": inputs[\"sources\"]  \n",
    "        })\n",
    "    )\n",
    "\n",
    "\n",
    "    return _lcel_qa_chain\n",
    " \n",
    "\n",
    "\n",
    "evaluations_lcel=[]\n",
    "import torch\n",
    "\n",
    "def retrieval_LCEL_loop(evaluations_lcel=evaluations_lcel):\n",
    "    for dense_retriever_params, sparse_retriever_params in gridSearch:\n",
    "        print(f\"\"\"Dense retriever type: {dense_retriever_params[\"label\"]}\"\"\")\n",
    "        print(f\"\"\"Sparse retriever type: {sparse_retriever_params[\"label\"]}\"\"\")\n",
    "        for q in questions:\n",
    "            enhanced_question= question_rewriter.invoke({\"question\": q[\"question\"]})\n",
    "            questions_variations=[\n",
    "                {\"question\": q[\"question\"], \"enhanced_question\": False},\n",
    "                {\"question\": enhanced_question, \"enhanced_question\": True},\n",
    "            ]\n",
    "\n",
    "            for q_v in questions_variations:\n",
    "                question=q_v[\"question\"]\n",
    "\n",
    "                print(f\"\"\"Question: {question}\"\"\")\n",
    "                print(f\"\"\"Question enhanced: {q_v[\"enhanced_question\"]}\"\"\")\n",
    "\n",
    "                retrievalQA_chain=update_lcel_chain(dense_retriever_params[\"instance\"], sparse_retriever_params[\"instance\"])\n",
    "                rag_qa = retrievalQA_chain.invoke(question)\n",
    "            \n",
    "                \n",
    "\n",
    "                eval_score=score_reference_vs_rag_with_gpt(q[\"question\"], q[\"reference_answer\"], rag_qa[\"answer\"])\n",
    "\n",
    "                pred_label, raw_prob, _, _ = specialized_evaluator.score(docs=[q['reference_answer']], claims=[rag_qa[\"answer\"]])        \n",
    "                # score_qa_pipe= pipe_question_document_relevance_deepset(q['reference_answer'], rag_qa[\"answer\"])        \n",
    "                # score_qa_pipe=score_qa_pipe[\"score\"]\n",
    "                torch.cuda.empty_cache()\n",
    "        \n",
    "\n",
    "                \n",
    "                print(f\"\"\"LLM Eval_score: {eval_score}\"\"\")\n",
    "                print(f\"\"\"MiniCheck score: {raw_prob}\"\"\")\n",
    "                # print(f\"\"\"Model QA score: {score_qa_pipe}\"\"\")\n",
    "\n",
    "                evaluations_lcel.append(\n",
    "                    {\n",
    "                        \"question_#\":q[\"q_#\"], \n",
    "                        \"question\": question,  \n",
    "                        \"reference_answer\": q[\"reference_answer\"],\n",
    "                        \"rag_answer\": rag_qa[\"answer\"],\n",
    "                        \"rag_sources\": rag_qa[\"sources\"],\n",
    "                        \"eval_score_llm\": eval_score,\n",
    "                        \"eval_score_minicheck\": raw_prob,\n",
    "                        # \"eval_score_qa_model\": score_qa_pipe,\n",
    "                        \"enhanced_question\": q_v[\"enhanced_question\"],\n",
    "                        \"dense_retriever_type\": dense_retriever_params[\"label\"],\n",
    "                        \"spare_retriever_type\": sparse_retriever_params[\"label\"],\n",
    "                        \n",
    "                    }\n",
    "                )\n",
    "                print(\"\\n-------\")\n",
    "                \n",
    "            print(\"\\n--------------------\")\n",
    "\n",
    "retrieval_LCEL_loop()"
   ]
  },
  {
   "cell_type": "markdown",
   "metadata": {},
   "source": [
    "Analyse des résultats"
   ]
  },
  {
   "cell_type": "markdown",
   "metadata": {
    "id": "E5m6Omyyx4XW"
   },
   "source": [
    "Résultats LCEL"
   ]
  },
  {
   "cell_type": "code",
   "execution_count": 25,
   "metadata": {},
   "outputs": [
    {
     "name": "stdout",
     "output_type": "stream",
     "text": [
      "Dense type: chroma,\n",
      " Sparse type: tfidf,\n",
      " enhanced prompt: False\n",
      "Score moyen llm eval: 7.571428571428571\n"
     ]
    },
    {
     "data": {
      "text/html": [
       "<div>\n",
       "<style scoped>\n",
       "    .dataframe tbody tr th:only-of-type {\n",
       "        vertical-align: middle;\n",
       "    }\n",
       "\n",
       "    .dataframe tbody tr th {\n",
       "        vertical-align: top;\n",
       "    }\n",
       "\n",
       "    .dataframe thead th {\n",
       "        text-align: right;\n",
       "    }\n",
       "</style>\n",
       "<table border=\"1\" class=\"dataframe\">\n",
       "  <thead>\n",
       "    <tr style=\"text-align: right;\">\n",
       "      <th></th>\n",
       "      <th>question_#</th>\n",
       "      <th>question</th>\n",
       "      <th>reference_answer</th>\n",
       "      <th>rag_answer</th>\n",
       "      <th>rag_sources</th>\n",
       "      <th>eval_score_llm</th>\n",
       "      <th>eval_score_minicheck</th>\n",
       "      <th>enhanced_question</th>\n",
       "      <th>dense_retriever_type</th>\n",
       "      <th>spare_retriever_type</th>\n",
       "    </tr>\n",
       "  </thead>\n",
       "  <tbody>\n",
       "    <tr>\n",
       "      <th>0</th>\n",
       "      <td>1</td>\n",
       "      <td>Description of the project</td>\n",
       "      <td>\\n            Brief project description\\n ...</td>\n",
       "      <td>The project, implemented by Planète Urgence an...</td>\n",
       "      <td>[page_content='\\nHuman resources – Planète Urg...</td>\n",
       "      <td>6</td>\n",
       "      <td>[0.02050635777413845]</td>\n",
       "      <td>False</td>\n",
       "      <td>chroma</td>\n",
       "      <td>tfidf</td>\n",
       "    </tr>\n",
       "    <tr>\n",
       "      <th>2</th>\n",
       "      <td>2</td>\n",
       "      <td>Country and city</td>\n",
       "      <td>\\n            The location of the project is i...</td>\n",
       "      <td>The country is Indonesia, and the relevant cit...</td>\n",
       "      <td>[page_content='MANGROVE RESTORATION AND\\nLOCAL...</td>\n",
       "      <td>6</td>\n",
       "      <td>[0.034841276705265045]</td>\n",
       "      <td>False</td>\n",
       "      <td>chroma</td>\n",
       "      <td>tfidf</td>\n",
       "    </tr>\n",
       "    <tr>\n",
       "      <th>4</th>\n",
       "      <td>3</td>\n",
       "      <td>Target beneficiaries</td>\n",
       "      <td>\\n            Number of direct beneficiaries o...</td>\n",
       "      <td>The target beneficiaries of the pilot project ...</td>\n",
       "      <td>[page_content='\\nFeature 3. Theory of Change\\n...</td>\n",
       "      <td>8</td>\n",
       "      <td>[0.12091516703367233]</td>\n",
       "      <td>False</td>\n",
       "      <td>chroma</td>\n",
       "      <td>tfidf</td>\n",
       "    </tr>\n",
       "    <tr>\n",
       "      <th>6</th>\n",
       "      <td>4</td>\n",
       "      <td>Number of people concerned</td>\n",
       "      <td>\\n            Number of direct beneficiaries o...</td>\n",
       "      <td>The number of direct beneficiaries of the pilo...</td>\n",
       "      <td>[page_content='\\nTable 2. Types of Land Cover ...</td>\n",
       "      <td>9</td>\n",
       "      <td>[0.1603333204984665]</td>\n",
       "      <td>False</td>\n",
       "      <td>chroma</td>\n",
       "      <td>tfidf</td>\n",
       "    </tr>\n",
       "    <tr>\n",
       "      <th>8</th>\n",
       "      <td>5</td>\n",
       "      <td>Context, environment, project rationale and ch...</td>\n",
       "      <td>\\n            Context &amp; environment and develo...</td>\n",
       "      <td>The context outlines the significant impact of...</td>\n",
       "      <td>[page_content='\\nAnother issue that has also h...</td>\n",
       "      <td>7</td>\n",
       "      <td>[0.951094388961792]</td>\n",
       "      <td>False</td>\n",
       "      <td>chroma</td>\n",
       "      <td>tfidf</td>\n",
       "    </tr>\n",
       "    <tr>\n",
       "      <th>10</th>\n",
       "      <td>6</td>\n",
       "      <td>Project start date / end date</td>\n",
       "      <td>March 2023 – February 2026</td>\n",
       "      <td>The project start date is March 2023, and the ...</td>\n",
       "      <td>[page_content='\\n Identification and mapping ...</td>\n",
       "      <td>10</td>\n",
       "      <td>[0.25516653060913086]</td>\n",
       "      <td>False</td>\n",
       "      <td>chroma</td>\n",
       "      <td>tfidf</td>\n",
       "    </tr>\n",
       "    <tr>\n",
       "      <th>12</th>\n",
       "      <td>7</td>\n",
       "      <td>Project budget \\n            Total amount of t...</td>\n",
       "      <td>The total required resources is 818 341 € for ...</td>\n",
       "      <td>- **Total amount of the project (in Euros):** ...</td>\n",
       "      <td>[page_content='\\nMain Sustainable Development ...</td>\n",
       "      <td>7</td>\n",
       "      <td>[0.7097054123878479]</td>\n",
       "      <td>False</td>\n",
       "      <td>chroma</td>\n",
       "      <td>tfidf</td>\n",
       "    </tr>\n",
       "  </tbody>\n",
       "</table>\n",
       "</div>"
      ],
      "text/plain": [
       "    question_#                                           question  \\\n",
       "0            1                         Description of the project   \n",
       "2            2                                   Country and city   \n",
       "4            3                               Target beneficiaries   \n",
       "6            4                         Number of people concerned   \n",
       "8            5  Context, environment, project rationale and ch...   \n",
       "10           6                      Project start date / end date   \n",
       "12           7  Project budget \\n            Total amount of t...   \n",
       "\n",
       "                                     reference_answer  \\\n",
       "0       \\n            Brief project description\\n ...   \n",
       "2   \\n            The location of the project is i...   \n",
       "4   \\n            Number of direct beneficiaries o...   \n",
       "6   \\n            Number of direct beneficiaries o...   \n",
       "8   \\n            Context & environment and develo...   \n",
       "10                         March 2023 – February 2026   \n",
       "12  The total required resources is 818 341 € for ...   \n",
       "\n",
       "                                           rag_answer  \\\n",
       "0   The project, implemented by Planète Urgence an...   \n",
       "2   The country is Indonesia, and the relevant cit...   \n",
       "4   The target beneficiaries of the pilot project ...   \n",
       "6   The number of direct beneficiaries of the pilo...   \n",
       "8   The context outlines the significant impact of...   \n",
       "10  The project start date is March 2023, and the ...   \n",
       "12  - **Total amount of the project (in Euros):** ...   \n",
       "\n",
       "                                          rag_sources  eval_score_llm  \\\n",
       "0   [page_content='\\nHuman resources – Planète Urg...               6   \n",
       "2   [page_content='MANGROVE RESTORATION AND\\nLOCAL...               6   \n",
       "4   [page_content='\\nFeature 3. Theory of Change\\n...               8   \n",
       "6   [page_content='\\nTable 2. Types of Land Cover ...               9   \n",
       "8   [page_content='\\nAnother issue that has also h...               7   \n",
       "10  [page_content='\\n Identification and mapping ...              10   \n",
       "12  [page_content='\\nMain Sustainable Development ...               7   \n",
       "\n",
       "      eval_score_minicheck  enhanced_question dense_retriever_type  \\\n",
       "0    [0.02050635777413845]              False               chroma   \n",
       "2   [0.034841276705265045]              False               chroma   \n",
       "4    [0.12091516703367233]              False               chroma   \n",
       "6     [0.1603333204984665]              False               chroma   \n",
       "8      [0.951094388961792]              False               chroma   \n",
       "10   [0.25516653060913086]              False               chroma   \n",
       "12    [0.7097054123878479]              False               chroma   \n",
       "\n",
       "   spare_retriever_type  \n",
       "0                 tfidf  \n",
       "2                 tfidf  \n",
       "4                 tfidf  \n",
       "6                 tfidf  \n",
       "8                 tfidf  \n",
       "10                tfidf  \n",
       "12                tfidf  "
      ]
     },
     "metadata": {},
     "output_type": "display_data"
    },
    {
     "name": "stdout",
     "output_type": "stream",
     "text": [
      "\n",
      "-----------\n",
      "\n",
      "Dense type: chroma,\n",
      " Sparse type: tfidf,\n",
      " enhanced prompt: True\n",
      "Score moyen llm eval: 7.714285714285714\n"
     ]
    },
    {
     "data": {
      "text/html": [
       "<div>\n",
       "<style scoped>\n",
       "    .dataframe tbody tr th:only-of-type {\n",
       "        vertical-align: middle;\n",
       "    }\n",
       "\n",
       "    .dataframe tbody tr th {\n",
       "        vertical-align: top;\n",
       "    }\n",
       "\n",
       "    .dataframe thead th {\n",
       "        text-align: right;\n",
       "    }\n",
       "</style>\n",
       "<table border=\"1\" class=\"dataframe\">\n",
       "  <thead>\n",
       "    <tr style=\"text-align: right;\">\n",
       "      <th></th>\n",
       "      <th>question_#</th>\n",
       "      <th>question</th>\n",
       "      <th>reference_answer</th>\n",
       "      <th>rag_answer</th>\n",
       "      <th>rag_sources</th>\n",
       "      <th>eval_score_llm</th>\n",
       "      <th>eval_score_minicheck</th>\n",
       "      <th>enhanced_question</th>\n",
       "      <th>dense_retriever_type</th>\n",
       "      <th>spare_retriever_type</th>\n",
       "    </tr>\n",
       "  </thead>\n",
       "  <tbody>\n",
       "    <tr>\n",
       "      <th>1</th>\n",
       "      <td>1</td>\n",
       "      <td>What is the detailed description of the projec...</td>\n",
       "      <td>\\n            Brief project description\\n ...</td>\n",
       "      <td>The project, titled \"Mahakam,\" is focused on m...</td>\n",
       "      <td>[page_content='\\n- Community members (villager...</td>\n",
       "      <td>7</td>\n",
       "      <td>[0.4817027747631073]</td>\n",
       "      <td>True</td>\n",
       "      <td>chroma</td>\n",
       "      <td>tfidf</td>\n",
       "    </tr>\n",
       "    <tr>\n",
       "      <th>3</th>\n",
       "      <td>2</td>\n",
       "      <td>What is the specific country and city where th...</td>\n",
       "      <td>\\n            The location of the project is i...</td>\n",
       "      <td>The specific country where the project is loca...</td>\n",
       "      <td>[page_content='\\n- Community members (villager...</td>\n",
       "      <td>7</td>\n",
       "      <td>[0.9235244393348694]</td>\n",
       "      <td>True</td>\n",
       "      <td>chroma</td>\n",
       "      <td>tfidf</td>\n",
       "    </tr>\n",
       "    <tr>\n",
       "      <th>5</th>\n",
       "      <td>3</td>\n",
       "      <td>Who are the target beneficiaries of the project?</td>\n",
       "      <td>\\n            Number of direct beneficiaries o...</td>\n",
       "      <td>The target beneficiaries of the project includ...</td>\n",
       "      <td>[page_content='\\nFeature 3. Theory of Change\\n...</td>\n",
       "      <td>7</td>\n",
       "      <td>[0.20092874765396118]</td>\n",
       "      <td>True</td>\n",
       "      <td>chroma</td>\n",
       "      <td>tfidf</td>\n",
       "    </tr>\n",
       "    <tr>\n",
       "      <th>7</th>\n",
       "      <td>4</td>\n",
       "      <td>How many individuals are impacted by the project?</td>\n",
       "      <td>\\n            Number of direct beneficiaries o...</td>\n",
       "      <td>The project impacts a total of 6,245 individua...</td>\n",
       "      <td>[page_content='\\nFeature 3. Theory of Change\\n...</td>\n",
       "      <td>8</td>\n",
       "      <td>[0.18638822436332703]</td>\n",
       "      <td>True</td>\n",
       "      <td>chroma</td>\n",
       "      <td>tfidf</td>\n",
       "    </tr>\n",
       "    <tr>\n",
       "      <th>9</th>\n",
       "      <td>5</td>\n",
       "      <td>What are the contextual factors, environmental...</td>\n",
       "      <td>\\n            Context &amp; environment and develo...</td>\n",
       "      <td>The project in East Kalimantan, specifically i...</td>\n",
       "      <td>[page_content='\\n- Community members (villager...</td>\n",
       "      <td>7</td>\n",
       "      <td>[0.6853238344192505]</td>\n",
       "      <td>True</td>\n",
       "      <td>chroma</td>\n",
       "      <td>tfidf</td>\n",
       "    </tr>\n",
       "    <tr>\n",
       "      <th>11</th>\n",
       "      <td>6</td>\n",
       "      <td>What are the start and end dates of the project?</td>\n",
       "      <td>March 2023 – February 2026</td>\n",
       "      <td>The project is scheduled to start in March 202...</td>\n",
       "      <td>[page_content='\\nMain Sustainable Development ...</td>\n",
       "      <td>10</td>\n",
       "      <td>[0.7088745832443237]</td>\n",
       "      <td>True</td>\n",
       "      <td>chroma</td>\n",
       "      <td>tfidf</td>\n",
       "    </tr>\n",
       "    <tr>\n",
       "      <th>13</th>\n",
       "      <td>7</td>\n",
       "      <td>What is the total project budget in Euros, inc...</td>\n",
       "      <td>The total required resources is 818 341 € for ...</td>\n",
       "      <td>The total project budget is €818,341 for the d...</td>\n",
       "      <td>[page_content='\\nMain Sustainable Development ...</td>\n",
       "      <td>8</td>\n",
       "      <td>[0.214956596493721]</td>\n",
       "      <td>True</td>\n",
       "      <td>chroma</td>\n",
       "      <td>tfidf</td>\n",
       "    </tr>\n",
       "  </tbody>\n",
       "</table>\n",
       "</div>"
      ],
      "text/plain": [
       "    question_#                                           question  \\\n",
       "1            1  What is the detailed description of the projec...   \n",
       "3            2  What is the specific country and city where th...   \n",
       "5            3   Who are the target beneficiaries of the project?   \n",
       "7            4  How many individuals are impacted by the project?   \n",
       "9            5  What are the contextual factors, environmental...   \n",
       "11           6   What are the start and end dates of the project?   \n",
       "13           7  What is the total project budget in Euros, inc...   \n",
       "\n",
       "                                     reference_answer  \\\n",
       "1       \\n            Brief project description\\n ...   \n",
       "3   \\n            The location of the project is i...   \n",
       "5   \\n            Number of direct beneficiaries o...   \n",
       "7   \\n            Number of direct beneficiaries o...   \n",
       "9   \\n            Context & environment and develo...   \n",
       "11                         March 2023 – February 2026   \n",
       "13  The total required resources is 818 341 € for ...   \n",
       "\n",
       "                                           rag_answer  \\\n",
       "1   The project, titled \"Mahakam,\" is focused on m...   \n",
       "3   The specific country where the project is loca...   \n",
       "5   The target beneficiaries of the project includ...   \n",
       "7   The project impacts a total of 6,245 individua...   \n",
       "9   The project in East Kalimantan, specifically i...   \n",
       "11  The project is scheduled to start in March 202...   \n",
       "13  The total project budget is €818,341 for the d...   \n",
       "\n",
       "                                          rag_sources  eval_score_llm  \\\n",
       "1   [page_content='\\n- Community members (villager...               7   \n",
       "3   [page_content='\\n- Community members (villager...               7   \n",
       "5   [page_content='\\nFeature 3. Theory of Change\\n...               7   \n",
       "7   [page_content='\\nFeature 3. Theory of Change\\n...               8   \n",
       "9   [page_content='\\n- Community members (villager...               7   \n",
       "11  [page_content='\\nMain Sustainable Development ...              10   \n",
       "13  [page_content='\\nMain Sustainable Development ...               8   \n",
       "\n",
       "     eval_score_minicheck  enhanced_question dense_retriever_type  \\\n",
       "1    [0.4817027747631073]               True               chroma   \n",
       "3    [0.9235244393348694]               True               chroma   \n",
       "5   [0.20092874765396118]               True               chroma   \n",
       "7   [0.18638822436332703]               True               chroma   \n",
       "9    [0.6853238344192505]               True               chroma   \n",
       "11   [0.7088745832443237]               True               chroma   \n",
       "13    [0.214956596493721]               True               chroma   \n",
       "\n",
       "   spare_retriever_type  \n",
       "1                 tfidf  \n",
       "3                 tfidf  \n",
       "5                 tfidf  \n",
       "7                 tfidf  \n",
       "9                 tfidf  \n",
       "11                tfidf  \n",
       "13                tfidf  "
      ]
     },
     "metadata": {},
     "output_type": "display_data"
    },
    {
     "name": "stdout",
     "output_type": "stream",
     "text": [
      "\n",
      "-----------\n",
      "\n",
      "Dense type: chroma,\n",
      " Sparse type: bm25,\n",
      " enhanced prompt: False\n",
      "Score moyen llm eval: 7.142857142857143\n"
     ]
    },
    {
     "data": {
      "text/html": [
       "<div>\n",
       "<style scoped>\n",
       "    .dataframe tbody tr th:only-of-type {\n",
       "        vertical-align: middle;\n",
       "    }\n",
       "\n",
       "    .dataframe tbody tr th {\n",
       "        vertical-align: top;\n",
       "    }\n",
       "\n",
       "    .dataframe thead th {\n",
       "        text-align: right;\n",
       "    }\n",
       "</style>\n",
       "<table border=\"1\" class=\"dataframe\">\n",
       "  <thead>\n",
       "    <tr style=\"text-align: right;\">\n",
       "      <th></th>\n",
       "      <th>question_#</th>\n",
       "      <th>question</th>\n",
       "      <th>reference_answer</th>\n",
       "      <th>rag_answer</th>\n",
       "      <th>rag_sources</th>\n",
       "      <th>eval_score_llm</th>\n",
       "      <th>eval_score_minicheck</th>\n",
       "      <th>enhanced_question</th>\n",
       "      <th>dense_retriever_type</th>\n",
       "      <th>spare_retriever_type</th>\n",
       "    </tr>\n",
       "  </thead>\n",
       "  <tbody>\n",
       "    <tr>\n",
       "      <th>14</th>\n",
       "      <td>1</td>\n",
       "      <td>Description of the project</td>\n",
       "      <td>\\n            Brief project description\\n ...</td>\n",
       "      <td>The project, implemented by Planète Urgence an...</td>\n",
       "      <td>[page_content='\\nHuman resources – Planète Urg...</td>\n",
       "      <td>6</td>\n",
       "      <td>[0.018422111868858337]</td>\n",
       "      <td>False</td>\n",
       "      <td>chroma</td>\n",
       "      <td>bm25</td>\n",
       "    </tr>\n",
       "    <tr>\n",
       "      <th>16</th>\n",
       "      <td>2</td>\n",
       "      <td>Country and city</td>\n",
       "      <td>\\n            The location of the project is i...</td>\n",
       "      <td>The country is Indonesia, and the relevant cit...</td>\n",
       "      <td>[page_content='MANGROVE RESTORATION AND\\nLOCAL...</td>\n",
       "      <td>6</td>\n",
       "      <td>[0.01261227112263441]</td>\n",
       "      <td>False</td>\n",
       "      <td>chroma</td>\n",
       "      <td>bm25</td>\n",
       "    </tr>\n",
       "    <tr>\n",
       "      <th>18</th>\n",
       "      <td>3</td>\n",
       "      <td>Target beneficiaries</td>\n",
       "      <td>\\n            Number of direct beneficiaries o...</td>\n",
       "      <td>The target beneficiaries of the pilot project ...</td>\n",
       "      <td>[page_content='\\nFeature 3. Theory of Change\\n...</td>\n",
       "      <td>8</td>\n",
       "      <td>[0.125643789768219]</td>\n",
       "      <td>False</td>\n",
       "      <td>chroma</td>\n",
       "      <td>bm25</td>\n",
       "    </tr>\n",
       "    <tr>\n",
       "      <th>20</th>\n",
       "      <td>4</td>\n",
       "      <td>Number of people concerned</td>\n",
       "      <td>\\n            Number of direct beneficiaries o...</td>\n",
       "      <td>The number of people concerned includes:\\n\\n1....</td>\n",
       "      <td>[page_content='\\nList of \\nparticipants\\nMoU D...</td>\n",
       "      <td>6</td>\n",
       "      <td>[0.18129213154315948]</td>\n",
       "      <td>False</td>\n",
       "      <td>chroma</td>\n",
       "      <td>bm25</td>\n",
       "    </tr>\n",
       "    <tr>\n",
       "      <th>22</th>\n",
       "      <td>5</td>\n",
       "      <td>Context, environment, project rationale and ch...</td>\n",
       "      <td>\\n            Context &amp; environment and develo...</td>\n",
       "      <td>The context outlines a project aimed at restor...</td>\n",
       "      <td>[page_content='\\nAnother issue that has also h...</td>\n",
       "      <td>7</td>\n",
       "      <td>[0.9437387585639954]</td>\n",
       "      <td>False</td>\n",
       "      <td>chroma</td>\n",
       "      <td>bm25</td>\n",
       "    </tr>\n",
       "    <tr>\n",
       "      <th>24</th>\n",
       "      <td>6</td>\n",
       "      <td>Project start date / end date</td>\n",
       "      <td>March 2023 – February 2026</td>\n",
       "      <td>The project start date is March 2023, and the ...</td>\n",
       "      <td>[page_content='\\n Identification and mapping ...</td>\n",
       "      <td>10</td>\n",
       "      <td>[0.25516653060913086]</td>\n",
       "      <td>False</td>\n",
       "      <td>chroma</td>\n",
       "      <td>bm25</td>\n",
       "    </tr>\n",
       "    <tr>\n",
       "      <th>26</th>\n",
       "      <td>7</td>\n",
       "      <td>Project budget \\n            Total amount of t...</td>\n",
       "      <td>The total required resources is 818 341 € for ...</td>\n",
       "      <td>- **Total amount of the project (in Euros):** ...</td>\n",
       "      <td>[page_content='\\nMain Sustainable Development ...</td>\n",
       "      <td>7</td>\n",
       "      <td>[0.7097054123878479]</td>\n",
       "      <td>False</td>\n",
       "      <td>chroma</td>\n",
       "      <td>bm25</td>\n",
       "    </tr>\n",
       "  </tbody>\n",
       "</table>\n",
       "</div>"
      ],
      "text/plain": [
       "    question_#                                           question  \\\n",
       "14           1                         Description of the project   \n",
       "16           2                                   Country and city   \n",
       "18           3                               Target beneficiaries   \n",
       "20           4                         Number of people concerned   \n",
       "22           5  Context, environment, project rationale and ch...   \n",
       "24           6                      Project start date / end date   \n",
       "26           7  Project budget \\n            Total amount of t...   \n",
       "\n",
       "                                     reference_answer  \\\n",
       "14      \\n            Brief project description\\n ...   \n",
       "16  \\n            The location of the project is i...   \n",
       "18  \\n            Number of direct beneficiaries o...   \n",
       "20  \\n            Number of direct beneficiaries o...   \n",
       "22  \\n            Context & environment and develo...   \n",
       "24                         March 2023 – February 2026   \n",
       "26  The total required resources is 818 341 € for ...   \n",
       "\n",
       "                                           rag_answer  \\\n",
       "14  The project, implemented by Planète Urgence an...   \n",
       "16  The country is Indonesia, and the relevant cit...   \n",
       "18  The target beneficiaries of the pilot project ...   \n",
       "20  The number of people concerned includes:\\n\\n1....   \n",
       "22  The context outlines a project aimed at restor...   \n",
       "24  The project start date is March 2023, and the ...   \n",
       "26  - **Total amount of the project (in Euros):** ...   \n",
       "\n",
       "                                          rag_sources  eval_score_llm  \\\n",
       "14  [page_content='\\nHuman resources – Planète Urg...               6   \n",
       "16  [page_content='MANGROVE RESTORATION AND\\nLOCAL...               6   \n",
       "18  [page_content='\\nFeature 3. Theory of Change\\n...               8   \n",
       "20  [page_content='\\nList of \\nparticipants\\nMoU D...               6   \n",
       "22  [page_content='\\nAnother issue that has also h...               7   \n",
       "24  [page_content='\\n Identification and mapping ...              10   \n",
       "26  [page_content='\\nMain Sustainable Development ...               7   \n",
       "\n",
       "      eval_score_minicheck  enhanced_question dense_retriever_type  \\\n",
       "14  [0.018422111868858337]              False               chroma   \n",
       "16   [0.01261227112263441]              False               chroma   \n",
       "18     [0.125643789768219]              False               chroma   \n",
       "20   [0.18129213154315948]              False               chroma   \n",
       "22    [0.9437387585639954]              False               chroma   \n",
       "24   [0.25516653060913086]              False               chroma   \n",
       "26    [0.7097054123878479]              False               chroma   \n",
       "\n",
       "   spare_retriever_type  \n",
       "14                 bm25  \n",
       "16                 bm25  \n",
       "18                 bm25  \n",
       "20                 bm25  \n",
       "22                 bm25  \n",
       "24                 bm25  \n",
       "26                 bm25  "
      ]
     },
     "metadata": {},
     "output_type": "display_data"
    },
    {
     "name": "stdout",
     "output_type": "stream",
     "text": [
      "\n",
      "-----------\n",
      "\n",
      "Dense type: chroma,\n",
      " Sparse type: bm25,\n",
      " enhanced prompt: True\n",
      "Score moyen llm eval: 7.571428571428571\n"
     ]
    },
    {
     "data": {
      "text/html": [
       "<div>\n",
       "<style scoped>\n",
       "    .dataframe tbody tr th:only-of-type {\n",
       "        vertical-align: middle;\n",
       "    }\n",
       "\n",
       "    .dataframe tbody tr th {\n",
       "        vertical-align: top;\n",
       "    }\n",
       "\n",
       "    .dataframe thead th {\n",
       "        text-align: right;\n",
       "    }\n",
       "</style>\n",
       "<table border=\"1\" class=\"dataframe\">\n",
       "  <thead>\n",
       "    <tr style=\"text-align: right;\">\n",
       "      <th></th>\n",
       "      <th>question_#</th>\n",
       "      <th>question</th>\n",
       "      <th>reference_answer</th>\n",
       "      <th>rag_answer</th>\n",
       "      <th>rag_sources</th>\n",
       "      <th>eval_score_llm</th>\n",
       "      <th>eval_score_minicheck</th>\n",
       "      <th>enhanced_question</th>\n",
       "      <th>dense_retriever_type</th>\n",
       "      <th>spare_retriever_type</th>\n",
       "    </tr>\n",
       "  </thead>\n",
       "  <tbody>\n",
       "    <tr>\n",
       "      <th>15</th>\n",
       "      <td>1</td>\n",
       "      <td>What are the key objectives and overall scope ...</td>\n",
       "      <td>\\n            Brief project description\\n ...</td>\n",
       "      <td>The key objectives and overall scope of the pr...</td>\n",
       "      <td>[page_content='\\nAgency  in  East  Kalimantan ...</td>\n",
       "      <td>7</td>\n",
       "      <td>[0.5178934335708618]</td>\n",
       "      <td>True</td>\n",
       "      <td>chroma</td>\n",
       "      <td>bm25</td>\n",
       "    </tr>\n",
       "    <tr>\n",
       "      <th>17</th>\n",
       "      <td>2</td>\n",
       "      <td>What is the specific country and city where th...</td>\n",
       "      <td>\\n            The location of the project is i...</td>\n",
       "      <td>The specific country where the project is loca...</td>\n",
       "      <td>[page_content='\\n- Community members (villager...</td>\n",
       "      <td>6</td>\n",
       "      <td>[0.9493037462234497]</td>\n",
       "      <td>True</td>\n",
       "      <td>chroma</td>\n",
       "      <td>bm25</td>\n",
       "    </tr>\n",
       "    <tr>\n",
       "      <th>19</th>\n",
       "      <td>3</td>\n",
       "      <td>Who are the target beneficiaries of the project?</td>\n",
       "      <td>\\n            Number of direct beneficiaries o...</td>\n",
       "      <td>The target beneficiaries of the project includ...</td>\n",
       "      <td>[page_content='\\nFeature 3. Theory of Change\\n...</td>\n",
       "      <td>7</td>\n",
       "      <td>[0.8518120646476746]</td>\n",
       "      <td>True</td>\n",
       "      <td>chroma</td>\n",
       "      <td>bm25</td>\n",
       "    </tr>\n",
       "    <tr>\n",
       "      <th>21</th>\n",
       "      <td>4</td>\n",
       "      <td>How many individuals are impacted by the project?</td>\n",
       "      <td>\\n            Number of direct beneficiaries o...</td>\n",
       "      <td>The project impacts a total of 6,245 individua...</td>\n",
       "      <td>[page_content='\\nFeature 3. Theory of Change\\n...</td>\n",
       "      <td>8</td>\n",
       "      <td>[0.1384962499141693]</td>\n",
       "      <td>True</td>\n",
       "      <td>chroma</td>\n",
       "      <td>bm25</td>\n",
       "    </tr>\n",
       "    <tr>\n",
       "      <th>23</th>\n",
       "      <td>5</td>\n",
       "      <td>What are the contextual factors, environmental...</td>\n",
       "      <td>\\n            Context &amp; environment and develo...</td>\n",
       "      <td>The project is situated in East Kalimantan Pro...</td>\n",
       "      <td>[page_content='\\n- Community members (villager...</td>\n",
       "      <td>7</td>\n",
       "      <td>[0.09044094383716583]</td>\n",
       "      <td>True</td>\n",
       "      <td>chroma</td>\n",
       "      <td>bm25</td>\n",
       "    </tr>\n",
       "    <tr>\n",
       "      <th>25</th>\n",
       "      <td>6</td>\n",
       "      <td>What are the start and end dates of the project?</td>\n",
       "      <td>March 2023 – February 2026</td>\n",
       "      <td>The project is scheduled to start in March 202...</td>\n",
       "      <td>[page_content='\\nMain Sustainable Development ...</td>\n",
       "      <td>10</td>\n",
       "      <td>[0.7088745832443237]</td>\n",
       "      <td>True</td>\n",
       "      <td>chroma</td>\n",
       "      <td>bm25</td>\n",
       "    </tr>\n",
       "    <tr>\n",
       "      <th>27</th>\n",
       "      <td>7</td>\n",
       "      <td>What is the total project budget in Euros, inc...</td>\n",
       "      <td>The total required resources is 818 341 € for ...</td>\n",
       "      <td>The total project budget is €818,341 for the d...</td>\n",
       "      <td>[page_content='\\nMain Sustainable Development ...</td>\n",
       "      <td>8</td>\n",
       "      <td>[0.1841835379600525]</td>\n",
       "      <td>True</td>\n",
       "      <td>chroma</td>\n",
       "      <td>bm25</td>\n",
       "    </tr>\n",
       "  </tbody>\n",
       "</table>\n",
       "</div>"
      ],
      "text/plain": [
       "    question_#                                           question  \\\n",
       "15           1  What are the key objectives and overall scope ...   \n",
       "17           2  What is the specific country and city where th...   \n",
       "19           3   Who are the target beneficiaries of the project?   \n",
       "21           4  How many individuals are impacted by the project?   \n",
       "23           5  What are the contextual factors, environmental...   \n",
       "25           6   What are the start and end dates of the project?   \n",
       "27           7  What is the total project budget in Euros, inc...   \n",
       "\n",
       "                                     reference_answer  \\\n",
       "15      \\n            Brief project description\\n ...   \n",
       "17  \\n            The location of the project is i...   \n",
       "19  \\n            Number of direct beneficiaries o...   \n",
       "21  \\n            Number of direct beneficiaries o...   \n",
       "23  \\n            Context & environment and develo...   \n",
       "25                         March 2023 – February 2026   \n",
       "27  The total required resources is 818 341 € for ...   \n",
       "\n",
       "                                           rag_answer  \\\n",
       "15  The key objectives and overall scope of the pr...   \n",
       "17  The specific country where the project is loca...   \n",
       "19  The target beneficiaries of the project includ...   \n",
       "21  The project impacts a total of 6,245 individua...   \n",
       "23  The project is situated in East Kalimantan Pro...   \n",
       "25  The project is scheduled to start in March 202...   \n",
       "27  The total project budget is €818,341 for the d...   \n",
       "\n",
       "                                          rag_sources  eval_score_llm  \\\n",
       "15  [page_content='\\nAgency  in  East  Kalimantan ...               7   \n",
       "17  [page_content='\\n- Community members (villager...               6   \n",
       "19  [page_content='\\nFeature 3. Theory of Change\\n...               7   \n",
       "21  [page_content='\\nFeature 3. Theory of Change\\n...               8   \n",
       "23  [page_content='\\n- Community members (villager...               7   \n",
       "25  [page_content='\\nMain Sustainable Development ...              10   \n",
       "27  [page_content='\\nMain Sustainable Development ...               8   \n",
       "\n",
       "     eval_score_minicheck  enhanced_question dense_retriever_type  \\\n",
       "15   [0.5178934335708618]               True               chroma   \n",
       "17   [0.9493037462234497]               True               chroma   \n",
       "19   [0.8518120646476746]               True               chroma   \n",
       "21   [0.1384962499141693]               True               chroma   \n",
       "23  [0.09044094383716583]               True               chroma   \n",
       "25   [0.7088745832443237]               True               chroma   \n",
       "27   [0.1841835379600525]               True               chroma   \n",
       "\n",
       "   spare_retriever_type  \n",
       "15                 bm25  \n",
       "17                 bm25  \n",
       "19                 bm25  \n",
       "21                 bm25  \n",
       "23                 bm25  \n",
       "25                 bm25  \n",
       "27                 bm25  "
      ]
     },
     "metadata": {},
     "output_type": "display_data"
    },
    {
     "name": "stdout",
     "output_type": "stream",
     "text": [
      "\n",
      "-----------\n",
      "\n",
      "Dense type: faiss,\n",
      " Sparse type: tfidf,\n",
      " enhanced prompt: False\n",
      "Score moyen llm eval: 7.857142857142857\n"
     ]
    },
    {
     "data": {
      "text/html": [
       "<div>\n",
       "<style scoped>\n",
       "    .dataframe tbody tr th:only-of-type {\n",
       "        vertical-align: middle;\n",
       "    }\n",
       "\n",
       "    .dataframe tbody tr th {\n",
       "        vertical-align: top;\n",
       "    }\n",
       "\n",
       "    .dataframe thead th {\n",
       "        text-align: right;\n",
       "    }\n",
       "</style>\n",
       "<table border=\"1\" class=\"dataframe\">\n",
       "  <thead>\n",
       "    <tr style=\"text-align: right;\">\n",
       "      <th></th>\n",
       "      <th>question_#</th>\n",
       "      <th>question</th>\n",
       "      <th>reference_answer</th>\n",
       "      <th>rag_answer</th>\n",
       "      <th>rag_sources</th>\n",
       "      <th>eval_score_llm</th>\n",
       "      <th>eval_score_minicheck</th>\n",
       "      <th>enhanced_question</th>\n",
       "      <th>dense_retriever_type</th>\n",
       "      <th>spare_retriever_type</th>\n",
       "    </tr>\n",
       "  </thead>\n",
       "  <tbody>\n",
       "    <tr>\n",
       "      <th>28</th>\n",
       "      <td>1</td>\n",
       "      <td>Description of the project</td>\n",
       "      <td>\\n            Brief project description\\n ...</td>\n",
       "      <td>The project titled \"Mahakam\" is focused on man...</td>\n",
       "      <td>[page_content='\\nHuman resources – Planète Urg...</td>\n",
       "      <td>6</td>\n",
       "      <td>[0.05878777056932449]</td>\n",
       "      <td>False</td>\n",
       "      <td>faiss</td>\n",
       "      <td>tfidf</td>\n",
       "    </tr>\n",
       "    <tr>\n",
       "      <th>30</th>\n",
       "      <td>2</td>\n",
       "      <td>Country and city</td>\n",
       "      <td>\\n            The location of the project is i...</td>\n",
       "      <td>The country is Indonesia, and the relevant cit...</td>\n",
       "      <td>[page_content='MANGROVE RESTORATION AND\\nLOCAL...</td>\n",
       "      <td>6</td>\n",
       "      <td>[0.018860161304473877]</td>\n",
       "      <td>False</td>\n",
       "      <td>faiss</td>\n",
       "      <td>tfidf</td>\n",
       "    </tr>\n",
       "    <tr>\n",
       "      <th>32</th>\n",
       "      <td>3</td>\n",
       "      <td>Target beneficiaries</td>\n",
       "      <td>\\n            Number of direct beneficiaries o...</td>\n",
       "      <td>The target beneficiaries of the pilot project ...</td>\n",
       "      <td>[page_content='\\nFeature 3. Theory of Change\\n...</td>\n",
       "      <td>9</td>\n",
       "      <td>[0.1266552358865738]</td>\n",
       "      <td>False</td>\n",
       "      <td>faiss</td>\n",
       "      <td>tfidf</td>\n",
       "    </tr>\n",
       "    <tr>\n",
       "      <th>34</th>\n",
       "      <td>4</td>\n",
       "      <td>Number of people concerned</td>\n",
       "      <td>\\n            Number of direct beneficiaries o...</td>\n",
       "      <td>The number of direct beneficiaries of the pilo...</td>\n",
       "      <td>[page_content='\\nTable 2. Types of Land Cover ...</td>\n",
       "      <td>9</td>\n",
       "      <td>[0.15698452293872833]</td>\n",
       "      <td>False</td>\n",
       "      <td>faiss</td>\n",
       "      <td>tfidf</td>\n",
       "    </tr>\n",
       "    <tr>\n",
       "      <th>36</th>\n",
       "      <td>5</td>\n",
       "      <td>Context, environment, project rationale and ch...</td>\n",
       "      <td>\\n            Context &amp; environment and develo...</td>\n",
       "      <td>The context outlines the significant impact of...</td>\n",
       "      <td>[page_content='\\nAnother issue that has also h...</td>\n",
       "      <td>8</td>\n",
       "      <td>[0.8946554660797119]</td>\n",
       "      <td>False</td>\n",
       "      <td>faiss</td>\n",
       "      <td>tfidf</td>\n",
       "    </tr>\n",
       "    <tr>\n",
       "      <th>38</th>\n",
       "      <td>6</td>\n",
       "      <td>Project start date / end date</td>\n",
       "      <td>March 2023 – February 2026</td>\n",
       "      <td>The project start date is March 2023, and the ...</td>\n",
       "      <td>[page_content='\\n Identification and mapping ...</td>\n",
       "      <td>10</td>\n",
       "      <td>[0.25516653060913086]</td>\n",
       "      <td>False</td>\n",
       "      <td>faiss</td>\n",
       "      <td>tfidf</td>\n",
       "    </tr>\n",
       "    <tr>\n",
       "      <th>40</th>\n",
       "      <td>7</td>\n",
       "      <td>Project budget \\n            Total amount of t...</td>\n",
       "      <td>The total required resources is 818 341 € for ...</td>\n",
       "      <td>- **Total amount of the project (in Euros):** ...</td>\n",
       "      <td>[page_content='\\nMain Sustainable Development ...</td>\n",
       "      <td>7</td>\n",
       "      <td>[0.06654772907495499]</td>\n",
       "      <td>False</td>\n",
       "      <td>faiss</td>\n",
       "      <td>tfidf</td>\n",
       "    </tr>\n",
       "  </tbody>\n",
       "</table>\n",
       "</div>"
      ],
      "text/plain": [
       "    question_#                                           question  \\\n",
       "28           1                         Description of the project   \n",
       "30           2                                   Country and city   \n",
       "32           3                               Target beneficiaries   \n",
       "34           4                         Number of people concerned   \n",
       "36           5  Context, environment, project rationale and ch...   \n",
       "38           6                      Project start date / end date   \n",
       "40           7  Project budget \\n            Total amount of t...   \n",
       "\n",
       "                                     reference_answer  \\\n",
       "28      \\n            Brief project description\\n ...   \n",
       "30  \\n            The location of the project is i...   \n",
       "32  \\n            Number of direct beneficiaries o...   \n",
       "34  \\n            Number of direct beneficiaries o...   \n",
       "36  \\n            Context & environment and develo...   \n",
       "38                         March 2023 – February 2026   \n",
       "40  The total required resources is 818 341 € for ...   \n",
       "\n",
       "                                           rag_answer  \\\n",
       "28  The project titled \"Mahakam\" is focused on man...   \n",
       "30  The country is Indonesia, and the relevant cit...   \n",
       "32  The target beneficiaries of the pilot project ...   \n",
       "34  The number of direct beneficiaries of the pilo...   \n",
       "36  The context outlines the significant impact of...   \n",
       "38  The project start date is March 2023, and the ...   \n",
       "40  - **Total amount of the project (in Euros):** ...   \n",
       "\n",
       "                                          rag_sources  eval_score_llm  \\\n",
       "28  [page_content='\\nHuman resources – Planète Urg...               6   \n",
       "30  [page_content='MANGROVE RESTORATION AND\\nLOCAL...               6   \n",
       "32  [page_content='\\nFeature 3. Theory of Change\\n...               9   \n",
       "34  [page_content='\\nTable 2. Types of Land Cover ...               9   \n",
       "36  [page_content='\\nAnother issue that has also h...               8   \n",
       "38  [page_content='\\n Identification and mapping ...              10   \n",
       "40  [page_content='\\nMain Sustainable Development ...               7   \n",
       "\n",
       "      eval_score_minicheck  enhanced_question dense_retriever_type  \\\n",
       "28   [0.05878777056932449]              False                faiss   \n",
       "30  [0.018860161304473877]              False                faiss   \n",
       "32    [0.1266552358865738]              False                faiss   \n",
       "34   [0.15698452293872833]              False                faiss   \n",
       "36    [0.8946554660797119]              False                faiss   \n",
       "38   [0.25516653060913086]              False                faiss   \n",
       "40   [0.06654772907495499]              False                faiss   \n",
       "\n",
       "   spare_retriever_type  \n",
       "28                tfidf  \n",
       "30                tfidf  \n",
       "32                tfidf  \n",
       "34                tfidf  \n",
       "36                tfidf  \n",
       "38                tfidf  \n",
       "40                tfidf  "
      ]
     },
     "metadata": {},
     "output_type": "display_data"
    },
    {
     "name": "stdout",
     "output_type": "stream",
     "text": [
      "\n",
      "-----------\n",
      "\n",
      "Dense type: faiss,\n",
      " Sparse type: tfidf,\n",
      " enhanced prompt: True\n",
      "Score moyen llm eval: 7.857142857142857\n"
     ]
    },
    {
     "data": {
      "text/html": [
       "<div>\n",
       "<style scoped>\n",
       "    .dataframe tbody tr th:only-of-type {\n",
       "        vertical-align: middle;\n",
       "    }\n",
       "\n",
       "    .dataframe tbody tr th {\n",
       "        vertical-align: top;\n",
       "    }\n",
       "\n",
       "    .dataframe thead th {\n",
       "        text-align: right;\n",
       "    }\n",
       "</style>\n",
       "<table border=\"1\" class=\"dataframe\">\n",
       "  <thead>\n",
       "    <tr style=\"text-align: right;\">\n",
       "      <th></th>\n",
       "      <th>question_#</th>\n",
       "      <th>question</th>\n",
       "      <th>reference_answer</th>\n",
       "      <th>rag_answer</th>\n",
       "      <th>rag_sources</th>\n",
       "      <th>eval_score_llm</th>\n",
       "      <th>eval_score_minicheck</th>\n",
       "      <th>enhanced_question</th>\n",
       "      <th>dense_retriever_type</th>\n",
       "      <th>spare_retriever_type</th>\n",
       "    </tr>\n",
       "  </thead>\n",
       "  <tbody>\n",
       "    <tr>\n",
       "      <th>29</th>\n",
       "      <td>1</td>\n",
       "      <td>What is the detailed description of the projec...</td>\n",
       "      <td>\\n            Brief project description\\n ...</td>\n",
       "      <td>The project's scope and objectives are centere...</td>\n",
       "      <td>[page_content='\\nFeature 3. Theory of Change\\n...</td>\n",
       "      <td>8</td>\n",
       "      <td>[0.9278145432472229]</td>\n",
       "      <td>True</td>\n",
       "      <td>faiss</td>\n",
       "      <td>tfidf</td>\n",
       "    </tr>\n",
       "    <tr>\n",
       "      <th>31</th>\n",
       "      <td>2</td>\n",
       "      <td>What is the specific country and city where th...</td>\n",
       "      <td>\\n            The location of the project is i...</td>\n",
       "      <td>The project is located in Indonesia, specifica...</td>\n",
       "      <td>[page_content='MANGROVE RESTORATION AND\\nLOCAL...</td>\n",
       "      <td>7</td>\n",
       "      <td>[0.9097768068313599]</td>\n",
       "      <td>True</td>\n",
       "      <td>faiss</td>\n",
       "      <td>tfidf</td>\n",
       "    </tr>\n",
       "    <tr>\n",
       "      <th>33</th>\n",
       "      <td>3</td>\n",
       "      <td>Who are the target beneficiaries of the project?</td>\n",
       "      <td>\\n            Number of direct beneficiaries o...</td>\n",
       "      <td>The target beneficiaries of the project includ...</td>\n",
       "      <td>[page_content='\\nFeature 3. Theory of Change\\n...</td>\n",
       "      <td>7</td>\n",
       "      <td>[0.1328572779893875]</td>\n",
       "      <td>True</td>\n",
       "      <td>faiss</td>\n",
       "      <td>tfidf</td>\n",
       "    </tr>\n",
       "    <tr>\n",
       "      <th>35</th>\n",
       "      <td>4</td>\n",
       "      <td>How many individuals are impacted by the project?</td>\n",
       "      <td>\\n            Number of direct beneficiaries o...</td>\n",
       "      <td>The project impacts a total of 6,245 individua...</td>\n",
       "      <td>[page_content='\\nFeature 3. Theory of Change\\n...</td>\n",
       "      <td>8</td>\n",
       "      <td>[0.14353562891483307]</td>\n",
       "      <td>True</td>\n",
       "      <td>faiss</td>\n",
       "      <td>tfidf</td>\n",
       "    </tr>\n",
       "    <tr>\n",
       "      <th>37</th>\n",
       "      <td>5</td>\n",
       "      <td>What are the contextual factors, environmental...</td>\n",
       "      <td>\\n            Context &amp; environment and develo...</td>\n",
       "      <td>The project is situated in East Kalimantan Pro...</td>\n",
       "      <td>[page_content='\\n- Community members (villager...</td>\n",
       "      <td>7</td>\n",
       "      <td>[0.5033357739448547]</td>\n",
       "      <td>True</td>\n",
       "      <td>faiss</td>\n",
       "      <td>tfidf</td>\n",
       "    </tr>\n",
       "    <tr>\n",
       "      <th>39</th>\n",
       "      <td>6</td>\n",
       "      <td>What are the start and end dates of the project?</td>\n",
       "      <td>March 2023 – February 2026</td>\n",
       "      <td>The project starts in March 2023 and ends in F...</td>\n",
       "      <td>[page_content='\\nMain Sustainable Development ...</td>\n",
       "      <td>10</td>\n",
       "      <td>[0.7474795579910278]</td>\n",
       "      <td>True</td>\n",
       "      <td>faiss</td>\n",
       "      <td>tfidf</td>\n",
       "    </tr>\n",
       "    <tr>\n",
       "      <th>41</th>\n",
       "      <td>7</td>\n",
       "      <td>What is the total project budget in Euros, inc...</td>\n",
       "      <td>The total required resources is 818 341 € for ...</td>\n",
       "      <td>The total project budget is €818,341 for the d...</td>\n",
       "      <td>[page_content='\\nMain Sustainable Development ...</td>\n",
       "      <td>8</td>\n",
       "      <td>[0.45446017384529114]</td>\n",
       "      <td>True</td>\n",
       "      <td>faiss</td>\n",
       "      <td>tfidf</td>\n",
       "    </tr>\n",
       "  </tbody>\n",
       "</table>\n",
       "</div>"
      ],
      "text/plain": [
       "    question_#                                           question  \\\n",
       "29           1  What is the detailed description of the projec...   \n",
       "31           2  What is the specific country and city where th...   \n",
       "33           3   Who are the target beneficiaries of the project?   \n",
       "35           4  How many individuals are impacted by the project?   \n",
       "37           5  What are the contextual factors, environmental...   \n",
       "39           6   What are the start and end dates of the project?   \n",
       "41           7  What is the total project budget in Euros, inc...   \n",
       "\n",
       "                                     reference_answer  \\\n",
       "29      \\n            Brief project description\\n ...   \n",
       "31  \\n            The location of the project is i...   \n",
       "33  \\n            Number of direct beneficiaries o...   \n",
       "35  \\n            Number of direct beneficiaries o...   \n",
       "37  \\n            Context & environment and develo...   \n",
       "39                         March 2023 – February 2026   \n",
       "41  The total required resources is 818 341 € for ...   \n",
       "\n",
       "                                           rag_answer  \\\n",
       "29  The project's scope and objectives are centere...   \n",
       "31  The project is located in Indonesia, specifica...   \n",
       "33  The target beneficiaries of the project includ...   \n",
       "35  The project impacts a total of 6,245 individua...   \n",
       "37  The project is situated in East Kalimantan Pro...   \n",
       "39  The project starts in March 2023 and ends in F...   \n",
       "41  The total project budget is €818,341 for the d...   \n",
       "\n",
       "                                          rag_sources  eval_score_llm  \\\n",
       "29  [page_content='\\nFeature 3. Theory of Change\\n...               8   \n",
       "31  [page_content='MANGROVE RESTORATION AND\\nLOCAL...               7   \n",
       "33  [page_content='\\nFeature 3. Theory of Change\\n...               7   \n",
       "35  [page_content='\\nFeature 3. Theory of Change\\n...               8   \n",
       "37  [page_content='\\n- Community members (villager...               7   \n",
       "39  [page_content='\\nMain Sustainable Development ...              10   \n",
       "41  [page_content='\\nMain Sustainable Development ...               8   \n",
       "\n",
       "     eval_score_minicheck  enhanced_question dense_retriever_type  \\\n",
       "29   [0.9278145432472229]               True                faiss   \n",
       "31   [0.9097768068313599]               True                faiss   \n",
       "33   [0.1328572779893875]               True                faiss   \n",
       "35  [0.14353562891483307]               True                faiss   \n",
       "37   [0.5033357739448547]               True                faiss   \n",
       "39   [0.7474795579910278]               True                faiss   \n",
       "41  [0.45446017384529114]               True                faiss   \n",
       "\n",
       "   spare_retriever_type  \n",
       "29                tfidf  \n",
       "31                tfidf  \n",
       "33                tfidf  \n",
       "35                tfidf  \n",
       "37                tfidf  \n",
       "39                tfidf  \n",
       "41                tfidf  "
      ]
     },
     "metadata": {},
     "output_type": "display_data"
    },
    {
     "name": "stdout",
     "output_type": "stream",
     "text": [
      "\n",
      "-----------\n",
      "\n",
      "Dense type: faiss,\n",
      " Sparse type: bm25,\n",
      " enhanced prompt: False\n",
      "Score moyen llm eval: 7.714285714285714\n"
     ]
    },
    {
     "data": {
      "text/html": [
       "<div>\n",
       "<style scoped>\n",
       "    .dataframe tbody tr th:only-of-type {\n",
       "        vertical-align: middle;\n",
       "    }\n",
       "\n",
       "    .dataframe tbody tr th {\n",
       "        vertical-align: top;\n",
       "    }\n",
       "\n",
       "    .dataframe thead th {\n",
       "        text-align: right;\n",
       "    }\n",
       "</style>\n",
       "<table border=\"1\" class=\"dataframe\">\n",
       "  <thead>\n",
       "    <tr style=\"text-align: right;\">\n",
       "      <th></th>\n",
       "      <th>question_#</th>\n",
       "      <th>question</th>\n",
       "      <th>reference_answer</th>\n",
       "      <th>rag_answer</th>\n",
       "      <th>rag_sources</th>\n",
       "      <th>eval_score_llm</th>\n",
       "      <th>eval_score_minicheck</th>\n",
       "      <th>enhanced_question</th>\n",
       "      <th>dense_retriever_type</th>\n",
       "      <th>spare_retriever_type</th>\n",
       "    </tr>\n",
       "  </thead>\n",
       "  <tbody>\n",
       "    <tr>\n",
       "      <th>42</th>\n",
       "      <td>1</td>\n",
       "      <td>Description of the project</td>\n",
       "      <td>\\n            Brief project description\\n ...</td>\n",
       "      <td>The project titled \"MAHAKAM\" is a mangrove res...</td>\n",
       "      <td>[page_content='\\nHuman resources – Planète Urg...</td>\n",
       "      <td>6</td>\n",
       "      <td>[0.06616741418838501]</td>\n",
       "      <td>False</td>\n",
       "      <td>faiss</td>\n",
       "      <td>bm25</td>\n",
       "    </tr>\n",
       "    <tr>\n",
       "      <th>44</th>\n",
       "      <td>2</td>\n",
       "      <td>Country and city</td>\n",
       "      <td>\\n            The location of the project is i...</td>\n",
       "      <td>The country is Indonesia, and the relevant cit...</td>\n",
       "      <td>[page_content='MANGROVE RESTORATION AND\\nLOCAL...</td>\n",
       "      <td>6</td>\n",
       "      <td>[0.03167888894677162]</td>\n",
       "      <td>False</td>\n",
       "      <td>faiss</td>\n",
       "      <td>bm25</td>\n",
       "    </tr>\n",
       "    <tr>\n",
       "      <th>46</th>\n",
       "      <td>3</td>\n",
       "      <td>Target beneficiaries</td>\n",
       "      <td>\\n            Number of direct beneficiaries o...</td>\n",
       "      <td>The target beneficiaries of the pilot project ...</td>\n",
       "      <td>[page_content='\\nFeature 3. Theory of Change\\n...</td>\n",
       "      <td>8</td>\n",
       "      <td>[0.10996547341346741]</td>\n",
       "      <td>False</td>\n",
       "      <td>faiss</td>\n",
       "      <td>bm25</td>\n",
       "    </tr>\n",
       "    <tr>\n",
       "      <th>48</th>\n",
       "      <td>4</td>\n",
       "      <td>Number of people concerned</td>\n",
       "      <td>\\n            Number of direct beneficiaries o...</td>\n",
       "      <td>The number of direct beneficiaries of the pilo...</td>\n",
       "      <td>[page_content='\\nList of \\nparticipants\\nMoU D...</td>\n",
       "      <td>9</td>\n",
       "      <td>[0.16094541549682617]</td>\n",
       "      <td>False</td>\n",
       "      <td>faiss</td>\n",
       "      <td>bm25</td>\n",
       "    </tr>\n",
       "    <tr>\n",
       "      <th>50</th>\n",
       "      <td>5</td>\n",
       "      <td>Context, environment, project rationale and ch...</td>\n",
       "      <td>\\n            Context &amp; environment and develo...</td>\n",
       "      <td>The context of the project revolves around the...</td>\n",
       "      <td>[page_content='\\nAnother issue that has also h...</td>\n",
       "      <td>7</td>\n",
       "      <td>[0.9153727889060974]</td>\n",
       "      <td>False</td>\n",
       "      <td>faiss</td>\n",
       "      <td>bm25</td>\n",
       "    </tr>\n",
       "    <tr>\n",
       "      <th>52</th>\n",
       "      <td>6</td>\n",
       "      <td>Project start date / end date</td>\n",
       "      <td>March 2023 – February 2026</td>\n",
       "      <td>The project start date is March 2023, and the ...</td>\n",
       "      <td>[page_content='\\n Identification and mapping ...</td>\n",
       "      <td>10</td>\n",
       "      <td>[0.25516653060913086]</td>\n",
       "      <td>False</td>\n",
       "      <td>faiss</td>\n",
       "      <td>bm25</td>\n",
       "    </tr>\n",
       "    <tr>\n",
       "      <th>54</th>\n",
       "      <td>7</td>\n",
       "      <td>Project budget \\n            Total amount of t...</td>\n",
       "      <td>The total required resources is 818 341 € for ...</td>\n",
       "      <td>The total amount of the project is €818,341. T...</td>\n",
       "      <td>[page_content='\\nMain Sustainable Development ...</td>\n",
       "      <td>8</td>\n",
       "      <td>[0.31312671303749084]</td>\n",
       "      <td>False</td>\n",
       "      <td>faiss</td>\n",
       "      <td>bm25</td>\n",
       "    </tr>\n",
       "  </tbody>\n",
       "</table>\n",
       "</div>"
      ],
      "text/plain": [
       "    question_#                                           question  \\\n",
       "42           1                         Description of the project   \n",
       "44           2                                   Country and city   \n",
       "46           3                               Target beneficiaries   \n",
       "48           4                         Number of people concerned   \n",
       "50           5  Context, environment, project rationale and ch...   \n",
       "52           6                      Project start date / end date   \n",
       "54           7  Project budget \\n            Total amount of t...   \n",
       "\n",
       "                                     reference_answer  \\\n",
       "42      \\n            Brief project description\\n ...   \n",
       "44  \\n            The location of the project is i...   \n",
       "46  \\n            Number of direct beneficiaries o...   \n",
       "48  \\n            Number of direct beneficiaries o...   \n",
       "50  \\n            Context & environment and develo...   \n",
       "52                         March 2023 – February 2026   \n",
       "54  The total required resources is 818 341 € for ...   \n",
       "\n",
       "                                           rag_answer  \\\n",
       "42  The project titled \"MAHAKAM\" is a mangrove res...   \n",
       "44  The country is Indonesia, and the relevant cit...   \n",
       "46  The target beneficiaries of the pilot project ...   \n",
       "48  The number of direct beneficiaries of the pilo...   \n",
       "50  The context of the project revolves around the...   \n",
       "52  The project start date is March 2023, and the ...   \n",
       "54  The total amount of the project is €818,341. T...   \n",
       "\n",
       "                                          rag_sources  eval_score_llm  \\\n",
       "42  [page_content='\\nHuman resources – Planète Urg...               6   \n",
       "44  [page_content='MANGROVE RESTORATION AND\\nLOCAL...               6   \n",
       "46  [page_content='\\nFeature 3. Theory of Change\\n...               8   \n",
       "48  [page_content='\\nList of \\nparticipants\\nMoU D...               9   \n",
       "50  [page_content='\\nAnother issue that has also h...               7   \n",
       "52  [page_content='\\n Identification and mapping ...              10   \n",
       "54  [page_content='\\nMain Sustainable Development ...               8   \n",
       "\n",
       "     eval_score_minicheck  enhanced_question dense_retriever_type  \\\n",
       "42  [0.06616741418838501]              False                faiss   \n",
       "44  [0.03167888894677162]              False                faiss   \n",
       "46  [0.10996547341346741]              False                faiss   \n",
       "48  [0.16094541549682617]              False                faiss   \n",
       "50   [0.9153727889060974]              False                faiss   \n",
       "52  [0.25516653060913086]              False                faiss   \n",
       "54  [0.31312671303749084]              False                faiss   \n",
       "\n",
       "   spare_retriever_type  \n",
       "42                 bm25  \n",
       "44                 bm25  \n",
       "46                 bm25  \n",
       "48                 bm25  \n",
       "50                 bm25  \n",
       "52                 bm25  \n",
       "54                 bm25  "
      ]
     },
     "metadata": {},
     "output_type": "display_data"
    },
    {
     "name": "stdout",
     "output_type": "stream",
     "text": [
      "\n",
      "-----------\n",
      "\n",
      "Dense type: faiss,\n",
      " Sparse type: bm25,\n",
      " enhanced prompt: True\n",
      "Score moyen llm eval: 7.571428571428571\n"
     ]
    },
    {
     "data": {
      "text/html": [
       "<div>\n",
       "<style scoped>\n",
       "    .dataframe tbody tr th:only-of-type {\n",
       "        vertical-align: middle;\n",
       "    }\n",
       "\n",
       "    .dataframe tbody tr th {\n",
       "        vertical-align: top;\n",
       "    }\n",
       "\n",
       "    .dataframe thead th {\n",
       "        text-align: right;\n",
       "    }\n",
       "</style>\n",
       "<table border=\"1\" class=\"dataframe\">\n",
       "  <thead>\n",
       "    <tr style=\"text-align: right;\">\n",
       "      <th></th>\n",
       "      <th>question_#</th>\n",
       "      <th>question</th>\n",
       "      <th>reference_answer</th>\n",
       "      <th>rag_answer</th>\n",
       "      <th>rag_sources</th>\n",
       "      <th>eval_score_llm</th>\n",
       "      <th>eval_score_minicheck</th>\n",
       "      <th>enhanced_question</th>\n",
       "      <th>dense_retriever_type</th>\n",
       "      <th>spare_retriever_type</th>\n",
       "    </tr>\n",
       "  </thead>\n",
       "  <tbody>\n",
       "    <tr>\n",
       "      <th>43</th>\n",
       "      <td>1</td>\n",
       "      <td>What is the detailed description of the project?</td>\n",
       "      <td>\\n            Brief project description\\n ...</td>\n",
       "      <td>The project, titled \"Mahakam,\" is focused on m...</td>\n",
       "      <td>[page_content='\\n- Community members (villager...</td>\n",
       "      <td>8</td>\n",
       "      <td>[0.851862370967865]</td>\n",
       "      <td>True</td>\n",
       "      <td>faiss</td>\n",
       "      <td>bm25</td>\n",
       "    </tr>\n",
       "    <tr>\n",
       "      <th>45</th>\n",
       "      <td>2</td>\n",
       "      <td>What is the specific country and city where th...</td>\n",
       "      <td>\\n            The location of the project is i...</td>\n",
       "      <td>The project is located in Indonesia, specifica...</td>\n",
       "      <td>[page_content='MANGROVE RESTORATION AND\\nLOCAL...</td>\n",
       "      <td>6</td>\n",
       "      <td>[0.9208370447158813]</td>\n",
       "      <td>True</td>\n",
       "      <td>faiss</td>\n",
       "      <td>bm25</td>\n",
       "    </tr>\n",
       "    <tr>\n",
       "      <th>47</th>\n",
       "      <td>3</td>\n",
       "      <td>Who are the target beneficiaries of the project?</td>\n",
       "      <td>\\n            Number of direct beneficiaries o...</td>\n",
       "      <td>The target beneficiaries of the project includ...</td>\n",
       "      <td>[page_content='\\nFeature 3. Theory of Change\\n...</td>\n",
       "      <td>7</td>\n",
       "      <td>[0.18923136591911316]</td>\n",
       "      <td>True</td>\n",
       "      <td>faiss</td>\n",
       "      <td>bm25</td>\n",
       "    </tr>\n",
       "    <tr>\n",
       "      <th>49</th>\n",
       "      <td>4</td>\n",
       "      <td>How many individuals are impacted by the project?</td>\n",
       "      <td>\\n            Number of direct beneficiaries o...</td>\n",
       "      <td>The project impacts a total of 6,245 individua...</td>\n",
       "      <td>[page_content='\\nFeature 3. Theory of Change\\n...</td>\n",
       "      <td>8</td>\n",
       "      <td>[0.1740250438451767]</td>\n",
       "      <td>True</td>\n",
       "      <td>faiss</td>\n",
       "      <td>bm25</td>\n",
       "    </tr>\n",
       "    <tr>\n",
       "      <th>51</th>\n",
       "      <td>5</td>\n",
       "      <td>What are the contextual factors, environmental...</td>\n",
       "      <td>\\n            Context &amp; environment and develo...</td>\n",
       "      <td>The project is situated in East Kalimantan Pro...</td>\n",
       "      <td>[page_content='\\n- Community members (villager...</td>\n",
       "      <td>6</td>\n",
       "      <td>[0.16552533209323883]</td>\n",
       "      <td>True</td>\n",
       "      <td>faiss</td>\n",
       "      <td>bm25</td>\n",
       "    </tr>\n",
       "    <tr>\n",
       "      <th>53</th>\n",
       "      <td>6</td>\n",
       "      <td>What are the start and end dates of the project?</td>\n",
       "      <td>March 2023 – February 2026</td>\n",
       "      <td>The project is scheduled to start in March 202...</td>\n",
       "      <td>[page_content='\\nMain Sustainable Development ...</td>\n",
       "      <td>10</td>\n",
       "      <td>[0.7088745832443237]</td>\n",
       "      <td>True</td>\n",
       "      <td>faiss</td>\n",
       "      <td>bm25</td>\n",
       "    </tr>\n",
       "    <tr>\n",
       "      <th>55</th>\n",
       "      <td>7</td>\n",
       "      <td>What is the total project budget in Euros, inc...</td>\n",
       "      <td>The total required resources is 818 341 € for ...</td>\n",
       "      <td>The total project budget is €818,341 for the d...</td>\n",
       "      <td>[page_content='\\nMain Sustainable Development ...</td>\n",
       "      <td>8</td>\n",
       "      <td>[0.18756112456321716]</td>\n",
       "      <td>True</td>\n",
       "      <td>faiss</td>\n",
       "      <td>bm25</td>\n",
       "    </tr>\n",
       "  </tbody>\n",
       "</table>\n",
       "</div>"
      ],
      "text/plain": [
       "    question_#                                           question  \\\n",
       "43           1   What is the detailed description of the project?   \n",
       "45           2  What is the specific country and city where th...   \n",
       "47           3   Who are the target beneficiaries of the project?   \n",
       "49           4  How many individuals are impacted by the project?   \n",
       "51           5  What are the contextual factors, environmental...   \n",
       "53           6   What are the start and end dates of the project?   \n",
       "55           7  What is the total project budget in Euros, inc...   \n",
       "\n",
       "                                     reference_answer  \\\n",
       "43      \\n            Brief project description\\n ...   \n",
       "45  \\n            The location of the project is i...   \n",
       "47  \\n            Number of direct beneficiaries o...   \n",
       "49  \\n            Number of direct beneficiaries o...   \n",
       "51  \\n            Context & environment and develo...   \n",
       "53                         March 2023 – February 2026   \n",
       "55  The total required resources is 818 341 € for ...   \n",
       "\n",
       "                                           rag_answer  \\\n",
       "43  The project, titled \"Mahakam,\" is focused on m...   \n",
       "45  The project is located in Indonesia, specifica...   \n",
       "47  The target beneficiaries of the project includ...   \n",
       "49  The project impacts a total of 6,245 individua...   \n",
       "51  The project is situated in East Kalimantan Pro...   \n",
       "53  The project is scheduled to start in March 202...   \n",
       "55  The total project budget is €818,341 for the d...   \n",
       "\n",
       "                                          rag_sources  eval_score_llm  \\\n",
       "43  [page_content='\\n- Community members (villager...               8   \n",
       "45  [page_content='MANGROVE RESTORATION AND\\nLOCAL...               6   \n",
       "47  [page_content='\\nFeature 3. Theory of Change\\n...               7   \n",
       "49  [page_content='\\nFeature 3. Theory of Change\\n...               8   \n",
       "51  [page_content='\\n- Community members (villager...               6   \n",
       "53  [page_content='\\nMain Sustainable Development ...              10   \n",
       "55  [page_content='\\nMain Sustainable Development ...               8   \n",
       "\n",
       "     eval_score_minicheck  enhanced_question dense_retriever_type  \\\n",
       "43    [0.851862370967865]               True                faiss   \n",
       "45   [0.9208370447158813]               True                faiss   \n",
       "47  [0.18923136591911316]               True                faiss   \n",
       "49   [0.1740250438451767]               True                faiss   \n",
       "51  [0.16552533209323883]               True                faiss   \n",
       "53   [0.7088745832443237]               True                faiss   \n",
       "55  [0.18756112456321716]               True                faiss   \n",
       "\n",
       "   spare_retriever_type  \n",
       "43                 bm25  \n",
       "45                 bm25  \n",
       "47                 bm25  \n",
       "49                 bm25  \n",
       "51                 bm25  \n",
       "53                 bm25  \n",
       "55                 bm25  "
      ]
     },
     "metadata": {},
     "output_type": "display_data"
    },
    {
     "name": "stdout",
     "output_type": "stream",
     "text": [
      "\n",
      "-----------\n",
      "\n"
     ]
    }
   ],
   "source": [
    "import pandas as pd\n",
    "\n",
    "enhanced_question=[False, True]\n",
    "params=list(product(dense_retriever_types, sparse_retriever_types, enhanced_question))\n",
    "\n",
    "df_evaluations_lecel=pd.DataFrame(evaluations_lcel)\n",
    "best_params=[]\n",
    "\n",
    "for dense_params, sparse_params, enhanced_question in params:\n",
    "    print(f\"\"\"Dense type: {dense_params[\"label\"]},\\n Sparse type: {sparse_params[\"label\"]},\\n enhanced prompt: {enhanced_question}\"\"\")\n",
    "    \n",
    "    _df=df_evaluations_lecel[(df_evaluations_lecel[\"dense_retriever_type\"]==dense_params[\"label\"])&\n",
    "        (df_evaluations_lecel[\"spare_retriever_type\"]==sparse_params[\"label\"])&\n",
    "        (df_evaluations_lecel[\"enhanced_question\"]==enhanced_question)]\n",
    "    \n",
    "    eval_score_llm=_df[\"eval_score_llm\"].mean()\n",
    "    print(f\"Score moyen llm eval: {eval_score_llm}\")\n",
    "    if eval_score_llm>=5:\n",
    "        display(_df)\n",
    "\n",
    "    best_params.append((dense_params[\"label\"], sparse_params[\"label\"], enhanced_question, eval_score_llm))\n",
    "    print('\\n-----------\\n')\n",
    "\n"
   ]
  },
  {
   "cell_type": "code",
   "execution_count": 26,
   "metadata": {},
   "outputs": [
    {
     "data": {
      "text/html": [
       "<div>\n",
       "<style scoped>\n",
       "    .dataframe tbody tr th:only-of-type {\n",
       "        vertical-align: middle;\n",
       "    }\n",
       "\n",
       "    .dataframe tbody tr th {\n",
       "        vertical-align: top;\n",
       "    }\n",
       "\n",
       "    .dataframe thead th {\n",
       "        text-align: right;\n",
       "    }\n",
       "</style>\n",
       "<table border=\"1\" class=\"dataframe\">\n",
       "  <thead>\n",
       "    <tr style=\"text-align: right;\">\n",
       "      <th></th>\n",
       "      <th>question_#</th>\n",
       "      <th>question</th>\n",
       "      <th>reference_answer</th>\n",
       "      <th>rag_answer</th>\n",
       "      <th>rag_sources</th>\n",
       "      <th>eval_score_llm</th>\n",
       "      <th>eval_score_minicheck</th>\n",
       "      <th>enhanced_question</th>\n",
       "      <th>dense_retriever_type</th>\n",
       "      <th>spare_retriever_type</th>\n",
       "    </tr>\n",
       "  </thead>\n",
       "  <tbody>\n",
       "    <tr>\n",
       "      <th>17</th>\n",
       "      <td>2</td>\n",
       "      <td>What is the specific country and city where th...</td>\n",
       "      <td>\\n            The location of the project is i...</td>\n",
       "      <td>The specific country where the project is loca...</td>\n",
       "      <td>[page_content='\\n- Community members (villager...</td>\n",
       "      <td>6</td>\n",
       "      <td>[0.9493037462234497]</td>\n",
       "      <td>True</td>\n",
       "      <td>chroma</td>\n",
       "      <td>bm25</td>\n",
       "    </tr>\n",
       "    <tr>\n",
       "      <th>45</th>\n",
       "      <td>2</td>\n",
       "      <td>What is the specific country and city where th...</td>\n",
       "      <td>\\n            The location of the project is i...</td>\n",
       "      <td>The project is located in Indonesia, specifica...</td>\n",
       "      <td>[page_content='MANGROVE RESTORATION AND\\nLOCAL...</td>\n",
       "      <td>6</td>\n",
       "      <td>[0.9208370447158813]</td>\n",
       "      <td>True</td>\n",
       "      <td>faiss</td>\n",
       "      <td>bm25</td>\n",
       "    </tr>\n",
       "    <tr>\n",
       "      <th>51</th>\n",
       "      <td>5</td>\n",
       "      <td>What are the contextual factors, environmental...</td>\n",
       "      <td>\\n            Context &amp; environment and develo...</td>\n",
       "      <td>The project is situated in East Kalimantan Pro...</td>\n",
       "      <td>[page_content='\\n- Community members (villager...</td>\n",
       "      <td>6</td>\n",
       "      <td>[0.16552533209323883]</td>\n",
       "      <td>True</td>\n",
       "      <td>faiss</td>\n",
       "      <td>bm25</td>\n",
       "    </tr>\n",
       "  </tbody>\n",
       "</table>\n",
       "</div>"
      ],
      "text/plain": [
       "    question_#                                           question  \\\n",
       "17           2  What is the specific country and city where th...   \n",
       "45           2  What is the specific country and city where th...   \n",
       "51           5  What are the contextual factors, environmental...   \n",
       "\n",
       "                                     reference_answer  \\\n",
       "17  \\n            The location of the project is i...   \n",
       "45  \\n            The location of the project is i...   \n",
       "51  \\n            Context & environment and develo...   \n",
       "\n",
       "                                           rag_answer  \\\n",
       "17  The specific country where the project is loca...   \n",
       "45  The project is located in Indonesia, specifica...   \n",
       "51  The project is situated in East Kalimantan Pro...   \n",
       "\n",
       "                                          rag_sources  eval_score_llm  \\\n",
       "17  [page_content='\\n- Community members (villager...               6   \n",
       "45  [page_content='MANGROVE RESTORATION AND\\nLOCAL...               6   \n",
       "51  [page_content='\\n- Community members (villager...               6   \n",
       "\n",
       "     eval_score_minicheck  enhanced_question dense_retriever_type  \\\n",
       "17   [0.9493037462234497]               True               chroma   \n",
       "45   [0.9208370447158813]               True                faiss   \n",
       "51  [0.16552533209323883]               True                faiss   \n",
       "\n",
       "   spare_retriever_type  \n",
       "17                 bm25  \n",
       "45                 bm25  \n",
       "51                 bm25  "
      ]
     },
     "execution_count": 26,
     "metadata": {},
     "output_type": "execute_result"
    }
   ],
   "source": [
    "df_evaluations_lecel[(df_evaluations_lecel[\"eval_score_llm\"]<7)&(df_evaluations_lecel[\"enhanced_question\"]==True)]"
   ]
  },
  {
   "cell_type": "code",
   "execution_count": 27,
   "metadata": {
    "id": "UGvU96MuyAej"
   },
   "outputs": [
    {
     "data": {
      "text/plain": [
       "array(['faiss', 'tfidf', False, 7.857142857142857], dtype=object)"
      ]
     },
     "metadata": {},
     "output_type": "display_data"
    },
    {
     "data": {
      "text/html": [
       "<div>\n",
       "<style scoped>\n",
       "    .dataframe tbody tr th:only-of-type {\n",
       "        vertical-align: middle;\n",
       "    }\n",
       "\n",
       "    .dataframe tbody tr th {\n",
       "        vertical-align: top;\n",
       "    }\n",
       "\n",
       "    .dataframe thead th {\n",
       "        text-align: right;\n",
       "    }\n",
       "</style>\n",
       "<table border=\"1\" class=\"dataframe\">\n",
       "  <thead>\n",
       "    <tr style=\"text-align: right;\">\n",
       "      <th></th>\n",
       "      <th>question_#</th>\n",
       "      <th>question</th>\n",
       "      <th>reference_answer</th>\n",
       "      <th>rag_answer</th>\n",
       "      <th>rag_sources</th>\n",
       "      <th>eval_score_llm</th>\n",
       "      <th>eval_score_minicheck</th>\n",
       "      <th>enhanced_question</th>\n",
       "      <th>dense_retriever_type</th>\n",
       "      <th>spare_retriever_type</th>\n",
       "    </tr>\n",
       "  </thead>\n",
       "  <tbody>\n",
       "    <tr>\n",
       "      <th>28</th>\n",
       "      <td>1</td>\n",
       "      <td>Description of the project</td>\n",
       "      <td>\\n            Brief project description\\n ...</td>\n",
       "      <td>The project titled \"Mahakam\" is focused on man...</td>\n",
       "      <td>[page_content='\\nHuman resources – Planète Urg...</td>\n",
       "      <td>6</td>\n",
       "      <td>[0.05878777056932449]</td>\n",
       "      <td>False</td>\n",
       "      <td>faiss</td>\n",
       "      <td>tfidf</td>\n",
       "    </tr>\n",
       "    <tr>\n",
       "      <th>30</th>\n",
       "      <td>2</td>\n",
       "      <td>Country and city</td>\n",
       "      <td>\\n            The location of the project is i...</td>\n",
       "      <td>The country is Indonesia, and the relevant cit...</td>\n",
       "      <td>[page_content='MANGROVE RESTORATION AND\\nLOCAL...</td>\n",
       "      <td>6</td>\n",
       "      <td>[0.018860161304473877]</td>\n",
       "      <td>False</td>\n",
       "      <td>faiss</td>\n",
       "      <td>tfidf</td>\n",
       "    </tr>\n",
       "    <tr>\n",
       "      <th>32</th>\n",
       "      <td>3</td>\n",
       "      <td>Target beneficiaries</td>\n",
       "      <td>\\n            Number of direct beneficiaries o...</td>\n",
       "      <td>The target beneficiaries of the pilot project ...</td>\n",
       "      <td>[page_content='\\nFeature 3. Theory of Change\\n...</td>\n",
       "      <td>9</td>\n",
       "      <td>[0.1266552358865738]</td>\n",
       "      <td>False</td>\n",
       "      <td>faiss</td>\n",
       "      <td>tfidf</td>\n",
       "    </tr>\n",
       "    <tr>\n",
       "      <th>34</th>\n",
       "      <td>4</td>\n",
       "      <td>Number of people concerned</td>\n",
       "      <td>\\n            Number of direct beneficiaries o...</td>\n",
       "      <td>The number of direct beneficiaries of the pilo...</td>\n",
       "      <td>[page_content='\\nTable 2. Types of Land Cover ...</td>\n",
       "      <td>9</td>\n",
       "      <td>[0.15698452293872833]</td>\n",
       "      <td>False</td>\n",
       "      <td>faiss</td>\n",
       "      <td>tfidf</td>\n",
       "    </tr>\n",
       "    <tr>\n",
       "      <th>36</th>\n",
       "      <td>5</td>\n",
       "      <td>Context, environment, project rationale and ch...</td>\n",
       "      <td>\\n            Context &amp; environment and develo...</td>\n",
       "      <td>The context outlines the significant impact of...</td>\n",
       "      <td>[page_content='\\nAnother issue that has also h...</td>\n",
       "      <td>8</td>\n",
       "      <td>[0.8946554660797119]</td>\n",
       "      <td>False</td>\n",
       "      <td>faiss</td>\n",
       "      <td>tfidf</td>\n",
       "    </tr>\n",
       "    <tr>\n",
       "      <th>38</th>\n",
       "      <td>6</td>\n",
       "      <td>Project start date / end date</td>\n",
       "      <td>March 2023 – February 2026</td>\n",
       "      <td>The project start date is March 2023, and the ...</td>\n",
       "      <td>[page_content='\\n Identification and mapping ...</td>\n",
       "      <td>10</td>\n",
       "      <td>[0.25516653060913086]</td>\n",
       "      <td>False</td>\n",
       "      <td>faiss</td>\n",
       "      <td>tfidf</td>\n",
       "    </tr>\n",
       "    <tr>\n",
       "      <th>40</th>\n",
       "      <td>7</td>\n",
       "      <td>Project budget \\n            Total amount of t...</td>\n",
       "      <td>The total required resources is 818 341 € for ...</td>\n",
       "      <td>- **Total amount of the project (in Euros):** ...</td>\n",
       "      <td>[page_content='\\nMain Sustainable Development ...</td>\n",
       "      <td>7</td>\n",
       "      <td>[0.06654772907495499]</td>\n",
       "      <td>False</td>\n",
       "      <td>faiss</td>\n",
       "      <td>tfidf</td>\n",
       "    </tr>\n",
       "  </tbody>\n",
       "</table>\n",
       "</div>"
      ],
      "text/plain": [
       "    question_#                                           question  \\\n",
       "28           1                         Description of the project   \n",
       "30           2                                   Country and city   \n",
       "32           3                               Target beneficiaries   \n",
       "34           4                         Number of people concerned   \n",
       "36           5  Context, environment, project rationale and ch...   \n",
       "38           6                      Project start date / end date   \n",
       "40           7  Project budget \\n            Total amount of t...   \n",
       "\n",
       "                                     reference_answer  \\\n",
       "28      \\n            Brief project description\\n ...   \n",
       "30  \\n            The location of the project is i...   \n",
       "32  \\n            Number of direct beneficiaries o...   \n",
       "34  \\n            Number of direct beneficiaries o...   \n",
       "36  \\n            Context & environment and develo...   \n",
       "38                         March 2023 – February 2026   \n",
       "40  The total required resources is 818 341 € for ...   \n",
       "\n",
       "                                           rag_answer  \\\n",
       "28  The project titled \"Mahakam\" is focused on man...   \n",
       "30  The country is Indonesia, and the relevant cit...   \n",
       "32  The target beneficiaries of the pilot project ...   \n",
       "34  The number of direct beneficiaries of the pilo...   \n",
       "36  The context outlines the significant impact of...   \n",
       "38  The project start date is March 2023, and the ...   \n",
       "40  - **Total amount of the project (in Euros):** ...   \n",
       "\n",
       "                                          rag_sources  eval_score_llm  \\\n",
       "28  [page_content='\\nHuman resources – Planète Urg...               6   \n",
       "30  [page_content='MANGROVE RESTORATION AND\\nLOCAL...               6   \n",
       "32  [page_content='\\nFeature 3. Theory of Change\\n...               9   \n",
       "34  [page_content='\\nTable 2. Types of Land Cover ...               9   \n",
       "36  [page_content='\\nAnother issue that has also h...               8   \n",
       "38  [page_content='\\n Identification and mapping ...              10   \n",
       "40  [page_content='\\nMain Sustainable Development ...               7   \n",
       "\n",
       "      eval_score_minicheck  enhanced_question dense_retriever_type  \\\n",
       "28   [0.05878777056932449]              False                faiss   \n",
       "30  [0.018860161304473877]              False                faiss   \n",
       "32    [0.1266552358865738]              False                faiss   \n",
       "34   [0.15698452293872833]              False                faiss   \n",
       "36    [0.8946554660797119]              False                faiss   \n",
       "38   [0.25516653060913086]              False                faiss   \n",
       "40   [0.06654772907495499]              False                faiss   \n",
       "\n",
       "   spare_retriever_type  \n",
       "28                tfidf  \n",
       "30                tfidf  \n",
       "32                tfidf  \n",
       "34                tfidf  \n",
       "36                tfidf  \n",
       "38                tfidf  \n",
       "40                tfidf  "
      ]
     },
     "execution_count": 27,
     "metadata": {},
     "output_type": "execute_result"
    }
   ],
   "source": [
    "_best_params= pd.DataFrame(best_params).sort_values(by=3, ascending=False).head(1).values[0]\n",
    "display(_best_params)\n",
    "df_evaluations_lecel[\n",
    "    (df_evaluations_lecel[\"dense_retriever_type\"]==_best_params[0])&\n",
    "    (df_evaluations_lecel[\"spare_retriever_type\"]==_best_params[1])&\n",
    "    (df_evaluations_lecel[\"enhanced_question\"]==_best_params[2])\n",
    "]#.to_csv(\"./rag-mahakam-hybrid-retriever-best-params.csv\", index=False)\n"
   ]
  },
  {
   "cell_type": "code",
   "execution_count": 28,
   "metadata": {},
   "outputs": [
    {
     "data": {
      "text/html": [
       "<div>\n",
       "<style scoped>\n",
       "    .dataframe tbody tr th:only-of-type {\n",
       "        vertical-align: middle;\n",
       "    }\n",
       "\n",
       "    .dataframe tbody tr th {\n",
       "        vertical-align: top;\n",
       "    }\n",
       "\n",
       "    .dataframe thead th {\n",
       "        text-align: right;\n",
       "    }\n",
       "</style>\n",
       "<table border=\"1\" class=\"dataframe\">\n",
       "  <thead>\n",
       "    <tr style=\"text-align: right;\">\n",
       "      <th>enhanced_question</th>\n",
       "      <th>False</th>\n",
       "      <th>True</th>\n",
       "    </tr>\n",
       "    <tr>\n",
       "      <th>spare_retriever_type</th>\n",
       "      <th></th>\n",
       "      <th></th>\n",
       "    </tr>\n",
       "  </thead>\n",
       "  <tbody>\n",
       "    <tr>\n",
       "      <th>bm25</th>\n",
       "      <td>7.43</td>\n",
       "      <td>7.57</td>\n",
       "    </tr>\n",
       "    <tr>\n",
       "      <th>tfidf</th>\n",
       "      <td>7.71</td>\n",
       "      <td>7.79</td>\n",
       "    </tr>\n",
       "  </tbody>\n",
       "</table>\n",
       "</div>"
      ],
      "text/plain": [
       "enhanced_question     False  True \n",
       "spare_retriever_type              \n",
       "bm25                   7.43   7.57\n",
       "tfidf                  7.71   7.79"
      ]
     },
     "metadata": {},
     "output_type": "display_data"
    },
    {
     "data": {
      "text/html": [
       "<div>\n",
       "<style scoped>\n",
       "    .dataframe tbody tr th:only-of-type {\n",
       "        vertical-align: middle;\n",
       "    }\n",
       "\n",
       "    .dataframe tbody tr th {\n",
       "        vertical-align: top;\n",
       "    }\n",
       "\n",
       "    .dataframe thead th {\n",
       "        text-align: right;\n",
       "    }\n",
       "</style>\n",
       "<table border=\"1\" class=\"dataframe\">\n",
       "  <thead>\n",
       "    <tr style=\"text-align: right;\">\n",
       "      <th>enhanced_question</th>\n",
       "      <th>False</th>\n",
       "      <th>True</th>\n",
       "    </tr>\n",
       "    <tr>\n",
       "      <th>dense_retriever_type</th>\n",
       "      <th></th>\n",
       "      <th></th>\n",
       "    </tr>\n",
       "  </thead>\n",
       "  <tbody>\n",
       "    <tr>\n",
       "      <th>chroma</th>\n",
       "      <td>7.36</td>\n",
       "      <td>7.64</td>\n",
       "    </tr>\n",
       "    <tr>\n",
       "      <th>faiss</th>\n",
       "      <td>7.79</td>\n",
       "      <td>7.71</td>\n",
       "    </tr>\n",
       "  </tbody>\n",
       "</table>\n",
       "</div>"
      ],
      "text/plain": [
       "enhanced_question     False  True \n",
       "dense_retriever_type              \n",
       "chroma                 7.36   7.64\n",
       "faiss                  7.79   7.71"
      ]
     },
     "metadata": {},
     "output_type": "display_data"
    }
   ],
   "source": [
    "display(pd.pivot_table(\n",
    "    df_evaluations_lecel,#[df_evaluations_lecel[\"search_type\"]==\"mmr\"],\n",
    "    values=\"eval_score_llm\",\n",
    "    index=\"spare_retriever_type\",\n",
    "    columns=\"enhanced_question\",\n",
    "    aggfunc=\"mean\" \n",
    ").round(2))\n",
    "\n",
    "display(pd.pivot_table(\n",
    "    df_evaluations_lecel,#[df_evaluations_lecel[\"search_type\"]==\"mmr\"],\n",
    "    values=\"eval_score_llm\",\n",
    "    index=\"dense_retriever_type\",\n",
    "    columns=\"enhanced_question\",\n",
    "    aggfunc=\"mean\" \n",
    ").round(2))"
   ]
  },
  {
   "cell_type": "code",
   "execution_count": 34,
   "metadata": {},
   "outputs": [
    {
     "name": "stdout",
     "output_type": "stream",
     "text": [
      "Question:\n",
      " What is the specific country and city where the project is located?\n",
      "\n",
      "------\n",
      "reference_answer:\n",
      " \n",
      "            The location of the project is in Paser District (Adang Bay village) and Kutai\n",
      "            Kartanegara district (Delta Mahakam) East Kalimantan Province. The location\n",
      "            of project is nearby the new capital of Indonesia which is in the Penajam\n",
      "            Paser Utara (around 130-160 km)\n",
      "        \n",
      "\n",
      "---------\n",
      "rag_answer:\n",
      "The project is located in Indonesia, specifically in the city of Samarinda, which is in East Kalimantan Province.\n",
      "\n",
      "---------\n",
      "Retrieved docs:\n",
      "[Document(metadata={'source': './data/PROJECT DOCUMENT MAHAKAM 2023-2025_balise.pdf', 'page': 19, 'score': 0.0023258572909981012}, page_content='\\n- Community members (villagers, consists of fish farmers, women group,\\nand youth)\\n- Village officials\\n- Stakeholders  from  various  institutions  (government  institutions,\\nuniversities, and non-government organizations)\\n- Public audience in general (reached by Media) \\n Other potential groups: \\n- High school and university students\\n- Environmental activists\\n5. Location\\nThe location of the project is in Paser District (Adang Bay village) and Kutai\\nKartanegara district (Delta Mahakam) East Kalimantan Province. The location\\nof project is nearby the new capital of Indonesia which is in the Penajam\\nPaser Utara (around 130-160 km)\\nFeature 4: Site intervention New Mahakam Project\\n6. Expected  results,  planned  activities  &  required\\nresources'), Document(metadata={'source': './data/PROJECT DOCUMENT MAHAKAM 2023-2025_balise.pdf', 'page': 0, 'score': 0.9483603835105896}, page_content='MANGROVE RESTORATION AND\\nLOCAL DEVELOPMENT PROJECT\\nFOREST PROGRAMME\\nProject title: MAHAKAM\\nCountry: Indonesia\\nImplementing  partners:  Yayasan\\nMangrove Lestari & Pokja Pesisir'), Document(metadata={'page': 3, 'source': './data/PROJECT DOCUMENT MAHAKAM 2023-2025_balise.pdf', 'score': 0.0008693982381373644}, page_content='\\nMain Sustainable Development Goals (SDGs) to which the\\nproject contributes\\n\\u202f\\u202f\\u202f\\u202f  \\n \\u202f\\u202f\\u202f\\u202f \\n \\u202f\\u202f\\u202f\\u202f \\n \\u202f\\u202f\\u202f\\u202f \\n \\xa0\\u202f\\u202f\\u202f\\u202f  \\u202f\\u202f\\u202f\\u202f\\nMain SDG targets and indicators to which the project contributes: \\n\\uf0b7 12.8. By  2030,  ensure  that  people  everywhere  have  the  relevant\\ninformation  and awareness  for  sustainable  development and lifestyles  in\\nharmony with nature.  \\n\\uf0b7 13.1. Strengthen resilience and adaptive capacity to climate-related\\nhazards and natural disasters in all countries.  \\n\\uf0b7 13.3. Improve education, awareness-raising, human, and institutional\\ncapacity on climate  change  mitigation,  adaptation,  impact reduction and\\nearly warning.  \\n\\uf0b7 14.2. Sustainably manage and protect marine and coastal ecosystems\\nto  avoid  significant  adverse  impacts,  including  by  strengthening  their\\nresilience, and take action for their restoration in order to achieve healthy\\nand productive oceans.  \\n\\uf0b7 14.  B. Provide  access  for  small-scale  artisanal  fishers  to  marine\\nresources and markets.  \\n\\uf0b7 15.5. Take urgent and significant action to reduce the degradation of\\nnatural  habitats,  halt  the  loss  of  biodiversity,  protect  and  prevent  the\\nextinction of threatened species. \\nTable 0 *\\nProject duration 3 years (March 2023 – February 2026)\\nBudget & funding\\nTotal required \\nresources (€)\\n2023-2026\\n818\\xa0341 € // 903\\xa0613 USD\\nAuthor(s) YML, POKJA, Yayasan Planete Urgensi Indonesia,\\nPlanète Urgence\\nApproval by partners Planète\\nUrgence/Yayasan\\nPlanet Urgensi\\nIndonesia\\nName: Réonaldus\\nTitle:  Indonesia  National\\nDelegate\\nYML Name: Achmad Nuriyawan \\nTitle: Director\\nPOKJA Name: Hamsuri'), Document(metadata={'source': './data/PROJECT DOCUMENT MAHAKAM 2023-2025_balise.pdf', 'page': 25, 'score': 0.0010703166481107473}, page_content='locations \\n\\uf02d Strategy  of  implementation:  Synchronized  the  activity  with  the\\nschedule  of  the  consultant  and  using  the  existing  maps  of  the\\nlocations.\\n2.3.2 Training on Mangrove Reforestation\\n9 We consider Delta Mahakam as ONE Project Location, organized by YML with one\\nCommunity Group (the member of group comes from different villages, based on \\nthe fish pond ownership in a one big area.\\nTree planting will be conducted in (1) Delta Mahakam Ulu village, and (2) Tanjung \\nLimau Village - and they are neighboring villages. \\nWe can say : Target: at least 5 plots/parcels in the 2 project locations (i.e. Delta Mahakam \\nand Adang Bay).'), Document(metadata={'page': 38, 'source': './data/PROJECT DOCUMENT MAHAKAM 2023-2025_balise.pdf', 'score': 0.00040817668195813894}, page_content='\\ndecide to contribute on the project. By doing this, the project aims to place \\nthe local people not as object the project, but the subject of project since \\nthey also contribute to design the activities of the project. \\nMoreover, regarding the new capital, the project expects to bring the voice \\nof local people in the coastal area in shaping the future plan of Mahakam \\nDelta and Adang Bay-Adang Bay. The involvement of local people will \\ncontribute to improve the governance in the coastal region.'), Document(metadata={'source': './data/PROJECT DOCUMENT MAHAKAM 2023-2025_balise.pdf', 'page': 32, 'score': 0.006859775632619858}, page_content='\\n\\uf0b7 1 Project Director\\n\\uf0b7 2 Project Officers\\n\\uf0b7 1 Finance and administration officer\\nPOKJA Pesisir\\n\\uf0b7 1 Project Director\\n\\uf0b7 2 Project Officers\\n\\uf0b7 1 Finance and administration officer\\nHuman resources (from PU Indonesia/Yayasan Planet Urgensi Indonesia):\\n\\uf0b7 1 Project Director (PU Indo National Delegate)\\n\\uf0b7 1 Project Coordinator \\n\\uf0b7 1  Raising  Awareness  and  Knowledge  Management  Officer  (PU  Indo\\nCommunication Staff)\\n\\uf0b7 1 Finance and administration Officer\\nOffices (location):\\n\\uf0b7 Office of YML : in Samarinda with field secretariate in Delta Mahakam\\n\\uf0b7 Office of POKJA Pesisir : Balikpapan City with field secretariate in Adang\\nBay\\n\\uf0b7 Office of PU Indonesia : Samarinda\\nMaterial Resources needed for the project:\\n\\uf0b7 Computer\\n\\uf0b7 GPS, Mobile Phones\\n\\uf0b7 Transportation means (car, motorcycle, and boat as needed)'), Document(metadata={'page': 44, 'source': './data/PROJECT DOCUMENT MAHAKAM 2023-2025_balise.pdf', 'score': 0.00041890234570018947}, page_content='\\nto evaluate the \\npartner since they \\nhave a strong \\nrelationship with \\nsome of partner \\nwhich in the end \\ninfluence the \\nresult of \\nassessment.\\nlocal consultant \\nanalysis. \\n</table>\\nExternal communication in Indonesia\\nPU Indonesia will work with the online local media to promote the project\\nactivities, current states of Delta Mahakam and its challenge. Besides the\\nonline local media, PU Indonesia and its implementing partners will work with\\nexpert panels in radio panels to spread the message, challenge and the\\nsuccessful of the project. PU Indonesia has been invited by the French IFI\\n(Institut Français Indonesia) on Climate Change week in 2021. The French IF\\nhave invited PU Indonesia to spread the message and works through various\\ncanals which provided by French IF such as social media and website. This\\nopportunity should be used in this project to introduce the project to wider\\npublic. In addition, CIFOR has invited PU as speaker in the side event of\\nPolicy and Science dialogue in March 2022. The collaboration with CIFOR can\\nbe extended in other events to share the progress of project NEW MAHAKAM.\\nBesides that, PU and its partners will road show to the authority and donor to\\nintroduce the project both at the national, provincial and local level. Project\\nbrief, blog and others material can be used to spread the messages to those\\nparties.\\nExternal communication in France\\nAt  PU  headquarters,  the  communication  team  will  receive  local\\ncommunication content, data, pictures, tools and progress information on\\nthe project to create contents (articles, advocacy messages, press releases)\\nin line with the international calendar on biodiversity, climate change and\\nother international celebrations. The project will be promoted, first on PU\\nwebsite by dedicating a specific page to it and attaching any communication\\nelements that may be provided or proposed by YML and Pokja Pesisir. The'), Document(metadata={'page': 52, 'source': './data/PROJECT DOCUMENT MAHAKAM 2023-2025_balise.pdf', 'score': 3.570270928321406e-05}, page_content='\\ne.Field monitoring six times in a year.\\nf. Internal evaluation at the end of project\\nIn addition, the project includes a third party evaluation during year 3 for final evaluation of the project’s activities\\nand conduction of the climate philanthropy methodology.\\nThe final evaluation will be conducted via remote evaluation and onsite visit of the project.\\nIt will include at minimum :\\n\\uf0b7 An inventory of the activities that have taken place in relation to the project plan (including planting activities,\\nincreased livelihoods and environmental awareness)\\n\\uf0b7 Review of carbon  sequestration  calculations  and monitoring  protocols,  based on the  climate  philanthropy\\nmethodology  developed  by  Planète  Urgence  (zone  boundaries,  baseline  scenario,  demonstration  of\\nadditionality, ex-ante carbon calculation, and first ex-post measures on year 3 linked with survival rate)\\n\\uf0b7 Review of project, monitoring and activity reports\\n\\uf0b7 Redaction of the audit report\\nCompletion  of  baseline  and  proof  of  additionality,  accompanied  by  EX-ANTE  calculation  of  GHG\\nemissions/sequestrations\\nAccording with Planete Urgence’s methodology on Climate Philanthropy, the project will monitor carbon sequestration\\nimpacts.\\nTo do so, Planète Urgence team will develop a baseline scenario illustrating the activities and greenhouse gas (GHG)\\nemissions that would occur in the absence of a project’s activity. Developing this baseline will be the foundation of\\nmeasuring the project’s emissions reductions or removals; it will set the benchmark by which a comparison of the\\nproject’s activities can be made against the business-as-usual scenario providing clarity on how the project can and\\nwill influence emissions reductions over time. \\nThe protocol developed by Planete Urgence adopts the baseline scenario and additionality tests based on the Verified\\nCarbon Standard (VCS) and Clean Development Mechanism (CDM)’s Afforestation/Reforestation methodological tools.')]\n"
     ]
    }
   ],
   "source": [
    "import textwrap\n",
    "num_question=2\n",
    "dense_retriever_type=\"chroma\"\n",
    "sparse_retriever_type=\"tfidf\"\n",
    "\n",
    "row=df_evaluations_lecel[(df_evaluations_lecel[\"enhanced_question\"]==True)&\n",
    "                            (df_evaluations_lecel[\"dense_retriever_type\"]==dense_retriever_type)&\n",
    "                            (df_evaluations_lecel[\"spare_retriever_type\"]==sparse_retriever_type)&\n",
    "                            (df_evaluations_lecel[\"question_#\"]==num_question)]\n",
    "\n",
    "\n",
    "\n",
    "fragments=row[\"rag_sources\"]\n",
    "\n",
    "print(\"Question:\\n\", row[\"question\"].values[0])\n",
    "\n",
    "print(\"\\n------\\nreference_answer:\\n\", row[\"reference_answer\"].values[0])\n",
    "\n",
    "print((f\"\\n---------\\nrag_answer:\\n{row['rag_answer'].values[0]}\"))\n",
    "\n",
    "print((f\"\\n---------\\nRetrieved docs:\\n{fragments.values[0]}\"))\n"
   ]
  },
  {
   "cell_type": "markdown",
   "metadata": {},
   "source": [
    "#### Conclusions:\n",
    "* Un retriever hybride ne permet pas d'améliorer les résultats par rapport à un dense retriever\n",
    "#### Prochaines étapes:\n",
    "* Expérimenter avec du self rag"
   ]
  }
 ],
 "metadata": {
  "colab": {
   "provenance": []
  },
  "kernelspec": {
   "display_name": "base",
   "language": "python",
   "name": "python3"
  },
  "language_info": {
   "codemirror_mode": {
    "name": "ipython",
    "version": 3
   },
   "file_extension": ".py",
   "mimetype": "text/x-python",
   "name": "python",
   "nbconvert_exporter": "python",
   "pygments_lexer": "ipython3",
   "version": "3.11.8"
  }
 },
 "nbformat": 4,
 "nbformat_minor": 0
}
