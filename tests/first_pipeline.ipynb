{
 "cells": [
  {
   "cell_type": "markdown",
   "metadata": {},
   "source": [
    "# TEST\n",
    "\n",
    "- Charger un ensemble de typiques de documents"
   ]
  },
  {
   "cell_type": "markdown",
   "metadata": {},
   "source": [
    "#  Chargement des documents"
   ]
  },
  {
   "cell_type": "code",
   "execution_count": 62,
   "metadata": {},
   "outputs": [],
   "source": [
    "#!pip install --quiet python-docx"
   ]
  },
  {
   "cell_type": "code",
   "execution_count": 1,
   "metadata": {},
   "outputs": [],
   "source": [
    "import os\n",
    "from docx import Document\n",
    "\n",
    "def load_docx_text(filepath):\n",
    "    \"\"\"\n",
    "    Lit un document (.docx) et renvoie une liste de paragraphes.\n",
    "    \"\"\"\n",
    "    doc = Document(filepath)\n",
    "    paragraphs = [para.text.strip() for para in doc.paragraphs if para.text.strip()]\n",
    "    return paragraphs\n",
    "\n",
    "def collect_all_documents(folder_path):\n",
    "    \"\"\"\n",
    "    Récupère tous les fichiers .docx dans un dossier et renvoie un dictionnaire {filename: [paragraphes]}.\n",
    "    \"\"\"\n",
    "    all_docs = {}\n",
    "    for filename in os.listdir(folder_path):\n",
    "        if filename.lower().endswith(\".docx\"):\n",
    "            full_path = os.path.join(folder_path, filename)\n",
    "            all_docs[filename] = load_docx_text(full_path)\n",
    "    return all_docs"
   ]
  },
  {
   "cell_type": "code",
   "execution_count": 2,
   "metadata": {},
   "outputs": [
    {
     "name": "stdout",
     "output_type": "stream",
     "text": [
      "Documents trouvés : ['PROJECT DOCUMENT MAHAKAM 2023-2025.docx', 'Dépôt sur site.docx', 'Fiche projet ATFY_2024.docx', 'Project_Proposal_Standard Grant (1).docx']\n",
      "---> PROJECT DOCUMENT MAHAKAM 2023-2025.docx contient 474 paragraphes.\n",
      "---> Dépôt sur site.docx contient 30 paragraphes.\n",
      "---> Fiche projet ATFY_2024.docx contient 134 paragraphes.\n",
      "---> Project_Proposal_Standard Grant (1).docx contient 65 paragraphes.\n"
     ]
    }
   ],
   "source": [
    "\n",
    "# Détermination du répertoire courant (pour Notebook ou script)\n",
    "try:\n",
    "    script_dir = os.path.dirname(os.path.abspath(__file__))\n",
    "except NameError:\n",
    "    script_dir = os.getcwd()\n",
    "\n",
    "folder_path = os.path.join(script_dir, \"..\", \"data\", \"docs_planete_urgence\")\n",
    "all_docs = collect_all_documents(folder_path)\n",
    "print(\"Documents trouvés :\", list(all_docs.keys()))\n",
    "for doc_name, paras in all_docs.items():\n",
    "    print(f\"---> {doc_name} contient {len(paras)} paragraphes.\")"
   ]
  },
  {
   "cell_type": "code",
   "execution_count": 3,
   "metadata": {},
   "outputs": [
    {
     "data": {
      "text/plain": [
       "('Project_Proposal_Standard Grant (1).docx',\n",
       " ['* Please fill it out briefly with a total length less than 14 pages in total (font size 11 at A4 size).',\n",
       "  'For Standard Grant',\n",
       "  'Project objective\\u3000(Explain which GBF goal project the applies to)',\n",
       "  'Note: Please specify which target(s) your project contributes to the achievement of from the 23 targets listed as the 2030 action targets proposed in “Kunming-Montreal Global biodiversity framework (GBF) .',\n",
       "  '2.  Project implementation plan',\n",
       "  '(Please describe the projects by year and items.)',\n",
       "  'Note; For project, please describe not only fiscal year for which this application is being submitted (“applying FY”, hereafter) but also other FY(s).',\n",
       "  'Applying FY',\n",
       "  'FY(s) before applying FY',\n",
       "  'FY(s) after applying FY',\n",
       "  '3．Expected concrete activity results',\n",
       "  'Note; For project, please describe not only applying FYbut also other FY(s).',\n",
       "  '（１）\\tApplying FY',\n",
       "  '（２）\\tFY(s) before applying FY',\n",
       "  '（３）\\tFY(s) after applying FY',\n",
       "  '4.  Activity schedule',\n",
       "  'Note; For project, please,describe not only applying FYbut also other FY(s).',\n",
       "  'Applying FY',\n",
       "  'FY(s) before applying FY',\n",
       "  'FY(s) after applying FY',\n",
       "  '4. Activity schedule',\n",
       "  'Note: Please use multiple pages depending on the duration of the project for multi-year project.',\n",
       "  '5. Income and Expenditure Budget plan',\n",
       "  'Note;',\n",
       "  'For multi-year project, please describe not only applying FY but also other FY(s).',\n",
       "  'Divide expenditure type into individual “Exp Item” and describe i)the total amount, ii)the amount for each funding source, and iii)calculation basis.for each. Indicate also whether each funding source is fixed or expected.',\n",
       "  'Add rows for Exp Item and columns for Funding Source as appropriate',\n",
       "  'Convert local, or US, currency into in Japanese yen.',\n",
       "  '（１）Applying FY',\n",
       "  '（２）\\tFY(s) before applying FY',\n",
       "  '（３）\\tFY(s) after applying FY',\n",
       "  'Please add rows for Exp Item and add columns for Funding Source as appropriate',\n",
       "  '6. The name and contact information of the experts outside of applicant’s who will provive advice and guidance for the project implementation .',\n",
       "  'Note; Attach recommendations, if any, which will be positively evaluated.',\n",
       "  '7. Local approvals (if you need local government approvals or agreements with local residents, please describe the contents)',\n",
       "  'Note; Attach contracts or agreement with local governments or local communities, if any, which will be positively evaluated.',\n",
       "  '8. Partners (if you partner with a local NGO or other international organization on the projects, please list the names of the organizations)',\n",
       "  'Note; Attach contracts or cooperative agreements with international organizations or NGOs, or recommendations concerning your project from the partner, if any, which will be positively evaluated.',\n",
       "  '9. Japanese Introducer (Name and contact information)',\n",
       "  'Historical background',\n",
       "  '・date: Date of foundation',\n",
       "  '・History including past activities;',\n",
       "  'Indicate year, supported party, project cost, and web-site for each activity.',\n",
       "  'Organization',\n",
       "  'Form of the organization',\n",
       "  '・Organization with legal personality；',\n",
       "  'Attach official document(s) proving your legal status',\n",
       "  '・Voluntary organization or group',\n",
       "  'Attach external audits of operations and accounting, if any.',\n",
       "  '・Staff number',\n",
       "  '・Director',\n",
       "  '・Permanent staff',\n",
       "  '・Non-permanent staff',\n",
       "  'Attach an organizational Chart',\n",
       "  'Representative',\n",
       "  '・Full name',\n",
       "  '・Birth date',\n",
       "  '・Home address',\n",
       "  '・Mobilephone#',\n",
       "  '・Major accomplishment',\n",
       "  '・Other affiliations and positions.',\n",
       "  'Website URLs',\n",
       "  'Activities in the country implementing the project in the past, ongoing, and planned .',\n",
       "  'Financial Situation',\n",
       "  \"Attach income and expenditure statement as well as balance sheet, preferably audited, for last three fiscal years. For audited, attach the auditor's comment and signature, if any.\"])"
      ]
     },
     "execution_count": 3,
     "metadata": {},
     "output_type": "execute_result"
    }
   ],
   "source": [
    "doc_name, paras"
   ]
  },
  {
   "cell_type": "markdown",
   "metadata": {},
   "source": [
    "# Chunking des doocuments"
   ]
  },
  {
   "cell_type": "code",
   "execution_count": 4,
   "metadata": {},
   "outputs": [],
   "source": [
    "def chunk_text(paragraphs, max_tokens=200):\n",
    "    \"\"\"\n",
    "    Découpe la liste de paragraphes en chunks d'environ max_tokens mots.\n",
    "    Retourne une liste de strings (chunks).\n",
    "    \"\"\"\n",
    "    chunks = []\n",
    "    current_chunk = []\n",
    "    current_length = 0\n",
    "    for para in paragraphs:\n",
    "        words = para.split()\n",
    "        if (current_length + len(words)) <= max_tokens:\n",
    "            current_chunk.append(para)\n",
    "            current_length += len(words)\n",
    "        else:\n",
    "            chunks.append(\" \".join(current_chunk))\n",
    "            current_chunk = [para]\n",
    "            current_length = len(words)\n",
    "    if current_chunk:\n",
    "        chunks.append(\" \".join(current_chunk))\n",
    "    return chunks\n"
   ]
  },
  {
   "cell_type": "code",
   "execution_count": 6,
   "metadata": {},
   "outputs": [],
   "source": [
    "# all_chunks = []\n",
    "# for doc_name, paras in all_docs.items():\n",
    "#     doc_chunks = chunk_text(paras, max_tokens=200)\n",
    "#     all_chunks.extend(doc_chunks)\n",
    "# print(f\"Nombre total de chunks : {len(all_chunks)}\")\n"
   ]
  },
  {
   "cell_type": "code",
   "execution_count": null,
   "metadata": {},
   "outputs": [
    {
     "name": "stdout",
     "output_type": "stream",
     "text": [
      "Nombre total de chunks pour PROJECT DOCUMENT MAHAKAM 2023-2025.docx : 68\n"
     ]
    }
   ],
   "source": [
    "# Exemple de chunking sur un document précis\n",
    "doc_name = \"PROJECT DOCUMENT MAHAKAM 2023-2025.docx\"\n",
    "all_chunks = chunk_text(all_docs[doc_name], max_tokens=200)\n",
    "print(f\"Nombre total de chunks pour {doc_name} : {len(all_chunks)}\")"
   ]
  },
  {
   "cell_type": "code",
   "execution_count": 6,
   "metadata": {},
   "outputs": [
    {
     "data": {
      "text/plain": [
       "['Brief project description East Kalimantan Province in 2021/2022 received great attention nationally because of the moving of the state capital city (Jakarta) to a location near the city of Balikpapan and Penajam Paser Utara in East Kalimantan Province. The development of the new capital will start in 2022. Although the Indonesia President commit to develop the new capital as Forest and Smart City, the surrounding area particularly the coastal area such as Delta Mahakam and Adang Bay might get high pressure as the consequence of the new development and the movement of 1.5 million people to the new capital. Delta Mahakam, in the eastern part of East Kalimantan, is an area that is relatively close to the prospective center of the State capital (about 100 km). Mahakam Delta is naturally a mangrove habitat, but due to excessive land clearing for extensive aquaculture about 47.5 % of the mangrove ecosystem is degraded to be converted into aquaculture (2017). Despite various conservation efforts by different parties and the government, land clearing still continues. Delta Mahakam land ownership is government land that has designated as a production forest, but this area has been inhabited by residents from generation to generation.',\n",
       " \"Adang Bay is one of the coastal villages in Adang Bay, Paser Regency, on the southern part of East Kalimantan Province (about 100 km from the new capital). This area is also experiencing land conversion to increase aquaculture, besides there are several locations in coastal areas that are affected by abrasion. Restoration activities in East Kalimantan Province are needed to restore a degraded environment, as well as to support the vision of the nation's capital as a green city. The ecosystem in Delta Mahakam and Adang Bay are also home to critically endangered species, such as the nasal monkey (proboscis monkey), endemic to the island of Borneo. On a global scale, the mangrove is a key ecosystem to answer the challenge of carbon sequestration and fight against climate change.\",\n",
       " 'The objective of the project is therefore to contribute to restore the degraded mangrove forest in East Kalimantan (Delta Mahakam and Adang Bay) as home of endemic and endangered species including proboscis monkey and key ecosystem to mitigate and to adapt the impact of climate change; and this, through four main actions: raising awareness of the stakeholders, rehabilitating degraded mangrove forest, supporting the development of sustainable livelihood, and strengthening the coastal governance. Main Sustainable Development Goals (SDGs) to which the project contributes Main SDG targets and indicators to which the project contributes: 12.8. By 2030, ensure that people everywhere have the relevant information and awareness for sustainable development and lifestyles in harmony with nature. 13.1. Strengthen resilience and adaptive capacity to climate-related hazards and natural disasters in all countries. 13.3. Improve education, awareness-raising, human, and institutional capacity on climate change mitigation, adaptation, impact reduction and early warning. 14.2. Sustainably manage and protect marine and coastal ecosystems to avoid significant adverse impacts, including by strengthening their resilience, and take action for their restoration in order to achieve healthy and productive oceans. 14. B. Provide access for small-scale artisanal fishers to marine resources and markets.',\n",
       " '15.5. Take urgent and significant action to reduce the degradation of natural habitats, halt the loss of biodiversity, protect and prevent the extinction of threatened species. Table of contents 1.\\tImplementing partner\\t2 2.\\tContext & environment and development challenges\\t3 Geographic and socio-economic context\\t3 Environmental context\\t4 Biodiversity issues\\t6 Environment and development challenges\\t8 3.\\tStrategy & theory of change\\t11 4.\\tBeneficiaries\\t12 5.\\tLocation\\t13 6.\\tExpected results, planned activities & required resources\\t13 Output 1: The awareness of stakeholders to conserve Delta Mahakam and Adang Bay is strengthened.\\t14 Activity 1.1. Conduct workshops in schools of East Kalimantan province to raise awareness on environment and biodiversity preservation.\\t14 Activity 1.2. Support Adiwiyata School (Green School) in Delta Mahakam\\t15 Activity 1.3. Conduct public awareness campaigns to sensitize communities in East Kalimantan province to the ecological, economic and climatic benefits of the mangrove.\\t15 Output 2: 300 ha area of degraded mangrove forest are restored by planting 800.000 of mangrove tree.\\t17 Activity 2.1. Pres-assessment study on land suitability\\t17 Activity 2.2. Ensure establishment and management of community-based nurseries\\t17',\n",
       " 'Activity 2.3. Identify and prepare planting locations, and train local community members to mangrove restoration, and conduct tree planting.\\t18 Activity 2.4. Participatory Monitoring Training and ensure the monitoring and protection of targeted mangrove areas\\t20 Output 3. Alternative sustainable livelihoods in Delta Mahakam and Adang Bay are available, improved and shared to other key stakeholders in the region.\\t22 Activity 3.1. Establish demonstration plots for sustainable aquaculture (sustainable ponds and sylvo fishery models)\\t22 Activity 3.2. Train community groups particularly women group on the financial management and product marketing.\\t22 Output 4. The sustainable coastal governance in Delta Mahakam and Adang Bay are strengthened\\t23 Activity 4.1. Facilitate coordination meeting among Mahakam Delta and Adang Bay’s actors to synergize the program\\t23 7.\\tPartnerships\\t26 8.\\tCross-cutting approaches\\t29 9.\\tKnowledge management, capitalization & communication\\t31 10.\\tSustainability, scaling-up and/or exit strategy\\t36 11.\\tResults framework\\t38 12.\\tMonitoring & evaluation\\t42 13.\\tTimeline\\t44 Implementing partner Name of the organization: Yayasan Mangrove Lestari Address: Jl. Pelita 3 RT.12 Gg.7 Kel. Sambutan Samarinda Legal status: Akta notaris ; Nomor : 01 Tanggal 01 Juni 2012; Kemenkumham ; Nomor : AHU-3696.AH.01.04.2013',\n",
       " 'The Yayasan Mangrove Lestari Delta Mahakam (YML) is a local non-governmental organization based in Samarinda, East Kalimantan Province. Environmental activists and local communities with the purpose of helping the conservation of the mangrove ecosystem in the Mahakam Delta, East Kalimantan Province, founded this organization on February 21, 2012. YML is open to collaborating with various parties who have the same goal of conserving the environment, especially the mangrove ecosystem. In its development, YML has collaborated with local governments and donor agencies including Planète Urgence in carrying out mangrove restoration activities. YML has a vision to create a sustainable mangrove ecosystem that provides benefits to local communities. The mission of YML includes: Restoring mangrove ecosystems, especially in the Mahakam Delta Helping to realize sustainable aquaculture in the mangrove ecosystem area Assisting local communities in improving livelihood activities to increase family income Build partnerships with stakeholders for the conservation of mangrove ecosystems. YML has an office in Samarinda with a field secretariat in Muara Badak, Delta Mahakam to help fish and shrimp farmer groups to practice sustainable aquaculture. Name of the organization: Pokja Pesisir Address: Tengiri VI Street No.10 RT.24 Kelurahan Manggar Baru, Kecamatan Balikpapan Timur, Kota Balikpapan, Kalimantan Timur 76114',\n",
       " 'Email: perkumpulanpokjapesisir@gmail.com Tel: +62 813 4874 4716 Website: http://pokjapesisir.id/ Legal status: Legally Registered under the Ministry of Law and Human Rights, 2019 No 008760.AH.01.07 Tahun 2019 Kelompok Kerja Pesisir (The Coastal Area Working Group), commonly abbreviated as “Pokja Pesisir”, is a non-profit organization formed by a group of environmental activists in Balikpapan City, East Kalimantan Province. This organization was formed with the objective to raise public attention to preserve coastal and marine ecosystems that are rich in biodiversity, including clusters of mangrove areas, distribution of coral reefs and seagrass beds. In addition, government policies towards fishermen communities also need to be continuously encouraged in order to be optimal for the welfare of fishermen. The lives of fishermen in coastal areas in East Kalimantan Province often experience difficulties due to the privatization of coastal areas, difficulties in obtaining fuel for fishing boats, and also low human resources.',\n",
       " 'Based on these issues, a group of activists agreed in 2009 to establish an organization which was later named the “Coastal and Fisherman Working Group”. This institution has been advocating policies for improving coastal and marine governance and carrying out empowerment actions for fishing communities. As an effort to preserve the coastal area, the “Coastal and Fishermen Working Group” initiated a program called Mangrove and Marine Protection Area in Teritip Village, East Balikpapan Sub-district, Balikpapan City, in collaboration with UNDP in 2009 – 2010. The Working Group then change the name to “Pokja Pesisir” and was legally registered at the Ministry of Law and Human Rights in 2018. Some activities conducted by POKJA Pesisir: 2009 – 2010 mangrove and coastal area conservation in Teritip, Balikpapan (supported by UNDP). 2009 – 2016: community organizing in the coastal area of Balikpapan. 2016 – now: Monitoring and campaign on the protection of the highly conservation value in Balikpapan Bay 2016 – now: Community assistance on the conservation of Balipapan Bay March 2017 – January 2018, Implementing the Program of “Strengthening of CSO Network on Mangrove Conservation in Indonesia” in Balikpapan Bay.',\n",
       " '2021 – March 2022, Proposing the Conservation area in coastal area and small islands of Balikpapan Bay (supported by TFCA) In term of organization: a Board of Trustees, a Board of Supervisor and members, manage POKJA Pesisir. Context & environment and development challenges Geographic and socio-economic context East Kalimantan is one of the richest provinces in Indonesia and the main contribution to the national GDP. Before palm oil and mining coal booming in early 2000, forestry, mining and gas sectors are the backbone of economic development in East Kalimantan. Because too much depending on the unrenewable natural resources, the economic growth of East Kalimantan gradually declines and, in 2016, reached the minus point because of the lowest price of coal at the global level. In 2019, Indonesia government has decided to move the capital of Indonesia from Jakarta to East Kalimantan. Currently, the government accelerate the infrastructure development of new capital.',\n",
       " \"The project will be implemented in several regions of Mahakam Delta and Adang Bay. Mahakam Delta is located on the eastern coast of the island of Borneo, in East Kalimantan province, which is one of the five provinces that has the lowest population density in Indonesia. This province is also the main contributor to the national GDP, mainly for its wealth in oil and gas. It is nevertheless aquaculture activities which constitute the main source of income for the local population. About 90% of the population depend on it for their livelihood. As a result, 54.19% of the Mahakam Delta has been converted to shrimp ponds. The majority of exports from the area are made up of tiger shrimp and white shrimp that are farmed in the delta ponds and along the Paser District's shore. Feature 1: Land cover in mahakam delta and adang is dominated by fish pond area\",\n",
       " \"Paser District is located on the east coast of East Kalimantan Province. The village of Adang Bay is located in the coastal area of this district, in Adang Bay. This area is a conservation area managed by the Ministry of Forestry (KPHP). Therefore, limited economic activities are allowed in this area. However, since the late 1990s, massive clearing for the construction of aquaculture ponds has destroyed the mangrove forest in the area. According to the District Pastor's Investment Agency, about 1,506 people live in Adang Bay. Most of them work as fishermen, fish farmers and swallowers. The village government and the community have made a strong commitment to conserve the area by adhering to the jurisdictional REDD+ approach, funded by the World Bank's FCPF or Forest Carbon Partnership Facility Project. Environmental context\",\n",
       " \"Largest archipelago in the world (more than 13,000 islands), Indonesia has an area of \\u200b\\u200b1,905,000 km2 of which less than 50% is still covered by forests today, while the country is part of the 3rd largest planetary tropical forest zone (after the Amazon and the Congo Basin). More than half of Indonesian forests have disappeared since 1960. However, they are home to a large part of the world's biodiversity (more than 10% respectively of plant, mammal, reptile and bird species). Today, the country counts for 3 to 5% of annual global greenhouse gas emissions (among the 10 most emitting countries) including more than 50% due to land use, their change of land use and the exploitation of forests. Indonesia is home to almost 1/4 of the world's mangroves (20%). This maritime ecosystem, made up of a set of mainly woody plants (the most notable species being the mangrove), develops in the swinging area of the tides of the low coasts and in marshes at the mouth of certain rivers.  Of the nearly 3.2 million hectares of mangrove forest in the country today, more than 50,000 ha are lost each year.\",\n",
       " \"The mangrove is one of the most productive ecosystems on the planet, home to a particularly abundant biomass. The mangroves' root system is notably a biotope where a variety of fish and crabs live and reproduce. The mangrove thus provides important resources (forestry and fishery) to coastal populations, a natural “buffer” zone adapted to salinity, filtering sediment and pollution carried by rivers and the sea, and preserving the fresh water resources of the land. They are a food security and livelihood issue, in particular providing income to fishing communities. This ecosystem is also an important natural fount of carbon, with Indonesian mangroves storing around 5 times more carbon per hectare than terrestrial forests. The government of Indonesia has taken into account this ecosystem in its REDD+ strategy, implemented in the only pilot province of East-Kalimantan, with the Provincial Council on Climate Change (DDPI) with the support of the World Bank in the framework of the “Forest Carbon Partnership Facility Project”.\",\n",
       " 'Finally, the mangrove plays a key role in natural defense. The complex network of mangrove roots can help reduce wave power, which limits erosion and protects coastal communities from the destructive forces of tropical storms. Mangroves provide protection against extreme weather events and tsunamis, and can adapt to rising sea levels and subsidence. They therefore contribute to reducing the risk of disasters, to the resilience of communities and ecosystems and to their adaptation to climate change. In Mahakam Delta, results from a study conducted in 2018 and 2019 by the Kutai Kartanegara District has shown that 47.8% of mangrove forests are deteriorated. Table 1. Critical Criteria of Mahakam Delta Mangrove Source: The Result of Spatial Analysis of Mangrove Damage Level (2018)',\n",
       " 'With the plan to move the state capital to Penajam Paser Utara District (PPU), the development activities to create this new big city will take place massively. The central government has planned to create a green city for the new capital, which construction will start in 2022, but various problems still pose challenges in locations outside the new capital. On the one hand, a close government center can control the surrounding environment to keep it conserved, but the gap in the quality of human resources and plans to move a large number of people from Jakarta to this area will certainly cause pressure on the environment. Biodiversity issues The mangrove of Mahakam Delta conceals a rich marine and arboreal biodiversity, characterized by a large variety of fish, arthropods, reptiles such as the marine crocodile (Crocodylus porosus), aquatic mammals such as the Irrawaddy dolphin (Orcaella brevirostris) or terrestrial like the nasal monkey (Nasalis larvatus), these last 2 species being considered as being “endangered” by the IUCN.',\n",
       " 'The deforestation of Mahakam Delta’s mangrove hampers the effort to conserve this type of species, for example by fragmenting the habitat of the nasal monkey, whose interaction between populations strongly depends on the continuity of the canopy. The isolation of these populations makes them more vulnerable to poaching. The long-nosed monkey, endemic of Borneo Island is listed as “Endangered” by the IUCN as it has undergone extensive population reductions across its range, and ongoing hunting and habitat destruction continue to threaten most populations. Numbers have declined by more than 50% (but probably less than 80%) over the past 3 generations (approximately 36-40 years). At the scale of Mahakam Delta, only 2 censuses have been conducted to monitor this specie, respectively in 1997 and 2005 which reflects the lack of resources of local institutions to conserve and protect this biodiversity.',\n",
       " 'In addition, the degradation of this ecosystem leads to a decrease in fish stocks in the delta, threatening both fishermen and species such as sea crocodiles and dolphins. The situation is currently might threatening to exacerbate human-animal conflicts and therefore to further decrease the populations of the above-mentioned species, even threatening them with extinction. Hence, beside preventing the mangrove forest conversion into palm oil plantation, aquaculture ponds, and other usages, the reforestation activity is necessary to improve the degraded mangrove ecosystem in the coastal area. Paradoxically, the considerable modification of delta habitats resulted in a very substantial increase in populations of birds associated with open wet areas, such as egrets (100 individuals in 1987 to nearly 15,000 individuals in 2013). Likewise, some species of heron have seen their population sizes increase considerably, such as the purple heron or the Javan pond-heron, the lesser adjutant, ducks, Sunda teal and the wandering whistling-duck also seem to have used the habitats created by the clearings to considerably increase their populations.',\n",
       " 'The populations of these species have benefited of new feeding areas when the shrimp ponds were developed. Indeed, egrets, ducks, and waders use the shrimp ponds in high numbers on cyclical basis when shrimp ponds are emptied for shrimp harvesting. The presence of pristine areas, with large trees or dense copses of smaller species (Nypa) removed from human presence, is also favourable for the reproduction of these species. Here they find quiet conditions for reproduction or gatherings (dormitories). Amongst the species observed in 2013 and those not observed in 1987, eight dwell in an aquatic environment and directly depend on the shrimp ponds: darter, stilts, grey heron, black-crowned night heron, intermediate egret, western marsh-harrier and the Garganey. The opening of shrimp ponds was the obvious factor leading to the growth of all these bird populations. Institutional Context',\n",
       " 'The key players in coastal region in East Kalimantan including in Delta Mahakam Ulu (Delta Mahakam) and Delta Mahakam (Adang Bay) are relatively similar. Since the area located or nearby the conservation area and forest production area, the Ministry of Forestry via Nature Conservancy Agency in East Kalimantan and Forest Management Unit (provincial government agency) are the most influence actor. They have authority to determine the activities which allowed and not allowed in the area. However, they cannot control the vast area of conservation area since 50 percent of mangrove forest in the region have been degraded. Besides government, the others key actors are fishermen, fish farmers, swallow workers and investors in aquaculture sectors. Those actors have shaped the landscape of coastal area in Delta Mahakam and Adang Bay over the past 20 years. In their hand the future of sustainable aquaculture is determined.  Environmental and development NGOs, oil and gas company and other parties has programme in their area. Most of the programme focus on improving the livelihood of the local people and restoring the mangrove forest. The Movement of Indonesian New Capital',\n",
       " \"Paser District (East Kalimantan Province) will soon be the site of Indonesia's new political capital, Nusantara, as part of the plan to move the country's capital from the island of Java to the island of Borneo, which is home to one of the world’s largest rainforests. Jakarta, the current political capital which will become the country's economic capital by 2045, is currently facing several environmental, climatic and demographic problems and challenges: overpopulation, heavy pollution, rising water levels, frequent flooding, etc. In order to deal with the inevitable future security issue, the Indonesian government has decided to build a new capital 2,000 km away from Jakarta, in the province of East Kalimantan, more precisely between the towns of Balikpapan and Samarinda. With the legislation for the relocation of the new capital published, the physical development of the new capital will begin in 2022. In August 2024, the President plans to celebrate Indonesia's Independence Day in the new capital.\",\n",
       " 'The government plans to make the new capital a \"forest city\" by strongly preserving forest areas and using sustainable energy. However, many argue that the development of the new capital could lead to environmental degradation and loss of essential biodiversity, especially in the mangrove forest. The majority of the Indonesian population, including the local population, supports the new capital movement by echoing the effect of equitable development. Indeed, for decades, the natural resources of Kalimantan Island have been exploited to support Indonesian development, especially that of Java Island. The location of the project (Delta Mahakam and Adang Bay -Adang Bay) is an area relatively close to the potential centre of the state capital (about 100-200 km). Environment and development challenges Aquaculture industry',\n",
       " 'Mahakam Delta area is under pressure from both the industrial and agricultural sectors, including aquaculture facing a national high dynamic. From 2015 to 2035 it is expected a destruction of 600,000 ha of mangrove for shrimp farm at the national scale. The World Bank (2013) estimates a pressure to double cultivated shrimp production from currently 300,000 t (produced by 600,000 ha of ponds) to 600,000 t/1,000,000 t by 2030 to fulfil the demand. However, with improvements in brackish water aquaculture productivity, halting palm oil concession to use mangroves, along with maintaining other mangrove use pressures at moderate levels, the net loss of mangroves in the next two decades could be reduced to around 23,000 ha at this same scale. The East-Kalimantan Province is the new area to develop aquaculture ponds as Java, Sumatra and Sulawesi islands are facing a decrease of the production and the destruction of their environment due to unsustainable practices.',\n",
       " 'Feature 1: Forecasted mangrove loss at six mangrove regions in Indonesia in the next two decades due to land use change under pessimistic scenario. Circle size indicates potential loss areas in Sumatra, Kalimantan, and Papua; as for Java, Sulawesi and Maluku potential loss areas are represented by the smaller circles. Scientific studies also show that the percentage of mangrove natural recovery is higher in East-Kalimantan with 1.4%/year against 0.7%/year in other islands in inactive ponds. This suggests to consider conservation activities in specific areas of Mahakam Delta. At the scale of Mahakam Delta, the table below for which the percentage (43.7%) is as higher as the remaining mangrove forest (48.5%) highlights the dominance of aquaculture. Table 2. Types of Land Cover and Land Use in Mahakam Delta Source: Result of SPOT satellite images 6/7 (2018) Demography',\n",
       " 'The demographic issue must also be considered. Indeed, the announcement in 2019 of the relocation of the political and administrative capital of Jakarta to the province of East Kalimantan, between the cities of Balikpapan and Samarinda, suggests strong migrations, the development of infrastructures but also a growing demand for aquaculture products. By 2024, the Indonesian Minister of Planning hopes to transfer nearly 1.5 million public officials and political representatives in East Kalimantan.',\n",
       " \"Delta Mahakam Ulu village, which belongs to Delta Mahakam district, is located in the northern part of the Mahakam Delta. The location of Delta Mahakam sub-district is close to the state-owned oil company (Pertamina), formerly VICO. Due to the proximity of a fairly large company, the community's economy is quite dynamic and the area offers a variety of jobs. However, the number of people who still carry out the traditional work of fishermen and fish farmers is still quite high, especially in the coastal areas. Working as a fish farmer has become one of the choices of the community as land is available for opening ponds. The conversion of mangrove forests into ponds has been going on for decades, but the production of fish and shrimp has decreased from time to time. Based on various studies and research, planting a number of mangroves in ponds can improve the soil and water quality in the ponds so that they can provide sustainable production. The farmer groups in Delta Mahakam Ulu ponds are beginning to realise the importance of planting mangroves in the ponds, and therefore need support from various parties. Other issues\",\n",
       " 'The table below represents a summary of estimation of potential loss and gain of mangroves in six major regions by 2035. The Kalimantan Island is the one to analyze in order to justify Planète Urgence and partners’ information. The analysis does not yet consider the movement of new capital issue which very likely affect the mangrove forest in East Kalimantan as well. This table highlight the multiple and complex context in which mangrove loss depends and confirms challenges faced in Mahakam Delta area. The lack of resources (financial, human resources, material) of local authorities coupled with a lack of transparency, coordination and communication around responsibilities of each actors impacts the management of mangrove forests, natural resources and territorial development.',\n",
       " 'Another issue that has also had a major impact on life in Indonesia, including East Kalimantan, is the Covid 19 global pandemic that has attacked the entire world since early 2020. The Covid 19 pandemic has had a major impact on life in Indonesia. East Kalimantan is a province outside Java Island with the highest rate of exposure to Covid, which has resulted in the government imposing a lockdown and restrictions on community activities. At the beginning of 2022, community activities began to return to normal, but a new variant emerged, namely Omicron, which spread very quickly. Facing a pandemic situation that has not ended, of course, the project must continue but still pay attention to security, safety, and practice health protocols. Strategy & theory of change The three years project aims to contribute to restore the degraded of mangrove ecosystem in Production Forest (Mahakamm Delta) and Conservation area (Adang Bay). In doing so, the project will address the key problems in those regions: Lack of awareness of local people on mangrove ecosystem, biodiversity issue and waste',\n",
       " 'Huge area of degraded mangrove forest which affect the resilience of local people in facing climate change, the habitat of endangered species and local economy; Lack of alternative sustainable livelihood in coastal area; Poor governance particularly on mangrove ecosystem and its environmental and economy issue. To overcome those problems, Planet Urgence and its partners will work by implementing the PU FORET strategy which rely on three components: Restore degraded forest; Environmental awareness; Strengthening livelihood of local people. In addition, the involvement of local NGOs, local community and volunteer is key for the successful of the project and the sustainability the impact of the project. Therefore, PU will reinforce the capacity of those local stakeholders to ensure they can carry out the project activities and together achieve the long-term goal of the project. Diagram of the theory of change can be seen below or in this link Proyek NEW MAHAKAM 2023-2026 -TOC - 3.xlsx Feature 3. Theory of Change Beneficiaries Number of direct beneficiaries of the pilot project: 3245 people with the proportion of 30% women and 70% men.',\n",
       " 'Number of indirect beneficiaries: 3000 people by assuming at least the project will give benefit indirectly to 1500 people per location including in East Kalimantan and Indonesia. The target groups include: School children (primary schools and secondary schools) Teachers (primary school teachers) Community members (villagers, consists of fish farmers, women group, and youth) Village officials Stakeholders from various institutions (government institutions, universities, and non-government organizations) Public audience in general (reached by Media) Other potential groups: High school and university students Environmental activists Location The location of the project is in Paser District (Adang Bay village) and Kutai Kartanegara district (Delta Mahakam) East Kalimantan Province. The location of project is nearby the new capital of Indonesia which is in the Penajam Paser Utara (around 130-160 km) Feature 4: Site intervention New Mahakam Project Expected results, planned activities & required resources GOAL:  Contribute to restoring the degraded mangrove forest in East Kalimantan (Delta Mahakam-Delta Mahakam and Adang Bay-Adang Bay as home of endemic and endangered species including proboscis monkey and key ecosystem to mitigate and to adapt the impact of climate change by strengthening the governance, planting mangrove tree, improving environmental awareness and developing sustainable livelihood for local community.',\n",
       " 'DETAILS OF PLANNED ACTIVITIES Output 1: The awareness of stakeholders to conserve Delta Mahakam and Adang Bay is strengthened. Awareness raising activities in schools targeting teachers and students are very strategic activities to raise awareness on the importance of environmental conservation, especially the mangrove ecosystem. East Kalimantan is a province with the second largest area of mangrove forest after Papua Province, but there is very little material about mangroves in school subjects. The workshop experience with elementary school teachers in Muara Jawa District in 2021 showed that schools really need knowledge about the mangrove ecosystem so that they can teach knowledge to the students as early as possible. Campaigns and hands-on learning bring fun for the teacher and students and will be memorized for a long time. Activity 1.1. Conduct workshops in schools of East Kalimantan province to raise awareness on environment and biodiversity preservation. Three sub-activities will be conducted: 1.1.1. -Workshop on Environmental Conservation for Primary School Teachers',\n",
       " \"The objective of this sub-activity is to increase teachers' knowledge in the field of environmental conservation, especially the mangrove ecosystem and its biodiversity. Furthermore, the teacher will integrate the subject of mangrove conservation in the subject of environmental education at school. By building the capacity of teachers, the project will promote a sustainable approach to raising awareness among students. Participants: 25 primary school teachers in Mahakam Delta and 25 primary school teachers in Adang Bay with the proportion of male (50%) and female (50%) Workshop locations: Mahakam Delta sub-district Muara Badak (organized by YML & PU) and Adang Bay Subdistrict Long Ikis (Organized by Pokja Pesisir and PU) The training materials include: The environment of East Kalimantan Province, especially the Mahakam Delta and Adang Bay; Mangrove Ecosystem; Biodiversity in mangrove ecosystems; conservation of mangrove ecosystems and biodiversity; making videos and learning media Training module for one day of training/workshop developed based on the experience of implementing activities and discussed between PU, local partners and educational offices and written by the PU Team\",\n",
       " 'Implementation strategy: The Project Team will work closely with the local education office in Kutai Kartanegara district and Paser district to select schools to be involved in the activity. 1.1.2 - Campaign on Environmental Awareness to the School children For this one, the objective is to raise awareness of the young generation to conserve the environment they live in. Participants: 2 primary schools (1 in Delta Mahakam, and 1 in Adang Bay with the target of 100 students each school); and 2 secondary schools (1 in Delta MahakamDelta Mahakam, and 1 in Adang Bay Bay with the target of 75 students each school) Location: in Delta Mahakam conducted by YML, and in Adang Bay, Paser conducted by Pokja Pesisir. Each of partner will be supported by volunteer from college students Materials: Introduction to mangrove ecosystem, getting to know the environment we live in, environment conservation, visiting nurseries and planting trees. Methods and media: learning with fun and using local materials, for example sample of mangrove species, mangrove fruit etc. and use more pictures and video. Strategy of implementation: Collaboration with the schools and the Sub-district Office of Education Activity 1.2. Support Adiwiyata School (Green School) in Delta Mahakam',\n",
       " '1.2.1 -Encouraging/assisting schools towards adiwiyata in Mahakam Delta For this one, the objective is to assist the schools in Mahakam Delta to get label adiwiyata schools (adiwiyata program) to implement environment education and establish green scholl (physically) Participants: 1 school (Adiwiyata schoo) in Mahakam delta Location: in Delta Mahakam conducted by YML Materials: environment-based curriculum, draft school policy related environment, and others item (according to school needs) Methods and media: Established MoU between YML and schools and regular meeting conducted Strategy of implementation: Collaboration with the schools and the Sub-district Office of Education. Activity 1.3. Conduct public awareness campaigns to sensitize communities in East Kalimantan province to the ecological, economic and climatic benefits of the mangrove.',\n",
       " \"East Kalimantan Province has the second largest mangrove forest in Indonesia, but the knowledge and understanding of the community is still lacking about this very useful mangrove ecosystem. When viewed in the media and in the study program at universities, terrestrial forests receive more attention than mangrove forests. Public campaign is needed to increase public awareness in general that East Kalimantan Province has an ecosystem that is rich in benefits and needs to be maintained and safeguarded together. Maintaining the mangrove ecosystem in East Kalimantan is even more relevant because, starting in 2022, Indonesia will move the country's capital to East Kalimantan Province. The movement of the state capital will increase the mobility of the population and will increase the pressure on the environment. 1.3.1. Waste Management Campaign\",\n",
       " 'There are intervention villages where have habit to throw away their garbage under their floating house. The objective of this campaign is to increase awareness to the local community about waste management properly. There is a link between their bad habits and the environment; when the tide arrives, the trash is washed away and accumulates in the roots of the mangroves, which results in the death of the mangrove plants. Apart of that, littering under their floating house make environment of local community becomes dirty. Target: 100 persons local community involved Location: Village Muara Adang and Pondong Baru in Adang Bay landscape Methods: Religion approach through Conservation Lecture (Dai Konservasi) and will utilize friday prayers moment and other islamic holiday Health approach involved medical staff or public health office Village Cleanliness Competition in celebrating Independence Day or other moment Strategy of implementation: Collaborating with prominent islamic religion leaders, public health offices, youth and village government 1.3.2 Book publication A writing competition will be organised with the theme “Local wisdom in relation to the mangrove ecosystem and nasal monkey (proboscis monkey) conservation”. The participant’s writing will be compiled to be published. Target: the project will publish 100 copies.',\n",
       " 'Location: Organized from Samarinda by PU. Content/Topic: Writing competition with the THEME: “Local wisdom in relation to the mangrove ecosystem and nasal monkey (proboscis monkey) conservation”. Methods and media: Book publication published by registered publisher completed with ISBN (International Serial Book Number). Strategy of implementation: Collaboration with the literacy activist in Kutai Kartanegara District. 1.3.3 Environmental Campaign for public with billboard The main goal of this sub-activity is to raise environmental awareness among more people by posting messages on billboards strategically placed throughout the community. Target: public in general Location: Delta Mahakam by YML and Adang Bay/Long Ikis by POKJA Pesisir. Content/Topic: Simple message to be discussed. For example, “To Save Mangrove is to Save Us” Methods and media: Billboard made of metal materials that is estimated can last for at least 4 years. Strategy of implementation: Coordination with local authority for tax exemption if possible since the billboards have non-profit purpose. 1.3.4 Public Campaign Awareness through Media Objective: To reach more people on environment awareness by reporting the project activities through online media and offline media in East Kalimantan Province. Target: public in East Kalimantan Province in general Location: Samarinda',\n",
       " 'Content/Topic: news or feature of the project activities to be posted on online media and offline media in East Kalimantan Province Methods and media: PU and implementing partners will collaborate with the local online/offline media such as “kaltimkece.id” and https://kaltim.tribunnews.com/ Strategy of implementation: PU will assist, encourage and facilitate implementing partners to coordinate actively with online local media which has big number of subscribers or viewers. Output 2: 300 ha area of degraded mangrove forest are restored by planting 800.000 of mangrove tree. Rehabilitation of degraded mangrove forests is the main activity of this project. The Mahakam Delta and the east coast of East Kalimantan are areas that are naturally overgrown with mangrove vegetation, but currently many have been converted for settlements, industry and aquaculture ponds. Mangrove planting in degraded areas and in ponds is important because it will contribute to restoring the function of the mangrove ecosystem and improving environmental quality. Activity 2.1. Pres-assessment study on land suitability',\n",
       " 'One of the main recommendations made by the consultants during the evaluation of the Mahakam Delta projects from 2017 to 2021 was to conduct a study on land suitability (soil and water characteristics) for mangrove reforestation. We conducted these studies for the intervention areas during the pilot phase of the project in 2022. To ensure the long-term viability of the plantations, the objective would be to implement this strategy for all future and new project intervention areas during the 3 years project. Target: locations of plantation plot. Location: Delta Mahakam (aquaculture pond and coastal area) by YML, Muara Jawa (coastal area), and Adang Bay (aquaculture pond and riparian/coastal area) Content/Topic: soil and substrate analysis and endemic/local tree species analysis Methods and media: Desk study, Field work, laboratory analysis and report writing Strategy of implementation: Hire consultant team with the available budget Involve the community representative and the local partner during the field work Activity 2.2. Ensure establishment and management of community-based nurseries 2.2.1 Establishment of community-based nurseries The objective is to have the tree seedlings locally and on time, as planned by the community. Target: 3 nurseries in 3 villages/locations, 60 people involved in the seedling preparation in the nurseries.',\n",
       " 'Location: Delta Mahakam organized by YML and local community and Adang Bay organized by POKJA Pesisir and local community. Content/Topic: 70,000 mangrove trees in Delta Mahakam, 80,000 mangrove trees in Adang Bay, Paser. Methods and media: Technical assistance by Project staffs Strategy of implementation: Collaboration with village officials and give more responsibility to the local people. 2.2.2 Maintenance of the nurseries The goal is to have high-quality tree seedlings. Target: 3 nurseries in 3 villages/locations, with the total of 150,000 trees seedlings. Location: Delta Mahakam (supervised by YML), and Adang Bay, Paser supervised by POKJA Pesisir. Description of activity: Maintaining the tree seedling in the nursery and replace the dead seedlings with the new ones. Methods and media: Regular maintenance by local people Strategy of implementation: Recruiting local villager(s) to be assigned for nursery maintenance. Activity 2.3. Identify and prepare planting locations, and train local community members to mangrove restoration, and conduct tree planting. 2.3.1 Survey of planting locations The objective is to have secured land for the tree plantation. Target: at least 5 plots/parcels in the 3 villages. Location: Delta Mahakam and Adang Bay, Paser. Description of activity:',\n",
       " 'Coordination with the local authority regarding the status of the land: visit and discussion with KPHP, BKSDA, village government and relevant local agencies in order to share with them the location of the plantation sites and identify the status of land (forest / non forest area, ownership) Initial proposal of the plantation plots proposed by the villagers Field visit to check the land condition and the time is synchronized with the consultant of the land suitability survey to visit the location. Methods and media: Field visit, check the location in relation to the accessibility and observation of the local natural tree species in the locations Strategy of implementation: Synchronized the activity with the schedule of the consultant and using the existing maps of the locations. 2.3.2 Training on Mangrove Reforestation The objective is to increase the knowledge of the local community in implementing mangrove reforestation project. Target: 60 local communities in the 3 villages. Trainers/facilitator: the team of PU, YML and POKJA Pesisir. Location: Delta Mahakam and Adang Bay, Paser. Materials: Introduction of the mangrove ecosystems and its importance Getting to know the type of mangrove species and its characteristic Seed and propagule selection Nursery preparation',\n",
       " 'Seedling the propagules in the nursery Techniques of mangrove tree planting. Methods and media: PowerPoint presentation, propagule/seedlings. Strategy of implementation: coordination with the village officials and community leaders. 2.3.3 Tree planting Objective: To reforest the dedicated plantation plots. Target of tree planting Target of tree planter is 60 local communities in the 3 villages. Methods and media: organizing the community in tree planting. Strategy of implementation: work with the local people The tree planting process is carried out together with the local community, starting from the process of selecting planting sites, collecting seeds, seedling process in the nursery, maintaining the nursery to planting and monitoring. The steps for community involvement are carried out in stages: Dissemination of information to community members who wish to be involved in mangrove planting projects, including tree planting costs. In each location the group leader is selected to organize the community in planting and assigning tasks to care for the nursery. Extension training on mangrove reforestation for communities involved in tree planting Collecting mangrove seedlings based on recommendations from consultants. Making a nursery by the community led by the group leader Conduct seedling maintenance arranged by the group leader',\n",
       " \"Tree planting according to schedule with supervision from local partners Activity 2.4. Participatory Monitoring Training and ensure the monitoring and protection of targeted mangrove areas 2.4.1 Participatory Monitoring Training on Tree monitoring The goal of this sub-activity is to increase the participants' knowledge of tree monitoring. PU is currently developing a tool to track indicators related to the FORET program (monitoring of plantations, monitoring of other socio-economic indicators). Target: 6 local people in the 3 villages. Trainers/facilitators: Android based Application developerLocation: Delta Mahakam and Adang Bay, Paser. Materials: Introduction of monitoring system Tree monitoring by using application in Android Practical in the field (hands-on experience) Tree monitoring planning Methods and media: PowerPoint presentation, demonstration, android-based cellular phone. 2.4.2 Implementation of the tree monitoring The objective is to have valid information on the survival rate of the tree planted. Target: 6 local people in the 3 villages and the local partners involved in the process. Location: Delta Mahakam (2 times for tree of 2020/2021 and 2022) and Adang Bay, Paser (1 time for the tree of 2022). Materials: GPS and android cellular phone Tree monitoring matrix Methods and media: field trip directly to the location\",\n",
       " 'Strategy of implementation: empower the local people to do the tree monitoring. Activity 2.5. Conduct Biodiversity Research to find out the linkage of rehabilitated degraded mangrove & the biodiversity The goal of this activity is to collect the baseline data of biodiversity particularly endangered species such as Proboscis monkey (Nasalis larvatus) in the intervention area of project. According to Triatmoko et.al, 2007 the population of proboscis monkey in east Kalimantan decreased 50% from 1985-1995 due to the habitat conversion from forest to agri/aquaculture, mining and water transportation activity. If this condition is allowed and there is no conservation effort, the population of proboscis monkey will decrease from year to year. Planting mangrove in the degraded area could be restore the species habitat. In the end of project, we will measure the impact of planting activity to the number of biodiverisity (either increased or no direct linkage) Target: Identify and collected databese of number of group & population Proboscis monkey (Nasalis larvatus) in each of intervention area Locations: Delta Mahakam – Muara Pintuan Adang Bay – Muara Adang Materials: GPS Camera Drone (optional) Tally sheet Methods: Literature study Direct observation in area targeted',\n",
       " 'Strategy of implementation: Hire biodiversity consultant and involving the partner staf/local community to join monitoring in the field. Output 3. Alternative sustainable livelihoods in Delta Mahakam and Adang Bay are available, improved and shared to other key stakeholders in the region. Unsustainable livelihood, particularly aquaculture has degraded the mangrove forest in Delta Mahakam and Adang Bay. The output aims to introduce and promote sustainable aquaculture in the region to improve the production of aquaculture in current ponds as well as improve the skill of women group in managing their business and family income. Activity 3.1. Establish demonstration plots for sustainable aquaculture (sustainable ponds and sylvo fishery models) 3.1.1 Support of practice on sustainable aquaculture pond The objective here is to promote the practice of sustainable aquaculture Target: 40 ha of the aquaculture pond (20 ha in Delta Mahakam, and 20 ha in Adang Bay) Facilitator for discussion: Achmad Nuriyawan (YML Director) and local partner staff. Location: Delta Mahakam and Adang Bay, Paser. Materials: Introduction of sustainable aquaculture The practical way for the management of sustainable aquaculture Support of the production material (baby shrimp and organic fertilizer) Strategy of implementation: collaboration with the Office of Marine and Fisheries.',\n",
       " 'Activity 3.2. Train community groups particularly women group on the financial management and product marketing. 3.2.1 Training and assistance on financial management and product marketing This activity was maintained among the many other support activities for the generative activities of local communities that were carried out last year because of its relevance to the context of landlocked areas. They are having difficulty selling their aquaculture products. So, the project will more focus on women group by assisting them in marketing the product to the wider consumers and managing their income. Target: 40 women (20 Delta Mahakam, and 20 in Adang Bay) Facilitator for training: Trainer from the Micro and Small Business Enterprise Development (Government Agency) and assisted by local partner staff. Location: Delta Mahakam and Adang Bay, Paser. Materials: Principle of the product marketing Pricing, Differentiation, and Branding Marketing Channels To be determined later Methods: participatory training and hands-on experience Strategy of implementation: collaboration with the Office of Micro and Small Business Development Office, recruiting the existing micro business practitioner in the village. Output 4. The sustainable coastal governance in Delta Mahakam and Adang Bay are strengthened',\n",
       " 'The presence of new capital nearby the Delta Mahakam and Adang Bay likely effect the environmental and economics of local livelihood. To prevent the negative affect, the current coastal governance needs to be improved by involving the stakeholders in the region in the process. The FPIC to the villagers is to promote elements of better governance in the project locations: transparency of the project and the involvement of local people in shaping project activities and impact. Activity 4.1. Facilitate coordination meeting among Mahakam Delta and Adang Bay’s actors to synergize the program The main activity here is to organise a coordination meeting with key stakeholders and NGOs who works in Mahakam Delta and Adang Bay to identify the program, site intervention and filling the gap to support government program. Target: 1 coordination meeting involved all NGO’s and actors who works in Mahakam Delta and Adang Bay Landscape particularly related with the restoration area. Facilitator for meeting: Organized by PU through offline meeting Location: Samarinda and Balikpapan. Methods: offline meeting Strategy of implementation: Collaboration with Mahakam Delta and Adang Bay authority. The government will invite the NGOs, PU will develop ToR.',\n",
       " \"Output: a map of project spots of each actor with reforestation information: the number of trees, the size of area, supporting activities, the period of project, the monitoring activities, the local community partner and others. And, a map of rehabilitation area without any intervention/project. Activity 4.2. Conduct FPIC (Free, Prior and Informed Consent) to the villagers and village government regarding the activities, potential benefit and impact of the project. FPIC (Free, Prior, and Informed Consent) clearly informs local communities about the project's expected results in order to obtain their prior agreement before the project is implemented. It also helps to explain how the project will help the village achieve the World Bank FCPF/REDD+ project objectives which are government projects. Target: village officials, sub-village representatives, community representative (youth group, women, men) Facilitator for training: Local partner and PU Location: Delta Mahakam Ulu and Adang Bay (Paser). Methods: semi-formal meeting in the village or sub village meeting Strategy of implementation: prior communication with the village officials and community representatives/figures. Activity 4.3. Conduct Expose with Key Stakeholders in Mahakam Delta and Adang Bay\",\n",
       " 'The objective of this activity is to deliver the program achievement each, collect the input for improvement for next year project from stakeholders. Target: Workshop meeting involved key stakeholders (The Nature Conservation Agency, The Provincial environment and Forestry services, Forest Management Unit) Methods: FGD Meeting Location: Samarinda Facilitator for meeting: Organized by PU and Partner Strategy of implementation: Focus Group Discussion MAIN REQUIRED RESOURCES Human Resources (from implementing partners): Yayasan Mangrove Lestari (YML) 1 Project Director 2 Project Officers 1 Finance and administration officer POKJA Pesisir 1 Project Director 2 Project Officers 1 Finance and administration officer Human resources (from PU Indonesia/Yayasan Planet Urgensi Indonesia): 1 Project Director (PU Indo National Delegate) 1 Project Coordinator 1 Raising Awareness and Knowledge Management Officer (PU Indo Communication Staff) 1 Finance and administration Officer Offices (location): Office of YML : in Samarinda with field secretariate in Delta Mahakam Office of POKJA Pesisir : Balikpapan City with field secretariate in Adang Bay Office of PU Indonesia : Samarinda Material Resources needed for the project: Computer GPS, Mobile Phones Transportation means (car, motorcycle, and boat as needed) Partnerships',\n",
       " 'Implementing partners: Planète Urgence will partner with two local NGOs: Pokja Pesisir and YML, both Indonesian foundations. In Adang Bay, Planète Urgence will work in close collaboration with Pokja Pesisir (Coastal Management Working Group), an Indonesian foundation based in Balikpapan, which focuses its action on coastal management and its community. Pokja Pesisir has extensive experience in empowering coastal community, advocacy coastal management and improving spatial plan of coastal area in the southern part of East Kalimantan. This is the second cooperation project between PU and Pokja Pesisir after the pilot phase that conducted in 2022.',\n",
       " 'In Delta Mahakam, Planète Urgence will work in a close collaboration with the Yayasan Mangrove Lestari Delta Mahakam (YML) which cooperation has started with Planète Urgence at the end of 2nd term of year 2012 (period of October-December) with a focus on mapping the Mahakam Delta region, as a tool for preparing a joint action plan in 2013. Furthermore, the implementation of joint program in 2013 included reforestation activities, access to micro-credit for community groups, capacity building of community groups (male and female groups) and program coordination at the district level together with BAPPEDA (Agency for Regional Development) of Kutai Kartanegara District and several other regional organizations. Designing and carrying out the activities integrating through MADIMAP (Mahakam Delta Integrative Management Program) for the period of 2014 to 2016 and January - March 2017 with the main funding from Trafigura Foundation. In 2019 until 2021, YML and Planète Urgence again collaborated in large-scale awareness-raising activities (radio podcasts) related to the protection of mangrove forests and their biodiversity, as well as to promote the sustainable aquaculture in the region. Feature 5. Rehabilitation target area in New Mahakam Project',\n",
       " 'Expected capacity building of implementing partners: To support Pokja Pesisir and YML in implementing the activities, Planète Urgence will continuously collaborate with partners to identify capacity-building needs. PU will provide support to YML and Pokja Pesisir in its financial and accountability reporting of the MAHAKAM project following PU’s process, mainly required by donors. This training will be conferred by the Administrative and Financial staff of Planète Urgence Indonesia. The training will be done in the first two months of the project and PU will continuously monitor the impact of the training to ensure the partner implement the PU standard. YML and Pokja Pesisir will also be helped in monitoring and project management. PU will share their experience and manual in monitoring and managing the project to the partner. The transfer knowledge will be done at the beginning of the project. Refreshment training of reforestation project particularly for Pokja Pesisir including technical issue such as establishing nursury, planting tree, identifying location Rapid Needs Assessment on Capacity Building to identify the needs of capacity building for the partners.',\n",
       " 'The project will continuously identify further needs regarding the project or partner structuration. Capacity building needs could also be supported by Planète Urgence’s volunteerism programme (if the organization and the logistic of the mission meet all required criteria). CAPACITY BUILDING PLAN Roles and responsibilities: Activities will be implemented under the responsibility of  Planète Urgence and its partners (Pokja Pesisir and YML). These partners will design, develop, implement and monitor the activities under their responsibility. Both implementing partners will play an important coordination role with partners, beneficiaries, community groups and local authorities. Planète Urgence will support them in the project management and discussions with local authorities regarding governance strategy, project monitoring and evaluation, identification of capacity building needs for partners and specific project components, as well as the building of a multi-year vision (context and needs assessment and update, project scaling-up and sustainability). Key stakeholders: Planète Urgence also encourages YML and Pokja Pesisir to collaborate with other relevant local stakeholders from various groups such as local community organizations, business groups and government agencies from district to national levels. The following table lists potential partners and the respective roles they could play in the NEW MAHAKAM project: Cross-cutting approaches',\n",
       " 'In 2019, Planète Urgence has conducted a social analysis in Muara Kembang to examine how different individuals and groups may affect the project and how the project will affect them. During this study, Planète Urgence has collected, identified and analysed information on the different roles, responsibilities, needs and interests of women and men of targeted groups in Muara Kembang village. To capture the nuances of various social characteristics, the data and analysis on women and men should are disaggregated by social categories relevant to the project (e.g., socio-economic status, profession) during these 3 years. Below are presented the results of the socio-economic analysis of targeted communities, with 80% of respondents. The last Gender Gap Report 2020 of the World Economic Forum has ranked Indonesia on position 86 on a total of 153 countries regarding gender inclusion and equality. The National Gender Mainstreaming Policy enacted in 2000 (through The Presidential Decree in) guides the National Long-term Development Plan (RPJPN) 2005- 2025 which confirms the Indonesian government’s commitment to gender equality with specific laws in place and aligning the National Development Agenda with 17 Sustainable Development Goal (SDG) #5 Gender Equality.',\n",
       " \"Gender and social equity challenges and opportunities will be revisited periodically throughout the NEW MAHAKAM project as a way to measure progress and ensure issues are being adequately addressed. The gender bias is commonly emerged linked to some social factors such as ethnicity, faith/religion, and education. Gender refers to the roles, behaviours, activities, attributes and opportunities that any society considers appropriate for girls and boys, and women and men. In the project areas (Delta Mahakam Ulu and Adang Bay), as in other coastal regions of Indonesia, there is a common division of roles between men and women. Men are a group that must earn a living, go to sea to fish, do a variety of physical work, organize village government, manage places of worship, etc., while women's groups do domestic work and help their husbands. Boys usually have a greater chance of going to higher education. With the opening of information, this division of roles experienced a shift, in which several women or girls had the same opportunity to go to school, earn a living and participate in social activities in the village. However, the role of women groups’ policy decision making in the village level is still limited.\",\n",
       " \"In the project area, men generally have no objection regarding women's groups actively engage in activities to earn a living and are also involved in social activities. However, we still note a reluctance among women's groups to actively participate in public meetings that involve men and women due to culturally taboo. The project aims to support the active participation of women's groups through the following activities: Encourage women's involvement in meetings involving sub-village or village interests Provide equal opportunities between women and men for capacity building activities Provide opportunities for women's groups to earn income through micro and small businesses Encourage women's participation to be actively involved in decision making both at the scale of households and at the group level, for example related to tree planting project.\",\n",
       " 'Therefore, PU and its implementing partners will coordinate closely with gender working group at the provincial and district levels to gain more understanding the gender issue, challenge and possible solution in the coastal area. We also try to create gender friendly environment in order to ensure the women has active participation such as identifying the right time for women to participate, separate the women and men group if it will give chance for women to speak, always ask and give chance to women to speak in every meeting. In addition, this project aims to acknowledge the rights of local people in the project by implementing the Free, Prior and Informed Consent (FPIC) on the project. PU and implementing partners will provide information of the project, the risk, the negative and positive impact of the project and let them decide to contribute on the project. By doing this, the project aims to place the local people not as object the project, but the subject of project since they also contribute to design the activities of the project.',\n",
       " 'Moreover, regarding the new capital, the project expects to bring the voice of local people in the coastal area in shaping the future plan of Mahakam Delta and Adang Bay-Adang Bay. The involvement of local people will contribute to improve the governance in the coastal region. Knowledge management, capitalization & communication Knowledge management Planète Urgence is in the process of setting up a new tool for monitoring plantations based on geolocation of trees planted throughout the project. Planète Urgence’s software (database) will be redesigned and updated to meet different needs. The first one is to conduct the monitoring of planted trees (species, size, survival rate, pictures …). The second one will help provide transparent information to donors. The third one will contribute to communication efforts (map on website).',\n",
       " 'PU Indonesia and its implementing partners will arrange communication and knowledge management mechanisms to ensure all parties has equal access and responsible to store and to distribute the data and information gathered from the project. All materials from the field should be submitted monthly to the communication officer of PU Indonesia during the project. PU Indonesia will ensure all publications, minutes of meeting, report, picture and video related with the project activities store well in the PU system. The material will be grouped according to their type, date and the component of the project. The implementing partners will have equal access to use the materials that they have collected for the benefit of current and future project in the region. Like previous projects, PU Indonesia will spread the lessons learned of the project to the key stakeholders and public through various canal such as monthly journal, offline and online media and social media during the project. Capitalization',\n",
       " 'In order to allow Mahakam Delta’s stakeholders and project partners to replicate the positive actions of the project in other villages for a wider action, Planète Urgence commits to undertake capitalization on two key subjects: (i) a relevant restoration of the mangrove ecosystem and (ii) a methodology for land use planning process. Indeed, the restoration of the mangrove in the Mahakam Delta is an initiative carried for many years by different stakeholders (companies, communities, local governments, associations) and in many cases favouring a monoculture. It would seem that efforts in terms of identification of species and planting areas should be made by communities and public actors - in particular the KPHP - a key player on the subject.',\n",
       " 'In addition, Indonesia faces a lack of human and financial resources to integrate communities in the processes of sustainable management of natural resources and territorial planning. This aspect has been entrusted by the central government to the provinces and districts. However, Planète Urgence’s support has been required by decentralized public actors to facilitate the consultation processes with local communities and to develop proposal for territorial planning and land certification. The project therefore intends to draw methods and tools from it in order to support other local communities and the public stakeholders concerned (villages and districts) in order to replicate these activities with the other villages of the Mahakam Delta.\\nThe tree protection from palm tree leaves and net that successfully works to protect tree in previous project will be documented and spread to the key restoration actors for possible replication in their project. In addition, PU Indonesia will manage and distribute the publication and knowledge from the project to other parties. Module and material environmental education campaign will be used in the scale up project or other locations. Table 3. Summary of our lessons learned, and best practices developed on previous projects in the Mahakam Delta External communication in Indonesia',\n",
       " 'PU Indonesia will work with the online local media to promote the project activities, current states of Delta Mahakam and its challenge. Besides the online local media, PU Indonesia and its implementing partners will work with expert panels in radio panels to spread the message, challenge and the successful of the project. PU Indonesia has been invited by the French IFI (Institut Français Indonesia) on Climate Change week in 2021. The French IF have invited PU Indonesia to spread the message and works through various canals which provided by French IF such as social media and website. This opportunity should be used in this project to introduce the project to wider public. In addition, CIFOR has invited PU as speaker in the side event of Policy and Science dialogue in March 2022. The collaboration with CIFOR can be extended in other events to share the progress of project NEW MAHAKAM. Besides that, PU and its partners will road show to the authority and donor to introduce the project both at the national, provincial and local level. Project brief, blog and others material can be used to spread the messages to those parties. External communication in France',\n",
       " 'At PU headquarters, the communication team will receive local communication content, data, pictures, tools and progress information on the project to create contents (articles, advocacy messages, press releases) in line with the international calendar on biodiversity, climate change and other international celebrations. The project will be promoted, first on PU website by dedicating a specific page to it and attaching any communication elements that may be provided or proposed by YML and Pokja Pesisir. The communication officer of PU Indonesia will work together with communication team of PU HQ to fill the PU Indonesia section in the PU website. The project will be clearly highlighted (infographics, photos, videos, key figures, etc.) on social media. As a member of Groupe SOS, PU benefits from its distribution channels, including its website and its News page. PU will communicate through a specific partner newsletter on its actions thanks to the participation and support from its donors (general public and private sector). The project will be the subject of communication actions targeted to these companies and foundations and will benefit from cascading relays, allowing it to reach a larger audience. Partners will communicate, for their part, on their support for reforestation and local development actions with their employees, service providers and customers.',\n",
       " 'Sustainability, scaling-up and/or exit strategy After the project ending in March 2023, Planète Urgence and its partners will focus on the sustainability of the project in order to design a correct exit strategy of the area for Planète Urgence. Indeed, the mandate of Planète Urgence is to reinforce the capacities of local civil societies. Sustainability and Exit Strategy (Scale Up) of the project Planète Urgence has defined requirement to ensure the efficiency of the NEW MAHAKAM project and the success of the exit strategy in 2023. For it, three approaches must be integrated to each activity: inclusivity, integration and independence.',\n",
       " \"In the context of an inclusive approach, this project encourages the participation of many parties while respecting each other's interests in order to create a synergy of cooperation and mutual support to mangrove conservation efforts in the Mahakam Delta. Then to ensure that all activities undertaken are under the responsibility of identified parties, Planète Urgence will conduct advocacy work to integrate MAHAKAM’s activities into the strategic plans and work plans of the stakeholders of the project. Finally, to ensure the independence with regard to control of interests of other parties outside the Mahakam Delta, it is necessary to strengthen this independence of all actors involved in mangrove conservation efforts in the area. The independence in this case includes the ability to self-financing conservation activities through local economic institutions that are professional to manage sustainable productive businesses. Therefore, during the project and particularly in the end of project, PU and implementing partners will identify and distribute the preliminary achievement and lesson learn of the project to the potential donor. Raising awareness component: Encouraging participation of public particularly change makers in the community with a collaborative work with education institutions and mass media.\",\n",
       " 'Advocate and ensure education and awareness on mangrove conservation is adopted in school curricula and understood by education authorities and mass media program. Develop materials of education and awareness campaign on mangrove conservation (education curricula, education books and other mangrove education tools). Mangrove rehabilitation component: Developing village and community owned nursery to provide seedlings for restoring target area. Facilitate village to create restoration policy, for instance replacing every single cut in development zone with planting 100 trees in the target restoration area. Economic development component: Develop community-based enterprise to support local resources product processing and marketing. Bridging community network to market and financial institutions. Identify the challenge and opportunity to develop sustainable aquaculture. Governance Component Distribute the result of workshop/FGD regarding the Indonesian new capital to the key stakeholders. Identify the possible strategies and activities in the future to advocacy the green coastal area in East Kalimantan. Transversal to the project: Ensure that implementing partners (YML and Pokja Pesisir) have capacities to raise funds from public and or private sectors to support their activities in Mahakam Delta, Paser and East Kalimantan in general.',\n",
       " 'Ensure that all implementing partners and stakeholders of project area have access and understand each methodology developed in the framework of the NEW MAHAKAM project to replicate and adapt the activities in other locations of Mahakam Delta. Ensure that capacity-building needs of implementing partners are supported in order to access the autonomy of each organization. Results framework Monitoring & evaluation The monitoring and evaluation of the project activities, risks, knowledge management, communication and others will be done internaly through: Monthly narrative and financial report Quarterly narrative and financial report Monthly coordination meeting with the partners. Biweekly coordination meeting with the PU Paris. Field monitoring six times in a year. Internal evaluation at the end of project In addition, the project includes a third party evaluation during year 3 for final evaluation of the project’s activities and conduction of the climate philanthropy methodology. The final evaluation will be conducted via remote evaluation and onsite visit of the project.\\nIt will include at minimum : An inventory of the activities that have taken place in relation to the project plan (including planting activities, increased livelihoods and environmental awareness)',\n",
       " 'Review of carbon sequestration calculations and monitoring protocols, based on the climate philanthropy methodology developed by Planète Urgence (zone boundaries, baseline scenario, demonstration of additionality, ex-ante carbon calculation, and first ex-post measures on year 3 linked with survival rate) Review of project, monitoring and activity reports Redaction of the audit report Completion of baseline and proof of additionality, accompanied by EX-ANTE calculation of GHG emissions/sequestrations According with Planete Urgence’s methodology on Climate Philanthropy, the project will monitor carbon sequestration impacts. To do so, Planète Urgence team will develop a baseline scenario illustrating the activities and greenhouse gas (GHG) emissions that would occur in the absence of a project’s activity. Developing this baseline will be the foundation of measuring the project’s emissions reductions or removals; it will set the benchmark by which a comparison of the project’s activities can be made against the business-as-usual scenario providing clarity on how the project can and will influence emissions reductions over time. The protocol developed by Planete Urgence adopts the baseline scenario and additionality tests based on the Verified Carbon Standard (VCS) and Clean Development Mechanism (CDM)’s Afforestation/Reforestation methodological tools. It involves : Identification and mapping of project boundaries Consideration of regulatory surplus',\n",
       " 'Development of a list of reference scenarios ( Identification of obstacles, Analysis of obstacles, Determination of reference scenario, Investment analysis Definition of net GHG removals in the reference scenario, Definition and proof of additionality Timeline']"
      ]
     },
     "execution_count": 6,
     "metadata": {},
     "output_type": "execute_result"
    }
   ],
   "source": [
    "all_chunks"
   ]
  },
  {
   "cell_type": "markdown",
   "metadata": {},
   "source": [
    " # Calcul des embeddings et création de l'index FAISS"
   ]
  },
  {
   "cell_type": "code",
   "execution_count": 8,
   "metadata": {},
   "outputs": [],
   "source": [
    "#!pip install sentence-transformers"
   ]
  },
  {
   "cell_type": "code",
   "execution_count": 22,
   "metadata": {},
   "outputs": [],
   "source": [
    "# !pip install langchain\n",
    "# !pip install -U langchain-community\n",
    "# !pip install -U langchain-huggingface"
   ]
  },
  {
   "cell_type": "code",
   "execution_count": 7,
   "metadata": {},
   "outputs": [
    {
     "data": {
      "text/plain": [
       "HuggingFaceEmbeddings(model_name='sentence-transformers/all-MiniLM-L6-v2', cache_folder=None, model_kwargs={}, encode_kwargs={}, multi_process=False, show_progress=False)"
      ]
     },
     "execution_count": 7,
     "metadata": {},
     "output_type": "execute_result"
    }
   ],
   "source": [
    "# Modèle d'embedding (Hugging Face)\n",
    "from langchain_huggingface import HuggingFaceEmbeddings\n",
    "\n",
    "embedding_model_name = \"sentence-transformers/all-MiniLM-L6-v2\"\n",
    "hf_embeddings = HuggingFaceEmbeddings(model_name=embedding_model_name)\n",
    "hf_embeddings "
   ]
  },
  {
   "cell_type": "code",
   "execution_count": 11,
   "metadata": {},
   "outputs": [],
   "source": [
    "#!pip install faiss-cpu"
   ]
  },
  {
   "cell_type": "code",
   "execution_count": 8,
   "metadata": {},
   "outputs": [
    {
     "name": "stdout",
     "output_type": "stream",
     "text": [
      "<langchain_community.vectorstores.faiss.FAISS object at 0x7187a6320a40> Vector store FAISS initialisée.\n"
     ]
    }
   ],
   "source": [
    "# \"Vector store\" en FAISS\n",
    "from langchain.vectorstores import FAISS\n",
    "docsearch = FAISS.from_texts(all_chunks, hf_embeddings)\n",
    "print(f\"{docsearch} Vector store FAISS initialisée.\")"
   ]
  },
  {
   "cell_type": "markdown",
   "metadata": {},
   "source": [
    "#  Appel d'un LLM via API\n"
   ]
  },
  {
   "cell_type": "code",
   "execution_count": null,
   "metadata": {},
   "outputs": [],
   "source": [
    "# from langchain.llms.base import LLM\n",
    "\n",
    "# class MyMockLLM(LLM):\n",
    "#     \"\"\"\n",
    "#     Un mock LLM pour illustrer l'API de LangChain, \n",
    "#     qui renvoie un texte simpliste.\n",
    "#     \"\"\"\n",
    "\n",
    "#     @property\n",
    "#     def _llm_type(self) -> str:\n",
    "#         return \"my_mock_llm\"\n",
    "\n",
    "#     def _call(self, prompt: str, stop=None):\n",
    "#         return f\"[Réponse fictive du LLM API] Prompt: {prompt[:100]}...\"\n",
    "\n",
    "#     @property\n",
    "#     def _identifying_params(self):\n",
    "#         return {\"name_of_llm\": \"MyMockLLM\"}\n",
    "\n"
   ]
  },
  {
   "cell_type": "code",
   "execution_count": 10,
   "metadata": {},
   "outputs": [],
   "source": [
    "# mock_llm_api = MyMockLLM()\n",
    "\n",
    "# # Exemple de RetrievalQA\n",
    "# from langchain.chains import RetrievalQA\n",
    "# qa_chain_api = RetrievalQA.from_chain_type(\n",
    "#     llm=mock_llm_api,\n",
    "#     chain_type=\"stuff\",\n",
    "#     retriever=docsearch.as_retriever(search_type=\"similarity\", search_kwargs={\"k\": 3})\n",
    "# )\n",
    "\n",
    "# query_api = \"Quels sont les objectifs de ce projet selon les documents ?\"\n",
    "# print(\"QUESTION (API) :\", query_api)\n",
    "# answer_api = qa_chain_api.run(query_api)\n",
    "# print(\"REPONSE API :\\n\", answer_api)\n"
   ]
  },
  {
   "cell_type": "markdown",
   "metadata": {},
   "source": [
    "# Appel d'un modèle local"
   ]
  },
  {
   "cell_type": "code",
   "execution_count": 11,
   "metadata": {},
   "outputs": [],
   "source": [
    "#!pip install -U langchain-huggingface"
   ]
  },
  {
   "cell_type": "code",
   "execution_count": 12,
   "metadata": {},
   "outputs": [],
   "source": [
    "#!pip install ipywidgets"
   ]
  },
  {
   "cell_type": "code",
   "execution_count": 13,
   "metadata": {},
   "outputs": [],
   "source": [
    "# !pip install \"accelerate>=0.26.0\""
   ]
  },
  {
   "cell_type": "code",
   "execution_count": null,
   "metadata": {},
   "outputs": [
    {
     "data": {
      "application/vnd.jupyter.widget-view+json": {
       "model_id": "dcbed8c90fbe4922b135100bec36dbb7",
       "version_major": 2,
       "version_minor": 0
      },
      "text/plain": [
       "Loading checkpoint shards:   0%|          | 0/2 [00:00<?, ?it/s]"
      ]
     },
     "metadata": {},
     "output_type": "display_data"
    },
    {
     "name": "stderr",
     "output_type": "stream",
     "text": [
      "Some parameters are on the meta device because they were offloaded to the cpu.\n",
      "Device set to use cuda:0\n"
     ]
    },
    {
     "name": "stdout",
     "output_type": "stream",
     "text": [
      "Modèle Llama2 chargé avec succès.\n"
     ]
    }
   ],
   "source": [
    "from transformers import AutoModelForCausalLM, AutoTokenizer, pipeline\n",
    "from langchain_huggingface import HuggingFacePipeline\n",
    "import torch\n",
    "\n",
    "\n",
    "# Test plusieurs models\n",
    "# model_gp2= \"gpt2\"\n",
    "# model_gpt_neo = \"EleutherAI/gpt-neo-125M\" \n",
    "# Choisissez le modèle Llama2 Chat gated\n",
    "#model_llama2 = \"meta-llama/Llama-2-7b-chat-hf\"\n",
    "\n",
    "# Utiliser le modèle public \"tiiuae/falcon-7b-instruct\"\n",
    "model_falcon7b = \"tiiuae/falcon-7b-instruct\"\n",
    "\n",
    "# Passez le token lors du chargement du tokenizer et du modèle\n",
    "tokenizer_local = AutoTokenizer.from_pretrained(model_falcon7b)\n",
    "model_local = AutoModelForCausalLM.from_pretrained(\n",
    "    model_falcon7b,\n",
    "    torch_dtype=torch.float16,\n",
    "    device_map=\"auto\"\n",
    ")\n",
    "\n",
    "# Création d'un pipeline de génération\n",
    "local_pipeline = pipeline(\n",
    "    \"text-generation\",\n",
    "    model=model_local,\n",
    "    tokenizer=tokenizer_local,\n",
    "    #device=0,                   # Utilisation du GPU\n",
    "    max_new_tokens=128,         # Nombre de tokens générés après le prompt\n",
    "    truncation=True,             # Tronque le prompt s'il dépasse la fenêtre du modèle\n",
    "    temperature=0.7,       # Paramètre pour plus de déterminisme\n",
    "    top_p=0.9,\n",
    "    top_k=50\n",
    ")\n",
    "\n",
    "# Intégration dans LangChain\n",
    "local_llm = HuggingFacePipeline(pipeline=local_pipeline)\n",
    "\n",
    "# Vous pouvez maintenant utiliser local_llm pour vos appels\n",
    "print(\"Modèle Llama2 chargé avec succès.\")\n",
    "\n"
   ]
  },
  {
   "cell_type": "markdown",
   "metadata": {},
   "source": [
    "# Prompt engineering"
   ]
  },
  {
   "cell_type": "code",
   "execution_count": 12,
   "metadata": {},
   "outputs": [],
   "source": [
    "from langchain.prompts import PromptTemplate\n",
    "from langchain.chains import RetrievalQA, LLMChain\n",
    "\n",
    "template_fr = \"\"\"\n",
    "Tu es un assistant expert dans la rédaction de projets ONG et environnementaux.\n",
    "Réponds de manière claire et concise en 2 à 3 phrases maximum.\n",
    "Si le contexte ne contient pas l'information, réponds \"Je ne sais pas\".\n",
    "\n",
    "Contexte (environ {nb_mots} mots) :\n",
    "{context}\n",
    "\n",
    "Question :\n",
    "{question}\n",
    "\n",
    "Réponse :\n",
    "\"\"\"\n",
    "\n",
    "prompt_template = PromptTemplate(\n",
    "    template=template_fr,\n",
    "    input_variables=[\"context\", \"question\", \"nb_mots\"]\n",
    ")"
   ]
  },
  {
   "cell_type": "markdown",
   "metadata": {},
   "source": [
    "## Fonction de requête RAG personnalisée"
   ]
  },
  {
   "cell_type": "code",
   "execution_count": 14,
   "metadata": {},
   "outputs": [],
   "source": [
    "\n",
    "\n",
    "def custom_rag_query(question, top_k=1):\n",
    "    \"\"\"\n",
    "    - Recherche les chunks pertinents via FAISS.\n",
    "    - Construit le prompt via le template.\n",
    "    - Appelle Falcon-7B Instruct via LangChain pour générer la réponse.\n",
    "    \"\"\"\n",
    "    docs = docsearch.similarity_search(question, k=top_k)\n",
    "    context_text = \"\\n\".join([d.page_content for d in docs])\n",
    "    nb_mots = len(context_text.split())\n",
    "    final_prompt = prompt_template.format(\n",
    "        context=context_text,\n",
    "        question=question,\n",
    "        nb_mots=nb_mots\n",
    "    )\n",
    "    return local_llm(final_prompt)\n"
   ]
  },
  {
   "cell_type": "markdown",
   "metadata": {},
   "source": [
    "## Tests de la chaîne"
   ]
  },
  {
   "cell_type": "code",
   "execution_count": 15,
   "metadata": {},
   "outputs": [
    {
     "name": "stderr",
     "output_type": "stream",
     "text": [
      "/tmp/ipykernel_5345/2388481464.py:15: LangChainDeprecationWarning: The method `BaseLLM.__call__` was deprecated in langchain-core 0.1.7 and will be removed in 1.0. Use :meth:`~invoke` instead.\n",
      "  return local_llm(final_prompt)\n",
      "/home/kd/Desktop/13_ia_financement/.venv/lib/python3.12/site-packages/transformers/generation/configuration_utils.py:628: UserWarning: `do_sample` is set to `False`. However, `temperature` is set to `0.7` -- this flag is only used in sample-based generation modes. You should set `do_sample=True` or unset `temperature`.\n",
      "  warnings.warn(\n",
      "/home/kd/Desktop/13_ia_financement/.venv/lib/python3.12/site-packages/transformers/generation/configuration_utils.py:633: UserWarning: `do_sample` is set to `False`. However, `top_p` is set to `0.9` -- this flag is only used in sample-based generation modes. You should set `do_sample=True` or unset `top_p`.\n",
      "  warnings.warn(\n",
      "Setting `pad_token_id` to `eos_token_id`:11 for open-end generation.\n"
     ]
    },
    {
     "name": "stdout",
     "output_type": "stream",
     "text": [
      "\n",
      "--- QUESTION (Falcon 7B Instruct) ---\n"
     ]
    },
    {
     "name": "stderr",
     "output_type": "stream",
     "text": [
      "/home/kd/Desktop/13_ia_financement/.venv/lib/python3.12/site-packages/transformers/generation/configuration_utils.py:628: UserWarning: `do_sample` is set to `False`. However, `temperature` is set to `0.7` -- this flag is only used in sample-based generation modes. You should set `do_sample=True` or unset `temperature`.\n",
      "  warnings.warn(\n",
      "/home/kd/Desktop/13_ia_financement/.venv/lib/python3.12/site-packages/transformers/generation/configuration_utils.py:633: UserWarning: `do_sample` is set to `False`. However, `top_p` is set to `0.9` -- this flag is only used in sample-based generation modes. You should set `do_sample=True` or unset `top_p`.\n",
      "  warnings.warn(\n",
      "Setting `pad_token_id` to `eos_token_id`:11 for open-end generation.\n"
     ]
    },
    {
     "name": "stdout",
     "output_type": "stream",
     "text": [
      "Réponse Falcon 7B Instruct : \n",
      "Tu es un assistant expert dans la rédaction de projets ONG et environnementaux.\n",
      "Réponds de manière claire et concise en 2 à 3 phrases maximum.\n",
      "Si le contexte ne contient pas l'information, réponds \"Je ne sais pas\".\n",
      "\n",
      "Contexte (environ 176 mots) :\n",
      "Therefore, PU and its implementing partners will coordinate closely with gender working group at the provincial and district levels to gain more understanding the gender issue, challenge and possible solution in the coastal area. We also try to create gender friendly environment in order to ensure the women has active participation such as identifying the right time for women to participate, separate the women and men group if it will give chance for women to speak, always ask and give chance to women to speak in every meeting. In addition, this project aims to acknowledge the rights of local people in the project by implementing the Free, Prior and Informed Consent (FPIC) on the project. PU and implementing partners will provide information of the project, the risk, the negative and positive impact of the project and let them decide to contribute on the project. By doing this, the project aims to place the local people not as object the project, but the subject of project since they also contribute to design the activities of the project.\n",
      "\n",
      "Question :\n",
      "Décris brièvement le projet :\n",
      "\n",
      "Réponse :\n",
      "\n",
      "The project aims to improve the livelihood of coastal communities in the Mekong Delta by implementing a sustainable and environmentally friendly approach to fisheries and aquaculture development. The project will provide training and technical assistance to local communities to develop and implement sustainable aquaculture practices, and will also work with local authorities to establish a legal framework for the sustainable management of coastal resources. The project will also work with local communities to develop and implement sustainable aquaculture practices, and will also work with local authorities to establish a legal framework for the sustainable management of coastal resources.\n",
      "\n",
      "--- QUESTION (Falcon 7B Instruct Environnement) ---\n",
      "Réponse Falcon 7B Instruct : \n",
      "Tu es un assistant expert dans la rédaction de projets ONG et environnementaux.\n",
      "Réponds de manière claire et concise en 2 à 3 phrases maximum.\n",
      "Si le contexte ne contient pas l'information, réponds \"Je ne sais pas\".\n",
      "\n",
      "Contexte (environ 35 mots) :\n",
      "Development of a list of reference scenarios ( Identification of obstacles, Analysis of obstacles, Determination of reference scenario, Investment analysis Definition of net GHG removals in the reference scenario, Definition and proof of additionality Timeline\n",
      "\n",
      "Question :\n",
      "Quels sont les objectifs environnementaux du projet ?\n",
      "\n",
      "Réponse :\n",
      "Les objectifs environnementaux du projet sont de réduire les émissions de gaz à effet de serre et de protéger les ressources naturelles.\n"
     ]
    }
   ],
   "source": [
    "question_1 = \"Décris brièvement le projet :\"\n",
    "print(\"\\n--- QUESTION (Falcon 7B Instruct) ---\")\n",
    "response_1 = custom_rag_query(question_1, top_k=1)\n",
    "print(\"Réponse Falcon 7B Instruct :\", response_1)\n",
    "\n",
    "question_2 = \"Quels sont les objectifs environnementaux du projet ?\"\n",
    "print(\"\\n--- QUESTION (Falcon 7B Instruct Environnement) ---\")\n",
    "response_2 = custom_rag_query(question_2, top_k=1)\n",
    "print(\"Réponse Falcon 7B Instruct :\", response_2)"
   ]
  },
  {
   "cell_type": "markdown",
   "metadata": {},
   "source": [
    "### Comparaison avec une chaîne RetrievalQA standard"
   ]
  },
  {
   "cell_type": "code",
   "execution_count": null,
   "metadata": {},
   "outputs": [
    {
     "name": "stderr",
     "output_type": "stream",
     "text": [
      "/home/kd/Desktop/13_ia_financement/.venv/lib/python3.12/site-packages/transformers/generation/configuration_utils.py:628: UserWarning: `do_sample` is set to `False`. However, `temperature` is set to `0.7` -- this flag is only used in sample-based generation modes. You should set `do_sample=True` or unset `temperature`.\n",
      "  warnings.warn(\n",
      "/home/kd/Desktop/13_ia_financement/.venv/lib/python3.12/site-packages/transformers/generation/configuration_utils.py:633: UserWarning: `do_sample` is set to `False`. However, `top_p` is set to `0.9` -- this flag is only used in sample-based generation modes. You should set `do_sample=True` or unset `top_p`.\n",
      "  warnings.warn(\n",
      "Setting `pad_token_id` to `eos_token_id`:11 for open-end generation.\n"
     ]
    },
    {
     "name": "stdout",
     "output_type": "stream",
     "text": [
      "\n",
      "--- Comparaison RetrievalQA classique ---\n",
      "Réponse standard : Use the following pieces of context to answer the question at the end. If you don't know the answer, just say that you don't know, don't try to make up an answer.\n",
      "\n",
      "Therefore, PU and its implementing partners will coordinate closely with gender working group at the provincial and district levels to gain more understanding the gender issue, challenge and possible solution in the coastal area. We also try to create gender friendly environment in order to ensure the women has active participation such as identifying the right time for women to participate, separate the women and men group if it will give chance for women to speak, always ask and give chance to women to speak in every meeting. In addition, this project aims to acknowledge the rights of local people in the project by implementing the Free, Prior and Informed Consent (FPIC) on the project. PU and implementing partners will provide information of the project, the risk, the negative and positive impact of the project and let them decide to contribute on the project. By doing this, the project aims to place the local people not as object the project, but the subject of project since they also contribute to design the activities of the project.\n",
      "\n",
      "Question: Décris brièvement le projet :\n",
      "Helpful Answer:\n",
      "Go to this page to learn more about the project.\n"
     ]
    }
   ],
   "source": [
    "from langchain.chains import RetrievalQA\n",
    "qa_chain_standard = RetrievalQA.from_chain_type(\n",
    "    llm=local_llm,\n",
    "    chain_type=\"stuff\",\n",
    "    retriever=docsearch.as_retriever(search_type=\"similarity\", search_kwargs={\"k\": 1})\n",
    ")\n",
    "\n",
    "print(\"\\n--- Comparaison RetrievalQA classique ---\")\n",
    "standard_response = qa_chain_standard.run(question_1)\n",
    "print(\"Réponse standard :\", standard_response)"
   ]
  }
 ],
 "metadata": {
  "kernelspec": {
   "display_name": ".venv",
   "language": "python",
   "name": "python3"
  },
  "language_info": {
   "codemirror_mode": {
    "name": "ipython",
    "version": 3
   },
   "file_extension": ".py",
   "mimetype": "text/x-python",
   "name": "python",
   "nbconvert_exporter": "python",
   "pygments_lexer": "ipython3",
   "version": "3.12.2"
  }
 },
 "nbformat": 4,
 "nbformat_minor": 2
}
